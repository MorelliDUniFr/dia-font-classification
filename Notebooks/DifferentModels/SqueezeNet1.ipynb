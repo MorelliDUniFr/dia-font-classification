{
 "cells": [
  {
   "cell_type": "markdown",
   "source": [
    "# Font Classification with PyTorch and SqueezeNet1\n",
    "In this notebook, we will use the PyTorch deep learning framework to train a SqueezeNet model to classify fonts. We will use the `torchvision` library to load the dataset and the `sklearn` library to evaluate the model using accuracy, precision, recall, F1-score, and the ROC curve. We will also visualize the confusion matrix to understand the model's performance on each class."
   ],
   "metadata": {
    "collapsed": false
   },
   "id": "4ac20b28058858bd"
  },
  {
   "cell_type": "markdown",
   "source": [
    "# Imports\n",
    "Import of the necessary libraries"
   ],
   "metadata": {
    "collapsed": false
   },
   "id": "705740ac830b5b02"
  },
  {
   "cell_type": "code",
   "outputs": [],
   "source": [
    "import numpy as np\n",
    "from torchvision import datasets, transforms\n",
    "from sklearn.metrics import accuracy_score, precision_score, recall_score, f1_score, confusion_matrix\n",
    "import seaborn as sns\n",
    "import matplotlib.pyplot as plt\n",
    "import torch\n",
    "from torchvision import models\n",
    "from torch.utils.data import DataLoader\n",
    "from sklearn.metrics import roc_curve, auc\n",
    "from sklearn.preprocessing import label_binarize\n",
    "import time\n",
    "from sys import platform"
   ],
   "metadata": {
    "collapsed": false,
    "ExecuteTime": {
     "end_time": "2024-04-24T07:49:40.267867Z",
     "start_time": "2024-04-24T07:49:37.715955Z"
    }
   },
   "id": "cd70965188811652",
   "execution_count": 1
  },
  {
   "cell_type": "markdown",
   "source": [
    "# Model choice\n",
    "Choose the model to use for training. In this case, we will use the MobileNetV3 model."
   ],
   "metadata": {
    "collapsed": false
   },
   "id": "89723516c4abb2e6"
  },
  {
   "cell_type": "code",
   "outputs": [
    {
     "name": "stdout",
     "output_type": "stream",
     "text": [
      "Using model: squeezenet1_1\n"
     ]
    }
   ],
   "source": [
    "model_name = 'squeezenet1_1'\n",
    "print(f'Using model: {model_name}')"
   ],
   "metadata": {
    "collapsed": false,
    "ExecuteTime": {
     "end_time": "2024-04-24T07:49:40.283868Z",
     "start_time": "2024-04-24T07:49:40.269869Z"
    }
   },
   "id": "ef4e56728f9785b4",
   "execution_count": 2
  },
  {
   "cell_type": "markdown",
   "source": [
    "# Loading and preparing the dataset\n",
    "Load the dataset and prepare it for training. We will resize the images to a fixed size, convert them to tensors, and normalize the pixel values.\n",
    "\n",
    "## Preprocessing\n",
    "1. Resize the images to a fixed size\n",
    "2. Convert the images to tensors\n",
    "3. Normalize the pixel values"
   ],
   "metadata": {
    "collapsed": false
   },
   "id": "b2dabad339631e94"
  },
  {
   "cell_type": "code",
   "outputs": [],
   "source": [
    "# From the dataset, we know that the images have a height of 32 pixels and a width (on average) of 150 pixels\n",
    "image_height = 32\n",
    "image_width = 150\n",
    "\n",
    "# Define the percentage of the dataset to use for training\n",
    "train_size_perc = 0.7\n",
    "\n",
    "# Set the seed for reproducibility\n",
    "torch.manual_seed(0)\n",
    "\n",
    "# Define transformations for preprocessing\n",
    "transform = transforms.Compose([\n",
    "    transforms.Resize((image_height, image_width)),  # Resize images to a fixed size\n",
    "    transforms.ToTensor(),                           # Convert images to tensors\n",
    "    transforms.Normalize(mean=[0.25, 0.25, 0.25],      # Normalize pixel values\n",
    "                         std=[0.25, 0.25, 0.25])])"
   ],
   "metadata": {
    "collapsed": false,
    "ExecuteTime": {
     "end_time": "2024-04-24T07:49:40.299405Z",
     "start_time": "2024-04-24T07:49:40.284868Z"
    }
   },
   "id": "cdc44275b7dbe9ba",
   "execution_count": 3
  },
  {
   "cell_type": "markdown",
   "source": [
    "## Load the dataset\n",
    "Load the dataset using the `ImageFolder` class from `torchvision`. We will split the dataset into training, validation, and test sets. We will use 70% of the dataset for training, 15% for validation, and 15% for testing."
   ],
   "metadata": {
    "collapsed": false
   },
   "id": "8906c87c81b7569c"
  },
  {
   "cell_type": "code",
   "outputs": [],
   "source": [
    "# Path to the dataset\n",
    "data_dir = '../../fonts'\n",
    "\n",
    "# Notebook scope and type\n",
    "scope = 'DifferentModels'\n",
    "type = ''\n",
    "\n",
    "# Load the dataset using ImageFolder\n",
    "dataset = datasets.ImageFolder(root=data_dir, transform=transform)\n",
    "\n",
    "# Define the sizes of the training, validation, and test sets\n",
    "train_size = int(train_size_perc * len(dataset))  # 70% of the dataset for training\n",
    "val_size = int(((1.0 - train_size_perc)/2) * len(dataset))    # 15% for validation\n",
    "test_size = len(dataset) - train_size - val_size  # Remaining for test (15%)\n",
    "\n",
    "# Split the dataset into training, validation, and test sets\n",
    "train_dataset, val_dataset, test_dataset = torch.utils.data.random_split(\n",
    "    dataset, [train_size, val_size, test_size])\n",
    "\n",
    "# Define the batch size as a percentage of the training set, in this case 1%\n",
    "batch_size = int(train_size * 0.01)\n",
    "\n",
    "# Create data loaders for training, validation, and test sets\n",
    "train_loader = torch.utils.data.DataLoader(train_dataset, batch_size=batch_size, shuffle=True)\n",
    "val_loader = torch.utils.data.DataLoader(val_dataset, batch_size=batch_size, shuffle=True)\n",
    "test_loader = torch.utils.data.DataLoader(test_dataset, batch_size=batch_size, shuffle=False)"
   ],
   "metadata": {
    "collapsed": false,
    "ExecuteTime": {
     "end_time": "2024-04-24T07:49:40.376406Z",
     "start_time": "2024-04-24T07:49:40.300408Z"
    }
   },
   "id": "9d9c8c978a1ebdbd",
   "execution_count": 4
  },
  {
   "cell_type": "markdown",
   "source": [
    "## Dataset information"
   ],
   "metadata": {
    "collapsed": false
   },
   "id": "afdcf3568e6bb0e6"
  },
  {
   "cell_type": "code",
   "outputs": [
    {
     "name": "stdout",
     "output_type": "stream",
     "text": [
      "Number of images: 15000\n",
      "Number of batches: 100\n",
      "Batch size: 105\n",
      "Number of training images: 10500\n",
      "Number of validation images: 2250\n",
      "Number of test images: 2250\n",
      "Class names: ['Algerian', 'Arial', 'Baskerville', 'Calibry', 'Calligraphy', 'Cambria', 'Comic Sans MS', 'Courier', 'Elephant', 'Fascinate', 'Georgia', 'Helvetica', 'Lucida Bright', 'Nasalization', 'Times New Roman']\n"
     ]
    }
   ],
   "source": [
    "num_images = len(dataset)\n",
    "num_batches = len(train_loader)\n",
    "print(f'Number of images: {num_images}')\n",
    "print(f'Number of batches: {num_batches}')\n",
    "print(f'Batch size: {batch_size}')\n",
    "print(f'Number of training images: {len(train_dataset)}')\n",
    "print(f'Number of validation images: {len(val_dataset)}')\n",
    "print(f'Number of test images: {len(test_dataset)}')\n",
    "\n",
    "# Get the class names\n",
    "class_names = dataset.classes\n",
    "print(f'Class names: {class_names}')"
   ],
   "metadata": {
    "collapsed": false,
    "ExecuteTime": {
     "end_time": "2024-04-24T07:49:40.391406Z",
     "start_time": "2024-04-24T07:49:40.378407Z"
    }
   },
   "id": "1975b1b1848ca2ac",
   "execution_count": 5
  },
  {
   "cell_type": "markdown",
   "source": [
    "# Loading the model\n",
    "Load the SqueezeNet model and move it to the device (CPU or GPU)."
   ],
   "metadata": {
    "collapsed": false
   },
   "id": "bd836b0d47a237ba"
  },
  {
   "cell_type": "code",
   "outputs": [
    {
     "name": "stdout",
     "output_type": "stream",
     "text": [
      "Model moved to cpu\n"
     ]
    }
   ],
   "source": [
    "# Load the model and replace the fully connected layer\n",
    "model = models.__dict__[model_name](weights=None)\n",
    "\n",
    "# Move model to the device (CPU or GPU)\n",
    "if platform != \"win32\":\n",
    "    device = torch.device('mps' if torch.backends.mps.is_available() else 'cpu')\n",
    "else:\n",
    "    device = torch.device('gpu' if torch.cuda.is_available() else 'cpu')\n",
    "model = model.to(device)\n",
    "print(f'Model moved to {device}')"
   ],
   "metadata": {
    "collapsed": false,
    "ExecuteTime": {
     "end_time": "2024-04-24T07:49:40.422406Z",
     "start_time": "2024-04-24T07:49:40.392406Z"
    }
   },
   "id": "8e9ad926f379fab5",
   "execution_count": 6
  },
  {
   "cell_type": "markdown",
   "source": [
    "# Training the model\n",
    "Train the model using the training set and validate it using the validation set. We will use the Adam optimizer and the CrossEntropy loss function. We will save the model with the lowest validation loss."
   ],
   "metadata": {
    "collapsed": false
   },
   "id": "eebc3e7a492ce85"
  },
  {
   "cell_type": "code",
   "outputs": [
    {
     "name": "stdout",
     "output_type": "stream",
     "text": [
      "Epoch 1\n",
      "-------------------------------\n",
      "Training - Epoch [1/60], Step [10/100], Loss: 3.2153\n",
      "Training - Epoch [1/60], Step [20/100], Loss: 2.8818\n",
      "Training - Epoch [1/60], Step [30/100], Loss: 2.8417\n",
      "Training - Epoch [1/60], Step [40/100], Loss: 2.7938\n",
      "Training - Epoch [1/60], Step [50/100], Loss: 2.9485\n",
      "Training - Epoch [1/60], Step [60/100], Loss: 2.8259\n",
      "Training - Epoch [1/60], Step [70/100], Loss: 2.7604\n",
      "Training - Epoch [1/60], Step [80/100], Loss: 2.9429\n",
      "Training - Epoch [1/60], Step [90/100], Loss: 2.9176\n",
      "Training - Epoch [1/60], Step [100/100], Loss: 2.8605\n",
      "Validation - Epoch [1/60], Loss: 2.8313, Accuracy: 0.0613\n",
      "Model saved as squeezenet1_1_font_classifier_.pth\n",
      "Epoch 2\n",
      "-------------------------------\n",
      "Training - Epoch [2/60], Step [10/100], Loss: 2.8549\n",
      "Training - Epoch [2/60], Step [20/100], Loss: 2.7864\n",
      "Training - Epoch [2/60], Step [30/100], Loss: 2.8013\n",
      "Training - Epoch [2/60], Step [40/100], Loss: 2.8263\n",
      "Training - Epoch [2/60], Step [50/100], Loss: 2.7953\n",
      "Training - Epoch [2/60], Step [60/100], Loss: 2.7777\n",
      "Training - Epoch [2/60], Step [70/100], Loss: 2.7122\n",
      "Training - Epoch [2/60], Step [80/100], Loss: 2.8243\n",
      "Training - Epoch [2/60], Step [90/100], Loss: 2.7790\n",
      "Training - Epoch [2/60], Step [100/100], Loss: 2.7721\n",
      "Validation - Epoch [2/60], Loss: 2.7511, Accuracy: 0.0711\n",
      "Model saved as squeezenet1_1_font_classifier_.pth\n",
      "Epoch 3\n",
      "-------------------------------\n",
      "Training - Epoch [3/60], Step [10/100], Loss: 2.7904\n",
      "Training - Epoch [3/60], Step [20/100], Loss: 2.8080\n",
      "Training - Epoch [3/60], Step [30/100], Loss: 2.7637\n",
      "Training - Epoch [3/60], Step [40/100], Loss: 2.8032\n",
      "Training - Epoch [3/60], Step [50/100], Loss: 2.7299\n",
      "Training - Epoch [3/60], Step [60/100], Loss: 2.7731\n",
      "Training - Epoch [3/60], Step [70/100], Loss: 2.7270\n",
      "Training - Epoch [3/60], Step [80/100], Loss: 2.8889\n",
      "Training - Epoch [3/60], Step [90/100], Loss: 2.8344\n",
      "Training - Epoch [3/60], Step [100/100], Loss: 2.8449\n",
      "Validation - Epoch [3/60], Loss: 2.8022, Accuracy: 0.0587\n",
      "Epoch 4\n",
      "-------------------------------\n",
      "Training - Epoch [4/60], Step [10/100], Loss: 2.8153\n",
      "Training - Epoch [4/60], Step [20/100], Loss: 2.7386\n",
      "Training - Epoch [4/60], Step [30/100], Loss: 2.7076\n",
      "Training - Epoch [4/60], Step [40/100], Loss: 2.7106\n",
      "Training - Epoch [4/60], Step [50/100], Loss: 2.7597\n",
      "Training - Epoch [4/60], Step [60/100], Loss: 2.7964\n",
      "Training - Epoch [4/60], Step [70/100], Loss: 2.7565\n",
      "Training - Epoch [4/60], Step [80/100], Loss: 2.6003\n",
      "Training - Epoch [4/60], Step [90/100], Loss: 2.5333\n",
      "Training - Epoch [4/60], Step [100/100], Loss: 2.3909\n",
      "Validation - Epoch [4/60], Loss: 2.4024, Accuracy: 0.1782\n",
      "Model saved as squeezenet1_1_font_classifier_.pth\n",
      "Epoch 5\n",
      "-------------------------------\n",
      "Training - Epoch [5/60], Step [10/100], Loss: 2.5015\n",
      "Training - Epoch [5/60], Step [20/100], Loss: 2.3323\n",
      "Training - Epoch [5/60], Step [30/100], Loss: 2.0317\n",
      "Training - Epoch [5/60], Step [40/100], Loss: 2.3462\n",
      "Training - Epoch [5/60], Step [50/100], Loss: 2.2115\n",
      "Training - Epoch [5/60], Step [60/100], Loss: 1.9716\n",
      "Training - Epoch [5/60], Step [70/100], Loss: 2.1356\n",
      "Training - Epoch [5/60], Step [80/100], Loss: 2.4819\n",
      "Training - Epoch [5/60], Step [90/100], Loss: 2.0214\n",
      "Training - Epoch [5/60], Step [100/100], Loss: 1.9665\n",
      "Validation - Epoch [5/60], Loss: 2.0368, Accuracy: 0.2444\n",
      "Model saved as squeezenet1_1_font_classifier_.pth\n",
      "Epoch 6\n",
      "-------------------------------\n",
      "Training - Epoch [6/60], Step [10/100], Loss: 1.9682\n",
      "Training - Epoch [6/60], Step [20/100], Loss: 1.8750\n",
      "Training - Epoch [6/60], Step [30/100], Loss: 1.7933\n",
      "Training - Epoch [6/60], Step [40/100], Loss: 1.6314\n",
      "Training - Epoch [6/60], Step [50/100], Loss: 1.7393\n",
      "Training - Epoch [6/60], Step [60/100], Loss: 1.5997\n",
      "Training - Epoch [6/60], Step [70/100], Loss: 1.4696\n",
      "Training - Epoch [6/60], Step [80/100], Loss: 1.7811\n",
      "Training - Epoch [6/60], Step [90/100], Loss: 1.3783\n",
      "Training - Epoch [6/60], Step [100/100], Loss: 1.5535\n",
      "Validation - Epoch [6/60], Loss: 1.3771, Accuracy: 0.4547\n",
      "Model saved as squeezenet1_1_font_classifier_.pth\n",
      "Epoch 7\n",
      "-------------------------------\n",
      "Training - Epoch [7/60], Step [10/100], Loss: 1.6962\n",
      "Training - Epoch [7/60], Step [20/100], Loss: 1.3714\n",
      "Training - Epoch [7/60], Step [30/100], Loss: 1.1655\n",
      "Training - Epoch [7/60], Step [40/100], Loss: 1.1388\n",
      "Training - Epoch [7/60], Step [50/100], Loss: 1.1148\n",
      "Training - Epoch [7/60], Step [60/100], Loss: 1.1595\n",
      "Training - Epoch [7/60], Step [70/100], Loss: 1.2495\n",
      "Training - Epoch [7/60], Step [80/100], Loss: 1.1031\n",
      "Training - Epoch [7/60], Step [90/100], Loss: 1.3011\n",
      "Training - Epoch [7/60], Step [100/100], Loss: 0.9380\n",
      "Validation - Epoch [7/60], Loss: 1.0292, Accuracy: 0.6022\n",
      "Model saved as squeezenet1_1_font_classifier_.pth\n",
      "Epoch 8\n",
      "-------------------------------\n",
      "Training - Epoch [8/60], Step [10/100], Loss: 1.0871\n",
      "Training - Epoch [8/60], Step [20/100], Loss: 0.9787\n",
      "Training - Epoch [8/60], Step [30/100], Loss: 1.1769\n",
      "Training - Epoch [8/60], Step [40/100], Loss: 0.9309\n",
      "Training - Epoch [8/60], Step [50/100], Loss: 0.6638\n",
      "Training - Epoch [8/60], Step [60/100], Loss: 1.2005\n",
      "Training - Epoch [8/60], Step [70/100], Loss: 0.6766\n",
      "Training - Epoch [8/60], Step [80/100], Loss: 0.7469\n",
      "Training - Epoch [8/60], Step [90/100], Loss: 0.9224\n",
      "Training - Epoch [8/60], Step [100/100], Loss: 0.9513\n",
      "Validation - Epoch [8/60], Loss: 0.9394, Accuracy: 0.6320\n",
      "Model saved as squeezenet1_1_font_classifier_.pth\n",
      "Epoch 9\n",
      "-------------------------------\n",
      "Training - Epoch [9/60], Step [10/100], Loss: 0.8635\n",
      "Training - Epoch [9/60], Step [20/100], Loss: 0.7140\n",
      "Training - Epoch [9/60], Step [30/100], Loss: 0.6133\n",
      "Training - Epoch [9/60], Step [40/100], Loss: 0.6500\n",
      "Training - Epoch [9/60], Step [50/100], Loss: 0.8089\n",
      "Training - Epoch [9/60], Step [60/100], Loss: 1.0974\n",
      "Training - Epoch [9/60], Step [70/100], Loss: 0.7088\n",
      "Training - Epoch [9/60], Step [80/100], Loss: 0.8198\n",
      "Training - Epoch [9/60], Step [90/100], Loss: 0.6413\n",
      "Training - Epoch [9/60], Step [100/100], Loss: 1.0103\n",
      "Validation - Epoch [9/60], Loss: 0.6921, Accuracy: 0.7276\n",
      "Model saved as squeezenet1_1_font_classifier_.pth\n",
      "Epoch 10\n",
      "-------------------------------\n",
      "Training - Epoch [10/60], Step [10/100], Loss: 0.6539\n",
      "Training - Epoch [10/60], Step [20/100], Loss: 0.6794\n",
      "Training - Epoch [10/60], Step [30/100], Loss: 0.5699\n",
      "Training - Epoch [10/60], Step [40/100], Loss: 0.6623\n",
      "Training - Epoch [10/60], Step [50/100], Loss: 0.7116\n",
      "Training - Epoch [10/60], Step [60/100], Loss: 0.7556\n",
      "Training - Epoch [10/60], Step [70/100], Loss: 0.4894\n",
      "Training - Epoch [10/60], Step [80/100], Loss: 0.6642\n",
      "Training - Epoch [10/60], Step [90/100], Loss: 0.6167\n",
      "Training - Epoch [10/60], Step [100/100], Loss: 0.8937\n",
      "Validation - Epoch [10/60], Loss: 0.6581, Accuracy: 0.7396\n",
      "Model saved as squeezenet1_1_font_classifier_.pth\n",
      "Epoch 11\n",
      "-------------------------------\n",
      "Training - Epoch [11/60], Step [10/100], Loss: 0.5639\n",
      "Training - Epoch [11/60], Step [20/100], Loss: 0.5319\n",
      "Training - Epoch [11/60], Step [30/100], Loss: 0.5423\n",
      "Training - Epoch [11/60], Step [40/100], Loss: 0.4184\n",
      "Training - Epoch [11/60], Step [50/100], Loss: 0.6049\n",
      "Training - Epoch [11/60], Step [60/100], Loss: 0.5831\n",
      "Training - Epoch [11/60], Step [70/100], Loss: 0.5555\n",
      "Training - Epoch [11/60], Step [80/100], Loss: 0.4756\n",
      "Training - Epoch [11/60], Step [90/100], Loss: 0.5403\n",
      "Training - Epoch [11/60], Step [100/100], Loss: 0.6078\n",
      "Validation - Epoch [11/60], Loss: 0.6298, Accuracy: 0.7596\n",
      "Model saved as squeezenet1_1_font_classifier_.pth\n",
      "Epoch 12\n",
      "-------------------------------\n",
      "Training - Epoch [12/60], Step [10/100], Loss: 0.6425\n",
      "Training - Epoch [12/60], Step [20/100], Loss: 0.3528\n",
      "Training - Epoch [12/60], Step [30/100], Loss: 0.4564\n",
      "Training - Epoch [12/60], Step [40/100], Loss: 0.5055\n",
      "Training - Epoch [12/60], Step [50/100], Loss: 0.5832\n",
      "Training - Epoch [12/60], Step [60/100], Loss: 0.5189\n",
      "Training - Epoch [12/60], Step [70/100], Loss: 0.4386\n",
      "Training - Epoch [12/60], Step [80/100], Loss: 0.3699\n",
      "Training - Epoch [12/60], Step [90/100], Loss: 0.4704\n",
      "Training - Epoch [12/60], Step [100/100], Loss: 0.4064\n",
      "Validation - Epoch [12/60], Loss: 0.5294, Accuracy: 0.7960\n",
      "Model saved as squeezenet1_1_font_classifier_.pth\n",
      "Epoch 13\n",
      "-------------------------------\n",
      "Training - Epoch [13/60], Step [10/100], Loss: 0.2852\n",
      "Training - Epoch [13/60], Step [20/100], Loss: 0.2717\n",
      "Training - Epoch [13/60], Step [30/100], Loss: 0.2460\n",
      "Training - Epoch [13/60], Step [40/100], Loss: 0.5333\n",
      "Training - Epoch [13/60], Step [50/100], Loss: 0.4262\n",
      "Training - Epoch [13/60], Step [60/100], Loss: 0.3993\n",
      "Training - Epoch [13/60], Step [70/100], Loss: 0.4445\n",
      "Training - Epoch [13/60], Step [80/100], Loss: 0.5216\n",
      "Training - Epoch [13/60], Step [90/100], Loss: 0.4633\n",
      "Training - Epoch [13/60], Step [100/100], Loss: 0.5522\n",
      "Validation - Epoch [13/60], Loss: 0.4229, Accuracy: 0.8418\n",
      "Model saved as squeezenet1_1_font_classifier_.pth\n",
      "Epoch 14\n",
      "-------------------------------\n",
      "Training - Epoch [14/60], Step [10/100], Loss: 0.4664\n",
      "Training - Epoch [14/60], Step [20/100], Loss: 0.3289\n",
      "Training - Epoch [14/60], Step [30/100], Loss: 0.2804\n",
      "Training - Epoch [14/60], Step [40/100], Loss: 0.5585\n",
      "Training - Epoch [14/60], Step [50/100], Loss: 0.5023\n",
      "Training - Epoch [14/60], Step [60/100], Loss: 0.3414\n",
      "Training - Epoch [14/60], Step [70/100], Loss: 0.3481\n",
      "Training - Epoch [14/60], Step [80/100], Loss: 0.4880\n",
      "Training - Epoch [14/60], Step [90/100], Loss: 0.3414\n",
      "Training - Epoch [14/60], Step [100/100], Loss: 0.4763\n",
      "Validation - Epoch [14/60], Loss: 0.3791, Accuracy: 0.8613\n",
      "Model saved as squeezenet1_1_font_classifier_.pth\n",
      "Epoch 15\n",
      "-------------------------------\n",
      "Training - Epoch [15/60], Step [10/100], Loss: 0.4604\n",
      "Training - Epoch [15/60], Step [20/100], Loss: 0.3047\n",
      "Training - Epoch [15/60], Step [30/100], Loss: 0.4026\n",
      "Training - Epoch [15/60], Step [40/100], Loss: 0.3955\n",
      "Training - Epoch [15/60], Step [50/100], Loss: 0.2488\n",
      "Training - Epoch [15/60], Step [60/100], Loss: 0.5527\n",
      "Training - Epoch [15/60], Step [70/100], Loss: 0.4232\n",
      "Training - Epoch [15/60], Step [80/100], Loss: 0.4049\n",
      "Training - Epoch [15/60], Step [90/100], Loss: 0.3108\n",
      "Training - Epoch [15/60], Step [100/100], Loss: 0.2559\n",
      "Validation - Epoch [15/60], Loss: 0.3310, Accuracy: 0.8733\n",
      "Model saved as squeezenet1_1_font_classifier_.pth\n",
      "Epoch 16\n",
      "-------------------------------\n",
      "Training - Epoch [16/60], Step [10/100], Loss: 0.4025\n",
      "Training - Epoch [16/60], Step [20/100], Loss: 0.2538\n",
      "Training - Epoch [16/60], Step [30/100], Loss: 0.3743\n",
      "Training - Epoch [16/60], Step [40/100], Loss: 0.2567\n",
      "Training - Epoch [16/60], Step [50/100], Loss: 0.2862\n",
      "Training - Epoch [16/60], Step [60/100], Loss: 0.2838\n",
      "Training - Epoch [16/60], Step [70/100], Loss: 0.2172\n",
      "Training - Epoch [16/60], Step [80/100], Loss: 0.2368\n",
      "Training - Epoch [16/60], Step [90/100], Loss: 0.1892\n",
      "Training - Epoch [16/60], Step [100/100], Loss: 0.1561\n",
      "Validation - Epoch [16/60], Loss: 0.3172, Accuracy: 0.8800\n",
      "Model saved as squeezenet1_1_font_classifier_.pth\n",
      "Epoch 17\n",
      "-------------------------------\n",
      "Training - Epoch [17/60], Step [10/100], Loss: 0.2885\n",
      "Training - Epoch [17/60], Step [20/100], Loss: 0.1768\n",
      "Training - Epoch [17/60], Step [30/100], Loss: 0.4726\n",
      "Training - Epoch [17/60], Step [40/100], Loss: 0.4476\n",
      "Training - Epoch [17/60], Step [50/100], Loss: 0.3081\n",
      "Training - Epoch [17/60], Step [60/100], Loss: 0.2399\n",
      "Training - Epoch [17/60], Step [70/100], Loss: 0.1691\n",
      "Training - Epoch [17/60], Step [80/100], Loss: 0.2131\n",
      "Training - Epoch [17/60], Step [90/100], Loss: 0.1553\n",
      "Training - Epoch [17/60], Step [100/100], Loss: 0.2985\n",
      "Validation - Epoch [17/60], Loss: 0.3469, Accuracy: 0.8760\n",
      "Epoch 18\n",
      "-------------------------------\n",
      "Training - Epoch [18/60], Step [10/100], Loss: 0.2764\n",
      "Training - Epoch [18/60], Step [20/100], Loss: 0.1452\n",
      "Training - Epoch [18/60], Step [30/100], Loss: 0.3252\n",
      "Training - Epoch [18/60], Step [40/100], Loss: 0.2633\n",
      "Training - Epoch [18/60], Step [50/100], Loss: 0.2558\n",
      "Training - Epoch [18/60], Step [60/100], Loss: 0.2102\n",
      "Training - Epoch [18/60], Step [70/100], Loss: 0.3216\n",
      "Training - Epoch [18/60], Step [80/100], Loss: 0.2030\n",
      "Training - Epoch [18/60], Step [90/100], Loss: 0.2721\n",
      "Training - Epoch [18/60], Step [100/100], Loss: 0.1892\n",
      "Validation - Epoch [18/60], Loss: 0.3431, Accuracy: 0.8676\n",
      "Epoch 19\n",
      "-------------------------------\n",
      "Training - Epoch [19/60], Step [10/100], Loss: 0.2264\n",
      "Training - Epoch [19/60], Step [20/100], Loss: 0.2287\n",
      "Training - Epoch [19/60], Step [30/100], Loss: 0.2419\n",
      "Training - Epoch [19/60], Step [40/100], Loss: 0.2293\n",
      "Training - Epoch [19/60], Step [50/100], Loss: 0.2476\n",
      "Training - Epoch [19/60], Step [60/100], Loss: 0.2757\n",
      "Training - Epoch [19/60], Step [70/100], Loss: 0.2134\n",
      "Training - Epoch [19/60], Step [80/100], Loss: 0.2071\n",
      "Training - Epoch [19/60], Step [90/100], Loss: 0.2123\n",
      "Training - Epoch [19/60], Step [100/100], Loss: 0.2589\n",
      "Validation - Epoch [19/60], Loss: 0.3009, Accuracy: 0.8889\n",
      "Model saved as squeezenet1_1_font_classifier_.pth\n",
      "Epoch 20\n",
      "-------------------------------\n",
      "Training - Epoch [20/60], Step [10/100], Loss: 0.2274\n",
      "Training - Epoch [20/60], Step [20/100], Loss: 0.1787\n",
      "Training - Epoch [20/60], Step [30/100], Loss: 0.1856\n",
      "Training - Epoch [20/60], Step [40/100], Loss: 0.3528\n",
      "Training - Epoch [20/60], Step [50/100], Loss: 0.1633\n",
      "Training - Epoch [20/60], Step [60/100], Loss: 0.1987\n",
      "Training - Epoch [20/60], Step [70/100], Loss: 0.2157\n",
      "Training - Epoch [20/60], Step [80/100], Loss: 0.3647\n",
      "Training - Epoch [20/60], Step [90/100], Loss: 0.2807\n",
      "Training - Epoch [20/60], Step [100/100], Loss: 0.1984\n",
      "Validation - Epoch [20/60], Loss: 0.3237, Accuracy: 0.8804\n",
      "Epoch 21\n",
      "-------------------------------\n",
      "Training - Epoch [21/60], Step [10/100], Loss: 0.2125\n",
      "Training - Epoch [21/60], Step [20/100], Loss: 0.2079\n",
      "Training - Epoch [21/60], Step [30/100], Loss: 0.2016\n",
      "Training - Epoch [21/60], Step [40/100], Loss: 0.2237\n",
      "Training - Epoch [21/60], Step [50/100], Loss: 0.1401\n",
      "Training - Epoch [21/60], Step [60/100], Loss: 0.1562\n",
      "Training - Epoch [21/60], Step [70/100], Loss: 0.1145\n",
      "Training - Epoch [21/60], Step [80/100], Loss: 0.0823\n",
      "Training - Epoch [21/60], Step [90/100], Loss: 0.1514\n",
      "Training - Epoch [21/60], Step [100/100], Loss: 0.1562\n",
      "Validation - Epoch [21/60], Loss: 0.2790, Accuracy: 0.9076\n",
      "Model saved as squeezenet1_1_font_classifier_.pth\n",
      "Epoch 22\n",
      "-------------------------------\n",
      "Training - Epoch [22/60], Step [10/100], Loss: 0.1206\n",
      "Training - Epoch [22/60], Step [20/100], Loss: 0.2640\n",
      "Training - Epoch [22/60], Step [30/100], Loss: 0.3174\n",
      "Training - Epoch [22/60], Step [40/100], Loss: 0.3131\n",
      "Training - Epoch [22/60], Step [50/100], Loss: 0.2611\n",
      "Training - Epoch [22/60], Step [60/100], Loss: 0.2543\n",
      "Training - Epoch [22/60], Step [70/100], Loss: 0.3866\n",
      "Training - Epoch [22/60], Step [80/100], Loss: 0.3708\n",
      "Training - Epoch [22/60], Step [90/100], Loss: 0.1958\n",
      "Training - Epoch [22/60], Step [100/100], Loss: 0.2719\n",
      "Validation - Epoch [22/60], Loss: 0.2676, Accuracy: 0.9080\n",
      "Model saved as squeezenet1_1_font_classifier_.pth\n",
      "Epoch 23\n",
      "-------------------------------\n",
      "Training - Epoch [23/60], Step [10/100], Loss: 0.2518\n",
      "Training - Epoch [23/60], Step [20/100], Loss: 0.1086\n",
      "Training - Epoch [23/60], Step [30/100], Loss: 0.1000\n",
      "Training - Epoch [23/60], Step [40/100], Loss: 0.1761\n",
      "Training - Epoch [23/60], Step [50/100], Loss: 0.2318\n",
      "Training - Epoch [23/60], Step [60/100], Loss: 0.4526\n",
      "Training - Epoch [23/60], Step [70/100], Loss: 0.2338\n",
      "Training - Epoch [23/60], Step [80/100], Loss: 0.1769\n",
      "Training - Epoch [23/60], Step [90/100], Loss: 0.2580\n",
      "Training - Epoch [23/60], Step [100/100], Loss: 0.1439\n",
      "Validation - Epoch [23/60], Loss: 0.2246, Accuracy: 0.9267\n",
      "Model saved as squeezenet1_1_font_classifier_.pth\n",
      "Epoch 24\n",
      "-------------------------------\n",
      "Training - Epoch [24/60], Step [10/100], Loss: 0.0543\n",
      "Training - Epoch [24/60], Step [20/100], Loss: 0.1127\n",
      "Training - Epoch [24/60], Step [30/100], Loss: 0.1912\n",
      "Training - Epoch [24/60], Step [40/100], Loss: 0.2540\n",
      "Training - Epoch [24/60], Step [50/100], Loss: 0.1043\n",
      "Training - Epoch [24/60], Step [60/100], Loss: 0.1978\n",
      "Training - Epoch [24/60], Step [70/100], Loss: 0.1663\n",
      "Training - Epoch [24/60], Step [80/100], Loss: 0.1961\n",
      "Training - Epoch [24/60], Step [90/100], Loss: 0.1159\n",
      "Training - Epoch [24/60], Step [100/100], Loss: 0.2186\n",
      "Validation - Epoch [24/60], Loss: 0.2182, Accuracy: 0.9298\n",
      "Model saved as squeezenet1_1_font_classifier_.pth\n",
      "Epoch 25\n",
      "-------------------------------\n",
      "Training - Epoch [25/60], Step [10/100], Loss: 0.0969\n",
      "Training - Epoch [25/60], Step [20/100], Loss: 0.0406\n",
      "Training - Epoch [25/60], Step [30/100], Loss: 0.1521\n",
      "Training - Epoch [25/60], Step [40/100], Loss: 0.2015\n",
      "Training - Epoch [25/60], Step [50/100], Loss: 0.1140\n",
      "Training - Epoch [25/60], Step [60/100], Loss: 0.1416\n",
      "Training - Epoch [25/60], Step [70/100], Loss: 0.0868\n",
      "Training - Epoch [25/60], Step [80/100], Loss: 0.1572\n",
      "Training - Epoch [25/60], Step [90/100], Loss: 0.1563\n",
      "Training - Epoch [25/60], Step [100/100], Loss: 0.1236\n",
      "Validation - Epoch [25/60], Loss: 0.1877, Accuracy: 0.9382\n",
      "Model saved as squeezenet1_1_font_classifier_.pth\n",
      "Epoch 26\n",
      "-------------------------------\n",
      "Training - Epoch [26/60], Step [10/100], Loss: 0.1644\n",
      "Training - Epoch [26/60], Step [20/100], Loss: 0.0744\n",
      "Training - Epoch [26/60], Step [30/100], Loss: 0.2682\n",
      "Training - Epoch [26/60], Step [40/100], Loss: 0.2340\n",
      "Training - Epoch [26/60], Step [50/100], Loss: 0.2635\n",
      "Training - Epoch [26/60], Step [60/100], Loss: 0.3448\n",
      "Training - Epoch [26/60], Step [70/100], Loss: 0.1242\n",
      "Training - Epoch [26/60], Step [80/100], Loss: 0.1326\n",
      "Training - Epoch [26/60], Step [90/100], Loss: 0.1576\n",
      "Training - Epoch [26/60], Step [100/100], Loss: 0.1126\n",
      "Validation - Epoch [26/60], Loss: 0.2891, Accuracy: 0.9111\n",
      "Epoch 27\n",
      "-------------------------------\n",
      "Training - Epoch [27/60], Step [10/100], Loss: 0.1197\n",
      "Training - Epoch [27/60], Step [20/100], Loss: 0.0871\n",
      "Training - Epoch [27/60], Step [30/100], Loss: 0.0813\n",
      "Training - Epoch [27/60], Step [40/100], Loss: 0.1293\n",
      "Training - Epoch [27/60], Step [50/100], Loss: 0.1177\n",
      "Training - Epoch [27/60], Step [60/100], Loss: 0.0979\n",
      "Training - Epoch [27/60], Step [70/100], Loss: 0.2622\n",
      "Training - Epoch [27/60], Step [80/100], Loss: 0.1589\n",
      "Training - Epoch [27/60], Step [90/100], Loss: 0.2672\n",
      "Training - Epoch [27/60], Step [100/100], Loss: 0.2054\n",
      "Validation - Epoch [27/60], Loss: 0.2266, Accuracy: 0.9258\n",
      "Epoch 28\n",
      "-------------------------------\n",
      "Training - Epoch [28/60], Step [10/100], Loss: 0.1316\n",
      "Training - Epoch [28/60], Step [20/100], Loss: 0.1935\n",
      "Training - Epoch [28/60], Step [30/100], Loss: 0.2840\n",
      "Training - Epoch [28/60], Step [40/100], Loss: 0.0910\n",
      "Training - Epoch [28/60], Step [50/100], Loss: 0.0865\n",
      "Training - Epoch [28/60], Step [60/100], Loss: 0.0689\n",
      "Training - Epoch [28/60], Step [70/100], Loss: 0.3853\n",
      "Training - Epoch [28/60], Step [80/100], Loss: 0.2207\n",
      "Training - Epoch [28/60], Step [90/100], Loss: 0.1600\n",
      "Training - Epoch [28/60], Step [100/100], Loss: 0.1181\n",
      "Validation - Epoch [28/60], Loss: 0.1936, Accuracy: 0.9444\n",
      "Epoch 29\n",
      "-------------------------------\n",
      "Training - Epoch [29/60], Step [10/100], Loss: 0.0979\n",
      "Training - Epoch [29/60], Step [20/100], Loss: 0.0593\n",
      "Training - Epoch [29/60], Step [30/100], Loss: 0.2235\n",
      "Training - Epoch [29/60], Step [40/100], Loss: 0.1037\n",
      "Training - Epoch [29/60], Step [50/100], Loss: 0.0277\n",
      "Training - Epoch [29/60], Step [60/100], Loss: 0.0662\n",
      "Training - Epoch [29/60], Step [70/100], Loss: 0.1507\n",
      "Training - Epoch [29/60], Step [80/100], Loss: 0.0651\n",
      "Training - Epoch [29/60], Step [90/100], Loss: 0.0507\n",
      "Training - Epoch [29/60], Step [100/100], Loss: 0.1423\n",
      "Validation - Epoch [29/60], Loss: 0.2439, Accuracy: 0.9293\n",
      "Epoch 30\n",
      "-------------------------------\n",
      "Training - Epoch [30/60], Step [10/100], Loss: 0.2116\n",
      "Training - Epoch [30/60], Step [20/100], Loss: 0.0588\n",
      "Training - Epoch [30/60], Step [30/100], Loss: 0.0632\n",
      "Training - Epoch [30/60], Step [40/100], Loss: 0.1276\n",
      "Training - Epoch [30/60], Step [50/100], Loss: 0.1230\n",
      "Training - Epoch [30/60], Step [60/100], Loss: 0.1170\n",
      "Training - Epoch [30/60], Step [70/100], Loss: 0.1147\n",
      "Training - Epoch [30/60], Step [80/100], Loss: 0.1780\n",
      "Training - Epoch [30/60], Step [90/100], Loss: 0.0368\n",
      "Training - Epoch [30/60], Step [100/100], Loss: 0.1011\n",
      "Validation - Epoch [30/60], Loss: 0.1608, Accuracy: 0.9511\n",
      "Model saved as squeezenet1_1_font_classifier_.pth\n",
      "Epoch 31\n",
      "-------------------------------\n",
      "Training - Epoch [31/60], Step [10/100], Loss: 0.0408\n",
      "Training - Epoch [31/60], Step [20/100], Loss: 0.1318\n",
      "Training - Epoch [31/60], Step [30/100], Loss: 0.1175\n",
      "Training - Epoch [31/60], Step [40/100], Loss: 0.1497\n",
      "Training - Epoch [31/60], Step [50/100], Loss: 0.0611\n",
      "Training - Epoch [31/60], Step [60/100], Loss: 0.0946\n",
      "Training - Epoch [31/60], Step [70/100], Loss: 0.0437\n",
      "Training - Epoch [31/60], Step [80/100], Loss: 0.1894\n",
      "Training - Epoch [31/60], Step [90/100], Loss: 0.0177\n",
      "Training - Epoch [31/60], Step [100/100], Loss: 0.0633\n",
      "Validation - Epoch [31/60], Loss: 0.1866, Accuracy: 0.9413\n",
      "Epoch 32\n",
      "-------------------------------\n",
      "Training - Epoch [32/60], Step [10/100], Loss: 0.0680\n",
      "Training - Epoch [32/60], Step [20/100], Loss: 0.1352\n",
      "Training - Epoch [32/60], Step [30/100], Loss: 0.1379\n",
      "Training - Epoch [32/60], Step [40/100], Loss: 0.2326\n",
      "Training - Epoch [32/60], Step [50/100], Loss: 0.2123\n",
      "Training - Epoch [32/60], Step [60/100], Loss: 0.3073\n",
      "Training - Epoch [32/60], Step [70/100], Loss: 0.1257\n",
      "Training - Epoch [32/60], Step [80/100], Loss: 0.1676\n",
      "Training - Epoch [32/60], Step [90/100], Loss: 0.0875\n",
      "Training - Epoch [32/60], Step [100/100], Loss: 0.0845\n",
      "Validation - Epoch [32/60], Loss: 0.1713, Accuracy: 0.9453\n",
      "Epoch 33\n",
      "-------------------------------\n",
      "Training - Epoch [33/60], Step [10/100], Loss: 0.0527\n",
      "Training - Epoch [33/60], Step [20/100], Loss: 0.0473\n",
      "Training - Epoch [33/60], Step [30/100], Loss: 0.0284\n",
      "Training - Epoch [33/60], Step [40/100], Loss: 0.1380\n",
      "Training - Epoch [33/60], Step [50/100], Loss: 0.0376\n",
      "Training - Epoch [33/60], Step [60/100], Loss: 0.0891\n",
      "Training - Epoch [33/60], Step [70/100], Loss: 0.1121\n",
      "Training - Epoch [33/60], Step [80/100], Loss: 0.1431\n",
      "Training - Epoch [33/60], Step [90/100], Loss: 0.2456\n",
      "Training - Epoch [33/60], Step [100/100], Loss: 0.1593\n",
      "Validation - Epoch [33/60], Loss: 0.1964, Accuracy: 0.9396\n",
      "Epoch 34\n",
      "-------------------------------\n",
      "Training - Epoch [34/60], Step [10/100], Loss: 0.0957\n",
      "Training - Epoch [34/60], Step [20/100], Loss: 0.0605\n",
      "Training - Epoch [34/60], Step [30/100], Loss: 0.1116\n",
      "Training - Epoch [34/60], Step [40/100], Loss: 0.1079\n",
      "Training - Epoch [34/60], Step [50/100], Loss: 0.1000\n",
      "Training - Epoch [34/60], Step [60/100], Loss: 0.0409\n",
      "Training - Epoch [34/60], Step [70/100], Loss: 0.0519\n",
      "Training - Epoch [34/60], Step [80/100], Loss: 0.1680\n",
      "Training - Epoch [34/60], Step [90/100], Loss: 0.0240\n",
      "Training - Epoch [34/60], Step [100/100], Loss: 0.1426\n",
      "Validation - Epoch [34/60], Loss: 0.1856, Accuracy: 0.9511\n",
      "Epoch 35\n",
      "-------------------------------\n",
      "Training - Epoch [35/60], Step [10/100], Loss: 0.0393\n",
      "Training - Epoch [35/60], Step [20/100], Loss: 0.0299\n",
      "Training - Epoch [35/60], Step [30/100], Loss: 0.0637\n",
      "Training - Epoch [35/60], Step [40/100], Loss: 0.0601\n",
      "Training - Epoch [35/60], Step [50/100], Loss: 0.0992\n",
      "Training - Epoch [35/60], Step [60/100], Loss: 0.1713\n",
      "Training - Epoch [35/60], Step [70/100], Loss: 0.0342\n",
      "Training - Epoch [35/60], Step [80/100], Loss: 0.0864\n",
      "Training - Epoch [35/60], Step [90/100], Loss: 0.0846\n",
      "Training - Epoch [35/60], Step [100/100], Loss: 0.0884\n",
      "Validation - Epoch [35/60], Loss: 0.1699, Accuracy: 0.9516\n",
      "Epoch 36\n",
      "-------------------------------\n",
      "Training - Epoch [36/60], Step [10/100], Loss: 0.0601\n",
      "Training - Epoch [36/60], Step [20/100], Loss: 0.0718\n",
      "Training - Epoch [36/60], Step [30/100], Loss: 0.0178\n",
      "Training - Epoch [36/60], Step [40/100], Loss: 0.1195\n",
      "Training - Epoch [36/60], Step [50/100], Loss: 0.0433\n",
      "Training - Epoch [36/60], Step [60/100], Loss: 0.0951\n",
      "Training - Epoch [36/60], Step [70/100], Loss: 0.0867\n",
      "Training - Epoch [36/60], Step [80/100], Loss: 0.0839\n",
      "Training - Epoch [36/60], Step [90/100], Loss: 0.0816\n",
      "Training - Epoch [36/60], Step [100/100], Loss: 0.0222\n",
      "Validation - Epoch [36/60], Loss: 0.2326, Accuracy: 0.9293\n",
      "Epoch 37\n",
      "-------------------------------\n",
      "Training - Epoch [37/60], Step [10/100], Loss: 0.1426\n",
      "Training - Epoch [37/60], Step [20/100], Loss: 0.0856\n",
      "Training - Epoch [37/60], Step [30/100], Loss: 0.2126\n",
      "Training - Epoch [37/60], Step [40/100], Loss: 0.0238\n",
      "Training - Epoch [37/60], Step [50/100], Loss: 0.0460\n",
      "Training - Epoch [37/60], Step [60/100], Loss: 0.1700\n",
      "Training - Epoch [37/60], Step [70/100], Loss: 0.1708\n",
      "Training - Epoch [37/60], Step [80/100], Loss: 0.1310\n",
      "Training - Epoch [37/60], Step [90/100], Loss: 0.0787\n",
      "Training - Epoch [37/60], Step [100/100], Loss: 0.0967\n",
      "Validation - Epoch [37/60], Loss: 0.1569, Accuracy: 0.9484\n",
      "Model saved as squeezenet1_1_font_classifier_.pth\n",
      "Epoch 38\n",
      "-------------------------------\n",
      "Training - Epoch [38/60], Step [10/100], Loss: 0.0156\n",
      "Training - Epoch [38/60], Step [20/100], Loss: 0.0958\n",
      "Training - Epoch [38/60], Step [30/100], Loss: 0.1183\n",
      "Training - Epoch [38/60], Step [40/100], Loss: 0.2926\n",
      "Training - Epoch [38/60], Step [50/100], Loss: 0.0877\n",
      "Training - Epoch [38/60], Step [60/100], Loss: 0.0975\n",
      "Training - Epoch [38/60], Step [70/100], Loss: 0.1006\n",
      "Training - Epoch [38/60], Step [80/100], Loss: 0.0658\n",
      "Training - Epoch [38/60], Step [90/100], Loss: 0.2240\n",
      "Training - Epoch [38/60], Step [100/100], Loss: 0.0125\n",
      "Validation - Epoch [38/60], Loss: 0.1373, Accuracy: 0.9569\n",
      "Model saved as squeezenet1_1_font_classifier_.pth\n",
      "Epoch 39\n",
      "-------------------------------\n",
      "Training - Epoch [39/60], Step [10/100], Loss: 0.0461\n",
      "Training - Epoch [39/60], Step [20/100], Loss: 0.1166\n",
      "Training - Epoch [39/60], Step [30/100], Loss: 0.0167\n",
      "Training - Epoch [39/60], Step [40/100], Loss: 0.0299\n",
      "Training - Epoch [39/60], Step [50/100], Loss: 0.0989\n",
      "Training - Epoch [39/60], Step [60/100], Loss: 0.0558\n",
      "Training - Epoch [39/60], Step [70/100], Loss: 0.0494\n",
      "Training - Epoch [39/60], Step [80/100], Loss: 0.0293\n",
      "Training - Epoch [39/60], Step [90/100], Loss: 0.0075\n",
      "Training - Epoch [39/60], Step [100/100], Loss: 0.0228\n",
      "Validation - Epoch [39/60], Loss: 0.1227, Accuracy: 0.9671\n",
      "Model saved as squeezenet1_1_font_classifier_.pth\n",
      "Epoch 40\n",
      "-------------------------------\n",
      "Training - Epoch [40/60], Step [10/100], Loss: 0.0514\n",
      "Training - Epoch [40/60], Step [20/100], Loss: 0.5894\n",
      "Training - Epoch [40/60], Step [30/100], Loss: 0.2268\n",
      "Training - Epoch [40/60], Step [40/100], Loss: 0.1871\n",
      "Training - Epoch [40/60], Step [50/100], Loss: 0.2586\n",
      "Training - Epoch [40/60], Step [60/100], Loss: 0.1267\n",
      "Training - Epoch [40/60], Step [70/100], Loss: 0.1381\n",
      "Training - Epoch [40/60], Step [80/100], Loss: 0.1487\n",
      "Training - Epoch [40/60], Step [90/100], Loss: 0.1175\n",
      "Training - Epoch [40/60], Step [100/100], Loss: 0.2291\n",
      "Validation - Epoch [40/60], Loss: 0.1908, Accuracy: 0.9489\n",
      "Epoch 41\n",
      "-------------------------------\n",
      "Training - Epoch [41/60], Step [10/100], Loss: 0.1109\n",
      "Training - Epoch [41/60], Step [20/100], Loss: 0.1491\n",
      "Training - Epoch [41/60], Step [30/100], Loss: 0.1264\n",
      "Training - Epoch [41/60], Step [40/100], Loss: 0.1040\n",
      "Training - Epoch [41/60], Step [50/100], Loss: 0.0906\n",
      "Training - Epoch [41/60], Step [60/100], Loss: 0.3534\n",
      "Training - Epoch [41/60], Step [70/100], Loss: 0.0526\n",
      "Training - Epoch [41/60], Step [80/100], Loss: 0.1018\n",
      "Training - Epoch [41/60], Step [90/100], Loss: 0.2404\n",
      "Training - Epoch [41/60], Step [100/100], Loss: 0.0903\n",
      "Validation - Epoch [41/60], Loss: 0.1656, Accuracy: 0.9516\n",
      "Epoch 42\n",
      "-------------------------------\n",
      "Training - Epoch [42/60], Step [10/100], Loss: 0.1572\n",
      "Training - Epoch [42/60], Step [20/100], Loss: 0.0949\n",
      "Training - Epoch [42/60], Step [30/100], Loss: 0.0940\n",
      "Training - Epoch [42/60], Step [40/100], Loss: 0.0146\n",
      "Training - Epoch [42/60], Step [50/100], Loss: 0.0628\n",
      "Training - Epoch [42/60], Step [60/100], Loss: 0.0334\n",
      "Training - Epoch [42/60], Step [70/100], Loss: 0.2406\n",
      "Training - Epoch [42/60], Step [80/100], Loss: 0.0449\n",
      "Training - Epoch [42/60], Step [90/100], Loss: 0.2636\n",
      "Training - Epoch [42/60], Step [100/100], Loss: 0.1063\n",
      "Validation - Epoch [42/60], Loss: 0.1212, Accuracy: 0.9591\n",
      "Model saved as squeezenet1_1_font_classifier_.pth\n",
      "Epoch 43\n",
      "-------------------------------\n",
      "Training - Epoch [43/60], Step [10/100], Loss: 0.1349\n",
      "Training - Epoch [43/60], Step [20/100], Loss: 0.1292\n",
      "Training - Epoch [43/60], Step [30/100], Loss: 0.1737\n",
      "Training - Epoch [43/60], Step [40/100], Loss: 0.1691\n",
      "Training - Epoch [43/60], Step [50/100], Loss: 0.0960\n",
      "Training - Epoch [43/60], Step [60/100], Loss: 0.0652\n",
      "Training - Epoch [43/60], Step [70/100], Loss: 0.0585\n",
      "Training - Epoch [43/60], Step [80/100], Loss: 0.0724\n",
      "Training - Epoch [43/60], Step [90/100], Loss: 0.0791\n",
      "Training - Epoch [43/60], Step [100/100], Loss: 0.0993\n",
      "Validation - Epoch [43/60], Loss: 0.1818, Accuracy: 0.9547\n",
      "Epoch 44\n",
      "-------------------------------\n",
      "Training - Epoch [44/60], Step [10/100], Loss: 0.0517\n",
      "Training - Epoch [44/60], Step [20/100], Loss: 0.0175\n",
      "Training - Epoch [44/60], Step [30/100], Loss: 0.0365\n",
      "Training - Epoch [44/60], Step [40/100], Loss: 0.0182\n",
      "Training - Epoch [44/60], Step [50/100], Loss: 0.0173\n",
      "Training - Epoch [44/60], Step [60/100], Loss: 0.0716\n",
      "Training - Epoch [44/60], Step [70/100], Loss: 0.1580\n",
      "Training - Epoch [44/60], Step [80/100], Loss: 0.0212\n",
      "Training - Epoch [44/60], Step [90/100], Loss: 0.1203\n",
      "Training - Epoch [44/60], Step [100/100], Loss: 0.0514\n",
      "Validation - Epoch [44/60], Loss: 0.2167, Accuracy: 0.9462\n",
      "Epoch 45\n",
      "-------------------------------\n",
      "Training - Epoch [45/60], Step [10/100], Loss: 0.0478\n",
      "Training - Epoch [45/60], Step [20/100], Loss: 0.1392\n",
      "Training - Epoch [45/60], Step [30/100], Loss: 0.0825\n",
      "Training - Epoch [45/60], Step [40/100], Loss: 0.0541\n",
      "Training - Epoch [45/60], Step [50/100], Loss: 0.0860\n",
      "Training - Epoch [45/60], Step [60/100], Loss: 0.0150\n",
      "Training - Epoch [45/60], Step [70/100], Loss: 0.0375\n",
      "Training - Epoch [45/60], Step [80/100], Loss: 0.1595\n",
      "Training - Epoch [45/60], Step [90/100], Loss: 0.0528\n",
      "Training - Epoch [45/60], Step [100/100], Loss: 0.0625\n",
      "Validation - Epoch [45/60], Loss: 0.3562, Accuracy: 0.9156\n",
      "Epoch 46\n",
      "-------------------------------\n",
      "Training - Epoch [46/60], Step [10/100], Loss: 0.1675\n",
      "Training - Epoch [46/60], Step [20/100], Loss: 0.0757\n",
      "Training - Epoch [46/60], Step [30/100], Loss: 0.0354\n",
      "Training - Epoch [46/60], Step [40/100], Loss: 0.0500\n",
      "Training - Epoch [46/60], Step [50/100], Loss: 0.0316\n",
      "Training - Epoch [46/60], Step [60/100], Loss: 0.0783\n",
      "Training - Epoch [46/60], Step [70/100], Loss: 0.1088\n",
      "Training - Epoch [46/60], Step [80/100], Loss: 0.1003\n",
      "Training - Epoch [46/60], Step [90/100], Loss: 0.1336\n",
      "Training - Epoch [46/60], Step [100/100], Loss: 0.2086\n",
      "Validation - Epoch [46/60], Loss: 0.1992, Accuracy: 0.9440\n",
      "Epoch 47\n",
      "-------------------------------\n",
      "Training - Epoch [47/60], Step [10/100], Loss: 0.0768\n",
      "Training - Epoch [47/60], Step [20/100], Loss: 0.0974\n",
      "Training - Epoch [47/60], Step [30/100], Loss: 0.2318\n",
      "Training - Epoch [47/60], Step [40/100], Loss: 0.0547\n",
      "Training - Epoch [47/60], Step [50/100], Loss: 0.0291\n",
      "Training - Epoch [47/60], Step [60/100], Loss: 0.0283\n",
      "Training - Epoch [47/60], Step [70/100], Loss: 0.0113\n",
      "Training - Epoch [47/60], Step [80/100], Loss: 0.0568\n",
      "Training - Epoch [47/60], Step [90/100], Loss: 0.0384\n",
      "Training - Epoch [47/60], Step [100/100], Loss: 0.0254\n",
      "Validation - Epoch [47/60], Loss: 0.1922, Accuracy: 0.9444\n",
      "Epoch 48\n",
      "-------------------------------\n",
      "Training - Epoch [48/60], Step [10/100], Loss: 0.1624\n",
      "Training - Epoch [48/60], Step [20/100], Loss: 0.0299\n",
      "Training - Epoch [48/60], Step [30/100], Loss: 0.2217\n",
      "Training - Epoch [48/60], Step [40/100], Loss: 0.0397\n",
      "Training - Epoch [48/60], Step [50/100], Loss: 0.1099\n",
      "Training - Epoch [48/60], Step [60/100], Loss: 0.1042\n",
      "Training - Epoch [48/60], Step [70/100], Loss: 0.1186\n",
      "Training - Epoch [48/60], Step [80/100], Loss: 0.1213\n",
      "Training - Epoch [48/60], Step [90/100], Loss: 0.0944\n",
      "Training - Epoch [48/60], Step [100/100], Loss: 0.1293\n",
      "Validation - Epoch [48/60], Loss: 0.1539, Accuracy: 0.9573\n",
      "Epoch 49\n",
      "-------------------------------\n",
      "Training - Epoch [49/60], Step [10/100], Loss: 0.0237\n",
      "Training - Epoch [49/60], Step [20/100], Loss: 0.0964\n",
      "Training - Epoch [49/60], Step [30/100], Loss: 0.0085\n",
      "Training - Epoch [49/60], Step [40/100], Loss: 0.1017\n",
      "Training - Epoch [49/60], Step [50/100], Loss: 0.0671\n",
      "Training - Epoch [49/60], Step [60/100], Loss: 0.0681\n",
      "Training - Epoch [49/60], Step [70/100], Loss: 0.0593\n",
      "Training - Epoch [49/60], Step [80/100], Loss: 0.1045\n",
      "Training - Epoch [49/60], Step [90/100], Loss: 0.0138\n",
      "Training - Epoch [49/60], Step [100/100], Loss: 0.0293\n",
      "Validation - Epoch [49/60], Loss: 0.1072, Accuracy: 0.9684\n",
      "Model saved as squeezenet1_1_font_classifier_.pth\n",
      "Epoch 50\n",
      "-------------------------------\n",
      "Training - Epoch [50/60], Step [10/100], Loss: 0.0233\n",
      "Training - Epoch [50/60], Step [20/100], Loss: 0.0299\n",
      "Training - Epoch [50/60], Step [30/100], Loss: 0.0443\n",
      "Training - Epoch [50/60], Step [40/100], Loss: 0.0671\n",
      "Training - Epoch [50/60], Step [50/100], Loss: 0.1178\n",
      "Training - Epoch [50/60], Step [60/100], Loss: 0.0722\n",
      "Training - Epoch [50/60], Step [70/100], Loss: 0.0814\n",
      "Training - Epoch [50/60], Step [80/100], Loss: 0.0126\n",
      "Training - Epoch [50/60], Step [90/100], Loss: 0.0324\n",
      "Training - Epoch [50/60], Step [100/100], Loss: 0.1135\n",
      "Validation - Epoch [50/60], Loss: 0.1364, Accuracy: 0.9582\n",
      "Epoch 51\n",
      "-------------------------------\n",
      "Training - Epoch [51/60], Step [10/100], Loss: 0.0331\n",
      "Training - Epoch [51/60], Step [20/100], Loss: 0.0119\n",
      "Training - Epoch [51/60], Step [30/100], Loss: 0.0489\n",
      "Training - Epoch [51/60], Step [40/100], Loss: 0.0625\n",
      "Training - Epoch [51/60], Step [50/100], Loss: 0.1372\n",
      "Training - Epoch [51/60], Step [60/100], Loss: 0.1312\n",
      "Training - Epoch [51/60], Step [70/100], Loss: 0.0421\n",
      "Training - Epoch [51/60], Step [80/100], Loss: 0.0121\n",
      "Training - Epoch [51/60], Step [90/100], Loss: 0.1103\n",
      "Training - Epoch [51/60], Step [100/100], Loss: 0.1097\n",
      "Validation - Epoch [51/60], Loss: 0.1223, Accuracy: 0.9658\n",
      "Epoch 52\n",
      "-------------------------------\n",
      "Training - Epoch [52/60], Step [10/100], Loss: 0.0279\n",
      "Training - Epoch [52/60], Step [20/100], Loss: 0.1544\n",
      "Training - Epoch [52/60], Step [30/100], Loss: 0.0548\n",
      "Training - Epoch [52/60], Step [40/100], Loss: 0.1317\n",
      "Training - Epoch [52/60], Step [50/100], Loss: 0.0302\n",
      "Training - Epoch [52/60], Step [60/100], Loss: 0.0186\n",
      "Training - Epoch [52/60], Step [70/100], Loss: 0.0932\n",
      "Training - Epoch [52/60], Step [80/100], Loss: 0.2105\n",
      "Training - Epoch [52/60], Step [90/100], Loss: 0.0324\n",
      "Training - Epoch [52/60], Step [100/100], Loss: 0.3339\n",
      "Validation - Epoch [52/60], Loss: 0.2036, Accuracy: 0.9391\n",
      "Epoch 53\n",
      "-------------------------------\n",
      "Training - Epoch [53/60], Step [10/100], Loss: 0.0383\n",
      "Training - Epoch [53/60], Step [20/100], Loss: 0.0355\n",
      "Training - Epoch [53/60], Step [30/100], Loss: 0.0599\n",
      "Training - Epoch [53/60], Step [40/100], Loss: 0.0161\n",
      "Training - Epoch [53/60], Step [50/100], Loss: 0.0340\n",
      "Training - Epoch [53/60], Step [60/100], Loss: 0.0510\n",
      "Training - Epoch [53/60], Step [70/100], Loss: 0.0086\n",
      "Training - Epoch [53/60], Step [80/100], Loss: 0.0748\n",
      "Training - Epoch [53/60], Step [90/100], Loss: 0.1274\n",
      "Training - Epoch [53/60], Step [100/100], Loss: 0.1174\n",
      "Validation - Epoch [53/60], Loss: 0.1658, Accuracy: 0.9449\n",
      "Epoch 54\n",
      "-------------------------------\n",
      "Training - Epoch [54/60], Step [10/100], Loss: 0.1399\n",
      "Training - Epoch [54/60], Step [20/100], Loss: 0.0607\n",
      "Training - Epoch [54/60], Step [30/100], Loss: 0.0780\n",
      "Training - Epoch [54/60], Step [40/100], Loss: 0.0101\n",
      "Training - Epoch [54/60], Step [50/100], Loss: 0.0293\n",
      "Training - Epoch [54/60], Step [60/100], Loss: 0.0859\n",
      "Training - Epoch [54/60], Step [70/100], Loss: 0.0833\n",
      "Training - Epoch [54/60], Step [80/100], Loss: 0.0400\n",
      "Training - Epoch [54/60], Step [90/100], Loss: 0.0286\n",
      "Training - Epoch [54/60], Step [100/100], Loss: 0.0686\n",
      "Validation - Epoch [54/60], Loss: 0.1321, Accuracy: 0.9560\n",
      "Epoch 55\n",
      "-------------------------------\n",
      "Training - Epoch [55/60], Step [10/100], Loss: 0.0365\n",
      "Training - Epoch [55/60], Step [20/100], Loss: 0.0178\n",
      "Training - Epoch [55/60], Step [30/100], Loss: 0.0077\n",
      "Training - Epoch [55/60], Step [40/100], Loss: 0.0354\n",
      "Training - Epoch [55/60], Step [50/100], Loss: 0.0335\n",
      "Training - Epoch [55/60], Step [60/100], Loss: 0.0824\n",
      "Training - Epoch [55/60], Step [70/100], Loss: 0.0013\n",
      "Training - Epoch [55/60], Step [80/100], Loss: 0.2727\n",
      "Training - Epoch [55/60], Step [90/100], Loss: 0.0677\n",
      "Training - Epoch [55/60], Step [100/100], Loss: 0.0647\n",
      "Validation - Epoch [55/60], Loss: 0.1530, Accuracy: 0.9556\n",
      "Epoch 56\n",
      "-------------------------------\n",
      "Training - Epoch [56/60], Step [10/100], Loss: 0.2692\n",
      "Training - Epoch [56/60], Step [20/100], Loss: 0.1234\n",
      "Training - Epoch [56/60], Step [30/100], Loss: 0.1805\n",
      "Training - Epoch [56/60], Step [40/100], Loss: 0.0975\n",
      "Training - Epoch [56/60], Step [50/100], Loss: 0.1254\n",
      "Training - Epoch [56/60], Step [60/100], Loss: 0.1203\n",
      "Training - Epoch [56/60], Step [70/100], Loss: 0.1122\n",
      "Training - Epoch [56/60], Step [80/100], Loss: 0.0252\n",
      "Training - Epoch [56/60], Step [90/100], Loss: 0.0331\n",
      "Training - Epoch [56/60], Step [100/100], Loss: 0.0451\n",
      "Validation - Epoch [56/60], Loss: 0.1274, Accuracy: 0.9640\n",
      "Epoch 57\n",
      "-------------------------------\n",
      "Training - Epoch [57/60], Step [10/100], Loss: 0.0157\n",
      "Training - Epoch [57/60], Step [20/100], Loss: 0.1276\n",
      "Training - Epoch [57/60], Step [30/100], Loss: 0.0941\n",
      "Training - Epoch [57/60], Step [40/100], Loss: 0.0577\n",
      "Training - Epoch [57/60], Step [50/100], Loss: 0.0764\n",
      "Training - Epoch [57/60], Step [60/100], Loss: 0.0340\n",
      "Training - Epoch [57/60], Step [70/100], Loss: 0.0354\n",
      "Training - Epoch [57/60], Step [80/100], Loss: 0.0830\n",
      "Training - Epoch [57/60], Step [90/100], Loss: 0.0424\n",
      "Training - Epoch [57/60], Step [100/100], Loss: 0.0050\n",
      "Validation - Epoch [57/60], Loss: 0.1174, Accuracy: 0.9698\n",
      "Epoch 58\n",
      "-------------------------------\n",
      "Training - Epoch [58/60], Step [10/100], Loss: 0.0023\n",
      "Training - Epoch [58/60], Step [20/100], Loss: 0.0729\n",
      "Training - Epoch [58/60], Step [30/100], Loss: 0.0921\n",
      "Training - Epoch [58/60], Step [40/100], Loss: 0.0382\n",
      "Training - Epoch [58/60], Step [50/100], Loss: 0.1344\n",
      "Training - Epoch [58/60], Step [60/100], Loss: 0.0233\n",
      "Training - Epoch [58/60], Step [70/100], Loss: 0.0433\n",
      "Training - Epoch [58/60], Step [80/100], Loss: 0.0419\n",
      "Training - Epoch [58/60], Step [90/100], Loss: 0.1521\n",
      "Training - Epoch [58/60], Step [100/100], Loss: 0.0231\n",
      "Validation - Epoch [58/60], Loss: 0.1337, Accuracy: 0.9622\n",
      "Epoch 59\n",
      "-------------------------------\n",
      "Training - Epoch [59/60], Step [10/100], Loss: 0.0036\n",
      "Training - Epoch [59/60], Step [20/100], Loss: 0.0576\n",
      "Training - Epoch [59/60], Step [30/100], Loss: 0.0316\n",
      "Training - Epoch [59/60], Step [40/100], Loss: 0.0338\n",
      "Training - Epoch [59/60], Step [50/100], Loss: 0.0174\n",
      "Training - Epoch [59/60], Step [60/100], Loss: 0.0749\n",
      "Training - Epoch [59/60], Step [70/100], Loss: 0.0331\n",
      "Training - Epoch [59/60], Step [80/100], Loss: 0.0259\n",
      "Training - Epoch [59/60], Step [90/100], Loss: 0.0315\n",
      "Training - Epoch [59/60], Step [100/100], Loss: 0.0115\n",
      "Validation - Epoch [59/60], Loss: 0.0970, Accuracy: 0.9724\n",
      "Model saved as squeezenet1_1_font_classifier_.pth\n",
      "Epoch 60\n",
      "-------------------------------\n",
      "Training - Epoch [60/60], Step [10/100], Loss: 0.0064\n",
      "Training - Epoch [60/60], Step [20/100], Loss: 0.0257\n",
      "Training - Epoch [60/60], Step [30/100], Loss: 0.0036\n",
      "Training - Epoch [60/60], Step [40/100], Loss: 0.0572\n",
      "Training - Epoch [60/60], Step [50/100], Loss: 0.0497\n",
      "Training - Epoch [60/60], Step [60/100], Loss: 0.0152\n",
      "Training - Epoch [60/60], Step [70/100], Loss: 0.0163\n",
      "Training - Epoch [60/60], Step [80/100], Loss: 0.0679\n",
      "Training - Epoch [60/60], Step [90/100], Loss: 0.0449\n",
      "Training - Epoch [60/60], Step [100/100], Loss: 0.0876\n",
      "Validation - Epoch [60/60], Loss: 0.1398, Accuracy: 0.9644\n"
     ]
    }
   ],
   "source": [
    "# Define the loss function\n",
    "criterion = torch.nn.CrossEntropyLoss()\n",
    "\n",
    "# Define the optimizer\n",
    "optimizer = torch.optim.Adam(model.parameters(), lr=0.001)\n",
    "\n",
    "# Training loop\n",
    "num_epochs = 60\n",
    "best_val_loss = float('inf')\n",
    "\n",
    "# Lists to store training and validation metrics for plotting\n",
    "train_losses = []\n",
    "train_accuracies = []\n",
    "val_losses = []\n",
    "val_accuracies = []\n",
    "\n",
    "# Set the model to training mode\n",
    "model.train()\n",
    "\n",
    "# Start the training loop\n",
    "start_time = time.time()\n",
    "for epoch in range(num_epochs):\n",
    "    print(f'Epoch {epoch + 1}\\n-------------------------------')\n",
    "    # Training phase\n",
    "    model.train()\n",
    "    train_loss = 0.0\n",
    "    correct_train = 0\n",
    "    total_train = 0\n",
    "    for i, (inputs, labels) in enumerate(train_loader):\n",
    "        inputs = inputs.to(device)\n",
    "        labels = labels.to(device)\n",
    "\n",
    "        # Forward pass\n",
    "        outputs = model(inputs)\n",
    "        loss = criterion(outputs, labels)\n",
    "\n",
    "        # Backward pass\n",
    "        optimizer.zero_grad()\n",
    "        loss.backward()\n",
    "        optimizer.step()\n",
    "\n",
    "        train_loss += loss.item() * inputs.size(0)\n",
    "        \n",
    "        # Calculate accuracy\n",
    "        _, predicted = torch.max(outputs, 1)\n",
    "        total_train += labels.size(0)\n",
    "        correct_train += (predicted == labels).sum().item()\n",
    "\n",
    "        # Print training statistics\n",
    "        if (i + 1) % 10 == 0:\n",
    "            print(f'Training - Epoch [{epoch + 1}/{num_epochs}], Step [{i + 1}/{len(train_loader)}], Loss: {loss.item():.4f}')\n",
    "\n",
    "    # Calculate average training loss and accuracy\n",
    "    train_loss /= len(train_loader.dataset)\n",
    "    train_accuracy = correct_train / total_train\n",
    "    train_losses.append(train_loss)\n",
    "    train_accuracies.append(train_accuracy)\n",
    "    \n",
    "    # Validation phase\n",
    "    model.eval()\n",
    "    val_loss = 0.0\n",
    "    correct_val = 0\n",
    "    total_val = 0\n",
    "    with torch.no_grad():\n",
    "        for i, (inputs, labels) in enumerate(val_loader):\n",
    "            inputs = inputs.to(device)\n",
    "            labels = labels.to(device)\n",
    "\n",
    "            # Forward pass\n",
    "            outputs = model(inputs)\n",
    "            loss = criterion(outputs, labels)\n",
    "\n",
    "            val_loss += loss.item() * inputs.size(0)\n",
    "\n",
    "            # Calculate accuracy\n",
    "            _, predicted = torch.max(outputs, 1)\n",
    "            total_val += labels.size(0)\n",
    "            correct_val += (predicted == labels).sum().item()\n",
    "\n",
    "    # Print validation statistics\n",
    "    val_loss /= len(val_loader.dataset)\n",
    "    val_accuracy = correct_val / total_val\n",
    "    val_losses.append(val_loss)\n",
    "    val_accuracies.append(val_accuracy)\n",
    "    print(f'Validation - Epoch [{epoch + 1}/{num_epochs}], Loss: {val_loss:.4f}, Accuracy: {val_accuracy:.4f}')\n",
    "\n",
    "    # Save the model if validation loss decreases\n",
    "    if val_loss < best_val_loss:\n",
    "        best_val_loss = val_loss\n",
    "        torch.save(model.state_dict(), f'../../models/{scope}/{model_name}_font_classifier_{type}.pth')\n",
    "        print(f'Model saved as {model_name}_font_classifier_{type}.pth')\n",
    "\n",
    "end_time = time.time()"
   ],
   "metadata": {
    "collapsed": false,
    "ExecuteTime": {
     "end_time": "2024-04-24T08:18:08.775065Z",
     "start_time": "2024-04-24T07:49:40.424407Z"
    }
   },
   "id": "126f35f98051a02a",
   "execution_count": 7
  },
  {
   "cell_type": "markdown",
   "source": [
    "# Plot the training and validation metrics"
   ],
   "metadata": {
    "collapsed": false
   },
   "id": "2f8d840ac9117197"
  },
  {
   "cell_type": "code",
   "outputs": [
    {
     "data": {
      "text/plain": "<Figure size 1200x500 with 2 Axes>",
      "image/png": "[encoded data removed]"
     },
     "metadata": {},
     "output_type": "display_data"
    },
    {
     "name": "stdout",
     "output_type": "stream",
     "text": [
      "Finished Training\n",
      "Time taken for training: 1708.33 seconds\n",
      "Medium time per epoch: 28.47 seconds\n"
     ]
    }
   ],
   "source": [
    "# Plotting\n",
    "plt.figure(figsize=(12, 5))\n",
    "plt.subplot(1, 2, 1)\n",
    "plt.plot(range(1, num_epochs + 1), train_losses, label='Training Loss')\n",
    "plt.plot(range(1, num_epochs + 1), val_losses, label='Validation Loss')\n",
    "plt.xlabel('Epochs')\n",
    "plt.ylabel('Loss')\n",
    "plt.title('Training and Validation Loss')\n",
    "plt.legend()\n",
    "\n",
    "plt.subplot(1, 2, 2)\n",
    "plt.plot(range(1, num_epochs + 1), train_accuracies, label='Training Accuracy')\n",
    "plt.plot(range(1, num_epochs + 1), val_accuracies, label='Validation Accuracy')\n",
    "plt.xlabel('Epochs')\n",
    "plt.ylabel('Accuracy')\n",
    "plt.title('Training and Validation Accuracy')\n",
    "plt.legend()\n",
    "\n",
    "plt.tight_layout()\n",
    "plt.show()\n",
    "\n",
    "print('Finished Training')\n",
    "\n",
    "# Print the time taken for training\n",
    "print(f'Time taken for training: {end_time - start_time:.2f} seconds')\n",
    "## Print medium time per epoch\n",
    "print(f'Medium time per epoch: {(end_time - start_time)/num_epochs:.2f} seconds')"
   ],
   "metadata": {
    "collapsed": false,
    "ExecuteTime": {
     "end_time": "2024-04-24T08:18:09.156067Z",
     "start_time": "2024-04-24T08:18:08.777066Z"
    }
   },
   "id": "2fb4051fe48bcb0f",
   "execution_count": 8
  },
  {
   "cell_type": "markdown",
   "source": [
    "# Evaluate the model"
   ],
   "metadata": {
    "collapsed": false
   },
   "id": "5d1120839a43965"
  },
  {
   "cell_type": "markdown",
   "source": [
    "## Load the model"
   ],
   "metadata": {
    "collapsed": false
   },
   "id": "f38ec7e7c9fc2bd2"
  },
  {
   "cell_type": "code",
   "outputs": [
    {
     "name": "stdout",
     "output_type": "stream",
     "text": [
      "Model loaded from ../../models/DifferentModels/squeezenet1_1_font_classifier_.pth\n"
     ]
    }
   ],
   "source": [
    "# Load the model\n",
    "model_path = f'../../models/{scope}/{model_name}_font_classifier_{type}.pth'\n",
    "model = models.__dict__[model_name](weights=None)\n",
    "model.load_state_dict(torch.load(model_path))\n",
    "model = model.to(device)\n",
    "print(f'Model loaded from {model_path}')"
   ],
   "metadata": {
    "collapsed": false,
    "ExecuteTime": {
     "end_time": "2024-04-24T08:18:09.187067Z",
     "start_time": "2024-04-24T08:18:09.157067Z"
    }
   },
   "id": "2d59abb3cc4d4ab1",
   "execution_count": 9
  },
  {
   "cell_type": "markdown",
   "source": [
    "## Evaluate the model\n",
    "Evaluate the model using the test set. We will compute the accuracy, precision, recall, F1-score, confusion matrix, and ROC curve."
   ],
   "metadata": {
    "collapsed": false
   },
   "id": "c4fb0a8cc4c7aaaf"
  },
  {
   "cell_type": "code",
   "outputs": [],
   "source": [
    "# Set the model to evaluation mode\n",
    "model.eval()\n",
    "\n",
    "# Initialize lists for true labels and predicted labels\n",
    "true_labels = []\n",
    "predicted_labels = []\n",
    "\n",
    "# Disable gradient computation for evaluation\n",
    "with torch.no_grad():\n",
    "    for images, labels in test_loader:\n",
    "        images = images.to(device)\n",
    "        labels = labels.to(device)\n",
    "\n",
    "        # Perform inference\n",
    "        outputs = model(images)\n",
    "        \n",
    "        # Compute predicted labels\n",
    "        _, predicted = torch.max(outputs.data, 1)\n",
    "        \n",
    "        # Append true and predicted labels to lists\n",
    "        true_labels.extend(labels.cpu().numpy())\n",
    "        predicted_labels.extend(predicted.cpu().numpy())\n",
    "\n",
    "# Convert lists to numpy arrays\n",
    "true_labels = np.array(true_labels)\n",
    "predicted_labels = np.array(predicted_labels)"
   ],
   "metadata": {
    "collapsed": false,
    "ExecuteTime": {
     "end_time": "2024-04-24T08:18:12.116162Z",
     "start_time": "2024-04-24T08:18:09.188066Z"
    }
   },
   "id": "d94dccfec1ca328d",
   "execution_count": 10
  },
  {
   "cell_type": "markdown",
   "source": [
    "## Compute metrics\n",
    "### Accuracy"
   ],
   "metadata": {
    "collapsed": false
   },
   "id": "7fc2137e6729efa2"
  },
  {
   "cell_type": "code",
   "outputs": [
    {
     "name": "stdout",
     "output_type": "stream",
     "text": [
      "Accuracy: 97.02%\n"
     ]
    }
   ],
   "source": [
    "accuracy = accuracy_score(true_labels, predicted_labels)\n",
    "print('Accuracy: {:.2f}%'.format(100 * accuracy))"
   ],
   "metadata": {
    "collapsed": false,
    "ExecuteTime": {
     "end_time": "2024-04-24T08:18:12.131162Z",
     "start_time": "2024-04-24T08:18:12.117164Z"
    }
   },
   "id": "101581d76f4e9326",
   "execution_count": 11
  },
  {
   "cell_type": "markdown",
   "source": [
    "### Precision"
   ],
   "metadata": {
    "collapsed": false
   },
   "id": "8c872a168687bbb9"
  },
  {
   "cell_type": "code",
   "outputs": [
    {
     "name": "stdout",
     "output_type": "stream",
     "text": [
      "Precision: 0.97\n"
     ]
    }
   ],
   "source": [
    "precision = precision_score(true_labels, predicted_labels, average='weighted')\n",
    "print('Precision: {:.2f}'.format(precision))"
   ],
   "metadata": {
    "collapsed": false,
    "ExecuteTime": {
     "end_time": "2024-04-24T08:18:12.146161Z",
     "start_time": "2024-04-24T08:18:12.132163Z"
    }
   },
   "id": "c0a1514893d52da3",
   "execution_count": 12
  },
  {
   "cell_type": "markdown",
   "source": [
    "### Recall"
   ],
   "metadata": {
    "collapsed": false
   },
   "id": "2d6709ac0ed49e7d"
  },
  {
   "cell_type": "code",
   "outputs": [
    {
     "name": "stdout",
     "output_type": "stream",
     "text": [
      "Recall: 0.97\n"
     ]
    }
   ],
   "source": [
    "recall = recall_score(true_labels, predicted_labels, average='weighted')\n",
    "print('Recall: {:.2f}'.format(recall))"
   ],
   "metadata": {
    "collapsed": false,
    "ExecuteTime": {
     "end_time": "2024-04-24T08:18:12.161163Z",
     "start_time": "2024-04-24T08:18:12.147162Z"
    }
   },
   "id": "cbe9cce2d6d4b849",
   "execution_count": 13
  },
  {
   "cell_type": "markdown",
   "source": [
    "### F1-score"
   ],
   "metadata": {
    "collapsed": false
   },
   "id": "a6a9ab8eaf4a00c9"
  },
  {
   "cell_type": "code",
   "outputs": [
    {
     "name": "stdout",
     "output_type": "stream",
     "text": [
      "F1-score: 0.97\n"
     ]
    }
   ],
   "source": [
    "f1 = f1_score(true_labels, predicted_labels, average='weighted')\n",
    "print('F1-score: {:.2f}'.format(f1))"
   ],
   "metadata": {
    "collapsed": false,
    "ExecuteTime": {
     "end_time": "2024-04-24T08:18:12.177161Z",
     "start_time": "2024-04-24T08:18:12.162162Z"
    }
   },
   "id": "2a87268c3e7e9e88",
   "execution_count": 14
  },
  {
   "cell_type": "markdown",
   "source": [
    "### Confusion matrix"
   ],
   "metadata": {
    "collapsed": false
   },
   "id": "3687c7ed9e290b52"
  },
  {
   "cell_type": "code",
   "outputs": [
    {
     "name": "stdout",
     "output_type": "stream",
     "text": [
      "Confusion Matrix:\n"
     ]
    },
    {
     "data": {
      "text/plain": "<Figure size 640x480 with 1 Axes>",
      "image/png": "[encoded data removed]"
     },
     "metadata": {},
     "output_type": "display_data"
    }
   ],
   "source": [
    "conf_matrix = confusion_matrix(true_labels, predicted_labels)\n",
    "print(f'Confusion Matrix:')\n",
    "sns.heatmap(conf_matrix, annot=True, cmap='Blues', fmt='g', cbar=False, xticklabels=class_names, yticklabels=class_names)\n",
    "plt.title('Confusion Matrix')\n",
    "plt.xlabel('Predicted Label')\n",
    "plt.ylabel('True Label')\n",
    "plt.show()"
   ],
   "metadata": {
    "collapsed": false,
    "ExecuteTime": {
     "end_time": "2024-04-24T08:18:12.625162Z",
     "start_time": "2024-04-24T08:18:12.178162Z"
    }
   },
   "id": "6a06849bad215169",
   "execution_count": 15
  },
  {
   "cell_type": "markdown",
   "source": [
    "### ROC curve"
   ],
   "metadata": {
    "collapsed": false
   },
   "id": "8f7a1268072e6e09"
  },
  {
   "cell_type": "code",
   "outputs": [
    {
     "data": {
      "text/plain": "[<matplotlib.lines.Line2D at 0x2153d34acd0>]"
     },
     "execution_count": 16,
     "metadata": {},
     "output_type": "execute_result"
    },
    {
     "data": {
      "text/plain": "<Figure size 640x480 with 1 Axes>",
      "image/png": "[encoded data removed]"
     },
     "metadata": {},
     "output_type": "display_data"
    }
   ],
   "source": [
    "# Binarize the true labels\n",
    "true_labels_binarized = label_binarize(true_labels, classes=range(len(class_names)))\n",
    "\n",
    "# Binarize the predicted labels\n",
    "predicted_labels_binarized = label_binarize(predicted_labels, classes=range(len(class_names)))\n",
    "\n",
    "# Compute the ROC curve\n",
    "fpr = dict()\n",
    "tpr = dict()\n",
    "roc_auc = dict()\n",
    "for i in range(len(class_names)):\n",
    "    fpr[i], tpr[i], _ = roc_curve(true_labels_binarized[:, i], predicted_labels_binarized[:, i])\n",
    "    roc_auc[i] = auc(fpr[i], tpr[i])\n",
    "    \n",
    "# Plot the ROC curve\n",
    "plt.figure()\n",
    "for i in range(len(class_names)):\n",
    "    plt.plot(fpr[i], tpr[i], lw=2, label=f'ROC curve for class {class_names[i]} (area = {roc_auc[i]:0.2f})')\n",
    "plt.plot([0, 1], [0, 1], 'k--', lw=2)"
   ],
   "metadata": {
    "collapsed": false,
    "ExecuteTime": {
     "end_time": "2024-04-24T08:18:12.871163Z",
     "start_time": "2024-04-24T08:18:12.626162Z"
    }
   },
   "id": "6c7b4767f613c314",
   "execution_count": 16
  },
  {
   "cell_type": "markdown",
   "source": [],
   "metadata": {
    "collapsed": false
   },
   "id": "c4d8c6f85ef0d72c"
  }
 ],
 "metadata": {
  "kernelspec": {
   "display_name": "Python 3",
   "language": "python",
   "name": "python3"
  },
  "language_info": {
   "codemirror_mode": {
    "name": "ipython",
    "version": 2
   },
   "file_extension": ".py",
   "mimetype": "text/x-python",
   "name": "python",
   "nbconvert_exporter": "python",
   "pygments_lexer": "ipython2",
   "version": "2.7.6"
  }
 },
 "nbformat": 4,
 "nbformat_minor": 5
}
