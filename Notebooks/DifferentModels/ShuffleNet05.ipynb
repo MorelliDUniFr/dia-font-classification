{
 "cells": [
  {
   "cell_type": "markdown",
   "source": [
    "# Font Classification with PyTorch and ShufflenetV2_X0_5\n",
    "In this notebook, we will use the PyTorch deep learning framework to train a ShuffleNet model to classify fonts. We will use the `torchvision` library to load the dataset and the `sklearn` library to evaluate the model using accuracy, precision, recall, F1-score, and the ROC curve. We will also visualize the confusion matrix to understand the model's performance on each class."
   ],
   "metadata": {
    "collapsed": false
   },
   "id": "4ac20b28058858bd"
  },
  {
   "cell_type": "markdown",
   "source": [
    "# Imports\n",
    "Import of the necessary libraries"
   ],
   "metadata": {
    "collapsed": false
   },
   "id": "705740ac830b5b02"
  },
  {
   "cell_type": "code",
   "outputs": [],
   "source": [
    "import numpy as np\n",
    "from torchvision import datasets, transforms\n",
    "from sklearn.metrics import accuracy_score, precision_score, recall_score, f1_score, confusion_matrix\n",
    "import seaborn as sns\n",
    "import matplotlib.pyplot as plt\n",
    "import torch\n",
    "from torchvision import models\n",
    "from torch.utils.data import DataLoader\n",
    "from sklearn.metrics import roc_curve, auc\n",
    "from sklearn.preprocessing import label_binarize\n",
    "import time\n",
    "from sys import platform"
   ],
   "metadata": {
    "collapsed": false,
    "ExecuteTime": {
     "end_time": "2024-04-24T07:17:16.057677Z",
     "start_time": "2024-04-24T07:17:12.429258Z"
    }
   },
   "id": "cd70965188811652",
   "execution_count": 1
  },
  {
   "cell_type": "markdown",
   "source": [
    "# Model choice\n",
    "Choose the model to use for training. In this case, we will use the MobileNetV3 model."
   ],
   "metadata": {
    "collapsed": false
   },
   "id": "89723516c4abb2e6"
  },
  {
   "cell_type": "code",
   "outputs": [
    {
     "name": "stdout",
     "output_type": "stream",
     "text": [
      "Using model: shufflenet_v2_x0_5\n"
     ]
    }
   ],
   "source": [
    "model_name = 'shufflenet_v2_x0_5'\n",
    "print(f'Using model: {model_name}')"
   ],
   "metadata": {
    "collapsed": false,
    "ExecuteTime": {
     "end_time": "2024-04-24T07:17:16.072679Z",
     "start_time": "2024-04-24T07:17:16.058679Z"
    }
   },
   "id": "ef4e56728f9785b4",
   "execution_count": 2
  },
  {
   "cell_type": "markdown",
   "source": [
    "# Loading and preparing the dataset\n",
    "Load the dataset and prepare it for training. We will resize the images to a fixed size, convert them to tensors, and normalize the pixel values.\n",
    "\n",
    "## Preprocessing\n",
    "1. Resize the images to a fixed size\n",
    "2. Convert the images to tensors\n",
    "3. Normalize the pixel values"
   ],
   "metadata": {
    "collapsed": false
   },
   "id": "b2dabad339631e94"
  },
  {
   "cell_type": "code",
   "outputs": [],
   "source": [
    "# From the dataset, we know that the images have a height of 32 pixels and a width (on average) of 150 pixels\n",
    "image_height = 32\n",
    "image_width = 150\n",
    "\n",
    "# Define the percentage of the dataset to use for training\n",
    "train_size_perc = 0.7\n",
    "\n",
    "# Set the seed for reproducibility\n",
    "torch.manual_seed(0)\n",
    "\n",
    "# Define transformations for preprocessing\n",
    "transform = transforms.Compose([\n",
    "    transforms.Resize((image_height, image_width)),  # Resize images to a fixed size\n",
    "    transforms.ToTensor(),                           # Convert images to tensors\n",
    "    transforms.Normalize(mean=[0.25, 0.25, 0.25],      # Normalize pixel values\n",
    "                         std=[0.25, 0.25, 0.25])])"
   ],
   "metadata": {
    "collapsed": false,
    "ExecuteTime": {
     "end_time": "2024-04-24T07:17:16.119679Z",
     "start_time": "2024-04-24T07:17:16.074678Z"
    }
   },
   "id": "cdc44275b7dbe9ba",
   "execution_count": 3
  },
  {
   "cell_type": "markdown",
   "source": [
    "## Load the dataset\n",
    "Load the dataset using the `ImageFolder` class from `torchvision`. We will split the dataset into training, validation, and test sets. We will use 70% of the dataset for training, 15% for validation, and 15% for testing."
   ],
   "metadata": {
    "collapsed": false
   },
   "id": "8906c87c81b7569c"
  },
  {
   "cell_type": "code",
   "outputs": [],
   "source": [
    "# Path to the dataset\n",
    "data_dir = '../../fonts'\n",
    "\n",
    "# Notebook scope and type\n",
    "scope = 'DifferentModels'\n",
    "type = ''\n",
    "\n",
    "# Load the dataset using ImageFolder\n",
    "dataset = datasets.ImageFolder(root=data_dir, transform=transform)\n",
    "\n",
    "# Define the sizes of the training, validation, and test sets\n",
    "train_size = int(train_size_perc * len(dataset))  # 70% of the dataset for training\n",
    "val_size = int(((1.0 - train_size_perc)/2) * len(dataset))    # 15% for validation\n",
    "test_size = len(dataset) - train_size - val_size  # Remaining for test (15%)\n",
    "\n",
    "# Split the dataset into training, validation, and test sets\n",
    "train_dataset, val_dataset, test_dataset = torch.utils.data.random_split(\n",
    "    dataset, [train_size, val_size, test_size])\n",
    "\n",
    "# Define the batch size as a percentage of the training set, in this case 1%\n",
    "batch_size = int(train_size * 0.01)\n",
    "\n",
    "# Create data loaders for training, validation, and test sets\n",
    "train_loader = torch.utils.data.DataLoader(train_dataset, batch_size=batch_size, shuffle=True)\n",
    "val_loader = torch.utils.data.DataLoader(val_dataset, batch_size=batch_size, shuffle=True)\n",
    "test_loader = torch.utils.data.DataLoader(test_dataset, batch_size=batch_size, shuffle=False)"
   ],
   "metadata": {
    "collapsed": false,
    "ExecuteTime": {
     "end_time": "2024-04-24T07:17:16.182678Z",
     "start_time": "2024-04-24T07:17:16.121678Z"
    }
   },
   "id": "9d9c8c978a1ebdbd",
   "execution_count": 4
  },
  {
   "cell_type": "markdown",
   "source": [
    "## Dataset information"
   ],
   "metadata": {
    "collapsed": false
   },
   "id": "afdcf3568e6bb0e6"
  },
  {
   "cell_type": "code",
   "outputs": [
    {
     "name": "stdout",
     "output_type": "stream",
     "text": [
      "Number of images: 15000\n",
      "Number of batches: 100\n",
      "Batch size: 105\n",
      "Number of training images: 10500\n",
      "Number of validation images: 2250\n",
      "Number of test images: 2250\n",
      "Class names: ['Algerian', 'Arial', 'Baskerville', 'Calibry', 'Calligraphy', 'Cambria', 'Comic Sans MS', 'Courier', 'Elephant', 'Fascinate', 'Georgia', 'Helvetica', 'Lucida Bright', 'Nasalization', 'Times New Roman']\n"
     ]
    }
   ],
   "source": [
    "num_images = len(dataset)\n",
    "num_batches = len(train_loader)\n",
    "print(f'Number of images: {num_images}')\n",
    "print(f'Number of batches: {num_batches}')\n",
    "print(f'Batch size: {batch_size}')\n",
    "print(f'Number of training images: {len(train_dataset)}')\n",
    "print(f'Number of validation images: {len(val_dataset)}')\n",
    "print(f'Number of test images: {len(test_dataset)}')\n",
    "\n",
    "# Get the class names\n",
    "class_names = dataset.classes\n",
    "print(f'Class names: {class_names}')"
   ],
   "metadata": {
    "collapsed": false,
    "ExecuteTime": {
     "end_time": "2024-04-24T07:17:16.198677Z",
     "start_time": "2024-04-24T07:17:16.183678Z"
    }
   },
   "id": "1975b1b1848ca2ac",
   "execution_count": 5
  },
  {
   "cell_type": "markdown",
   "source": [
    "# Loading the model\n",
    "Load the ShuffleNet model and move it to the device (CPU or GPU)."
   ],
   "metadata": {
    "collapsed": false
   },
   "id": "bd836b0d47a237ba"
  },
  {
   "cell_type": "code",
   "outputs": [
    {
     "name": "stdout",
     "output_type": "stream",
     "text": [
      "Model moved to cpu\n"
     ]
    }
   ],
   "source": [
    "# Load the model and replace the fully connected layer\n",
    "model = models.__dict__[model_name](weights=None)\n",
    "\n",
    "# Move model to the device (CPU or GPU)\n",
    "if platform != \"win32\":\n",
    "    device = torch.device('mps' if torch.backends.mps.is_available() else 'cpu')\n",
    "else:\n",
    "    device = torch.device('gpu' if torch.cuda.is_available() else 'cpu')\n",
    "model = model.to(device)\n",
    "print(f'Model moved to {device}')"
   ],
   "metadata": {
    "collapsed": false,
    "ExecuteTime": {
     "end_time": "2024-04-24T07:17:16.229677Z",
     "start_time": "2024-04-24T07:17:16.199679Z"
    }
   },
   "id": "8e9ad926f379fab5",
   "execution_count": 6
  },
  {
   "cell_type": "markdown",
   "source": [
    "# Training the model\n",
    "Train the model using the training set and validate it using the validation set. We will use the Adam optimizer and the CrossEntropy loss function. We will save the model with the lowest validation loss."
   ],
   "metadata": {
    "collapsed": false
   },
   "id": "eebc3e7a492ce85"
  },
  {
   "cell_type": "code",
   "outputs": [
    {
     "name": "stdout",
     "output_type": "stream",
     "text": [
      "Epoch 1\n",
      "-------------------------------\n",
      "Training - Epoch [1/60], Step [10/100], Loss: 2.8070\n",
      "Training - Epoch [1/60], Step [20/100], Loss: 2.6159\n",
      "Training - Epoch [1/60], Step [30/100], Loss: 2.5374\n",
      "Training - Epoch [1/60], Step [40/100], Loss: 2.4476\n",
      "Training - Epoch [1/60], Step [50/100], Loss: 2.3494\n",
      "Training - Epoch [1/60], Step [60/100], Loss: 2.3260\n",
      "Training - Epoch [1/60], Step [70/100], Loss: 2.2212\n",
      "Training - Epoch [1/60], Step [80/100], Loss: 2.0504\n",
      "Training - Epoch [1/60], Step [90/100], Loss: 1.9348\n",
      "Training - Epoch [1/60], Step [100/100], Loss: 2.0351\n",
      "Validation - Epoch [1/60], Loss: 2.3218, Accuracy: 0.2449\n",
      "Model saved as shufflenet_v2_x0_5_font_classifier_.pth\n",
      "Epoch 2\n",
      "-------------------------------\n",
      "Training - Epoch [2/60], Step [10/100], Loss: 1.7156\n",
      "Training - Epoch [2/60], Step [20/100], Loss: 1.7895\n",
      "Training - Epoch [2/60], Step [30/100], Loss: 1.4143\n",
      "Training - Epoch [2/60], Step [40/100], Loss: 1.5868\n",
      "Training - Epoch [2/60], Step [50/100], Loss: 1.2921\n",
      "Training - Epoch [2/60], Step [60/100], Loss: 1.3207\n",
      "Training - Epoch [2/60], Step [70/100], Loss: 1.2684\n",
      "Training - Epoch [2/60], Step [80/100], Loss: 1.1673\n",
      "Training - Epoch [2/60], Step [90/100], Loss: 1.2181\n",
      "Training - Epoch [2/60], Step [100/100], Loss: 1.2473\n",
      "Validation - Epoch [2/60], Loss: 1.4515, Accuracy: 0.4978\n",
      "Model saved as shufflenet_v2_x0_5_font_classifier_.pth\n",
      "Epoch 3\n",
      "-------------------------------\n",
      "Training - Epoch [3/60], Step [10/100], Loss: 1.0095\n",
      "Training - Epoch [3/60], Step [20/100], Loss: 0.7736\n",
      "Training - Epoch [3/60], Step [30/100], Loss: 0.7658\n",
      "Training - Epoch [3/60], Step [40/100], Loss: 1.0399\n",
      "Training - Epoch [3/60], Step [50/100], Loss: 0.9017\n",
      "Training - Epoch [3/60], Step [60/100], Loss: 0.8824\n",
      "Training - Epoch [3/60], Step [70/100], Loss: 0.7419\n",
      "Training - Epoch [3/60], Step [80/100], Loss: 0.8889\n",
      "Training - Epoch [3/60], Step [90/100], Loss: 0.8973\n",
      "Training - Epoch [3/60], Step [100/100], Loss: 0.4926\n",
      "Validation - Epoch [3/60], Loss: 1.1378, Accuracy: 0.6040\n",
      "Model saved as shufflenet_v2_x0_5_font_classifier_.pth\n",
      "Epoch 4\n",
      "-------------------------------\n",
      "Training - Epoch [4/60], Step [10/100], Loss: 0.7528\n",
      "Training - Epoch [4/60], Step [20/100], Loss: 0.5020\n",
      "Training - Epoch [4/60], Step [30/100], Loss: 0.5226\n",
      "Training - Epoch [4/60], Step [40/100], Loss: 0.7807\n",
      "Training - Epoch [4/60], Step [50/100], Loss: 0.5079\n",
      "Training - Epoch [4/60], Step [60/100], Loss: 0.4326\n",
      "Training - Epoch [4/60], Step [70/100], Loss: 0.3697\n",
      "Training - Epoch [4/60], Step [80/100], Loss: 0.4299\n",
      "Training - Epoch [4/60], Step [90/100], Loss: 0.2472\n",
      "Training - Epoch [4/60], Step [100/100], Loss: 0.5666\n",
      "Validation - Epoch [4/60], Loss: 0.7928, Accuracy: 0.7324\n",
      "Model saved as shufflenet_v2_x0_5_font_classifier_.pth\n",
      "Epoch 5\n",
      "-------------------------------\n",
      "Training - Epoch [5/60], Step [10/100], Loss: 0.4789\n",
      "Training - Epoch [5/60], Step [20/100], Loss: 0.4248\n",
      "Training - Epoch [5/60], Step [30/100], Loss: 0.3408\n",
      "Training - Epoch [5/60], Step [40/100], Loss: 0.3871\n",
      "Training - Epoch [5/60], Step [50/100], Loss: 0.5287\n",
      "Training - Epoch [5/60], Step [60/100], Loss: 0.2530\n",
      "Training - Epoch [5/60], Step [70/100], Loss: 0.3365\n",
      "Training - Epoch [5/60], Step [80/100], Loss: 0.3274\n",
      "Training - Epoch [5/60], Step [90/100], Loss: 0.2659\n",
      "Training - Epoch [5/60], Step [100/100], Loss: 0.4295\n",
      "Validation - Epoch [5/60], Loss: 0.4433, Accuracy: 0.8431\n",
      "Model saved as shufflenet_v2_x0_5_font_classifier_.pth\n",
      "Epoch 6\n",
      "-------------------------------\n",
      "Training - Epoch [6/60], Step [10/100], Loss: 0.2451\n",
      "Training - Epoch [6/60], Step [20/100], Loss: 0.2642\n",
      "Training - Epoch [6/60], Step [30/100], Loss: 0.2423\n",
      "Training - Epoch [6/60], Step [40/100], Loss: 0.2344\n",
      "Training - Epoch [6/60], Step [50/100], Loss: 0.2928\n",
      "Training - Epoch [6/60], Step [60/100], Loss: 0.1876\n",
      "Training - Epoch [6/60], Step [70/100], Loss: 0.2724\n",
      "Training - Epoch [6/60], Step [80/100], Loss: 0.2304\n",
      "Training - Epoch [6/60], Step [90/100], Loss: 0.2555\n",
      "Training - Epoch [6/60], Step [100/100], Loss: 0.3353\n",
      "Validation - Epoch [6/60], Loss: 0.3381, Accuracy: 0.8836\n",
      "Model saved as shufflenet_v2_x0_5_font_classifier_.pth\n",
      "Epoch 7\n",
      "-------------------------------\n",
      "Training - Epoch [7/60], Step [10/100], Loss: 0.3472\n",
      "Training - Epoch [7/60], Step [20/100], Loss: 0.2179\n",
      "Training - Epoch [7/60], Step [30/100], Loss: 0.1977\n",
      "Training - Epoch [7/60], Step [40/100], Loss: 0.1919\n",
      "Training - Epoch [7/60], Step [50/100], Loss: 0.0790\n",
      "Training - Epoch [7/60], Step [60/100], Loss: 0.2111\n",
      "Training - Epoch [7/60], Step [70/100], Loss: 0.2481\n",
      "Training - Epoch [7/60], Step [80/100], Loss: 0.2908\n",
      "Training - Epoch [7/60], Step [90/100], Loss: 0.1689\n",
      "Training - Epoch [7/60], Step [100/100], Loss: 0.1148\n",
      "Validation - Epoch [7/60], Loss: 0.3640, Accuracy: 0.8769\n",
      "Epoch 8\n",
      "-------------------------------\n",
      "Training - Epoch [8/60], Step [10/100], Loss: 0.1884\n",
      "Training - Epoch [8/60], Step [20/100], Loss: 0.1846\n",
      "Training - Epoch [8/60], Step [30/100], Loss: 0.3527\n",
      "Training - Epoch [8/60], Step [40/100], Loss: 0.0643\n",
      "Training - Epoch [8/60], Step [50/100], Loss: 0.1860\n",
      "Training - Epoch [8/60], Step [60/100], Loss: 0.1051\n",
      "Training - Epoch [8/60], Step [70/100], Loss: 0.1478\n",
      "Training - Epoch [8/60], Step [80/100], Loss: 0.1694\n",
      "Training - Epoch [8/60], Step [90/100], Loss: 0.2707\n",
      "Training - Epoch [8/60], Step [100/100], Loss: 0.1010\n",
      "Validation - Epoch [8/60], Loss: 0.3949, Accuracy: 0.8764\n",
      "Epoch 9\n",
      "-------------------------------\n",
      "Training - Epoch [9/60], Step [10/100], Loss: 0.0871\n",
      "Training - Epoch [9/60], Step [20/100], Loss: 0.1012\n",
      "Training - Epoch [9/60], Step [30/100], Loss: 0.1277\n",
      "Training - Epoch [9/60], Step [40/100], Loss: 0.1636\n",
      "Training - Epoch [9/60], Step [50/100], Loss: 0.1168\n",
      "Training - Epoch [9/60], Step [60/100], Loss: 0.1014\n",
      "Training - Epoch [9/60], Step [70/100], Loss: 0.0756\n",
      "Training - Epoch [9/60], Step [80/100], Loss: 0.2883\n",
      "Training - Epoch [9/60], Step [90/100], Loss: 0.1641\n",
      "Training - Epoch [9/60], Step [100/100], Loss: 0.2224\n",
      "Validation - Epoch [9/60], Loss: 0.2494, Accuracy: 0.9209\n",
      "Model saved as shufflenet_v2_x0_5_font_classifier_.pth\n",
      "Epoch 10\n",
      "-------------------------------\n",
      "Training - Epoch [10/60], Step [10/100], Loss: 0.1413\n",
      "Training - Epoch [10/60], Step [20/100], Loss: 0.0893\n",
      "Training - Epoch [10/60], Step [30/100], Loss: 0.0539\n",
      "Training - Epoch [10/60], Step [40/100], Loss: 0.1147\n",
      "Training - Epoch [10/60], Step [50/100], Loss: 0.0894\n",
      "Training - Epoch [10/60], Step [60/100], Loss: 0.0450\n",
      "Training - Epoch [10/60], Step [70/100], Loss: 0.0942\n",
      "Training - Epoch [10/60], Step [80/100], Loss: 0.1902\n",
      "Training - Epoch [10/60], Step [90/100], Loss: 0.0923\n",
      "Training - Epoch [10/60], Step [100/100], Loss: 0.1589\n",
      "Validation - Epoch [10/60], Loss: 0.2831, Accuracy: 0.9093\n",
      "Epoch 11\n",
      "-------------------------------\n",
      "Training - Epoch [11/60], Step [10/100], Loss: 0.1284\n",
      "Training - Epoch [11/60], Step [20/100], Loss: 0.2243\n",
      "Training - Epoch [11/60], Step [30/100], Loss: 0.0994\n",
      "Training - Epoch [11/60], Step [40/100], Loss: 0.0547\n",
      "Training - Epoch [11/60], Step [50/100], Loss: 0.0989\n",
      "Training - Epoch [11/60], Step [60/100], Loss: 0.0792\n",
      "Training - Epoch [11/60], Step [70/100], Loss: 0.1338\n",
      "Training - Epoch [11/60], Step [80/100], Loss: 0.0398\n",
      "Training - Epoch [11/60], Step [90/100], Loss: 0.1386\n",
      "Training - Epoch [11/60], Step [100/100], Loss: 0.0936\n",
      "Validation - Epoch [11/60], Loss: 0.2715, Accuracy: 0.9169\n",
      "Epoch 12\n",
      "-------------------------------\n",
      "Training - Epoch [12/60], Step [10/100], Loss: 0.0637\n",
      "Training - Epoch [12/60], Step [20/100], Loss: 0.2886\n",
      "Training - Epoch [12/60], Step [30/100], Loss: 0.1447\n",
      "Training - Epoch [12/60], Step [40/100], Loss: 0.0543\n",
      "Training - Epoch [12/60], Step [50/100], Loss: 0.0513\n",
      "Training - Epoch [12/60], Step [60/100], Loss: 0.0844\n",
      "Training - Epoch [12/60], Step [70/100], Loss: 0.1267\n",
      "Training - Epoch [12/60], Step [80/100], Loss: 0.0238\n",
      "Training - Epoch [12/60], Step [90/100], Loss: 0.0388\n",
      "Training - Epoch [12/60], Step [100/100], Loss: 0.1010\n",
      "Validation - Epoch [12/60], Loss: 0.3156, Accuracy: 0.9084\n",
      "Epoch 13\n",
      "-------------------------------\n",
      "Training - Epoch [13/60], Step [10/100], Loss: 0.0293\n",
      "Training - Epoch [13/60], Step [20/100], Loss: 0.0309\n",
      "Training - Epoch [13/60], Step [30/100], Loss: 0.0140\n",
      "Training - Epoch [13/60], Step [40/100], Loss: 0.1362\n",
      "Training - Epoch [13/60], Step [50/100], Loss: 0.0659\n",
      "Training - Epoch [13/60], Step [60/100], Loss: 0.0740\n",
      "Training - Epoch [13/60], Step [70/100], Loss: 0.0665\n",
      "Training - Epoch [13/60], Step [80/100], Loss: 0.1263\n",
      "Training - Epoch [13/60], Step [90/100], Loss: 0.0783\n",
      "Training - Epoch [13/60], Step [100/100], Loss: 0.1747\n",
      "Validation - Epoch [13/60], Loss: 0.2733, Accuracy: 0.9204\n",
      "Epoch 14\n",
      "-------------------------------\n",
      "Training - Epoch [14/60], Step [10/100], Loss: 0.1316\n",
      "Training - Epoch [14/60], Step [20/100], Loss: 0.0273\n",
      "Training - Epoch [14/60], Step [30/100], Loss: 0.0502\n",
      "Training - Epoch [14/60], Step [40/100], Loss: 0.0788\n",
      "Training - Epoch [14/60], Step [50/100], Loss: 0.2510\n",
      "Training - Epoch [14/60], Step [60/100], Loss: 0.1203\n",
      "Training - Epoch [14/60], Step [70/100], Loss: 0.0294\n",
      "Training - Epoch [14/60], Step [80/100], Loss: 0.0550\n",
      "Training - Epoch [14/60], Step [90/100], Loss: 0.0169\n",
      "Training - Epoch [14/60], Step [100/100], Loss: 0.0701\n",
      "Validation - Epoch [14/60], Loss: 0.4330, Accuracy: 0.8902\n",
      "Epoch 15\n",
      "-------------------------------\n",
      "Training - Epoch [15/60], Step [10/100], Loss: 0.0467\n",
      "Training - Epoch [15/60], Step [20/100], Loss: 0.0252\n",
      "Training - Epoch [15/60], Step [30/100], Loss: 0.0570\n",
      "Training - Epoch [15/60], Step [40/100], Loss: 0.0174\n",
      "Training - Epoch [15/60], Step [50/100], Loss: 0.0909\n",
      "Training - Epoch [15/60], Step [60/100], Loss: 0.0137\n",
      "Training - Epoch [15/60], Step [70/100], Loss: 0.0565\n",
      "Training - Epoch [15/60], Step [80/100], Loss: 0.0987\n",
      "Training - Epoch [15/60], Step [90/100], Loss: 0.1615\n",
      "Training - Epoch [15/60], Step [100/100], Loss: 0.0582\n",
      "Validation - Epoch [15/60], Loss: 0.3330, Accuracy: 0.9169\n",
      "Epoch 16\n",
      "-------------------------------\n",
      "Training - Epoch [16/60], Step [10/100], Loss: 0.0787\n",
      "Training - Epoch [16/60], Step [20/100], Loss: 0.1211\n",
      "Training - Epoch [16/60], Step [30/100], Loss: 0.0646\n",
      "Training - Epoch [16/60], Step [40/100], Loss: 0.0770\n",
      "Training - Epoch [16/60], Step [50/100], Loss: 0.0665\n",
      "Training - Epoch [16/60], Step [60/100], Loss: 0.0726\n",
      "Training - Epoch [16/60], Step [70/100], Loss: 0.0462\n",
      "Training - Epoch [16/60], Step [80/100], Loss: 0.0712\n",
      "Training - Epoch [16/60], Step [90/100], Loss: 0.0723\n",
      "Training - Epoch [16/60], Step [100/100], Loss: 0.1495\n",
      "Validation - Epoch [16/60], Loss: 0.3317, Accuracy: 0.9098\n",
      "Epoch 17\n",
      "-------------------------------\n",
      "Training - Epoch [17/60], Step [10/100], Loss: 0.1634\n",
      "Training - Epoch [17/60], Step [20/100], Loss: 0.1110\n",
      "Training - Epoch [17/60], Step [30/100], Loss: 0.0594\n",
      "Training - Epoch [17/60], Step [40/100], Loss: 0.0322\n",
      "Training - Epoch [17/60], Step [50/100], Loss: 0.0536\n",
      "Training - Epoch [17/60], Step [60/100], Loss: 0.0552\n",
      "Training - Epoch [17/60], Step [70/100], Loss: 0.0368\n",
      "Training - Epoch [17/60], Step [80/100], Loss: 0.0230\n",
      "Training - Epoch [17/60], Step [90/100], Loss: 0.0512\n",
      "Training - Epoch [17/60], Step [100/100], Loss: 0.0798\n",
      "Validation - Epoch [17/60], Loss: 0.1830, Accuracy: 0.9493\n",
      "Model saved as shufflenet_v2_x0_5_font_classifier_.pth\n",
      "Epoch 18\n",
      "-------------------------------\n",
      "Training - Epoch [18/60], Step [10/100], Loss: 0.0521\n",
      "Training - Epoch [18/60], Step [20/100], Loss: 0.0889\n",
      "Training - Epoch [18/60], Step [30/100], Loss: 0.0455\n",
      "Training - Epoch [18/60], Step [40/100], Loss: 0.0408\n",
      "Training - Epoch [18/60], Step [50/100], Loss: 0.0672\n",
      "Training - Epoch [18/60], Step [60/100], Loss: 0.0123\n",
      "Training - Epoch [18/60], Step [70/100], Loss: 0.0552\n",
      "Training - Epoch [18/60], Step [80/100], Loss: 0.1198\n",
      "Training - Epoch [18/60], Step [90/100], Loss: 0.0520\n",
      "Training - Epoch [18/60], Step [100/100], Loss: 0.0736\n",
      "Validation - Epoch [18/60], Loss: 0.4616, Accuracy: 0.9004\n",
      "Epoch 19\n",
      "-------------------------------\n",
      "Training - Epoch [19/60], Step [10/100], Loss: 0.0633\n",
      "Training - Epoch [19/60], Step [20/100], Loss: 0.0607\n",
      "Training - Epoch [19/60], Step [30/100], Loss: 0.0931\n",
      "Training - Epoch [19/60], Step [40/100], Loss: 0.0485\n",
      "Training - Epoch [19/60], Step [50/100], Loss: 0.0212\n",
      "Training - Epoch [19/60], Step [60/100], Loss: 0.0328\n",
      "Training - Epoch [19/60], Step [70/100], Loss: 0.0823\n",
      "Training - Epoch [19/60], Step [80/100], Loss: 0.0423\n",
      "Training - Epoch [19/60], Step [90/100], Loss: 0.1092\n",
      "Training - Epoch [19/60], Step [100/100], Loss: 0.0136\n",
      "Validation - Epoch [19/60], Loss: 0.2559, Accuracy: 0.9387\n",
      "Epoch 20\n",
      "-------------------------------\n",
      "Training - Epoch [20/60], Step [10/100], Loss: 0.0122\n",
      "Training - Epoch [20/60], Step [20/100], Loss: 0.0356\n",
      "Training - Epoch [20/60], Step [30/100], Loss: 0.0136\n",
      "Training - Epoch [20/60], Step [40/100], Loss: 0.0029\n",
      "Training - Epoch [20/60], Step [50/100], Loss: 0.0430\n",
      "Training - Epoch [20/60], Step [60/100], Loss: 0.0857\n",
      "Training - Epoch [20/60], Step [70/100], Loss: 0.0061\n",
      "Training - Epoch [20/60], Step [80/100], Loss: 0.0769\n",
      "Training - Epoch [20/60], Step [90/100], Loss: 0.0223\n",
      "Training - Epoch [20/60], Step [100/100], Loss: 0.0263\n",
      "Validation - Epoch [20/60], Loss: 0.3483, Accuracy: 0.9187\n",
      "Epoch 21\n",
      "-------------------------------\n",
      "Training - Epoch [21/60], Step [10/100], Loss: 0.0040\n",
      "Training - Epoch [21/60], Step [20/100], Loss: 0.0325\n",
      "Training - Epoch [21/60], Step [30/100], Loss: 0.0290\n",
      "Training - Epoch [21/60], Step [40/100], Loss: 0.0150\n",
      "Training - Epoch [21/60], Step [50/100], Loss: 0.0140\n",
      "Training - Epoch [21/60], Step [60/100], Loss: 0.0529\n",
      "Training - Epoch [21/60], Step [70/100], Loss: 0.0811\n",
      "Training - Epoch [21/60], Step [80/100], Loss: 0.1150\n",
      "Training - Epoch [21/60], Step [90/100], Loss: 0.0390\n",
      "Training - Epoch [21/60], Step [100/100], Loss: 0.0775\n",
      "Validation - Epoch [21/60], Loss: 0.1914, Accuracy: 0.9507\n",
      "Epoch 22\n",
      "-------------------------------\n",
      "Training - Epoch [22/60], Step [10/100], Loss: 0.0708\n",
      "Training - Epoch [22/60], Step [20/100], Loss: 0.0237\n",
      "Training - Epoch [22/60], Step [30/100], Loss: 0.0302\n",
      "Training - Epoch [22/60], Step [40/100], Loss: 0.0200\n",
      "Training - Epoch [22/60], Step [50/100], Loss: 0.0586\n",
      "Training - Epoch [22/60], Step [60/100], Loss: 0.0084\n",
      "Training - Epoch [22/60], Step [70/100], Loss: 0.0102\n",
      "Training - Epoch [22/60], Step [80/100], Loss: 0.0228\n",
      "Training - Epoch [22/60], Step [90/100], Loss: 0.0179\n",
      "Training - Epoch [22/60], Step [100/100], Loss: 0.0463\n",
      "Validation - Epoch [22/60], Loss: 0.1688, Accuracy: 0.9569\n",
      "Model saved as shufflenet_v2_x0_5_font_classifier_.pth\n",
      "Epoch 23\n",
      "-------------------------------\n",
      "Training - Epoch [23/60], Step [10/100], Loss: 0.0248\n",
      "Training - Epoch [23/60], Step [20/100], Loss: 0.0181\n",
      "Training - Epoch [23/60], Step [30/100], Loss: 0.0393\n",
      "Training - Epoch [23/60], Step [40/100], Loss: 0.1225\n",
      "Training - Epoch [23/60], Step [50/100], Loss: 0.1043\n",
      "Training - Epoch [23/60], Step [60/100], Loss: 0.0692\n",
      "Training - Epoch [23/60], Step [70/100], Loss: 0.0551\n",
      "Training - Epoch [23/60], Step [80/100], Loss: 0.0278\n",
      "Training - Epoch [23/60], Step [90/100], Loss: 0.0142\n",
      "Training - Epoch [23/60], Step [100/100], Loss: 0.0182\n",
      "Validation - Epoch [23/60], Loss: 0.1821, Accuracy: 0.9529\n",
      "Epoch 24\n",
      "-------------------------------\n",
      "Training - Epoch [24/60], Step [10/100], Loss: 0.0075\n",
      "Training - Epoch [24/60], Step [20/100], Loss: 0.0161\n",
      "Training - Epoch [24/60], Step [30/100], Loss: 0.1228\n",
      "Training - Epoch [24/60], Step [40/100], Loss: 0.1445\n",
      "Training - Epoch [24/60], Step [50/100], Loss: 0.0172\n",
      "Training - Epoch [24/60], Step [60/100], Loss: 0.0089\n",
      "Training - Epoch [24/60], Step [70/100], Loss: 0.1250\n",
      "Training - Epoch [24/60], Step [80/100], Loss: 0.0068\n",
      "Training - Epoch [24/60], Step [90/100], Loss: 0.0119\n",
      "Training - Epoch [24/60], Step [100/100], Loss: 0.0529\n",
      "Validation - Epoch [24/60], Loss: 0.2104, Accuracy: 0.9480\n",
      "Epoch 25\n",
      "-------------------------------\n",
      "Training - Epoch [25/60], Step [10/100], Loss: 0.0093\n",
      "Training - Epoch [25/60], Step [20/100], Loss: 0.0776\n",
      "Training - Epoch [25/60], Step [30/100], Loss: 0.0053\n",
      "Training - Epoch [25/60], Step [40/100], Loss: 0.0160\n",
      "Training - Epoch [25/60], Step [50/100], Loss: 0.0232\n",
      "Training - Epoch [25/60], Step [60/100], Loss: 0.0410\n",
      "Training - Epoch [25/60], Step [70/100], Loss: 0.0466\n",
      "Training - Epoch [25/60], Step [80/100], Loss: 0.0055\n",
      "Training - Epoch [25/60], Step [90/100], Loss: 0.0393\n",
      "Training - Epoch [25/60], Step [100/100], Loss: 0.1369\n",
      "Validation - Epoch [25/60], Loss: 0.1940, Accuracy: 0.9502\n",
      "Epoch 26\n",
      "-------------------------------\n",
      "Training - Epoch [26/60], Step [10/100], Loss: 0.0069\n",
      "Training - Epoch [26/60], Step [20/100], Loss: 0.0436\n",
      "Training - Epoch [26/60], Step [30/100], Loss: 0.0172\n",
      "Training - Epoch [26/60], Step [40/100], Loss: 0.0161\n",
      "Training - Epoch [26/60], Step [50/100], Loss: 0.0335\n",
      "Training - Epoch [26/60], Step [60/100], Loss: 0.1005\n",
      "Training - Epoch [26/60], Step [70/100], Loss: 0.0256\n",
      "Training - Epoch [26/60], Step [80/100], Loss: 0.0360\n",
      "Training - Epoch [26/60], Step [90/100], Loss: 0.0166\n",
      "Training - Epoch [26/60], Step [100/100], Loss: 0.0058\n",
      "Validation - Epoch [26/60], Loss: 0.2367, Accuracy: 0.9400\n",
      "Epoch 27\n",
      "-------------------------------\n",
      "Training - Epoch [27/60], Step [10/100], Loss: 0.0231\n",
      "Training - Epoch [27/60], Step [20/100], Loss: 0.0507\n",
      "Training - Epoch [27/60], Step [30/100], Loss: 0.0067\n",
      "Training - Epoch [27/60], Step [40/100], Loss: 0.0070\n",
      "Training - Epoch [27/60], Step [50/100], Loss: 0.0056\n",
      "Training - Epoch [27/60], Step [60/100], Loss: 0.0066\n",
      "Training - Epoch [27/60], Step [70/100], Loss: 0.0039\n",
      "Training - Epoch [27/60], Step [80/100], Loss: 0.0032\n",
      "Training - Epoch [27/60], Step [90/100], Loss: 0.0078\n",
      "Training - Epoch [27/60], Step [100/100], Loss: 0.0207\n",
      "Validation - Epoch [27/60], Loss: 0.2507, Accuracy: 0.9409\n",
      "Epoch 28\n",
      "-------------------------------\n",
      "Training - Epoch [28/60], Step [10/100], Loss: 0.0191\n",
      "Training - Epoch [28/60], Step [20/100], Loss: 0.0702\n",
      "Training - Epoch [28/60], Step [30/100], Loss: 0.0283\n",
      "Training - Epoch [28/60], Step [40/100], Loss: 0.0020\n",
      "Training - Epoch [28/60], Step [50/100], Loss: 0.0250\n",
      "Training - Epoch [28/60], Step [60/100], Loss: 0.0429\n",
      "Training - Epoch [28/60], Step [70/100], Loss: 0.0182\n",
      "Training - Epoch [28/60], Step [80/100], Loss: 0.0078\n",
      "Training - Epoch [28/60], Step [90/100], Loss: 0.0055\n",
      "Training - Epoch [28/60], Step [100/100], Loss: 0.0625\n",
      "Validation - Epoch [28/60], Loss: 0.3108, Accuracy: 0.9284\n",
      "Epoch 29\n",
      "-------------------------------\n",
      "Training - Epoch [29/60], Step [10/100], Loss: 0.0157\n",
      "Training - Epoch [29/60], Step [20/100], Loss: 0.1508\n",
      "Training - Epoch [29/60], Step [30/100], Loss: 0.0853\n",
      "Training - Epoch [29/60], Step [40/100], Loss: 0.0058\n",
      "Training - Epoch [29/60], Step [50/100], Loss: 0.0099\n",
      "Training - Epoch [29/60], Step [60/100], Loss: 0.0218\n",
      "Training - Epoch [29/60], Step [70/100], Loss: 0.0074\n",
      "Training - Epoch [29/60], Step [80/100], Loss: 0.0886\n",
      "Training - Epoch [29/60], Step [90/100], Loss: 0.0118\n",
      "Training - Epoch [29/60], Step [100/100], Loss: 0.0288\n",
      "Validation - Epoch [29/60], Loss: 0.2257, Accuracy: 0.9462\n",
      "Epoch 30\n",
      "-------------------------------\n",
      "Training - Epoch [30/60], Step [10/100], Loss: 0.0252\n",
      "Training - Epoch [30/60], Step [20/100], Loss: 0.0076\n",
      "Training - Epoch [30/60], Step [30/100], Loss: 0.0106\n",
      "Training - Epoch [30/60], Step [40/100], Loss: 0.0122\n",
      "Training - Epoch [30/60], Step [50/100], Loss: 0.0104\n",
      "Training - Epoch [30/60], Step [60/100], Loss: 0.0096\n",
      "Training - Epoch [30/60], Step [70/100], Loss: 0.0304\n",
      "Training - Epoch [30/60], Step [80/100], Loss: 0.0190\n",
      "Training - Epoch [30/60], Step [90/100], Loss: 0.0017\n",
      "Training - Epoch [30/60], Step [100/100], Loss: 0.0100\n",
      "Validation - Epoch [30/60], Loss: 0.2506, Accuracy: 0.9409\n",
      "Epoch 31\n",
      "-------------------------------\n",
      "Training - Epoch [31/60], Step [10/100], Loss: 0.0168\n",
      "Training - Epoch [31/60], Step [20/100], Loss: 0.0187\n",
      "Training - Epoch [31/60], Step [30/100], Loss: 0.0233\n",
      "Training - Epoch [31/60], Step [40/100], Loss: 0.0702\n",
      "Training - Epoch [31/60], Step [50/100], Loss: 0.1163\n",
      "Training - Epoch [31/60], Step [60/100], Loss: 0.0156\n",
      "Training - Epoch [31/60], Step [70/100], Loss: 0.0282\n",
      "Training - Epoch [31/60], Step [80/100], Loss: 0.0383\n",
      "Training - Epoch [31/60], Step [90/100], Loss: 0.1445\n",
      "Training - Epoch [31/60], Step [100/100], Loss: 0.0223\n",
      "Validation - Epoch [31/60], Loss: 0.3343, Accuracy: 0.9200\n",
      "Epoch 32\n",
      "-------------------------------\n",
      "Training - Epoch [32/60], Step [10/100], Loss: 0.0233\n",
      "Training - Epoch [32/60], Step [20/100], Loss: 0.0064\n",
      "Training - Epoch [32/60], Step [30/100], Loss: 0.0942\n",
      "Training - Epoch [32/60], Step [40/100], Loss: 0.0055\n",
      "Training - Epoch [32/60], Step [50/100], Loss: 0.0073\n",
      "Training - Epoch [32/60], Step [60/100], Loss: 0.0815\n",
      "Training - Epoch [32/60], Step [70/100], Loss: 0.0151\n",
      "Training - Epoch [32/60], Step [80/100], Loss: 0.0142\n",
      "Training - Epoch [32/60], Step [90/100], Loss: 0.0658\n",
      "Training - Epoch [32/60], Step [100/100], Loss: 0.0125\n",
      "Validation - Epoch [32/60], Loss: 0.4011, Accuracy: 0.9209\n",
      "Epoch 33\n",
      "-------------------------------\n",
      "Training - Epoch [33/60], Step [10/100], Loss: 0.0603\n",
      "Training - Epoch [33/60], Step [20/100], Loss: 0.0351\n",
      "Training - Epoch [33/60], Step [30/100], Loss: 0.1558\n",
      "Training - Epoch [33/60], Step [40/100], Loss: 0.0860\n",
      "Training - Epoch [33/60], Step [50/100], Loss: 0.0955\n",
      "Training - Epoch [33/60], Step [60/100], Loss: 0.0169\n",
      "Training - Epoch [33/60], Step [70/100], Loss: 0.0051\n",
      "Training - Epoch [33/60], Step [80/100], Loss: 0.0929\n",
      "Training - Epoch [33/60], Step [90/100], Loss: 0.0561\n",
      "Training - Epoch [33/60], Step [100/100], Loss: 0.0237\n",
      "Validation - Epoch [33/60], Loss: 0.3824, Accuracy: 0.9267\n",
      "Epoch 34\n",
      "-------------------------------\n",
      "Training - Epoch [34/60], Step [10/100], Loss: 0.0226\n",
      "Training - Epoch [34/60], Step [20/100], Loss: 0.0013\n",
      "Training - Epoch [34/60], Step [30/100], Loss: 0.0157\n",
      "Training - Epoch [34/60], Step [40/100], Loss: 0.0066\n",
      "Training - Epoch [34/60], Step [50/100], Loss: 0.0049\n",
      "Training - Epoch [34/60], Step [60/100], Loss: 0.0153\n",
      "Training - Epoch [34/60], Step [70/100], Loss: 0.0049\n",
      "Training - Epoch [34/60], Step [80/100], Loss: 0.0033\n",
      "Training - Epoch [34/60], Step [90/100], Loss: 0.0062\n",
      "Training - Epoch [34/60], Step [100/100], Loss: 0.0089\n",
      "Validation - Epoch [34/60], Loss: 0.2246, Accuracy: 0.9511\n",
      "Epoch 35\n",
      "-------------------------------\n",
      "Training - Epoch [35/60], Step [10/100], Loss: 0.0227\n",
      "Training - Epoch [35/60], Step [20/100], Loss: 0.0092\n",
      "Training - Epoch [35/60], Step [30/100], Loss: 0.0385\n",
      "Training - Epoch [35/60], Step [40/100], Loss: 0.0039\n",
      "Training - Epoch [35/60], Step [50/100], Loss: 0.0685\n",
      "Training - Epoch [35/60], Step [60/100], Loss: 0.0287\n",
      "Training - Epoch [35/60], Step [70/100], Loss: 0.0268\n",
      "Training - Epoch [35/60], Step [80/100], Loss: 0.0209\n",
      "Training - Epoch [35/60], Step [90/100], Loss: 0.0416\n",
      "Training - Epoch [35/60], Step [100/100], Loss: 0.0340\n",
      "Validation - Epoch [35/60], Loss: 0.3842, Accuracy: 0.9120\n",
      "Epoch 36\n",
      "-------------------------------\n",
      "Training - Epoch [36/60], Step [10/100], Loss: 0.3981\n",
      "Training - Epoch [36/60], Step [20/100], Loss: 0.0168\n",
      "Training - Epoch [36/60], Step [30/100], Loss: 0.0224\n",
      "Training - Epoch [36/60], Step [40/100], Loss: 0.0189\n",
      "Training - Epoch [36/60], Step [50/100], Loss: 0.0029\n",
      "Training - Epoch [36/60], Step [60/100], Loss: 0.0049\n",
      "Training - Epoch [36/60], Step [70/100], Loss: 0.0564\n",
      "Training - Epoch [36/60], Step [80/100], Loss: 0.0064\n",
      "Training - Epoch [36/60], Step [90/100], Loss: 0.0027\n",
      "Training - Epoch [36/60], Step [100/100], Loss: 0.0233\n",
      "Validation - Epoch [36/60], Loss: 0.1143, Accuracy: 0.9707\n",
      "Model saved as shufflenet_v2_x0_5_font_classifier_.pth\n",
      "Epoch 37\n",
      "-------------------------------\n",
      "Training - Epoch [37/60], Step [10/100], Loss: 0.0071\n",
      "Training - Epoch [37/60], Step [20/100], Loss: 0.0022\n",
      "Training - Epoch [37/60], Step [30/100], Loss: 0.0031\n",
      "Training - Epoch [37/60], Step [40/100], Loss: 0.0584\n",
      "Training - Epoch [37/60], Step [50/100], Loss: 0.0025\n",
      "Training - Epoch [37/60], Step [60/100], Loss: 0.0097\n",
      "Training - Epoch [37/60], Step [70/100], Loss: 0.0026\n",
      "Training - Epoch [37/60], Step [80/100], Loss: 0.0026\n",
      "Training - Epoch [37/60], Step [90/100], Loss: 0.0048\n",
      "Training - Epoch [37/60], Step [100/100], Loss: 0.0206\n",
      "Validation - Epoch [37/60], Loss: 0.1658, Accuracy: 0.9556\n",
      "Epoch 38\n",
      "-------------------------------\n",
      "Training - Epoch [38/60], Step [10/100], Loss: 0.0497\n",
      "Training - Epoch [38/60], Step [20/100], Loss: 0.0469\n",
      "Training - Epoch [38/60], Step [30/100], Loss: 0.0615\n",
      "Training - Epoch [38/60], Step [40/100], Loss: 0.0147\n",
      "Training - Epoch [38/60], Step [50/100], Loss: 0.0185\n",
      "Training - Epoch [38/60], Step [60/100], Loss: 0.0611\n",
      "Training - Epoch [38/60], Step [70/100], Loss: 0.0090\n",
      "Training - Epoch [38/60], Step [80/100], Loss: 0.1854\n",
      "Training - Epoch [38/60], Step [90/100], Loss: 0.0143\n",
      "Training - Epoch [38/60], Step [100/100], Loss: 0.0874\n",
      "Validation - Epoch [38/60], Loss: 0.2841, Accuracy: 0.9422\n",
      "Epoch 39\n",
      "-------------------------------\n",
      "Training - Epoch [39/60], Step [10/100], Loss: 0.0446\n",
      "Training - Epoch [39/60], Step [20/100], Loss: 0.0430\n",
      "Training - Epoch [39/60], Step [30/100], Loss: 0.0085\n",
      "Training - Epoch [39/60], Step [40/100], Loss: 0.0035\n",
      "Training - Epoch [39/60], Step [50/100], Loss: 0.0134\n",
      "Training - Epoch [39/60], Step [60/100], Loss: 0.0422\n",
      "Training - Epoch [39/60], Step [70/100], Loss: 0.0193\n",
      "Training - Epoch [39/60], Step [80/100], Loss: 0.0194\n",
      "Training - Epoch [39/60], Step [90/100], Loss: 0.0125\n",
      "Training - Epoch [39/60], Step [100/100], Loss: 0.0008\n",
      "Validation - Epoch [39/60], Loss: 0.1886, Accuracy: 0.9564\n",
      "Epoch 40\n",
      "-------------------------------\n",
      "Training - Epoch [40/60], Step [10/100], Loss: 0.0082\n",
      "Training - Epoch [40/60], Step [20/100], Loss: 0.0006\n",
      "Training - Epoch [40/60], Step [30/100], Loss: 0.0106\n",
      "Training - Epoch [40/60], Step [40/100], Loss: 0.0005\n",
      "Training - Epoch [40/60], Step [50/100], Loss: 0.0151\n",
      "Training - Epoch [40/60], Step [60/100], Loss: 0.0029\n",
      "Training - Epoch [40/60], Step [70/100], Loss: 0.0018\n",
      "Training - Epoch [40/60], Step [80/100], Loss: 0.0439\n",
      "Training - Epoch [40/60], Step [90/100], Loss: 0.0017\n",
      "Training - Epoch [40/60], Step [100/100], Loss: 0.0050\n",
      "Validation - Epoch [40/60], Loss: 0.1170, Accuracy: 0.9684\n",
      "Epoch 41\n",
      "-------------------------------\n",
      "Training - Epoch [41/60], Step [10/100], Loss: 0.0074\n",
      "Training - Epoch [41/60], Step [20/100], Loss: 0.0214\n",
      "Training - Epoch [41/60], Step [30/100], Loss: 0.0091\n",
      "Training - Epoch [41/60], Step [40/100], Loss: 0.0303\n",
      "Training - Epoch [41/60], Step [50/100], Loss: 0.0154\n",
      "Training - Epoch [41/60], Step [60/100], Loss: 0.0264\n",
      "Training - Epoch [41/60], Step [70/100], Loss: 0.0005\n",
      "Training - Epoch [41/60], Step [80/100], Loss: 0.0067\n",
      "Training - Epoch [41/60], Step [90/100], Loss: 0.0071\n",
      "Training - Epoch [41/60], Step [100/100], Loss: 0.0131\n",
      "Validation - Epoch [41/60], Loss: 0.1876, Accuracy: 0.9556\n",
      "Epoch 42\n",
      "-------------------------------\n",
      "Training - Epoch [42/60], Step [10/100], Loss: 0.0051\n",
      "Training - Epoch [42/60], Step [20/100], Loss: 0.0109\n",
      "Training - Epoch [42/60], Step [30/100], Loss: 0.0276\n",
      "Training - Epoch [42/60], Step [40/100], Loss: 0.0248\n",
      "Training - Epoch [42/60], Step [50/100], Loss: 0.0128\n",
      "Training - Epoch [42/60], Step [60/100], Loss: 0.0020\n",
      "Training - Epoch [42/60], Step [70/100], Loss: 0.0027\n",
      "Training - Epoch [42/60], Step [80/100], Loss: 0.0145\n",
      "Training - Epoch [42/60], Step [90/100], Loss: 0.0077\n",
      "Training - Epoch [42/60], Step [100/100], Loss: 0.0027\n",
      "Validation - Epoch [42/60], Loss: 0.5281, Accuracy: 0.9040\n",
      "Epoch 43\n",
      "-------------------------------\n",
      "Training - Epoch [43/60], Step [10/100], Loss: 0.0111\n",
      "Training - Epoch [43/60], Step [20/100], Loss: 0.0017\n",
      "Training - Epoch [43/60], Step [30/100], Loss: 0.0016\n",
      "Training - Epoch [43/60], Step [40/100], Loss: 0.0281\n",
      "Training - Epoch [43/60], Step [50/100], Loss: 0.0271\n",
      "Training - Epoch [43/60], Step [60/100], Loss: 0.0141\n",
      "Training - Epoch [43/60], Step [70/100], Loss: 0.0159\n",
      "Training - Epoch [43/60], Step [80/100], Loss: 0.0176\n",
      "Training - Epoch [43/60], Step [90/100], Loss: 0.0234\n",
      "Training - Epoch [43/60], Step [100/100], Loss: 0.0158\n",
      "Validation - Epoch [43/60], Loss: 0.1767, Accuracy: 0.9622\n",
      "Epoch 44\n",
      "-------------------------------\n",
      "Training - Epoch [44/60], Step [10/100], Loss: 0.1575\n",
      "Training - Epoch [44/60], Step [20/100], Loss: 0.0012\n",
      "Training - Epoch [44/60], Step [30/100], Loss: 0.1695\n",
      "Training - Epoch [44/60], Step [40/100], Loss: 0.1358\n",
      "Training - Epoch [44/60], Step [50/100], Loss: 0.0936\n",
      "Training - Epoch [44/60], Step [60/100], Loss: 0.0229\n",
      "Training - Epoch [44/60], Step [70/100], Loss: 0.0227\n",
      "Training - Epoch [44/60], Step [80/100], Loss: 0.1312\n",
      "Training - Epoch [44/60], Step [90/100], Loss: 0.0889\n",
      "Training - Epoch [44/60], Step [100/100], Loss: 0.1158\n",
      "Validation - Epoch [44/60], Loss: 0.2308, Accuracy: 0.9462\n",
      "Epoch 45\n",
      "-------------------------------\n",
      "Training - Epoch [45/60], Step [10/100], Loss: 0.3282\n",
      "Training - Epoch [45/60], Step [20/100], Loss: 0.0804\n",
      "Training - Epoch [45/60], Step [30/100], Loss: 0.0517\n",
      "Training - Epoch [45/60], Step [40/100], Loss: 0.0160\n",
      "Training - Epoch [45/60], Step [50/100], Loss: 0.0601\n",
      "Training - Epoch [45/60], Step [60/100], Loss: 0.0570\n",
      "Training - Epoch [45/60], Step [70/100], Loss: 0.0087\n",
      "Training - Epoch [45/60], Step [80/100], Loss: 0.0362\n",
      "Training - Epoch [45/60], Step [90/100], Loss: 0.0044\n",
      "Training - Epoch [45/60], Step [100/100], Loss: 0.0053\n",
      "Validation - Epoch [45/60], Loss: 0.2201, Accuracy: 0.9516\n",
      "Epoch 46\n",
      "-------------------------------\n",
      "Training - Epoch [46/60], Step [10/100], Loss: 0.0013\n",
      "Training - Epoch [46/60], Step [20/100], Loss: 0.0056\n",
      "Training - Epoch [46/60], Step [30/100], Loss: 0.0153\n",
      "Training - Epoch [46/60], Step [40/100], Loss: 0.0062\n",
      "Training - Epoch [46/60], Step [50/100], Loss: 0.0022\n",
      "Training - Epoch [46/60], Step [60/100], Loss: 0.0065\n",
      "Training - Epoch [46/60], Step [70/100], Loss: 0.0162\n",
      "Training - Epoch [46/60], Step [80/100], Loss: 0.0080\n",
      "Training - Epoch [46/60], Step [90/100], Loss: 0.0168\n",
      "Training - Epoch [46/60], Step [100/100], Loss: 0.0088\n",
      "Validation - Epoch [46/60], Loss: 0.1129, Accuracy: 0.9720\n",
      "Model saved as shufflenet_v2_x0_5_font_classifier_.pth\n",
      "Epoch 47\n",
      "-------------------------------\n",
      "Training - Epoch [47/60], Step [10/100], Loss: 0.0063\n",
      "Training - Epoch [47/60], Step [20/100], Loss: 0.0041\n",
      "Training - Epoch [47/60], Step [30/100], Loss: 0.0044\n",
      "Training - Epoch [47/60], Step [40/100], Loss: 0.0179\n",
      "Training - Epoch [47/60], Step [50/100], Loss: 0.0081\n",
      "Training - Epoch [47/60], Step [60/100], Loss: 0.0043\n",
      "Training - Epoch [47/60], Step [70/100], Loss: 0.0064\n",
      "Training - Epoch [47/60], Step [80/100], Loss: 0.0010\n",
      "Training - Epoch [47/60], Step [90/100], Loss: 0.0014\n",
      "Training - Epoch [47/60], Step [100/100], Loss: 0.0395\n",
      "Validation - Epoch [47/60], Loss: 0.1313, Accuracy: 0.9662\n",
      "Epoch 48\n",
      "-------------------------------\n",
      "Training - Epoch [48/60], Step [10/100], Loss: 0.0024\n",
      "Training - Epoch [48/60], Step [20/100], Loss: 0.0012\n",
      "Training - Epoch [48/60], Step [30/100], Loss: 0.0012\n",
      "Training - Epoch [48/60], Step [40/100], Loss: 0.0121\n",
      "Training - Epoch [48/60], Step [50/100], Loss: 0.0016\n",
      "Training - Epoch [48/60], Step [60/100], Loss: 0.0017\n",
      "Training - Epoch [48/60], Step [70/100], Loss: 0.0212\n",
      "Training - Epoch [48/60], Step [80/100], Loss: 0.0031\n",
      "Training - Epoch [48/60], Step [90/100], Loss: 0.0004\n",
      "Training - Epoch [48/60], Step [100/100], Loss: 0.0023\n",
      "Validation - Epoch [48/60], Loss: 0.1125, Accuracy: 0.9671\n",
      "Model saved as shufflenet_v2_x0_5_font_classifier_.pth\n",
      "Epoch 49\n",
      "-------------------------------\n",
      "Training - Epoch [49/60], Step [10/100], Loss: 0.0010\n",
      "Training - Epoch [49/60], Step [20/100], Loss: 0.0014\n",
      "Training - Epoch [49/60], Step [30/100], Loss: 0.0007\n",
      "Training - Epoch [49/60], Step [40/100], Loss: 0.0007\n",
      "Training - Epoch [49/60], Step [50/100], Loss: 0.0008\n",
      "Training - Epoch [49/60], Step [60/100], Loss: 0.0011\n",
      "Training - Epoch [49/60], Step [70/100], Loss: 0.0025\n",
      "Training - Epoch [49/60], Step [80/100], Loss: 0.0005\n",
      "Training - Epoch [49/60], Step [90/100], Loss: 0.0114\n",
      "Training - Epoch [49/60], Step [100/100], Loss: 0.0002\n",
      "Validation - Epoch [49/60], Loss: 0.1383, Accuracy: 0.9689\n",
      "Epoch 50\n",
      "-------------------------------\n",
      "Training - Epoch [50/60], Step [10/100], Loss: 0.0005\n",
      "Training - Epoch [50/60], Step [20/100], Loss: 0.0026\n",
      "Training - Epoch [50/60], Step [30/100], Loss: 0.0147\n",
      "Training - Epoch [50/60], Step [40/100], Loss: 0.0008\n",
      "Training - Epoch [50/60], Step [50/100], Loss: 0.0006\n",
      "Training - Epoch [50/60], Step [60/100], Loss: 0.0226\n",
      "Training - Epoch [50/60], Step [70/100], Loss: 0.0007\n",
      "Training - Epoch [50/60], Step [80/100], Loss: 0.0326\n",
      "Training - Epoch [50/60], Step [90/100], Loss: 0.0253\n",
      "Training - Epoch [50/60], Step [100/100], Loss: 0.0005\n",
      "Validation - Epoch [50/60], Loss: 0.6404, Accuracy: 0.8964\n",
      "Epoch 51\n",
      "-------------------------------\n",
      "Training - Epoch [51/60], Step [10/100], Loss: 0.0016\n",
      "Training - Epoch [51/60], Step [20/100], Loss: 0.0131\n",
      "Training - Epoch [51/60], Step [30/100], Loss: 0.0018\n",
      "Training - Epoch [51/60], Step [40/100], Loss: 0.0509\n",
      "Training - Epoch [51/60], Step [50/100], Loss: 0.0175\n",
      "Training - Epoch [51/60], Step [60/100], Loss: 0.0015\n",
      "Training - Epoch [51/60], Step [70/100], Loss: 0.0022\n",
      "Training - Epoch [51/60], Step [80/100], Loss: 0.0059\n",
      "Training - Epoch [51/60], Step [90/100], Loss: 0.0225\n",
      "Training - Epoch [51/60], Step [100/100], Loss: 0.0007\n",
      "Validation - Epoch [51/60], Loss: 0.1318, Accuracy: 0.9716\n",
      "Epoch 52\n",
      "-------------------------------\n",
      "Training - Epoch [52/60], Step [10/100], Loss: 0.0010\n",
      "Training - Epoch [52/60], Step [20/100], Loss: 0.0055\n",
      "Training - Epoch [52/60], Step [30/100], Loss: 0.0108\n",
      "Training - Epoch [52/60], Step [40/100], Loss: 0.0007\n",
      "Training - Epoch [52/60], Step [50/100], Loss: 0.0301\n",
      "Training - Epoch [52/60], Step [60/100], Loss: 0.0019\n",
      "Training - Epoch [52/60], Step [70/100], Loss: 0.0003\n",
      "Training - Epoch [52/60], Step [80/100], Loss: 0.0410\n",
      "Training - Epoch [52/60], Step [90/100], Loss: 0.0023\n",
      "Training - Epoch [52/60], Step [100/100], Loss: 0.0761\n",
      "Validation - Epoch [52/60], Loss: 0.1370, Accuracy: 0.9671\n",
      "Epoch 53\n",
      "-------------------------------\n",
      "Training - Epoch [53/60], Step [10/100], Loss: 0.0004\n",
      "Training - Epoch [53/60], Step [20/100], Loss: 0.0507\n",
      "Training - Epoch [53/60], Step [30/100], Loss: 0.0002\n",
      "Training - Epoch [53/60], Step [40/100], Loss: 0.0278\n",
      "Training - Epoch [53/60], Step [50/100], Loss: 0.0002\n",
      "Training - Epoch [53/60], Step [60/100], Loss: 0.0148\n",
      "Training - Epoch [53/60], Step [70/100], Loss: 0.0014\n",
      "Training - Epoch [53/60], Step [80/100], Loss: 0.0003\n",
      "Training - Epoch [53/60], Step [90/100], Loss: 0.0002\n",
      "Training - Epoch [53/60], Step [100/100], Loss: 0.0009\n",
      "Validation - Epoch [53/60], Loss: 0.1836, Accuracy: 0.9644\n",
      "Epoch 54\n",
      "-------------------------------\n",
      "Training - Epoch [54/60], Step [10/100], Loss: 0.0018\n",
      "Training - Epoch [54/60], Step [20/100], Loss: 0.0018\n",
      "Training - Epoch [54/60], Step [30/100], Loss: 0.0271\n",
      "Training - Epoch [54/60], Step [40/100], Loss: 0.1166\n",
      "Training - Epoch [54/60], Step [50/100], Loss: 0.0057\n",
      "Training - Epoch [54/60], Step [60/100], Loss: 0.0972\n",
      "Training - Epoch [54/60], Step [70/100], Loss: 0.0094\n",
      "Training - Epoch [54/60], Step [80/100], Loss: 0.0262\n",
      "Training - Epoch [54/60], Step [90/100], Loss: 0.0548\n",
      "Training - Epoch [54/60], Step [100/100], Loss: 0.0044\n",
      "Validation - Epoch [54/60], Loss: 0.1987, Accuracy: 0.9533\n",
      "Epoch 55\n",
      "-------------------------------\n",
      "Training - Epoch [55/60], Step [10/100], Loss: 0.0015\n",
      "Training - Epoch [55/60], Step [20/100], Loss: 0.0102\n",
      "Training - Epoch [55/60], Step [30/100], Loss: 0.0567\n",
      "Training - Epoch [55/60], Step [40/100], Loss: 0.0251\n",
      "Training - Epoch [55/60], Step [50/100], Loss: 0.0119\n",
      "Training - Epoch [55/60], Step [60/100], Loss: 0.0055\n",
      "Training - Epoch [55/60], Step [70/100], Loss: 0.0099\n",
      "Training - Epoch [55/60], Step [80/100], Loss: 0.0531\n",
      "Training - Epoch [55/60], Step [90/100], Loss: 0.0331\n",
      "Training - Epoch [55/60], Step [100/100], Loss: 0.0185\n",
      "Validation - Epoch [55/60], Loss: 0.1287, Accuracy: 0.9702\n",
      "Epoch 56\n",
      "-------------------------------\n",
      "Training - Epoch [56/60], Step [10/100], Loss: 0.0871\n",
      "Training - Epoch [56/60], Step [20/100], Loss: 0.0268\n",
      "Training - Epoch [56/60], Step [30/100], Loss: 0.0966\n",
      "Training - Epoch [56/60], Step [40/100], Loss: 0.0132\n",
      "Training - Epoch [56/60], Step [50/100], Loss: 0.0905\n",
      "Training - Epoch [56/60], Step [60/100], Loss: 0.0037\n",
      "Training - Epoch [56/60], Step [70/100], Loss: 0.0443\n",
      "Training - Epoch [56/60], Step [80/100], Loss: 0.0952\n",
      "Training - Epoch [56/60], Step [90/100], Loss: 0.0206\n",
      "Training - Epoch [56/60], Step [100/100], Loss: 0.0231\n",
      "Validation - Epoch [56/60], Loss: 0.1526, Accuracy: 0.9636\n",
      "Epoch 57\n",
      "-------------------------------\n",
      "Training - Epoch [57/60], Step [10/100], Loss: 0.0423\n",
      "Training - Epoch [57/60], Step [20/100], Loss: 0.0242\n",
      "Training - Epoch [57/60], Step [30/100], Loss: 0.0628\n",
      "Training - Epoch [57/60], Step [40/100], Loss: 0.0147\n",
      "Training - Epoch [57/60], Step [50/100], Loss: 0.0087\n",
      "Training - Epoch [57/60], Step [60/100], Loss: 0.0506\n",
      "Training - Epoch [57/60], Step [70/100], Loss: 0.0215\n",
      "Training - Epoch [57/60], Step [80/100], Loss: 0.0051\n",
      "Training - Epoch [57/60], Step [90/100], Loss: 0.0029\n",
      "Training - Epoch [57/60], Step [100/100], Loss: 0.0101\n",
      "Validation - Epoch [57/60], Loss: 0.1276, Accuracy: 0.9698\n",
      "Epoch 58\n",
      "-------------------------------\n",
      "Training - Epoch [58/60], Step [10/100], Loss: 0.0245\n",
      "Training - Epoch [58/60], Step [20/100], Loss: 0.0151\n",
      "Training - Epoch [58/60], Step [30/100], Loss: 0.0257\n",
      "Training - Epoch [58/60], Step [40/100], Loss: 0.0366\n",
      "Training - Epoch [58/60], Step [50/100], Loss: 0.0162\n",
      "Training - Epoch [58/60], Step [60/100], Loss: 0.0108\n",
      "Training - Epoch [58/60], Step [70/100], Loss: 0.0134\n",
      "Training - Epoch [58/60], Step [80/100], Loss: 0.0106\n",
      "Training - Epoch [58/60], Step [90/100], Loss: 0.0092\n",
      "Training - Epoch [58/60], Step [100/100], Loss: 0.0014\n",
      "Validation - Epoch [58/60], Loss: 0.3796, Accuracy: 0.9280\n",
      "Epoch 59\n",
      "-------------------------------\n",
      "Training - Epoch [59/60], Step [10/100], Loss: 0.0724\n",
      "Training - Epoch [59/60], Step [20/100], Loss: 0.0748\n",
      "Training - Epoch [59/60], Step [30/100], Loss: 0.0035\n",
      "Training - Epoch [59/60], Step [40/100], Loss: 0.0063\n",
      "Training - Epoch [59/60], Step [50/100], Loss: 0.0590\n",
      "Training - Epoch [59/60], Step [60/100], Loss: 0.0027\n",
      "Training - Epoch [59/60], Step [70/100], Loss: 0.0029\n",
      "Training - Epoch [59/60], Step [80/100], Loss: 0.0368\n",
      "Training - Epoch [59/60], Step [90/100], Loss: 0.0256\n",
      "Training - Epoch [59/60], Step [100/100], Loss: 0.0302\n",
      "Validation - Epoch [59/60], Loss: 0.1486, Accuracy: 0.9644\n",
      "Epoch 60\n",
      "-------------------------------\n",
      "Training - Epoch [60/60], Step [10/100], Loss: 0.0012\n",
      "Training - Epoch [60/60], Step [20/100], Loss: 0.0004\n",
      "Training - Epoch [60/60], Step [30/100], Loss: 0.0049\n",
      "Training - Epoch [60/60], Step [40/100], Loss: 0.0165\n",
      "Training - Epoch [60/60], Step [50/100], Loss: 0.0048\n",
      "Training - Epoch [60/60], Step [60/100], Loss: 0.0342\n",
      "Training - Epoch [60/60], Step [70/100], Loss: 0.0051\n",
      "Training - Epoch [60/60], Step [80/100], Loss: 0.0321\n",
      "Training - Epoch [60/60], Step [90/100], Loss: 0.0518\n",
      "Training - Epoch [60/60], Step [100/100], Loss: 0.0416\n",
      "Validation - Epoch [60/60], Loss: 0.1312, Accuracy: 0.9662\n"
     ]
    }
   ],
   "source": [
    "# Define the loss function\n",
    "criterion = torch.nn.CrossEntropyLoss()\n",
    "\n",
    "# Define the optimizer\n",
    "optimizer = torch.optim.Adam(model.parameters(), lr=0.001)\n",
    "\n",
    "# Training loop\n",
    "num_epochs = 60\n",
    "best_val_loss = float('inf')\n",
    "\n",
    "# Lists to store training and validation metrics for plotting\n",
    "train_losses = []\n",
    "train_accuracies = []\n",
    "val_losses = []\n",
    "val_accuracies = []\n",
    "\n",
    "# Set the model to training mode\n",
    "model.train()\n",
    "\n",
    "# Start the training loop\n",
    "start_time = time.time()\n",
    "for epoch in range(num_epochs):\n",
    "    print(f'Epoch {epoch + 1}\\n-------------------------------')\n",
    "    # Training phase\n",
    "    model.train()\n",
    "    train_loss = 0.0\n",
    "    correct_train = 0\n",
    "    total_train = 0\n",
    "    for i, (inputs, labels) in enumerate(train_loader):\n",
    "        inputs = inputs.to(device)\n",
    "        labels = labels.to(device)\n",
    "\n",
    "        # Forward pass\n",
    "        outputs = model(inputs)\n",
    "        loss = criterion(outputs, labels)\n",
    "\n",
    "        # Backward pass\n",
    "        optimizer.zero_grad()\n",
    "        loss.backward()\n",
    "        optimizer.step()\n",
    "\n",
    "        train_loss += loss.item() * inputs.size(0)\n",
    "        \n",
    "        # Calculate accuracy\n",
    "        _, predicted = torch.max(outputs, 1)\n",
    "        total_train += labels.size(0)\n",
    "        correct_train += (predicted == labels).sum().item()\n",
    "\n",
    "        # Print training statistics\n",
    "        if (i + 1) % 10 == 0:\n",
    "            print(f'Training - Epoch [{epoch + 1}/{num_epochs}], Step [{i + 1}/{len(train_loader)}], Loss: {loss.item():.4f}')\n",
    "\n",
    "    # Calculate average training loss and accuracy\n",
    "    train_loss /= len(train_loader.dataset)\n",
    "    train_accuracy = correct_train / total_train\n",
    "    train_losses.append(train_loss)\n",
    "    train_accuracies.append(train_accuracy)\n",
    "    \n",
    "    # Validation phase\n",
    "    model.eval()\n",
    "    val_loss = 0.0\n",
    "    correct_val = 0\n",
    "    total_val = 0\n",
    "    with torch.no_grad():\n",
    "        for i, (inputs, labels) in enumerate(val_loader):\n",
    "            inputs = inputs.to(device)\n",
    "            labels = labels.to(device)\n",
    "\n",
    "            # Forward pass\n",
    "            outputs = model(inputs)\n",
    "            loss = criterion(outputs, labels)\n",
    "\n",
    "            val_loss += loss.item() * inputs.size(0)\n",
    "\n",
    "            # Calculate accuracy\n",
    "            _, predicted = torch.max(outputs, 1)\n",
    "            total_val += labels.size(0)\n",
    "            correct_val += (predicted == labels).sum().item()\n",
    "\n",
    "    # Print validation statistics\n",
    "    val_loss /= len(val_loader.dataset)\n",
    "    val_accuracy = correct_val / total_val\n",
    "    val_losses.append(val_loss)\n",
    "    val_accuracies.append(val_accuracy)\n",
    "    print(f'Validation - Epoch [{epoch + 1}/{num_epochs}], Loss: {val_loss:.4f}, Accuracy: {val_accuracy:.4f}')\n",
    "\n",
    "    # Save the model if validation loss decreases\n",
    "    if val_loss < best_val_loss:\n",
    "        best_val_loss = val_loss\n",
    "        torch.save(model.state_dict(), f'../../models/{scope}/{model_name}_font_classifier_{type}.pth')\n",
    "        print(f'Model saved as {model_name}_font_classifier_{type}.pth')\n",
    "\n",
    "end_time = time.time()"
   ],
   "metadata": {
    "collapsed": false,
    "ExecuteTime": {
     "end_time": "2024-04-24T07:48:23.161042Z",
     "start_time": "2024-04-24T07:17:16.230678Z"
    }
   },
   "id": "126f35f98051a02a",
   "execution_count": 7
  },
  {
   "cell_type": "markdown",
   "source": [
    "# Plot the training and validation metrics"
   ],
   "metadata": {
    "collapsed": false
   },
   "id": "2f8d840ac9117197"
  },
  {
   "cell_type": "code",
   "outputs": [
    {
     "data": {
      "text/plain": "<Figure size 1200x500 with 2 Axes>",
      "image/png": "[encoded data removed]"
     },
     "metadata": {},
     "output_type": "display_data"
    },
    {
     "name": "stdout",
     "output_type": "stream",
     "text": [
      "Finished Training\n",
      "Time taken for training: 1866.91 seconds\n",
      "Medium time per epoch: 31.12 seconds\n"
     ]
    }
   ],
   "source": [
    "# Plotting\n",
    "plt.figure(figsize=(12, 5))\n",
    "plt.subplot(1, 2, 1)\n",
    "plt.plot(range(1, num_epochs + 1), train_losses, label='Training Loss')\n",
    "plt.plot(range(1, num_epochs + 1), val_losses, label='Validation Loss')\n",
    "plt.xlabel('Epochs')\n",
    "plt.ylabel('Loss')\n",
    "plt.title('Training and Validation Loss')\n",
    "plt.legend()\n",
    "\n",
    "plt.subplot(1, 2, 2)\n",
    "plt.plot(range(1, num_epochs + 1), train_accuracies, label='Training Accuracy')\n",
    "plt.plot(range(1, num_epochs + 1), val_accuracies, label='Validation Accuracy')\n",
    "plt.xlabel('Epochs')\n",
    "plt.ylabel('Accuracy')\n",
    "plt.title('Training and Validation Accuracy')\n",
    "plt.legend()\n",
    "\n",
    "plt.tight_layout()\n",
    "plt.show()\n",
    "\n",
    "print('Finished Training')\n",
    "\n",
    "# Print the time taken for training\n",
    "print(f'Time taken for training: {end_time - start_time:.2f} seconds')\n",
    "## Print medium time per epoch\n",
    "print(f'Medium time per epoch: {(end_time - start_time)/num_epochs:.2f} seconds')"
   ],
   "metadata": {
    "collapsed": false,
    "ExecuteTime": {
     "end_time": "2024-04-24T07:48:23.574577Z",
     "start_time": "2024-04-24T07:48:23.162043Z"
    }
   },
   "id": "2fb4051fe48bcb0f",
   "execution_count": 8
  },
  {
   "cell_type": "markdown",
   "source": [
    "# Evaluate the model"
   ],
   "metadata": {
    "collapsed": false
   },
   "id": "5d1120839a43965"
  },
  {
   "cell_type": "markdown",
   "source": [
    "## Load the model"
   ],
   "metadata": {
    "collapsed": false
   },
   "id": "f38ec7e7c9fc2bd2"
  },
  {
   "cell_type": "code",
   "outputs": [
    {
     "name": "stdout",
     "output_type": "stream",
     "text": [
      "Model loaded from ../../models/DifferentModels/shufflenet_v2_x0_5_font_classifier_.pth\n"
     ]
    }
   ],
   "source": [
    "# Load the model\n",
    "model_path = f'../../models/{scope}/{model_name}_font_classifier_{type}.pth'\n",
    "model = models.__dict__[model_name](weights=None)\n",
    "model.load_state_dict(torch.load(model_path))\n",
    "model = model.to(device)\n",
    "print(f'Model loaded from {model_path}')"
   ],
   "metadata": {
    "collapsed": false,
    "ExecuteTime": {
     "end_time": "2024-04-24T07:48:23.635577Z",
     "start_time": "2024-04-24T07:48:23.575579Z"
    }
   },
   "id": "2d59abb3cc4d4ab1",
   "execution_count": 9
  },
  {
   "cell_type": "markdown",
   "source": [
    "## Evaluate the model\n",
    "Evaluate the model using the test set. We will compute the accuracy, precision, recall, F1-score, confusion matrix, and ROC curve."
   ],
   "metadata": {
    "collapsed": false
   },
   "id": "c4fb0a8cc4c7aaaf"
  },
  {
   "cell_type": "code",
   "outputs": [],
   "source": [
    "# Set the model to evaluation mode\n",
    "model.eval()\n",
    "\n",
    "# Initialize lists for true labels and predicted labels\n",
    "true_labels = []\n",
    "predicted_labels = []\n",
    "\n",
    "# Disable gradient computation for evaluation\n",
    "with torch.no_grad():\n",
    "    for images, labels in test_loader:\n",
    "        images = images.to(device)\n",
    "        labels = labels.to(device)\n",
    "\n",
    "        # Perform inference\n",
    "        outputs = model(images)\n",
    "        \n",
    "        # Compute predicted labels\n",
    "        _, predicted = torch.max(outputs.data, 1)\n",
    "        \n",
    "        # Append true and predicted labels to lists\n",
    "        true_labels.extend(labels.cpu().numpy())\n",
    "        predicted_labels.extend(predicted.cpu().numpy())\n",
    "\n",
    "# Convert lists to numpy arrays\n",
    "true_labels = np.array(true_labels)\n",
    "predicted_labels = np.array(predicted_labels)"
   ],
   "metadata": {
    "collapsed": false,
    "ExecuteTime": {
     "end_time": "2024-04-24T07:48:34.458477Z",
     "start_time": "2024-04-24T07:48:23.637578Z"
    }
   },
   "id": "d94dccfec1ca328d",
   "execution_count": 10
  },
  {
   "cell_type": "markdown",
   "source": [
    "## Compute metrics\n",
    "### Accuracy"
   ],
   "metadata": {
    "collapsed": false
   },
   "id": "7fc2137e6729efa2"
  },
  {
   "cell_type": "code",
   "outputs": [
    {
     "name": "stdout",
     "output_type": "stream",
     "text": [
      "Accuracy: 97.02%\n"
     ]
    }
   ],
   "source": [
    "accuracy = accuracy_score(true_labels, predicted_labels)\n",
    "print('Accuracy: {:.2f}%'.format(100 * accuracy))"
   ],
   "metadata": {
    "collapsed": false,
    "ExecuteTime": {
     "end_time": "2024-04-24T07:48:34.473477Z",
     "start_time": "2024-04-24T07:48:34.459478Z"
    }
   },
   "id": "101581d76f4e9326",
   "execution_count": 11
  },
  {
   "cell_type": "markdown",
   "source": [
    "### Precision"
   ],
   "metadata": {
    "collapsed": false
   },
   "id": "8c872a168687bbb9"
  },
  {
   "cell_type": "code",
   "outputs": [
    {
     "name": "stdout",
     "output_type": "stream",
     "text": [
      "Precision: 0.97\n"
     ]
    }
   ],
   "source": [
    "precision = precision_score(true_labels, predicted_labels, average='weighted')\n",
    "print('Precision: {:.2f}'.format(precision))"
   ],
   "metadata": {
    "collapsed": false,
    "ExecuteTime": {
     "end_time": "2024-04-24T07:48:34.488478Z",
     "start_time": "2024-04-24T07:48:34.474478Z"
    }
   },
   "id": "c0a1514893d52da3",
   "execution_count": 12
  },
  {
   "cell_type": "markdown",
   "source": [
    "### Recall"
   ],
   "metadata": {
    "collapsed": false
   },
   "id": "2d6709ac0ed49e7d"
  },
  {
   "cell_type": "code",
   "outputs": [
    {
     "name": "stdout",
     "output_type": "stream",
     "text": [
      "Recall: 0.97\n"
     ]
    }
   ],
   "source": [
    "recall = recall_score(true_labels, predicted_labels, average='weighted')\n",
    "print('Recall: {:.2f}'.format(recall))"
   ],
   "metadata": {
    "collapsed": false,
    "ExecuteTime": {
     "end_time": "2024-04-24T07:48:34.503478Z",
     "start_time": "2024-04-24T07:48:34.489478Z"
    }
   },
   "id": "cbe9cce2d6d4b849",
   "execution_count": 13
  },
  {
   "cell_type": "markdown",
   "source": [
    "### F1-score"
   ],
   "metadata": {
    "collapsed": false
   },
   "id": "a6a9ab8eaf4a00c9"
  },
  {
   "cell_type": "code",
   "outputs": [
    {
     "name": "stdout",
     "output_type": "stream",
     "text": [
      "F1-score: 0.97\n"
     ]
    }
   ],
   "source": [
    "f1 = f1_score(true_labels, predicted_labels, average='weighted')\n",
    "print('F1-score: {:.2f}'.format(f1))"
   ],
   "metadata": {
    "collapsed": false,
    "ExecuteTime": {
     "end_time": "2024-04-24T07:48:34.518477Z",
     "start_time": "2024-04-24T07:48:34.504479Z"
    }
   },
   "id": "2a87268c3e7e9e88",
   "execution_count": 14
  },
  {
   "cell_type": "markdown",
   "source": [
    "### Confusion matrix"
   ],
   "metadata": {
    "collapsed": false
   },
   "id": "3687c7ed9e290b52"
  },
  {
   "cell_type": "code",
   "outputs": [
    {
     "name": "stdout",
     "output_type": "stream",
     "text": [
      "Confusion Matrix:\n"
     ]
    },
    {
     "data": {
      "text/plain": "<Figure size 640x480 with 1 Axes>",
      "image/png": "[encoded data removed]"
     },
     "metadata": {},
     "output_type": "display_data"
    }
   ],
   "source": [
    "conf_matrix = confusion_matrix(true_labels, predicted_labels)\n",
    "print(f'Confusion Matrix:')\n",
    "sns.heatmap(conf_matrix, annot=True, cmap='Blues', fmt='g', cbar=False, xticklabels=class_names, yticklabels=class_names)\n",
    "plt.title('Confusion Matrix')\n",
    "plt.xlabel('Predicted Label')\n",
    "plt.ylabel('True Label')\n",
    "plt.show()"
   ],
   "metadata": {
    "collapsed": false,
    "ExecuteTime": {
     "end_time": "2024-04-24T07:48:35.060478Z",
     "start_time": "2024-04-24T07:48:34.519477Z"
    }
   },
   "id": "6a06849bad215169",
   "execution_count": 15
  },
  {
   "cell_type": "markdown",
   "source": [
    "### ROC curve"
   ],
   "metadata": {
    "collapsed": false
   },
   "id": "8f7a1268072e6e09"
  },
  {
   "cell_type": "code",
   "outputs": [
    {
     "data": {
      "text/plain": "[<matplotlib.lines.Line2D at 0x1ba7f9c0b80>]"
     },
     "execution_count": 16,
     "metadata": {},
     "output_type": "execute_result"
    },
    {
     "data": {
      "text/plain": "<Figure size 640x480 with 1 Axes>",
      "image/png": "[encoded data removed]"
     },
     "metadata": {},
     "output_type": "display_data"
    }
   ],
   "source": [
    "# Binarize the true labels\n",
    "true_labels_binarized = label_binarize(true_labels, classes=range(len(class_names)))\n",
    "\n",
    "# Binarize the predicted labels\n",
    "predicted_labels_binarized = label_binarize(predicted_labels, classes=range(len(class_names)))\n",
    "\n",
    "# Compute the ROC curve\n",
    "fpr = dict()\n",
    "tpr = dict()\n",
    "roc_auc = dict()\n",
    "for i in range(len(class_names)):\n",
    "    fpr[i], tpr[i], _ = roc_curve(true_labels_binarized[:, i], predicted_labels_binarized[:, i])\n",
    "    roc_auc[i] = auc(fpr[i], tpr[i])\n",
    "    \n",
    "# Plot the ROC curve\n",
    "plt.figure()\n",
    "for i in range(len(class_names)):\n",
    "    plt.plot(fpr[i], tpr[i], lw=2, label=f'ROC curve for class {class_names[i]} (area = {roc_auc[i]:0.2f})')\n",
    "plt.plot([0, 1], [0, 1], 'k--', lw=2)"
   ],
   "metadata": {
    "collapsed": false,
    "ExecuteTime": {
     "end_time": "2024-04-24T07:48:35.228477Z",
     "start_time": "2024-04-24T07:48:35.061478Z"
    }
   },
   "id": "6c7b4767f613c314",
   "execution_count": 16
  },
  {
   "cell_type": "markdown",
   "source": [],
   "metadata": {
    "collapsed": false
   },
   "id": "c4d8c6f85ef0d72c"
  }
 ],
 "metadata": {
  "kernelspec": {
   "display_name": "Python 3",
   "language": "python",
   "name": "python3"
  },
  "language_info": {
   "codemirror_mode": {
    "name": "ipython",
    "version": 2
   },
   "file_extension": ".py",
   "mimetype": "text/x-python",
   "name": "python",
   "nbconvert_exporter": "python",
   "pygments_lexer": "ipython2",
   "version": "2.7.6"
  }
 },
 "nbformat": 4,
 "nbformat_minor": 5
}
