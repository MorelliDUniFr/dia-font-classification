{
 "cells": [
  {
   "cell_type": "markdown",
   "source": [
    "# Font Classification with PyTorch and EfficientNetB1V2\n",
    "In this notebook, we will use the PyTorch deep learning framework to train a EfficientNet model to classify fonts. We will use the `torchvision` library to load the dataset and the `sklearn` library to evaluate the model using accuracy, precision, recall, F1-score, and the ROC curve. We will also visualize the confusion matrix to understand the model's performance on each class."
   ],
   "metadata": {
    "collapsed": false
   },
   "id": "4ac20b28058858bd"
  },
  {
   "cell_type": "markdown",
   "source": [
    "# Imports\n",
    "Import of the necessary libraries"
   ],
   "metadata": {
    "collapsed": false
   },
   "id": "705740ac830b5b02"
  },
  {
   "cell_type": "code",
   "outputs": [],
   "source": [
    "import numpy as np\n",
    "from torchvision import datasets, transforms\n",
    "from sklearn.metrics import accuracy_score, precision_score, recall_score, f1_score, confusion_matrix\n",
    "import seaborn as sns\n",
    "import matplotlib.pyplot as plt\n",
    "import torch\n",
    "from torchvision import models\n",
    "from torch.utils.data import DataLoader\n",
    "from sklearn.metrics import roc_curve, auc\n",
    "from sklearn.preprocessing import label_binarize\n",
    "import time\n",
    "from sys import platform"
   ],
   "metadata": {
    "collapsed": false,
    "ExecuteTime": {
     "end_time": "2024-04-23T17:56:16.926913Z",
     "start_time": "2024-04-23T17:56:14.318571Z"
    }
   },
   "id": "cd70965188811652",
   "execution_count": 1
  },
  {
   "cell_type": "markdown",
   "source": [
    "# Model choice\n",
    "Choose the model to use for training. In this case, we will use the MobileNetV3 model."
   ],
   "metadata": {
    "collapsed": false
   },
   "id": "89723516c4abb2e6"
  },
  {
   "cell_type": "code",
   "outputs": [
    {
     "name": "stdout",
     "output_type": "stream",
     "text": [
      "Using model: efficientnet_b1\n"
     ]
    }
   ],
   "source": [
    "model_name = 'efficientnet_b1'\n",
    "print(f'Using model: {model_name}')"
   ],
   "metadata": {
    "collapsed": false,
    "ExecuteTime": {
     "end_time": "2024-04-23T17:56:16.942913Z",
     "start_time": "2024-04-23T17:56:16.927914Z"
    }
   },
   "id": "ef4e56728f9785b4",
   "execution_count": 2
  },
  {
   "cell_type": "markdown",
   "source": [
    "# Loading and preparing the dataset\n",
    "Load the dataset and prepare it for training. We will resize the images to a fixed size, convert them to tensors, and normalize the pixel values.\n",
    "\n",
    "## Preprocessing\n",
    "1. Resize the images to a fixed size\n",
    "2. Convert the images to tensors\n",
    "3. Normalize the pixel values"
   ],
   "metadata": {
    "collapsed": false
   },
   "id": "b2dabad339631e94"
  },
  {
   "cell_type": "code",
   "outputs": [],
   "source": [
    "# From the dataset, we know that the images have a height of 32 pixels and a width (on average) of 150 pixels\n",
    "image_height = 32\n",
    "image_width = 150\n",
    "\n",
    "# Define the percentage of the dataset to use for training\n",
    "train_size_perc = 0.7\n",
    "\n",
    "# Set the seed for reproducibility\n",
    "torch.manual_seed(0)\n",
    "\n",
    "# Define transformations for preprocessing\n",
    "transform = transforms.Compose([\n",
    "    transforms.Resize((image_height, image_width)),  # Resize images to a fixed size\n",
    "    transforms.ToTensor(),                           # Convert images to tensors\n",
    "    transforms.Normalize(mean=[0.25, 0.25, 0.25],      # Normalize pixel values\n",
    "                         std=[0.25, 0.25, 0.25])])"
   ],
   "metadata": {
    "collapsed": false,
    "ExecuteTime": {
     "end_time": "2024-04-23T17:56:16.957913Z",
     "start_time": "2024-04-23T17:56:16.943914Z"
    }
   },
   "id": "cdc44275b7dbe9ba",
   "execution_count": 3
  },
  {
   "cell_type": "markdown",
   "source": [
    "## Load the dataset\n",
    "Load the dataset using the `ImageFolder` class from `torchvision`. We will split the dataset into training, validation, and test sets. We will use 70% of the dataset for training, 15% for validation, and 15% for testing."
   ],
   "metadata": {
    "collapsed": false
   },
   "id": "8906c87c81b7569c"
  },
  {
   "cell_type": "code",
   "outputs": [],
   "source": [
    "# Path to the dataset\n",
    "data_dir = '../../fonts'\n",
    "\n",
    "# Notebook scope and type\n",
    "scope = 'DifferentModels'\n",
    "type = ''\n",
    "\n",
    "# Load the dataset using ImageFolder\n",
    "dataset = datasets.ImageFolder(root=data_dir, transform=transform)\n",
    "\n",
    "# Define the sizes of the training, validation, and test sets\n",
    "train_size = int(train_size_perc * len(dataset))  # 70% of the dataset for training\n",
    "val_size = int(((1.0 - train_size_perc)/2) * len(dataset))    # 15% for validation\n",
    "test_size = len(dataset) - train_size - val_size  # Remaining for test (15%)\n",
    "\n",
    "# Split the dataset into training, validation, and test sets\n",
    "train_dataset, val_dataset, test_dataset = torch.utils.data.random_split(\n",
    "    dataset, [train_size, val_size, test_size])\n",
    "\n",
    "# Define the batch size as a percentage of the training set, in this case 1%\n",
    "batch_size = int(train_size * 0.01)\n",
    "\n",
    "# Create data loaders for training, validation, and test sets\n",
    "train_loader = torch.utils.data.DataLoader(train_dataset, batch_size=batch_size, shuffle=True)\n",
    "val_loader = torch.utils.data.DataLoader(val_dataset, batch_size=batch_size, shuffle=True)\n",
    "test_loader = torch.utils.data.DataLoader(test_dataset, batch_size=batch_size, shuffle=False)"
   ],
   "metadata": {
    "collapsed": false,
    "ExecuteTime": {
     "end_time": "2024-04-23T17:56:17.033913Z",
     "start_time": "2024-04-23T17:56:16.958913Z"
    }
   },
   "id": "9d9c8c978a1ebdbd",
   "execution_count": 4
  },
  {
   "cell_type": "markdown",
   "source": [
    "## Dataset information"
   ],
   "metadata": {
    "collapsed": false
   },
   "id": "afdcf3568e6bb0e6"
  },
  {
   "cell_type": "code",
   "outputs": [
    {
     "name": "stdout",
     "output_type": "stream",
     "text": [
      "Number of images: 15000\n",
      "Number of batches: 100\n",
      "Batch size: 105\n",
      "Number of training images: 10500\n",
      "Number of validation images: 2250\n",
      "Number of test images: 2250\n",
      "Class names: ['Algerian', 'Arial', 'Baskerville', 'Calibry', 'Calligraphy', 'Cambria', 'Comic Sans MS', 'Courier', 'Elephant', 'Fascinate', 'Georgia', 'Helvetica', 'Lucida Bright', 'Nasalization', 'Times New Roman']\n"
     ]
    }
   ],
   "source": [
    "num_images = len(dataset)\n",
    "num_batches = len(train_loader)\n",
    "print(f'Number of images: {num_images}')\n",
    "print(f'Number of batches: {num_batches}')\n",
    "print(f'Batch size: {batch_size}')\n",
    "print(f'Number of training images: {len(train_dataset)}')\n",
    "print(f'Number of validation images: {len(val_dataset)}')\n",
    "print(f'Number of test images: {len(test_dataset)}')\n",
    "\n",
    "# Get the class names\n",
    "class_names = dataset.classes\n",
    "print(f'Class names: {class_names}')"
   ],
   "metadata": {
    "collapsed": false,
    "ExecuteTime": {
     "end_time": "2024-04-23T17:56:17.048911Z",
     "start_time": "2024-04-23T17:56:17.034913Z"
    }
   },
   "id": "1975b1b1848ca2ac",
   "execution_count": 5
  },
  {
   "cell_type": "markdown",
   "source": [
    "# Loading the model\n",
    "Load the EfficientNetB1V2 model and move it to the device (CPU or GPU)."
   ],
   "metadata": {
    "collapsed": false
   },
   "id": "bd836b0d47a237ba"
  },
  {
   "cell_type": "code",
   "outputs": [
    {
     "name": "stdout",
     "output_type": "stream",
     "text": [
      "Model moved to cpu\n"
     ]
    }
   ],
   "source": [
    "# Load the model and replace the fully connected layer\n",
    "model = models.__dict__[model_name](weights=None)\n",
    "\n",
    "# Move model to the device (CPU or GPU)\n",
    "if platform != \"win32\":\n",
    "    device = torch.device('mps' if torch.backends.mps.is_available() else 'cpu')\n",
    "else:\n",
    "    device = torch.device('gpu' if torch.cuda.is_available() else 'cpu')\n",
    "model = model.to(device)\n",
    "print(f'Model moved to {device}')"
   ],
   "metadata": {
    "collapsed": false,
    "ExecuteTime": {
     "end_time": "2024-04-23T17:56:17.174912Z",
     "start_time": "2024-04-23T17:56:17.050913Z"
    }
   },
   "id": "8e9ad926f379fab5",
   "execution_count": 6
  },
  {
   "cell_type": "markdown",
   "source": [
    "# Training the model\n",
    "Train the model using the training set and validate it using the validation set. We will use the Adam optimizer and the CrossEntropy loss function. We will save the model with the lowest validation loss."
   ],
   "metadata": {
    "collapsed": false
   },
   "id": "eebc3e7a492ce85"
  },
  {
   "cell_type": "code",
   "outputs": [
    {
     "name": "stdout",
     "output_type": "stream",
     "text": [
      "Epoch 1\n",
      "-------------------------------\n",
      "Training - Epoch [1/60], Step [10/100], Loss: 4.9854\n",
      "Training - Epoch [1/60], Step [20/100], Loss: 3.2073\n",
      "Training - Epoch [1/60], Step [30/100], Loss: 2.6672\n",
      "Training - Epoch [1/60], Step [40/100], Loss: 2.6610\n",
      "Training - Epoch [1/60], Step [50/100], Loss: 2.3694\n",
      "Training - Epoch [1/60], Step [60/100], Loss: 2.2415\n",
      "Training - Epoch [1/60], Step [70/100], Loss: 2.0058\n",
      "Training - Epoch [1/60], Step [80/100], Loss: 2.0152\n",
      "Training - Epoch [1/60], Step [90/100], Loss: 1.7098\n",
      "Training - Epoch [1/60], Step [100/100], Loss: 1.6875\n",
      "Validation - Epoch [1/60], Loss: 1.7534, Accuracy: 0.3942\n",
      "Model saved as efficientnet_b1_font_classifier_.pth\n",
      "Epoch 2\n",
      "-------------------------------\n",
      "Training - Epoch [2/60], Step [10/100], Loss: 1.6143\n",
      "Training - Epoch [2/60], Step [20/100], Loss: 1.2791\n",
      "Training - Epoch [2/60], Step [30/100], Loss: 1.1677\n",
      "Training - Epoch [2/60], Step [40/100], Loss: 0.9560\n",
      "Training - Epoch [2/60], Step [50/100], Loss: 0.9670\n",
      "Training - Epoch [2/60], Step [60/100], Loss: 1.0121\n",
      "Training - Epoch [2/60], Step [70/100], Loss: 0.8736\n",
      "Training - Epoch [2/60], Step [80/100], Loss: 0.9254\n",
      "Training - Epoch [2/60], Step [90/100], Loss: 0.8028\n",
      "Training - Epoch [2/60], Step [100/100], Loss: 0.7706\n",
      "Validation - Epoch [2/60], Loss: 0.9886, Accuracy: 0.6013\n",
      "Model saved as efficientnet_b1_font_classifier_.pth\n",
      "Epoch 3\n",
      "-------------------------------\n",
      "Training - Epoch [3/60], Step [10/100], Loss: 0.6915\n",
      "Training - Epoch [3/60], Step [20/100], Loss: 0.8670\n",
      "Training - Epoch [3/60], Step [30/100], Loss: 0.6215\n",
      "Training - Epoch [3/60], Step [40/100], Loss: 0.6084\n",
      "Training - Epoch [3/60], Step [50/100], Loss: 0.9650\n",
      "Training - Epoch [3/60], Step [60/100], Loss: 0.7120\n",
      "Training - Epoch [3/60], Step [70/100], Loss: 0.6224\n",
      "Training - Epoch [3/60], Step [80/100], Loss: 0.3895\n",
      "Training - Epoch [3/60], Step [90/100], Loss: 0.4574\n",
      "Training - Epoch [3/60], Step [100/100], Loss: 0.6157\n",
      "Validation - Epoch [3/60], Loss: 0.4008, Accuracy: 0.8591\n",
      "Model saved as efficientnet_b1_font_classifier_.pth\n",
      "Epoch 4\n",
      "-------------------------------\n",
      "Training - Epoch [4/60], Step [10/100], Loss: 0.4595\n",
      "Training - Epoch [4/60], Step [20/100], Loss: 0.3993\n",
      "Training - Epoch [4/60], Step [30/100], Loss: 0.3162\n",
      "Training - Epoch [4/60], Step [40/100], Loss: 0.4312\n",
      "Training - Epoch [4/60], Step [50/100], Loss: 0.3032\n",
      "Training - Epoch [4/60], Step [60/100], Loss: 0.3474\n",
      "Training - Epoch [4/60], Step [70/100], Loss: 0.5855\n",
      "Training - Epoch [4/60], Step [80/100], Loss: 0.2380\n",
      "Training - Epoch [4/60], Step [90/100], Loss: 0.2382\n",
      "Training - Epoch [4/60], Step [100/100], Loss: 0.2871\n",
      "Validation - Epoch [4/60], Loss: 0.3066, Accuracy: 0.8964\n",
      "Model saved as efficientnet_b1_font_classifier_.pth\n",
      "Epoch 5\n",
      "-------------------------------\n",
      "Training - Epoch [5/60], Step [10/100], Loss: 0.2009\n",
      "Training - Epoch [5/60], Step [20/100], Loss: 0.2950\n",
      "Training - Epoch [5/60], Step [30/100], Loss: 0.2634\n",
      "Training - Epoch [5/60], Step [40/100], Loss: 0.2666\n",
      "Training - Epoch [5/60], Step [50/100], Loss: 0.1304\n",
      "Training - Epoch [5/60], Step [60/100], Loss: 0.1556\n",
      "Training - Epoch [5/60], Step [70/100], Loss: 0.1959\n",
      "Training - Epoch [5/60], Step [80/100], Loss: 0.1909\n",
      "Training - Epoch [5/60], Step [90/100], Loss: 0.1315\n",
      "Training - Epoch [5/60], Step [100/100], Loss: 0.1439\n",
      "Validation - Epoch [5/60], Loss: 0.2381, Accuracy: 0.9209\n",
      "Model saved as efficientnet_b1_font_classifier_.pth\n",
      "Epoch 6\n",
      "-------------------------------\n",
      "Training - Epoch [6/60], Step [10/100], Loss: 0.0622\n",
      "Training - Epoch [6/60], Step [20/100], Loss: 0.0805\n",
      "Training - Epoch [6/60], Step [30/100], Loss: 0.1242\n",
      "Training - Epoch [6/60], Step [40/100], Loss: 0.1207\n",
      "Training - Epoch [6/60], Step [50/100], Loss: 0.1518\n",
      "Training - Epoch [6/60], Step [60/100], Loss: 0.0504\n",
      "Training - Epoch [6/60], Step [70/100], Loss: 0.0545\n",
      "Training - Epoch [6/60], Step [80/100], Loss: 0.1373\n",
      "Training - Epoch [6/60], Step [90/100], Loss: 0.1380\n",
      "Training - Epoch [6/60], Step [100/100], Loss: 0.1043\n",
      "Validation - Epoch [6/60], Loss: 0.1036, Accuracy: 0.9698\n",
      "Model saved as efficientnet_b1_font_classifier_.pth\n",
      "Epoch 7\n",
      "-------------------------------\n",
      "Training - Epoch [7/60], Step [10/100], Loss: 0.1962\n",
      "Training - Epoch [7/60], Step [20/100], Loss: 0.1928\n",
      "Training - Epoch [7/60], Step [30/100], Loss: 0.0335\n",
      "Training - Epoch [7/60], Step [40/100], Loss: 0.0539\n",
      "Training - Epoch [7/60], Step [50/100], Loss: 0.1698\n",
      "Training - Epoch [7/60], Step [60/100], Loss: 0.0636\n",
      "Training - Epoch [7/60], Step [70/100], Loss: 0.0988\n",
      "Training - Epoch [7/60], Step [80/100], Loss: 0.1333\n",
      "Training - Epoch [7/60], Step [90/100], Loss: 0.1026\n",
      "Training - Epoch [7/60], Step [100/100], Loss: 0.1116\n",
      "Validation - Epoch [7/60], Loss: 0.1452, Accuracy: 0.9569\n",
      "Epoch 8\n",
      "-------------------------------\n",
      "Training - Epoch [8/60], Step [10/100], Loss: 0.3396\n",
      "Training - Epoch [8/60], Step [20/100], Loss: 0.3072\n",
      "Training - Epoch [8/60], Step [30/100], Loss: 0.1584\n",
      "Training - Epoch [8/60], Step [40/100], Loss: 0.1159\n",
      "Training - Epoch [8/60], Step [50/100], Loss: 0.2082\n",
      "Training - Epoch [8/60], Step [60/100], Loss: 0.0493\n",
      "Training - Epoch [8/60], Step [70/100], Loss: 0.1113\n",
      "Training - Epoch [8/60], Step [80/100], Loss: 0.1699\n",
      "Training - Epoch [8/60], Step [90/100], Loss: 0.0613\n",
      "Training - Epoch [8/60], Step [100/100], Loss: 0.1379\n",
      "Validation - Epoch [8/60], Loss: 0.1234, Accuracy: 0.9622\n",
      "Epoch 9\n",
      "-------------------------------\n",
      "Training - Epoch [9/60], Step [10/100], Loss: 0.0930\n",
      "Training - Epoch [9/60], Step [20/100], Loss: 0.0107\n",
      "Training - Epoch [9/60], Step [30/100], Loss: 0.1065\n",
      "Training - Epoch [9/60], Step [40/100], Loss: 0.0282\n",
      "Training - Epoch [9/60], Step [50/100], Loss: 0.1456\n",
      "Training - Epoch [9/60], Step [60/100], Loss: 0.1487\n",
      "Training - Epoch [9/60], Step [70/100], Loss: 0.0158\n",
      "Training - Epoch [9/60], Step [80/100], Loss: 0.0567\n",
      "Training - Epoch [9/60], Step [90/100], Loss: 0.1436\n",
      "Training - Epoch [9/60], Step [100/100], Loss: 0.0911\n",
      "Validation - Epoch [9/60], Loss: 0.0635, Accuracy: 0.9804\n",
      "Model saved as efficientnet_b1_font_classifier_.pth\n",
      "Epoch 10\n",
      "-------------------------------\n",
      "Training - Epoch [10/60], Step [10/100], Loss: 0.2450\n",
      "Training - Epoch [10/60], Step [20/100], Loss: 0.0471\n",
      "Training - Epoch [10/60], Step [30/100], Loss: 0.0968\n",
      "Training - Epoch [10/60], Step [40/100], Loss: 0.0989\n",
      "Training - Epoch [10/60], Step [50/100], Loss: 0.0761\n",
      "Training - Epoch [10/60], Step [60/100], Loss: 0.0264\n",
      "Training - Epoch [10/60], Step [70/100], Loss: 0.0645\n",
      "Training - Epoch [10/60], Step [80/100], Loss: 0.0809\n",
      "Training - Epoch [10/60], Step [90/100], Loss: 0.1488\n",
      "Training - Epoch [10/60], Step [100/100], Loss: 0.2526\n",
      "Validation - Epoch [10/60], Loss: 0.1229, Accuracy: 0.9600\n",
      "Epoch 11\n",
      "-------------------------------\n",
      "Training - Epoch [11/60], Step [10/100], Loss: 0.1047\n",
      "Training - Epoch [11/60], Step [20/100], Loss: 0.0220\n",
      "Training - Epoch [11/60], Step [30/100], Loss: 0.0658\n",
      "Training - Epoch [11/60], Step [40/100], Loss: 0.1450\n",
      "Training - Epoch [11/60], Step [50/100], Loss: 0.1378\n",
      "Training - Epoch [11/60], Step [60/100], Loss: 0.1005\n",
      "Training - Epoch [11/60], Step [70/100], Loss: 0.0216\n",
      "Training - Epoch [11/60], Step [80/100], Loss: 0.0599\n",
      "Training - Epoch [11/60], Step [90/100], Loss: 0.0952\n",
      "Training - Epoch [11/60], Step [100/100], Loss: 0.1934\n",
      "Validation - Epoch [11/60], Loss: 0.0767, Accuracy: 0.9787\n",
      "Epoch 12\n",
      "-------------------------------\n",
      "Training - Epoch [12/60], Step [10/100], Loss: 0.0398\n",
      "Training - Epoch [12/60], Step [20/100], Loss: 0.0251\n",
      "Training - Epoch [12/60], Step [30/100], Loss: 0.1031\n",
      "Training - Epoch [12/60], Step [40/100], Loss: 0.0649\n",
      "Training - Epoch [12/60], Step [50/100], Loss: 0.0937\n",
      "Training - Epoch [12/60], Step [60/100], Loss: 0.0689\n",
      "Training - Epoch [12/60], Step [70/100], Loss: 0.0786\n",
      "Training - Epoch [12/60], Step [80/100], Loss: 0.0121\n",
      "Training - Epoch [12/60], Step [90/100], Loss: 0.0218\n",
      "Training - Epoch [12/60], Step [100/100], Loss: 0.0299\n",
      "Validation - Epoch [12/60], Loss: 0.0697, Accuracy: 0.9791\n",
      "Epoch 13\n",
      "-------------------------------\n",
      "Training - Epoch [13/60], Step [10/100], Loss: 0.0199\n",
      "Training - Epoch [13/60], Step [20/100], Loss: 0.0942\n",
      "Training - Epoch [13/60], Step [30/100], Loss: 0.0367\n",
      "Training - Epoch [13/60], Step [40/100], Loss: 0.0462\n",
      "Training - Epoch [13/60], Step [50/100], Loss: 0.0424\n",
      "Training - Epoch [13/60], Step [60/100], Loss: 0.2612\n",
      "Training - Epoch [13/60], Step [70/100], Loss: 0.0661\n",
      "Training - Epoch [13/60], Step [80/100], Loss: 0.1412\n",
      "Training - Epoch [13/60], Step [90/100], Loss: 0.0881\n",
      "Training - Epoch [13/60], Step [100/100], Loss: 0.0619\n",
      "Validation - Epoch [13/60], Loss: 0.0531, Accuracy: 0.9844\n",
      "Model saved as efficientnet_b1_font_classifier_.pth\n",
      "Epoch 14\n",
      "-------------------------------\n",
      "Training - Epoch [14/60], Step [10/100], Loss: 0.0150\n",
      "Training - Epoch [14/60], Step [20/100], Loss: 0.0198\n",
      "Training - Epoch [14/60], Step [30/100], Loss: 0.0368\n",
      "Training - Epoch [14/60], Step [40/100], Loss: 0.0680\n",
      "Training - Epoch [14/60], Step [50/100], Loss: 0.0164\n",
      "Training - Epoch [14/60], Step [60/100], Loss: 0.0542\n",
      "Training - Epoch [14/60], Step [70/100], Loss: 0.0788\n",
      "Training - Epoch [14/60], Step [80/100], Loss: 0.0258\n",
      "Training - Epoch [14/60], Step [90/100], Loss: 0.0360\n",
      "Training - Epoch [14/60], Step [100/100], Loss: 0.0249\n",
      "Validation - Epoch [14/60], Loss: 0.0562, Accuracy: 0.9827\n",
      "Epoch 15\n",
      "-------------------------------\n",
      "Training - Epoch [15/60], Step [10/100], Loss: 0.0041\n",
      "Training - Epoch [15/60], Step [20/100], Loss: 0.0244\n",
      "Training - Epoch [15/60], Step [30/100], Loss: 0.1347\n",
      "Training - Epoch [15/60], Step [40/100], Loss: 0.0695\n",
      "Training - Epoch [15/60], Step [50/100], Loss: 0.0417\n",
      "Training - Epoch [15/60], Step [60/100], Loss: 0.0088\n",
      "Training - Epoch [15/60], Step [70/100], Loss: 0.0527\n",
      "Training - Epoch [15/60], Step [80/100], Loss: 0.0524\n",
      "Training - Epoch [15/60], Step [90/100], Loss: 0.0327\n",
      "Training - Epoch [15/60], Step [100/100], Loss: 0.0241\n",
      "Validation - Epoch [15/60], Loss: 0.0900, Accuracy: 0.9751\n",
      "Epoch 16\n",
      "-------------------------------\n",
      "Training - Epoch [16/60], Step [10/100], Loss: 0.0380\n",
      "Training - Epoch [16/60], Step [20/100], Loss: 0.0143\n",
      "Training - Epoch [16/60], Step [30/100], Loss: 0.0069\n",
      "Training - Epoch [16/60], Step [40/100], Loss: 0.0103\n",
      "Training - Epoch [16/60], Step [50/100], Loss: 0.0395\n",
      "Training - Epoch [16/60], Step [60/100], Loss: 0.0590\n",
      "Training - Epoch [16/60], Step [70/100], Loss: 0.0059\n",
      "Training - Epoch [16/60], Step [80/100], Loss: 0.0106\n",
      "Training - Epoch [16/60], Step [90/100], Loss: 0.0049\n",
      "Training - Epoch [16/60], Step [100/100], Loss: 0.0362\n",
      "Validation - Epoch [16/60], Loss: 0.0744, Accuracy: 0.9782\n",
      "Epoch 17\n",
      "-------------------------------\n",
      "Training - Epoch [17/60], Step [10/100], Loss: 0.0545\n",
      "Training - Epoch [17/60], Step [20/100], Loss: 0.0120\n",
      "Training - Epoch [17/60], Step [30/100], Loss: 0.0074\n",
      "Training - Epoch [17/60], Step [40/100], Loss: 0.0108\n",
      "Training - Epoch [17/60], Step [50/100], Loss: 0.0089\n",
      "Training - Epoch [17/60], Step [60/100], Loss: 0.0014\n",
      "Training - Epoch [17/60], Step [70/100], Loss: 0.0623\n",
      "Training - Epoch [17/60], Step [80/100], Loss: 0.0733\n",
      "Training - Epoch [17/60], Step [90/100], Loss: 0.0041\n",
      "Training - Epoch [17/60], Step [100/100], Loss: 0.0520\n",
      "Validation - Epoch [17/60], Loss: 0.0522, Accuracy: 0.9871\n",
      "Model saved as efficientnet_b1_font_classifier_.pth\n",
      "Epoch 18\n",
      "-------------------------------\n",
      "Training - Epoch [18/60], Step [10/100], Loss: 0.0200\n",
      "Training - Epoch [18/60], Step [20/100], Loss: 0.0255\n",
      "Training - Epoch [18/60], Step [30/100], Loss: 0.0548\n",
      "Training - Epoch [18/60], Step [40/100], Loss: 0.0047\n",
      "Training - Epoch [18/60], Step [50/100], Loss: 0.0062\n",
      "Training - Epoch [18/60], Step [60/100], Loss: 0.0428\n",
      "Training - Epoch [18/60], Step [70/100], Loss: 0.0074\n",
      "Training - Epoch [18/60], Step [80/100], Loss: 0.0085\n",
      "Training - Epoch [18/60], Step [90/100], Loss: 0.0355\n",
      "Training - Epoch [18/60], Step [100/100], Loss: 0.0129\n",
      "Validation - Epoch [18/60], Loss: 0.0713, Accuracy: 0.9822\n",
      "Epoch 19\n",
      "-------------------------------\n",
      "Training - Epoch [19/60], Step [10/100], Loss: 0.0140\n",
      "Training - Epoch [19/60], Step [20/100], Loss: 0.0308\n",
      "Training - Epoch [19/60], Step [30/100], Loss: 0.0025\n",
      "Training - Epoch [19/60], Step [40/100], Loss: 0.0782\n",
      "Training - Epoch [19/60], Step [50/100], Loss: 0.0653\n",
      "Training - Epoch [19/60], Step [60/100], Loss: 0.0178\n",
      "Training - Epoch [19/60], Step [70/100], Loss: 0.0676\n",
      "Training - Epoch [19/60], Step [80/100], Loss: 0.0411\n",
      "Training - Epoch [19/60], Step [90/100], Loss: 0.0156\n",
      "Training - Epoch [19/60], Step [100/100], Loss: 0.1172\n",
      "Validation - Epoch [19/60], Loss: 0.0634, Accuracy: 0.9813\n",
      "Epoch 20\n",
      "-------------------------------\n",
      "Training - Epoch [20/60], Step [10/100], Loss: 0.0429\n",
      "Training - Epoch [20/60], Step [20/100], Loss: 0.0237\n",
      "Training - Epoch [20/60], Step [30/100], Loss: 0.0095\n",
      "Training - Epoch [20/60], Step [40/100], Loss: 0.0302\n",
      "Training - Epoch [20/60], Step [50/100], Loss: 0.0267\n",
      "Training - Epoch [20/60], Step [60/100], Loss: 0.0807\n",
      "Training - Epoch [20/60], Step [70/100], Loss: 0.0118\n",
      "Training - Epoch [20/60], Step [80/100], Loss: 0.0122\n",
      "Training - Epoch [20/60], Step [90/100], Loss: 0.0540\n",
      "Training - Epoch [20/60], Step [100/100], Loss: 0.0483\n",
      "Validation - Epoch [20/60], Loss: 0.0715, Accuracy: 0.9787\n",
      "Epoch 21\n",
      "-------------------------------\n",
      "Training - Epoch [21/60], Step [10/100], Loss: 0.0697\n",
      "Training - Epoch [21/60], Step [20/100], Loss: 0.0954\n",
      "Training - Epoch [21/60], Step [30/100], Loss: 0.0092\n",
      "Training - Epoch [21/60], Step [40/100], Loss: 0.0462\n",
      "Training - Epoch [21/60], Step [50/100], Loss: 0.0134\n",
      "Training - Epoch [21/60], Step [60/100], Loss: 0.0259\n",
      "Training - Epoch [21/60], Step [70/100], Loss: 0.0093\n",
      "Training - Epoch [21/60], Step [80/100], Loss: 0.0733\n",
      "Training - Epoch [21/60], Step [90/100], Loss: 0.0054\n",
      "Training - Epoch [21/60], Step [100/100], Loss: 0.0293\n",
      "Validation - Epoch [21/60], Loss: 0.0685, Accuracy: 0.9796\n",
      "Epoch 22\n",
      "-------------------------------\n",
      "Training - Epoch [22/60], Step [10/100], Loss: 0.0224\n",
      "Training - Epoch [22/60], Step [20/100], Loss: 0.0334\n",
      "Training - Epoch [22/60], Step [30/100], Loss: 0.1085\n",
      "Training - Epoch [22/60], Step [40/100], Loss: 0.0426\n",
      "Training - Epoch [22/60], Step [50/100], Loss: 0.0106\n",
      "Training - Epoch [22/60], Step [60/100], Loss: 0.0453\n",
      "Training - Epoch [22/60], Step [70/100], Loss: 0.0620\n",
      "Training - Epoch [22/60], Step [80/100], Loss: 0.0191\n",
      "Training - Epoch [22/60], Step [90/100], Loss: 0.0131\n",
      "Training - Epoch [22/60], Step [100/100], Loss: 0.0043\n",
      "Validation - Epoch [22/60], Loss: 0.0646, Accuracy: 0.9844\n",
      "Epoch 23\n",
      "-------------------------------\n",
      "Training - Epoch [23/60], Step [10/100], Loss: 0.0386\n",
      "Training - Epoch [23/60], Step [20/100], Loss: 0.0007\n",
      "Training - Epoch [23/60], Step [30/100], Loss: 0.0252\n",
      "Training - Epoch [23/60], Step [40/100], Loss: 0.0051\n",
      "Training - Epoch [23/60], Step [50/100], Loss: 0.0423\n",
      "Training - Epoch [23/60], Step [60/100], Loss: 0.0287\n",
      "Training - Epoch [23/60], Step [70/100], Loss: 0.0857\n",
      "Training - Epoch [23/60], Step [80/100], Loss: 0.0148\n",
      "Training - Epoch [23/60], Step [90/100], Loss: 0.0942\n",
      "Training - Epoch [23/60], Step [100/100], Loss: 0.0277\n",
      "Validation - Epoch [23/60], Loss: 0.0431, Accuracy: 0.9876\n",
      "Model saved as efficientnet_b1_font_classifier_.pth\n",
      "Epoch 24\n",
      "-------------------------------\n",
      "Training - Epoch [24/60], Step [10/100], Loss: 0.0174\n",
      "Training - Epoch [24/60], Step [20/100], Loss: 0.1886\n",
      "Training - Epoch [24/60], Step [30/100], Loss: 0.0187\n",
      "Training - Epoch [24/60], Step [40/100], Loss: 0.0035\n",
      "Training - Epoch [24/60], Step [50/100], Loss: 0.0334\n",
      "Training - Epoch [24/60], Step [60/100], Loss: 0.0644\n",
      "Training - Epoch [24/60], Step [70/100], Loss: 0.0580\n",
      "Training - Epoch [24/60], Step [80/100], Loss: 0.0081\n",
      "Training - Epoch [24/60], Step [90/100], Loss: 0.0013\n",
      "Training - Epoch [24/60], Step [100/100], Loss: 0.0319\n",
      "Validation - Epoch [24/60], Loss: 0.0561, Accuracy: 0.9840\n",
      "Epoch 25\n",
      "-------------------------------\n",
      "Training - Epoch [25/60], Step [10/100], Loss: 0.0440\n",
      "Training - Epoch [25/60], Step [20/100], Loss: 0.0259\n",
      "Training - Epoch [25/60], Step [30/100], Loss: 0.0161\n",
      "Training - Epoch [25/60], Step [40/100], Loss: 0.0169\n",
      "Training - Epoch [25/60], Step [50/100], Loss: 0.0016\n",
      "Training - Epoch [25/60], Step [60/100], Loss: 0.0011\n",
      "Training - Epoch [25/60], Step [70/100], Loss: 0.0089\n",
      "Training - Epoch [25/60], Step [80/100], Loss: 0.0070\n",
      "Training - Epoch [25/60], Step [90/100], Loss: 0.0029\n",
      "Training - Epoch [25/60], Step [100/100], Loss: 0.0560\n",
      "Validation - Epoch [25/60], Loss: 0.0604, Accuracy: 0.9871\n",
      "Epoch 26\n",
      "-------------------------------\n",
      "Training - Epoch [26/60], Step [10/100], Loss: 0.0374\n",
      "Training - Epoch [26/60], Step [20/100], Loss: 0.0251\n",
      "Training - Epoch [26/60], Step [30/100], Loss: 0.0466\n",
      "Training - Epoch [26/60], Step [40/100], Loss: 0.0216\n",
      "Training - Epoch [26/60], Step [50/100], Loss: 0.0007\n",
      "Training - Epoch [26/60], Step [60/100], Loss: 0.0101\n",
      "Training - Epoch [26/60], Step [70/100], Loss: 0.0882\n",
      "Training - Epoch [26/60], Step [80/100], Loss: 0.0160\n",
      "Training - Epoch [26/60], Step [90/100], Loss: 0.0226\n",
      "Training - Epoch [26/60], Step [100/100], Loss: 0.0114\n",
      "Validation - Epoch [26/60], Loss: 0.0424, Accuracy: 0.9889\n",
      "Model saved as efficientnet_b1_font_classifier_.pth\n",
      "Epoch 27\n",
      "-------------------------------\n",
      "Training - Epoch [27/60], Step [10/100], Loss: 0.0056\n",
      "Training - Epoch [27/60], Step [20/100], Loss: 0.0199\n",
      "Training - Epoch [27/60], Step [30/100], Loss: 0.0275\n",
      "Training - Epoch [27/60], Step [40/100], Loss: 0.0227\n",
      "Training - Epoch [27/60], Step [50/100], Loss: 0.0119\n",
      "Training - Epoch [27/60], Step [60/100], Loss: 0.0041\n",
      "Training - Epoch [27/60], Step [70/100], Loss: 0.0166\n",
      "Training - Epoch [27/60], Step [80/100], Loss: 0.0032\n",
      "Training - Epoch [27/60], Step [90/100], Loss: 0.0643\n",
      "Training - Epoch [27/60], Step [100/100], Loss: 0.0295\n",
      "Validation - Epoch [27/60], Loss: 0.0460, Accuracy: 0.9889\n",
      "Epoch 28\n",
      "-------------------------------\n",
      "Training - Epoch [28/60], Step [10/100], Loss: 0.0017\n",
      "Training - Epoch [28/60], Step [20/100], Loss: 0.0135\n",
      "Training - Epoch [28/60], Step [30/100], Loss: 0.0005\n",
      "Training - Epoch [28/60], Step [40/100], Loss: 0.0284\n",
      "Training - Epoch [28/60], Step [50/100], Loss: 0.0171\n",
      "Training - Epoch [28/60], Step [60/100], Loss: 0.0135\n",
      "Training - Epoch [28/60], Step [70/100], Loss: 0.1054\n",
      "Training - Epoch [28/60], Step [80/100], Loss: 0.0445\n",
      "Training - Epoch [28/60], Step [90/100], Loss: 0.3263\n",
      "Training - Epoch [28/60], Step [100/100], Loss: 0.0137\n",
      "Validation - Epoch [28/60], Loss: 0.0707, Accuracy: 0.9818\n",
      "Epoch 29\n",
      "-------------------------------\n",
      "Training - Epoch [29/60], Step [10/100], Loss: 0.0201\n",
      "Training - Epoch [29/60], Step [20/100], Loss: 0.0368\n",
      "Training - Epoch [29/60], Step [30/100], Loss: 0.0026\n",
      "Training - Epoch [29/60], Step [40/100], Loss: 0.0027\n",
      "Training - Epoch [29/60], Step [50/100], Loss: 0.0457\n",
      "Training - Epoch [29/60], Step [60/100], Loss: 0.0016\n",
      "Training - Epoch [29/60], Step [70/100], Loss: 0.0402\n",
      "Training - Epoch [29/60], Step [80/100], Loss: 0.0718\n",
      "Training - Epoch [29/60], Step [90/100], Loss: 0.0019\n",
      "Training - Epoch [29/60], Step [100/100], Loss: 0.0015\n",
      "Validation - Epoch [29/60], Loss: 0.0598, Accuracy: 0.9840\n",
      "Epoch 30\n",
      "-------------------------------\n",
      "Training - Epoch [30/60], Step [10/100], Loss: 0.0602\n",
      "Training - Epoch [30/60], Step [20/100], Loss: 0.0057\n",
      "Training - Epoch [30/60], Step [30/100], Loss: 0.0125\n",
      "Training - Epoch [30/60], Step [40/100], Loss: 0.0039\n",
      "Training - Epoch [30/60], Step [50/100], Loss: 0.0627\n",
      "Training - Epoch [30/60], Step [60/100], Loss: 0.0248\n",
      "Training - Epoch [30/60], Step [70/100], Loss: 0.0080\n",
      "Training - Epoch [30/60], Step [80/100], Loss: 0.0026\n",
      "Training - Epoch [30/60], Step [90/100], Loss: 0.0171\n",
      "Training - Epoch [30/60], Step [100/100], Loss: 0.0146\n",
      "Validation - Epoch [30/60], Loss: 0.0616, Accuracy: 0.9849\n",
      "Epoch 31\n",
      "-------------------------------\n",
      "Training - Epoch [31/60], Step [10/100], Loss: 0.0095\n",
      "Training - Epoch [31/60], Step [20/100], Loss: 0.0015\n",
      "Training - Epoch [31/60], Step [30/100], Loss: 0.0170\n",
      "Training - Epoch [31/60], Step [40/100], Loss: 0.0389\n",
      "Training - Epoch [31/60], Step [50/100], Loss: 0.0083\n",
      "Training - Epoch [31/60], Step [60/100], Loss: 0.0126\n",
      "Training - Epoch [31/60], Step [70/100], Loss: 0.0026\n",
      "Training - Epoch [31/60], Step [80/100], Loss: 0.0203\n",
      "Training - Epoch [31/60], Step [90/100], Loss: 0.0252\n",
      "Training - Epoch [31/60], Step [100/100], Loss: 0.0683\n",
      "Validation - Epoch [31/60], Loss: 0.0602, Accuracy: 0.9831\n",
      "Epoch 32\n",
      "-------------------------------\n",
      "Training - Epoch [32/60], Step [10/100], Loss: 0.0011\n",
      "Training - Epoch [32/60], Step [20/100], Loss: 0.0214\n",
      "Training - Epoch [32/60], Step [30/100], Loss: 0.0008\n",
      "Training - Epoch [32/60], Step [40/100], Loss: 0.0183\n",
      "Training - Epoch [32/60], Step [50/100], Loss: 0.1019\n",
      "Training - Epoch [32/60], Step [60/100], Loss: 0.1467\n",
      "Training - Epoch [32/60], Step [70/100], Loss: 0.0576\n",
      "Training - Epoch [32/60], Step [80/100], Loss: 0.0036\n",
      "Training - Epoch [32/60], Step [90/100], Loss: 0.0114\n",
      "Training - Epoch [32/60], Step [100/100], Loss: 0.0112\n",
      "Validation - Epoch [32/60], Loss: 0.0873, Accuracy: 0.9760\n",
      "Epoch 33\n",
      "-------------------------------\n",
      "Training - Epoch [33/60], Step [10/100], Loss: 0.0280\n",
      "Training - Epoch [33/60], Step [20/100], Loss: 0.0163\n",
      "Training - Epoch [33/60], Step [30/100], Loss: 0.0433\n",
      "Training - Epoch [33/60], Step [40/100], Loss: 0.1265\n",
      "Training - Epoch [33/60], Step [50/100], Loss: 0.1002\n",
      "Training - Epoch [33/60], Step [60/100], Loss: 0.0208\n",
      "Training - Epoch [33/60], Step [70/100], Loss: 0.0685\n",
      "Training - Epoch [33/60], Step [80/100], Loss: 0.0573\n",
      "Training - Epoch [33/60], Step [90/100], Loss: 0.0163\n",
      "Training - Epoch [33/60], Step [100/100], Loss: 0.0463\n",
      "Validation - Epoch [33/60], Loss: 0.0866, Accuracy: 0.9787\n",
      "Epoch 34\n",
      "-------------------------------\n",
      "Training - Epoch [34/60], Step [10/100], Loss: 0.0057\n",
      "Training - Epoch [34/60], Step [20/100], Loss: 0.0139\n",
      "Training - Epoch [34/60], Step [30/100], Loss: 0.1207\n",
      "Training - Epoch [34/60], Step [40/100], Loss: 0.0424\n",
      "Training - Epoch [34/60], Step [50/100], Loss: 0.0810\n",
      "Training - Epoch [34/60], Step [60/100], Loss: 0.0103\n",
      "Training - Epoch [34/60], Step [70/100], Loss: 0.0831\n",
      "Training - Epoch [34/60], Step [80/100], Loss: 0.0336\n",
      "Training - Epoch [34/60], Step [90/100], Loss: 0.0188\n",
      "Training - Epoch [34/60], Step [100/100], Loss: 0.0035\n",
      "Validation - Epoch [34/60], Loss: 0.0985, Accuracy: 0.9756\n",
      "Epoch 35\n",
      "-------------------------------\n",
      "Training - Epoch [35/60], Step [10/100], Loss: 0.0408\n",
      "Training - Epoch [35/60], Step [20/100], Loss: 0.1564\n",
      "Training - Epoch [35/60], Step [30/100], Loss: 0.0299\n",
      "Training - Epoch [35/60], Step [40/100], Loss: 0.0055\n",
      "Training - Epoch [35/60], Step [50/100], Loss: 0.0071\n",
      "Training - Epoch [35/60], Step [60/100], Loss: 0.0031\n",
      "Training - Epoch [35/60], Step [70/100], Loss: 0.0128\n",
      "Training - Epoch [35/60], Step [80/100], Loss: 0.0151\n",
      "Training - Epoch [35/60], Step [90/100], Loss: 0.0063\n",
      "Training - Epoch [35/60], Step [100/100], Loss: 0.0013\n",
      "Validation - Epoch [35/60], Loss: 0.2180, Accuracy: 0.9573\n",
      "Epoch 36\n",
      "-------------------------------\n",
      "Training - Epoch [36/60], Step [10/100], Loss: 0.0079\n",
      "Training - Epoch [36/60], Step [20/100], Loss: 0.0062\n",
      "Training - Epoch [36/60], Step [30/100], Loss: 0.0288\n",
      "Training - Epoch [36/60], Step [40/100], Loss: 0.0152\n",
      "Training - Epoch [36/60], Step [50/100], Loss: 0.0288\n",
      "Training - Epoch [36/60], Step [60/100], Loss: 0.0996\n",
      "Training - Epoch [36/60], Step [70/100], Loss: 0.0030\n",
      "Training - Epoch [36/60], Step [80/100], Loss: 0.0113\n",
      "Training - Epoch [36/60], Step [90/100], Loss: 0.0029\n",
      "Training - Epoch [36/60], Step [100/100], Loss: 0.0025\n",
      "Validation - Epoch [36/60], Loss: 0.0367, Accuracy: 0.9902\n",
      "Model saved as efficientnet_b1_font_classifier_.pth\n",
      "Epoch 37\n",
      "-------------------------------\n",
      "Training - Epoch [37/60], Step [10/100], Loss: 0.0365\n",
      "Training - Epoch [37/60], Step [20/100], Loss: 0.0689\n",
      "Training - Epoch [37/60], Step [30/100], Loss: 0.0020\n",
      "Training - Epoch [37/60], Step [40/100], Loss: 0.0008\n",
      "Training - Epoch [37/60], Step [50/100], Loss: 0.0020\n",
      "Training - Epoch [37/60], Step [60/100], Loss: 0.0008\n",
      "Training - Epoch [37/60], Step [70/100], Loss: 0.0015\n",
      "Training - Epoch [37/60], Step [80/100], Loss: 0.0035\n",
      "Training - Epoch [37/60], Step [90/100], Loss: 0.0154\n",
      "Training - Epoch [37/60], Step [100/100], Loss: 0.0008\n",
      "Validation - Epoch [37/60], Loss: 0.0450, Accuracy: 0.9902\n",
      "Epoch 38\n",
      "-------------------------------\n",
      "Training - Epoch [38/60], Step [10/100], Loss: 0.0129\n",
      "Training - Epoch [38/60], Step [20/100], Loss: 0.0013\n",
      "Training - Epoch [38/60], Step [30/100], Loss: 0.0007\n",
      "Training - Epoch [38/60], Step [40/100], Loss: 0.0006\n",
      "Training - Epoch [38/60], Step [50/100], Loss: 0.0009\n",
      "Training - Epoch [38/60], Step [60/100], Loss: 0.0118\n",
      "Training - Epoch [38/60], Step [70/100], Loss: 0.0080\n",
      "Training - Epoch [38/60], Step [80/100], Loss: 0.0003\n",
      "Training - Epoch [38/60], Step [90/100], Loss: 0.0025\n",
      "Training - Epoch [38/60], Step [100/100], Loss: 0.0021\n",
      "Validation - Epoch [38/60], Loss: 0.0722, Accuracy: 0.9858\n",
      "Epoch 39\n",
      "-------------------------------\n",
      "Training - Epoch [39/60], Step [10/100], Loss: 0.0053\n",
      "Training - Epoch [39/60], Step [20/100], Loss: 0.0029\n",
      "Training - Epoch [39/60], Step [30/100], Loss: 0.0056\n",
      "Training - Epoch [39/60], Step [40/100], Loss: 0.0040\n",
      "Training - Epoch [39/60], Step [50/100], Loss: 0.0277\n",
      "Training - Epoch [39/60], Step [60/100], Loss: 0.0081\n",
      "Training - Epoch [39/60], Step [70/100], Loss: 0.0046\n",
      "Training - Epoch [39/60], Step [80/100], Loss: 0.0075\n",
      "Training - Epoch [39/60], Step [90/100], Loss: 0.0091\n",
      "Training - Epoch [39/60], Step [100/100], Loss: 0.0082\n",
      "Validation - Epoch [39/60], Loss: 0.2162, Accuracy: 0.9516\n",
      "Epoch 40\n",
      "-------------------------------\n",
      "Training - Epoch [40/60], Step [10/100], Loss: 0.0308\n",
      "Training - Epoch [40/60], Step [20/100], Loss: 0.0377\n",
      "Training - Epoch [40/60], Step [30/100], Loss: 0.0029\n",
      "Training - Epoch [40/60], Step [40/100], Loss: 0.0368\n",
      "Training - Epoch [40/60], Step [50/100], Loss: 0.0312\n",
      "Training - Epoch [40/60], Step [60/100], Loss: 0.0063\n",
      "Training - Epoch [40/60], Step [70/100], Loss: 0.0590\n",
      "Training - Epoch [40/60], Step [80/100], Loss: 0.0379\n",
      "Training - Epoch [40/60], Step [90/100], Loss: 0.0158\n",
      "Training - Epoch [40/60], Step [100/100], Loss: 0.0851\n",
      "Validation - Epoch [40/60], Loss: 0.0534, Accuracy: 0.9858\n",
      "Epoch 41\n",
      "-------------------------------\n",
      "Training - Epoch [41/60], Step [10/100], Loss: 0.0097\n",
      "Training - Epoch [41/60], Step [20/100], Loss: 0.0138\n",
      "Training - Epoch [41/60], Step [30/100], Loss: 0.0509\n",
      "Training - Epoch [41/60], Step [40/100], Loss: 0.0169\n",
      "Training - Epoch [41/60], Step [50/100], Loss: 0.0781\n",
      "Training - Epoch [41/60], Step [60/100], Loss: 0.0004\n",
      "Training - Epoch [41/60], Step [70/100], Loss: 0.0010\n",
      "Training - Epoch [41/60], Step [80/100], Loss: 0.0023\n",
      "Training - Epoch [41/60], Step [90/100], Loss: 0.0495\n",
      "Training - Epoch [41/60], Step [100/100], Loss: 0.0024\n",
      "Validation - Epoch [41/60], Loss: 0.0459, Accuracy: 0.9880\n",
      "Epoch 42\n",
      "-------------------------------\n",
      "Training - Epoch [42/60], Step [10/100], Loss: 0.0103\n",
      "Training - Epoch [42/60], Step [20/100], Loss: 0.0056\n",
      "Training - Epoch [42/60], Step [30/100], Loss: 0.0102\n",
      "Training - Epoch [42/60], Step [40/100], Loss: 0.0153\n",
      "Training - Epoch [42/60], Step [50/100], Loss: 0.0667\n",
      "Training - Epoch [42/60], Step [60/100], Loss: 0.0184\n",
      "Training - Epoch [42/60], Step [70/100], Loss: 0.0674\n",
      "Training - Epoch [42/60], Step [80/100], Loss: 0.0334\n",
      "Training - Epoch [42/60], Step [90/100], Loss: 0.0229\n",
      "Training - Epoch [42/60], Step [100/100], Loss: 0.0213\n",
      "Validation - Epoch [42/60], Loss: 0.0529, Accuracy: 0.9867\n",
      "Epoch 43\n",
      "-------------------------------\n",
      "Training - Epoch [43/60], Step [10/100], Loss: 0.0114\n",
      "Training - Epoch [43/60], Step [20/100], Loss: 0.0488\n",
      "Training - Epoch [43/60], Step [30/100], Loss: 0.0146\n",
      "Training - Epoch [43/60], Step [40/100], Loss: 0.0342\n",
      "Training - Epoch [43/60], Step [50/100], Loss: 0.0476\n",
      "Training - Epoch [43/60], Step [60/100], Loss: 0.0017\n",
      "Training - Epoch [43/60], Step [70/100], Loss: 0.0029\n",
      "Training - Epoch [43/60], Step [80/100], Loss: 0.0754\n",
      "Training - Epoch [43/60], Step [90/100], Loss: 0.0195\n",
      "Training - Epoch [43/60], Step [100/100], Loss: 0.0031\n",
      "Validation - Epoch [43/60], Loss: 0.0479, Accuracy: 0.9880\n",
      "Epoch 44\n",
      "-------------------------------\n",
      "Training - Epoch [44/60], Step [10/100], Loss: 0.0277\n",
      "Training - Epoch [44/60], Step [20/100], Loss: 0.0040\n",
      "Training - Epoch [44/60], Step [30/100], Loss: 0.0025\n",
      "Training - Epoch [44/60], Step [40/100], Loss: 0.0021\n",
      "Training - Epoch [44/60], Step [50/100], Loss: 0.0105\n",
      "Training - Epoch [44/60], Step [60/100], Loss: 0.0094\n",
      "Training - Epoch [44/60], Step [70/100], Loss: 0.0739\n",
      "Training - Epoch [44/60], Step [80/100], Loss: 0.0040\n",
      "Training - Epoch [44/60], Step [90/100], Loss: 0.0032\n",
      "Training - Epoch [44/60], Step [100/100], Loss: 0.0400\n",
      "Validation - Epoch [44/60], Loss: 0.0375, Accuracy: 0.9898\n",
      "Epoch 45\n",
      "-------------------------------\n",
      "Training - Epoch [45/60], Step [10/100], Loss: 0.0010\n",
      "Training - Epoch [45/60], Step [20/100], Loss: 0.0021\n",
      "Training - Epoch [45/60], Step [30/100], Loss: 0.0502\n",
      "Training - Epoch [45/60], Step [40/100], Loss: 0.0109\n",
      "Training - Epoch [45/60], Step [50/100], Loss: 0.0033\n",
      "Training - Epoch [45/60], Step [60/100], Loss: 0.0041\n",
      "Training - Epoch [45/60], Step [70/100], Loss: 0.0006\n",
      "Training - Epoch [45/60], Step [80/100], Loss: 0.0546\n",
      "Training - Epoch [45/60], Step [90/100], Loss: 0.0009\n",
      "Training - Epoch [45/60], Step [100/100], Loss: 0.0032\n",
      "Validation - Epoch [45/60], Loss: 0.0525, Accuracy: 0.9871\n",
      "Epoch 46\n",
      "-------------------------------\n",
      "Training - Epoch [46/60], Step [10/100], Loss: 0.0002\n",
      "Training - Epoch [46/60], Step [20/100], Loss: 0.0036\n",
      "Training - Epoch [46/60], Step [30/100], Loss: 0.0002\n",
      "Training - Epoch [46/60], Step [40/100], Loss: 0.0003\n",
      "Training - Epoch [46/60], Step [50/100], Loss: 0.0011\n",
      "Training - Epoch [46/60], Step [60/100], Loss: 0.0104\n",
      "Training - Epoch [46/60], Step [70/100], Loss: 0.0068\n",
      "Training - Epoch [46/60], Step [80/100], Loss: 0.0018\n",
      "Training - Epoch [46/60], Step [90/100], Loss: 0.0008\n",
      "Training - Epoch [46/60], Step [100/100], Loss: 0.0011\n",
      "Validation - Epoch [46/60], Loss: 0.0490, Accuracy: 0.9893\n",
      "Epoch 47\n",
      "-------------------------------\n",
      "Training - Epoch [47/60], Step [10/100], Loss: 0.0007\n",
      "Training - Epoch [47/60], Step [20/100], Loss: 0.0333\n",
      "Training - Epoch [47/60], Step [30/100], Loss: 0.0001\n",
      "Training - Epoch [47/60], Step [40/100], Loss: 0.0004\n",
      "Training - Epoch [47/60], Step [50/100], Loss: 0.0004\n",
      "Training - Epoch [47/60], Step [60/100], Loss: 0.0005\n",
      "Training - Epoch [47/60], Step [70/100], Loss: 0.0190\n",
      "Training - Epoch [47/60], Step [80/100], Loss: 0.0011\n",
      "Training - Epoch [47/60], Step [90/100], Loss: 0.0022\n",
      "Training - Epoch [47/60], Step [100/100], Loss: 0.0004\n",
      "Validation - Epoch [47/60], Loss: 0.0665, Accuracy: 0.9884\n",
      "Epoch 48\n",
      "-------------------------------\n",
      "Training - Epoch [48/60], Step [10/100], Loss: 0.0013\n",
      "Training - Epoch [48/60], Step [20/100], Loss: 0.0032\n",
      "Training - Epoch [48/60], Step [30/100], Loss: 0.0368\n",
      "Training - Epoch [48/60], Step [40/100], Loss: 0.0023\n",
      "Training - Epoch [48/60], Step [50/100], Loss: 0.0021\n",
      "Training - Epoch [48/60], Step [60/100], Loss: 0.0225\n",
      "Training - Epoch [48/60], Step [70/100], Loss: 0.0643\n",
      "Training - Epoch [48/60], Step [80/100], Loss: 0.0440\n",
      "Training - Epoch [48/60], Step [90/100], Loss: 0.0005\n",
      "Training - Epoch [48/60], Step [100/100], Loss: 0.0018\n",
      "Validation - Epoch [48/60], Loss: 0.0735, Accuracy: 0.9849\n",
      "Epoch 49\n",
      "-------------------------------\n",
      "Training - Epoch [49/60], Step [10/100], Loss: 0.0487\n",
      "Training - Epoch [49/60], Step [20/100], Loss: 0.0023\n",
      "Training - Epoch [49/60], Step [30/100], Loss: 0.0117\n",
      "Training - Epoch [49/60], Step [40/100], Loss: 0.0327\n",
      "Training - Epoch [49/60], Step [50/100], Loss: 0.0338\n",
      "Training - Epoch [49/60], Step [60/100], Loss: 0.0197\n",
      "Training - Epoch [49/60], Step [70/100], Loss: 0.1772\n",
      "Training - Epoch [49/60], Step [80/100], Loss: 0.0255\n",
      "Training - Epoch [49/60], Step [90/100], Loss: 0.0031\n",
      "Training - Epoch [49/60], Step [100/100], Loss: 0.0230\n",
      "Validation - Epoch [49/60], Loss: 0.0564, Accuracy: 0.9867\n",
      "Epoch 50\n",
      "-------------------------------\n",
      "Training - Epoch [50/60], Step [10/100], Loss: 0.0066\n",
      "Training - Epoch [50/60], Step [20/100], Loss: 0.0084\n",
      "Training - Epoch [50/60], Step [30/100], Loss: 0.0025\n",
      "Training - Epoch [50/60], Step [40/100], Loss: 0.0287\n",
      "Training - Epoch [50/60], Step [50/100], Loss: 0.0366\n",
      "Training - Epoch [50/60], Step [60/100], Loss: 0.0232\n",
      "Training - Epoch [50/60], Step [70/100], Loss: 0.0030\n",
      "Training - Epoch [50/60], Step [80/100], Loss: 0.0408\n",
      "Training - Epoch [50/60], Step [90/100], Loss: 0.0378\n",
      "Training - Epoch [50/60], Step [100/100], Loss: 0.0147\n",
      "Validation - Epoch [50/60], Loss: 0.0506, Accuracy: 0.9907\n",
      "Epoch 51\n",
      "-------------------------------\n",
      "Training - Epoch [51/60], Step [10/100], Loss: 0.0035\n",
      "Training - Epoch [51/60], Step [20/100], Loss: 0.0028\n",
      "Training - Epoch [51/60], Step [30/100], Loss: 0.0106\n",
      "Training - Epoch [51/60], Step [40/100], Loss: 0.0093\n",
      "Training - Epoch [51/60], Step [50/100], Loss: 0.0126\n",
      "Training - Epoch [51/60], Step [60/100], Loss: 0.0719\n",
      "Training - Epoch [51/60], Step [70/100], Loss: 0.0272\n",
      "Training - Epoch [51/60], Step [80/100], Loss: 0.0077\n",
      "Training - Epoch [51/60], Step [90/100], Loss: 0.0283\n",
      "Training - Epoch [51/60], Step [100/100], Loss: 0.0072\n",
      "Validation - Epoch [51/60], Loss: 0.0543, Accuracy: 0.9880\n",
      "Epoch 52\n",
      "-------------------------------\n",
      "Training - Epoch [52/60], Step [10/100], Loss: 0.0046\n",
      "Training - Epoch [52/60], Step [20/100], Loss: 0.0020\n",
      "Training - Epoch [52/60], Step [30/100], Loss: 0.0646\n",
      "Training - Epoch [52/60], Step [40/100], Loss: 0.0011\n",
      "Training - Epoch [52/60], Step [50/100], Loss: 0.0005\n",
      "Training - Epoch [52/60], Step [60/100], Loss: 0.0007\n",
      "Training - Epoch [52/60], Step [70/100], Loss: 0.0003\n",
      "Training - Epoch [52/60], Step [80/100], Loss: 0.0007\n",
      "Training - Epoch [52/60], Step [90/100], Loss: 0.0190\n",
      "Training - Epoch [52/60], Step [100/100], Loss: 0.2173\n",
      "Validation - Epoch [52/60], Loss: 0.0408, Accuracy: 0.9933\n",
      "Epoch 53\n",
      "-------------------------------\n",
      "Training - Epoch [53/60], Step [10/100], Loss: 0.0109\n",
      "Training - Epoch [53/60], Step [20/100], Loss: 0.0019\n",
      "Training - Epoch [53/60], Step [30/100], Loss: 0.0086\n",
      "Training - Epoch [53/60], Step [40/100], Loss: 0.0048\n",
      "Training - Epoch [53/60], Step [50/100], Loss: 0.0073\n",
      "Training - Epoch [53/60], Step [60/100], Loss: 0.0021\n",
      "Training - Epoch [53/60], Step [70/100], Loss: 0.0305\n",
      "Training - Epoch [53/60], Step [80/100], Loss: 0.0017\n",
      "Training - Epoch [53/60], Step [90/100], Loss: 0.0026\n",
      "Training - Epoch [53/60], Step [100/100], Loss: 0.0004\n",
      "Validation - Epoch [53/60], Loss: 0.0460, Accuracy: 0.9893\n",
      "Epoch 54\n",
      "-------------------------------\n",
      "Training - Epoch [54/60], Step [10/100], Loss: 0.0019\n",
      "Training - Epoch [54/60], Step [20/100], Loss: 0.0043\n",
      "Training - Epoch [54/60], Step [30/100], Loss: 0.0002\n",
      "Training - Epoch [54/60], Step [40/100], Loss: 0.0006\n",
      "Training - Epoch [54/60], Step [50/100], Loss: 0.0010\n",
      "Training - Epoch [54/60], Step [60/100], Loss: 0.0013\n",
      "Training - Epoch [54/60], Step [70/100], Loss: 0.0005\n",
      "Training - Epoch [54/60], Step [80/100], Loss: 0.0014\n",
      "Training - Epoch [54/60], Step [90/100], Loss: 0.0041\n",
      "Training - Epoch [54/60], Step [100/100], Loss: 0.0034\n",
      "Validation - Epoch [54/60], Loss: 0.0453, Accuracy: 0.9893\n",
      "Epoch 55\n",
      "-------------------------------\n",
      "Training - Epoch [55/60], Step [10/100], Loss: 0.0007\n",
      "Training - Epoch [55/60], Step [20/100], Loss: 0.0009\n",
      "Training - Epoch [55/60], Step [30/100], Loss: 0.0020\n",
      "Training - Epoch [55/60], Step [40/100], Loss: 0.1269\n",
      "Training - Epoch [55/60], Step [50/100], Loss: 0.0075\n",
      "Training - Epoch [55/60], Step [60/100], Loss: 0.0511\n",
      "Training - Epoch [55/60], Step [70/100], Loss: 0.0025\n",
      "Training - Epoch [55/60], Step [80/100], Loss: 0.0012\n",
      "Training - Epoch [55/60], Step [90/100], Loss: 0.0119\n",
      "Training - Epoch [55/60], Step [100/100], Loss: 0.0214\n",
      "Validation - Epoch [55/60], Loss: 0.0474, Accuracy: 0.9889\n",
      "Epoch 56\n",
      "-------------------------------\n",
      "Training - Epoch [56/60], Step [10/100], Loss: 0.0052\n",
      "Training - Epoch [56/60], Step [20/100], Loss: 0.0063\n",
      "Training - Epoch [56/60], Step [30/100], Loss: 0.0021\n",
      "Training - Epoch [56/60], Step [40/100], Loss: 0.0076\n",
      "Training - Epoch [56/60], Step [50/100], Loss: 0.0017\n",
      "Training - Epoch [56/60], Step [60/100], Loss: 0.0086\n",
      "Training - Epoch [56/60], Step [70/100], Loss: 0.0018\n",
      "Training - Epoch [56/60], Step [80/100], Loss: 0.0098\n",
      "Training - Epoch [56/60], Step [90/100], Loss: 0.1445\n",
      "Training - Epoch [56/60], Step [100/100], Loss: 0.0011\n",
      "Validation - Epoch [56/60], Loss: 0.0434, Accuracy: 0.9880\n",
      "Epoch 57\n",
      "-------------------------------\n",
      "Training - Epoch [57/60], Step [10/100], Loss: 0.0111\n",
      "Training - Epoch [57/60], Step [20/100], Loss: 0.0016\n",
      "Training - Epoch [57/60], Step [30/100], Loss: 0.0126\n",
      "Training - Epoch [57/60], Step [40/100], Loss: 0.0005\n",
      "Training - Epoch [57/60], Step [50/100], Loss: 0.0007\n",
      "Training - Epoch [57/60], Step [60/100], Loss: 0.0013\n",
      "Training - Epoch [57/60], Step [70/100], Loss: 0.0038\n",
      "Training - Epoch [57/60], Step [80/100], Loss: 0.0003\n",
      "Training - Epoch [57/60], Step [90/100], Loss: 0.0004\n",
      "Training - Epoch [57/60], Step [100/100], Loss: 0.0234\n",
      "Validation - Epoch [57/60], Loss: 0.0642, Accuracy: 0.9862\n",
      "Epoch 58\n",
      "-------------------------------\n",
      "Training - Epoch [58/60], Step [10/100], Loss: 0.0002\n",
      "Training - Epoch [58/60], Step [20/100], Loss: 0.0010\n",
      "Training - Epoch [58/60], Step [30/100], Loss: 0.0048\n",
      "Training - Epoch [58/60], Step [40/100], Loss: 0.0006\n",
      "Training - Epoch [58/60], Step [50/100], Loss: 0.0142\n",
      "Training - Epoch [58/60], Step [60/100], Loss: 0.0002\n",
      "Training - Epoch [58/60], Step [70/100], Loss: 0.0335\n",
      "Training - Epoch [58/60], Step [80/100], Loss: 0.0038\n",
      "Training - Epoch [58/60], Step [90/100], Loss: 0.0793\n",
      "Training - Epoch [58/60], Step [100/100], Loss: 0.0132\n",
      "Validation - Epoch [58/60], Loss: 0.0810, Accuracy: 0.9836\n",
      "Epoch 59\n",
      "-------------------------------\n",
      "Training - Epoch [59/60], Step [10/100], Loss: 0.0730\n",
      "Training - Epoch [59/60], Step [20/100], Loss: 0.0008\n",
      "Training - Epoch [59/60], Step [30/100], Loss: 0.0183\n",
      "Training - Epoch [59/60], Step [40/100], Loss: 0.0982\n",
      "Training - Epoch [59/60], Step [50/100], Loss: 0.0030\n",
      "Training - Epoch [59/60], Step [60/100], Loss: 0.0099\n",
      "Training - Epoch [59/60], Step [70/100], Loss: 0.0009\n",
      "Training - Epoch [59/60], Step [80/100], Loss: 0.0463\n",
      "Training - Epoch [59/60], Step [90/100], Loss: 0.1665\n",
      "Training - Epoch [59/60], Step [100/100], Loss: 0.0722\n",
      "Validation - Epoch [59/60], Loss: 0.0670, Accuracy: 0.9840\n",
      "Epoch 60\n",
      "-------------------------------\n",
      "Training - Epoch [60/60], Step [10/100], Loss: 0.0510\n",
      "Training - Epoch [60/60], Step [20/100], Loss: 0.0030\n",
      "Training - Epoch [60/60], Step [30/100], Loss: 0.0035\n",
      "Training - Epoch [60/60], Step [40/100], Loss: 0.0034\n",
      "Training - Epoch [60/60], Step [50/100], Loss: 0.0026\n",
      "Training - Epoch [60/60], Step [60/100], Loss: 0.0176\n",
      "Training - Epoch [60/60], Step [70/100], Loss: 0.0020\n",
      "Training - Epoch [60/60], Step [80/100], Loss: 0.0082\n",
      "Training - Epoch [60/60], Step [90/100], Loss: 0.0054\n",
      "Training - Epoch [60/60], Step [100/100], Loss: 0.0006\n",
      "Validation - Epoch [60/60], Loss: 0.0386, Accuracy: 0.9898\n"
     ]
    }
   ],
   "source": [
    "# Define the loss function\n",
    "criterion = torch.nn.CrossEntropyLoss()\n",
    "\n",
    "# Define the optimizer\n",
    "optimizer = torch.optim.Adam(model.parameters(), lr=0.001)\n",
    "\n",
    "# Training loop\n",
    "num_epochs = 60\n",
    "best_val_loss = float('inf')\n",
    "\n",
    "# Lists to store training and validation metrics for plotting\n",
    "train_losses = []\n",
    "train_accuracies = []\n",
    "val_losses = []\n",
    "val_accuracies = []\n",
    "\n",
    "# Set the model to training mode\n",
    "model.train()\n",
    "\n",
    "# Start the training loop\n",
    "start_time = time.time()\n",
    "for epoch in range(num_epochs):\n",
    "    print(f'Epoch {epoch + 1}\\n-------------------------------')\n",
    "    # Training phase\n",
    "    model.train()\n",
    "    train_loss = 0.0\n",
    "    correct_train = 0\n",
    "    total_train = 0\n",
    "    for i, (inputs, labels) in enumerate(train_loader):\n",
    "        inputs = inputs.to(device)\n",
    "        labels = labels.to(device)\n",
    "\n",
    "        # Forward pass\n",
    "        outputs = model(inputs)\n",
    "        loss = criterion(outputs, labels)\n",
    "\n",
    "        # Backward pass\n",
    "        optimizer.zero_grad()\n",
    "        loss.backward()\n",
    "        optimizer.step()\n",
    "\n",
    "        train_loss += loss.item() * inputs.size(0)\n",
    "        \n",
    "        # Calculate accuracy\n",
    "        _, predicted = torch.max(outputs, 1)\n",
    "        total_train += labels.size(0)\n",
    "        correct_train += (predicted == labels).sum().item()\n",
    "\n",
    "        # Print training statistics\n",
    "        if (i + 1) % 10 == 0:\n",
    "            print(f'Training - Epoch [{epoch + 1}/{num_epochs}], Step [{i + 1}/{len(train_loader)}], Loss: {loss.item():.4f}')\n",
    "\n",
    "    # Calculate average training loss and accuracy\n",
    "    train_loss /= len(train_loader.dataset)\n",
    "    train_accuracy = correct_train / total_train\n",
    "    train_losses.append(train_loss)\n",
    "    train_accuracies.append(train_accuracy)\n",
    "    \n",
    "    # Validation phase\n",
    "    model.eval()\n",
    "    val_loss = 0.0\n",
    "    correct_val = 0\n",
    "    total_val = 0\n",
    "    with torch.no_grad():\n",
    "        for i, (inputs, labels) in enumerate(val_loader):\n",
    "            inputs = inputs.to(device)\n",
    "            labels = labels.to(device)\n",
    "\n",
    "            # Forward pass\n",
    "            outputs = model(inputs)\n",
    "            loss = criterion(outputs, labels)\n",
    "\n",
    "            val_loss += loss.item() * inputs.size(0)\n",
    "\n",
    "            # Calculate accuracy\n",
    "            _, predicted = torch.max(outputs, 1)\n",
    "            total_val += labels.size(0)\n",
    "            correct_val += (predicted == labels).sum().item()\n",
    "\n",
    "    # Print validation statistics\n",
    "    val_loss /= len(val_loader.dataset)\n",
    "    val_accuracy = correct_val / total_val\n",
    "    val_losses.append(val_loss)\n",
    "    val_accuracies.append(val_accuracy)\n",
    "    print(f'Validation - Epoch [{epoch + 1}/{num_epochs}], Loss: {val_loss:.4f}, Accuracy: {val_accuracy:.4f}')\n",
    "\n",
    "    # Save the model if validation loss decreases\n",
    "    if val_loss < best_val_loss:\n",
    "        best_val_loss = val_loss\n",
    "        torch.save(model.state_dict(), f'../../models/{scope}/{model_name}_font_classifier_{type}.pth')\n",
    "        print(f'Model saved as {model_name}_font_classifier_{type}.pth')\n",
    "\n",
    "end_time = time.time()"
   ],
   "metadata": {
    "collapsed": false,
    "ExecuteTime": {
     "end_time": "2024-04-23T20:56:57.323150Z",
     "start_time": "2024-04-23T17:56:17.175913Z"
    }
   },
   "id": "126f35f98051a02a",
   "execution_count": 7
  },
  {
   "cell_type": "markdown",
   "source": [
    "# Plot the training and validation metrics"
   ],
   "metadata": {
    "collapsed": false
   },
   "id": "2f8d840ac9117197"
  },
  {
   "cell_type": "code",
   "outputs": [
    {
     "data": {
      "text/plain": "<Figure size 1200x500 with 2 Axes>",
      "image/png": "[encoded data removed]"
     },
     "metadata": {},
     "output_type": "display_data"
    },
    {
     "name": "stdout",
     "output_type": "stream",
     "text": [
      "Finished Training\n",
      "Time taken for training: 10840.12 seconds\n",
      "Medium time per epoch: 180.67 seconds\n"
     ]
    }
   ],
   "source": [
    "# Plotting\n",
    "plt.figure(figsize=(12, 5))\n",
    "plt.subplot(1, 2, 1)\n",
    "plt.plot(range(1, num_epochs + 1), train_losses, label='Training Loss')\n",
    "plt.plot(range(1, num_epochs + 1), val_losses, label='Validation Loss')\n",
    "plt.xlabel('Epochs')\n",
    "plt.ylabel('Loss')\n",
    "plt.title('Training and Validation Loss')\n",
    "plt.legend()\n",
    "\n",
    "plt.subplot(1, 2, 2)\n",
    "plt.plot(range(1, num_epochs + 1), train_accuracies, label='Training Accuracy')\n",
    "plt.plot(range(1, num_epochs + 1), val_accuracies, label='Validation Accuracy')\n",
    "plt.xlabel('Epochs')\n",
    "plt.ylabel('Accuracy')\n",
    "plt.title('Training and Validation Accuracy')\n",
    "plt.legend()\n",
    "\n",
    "plt.tight_layout()\n",
    "plt.show()\n",
    "\n",
    "print('Finished Training')\n",
    "\n",
    "# Print the time taken for training\n",
    "print(f'Time taken for training: {end_time - start_time:.2f} seconds')\n",
    "## Print medium time per epoch\n",
    "print(f'Medium time per epoch: {(end_time - start_time)/num_epochs:.2f} seconds')"
   ],
   "metadata": {
    "collapsed": false,
    "ExecuteTime": {
     "end_time": "2024-04-23T20:56:57.759150Z",
     "start_time": "2024-04-23T20:56:57.325150Z"
    }
   },
   "id": "2fb4051fe48bcb0f",
   "execution_count": 8
  },
  {
   "cell_type": "markdown",
   "source": [
    "# Evaluate the model"
   ],
   "metadata": {
    "collapsed": false
   },
   "id": "5d1120839a43965"
  },
  {
   "cell_type": "markdown",
   "source": [
    "## Load the model"
   ],
   "metadata": {
    "collapsed": false
   },
   "id": "f38ec7e7c9fc2bd2"
  },
  {
   "cell_type": "code",
   "outputs": [
    {
     "name": "stdout",
     "output_type": "stream",
     "text": [
      "Model loaded from ../../models/DifferentModels/efficientnet_b1_font_classifier_.pth\n"
     ]
    }
   ],
   "source": [
    "# Load the model\n",
    "model_path = f'../../models/{scope}/{model_name}_font_classifier_{type}.pth'\n",
    "model = models.__dict__[model_name](weights=None)\n",
    "model.load_state_dict(torch.load(model_path))\n",
    "model = model.to(device)\n",
    "print(f'Model loaded from {model_path}')"
   ],
   "metadata": {
    "collapsed": false,
    "ExecuteTime": {
     "end_time": "2024-04-23T20:56:57.997150Z",
     "start_time": "2024-04-23T20:56:57.760149Z"
    }
   },
   "id": "2d59abb3cc4d4ab1",
   "execution_count": 9
  },
  {
   "cell_type": "markdown",
   "source": [
    "## Evaluate the model\n",
    "Evaluate the model using the test set. We will compute the accuracy, precision, recall, F1-score, confusion matrix, and ROC curve."
   ],
   "metadata": {
    "collapsed": false
   },
   "id": "c4fb0a8cc4c7aaaf"
  },
  {
   "cell_type": "code",
   "outputs": [],
   "source": [
    "# Set the model to evaluation mode\n",
    "model.eval()\n",
    "\n",
    "# Initialize lists for true labels and predicted labels\n",
    "true_labels = []\n",
    "predicted_labels = []\n",
    "\n",
    "# Disable gradient computation for evaluation\n",
    "with torch.no_grad():\n",
    "    for images, labels in test_loader:\n",
    "        images = images.to(device)\n",
    "        labels = labels.to(device)\n",
    "\n",
    "        # Perform inference\n",
    "        outputs = model(images)\n",
    "        \n",
    "        # Compute predicted labels\n",
    "        _, predicted = torch.max(outputs.data, 1)\n",
    "        \n",
    "        # Append true and predicted labels to lists\n",
    "        true_labels.extend(labels.cpu().numpy())\n",
    "        predicted_labels.extend(predicted.cpu().numpy())\n",
    "\n",
    "# Convert lists to numpy arrays\n",
    "true_labels = np.array(true_labels)\n",
    "predicted_labels = np.array(predicted_labels)"
   ],
   "metadata": {
    "collapsed": false,
    "ExecuteTime": {
     "end_time": "2024-04-23T20:57:07.750324Z",
     "start_time": "2024-04-23T20:56:58.001150Z"
    }
   },
   "id": "d94dccfec1ca328d",
   "execution_count": 10
  },
  {
   "cell_type": "markdown",
   "source": [
    "## Compute metrics\n",
    "### Accuracy"
   ],
   "metadata": {
    "collapsed": false
   },
   "id": "7fc2137e6729efa2"
  },
  {
   "cell_type": "code",
   "outputs": [
    {
     "name": "stdout",
     "output_type": "stream",
     "text": [
      "Accuracy: 98.89%\n"
     ]
    }
   ],
   "source": [
    "accuracy = accuracy_score(true_labels, predicted_labels)\n",
    "print('Accuracy: {:.2f}%'.format(100 * accuracy))"
   ],
   "metadata": {
    "collapsed": false,
    "ExecuteTime": {
     "end_time": "2024-04-23T20:57:07.766324Z",
     "start_time": "2024-04-23T20:57:07.751325Z"
    }
   },
   "id": "101581d76f4e9326",
   "execution_count": 11
  },
  {
   "cell_type": "markdown",
   "source": [
    "### Precision"
   ],
   "metadata": {
    "collapsed": false
   },
   "id": "8c872a168687bbb9"
  },
  {
   "cell_type": "code",
   "outputs": [
    {
     "name": "stdout",
     "output_type": "stream",
     "text": [
      "Precision: 0.99\n"
     ]
    }
   ],
   "source": [
    "precision = precision_score(true_labels, predicted_labels, average='weighted')\n",
    "print('Precision: {:.2f}'.format(precision))"
   ],
   "metadata": {
    "collapsed": false,
    "ExecuteTime": {
     "end_time": "2024-04-23T20:57:07.782325Z",
     "start_time": "2024-04-23T20:57:07.767325Z"
    }
   },
   "id": "c0a1514893d52da3",
   "execution_count": 12
  },
  {
   "cell_type": "markdown",
   "source": [
    "### Recall"
   ],
   "metadata": {
    "collapsed": false
   },
   "id": "2d6709ac0ed49e7d"
  },
  {
   "cell_type": "code",
   "outputs": [
    {
     "name": "stdout",
     "output_type": "stream",
     "text": [
      "Recall: 0.99\n"
     ]
    }
   ],
   "source": [
    "recall = recall_score(true_labels, predicted_labels, average='weighted')\n",
    "print('Recall: {:.2f}'.format(recall))"
   ],
   "metadata": {
    "collapsed": false,
    "ExecuteTime": {
     "end_time": "2024-04-23T20:57:07.798325Z",
     "start_time": "2024-04-23T20:57:07.783326Z"
    }
   },
   "id": "cbe9cce2d6d4b849",
   "execution_count": 13
  },
  {
   "cell_type": "markdown",
   "source": [
    "### F1-score"
   ],
   "metadata": {
    "collapsed": false
   },
   "id": "a6a9ab8eaf4a00c9"
  },
  {
   "cell_type": "code",
   "outputs": [
    {
     "name": "stdout",
     "output_type": "stream",
     "text": [
      "F1-score: 0.99\n"
     ]
    }
   ],
   "source": [
    "f1 = f1_score(true_labels, predicted_labels, average='weighted')\n",
    "print('F1-score: {:.2f}'.format(f1))"
   ],
   "metadata": {
    "collapsed": false,
    "ExecuteTime": {
     "end_time": "2024-04-23T20:57:07.814325Z",
     "start_time": "2024-04-23T20:57:07.801325Z"
    }
   },
   "id": "2a87268c3e7e9e88",
   "execution_count": 14
  },
  {
   "cell_type": "markdown",
   "source": [
    "### Confusion matrix"
   ],
   "metadata": {
    "collapsed": false
   },
   "id": "3687c7ed9e290b52"
  },
  {
   "cell_type": "code",
   "outputs": [
    {
     "name": "stdout",
     "output_type": "stream",
     "text": [
      "Confusion Matrix:\n"
     ]
    },
    {
     "data": {
      "text/plain": "<Figure size 640x480 with 1 Axes>",
      "image/png": "[encoded data removed]"
     },
     "metadata": {},
     "output_type": "display_data"
    }
   ],
   "source": [
    "conf_matrix = confusion_matrix(true_labels, predicted_labels)\n",
    "print(f'Confusion Matrix:')\n",
    "sns.heatmap(conf_matrix, annot=True, cmap='Blues', fmt='g', cbar=False, xticklabels=class_names, yticklabels=class_names)\n",
    "plt.title('Confusion Matrix')\n",
    "plt.xlabel('Predicted Label')\n",
    "plt.ylabel('True Label')\n",
    "plt.show()"
   ],
   "metadata": {
    "collapsed": false,
    "ExecuteTime": {
     "end_time": "2024-04-23T20:57:08.280324Z",
     "start_time": "2024-04-23T20:57:07.815327Z"
    }
   },
   "id": "6a06849bad215169",
   "execution_count": 15
  },
  {
   "cell_type": "markdown",
   "source": [
    "### ROC curve"
   ],
   "metadata": {
    "collapsed": false
   },
   "id": "8f7a1268072e6e09"
  },
  {
   "cell_type": "code",
   "outputs": [
    {
     "data": {
      "text/plain": "[<matplotlib.lines.Line2D at 0x1abc4243be0>]"
     },
     "execution_count": 16,
     "metadata": {},
     "output_type": "execute_result"
    },
    {
     "data": {
      "text/plain": "<Figure size 640x480 with 1 Axes>",
      "image/png": "[encoded data removed]"
     },
     "metadata": {},
     "output_type": "display_data"
    }
   ],
   "source": [
    "# Binarize the true labels\n",
    "true_labels_binarized = label_binarize(true_labels, classes=range(len(class_names)))\n",
    "\n",
    "# Binarize the predicted labels\n",
    "predicted_labels_binarized = label_binarize(predicted_labels, classes=range(len(class_names)))\n",
    "\n",
    "# Compute the ROC curve\n",
    "fpr = dict()\n",
    "tpr = dict()\n",
    "roc_auc = dict()\n",
    "for i in range(len(class_names)):\n",
    "    fpr[i], tpr[i], _ = roc_curve(true_labels_binarized[:, i], predicted_labels_binarized[:, i])\n",
    "    roc_auc[i] = auc(fpr[i], tpr[i])\n",
    "    \n",
    "# Plot the ROC curve\n",
    "plt.figure()\n",
    "for i in range(len(class_names)):\n",
    "    plt.plot(fpr[i], tpr[i], lw=2, label=f'ROC curve for class {class_names[i]} (area = {roc_auc[i]:0.2f})')\n",
    "plt.plot([0, 1], [0, 1], 'k--', lw=2)"
   ],
   "metadata": {
    "collapsed": false,
    "ExecuteTime": {
     "end_time": "2024-04-23T20:57:08.454325Z",
     "start_time": "2024-04-23T20:57:08.281326Z"
    }
   },
   "id": "6c7b4767f613c314",
   "execution_count": 16
  },
  {
   "cell_type": "markdown",
   "source": [],
   "metadata": {
    "collapsed": false
   },
   "id": "c4d8c6f85ef0d72c"
  }
 ],
 "metadata": {
  "kernelspec": {
   "display_name": "Python 3",
   "language": "python",
   "name": "python3"
  },
  "language_info": {
   "codemirror_mode": {
    "name": "ipython",
    "version": 2
   },
   "file_extension": ".py",
   "mimetype": "text/x-python",
   "name": "python",
   "nbconvert_exporter": "python",
   "pygments_lexer": "ipython2",
   "version": "2.7.6"
  }
 },
 "nbformat": 4,
 "nbformat_minor": 5
}
