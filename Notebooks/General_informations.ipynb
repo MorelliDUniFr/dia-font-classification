{
 "cells": [
  {
   "cell_type": "markdown",
   "source": [
    "Imports"
   ],
   "metadata": {
    "collapsed": false
   },
   "id": "6292efbccc8b4ae2"
  },
  {
   "cell_type": "code",
   "outputs": [
    {
     "ename": "ModuleNotFoundError",
     "evalue": "No module named 'cv2'",
     "output_type": "error",
     "traceback": [
      "\u001B[0;31m---------------------------------------------------------------------------\u001B[0m",
      "\u001B[0;31mModuleNotFoundError\u001B[0m                       Traceback (most recent call last)",
      "Cell \u001B[0;32mIn[2], line 2\u001B[0m\n\u001B[1;32m      1\u001B[0m \u001B[38;5;28;01mimport\u001B[39;00m \u001B[38;5;21;01mos\u001B[39;00m\n\u001B[0;32m----> 2\u001B[0m \u001B[38;5;28;01mimport\u001B[39;00m \u001B[38;5;21;01mcv2\u001B[39;00m \u001B[38;5;28;01mas\u001B[39;00m \u001B[38;5;21;01mcv\u001B[39;00m\n\u001B[1;32m      3\u001B[0m \u001B[38;5;28;01mimport\u001B[39;00m \u001B[38;5;21;01mmatplotlib\u001B[39;00m\u001B[38;5;21;01m.\u001B[39;00m\u001B[38;5;21;01mpyplot\u001B[39;00m \u001B[38;5;28;01mas\u001B[39;00m \u001B[38;5;21;01mplt\u001B[39;00m\n\u001B[1;32m      4\u001B[0m \u001B[38;5;28;01mimport\u001B[39;00m \u001B[38;5;21;01mnumpy\u001B[39;00m \u001B[38;5;28;01mas\u001B[39;00m \u001B[38;5;21;01mnp\u001B[39;00m\n",
      "\u001B[0;31mModuleNotFoundError\u001B[0m: No module named 'cv2'"
     ]
    }
   ],
   "source": [
    "import os\n",
    "import cv2 as cv\n",
    "import matplotlib.pyplot as plt\n",
    "import numpy as np"
   ],
   "metadata": {
    "collapsed": false,
    "ExecuteTime": {
     "end_time": "2024-03-17T08:55:02.711529Z",
     "start_time": "2024-03-17T08:55:02.664159Z"
    }
   },
   "id": "bca4858f941c8feb",
   "execution_count": 2
  },
  {
   "cell_type": "markdown",
   "source": [
    "Load the basic dataset, and count how many different classes of fonts there are"
   ],
   "metadata": {
    "collapsed": false
   },
   "id": "631fd0e91062319c"
  },
  {
   "cell_type": "code",
   "outputs": [],
   "source": [
    "dataset_path = \"fonts\"\n",
    "\n",
    "# Count the number of fonts that are present in the 'font' folder\n",
    "fonts = os.listdir(dataset_path)\n",
    "print(f\"Number of fonts in {dataset_path} folder: \", len(fonts))\n",
    "\n",
    "# List the fonts name\n",
    "print(\"Fonts name:\", fonts)"
   ],
   "metadata": {
    "collapsed": true
   },
   "id": "initial_id",
   "execution_count": null
  },
  {
   "cell_type": "markdown",
   "source": [
    "List the number of images per font"
   ],
   "metadata": {
    "collapsed": false
   },
   "id": "d5215bc8a4289ba7"
  },
  {
   "cell_type": "code",
   "outputs": [],
   "source": [
    "for font in fonts:\n",
    "    print(f\"Number of images in {dataset_path}/{font}:\", len(os.listdir(os.path.join(dataset_path, font))))"
   ],
   "metadata": {
    "collapsed": false,
    "ExecuteTime": {
     "end_time": "2024-03-17T08:50:14.805067Z",
     "start_time": "2024-03-17T08:50:14.804272Z"
    }
   },
   "id": "b55fa89e228cd75f",
   "execution_count": null
  },
  {
   "cell_type": "markdown",
   "source": [
    "Let's take a look at the different image size in all of the different fonts, using histograms"
   ],
   "metadata": {
    "collapsed": false
   },
   "id": "1a27b4cc574d73c8"
  },
  {
   "cell_type": "code",
   "outputs": [],
   "source": [
    "def compute_histograms(data, title, xlabel, ylabel):\n",
    "    plt.hist(data, bins=30, color='blue', edgecolor= 'black')\n",
    "    plt.title(title)\n",
    "    plt.xlabel(xlabel)\n",
    "    plt.ylabel(ylabel)\n",
    "    plt.grid(True)\n",
    "    plt.show()"
   ],
   "metadata": {
    "collapsed": false
   },
   "id": "2d7546e703690c70",
   "execution_count": null
  },
  {
   "cell_type": "code",
   "outputs": [],
   "source": [
    "for font in fonts:\n",
    "    widths = []\n",
    "    heights = []\n",
    "    \n",
    "    path = os.path.join(dataset_path, font)\n",
    "    images = os.listdir(path)\n",
    "    for image_name in images:\n",
    "        image = cv.imread(os.path.join(path, image_name))\n",
    "        if image is not None:\n",
    "            height, width, _ = image.shape\n",
    "            widths.append(width)\n",
    "            heights.append(height)\n",
    "        \n",
    "    compute_histograms(widths, font + \" - Width Histogram\", \"Width\", \"Frequency\")\n",
    "    compute_histograms(heights, font + \" - Height Histogram\", \"Height\", \"Frequency\")"
   ],
   "metadata": {
    "collapsed": false
   },
   "id": "a0c632cbb66253d1",
   "execution_count": null
  },
  {
   "cell_type": "markdown",
   "source": [
    "From the histograms we can see that the height is always the same for each font, with a value of `32`, so we can just compute the histograms of the width."
   ],
   "metadata": {
    "collapsed": false
   },
   "id": "b72f6042b245da3e"
  },
  {
   "cell_type": "code",
   "outputs": [],
   "source": [
    "all_widths = []\n",
    "\n",
    "for font in fonts:\n",
    "    widths = []\n",
    "    heights = []\n",
    "    \n",
    "    path = os.path.join(dataset_path, font)\n",
    "    images = os.listdir(path)\n",
    "    for image_name in images:\n",
    "        image = cv.imread(os.path.join(path, image_name))\n",
    "        if image is not None:\n",
    "            height, width, _ = image.shape\n",
    "            widths.append(width)\n",
    "            heights.append(height)\n",
    "    \n",
    "    all_widths.append(widths)\n",
    "    \n",
    "    compute_histograms(widths, font + \" - Width Histogram\", \"Width\", \"Frequency\")"
   ],
   "metadata": {
    "collapsed": false
   },
   "id": "c2ce14c256ca1b09",
   "execution_count": null
  },
  {
   "cell_type": "markdown",
   "source": [
    "We can also combine all the widths of all fonts into a single histogram"
   ],
   "metadata": {
    "collapsed": false
   },
   "id": "77394eef8c2487fc"
  },
  {
   "cell_type": "code",
   "outputs": [],
   "source": [
    "all_widths = np.concatenate(all_widths).tolist()\n",
    "compute_histograms(all_widths, \"Width Histogram\", \"Width\", \"Frequency\")"
   ],
   "metadata": {
    "collapsed": false
   },
   "id": "58bc0ef421e08c38",
   "execution_count": null
  }
 ],
 "metadata": {
  "kernelspec": {
   "display_name": "Python 3",
   "language": "python",
   "name": "python3"
  },
  "language_info": {
   "codemirror_mode": {
    "name": "ipython",
    "version": 2
   },
   "file_extension": ".py",
   "mimetype": "text/x-python",
   "name": "python",
   "nbconvert_exporter": "python",
   "pygments_lexer": "ipython2",
   "version": "2.7.6"
  }
 },
 "nbformat": 4,
 "nbformat_minor": 5
}
