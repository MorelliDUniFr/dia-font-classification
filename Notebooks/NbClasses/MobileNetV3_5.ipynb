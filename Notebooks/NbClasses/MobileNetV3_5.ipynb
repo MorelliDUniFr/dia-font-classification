{
 "cells": [
  {
   "cell_type": "markdown",
   "source": [
    "# Font Classification with PyTorch and MobileNetV3\n",
    "In this notebook, we will use the PyTorch deep learning framework to train a MobileNetV3 model to classify fonts. We will use the `torchvision` library to load the dataset and the `sklearn` library to evaluate the model using accuracy, precision, recall, F1-score, and the ROC curve. We will also visualize the confusion matrix to understand the model's performance on each class."
   ],
   "metadata": {
    "collapsed": false
   },
   "id": "4ac20b28058858bd"
  },
  {
   "cell_type": "markdown",
   "source": [
    "# Imports\n",
    "Import of the necessary libraries"
   ],
   "metadata": {
    "collapsed": false
   },
   "id": "705740ac830b5b02"
  },
  {
   "cell_type": "code",
   "outputs": [],
   "source": [
    "import numpy as np\n",
    "from torchvision import datasets, transforms\n",
    "from sklearn.metrics import accuracy_score, precision_score, recall_score, f1_score, confusion_matrix\n",
    "import seaborn as sns\n",
    "import matplotlib.pyplot as plt\n",
    "import torch\n",
    "from torchvision import models\n",
    "from torch.utils.data import DataLoader\n",
    "from sklearn.metrics import roc_curve, auc\n",
    "from sklearn.preprocessing import label_binarize\n",
    "import time\n",
    "from sys import platform"
   ],
   "metadata": {
    "collapsed": false,
    "ExecuteTime": {
     "end_time": "2024-04-24T08:19:03.149426Z",
     "start_time": "2024-04-24T08:19:00.538789Z"
    }
   },
   "id": "cd70965188811652",
   "execution_count": 1
  },
  {
   "cell_type": "markdown",
   "source": [
    "# Model choice\n",
    "Choose the model to use for training. In this case, we will use the MobileNetV3 model."
   ],
   "metadata": {
    "collapsed": false
   },
   "id": "89723516c4abb2e6"
  },
  {
   "cell_type": "code",
   "outputs": [
    {
     "name": "stdout",
     "output_type": "stream",
     "text": [
      "Using model: mobilenet_v3_small\n"
     ]
    }
   ],
   "source": [
    "model_name = 'mobilenet_v3_small'\n",
    "print(f'Using model: {model_name}')"
   ],
   "metadata": {
    "collapsed": false,
    "ExecuteTime": {
     "end_time": "2024-04-24T08:19:03.165424Z",
     "start_time": "2024-04-24T08:19:03.150426Z"
    }
   },
   "id": "ef4e56728f9785b4",
   "execution_count": 2
  },
  {
   "cell_type": "markdown",
   "source": [
    "# Loading and preparing the dataset\n",
    "Load the dataset and prepare it for training. We will resize the images to a fixed size, convert them to tensors, and normalize the pixel values.\n",
    "\n",
    "## Preprocessing\n",
    "1. Resize the images to a fixed size\n",
    "2. Convert the images to tensors\n",
    "3. Normalize the pixel values"
   ],
   "metadata": {
    "collapsed": false
   },
   "id": "b2dabad339631e94"
  },
  {
   "cell_type": "code",
   "outputs": [],
   "source": [
    "# From the dataset, we know that the images have a height of 32 pixels and a width (on average) of 150 pixels\n",
    "image_height = 32\n",
    "image_width = 150\n",
    "\n",
    "# Define the percentage of the dataset to use for training\n",
    "train_size_perc = 0.7\n",
    "\n",
    "# Set the seed for reproducibility\n",
    "torch.manual_seed(0)\n",
    "\n",
    "# Define transformations for preprocessing\n",
    "transform = transforms.Compose([\n",
    "    transforms.Resize((image_height, image_width)),  # Resize images to a fixed size\n",
    "    transforms.ToTensor(),                           # Convert images to tensors\n",
    "    transforms.Normalize(mean=[0.5, 0.5, 0.5],      # Normalize pixel values\n",
    "                         std=[0.5, 0.5, 0.5])])"
   ],
   "metadata": {
    "collapsed": false,
    "ExecuteTime": {
     "end_time": "2024-04-24T08:19:03.180424Z",
     "start_time": "2024-04-24T08:19:03.166426Z"
    }
   },
   "id": "cdc44275b7dbe9ba",
   "execution_count": 3
  },
  {
   "cell_type": "markdown",
   "source": [
    "## Load the dataset\n",
    "Load the dataset using the `ImageFolder` class from `torchvision`. We will split the dataset into training, validation, and test sets. We will use 70% of the dataset for training, 15% for validation, and 15% for testing."
   ],
   "metadata": {
    "collapsed": false
   },
   "id": "8906c87c81b7569c"
  },
  {
   "cell_type": "code",
   "outputs": [
    {
     "name": "stdout",
     "output_type": "stream",
     "text": [
      "Classes: ['Algerian', 'Arial', 'Baskerville', 'Calibry', 'Calligraphy']\n"
     ]
    }
   ],
   "source": [
    "# Path to the dataset\n",
    "data_dir = '../../fonts'\n",
    "\n",
    "# Notebook scope and type\n",
    "scope = 'NbClasses'\n",
    "type = '5'\n",
    "\n",
    "# Number of classes to use\n",
    "nb_classes = 5\n",
    "\n",
    "# Load the dataset using ImageFolder\n",
    "dataset = datasets.ImageFolder(root=data_dir, transform=transform)\n",
    "\n",
    "# Reduce the number of classes to 5\n",
    "if nb_classes < len(dataset.classes):\n",
    "    dataset.classes = dataset.classes[:nb_classes]\n",
    "    dataset.class_to_idx = {k: v for v, k in enumerate(dataset.classes)}\n",
    "    dataset.samples = list(filter(lambda x: x[1] < 5, dataset.samples))\n",
    "    dataset.targets = [s[1] for s in dataset.samples]\n",
    "\n",
    "print(f'Classes: {dataset.classes}')\n",
    "\n",
    "# Define the sizes of the training, validation, and test sets\n",
    "train_size = int(train_size_perc * len(dataset))  # 70% of the dataset for training\n",
    "val_size = int(((1.0 - train_size_perc)/2) * len(dataset))    # 15% for validation\n",
    "test_size = len(dataset) - train_size - val_size  # Remaining for test (15%)\n",
    "\n",
    "# Split the dataset into training, validation, and test sets\n",
    "train_dataset, val_dataset, test_dataset = torch.utils.data.random_split(\n",
    "    dataset, [train_size, val_size, test_size])\n",
    "\n",
    "# Define the batch size as a percentage of the training set, in this case 1%\n",
    "batch_size = int(train_size * 0.01)\n",
    "\n",
    "# Create data loaders for training, validation, and test sets\n",
    "train_loader = torch.utils.data.DataLoader(train_dataset, batch_size=batch_size, shuffle=True)\n",
    "val_loader = torch.utils.data.DataLoader(val_dataset, batch_size=batch_size, shuffle=True)\n",
    "test_loader = torch.utils.data.DataLoader(test_dataset, batch_size=batch_size, shuffle=False)"
   ],
   "metadata": {
    "collapsed": false,
    "ExecuteTime": {
     "end_time": "2024-04-24T08:19:03.256424Z",
     "start_time": "2024-04-24T08:19:03.183427Z"
    }
   },
   "id": "9d9c8c978a1ebdbd",
   "execution_count": 4
  },
  {
   "cell_type": "markdown",
   "source": [
    "## Dataset information"
   ],
   "metadata": {
    "collapsed": false
   },
   "id": "afdcf3568e6bb0e6"
  },
  {
   "cell_type": "code",
   "outputs": [
    {
     "name": "stdout",
     "output_type": "stream",
     "text": [
      "Number of images: 5000\n",
      "Number of batches: 100\n",
      "Batch size: 35\n",
      "Number of training images: 3500\n",
      "Number of validation images: 750\n",
      "Number of test images: 750\n",
      "Class names: ['Algerian', 'Arial', 'Baskerville', 'Calibry', 'Calligraphy']\n"
     ]
    }
   ],
   "source": [
    "num_images = len(dataset)\n",
    "num_batches = len(train_loader)\n",
    "print(f'Number of images: {num_images}')\n",
    "print(f'Number of batches: {num_batches}')\n",
    "print(f'Batch size: {batch_size}')\n",
    "print(f'Number of training images: {len(train_dataset)}')\n",
    "print(f'Number of validation images: {len(val_dataset)}')\n",
    "print(f'Number of test images: {len(test_dataset)}')\n",
    "\n",
    "# Get the class names\n",
    "class_names = dataset.classes\n",
    "print(f'Class names: {class_names}')"
   ],
   "metadata": {
    "collapsed": false,
    "ExecuteTime": {
     "end_time": "2024-04-24T08:19:03.271425Z",
     "start_time": "2024-04-24T08:19:03.257427Z"
    }
   },
   "id": "1975b1b1848ca2ac",
   "execution_count": 5
  },
  {
   "cell_type": "markdown",
   "source": [
    "# Loading the model\n",
    "Load the MobileNetV3 model and move it to the device (CPU or GPU)."
   ],
   "metadata": {
    "collapsed": false
   },
   "id": "bd836b0d47a237ba"
  },
  {
   "cell_type": "code",
   "outputs": [
    {
     "name": "stdout",
     "output_type": "stream",
     "text": [
      "Model moved to cpu\n"
     ]
    }
   ],
   "source": [
    "# Load the model and replace the fully connected layer\n",
    "model = models.__dict__[model_name](weights=None)\n",
    "\n",
    "# Move model to the device (CPU or GPU)\n",
    "if platform != \"win32\":\n",
    "    device = torch.device('mps' if torch.backends.mps.is_available() else 'cpu')\n",
    "else:\n",
    "    device = torch.device('gpu' if torch.cuda.is_available() else 'cpu')\n",
    "model = model.to(device)\n",
    "print(f'Model moved to {device}')"
   ],
   "metadata": {
    "collapsed": false,
    "ExecuteTime": {
     "end_time": "2024-04-24T08:19:03.318426Z",
     "start_time": "2024-04-24T08:19:03.272427Z"
    }
   },
   "id": "8e9ad926f379fab5",
   "execution_count": 6
  },
  {
   "cell_type": "markdown",
   "source": [
    "# Training the model\n",
    "Train the model using the training set and validate it using the validation set. We will use the Adam optimizer and the CrossEntropy loss function. We will save the model with the lowest validation loss."
   ],
   "metadata": {
    "collapsed": false
   },
   "id": "eebc3e7a492ce85"
  },
  {
   "cell_type": "code",
   "outputs": [
    {
     "name": "stdout",
     "output_type": "stream",
     "text": [
      "Epoch 1\n",
      "-------------------------------\n",
      "Training - Epoch [1/60], Step [10/100], Loss: 2.9744\n",
      "Training - Epoch [1/60], Step [20/100], Loss: 1.5960\n",
      "Training - Epoch [1/60], Step [30/100], Loss: 1.6741\n",
      "Training - Epoch [1/60], Step [40/100], Loss: 1.4622\n",
      "Training - Epoch [1/60], Step [50/100], Loss: 1.2990\n",
      "Training - Epoch [1/60], Step [60/100], Loss: 0.7915\n",
      "Training - Epoch [1/60], Step [70/100], Loss: 0.7428\n",
      "Training - Epoch [1/60], Step [80/100], Loss: 0.7723\n",
      "Training - Epoch [1/60], Step [90/100], Loss: 0.4362\n",
      "Training - Epoch [1/60], Step [100/100], Loss: 0.4265\n",
      "Validation - Epoch [1/60], Loss: 2.3204, Accuracy: 0.2093\n",
      "Model saved as mobilenet_v3_small_font_classifier_5.pth\n",
      "Epoch 2\n",
      "-------------------------------\n",
      "Training - Epoch [2/60], Step [10/100], Loss: 0.3604\n",
      "Training - Epoch [2/60], Step [20/100], Loss: 0.2603\n",
      "Training - Epoch [2/60], Step [30/100], Loss: 0.1190\n",
      "Training - Epoch [2/60], Step [40/100], Loss: 0.2969\n",
      "Training - Epoch [2/60], Step [50/100], Loss: 0.1671\n",
      "Training - Epoch [2/60], Step [60/100], Loss: 0.5657\n",
      "Training - Epoch [2/60], Step [70/100], Loss: 0.1405\n",
      "Training - Epoch [2/60], Step [80/100], Loss: 0.1532\n",
      "Training - Epoch [2/60], Step [90/100], Loss: 0.0432\n",
      "Training - Epoch [2/60], Step [100/100], Loss: 0.0632\n",
      "Validation - Epoch [2/60], Loss: 1.8393, Accuracy: 0.1920\n",
      "Model saved as mobilenet_v3_small_font_classifier_5.pth\n",
      "Epoch 3\n",
      "-------------------------------\n",
      "Training - Epoch [3/60], Step [10/100], Loss: 0.1523\n",
      "Training - Epoch [3/60], Step [20/100], Loss: 0.0302\n",
      "Training - Epoch [3/60], Step [30/100], Loss: 0.1152\n",
      "Training - Epoch [3/60], Step [40/100], Loss: 0.1263\n",
      "Training - Epoch [3/60], Step [50/100], Loss: 0.0522\n",
      "Training - Epoch [3/60], Step [60/100], Loss: 0.0177\n",
      "Training - Epoch [3/60], Step [70/100], Loss: 0.3730\n",
      "Training - Epoch [3/60], Step [80/100], Loss: 0.5061\n",
      "Training - Epoch [3/60], Step [90/100], Loss: 0.1740\n",
      "Training - Epoch [3/60], Step [100/100], Loss: 0.0050\n",
      "Validation - Epoch [3/60], Loss: 1.7885, Accuracy: 0.1920\n",
      "Model saved as mobilenet_v3_small_font_classifier_5.pth\n",
      "Epoch 4\n",
      "-------------------------------\n",
      "Training - Epoch [4/60], Step [10/100], Loss: 0.0033\n",
      "Training - Epoch [4/60], Step [20/100], Loss: 0.0437\n",
      "Training - Epoch [4/60], Step [30/100], Loss: 0.3552\n",
      "Training - Epoch [4/60], Step [40/100], Loss: 0.0974\n",
      "Training - Epoch [4/60], Step [50/100], Loss: 0.1479\n",
      "Training - Epoch [4/60], Step [60/100], Loss: 0.0852\n",
      "Training - Epoch [4/60], Step [70/100], Loss: 0.0213\n",
      "Training - Epoch [4/60], Step [80/100], Loss: 0.1011\n",
      "Training - Epoch [4/60], Step [90/100], Loss: 0.1983\n",
      "Training - Epoch [4/60], Step [100/100], Loss: 0.0292\n",
      "Validation - Epoch [4/60], Loss: 1.6820, Accuracy: 0.3240\n",
      "Model saved as mobilenet_v3_small_font_classifier_5.pth\n",
      "Epoch 5\n",
      "-------------------------------\n",
      "Training - Epoch [5/60], Step [10/100], Loss: 0.0990\n",
      "Training - Epoch [5/60], Step [20/100], Loss: 0.0732\n",
      "Training - Epoch [5/60], Step [30/100], Loss: 0.1190\n",
      "Training - Epoch [5/60], Step [40/100], Loss: 0.1822\n",
      "Training - Epoch [5/60], Step [50/100], Loss: 0.0692\n",
      "Training - Epoch [5/60], Step [60/100], Loss: 0.0091\n",
      "Training - Epoch [5/60], Step [70/100], Loss: 0.0451\n",
      "Training - Epoch [5/60], Step [80/100], Loss: 0.0114\n",
      "Training - Epoch [5/60], Step [90/100], Loss: 0.0693\n",
      "Training - Epoch [5/60], Step [100/100], Loss: 0.0129\n",
      "Validation - Epoch [5/60], Loss: 1.1101, Accuracy: 0.6053\n",
      "Model saved as mobilenet_v3_small_font_classifier_5.pth\n",
      "Epoch 6\n",
      "-------------------------------\n",
      "Training - Epoch [6/60], Step [10/100], Loss: 0.0231\n",
      "Training - Epoch [6/60], Step [20/100], Loss: 0.1389\n",
      "Training - Epoch [6/60], Step [30/100], Loss: 0.0400\n",
      "Training - Epoch [6/60], Step [40/100], Loss: 0.0144\n",
      "Training - Epoch [6/60], Step [50/100], Loss: 0.0009\n",
      "Training - Epoch [6/60], Step [60/100], Loss: 0.0038\n",
      "Training - Epoch [6/60], Step [70/100], Loss: 0.3689\n",
      "Training - Epoch [6/60], Step [80/100], Loss: 0.0110\n",
      "Training - Epoch [6/60], Step [90/100], Loss: 0.0100\n",
      "Training - Epoch [6/60], Step [100/100], Loss: 0.0104\n",
      "Validation - Epoch [6/60], Loss: 0.1408, Accuracy: 0.9747\n",
      "Model saved as mobilenet_v3_small_font_classifier_5.pth\n",
      "Epoch 7\n",
      "-------------------------------\n",
      "Training - Epoch [7/60], Step [10/100], Loss: 0.0237\n",
      "Training - Epoch [7/60], Step [20/100], Loss: 0.0482\n",
      "Training - Epoch [7/60], Step [30/100], Loss: 0.0003\n",
      "Training - Epoch [7/60], Step [40/100], Loss: 0.0034\n",
      "Training - Epoch [7/60], Step [50/100], Loss: 0.0025\n",
      "Training - Epoch [7/60], Step [60/100], Loss: 0.0042\n",
      "Training - Epoch [7/60], Step [70/100], Loss: 0.0024\n",
      "Training - Epoch [7/60], Step [80/100], Loss: 0.0125\n",
      "Training - Epoch [7/60], Step [90/100], Loss: 0.0001\n",
      "Training - Epoch [7/60], Step [100/100], Loss: 0.0010\n",
      "Validation - Epoch [7/60], Loss: 0.0316, Accuracy: 0.9867\n",
      "Model saved as mobilenet_v3_small_font_classifier_5.pth\n",
      "Epoch 8\n",
      "-------------------------------\n",
      "Training - Epoch [8/60], Step [10/100], Loss: 0.0099\n",
      "Training - Epoch [8/60], Step [20/100], Loss: 0.0201\n",
      "Training - Epoch [8/60], Step [30/100], Loss: 0.1361\n",
      "Training - Epoch [8/60], Step [40/100], Loss: 0.0006\n",
      "Training - Epoch [8/60], Step [50/100], Loss: 0.0012\n",
      "Training - Epoch [8/60], Step [60/100], Loss: 0.0016\n",
      "Training - Epoch [8/60], Step [70/100], Loss: 0.0014\n",
      "Training - Epoch [8/60], Step [80/100], Loss: 0.0056\n",
      "Training - Epoch [8/60], Step [90/100], Loss: 0.0087\n",
      "Training - Epoch [8/60], Step [100/100], Loss: 0.0197\n",
      "Validation - Epoch [8/60], Loss: 0.5834, Accuracy: 0.8493\n",
      "Epoch 9\n",
      "-------------------------------\n",
      "Training - Epoch [9/60], Step [10/100], Loss: 0.0146\n",
      "Training - Epoch [9/60], Step [20/100], Loss: 0.0179\n",
      "Training - Epoch [9/60], Step [30/100], Loss: 0.0382\n",
      "Training - Epoch [9/60], Step [40/100], Loss: 0.0151\n",
      "Training - Epoch [9/60], Step [50/100], Loss: 0.0048\n",
      "Training - Epoch [9/60], Step [60/100], Loss: 0.0015\n",
      "Training - Epoch [9/60], Step [70/100], Loss: 0.0082\n",
      "Training - Epoch [9/60], Step [80/100], Loss: 0.0010\n",
      "Training - Epoch [9/60], Step [90/100], Loss: 0.1520\n",
      "Training - Epoch [9/60], Step [100/100], Loss: 0.0006\n",
      "Validation - Epoch [9/60], Loss: 0.0761, Accuracy: 0.9787\n",
      "Epoch 10\n",
      "-------------------------------\n",
      "Training - Epoch [10/60], Step [10/100], Loss: 0.0050\n",
      "Training - Epoch [10/60], Step [20/100], Loss: 0.0001\n",
      "Training - Epoch [10/60], Step [30/100], Loss: 0.2419\n",
      "Training - Epoch [10/60], Step [40/100], Loss: 0.0019\n",
      "Training - Epoch [10/60], Step [50/100], Loss: 0.0010\n",
      "Training - Epoch [10/60], Step [60/100], Loss: 0.0122\n",
      "Training - Epoch [10/60], Step [70/100], Loss: 0.0011\n",
      "Training - Epoch [10/60], Step [80/100], Loss: 0.0102\n",
      "Training - Epoch [10/60], Step [90/100], Loss: 0.0057\n",
      "Training - Epoch [10/60], Step [100/100], Loss: 0.0000\n",
      "Validation - Epoch [10/60], Loss: 0.0299, Accuracy: 0.9880\n",
      "Model saved as mobilenet_v3_small_font_classifier_5.pth\n",
      "Epoch 11\n",
      "-------------------------------\n",
      "Training - Epoch [11/60], Step [10/100], Loss: 0.0011\n",
      "Training - Epoch [11/60], Step [20/100], Loss: 0.1385\n",
      "Training - Epoch [11/60], Step [30/100], Loss: 0.0004\n",
      "Training - Epoch [11/60], Step [40/100], Loss: 0.0156\n",
      "Training - Epoch [11/60], Step [50/100], Loss: 0.0136\n",
      "Training - Epoch [11/60], Step [60/100], Loss: 0.0134\n",
      "Training - Epoch [11/60], Step [70/100], Loss: 0.0004\n",
      "Training - Epoch [11/60], Step [80/100], Loss: 0.0666\n",
      "Training - Epoch [11/60], Step [90/100], Loss: 0.0465\n",
      "Training - Epoch [11/60], Step [100/100], Loss: 0.0004\n",
      "Validation - Epoch [11/60], Loss: 0.0557, Accuracy: 0.9827\n",
      "Epoch 12\n",
      "-------------------------------\n",
      "Training - Epoch [12/60], Step [10/100], Loss: 0.0004\n",
      "Training - Epoch [12/60], Step [20/100], Loss: 0.0000\n",
      "Training - Epoch [12/60], Step [30/100], Loss: 0.0004\n",
      "Training - Epoch [12/60], Step [40/100], Loss: 0.0166\n",
      "Training - Epoch [12/60], Step [50/100], Loss: 0.1523\n",
      "Training - Epoch [12/60], Step [60/100], Loss: 0.0050\n",
      "Training - Epoch [12/60], Step [70/100], Loss: 0.0323\n",
      "Training - Epoch [12/60], Step [80/100], Loss: 0.0101\n",
      "Training - Epoch [12/60], Step [90/100], Loss: 0.0005\n",
      "Training - Epoch [12/60], Step [100/100], Loss: 0.0618\n",
      "Validation - Epoch [12/60], Loss: 0.0273, Accuracy: 0.9920\n",
      "Model saved as mobilenet_v3_small_font_classifier_5.pth\n",
      "Epoch 13\n",
      "-------------------------------\n",
      "Training - Epoch [13/60], Step [10/100], Loss: 0.0007\n",
      "Training - Epoch [13/60], Step [20/100], Loss: 0.0001\n",
      "Training - Epoch [13/60], Step [30/100], Loss: 0.0006\n",
      "Training - Epoch [13/60], Step [40/100], Loss: 0.0002\n",
      "Training - Epoch [13/60], Step [50/100], Loss: 0.0028\n",
      "Training - Epoch [13/60], Step [60/100], Loss: 0.0002\n",
      "Training - Epoch [13/60], Step [70/100], Loss: 0.0000\n",
      "Training - Epoch [13/60], Step [80/100], Loss: 0.0026\n",
      "Training - Epoch [13/60], Step [90/100], Loss: 0.0001\n",
      "Training - Epoch [13/60], Step [100/100], Loss: 0.0130\n",
      "Validation - Epoch [13/60], Loss: 0.0242, Accuracy: 0.9947\n",
      "Model saved as mobilenet_v3_small_font_classifier_5.pth\n",
      "Epoch 14\n",
      "-------------------------------\n",
      "Training - Epoch [14/60], Step [10/100], Loss: 0.0030\n",
      "Training - Epoch [14/60], Step [20/100], Loss: 0.0001\n",
      "Training - Epoch [14/60], Step [30/100], Loss: 0.0013\n",
      "Training - Epoch [14/60], Step [40/100], Loss: 0.0000\n",
      "Training - Epoch [14/60], Step [50/100], Loss: 0.0001\n",
      "Training - Epoch [14/60], Step [60/100], Loss: 0.0008\n",
      "Training - Epoch [14/60], Step [70/100], Loss: 0.0689\n",
      "Training - Epoch [14/60], Step [80/100], Loss: 0.0002\n",
      "Training - Epoch [14/60], Step [90/100], Loss: 0.0021\n",
      "Training - Epoch [14/60], Step [100/100], Loss: 0.0468\n",
      "Validation - Epoch [14/60], Loss: 0.2829, Accuracy: 0.9293\n",
      "Epoch 15\n",
      "-------------------------------\n",
      "Training - Epoch [15/60], Step [10/100], Loss: 0.0948\n",
      "Training - Epoch [15/60], Step [20/100], Loss: 0.0251\n",
      "Training - Epoch [15/60], Step [30/100], Loss: 0.0803\n",
      "Training - Epoch [15/60], Step [40/100], Loss: 0.1723\n",
      "Training - Epoch [15/60], Step [50/100], Loss: 0.5099\n",
      "Training - Epoch [15/60], Step [60/100], Loss: 0.0798\n",
      "Training - Epoch [15/60], Step [70/100], Loss: 0.1755\n",
      "Training - Epoch [15/60], Step [80/100], Loss: 0.0079\n",
      "Training - Epoch [15/60], Step [90/100], Loss: 0.0019\n",
      "Training - Epoch [15/60], Step [100/100], Loss: 0.0282\n",
      "Validation - Epoch [15/60], Loss: 0.1478, Accuracy: 0.9800\n",
      "Epoch 16\n",
      "-------------------------------\n",
      "Training - Epoch [16/60], Step [10/100], Loss: 0.4491\n",
      "Training - Epoch [16/60], Step [20/100], Loss: 0.0142\n",
      "Training - Epoch [16/60], Step [30/100], Loss: 0.0236\n",
      "Training - Epoch [16/60], Step [40/100], Loss: 0.0152\n",
      "Training - Epoch [16/60], Step [50/100], Loss: 0.0028\n",
      "Training - Epoch [16/60], Step [60/100], Loss: 0.0729\n",
      "Training - Epoch [16/60], Step [70/100], Loss: 0.0093\n",
      "Training - Epoch [16/60], Step [80/100], Loss: 0.0154\n",
      "Training - Epoch [16/60], Step [90/100], Loss: 0.0027\n",
      "Training - Epoch [16/60], Step [100/100], Loss: 0.0017\n",
      "Validation - Epoch [16/60], Loss: 0.1523, Accuracy: 0.9747\n",
      "Epoch 17\n",
      "-------------------------------\n",
      "Training - Epoch [17/60], Step [10/100], Loss: 0.0002\n",
      "Training - Epoch [17/60], Step [20/100], Loss: 0.0018\n",
      "Training - Epoch [17/60], Step [30/100], Loss: 0.0007\n",
      "Training - Epoch [17/60], Step [40/100], Loss: 0.0003\n",
      "Training - Epoch [17/60], Step [50/100], Loss: 0.0060\n",
      "Training - Epoch [17/60], Step [60/100], Loss: 0.0008\n",
      "Training - Epoch [17/60], Step [70/100], Loss: 0.0009\n",
      "Training - Epoch [17/60], Step [80/100], Loss: 0.0439\n",
      "Training - Epoch [17/60], Step [90/100], Loss: 0.0033\n",
      "Training - Epoch [17/60], Step [100/100], Loss: 0.0102\n",
      "Validation - Epoch [17/60], Loss: 0.1868, Accuracy: 0.9813\n",
      "Epoch 18\n",
      "-------------------------------\n",
      "Training - Epoch [18/60], Step [10/100], Loss: 0.1463\n",
      "Training - Epoch [18/60], Step [20/100], Loss: 0.0013\n",
      "Training - Epoch [18/60], Step [30/100], Loss: 0.0017\n",
      "Training - Epoch [18/60], Step [40/100], Loss: 0.0230\n",
      "Training - Epoch [18/60], Step [50/100], Loss: 0.0065\n",
      "Training - Epoch [18/60], Step [60/100], Loss: 0.2248\n",
      "Training - Epoch [18/60], Step [70/100], Loss: 0.0004\n",
      "Training - Epoch [18/60], Step [80/100], Loss: 0.0902\n",
      "Training - Epoch [18/60], Step [90/100], Loss: 0.0001\n",
      "Training - Epoch [18/60], Step [100/100], Loss: 0.0068\n",
      "Validation - Epoch [18/60], Loss: 0.1191, Accuracy: 0.9560\n",
      "Epoch 19\n",
      "-------------------------------\n",
      "Training - Epoch [19/60], Step [10/100], Loss: 0.0020\n",
      "Training - Epoch [19/60], Step [20/100], Loss: 0.0057\n",
      "Training - Epoch [19/60], Step [30/100], Loss: 0.0221\n",
      "Training - Epoch [19/60], Step [40/100], Loss: 0.0006\n",
      "Training - Epoch [19/60], Step [50/100], Loss: 0.0009\n",
      "Training - Epoch [19/60], Step [60/100], Loss: 0.0092\n",
      "Training - Epoch [19/60], Step [70/100], Loss: 0.0001\n",
      "Training - Epoch [19/60], Step [80/100], Loss: 0.0381\n",
      "Training - Epoch [19/60], Step [90/100], Loss: 0.0001\n",
      "Training - Epoch [19/60], Step [100/100], Loss: 0.0001\n",
      "Validation - Epoch [19/60], Loss: 0.0220, Accuracy: 0.9960\n",
      "Model saved as mobilenet_v3_small_font_classifier_5.pth\n",
      "Epoch 20\n",
      "-------------------------------\n",
      "Training - Epoch [20/60], Step [10/100], Loss: 0.0178\n",
      "Training - Epoch [20/60], Step [20/100], Loss: 0.0009\n",
      "Training - Epoch [20/60], Step [30/100], Loss: 0.0052\n",
      "Training - Epoch [20/60], Step [40/100], Loss: 0.0037\n",
      "Training - Epoch [20/60], Step [50/100], Loss: 0.0332\n",
      "Training - Epoch [20/60], Step [60/100], Loss: 0.0002\n",
      "Training - Epoch [20/60], Step [70/100], Loss: 0.0068\n",
      "Training - Epoch [20/60], Step [80/100], Loss: 0.0026\n",
      "Training - Epoch [20/60], Step [90/100], Loss: 0.0002\n",
      "Training - Epoch [20/60], Step [100/100], Loss: 0.0009\n",
      "Validation - Epoch [20/60], Loss: 0.0288, Accuracy: 0.9907\n",
      "Epoch 21\n",
      "-------------------------------\n",
      "Training - Epoch [21/60], Step [10/100], Loss: 0.0002\n",
      "Training - Epoch [21/60], Step [20/100], Loss: 0.0006\n",
      "Training - Epoch [21/60], Step [30/100], Loss: 0.0001\n",
      "Training - Epoch [21/60], Step [40/100], Loss: 0.0006\n",
      "Training - Epoch [21/60], Step [50/100], Loss: 0.0049\n",
      "Training - Epoch [21/60], Step [60/100], Loss: 0.0006\n",
      "Training - Epoch [21/60], Step [70/100], Loss: 0.1752\n",
      "Training - Epoch [21/60], Step [80/100], Loss: 0.0019\n",
      "Training - Epoch [21/60], Step [90/100], Loss: 0.0002\n",
      "Training - Epoch [21/60], Step [100/100], Loss: 0.0002\n",
      "Validation - Epoch [21/60], Loss: 0.0345, Accuracy: 0.9947\n",
      "Epoch 22\n",
      "-------------------------------\n",
      "Training - Epoch [22/60], Step [10/100], Loss: 0.0071\n",
      "Training - Epoch [22/60], Step [20/100], Loss: 0.0050\n",
      "Training - Epoch [22/60], Step [30/100], Loss: 0.0529\n",
      "Training - Epoch [22/60], Step [40/100], Loss: 0.0000\n",
      "Training - Epoch [22/60], Step [50/100], Loss: 0.0002\n",
      "Training - Epoch [22/60], Step [60/100], Loss: 0.0002\n",
      "Training - Epoch [22/60], Step [70/100], Loss: 0.0023\n",
      "Training - Epoch [22/60], Step [80/100], Loss: 0.0015\n",
      "Training - Epoch [22/60], Step [90/100], Loss: 0.0005\n",
      "Training - Epoch [22/60], Step [100/100], Loss: 0.0001\n",
      "Validation - Epoch [22/60], Loss: 0.0377, Accuracy: 0.9893\n",
      "Epoch 23\n",
      "-------------------------------\n",
      "Training - Epoch [23/60], Step [10/100], Loss: 0.0016\n",
      "Training - Epoch [23/60], Step [20/100], Loss: 0.0000\n",
      "Training - Epoch [23/60], Step [30/100], Loss: 0.0003\n",
      "Training - Epoch [23/60], Step [40/100], Loss: 0.0011\n",
      "Training - Epoch [23/60], Step [50/100], Loss: 0.0000\n",
      "Training - Epoch [23/60], Step [60/100], Loss: 0.0001\n",
      "Training - Epoch [23/60], Step [70/100], Loss: 0.0000\n",
      "Training - Epoch [23/60], Step [80/100], Loss: 0.0385\n",
      "Training - Epoch [23/60], Step [90/100], Loss: 0.0000\n",
      "Training - Epoch [23/60], Step [100/100], Loss: 0.0004\n",
      "Validation - Epoch [23/60], Loss: 0.0335, Accuracy: 0.9920\n",
      "Epoch 24\n",
      "-------------------------------\n",
      "Training - Epoch [24/60], Step [10/100], Loss: 0.0000\n",
      "Training - Epoch [24/60], Step [20/100], Loss: 0.0000\n",
      "Training - Epoch [24/60], Step [30/100], Loss: 0.0005\n",
      "Training - Epoch [24/60], Step [40/100], Loss: 0.0000\n",
      "Training - Epoch [24/60], Step [50/100], Loss: 0.0000\n",
      "Training - Epoch [24/60], Step [60/100], Loss: 0.0000\n",
      "Training - Epoch [24/60], Step [70/100], Loss: 0.0001\n",
      "Training - Epoch [24/60], Step [80/100], Loss: 0.0000\n",
      "Training - Epoch [24/60], Step [90/100], Loss: 0.0000\n",
      "Training - Epoch [24/60], Step [100/100], Loss: 0.0000\n",
      "Validation - Epoch [24/60], Loss: 0.0268, Accuracy: 0.9947\n",
      "Epoch 25\n",
      "-------------------------------\n",
      "Training - Epoch [25/60], Step [10/100], Loss: 0.0000\n",
      "Training - Epoch [25/60], Step [20/100], Loss: 0.0011\n",
      "Training - Epoch [25/60], Step [30/100], Loss: 0.0000\n",
      "Training - Epoch [25/60], Step [40/100], Loss: 0.0002\n",
      "Training - Epoch [25/60], Step [50/100], Loss: 0.0000\n",
      "Training - Epoch [25/60], Step [60/100], Loss: 0.0000\n",
      "Training - Epoch [25/60], Step [70/100], Loss: 0.0000\n",
      "Training - Epoch [25/60], Step [80/100], Loss: 0.0005\n",
      "Training - Epoch [25/60], Step [90/100], Loss: 0.0003\n",
      "Training - Epoch [25/60], Step [100/100], Loss: 0.0014\n",
      "Validation - Epoch [25/60], Loss: 0.0241, Accuracy: 0.9947\n",
      "Epoch 26\n",
      "-------------------------------\n",
      "Training - Epoch [26/60], Step [10/100], Loss: 0.0006\n",
      "Training - Epoch [26/60], Step [20/100], Loss: 0.0000\n",
      "Training - Epoch [26/60], Step [30/100], Loss: 0.0000\n",
      "Training - Epoch [26/60], Step [40/100], Loss: 0.0002\n",
      "Training - Epoch [26/60], Step [50/100], Loss: 0.0001\n",
      "Training - Epoch [26/60], Step [60/100], Loss: 0.0001\n",
      "Training - Epoch [26/60], Step [70/100], Loss: 0.0001\n",
      "Training - Epoch [26/60], Step [80/100], Loss: 0.0001\n",
      "Training - Epoch [26/60], Step [90/100], Loss: 0.0000\n",
      "Training - Epoch [26/60], Step [100/100], Loss: 0.0000\n",
      "Validation - Epoch [26/60], Loss: 0.0261, Accuracy: 0.9947\n",
      "Epoch 27\n",
      "-------------------------------\n",
      "Training - Epoch [27/60], Step [10/100], Loss: 0.0000\n",
      "Training - Epoch [27/60], Step [20/100], Loss: 0.0000\n",
      "Training - Epoch [27/60], Step [30/100], Loss: 0.0000\n",
      "Training - Epoch [27/60], Step [40/100], Loss: 0.0000\n",
      "Training - Epoch [27/60], Step [50/100], Loss: 0.0000\n",
      "Training - Epoch [27/60], Step [60/100], Loss: 0.0032\n",
      "Training - Epoch [27/60], Step [70/100], Loss: 0.0000\n",
      "Training - Epoch [27/60], Step [80/100], Loss: 0.0000\n",
      "Training - Epoch [27/60], Step [90/100], Loss: 0.0000\n",
      "Training - Epoch [27/60], Step [100/100], Loss: 0.0013\n",
      "Validation - Epoch [27/60], Loss: 0.0305, Accuracy: 0.9933\n",
      "Epoch 28\n",
      "-------------------------------\n",
      "Training - Epoch [28/60], Step [10/100], Loss: 0.0000\n",
      "Training - Epoch [28/60], Step [20/100], Loss: 0.0003\n",
      "Training - Epoch [28/60], Step [30/100], Loss: 0.0000\n",
      "Training - Epoch [28/60], Step [40/100], Loss: 0.0000\n",
      "Training - Epoch [28/60], Step [50/100], Loss: 0.0000\n",
      "Training - Epoch [28/60], Step [60/100], Loss: 0.0002\n",
      "Training - Epoch [28/60], Step [70/100], Loss: 0.0114\n",
      "Training - Epoch [28/60], Step [80/100], Loss: 0.0000\n",
      "Training - Epoch [28/60], Step [90/100], Loss: 0.0000\n",
      "Training - Epoch [28/60], Step [100/100], Loss: 0.0000\n",
      "Validation - Epoch [28/60], Loss: 0.0551, Accuracy: 0.9920\n",
      "Epoch 29\n",
      "-------------------------------\n",
      "Training - Epoch [29/60], Step [10/100], Loss: 0.0001\n",
      "Training - Epoch [29/60], Step [20/100], Loss: 0.0000\n",
      "Training - Epoch [29/60], Step [30/100], Loss: 0.0012\n",
      "Training - Epoch [29/60], Step [40/100], Loss: 0.0002\n",
      "Training - Epoch [29/60], Step [50/100], Loss: 0.0001\n",
      "Training - Epoch [29/60], Step [60/100], Loss: 0.0000\n",
      "Training - Epoch [29/60], Step [70/100], Loss: 0.0001\n",
      "Training - Epoch [29/60], Step [80/100], Loss: 0.0000\n",
      "Training - Epoch [29/60], Step [90/100], Loss: 0.0004\n",
      "Training - Epoch [29/60], Step [100/100], Loss: 0.0001\n",
      "Validation - Epoch [29/60], Loss: 0.0333, Accuracy: 0.9933\n",
      "Epoch 30\n",
      "-------------------------------\n",
      "Training - Epoch [30/60], Step [10/100], Loss: 0.0000\n",
      "Training - Epoch [30/60], Step [20/100], Loss: 0.0002\n",
      "Training - Epoch [30/60], Step [30/100], Loss: 0.0000\n",
      "Training - Epoch [30/60], Step [40/100], Loss: 0.0000\n",
      "Training - Epoch [30/60], Step [50/100], Loss: 0.0000\n",
      "Training - Epoch [30/60], Step [60/100], Loss: 0.0000\n",
      "Training - Epoch [30/60], Step [70/100], Loss: 0.0000\n",
      "Training - Epoch [30/60], Step [80/100], Loss: 0.0000\n",
      "Training - Epoch [30/60], Step [90/100], Loss: 0.0004\n",
      "Training - Epoch [30/60], Step [100/100], Loss: 0.0001\n",
      "Validation - Epoch [30/60], Loss: 0.0238, Accuracy: 0.9920\n",
      "Epoch 31\n",
      "-------------------------------\n",
      "Training - Epoch [31/60], Step [10/100], Loss: 0.0000\n",
      "Training - Epoch [31/60], Step [20/100], Loss: 0.0343\n",
      "Training - Epoch [31/60], Step [30/100], Loss: 0.0251\n",
      "Training - Epoch [31/60], Step [40/100], Loss: 0.0112\n",
      "Training - Epoch [31/60], Step [50/100], Loss: 0.0023\n",
      "Training - Epoch [31/60], Step [60/100], Loss: 0.0254\n",
      "Training - Epoch [31/60], Step [70/100], Loss: 0.0382\n",
      "Training - Epoch [31/60], Step [80/100], Loss: 0.0006\n",
      "Training - Epoch [31/60], Step [90/100], Loss: 0.0127\n",
      "Training - Epoch [31/60], Step [100/100], Loss: 0.0128\n",
      "Validation - Epoch [31/60], Loss: 0.0735, Accuracy: 0.9813\n",
      "Epoch 32\n",
      "-------------------------------\n",
      "Training - Epoch [32/60], Step [10/100], Loss: 0.0084\n",
      "Training - Epoch [32/60], Step [20/100], Loss: 0.2010\n",
      "Training - Epoch [32/60], Step [30/100], Loss: 0.0106\n",
      "Training - Epoch [32/60], Step [40/100], Loss: 0.0231\n",
      "Training - Epoch [32/60], Step [50/100], Loss: 0.0252\n",
      "Training - Epoch [32/60], Step [60/100], Loss: 0.0031\n",
      "Training - Epoch [32/60], Step [70/100], Loss: 0.0357\n",
      "Training - Epoch [32/60], Step [80/100], Loss: 0.0330\n",
      "Training - Epoch [32/60], Step [90/100], Loss: 0.0240\n",
      "Training - Epoch [32/60], Step [100/100], Loss: 0.0188\n",
      "Validation - Epoch [32/60], Loss: 0.0869, Accuracy: 0.9827\n",
      "Epoch 33\n",
      "-------------------------------\n",
      "Training - Epoch [33/60], Step [10/100], Loss: 0.0001\n",
      "Training - Epoch [33/60], Step [20/100], Loss: 0.0005\n",
      "Training - Epoch [33/60], Step [30/100], Loss: 0.0026\n",
      "Training - Epoch [33/60], Step [40/100], Loss: 0.0000\n",
      "Training - Epoch [33/60], Step [50/100], Loss: 0.0000\n",
      "Training - Epoch [33/60], Step [60/100], Loss: 0.0000\n",
      "Training - Epoch [33/60], Step [70/100], Loss: 0.0000\n",
      "Training - Epoch [33/60], Step [80/100], Loss: 0.1476\n",
      "Training - Epoch [33/60], Step [90/100], Loss: 0.0000\n",
      "Training - Epoch [33/60], Step [100/100], Loss: 0.0889\n",
      "Validation - Epoch [33/60], Loss: 0.0421, Accuracy: 0.9920\n",
      "Epoch 34\n",
      "-------------------------------\n",
      "Training - Epoch [34/60], Step [10/100], Loss: 0.0298\n",
      "Training - Epoch [34/60], Step [20/100], Loss: 0.0006\n",
      "Training - Epoch [34/60], Step [30/100], Loss: 0.0000\n",
      "Training - Epoch [34/60], Step [40/100], Loss: 0.0003\n",
      "Training - Epoch [34/60], Step [50/100], Loss: 0.0001\n",
      "Training - Epoch [34/60], Step [60/100], Loss: 0.0077\n",
      "Training - Epoch [34/60], Step [70/100], Loss: 0.0057\n",
      "Training - Epoch [34/60], Step [80/100], Loss: 0.0002\n",
      "Training - Epoch [34/60], Step [90/100], Loss: 0.0000\n",
      "Training - Epoch [34/60], Step [100/100], Loss: 0.0001\n",
      "Validation - Epoch [34/60], Loss: 0.0192, Accuracy: 0.9933\n",
      "Model saved as mobilenet_v3_small_font_classifier_5.pth\n",
      "Epoch 35\n",
      "-------------------------------\n",
      "Training - Epoch [35/60], Step [10/100], Loss: 0.0000\n",
      "Training - Epoch [35/60], Step [20/100], Loss: 0.0799\n",
      "Training - Epoch [35/60], Step [30/100], Loss: 0.0432\n",
      "Training - Epoch [35/60], Step [40/100], Loss: 0.0000\n",
      "Training - Epoch [35/60], Step [50/100], Loss: 0.0000\n",
      "Training - Epoch [35/60], Step [60/100], Loss: 0.0068\n",
      "Training - Epoch [35/60], Step [70/100], Loss: 0.3030\n",
      "Training - Epoch [35/60], Step [80/100], Loss: 0.3178\n",
      "Training - Epoch [35/60], Step [90/100], Loss: 0.0022\n",
      "Training - Epoch [35/60], Step [100/100], Loss: 0.0060\n",
      "Validation - Epoch [35/60], Loss: 6.0140, Accuracy: 0.9120\n",
      "Epoch 36\n",
      "-------------------------------\n",
      "Training - Epoch [36/60], Step [10/100], Loss: 0.0795\n",
      "Training - Epoch [36/60], Step [20/100], Loss: 0.6504\n",
      "Training - Epoch [36/60], Step [30/100], Loss: 0.1584\n",
      "Training - Epoch [36/60], Step [40/100], Loss: 0.0007\n",
      "Training - Epoch [36/60], Step [50/100], Loss: 0.0000\n",
      "Training - Epoch [36/60], Step [60/100], Loss: 0.1610\n",
      "Training - Epoch [36/60], Step [70/100], Loss: 0.0000\n",
      "Training - Epoch [36/60], Step [80/100], Loss: 0.0004\n",
      "Training - Epoch [36/60], Step [90/100], Loss: 0.0000\n",
      "Training - Epoch [36/60], Step [100/100], Loss: 0.0001\n",
      "Validation - Epoch [36/60], Loss: 0.1974, Accuracy: 0.9707\n",
      "Epoch 37\n",
      "-------------------------------\n",
      "Training - Epoch [37/60], Step [10/100], Loss: 0.0548\n",
      "Training - Epoch [37/60], Step [20/100], Loss: 0.2098\n",
      "Training - Epoch [37/60], Step [30/100], Loss: 0.0023\n",
      "Training - Epoch [37/60], Step [40/100], Loss: 0.0001\n",
      "Training - Epoch [37/60], Step [50/100], Loss: 0.0019\n",
      "Training - Epoch [37/60], Step [60/100], Loss: 0.0001\n",
      "Training - Epoch [37/60], Step [70/100], Loss: 0.0040\n",
      "Training - Epoch [37/60], Step [80/100], Loss: 0.0003\n",
      "Training - Epoch [37/60], Step [90/100], Loss: 0.0006\n",
      "Training - Epoch [37/60], Step [100/100], Loss: 0.0172\n",
      "Validation - Epoch [37/60], Loss: 0.0218, Accuracy: 0.9933\n",
      "Epoch 38\n",
      "-------------------------------\n",
      "Training - Epoch [38/60], Step [10/100], Loss: 0.0010\n",
      "Training - Epoch [38/60], Step [20/100], Loss: 0.0002\n",
      "Training - Epoch [38/60], Step [30/100], Loss: 0.0000\n",
      "Training - Epoch [38/60], Step [40/100], Loss: 0.0000\n",
      "Training - Epoch [38/60], Step [50/100], Loss: 0.0001\n",
      "Training - Epoch [38/60], Step [60/100], Loss: 0.0004\n",
      "Training - Epoch [38/60], Step [70/100], Loss: 0.0000\n",
      "Training - Epoch [38/60], Step [80/100], Loss: 0.0731\n",
      "Training - Epoch [38/60], Step [90/100], Loss: 0.0001\n",
      "Training - Epoch [38/60], Step [100/100], Loss: 0.0072\n",
      "Validation - Epoch [38/60], Loss: 0.0479, Accuracy: 0.9880\n",
      "Epoch 39\n",
      "-------------------------------\n",
      "Training - Epoch [39/60], Step [10/100], Loss: 0.0307\n",
      "Training - Epoch [39/60], Step [20/100], Loss: 0.0006\n",
      "Training - Epoch [39/60], Step [30/100], Loss: 0.0796\n",
      "Training - Epoch [39/60], Step [40/100], Loss: 0.0046\n",
      "Training - Epoch [39/60], Step [50/100], Loss: 0.0002\n",
      "Training - Epoch [39/60], Step [60/100], Loss: 0.0001\n",
      "Training - Epoch [39/60], Step [70/100], Loss: 0.0000\n",
      "Training - Epoch [39/60], Step [80/100], Loss: 0.0000\n",
      "Training - Epoch [39/60], Step [90/100], Loss: 0.0003\n",
      "Training - Epoch [39/60], Step [100/100], Loss: 0.0024\n",
      "Validation - Epoch [39/60], Loss: 0.0221, Accuracy: 0.9920\n",
      "Epoch 40\n",
      "-------------------------------\n",
      "Training - Epoch [40/60], Step [10/100], Loss: 0.0000\n",
      "Training - Epoch [40/60], Step [20/100], Loss: 0.0000\n",
      "Training - Epoch [40/60], Step [30/100], Loss: 0.0019\n",
      "Training - Epoch [40/60], Step [40/100], Loss: 0.0016\n",
      "Training - Epoch [40/60], Step [50/100], Loss: 0.0022\n",
      "Training - Epoch [40/60], Step [60/100], Loss: 0.0000\n",
      "Training - Epoch [40/60], Step [70/100], Loss: 0.0000\n",
      "Training - Epoch [40/60], Step [80/100], Loss: 0.0000\n",
      "Training - Epoch [40/60], Step [90/100], Loss: 0.0672\n",
      "Training - Epoch [40/60], Step [100/100], Loss: 0.4779\n",
      "Validation - Epoch [40/60], Loss: 1.0362, Accuracy: 0.8640\n",
      "Epoch 41\n",
      "-------------------------------\n",
      "Training - Epoch [41/60], Step [10/100], Loss: 0.2368\n",
      "Training - Epoch [41/60], Step [20/100], Loss: 0.0035\n",
      "Training - Epoch [41/60], Step [30/100], Loss: 0.0151\n",
      "Training - Epoch [41/60], Step [40/100], Loss: 0.0192\n",
      "Training - Epoch [41/60], Step [50/100], Loss: 0.0004\n",
      "Training - Epoch [41/60], Step [60/100], Loss: 0.0070\n",
      "Training - Epoch [41/60], Step [70/100], Loss: 0.0010\n",
      "Training - Epoch [41/60], Step [80/100], Loss: 0.0334\n",
      "Training - Epoch [41/60], Step [90/100], Loss: 0.0356\n",
      "Training - Epoch [41/60], Step [100/100], Loss: 0.0250\n",
      "Validation - Epoch [41/60], Loss: 0.0530, Accuracy: 0.9813\n",
      "Epoch 42\n",
      "-------------------------------\n",
      "Training - Epoch [42/60], Step [10/100], Loss: 0.0067\n",
      "Training - Epoch [42/60], Step [20/100], Loss: 0.0013\n",
      "Training - Epoch [42/60], Step [30/100], Loss: 0.0051\n",
      "Training - Epoch [42/60], Step [40/100], Loss: 0.0000\n",
      "Training - Epoch [42/60], Step [50/100], Loss: 0.0041\n",
      "Training - Epoch [42/60], Step [60/100], Loss: 0.0004\n",
      "Training - Epoch [42/60], Step [70/100], Loss: 0.0008\n",
      "Training - Epoch [42/60], Step [80/100], Loss: 0.0001\n",
      "Training - Epoch [42/60], Step [90/100], Loss: 0.0003\n",
      "Training - Epoch [42/60], Step [100/100], Loss: 0.0001\n",
      "Validation - Epoch [42/60], Loss: 0.0351, Accuracy: 0.9907\n",
      "Epoch 43\n",
      "-------------------------------\n",
      "Training - Epoch [43/60], Step [10/100], Loss: 0.0052\n",
      "Training - Epoch [43/60], Step [20/100], Loss: 0.0008\n",
      "Training - Epoch [43/60], Step [30/100], Loss: 0.0004\n",
      "Training - Epoch [43/60], Step [40/100], Loss: 0.0008\n",
      "Training - Epoch [43/60], Step [50/100], Loss: 0.0039\n",
      "Training - Epoch [43/60], Step [60/100], Loss: 0.0000\n",
      "Training - Epoch [43/60], Step [70/100], Loss: 0.0000\n",
      "Training - Epoch [43/60], Step [80/100], Loss: 0.0001\n",
      "Training - Epoch [43/60], Step [90/100], Loss: 0.0000\n",
      "Training - Epoch [43/60], Step [100/100], Loss: 0.0928\n",
      "Validation - Epoch [43/60], Loss: 0.0260, Accuracy: 0.9907\n",
      "Epoch 44\n",
      "-------------------------------\n",
      "Training - Epoch [44/60], Step [10/100], Loss: 0.0000\n",
      "Training - Epoch [44/60], Step [20/100], Loss: 0.0002\n",
      "Training - Epoch [44/60], Step [30/100], Loss: 0.0001\n",
      "Training - Epoch [44/60], Step [40/100], Loss: 0.0043\n",
      "Training - Epoch [44/60], Step [50/100], Loss: 0.0002\n",
      "Training - Epoch [44/60], Step [60/100], Loss: 0.0221\n",
      "Training - Epoch [44/60], Step [70/100], Loss: 0.0033\n",
      "Training - Epoch [44/60], Step [80/100], Loss: 0.0257\n",
      "Training - Epoch [44/60], Step [90/100], Loss: 0.0012\n",
      "Training - Epoch [44/60], Step [100/100], Loss: 0.0007\n",
      "Validation - Epoch [44/60], Loss: 0.2823, Accuracy: 0.9640\n",
      "Epoch 45\n",
      "-------------------------------\n",
      "Training - Epoch [45/60], Step [10/100], Loss: 0.0031\n",
      "Training - Epoch [45/60], Step [20/100], Loss: 0.0006\n",
      "Training - Epoch [45/60], Step [30/100], Loss: 0.0033\n",
      "Training - Epoch [45/60], Step [40/100], Loss: 0.0244\n",
      "Training - Epoch [45/60], Step [50/100], Loss: 0.0000\n",
      "Training - Epoch [45/60], Step [60/100], Loss: 0.0005\n",
      "Training - Epoch [45/60], Step [70/100], Loss: 0.0323\n",
      "Training - Epoch [45/60], Step [80/100], Loss: 0.0067\n",
      "Training - Epoch [45/60], Step [90/100], Loss: 0.0024\n",
      "Training - Epoch [45/60], Step [100/100], Loss: 0.0002\n",
      "Validation - Epoch [45/60], Loss: 0.1135, Accuracy: 0.9827\n",
      "Epoch 46\n",
      "-------------------------------\n",
      "Training - Epoch [46/60], Step [10/100], Loss: 0.0080\n",
      "Training - Epoch [46/60], Step [20/100], Loss: 0.0000\n",
      "Training - Epoch [46/60], Step [30/100], Loss: 0.0022\n",
      "Training - Epoch [46/60], Step [40/100], Loss: 0.0016\n",
      "Training - Epoch [46/60], Step [50/100], Loss: 0.0024\n",
      "Training - Epoch [46/60], Step [60/100], Loss: 0.0015\n",
      "Training - Epoch [46/60], Step [70/100], Loss: 0.0001\n",
      "Training - Epoch [46/60], Step [80/100], Loss: 0.0029\n",
      "Training - Epoch [46/60], Step [90/100], Loss: 0.0031\n",
      "Training - Epoch [46/60], Step [100/100], Loss: 0.0275\n",
      "Validation - Epoch [46/60], Loss: 0.1698, Accuracy: 0.9493\n",
      "Epoch 47\n",
      "-------------------------------\n",
      "Training - Epoch [47/60], Step [10/100], Loss: 0.0052\n",
      "Training - Epoch [47/60], Step [20/100], Loss: 0.0000\n",
      "Training - Epoch [47/60], Step [30/100], Loss: 0.0000\n",
      "Training - Epoch [47/60], Step [40/100], Loss: 0.0001\n",
      "Training - Epoch [47/60], Step [50/100], Loss: 0.0008\n",
      "Training - Epoch [47/60], Step [60/100], Loss: 0.0000\n",
      "Training - Epoch [47/60], Step [70/100], Loss: 0.0000\n",
      "Training - Epoch [47/60], Step [80/100], Loss: 0.0011\n",
      "Training - Epoch [47/60], Step [90/100], Loss: 0.0002\n",
      "Training - Epoch [47/60], Step [100/100], Loss: 0.0000\n",
      "Validation - Epoch [47/60], Loss: 0.0400, Accuracy: 0.9893\n",
      "Epoch 48\n",
      "-------------------------------\n",
      "Training - Epoch [48/60], Step [10/100], Loss: 0.0001\n",
      "Training - Epoch [48/60], Step [20/100], Loss: 0.0002\n",
      "Training - Epoch [48/60], Step [30/100], Loss: 0.0001\n",
      "Training - Epoch [48/60], Step [40/100], Loss: 0.0000\n",
      "Training - Epoch [48/60], Step [50/100], Loss: 0.0005\n",
      "Training - Epoch [48/60], Step [60/100], Loss: 0.0001\n",
      "Training - Epoch [48/60], Step [70/100], Loss: 0.0001\n",
      "Training - Epoch [48/60], Step [80/100], Loss: 0.0065\n",
      "Training - Epoch [48/60], Step [90/100], Loss: 0.0006\n",
      "Training - Epoch [48/60], Step [100/100], Loss: 0.0002\n",
      "Validation - Epoch [48/60], Loss: 0.0264, Accuracy: 0.9920\n",
      "Epoch 49\n",
      "-------------------------------\n",
      "Training - Epoch [49/60], Step [10/100], Loss: 0.0000\n",
      "Training - Epoch [49/60], Step [20/100], Loss: 0.0001\n",
      "Training - Epoch [49/60], Step [30/100], Loss: 0.1836\n",
      "Training - Epoch [49/60], Step [40/100], Loss: 0.0067\n",
      "Training - Epoch [49/60], Step [50/100], Loss: 0.0003\n",
      "Training - Epoch [49/60], Step [60/100], Loss: 0.0009\n",
      "Training - Epoch [49/60], Step [70/100], Loss: 0.0004\n",
      "Training - Epoch [49/60], Step [80/100], Loss: 0.0195\n",
      "Training - Epoch [49/60], Step [90/100], Loss: 0.0000\n",
      "Training - Epoch [49/60], Step [100/100], Loss: 0.0015\n",
      "Validation - Epoch [49/60], Loss: 0.2930, Accuracy: 0.9760\n",
      "Epoch 50\n",
      "-------------------------------\n",
      "Training - Epoch [50/60], Step [10/100], Loss: 0.0000\n",
      "Training - Epoch [50/60], Step [20/100], Loss: 0.0006\n",
      "Training - Epoch [50/60], Step [30/100], Loss: 0.0259\n",
      "Training - Epoch [50/60], Step [40/100], Loss: 0.0025\n",
      "Training - Epoch [50/60], Step [50/100], Loss: 0.0002\n",
      "Training - Epoch [50/60], Step [60/100], Loss: 0.0009\n",
      "Training - Epoch [50/60], Step [70/100], Loss: 0.0000\n",
      "Training - Epoch [50/60], Step [80/100], Loss: 0.0004\n",
      "Training - Epoch [50/60], Step [90/100], Loss: 0.0227\n",
      "Training - Epoch [50/60], Step [100/100], Loss: 0.0015\n",
      "Validation - Epoch [50/60], Loss: 0.0385, Accuracy: 0.9840\n",
      "Epoch 51\n",
      "-------------------------------\n",
      "Training - Epoch [51/60], Step [10/100], Loss: 0.0005\n",
      "Training - Epoch [51/60], Step [20/100], Loss: 0.0005\n",
      "Training - Epoch [51/60], Step [30/100], Loss: 0.0233\n",
      "Training - Epoch [51/60], Step [40/100], Loss: 0.0001\n",
      "Training - Epoch [51/60], Step [50/100], Loss: 0.0004\n",
      "Training - Epoch [51/60], Step [60/100], Loss: 0.0000\n",
      "Training - Epoch [51/60], Step [70/100], Loss: 0.0001\n",
      "Training - Epoch [51/60], Step [80/100], Loss: 0.0010\n",
      "Training - Epoch [51/60], Step [90/100], Loss: 0.0000\n",
      "Training - Epoch [51/60], Step [100/100], Loss: 0.0002\n",
      "Validation - Epoch [51/60], Loss: 0.0389, Accuracy: 0.9893\n",
      "Epoch 52\n",
      "-------------------------------\n",
      "Training - Epoch [52/60], Step [10/100], Loss: 0.0465\n",
      "Training - Epoch [52/60], Step [20/100], Loss: 0.0009\n",
      "Training - Epoch [52/60], Step [30/100], Loss: 0.0018\n",
      "Training - Epoch [52/60], Step [40/100], Loss: 0.0009\n",
      "Training - Epoch [52/60], Step [50/100], Loss: 0.0003\n",
      "Training - Epoch [52/60], Step [60/100], Loss: 0.0100\n",
      "Training - Epoch [52/60], Step [70/100], Loss: 0.0003\n",
      "Training - Epoch [52/60], Step [80/100], Loss: 0.0001\n",
      "Training - Epoch [52/60], Step [90/100], Loss: 0.0000\n",
      "Training - Epoch [52/60], Step [100/100], Loss: 0.0017\n",
      "Validation - Epoch [52/60], Loss: 0.0488, Accuracy: 0.9893\n",
      "Epoch 53\n",
      "-------------------------------\n",
      "Training - Epoch [53/60], Step [10/100], Loss: 0.0841\n",
      "Training - Epoch [53/60], Step [20/100], Loss: 0.0001\n",
      "Training - Epoch [53/60], Step [30/100], Loss: 0.0002\n",
      "Training - Epoch [53/60], Step [40/100], Loss: 0.0001\n",
      "Training - Epoch [53/60], Step [50/100], Loss: 0.0001\n",
      "Training - Epoch [53/60], Step [60/100], Loss: 0.0010\n",
      "Training - Epoch [53/60], Step [70/100], Loss: 0.0000\n",
      "Training - Epoch [53/60], Step [80/100], Loss: 0.0013\n",
      "Training - Epoch [53/60], Step [90/100], Loss: 0.0001\n",
      "Training - Epoch [53/60], Step [100/100], Loss: 0.0000\n",
      "Validation - Epoch [53/60], Loss: 0.0280, Accuracy: 0.9907\n",
      "Epoch 54\n",
      "-------------------------------\n",
      "Training - Epoch [54/60], Step [10/100], Loss: 0.0001\n",
      "Training - Epoch [54/60], Step [20/100], Loss: 0.0000\n",
      "Training - Epoch [54/60], Step [30/100], Loss: 0.0019\n",
      "Training - Epoch [54/60], Step [40/100], Loss: 0.0000\n",
      "Training - Epoch [54/60], Step [50/100], Loss: 0.0000\n",
      "Training - Epoch [54/60], Step [60/100], Loss: 0.0000\n",
      "Training - Epoch [54/60], Step [70/100], Loss: 0.0001\n",
      "Training - Epoch [54/60], Step [80/100], Loss: 0.0002\n",
      "Training - Epoch [54/60], Step [90/100], Loss: 0.0000\n",
      "Training - Epoch [54/60], Step [100/100], Loss: 0.0000\n",
      "Validation - Epoch [54/60], Loss: 0.0273, Accuracy: 0.9907\n",
      "Epoch 55\n",
      "-------------------------------\n",
      "Training - Epoch [55/60], Step [10/100], Loss: 0.0000\n",
      "Training - Epoch [55/60], Step [20/100], Loss: 0.0001\n",
      "Training - Epoch [55/60], Step [30/100], Loss: 0.0000\n",
      "Training - Epoch [55/60], Step [40/100], Loss: 0.0000\n",
      "Training - Epoch [55/60], Step [50/100], Loss: 0.0193\n",
      "Training - Epoch [55/60], Step [60/100], Loss: 0.0011\n",
      "Training - Epoch [55/60], Step [70/100], Loss: 0.0000\n",
      "Training - Epoch [55/60], Step [80/100], Loss: 0.0141\n",
      "Training - Epoch [55/60], Step [90/100], Loss: 0.0000\n",
      "Training - Epoch [55/60], Step [100/100], Loss: 0.0000\n",
      "Validation - Epoch [55/60], Loss: 0.0409, Accuracy: 0.9907\n",
      "Epoch 56\n",
      "-------------------------------\n",
      "Training - Epoch [56/60], Step [10/100], Loss: 0.0000\n",
      "Training - Epoch [56/60], Step [20/100], Loss: 0.0043\n",
      "Training - Epoch [56/60], Step [30/100], Loss: 0.0000\n",
      "Training - Epoch [56/60], Step [40/100], Loss: 0.0000\n",
      "Training - Epoch [56/60], Step [50/100], Loss: 5.9375\n",
      "Training - Epoch [56/60], Step [60/100], Loss: 1.2655\n",
      "Training - Epoch [56/60], Step [70/100], Loss: 0.0197\n",
      "Training - Epoch [56/60], Step [80/100], Loss: 0.2146\n",
      "Training - Epoch [56/60], Step [90/100], Loss: 0.0793\n",
      "Training - Epoch [56/60], Step [100/100], Loss: 0.0557\n",
      "Validation - Epoch [56/60], Loss: 0.1206, Accuracy: 0.9813\n",
      "Epoch 57\n",
      "-------------------------------\n",
      "Training - Epoch [57/60], Step [10/100], Loss: 0.0002\n",
      "Training - Epoch [57/60], Step [20/100], Loss: 0.0217\n",
      "Training - Epoch [57/60], Step [30/100], Loss: 0.0001\n",
      "Training - Epoch [57/60], Step [40/100], Loss: 0.0003\n",
      "Training - Epoch [57/60], Step [50/100], Loss: 0.0002\n",
      "Training - Epoch [57/60], Step [60/100], Loss: 0.0041\n",
      "Training - Epoch [57/60], Step [70/100], Loss: 0.0006\n",
      "Training - Epoch [57/60], Step [80/100], Loss: 0.0185\n",
      "Training - Epoch [57/60], Step [90/100], Loss: 0.0000\n",
      "Training - Epoch [57/60], Step [100/100], Loss: 0.0015\n",
      "Validation - Epoch [57/60], Loss: 0.0807, Accuracy: 0.9840\n",
      "Epoch 58\n",
      "-------------------------------\n",
      "Training - Epoch [58/60], Step [10/100], Loss: 0.0000\n",
      "Training - Epoch [58/60], Step [20/100], Loss: 0.0003\n",
      "Training - Epoch [58/60], Step [30/100], Loss: 0.0000\n",
      "Training - Epoch [58/60], Step [40/100], Loss: 0.0217\n",
      "Training - Epoch [58/60], Step [50/100], Loss: 0.0465\n",
      "Training - Epoch [58/60], Step [60/100], Loss: 0.0001\n",
      "Training - Epoch [58/60], Step [70/100], Loss: 0.0030\n",
      "Training - Epoch [58/60], Step [80/100], Loss: 0.0141\n",
      "Training - Epoch [58/60], Step [90/100], Loss: 0.0256\n",
      "Training - Epoch [58/60], Step [100/100], Loss: 0.0358\n",
      "Validation - Epoch [58/60], Loss: 0.0662, Accuracy: 0.9867\n",
      "Epoch 59\n",
      "-------------------------------\n",
      "Training - Epoch [59/60], Step [10/100], Loss: 0.1200\n",
      "Training - Epoch [59/60], Step [20/100], Loss: 0.0065\n",
      "Training - Epoch [59/60], Step [30/100], Loss: 0.0001\n",
      "Training - Epoch [59/60], Step [40/100], Loss: 0.0001\n",
      "Training - Epoch [59/60], Step [50/100], Loss: 0.0001\n",
      "Training - Epoch [59/60], Step [60/100], Loss: 0.0000\n",
      "Training - Epoch [59/60], Step [70/100], Loss: 0.0000\n",
      "Training - Epoch [59/60], Step [80/100], Loss: 0.1847\n",
      "Training - Epoch [59/60], Step [90/100], Loss: 0.0245\n",
      "Training - Epoch [59/60], Step [100/100], Loss: 0.0009\n",
      "Validation - Epoch [59/60], Loss: 0.0716, Accuracy: 0.9827\n",
      "Epoch 60\n",
      "-------------------------------\n",
      "Training - Epoch [60/60], Step [10/100], Loss: 0.0031\n",
      "Training - Epoch [60/60], Step [20/100], Loss: 0.0895\n",
      "Training - Epoch [60/60], Step [30/100], Loss: 0.0162\n",
      "Training - Epoch [60/60], Step [40/100], Loss: 0.0000\n",
      "Training - Epoch [60/60], Step [50/100], Loss: 0.0182\n",
      "Training - Epoch [60/60], Step [60/100], Loss: 0.0034\n",
      "Training - Epoch [60/60], Step [70/100], Loss: 0.0858\n",
      "Training - Epoch [60/60], Step [80/100], Loss: 0.0013\n",
      "Training - Epoch [60/60], Step [90/100], Loss: 0.3237\n",
      "Training - Epoch [60/60], Step [100/100], Loss: 0.0064\n",
      "Validation - Epoch [60/60], Loss: 0.0274, Accuracy: 0.9907\n"
     ]
    }
   ],
   "source": [
    "# Define the loss function\n",
    "criterion = torch.nn.CrossEntropyLoss()\n",
    "\n",
    "# Define the optimizer\n",
    "optimizer = torch.optim.Adam(model.parameters(), lr=0.001)\n",
    "\n",
    "# Training loop\n",
    "num_epochs = 60\n",
    "best_val_loss = float('inf')\n",
    "\n",
    "# Lists to store training and validation metrics for plotting\n",
    "train_losses = []\n",
    "train_accuracies = []\n",
    "val_losses = []\n",
    "val_accuracies = []\n",
    "\n",
    "# Set the model to training mode\n",
    "model.train()\n",
    "\n",
    "# Start the training loop\n",
    "start_time = time.time()\n",
    "for epoch in range(num_epochs):\n",
    "    print(f'Epoch {epoch + 1}\\n-------------------------------')\n",
    "    # Training phase\n",
    "    model.train()\n",
    "    train_loss = 0.0\n",
    "    correct_train = 0\n",
    "    total_train = 0\n",
    "    for i, (inputs, labels) in enumerate(train_loader):\n",
    "        inputs = inputs.to(device)\n",
    "        labels = labels.to(device)\n",
    "\n",
    "        # Forward pass\n",
    "        outputs = model(inputs)\n",
    "        loss = criterion(outputs, labels)\n",
    "\n",
    "        # Backward pass\n",
    "        optimizer.zero_grad()\n",
    "        loss.backward()\n",
    "        optimizer.step()\n",
    "\n",
    "        train_loss += loss.item() * inputs.size(0)\n",
    "        \n",
    "        # Calculate accuracy\n",
    "        _, predicted = torch.max(outputs, 1)\n",
    "        total_train += labels.size(0)\n",
    "        correct_train += (predicted == labels).sum().item()\n",
    "\n",
    "        # Print training statistics\n",
    "        if (i + 1) % 10 == 0:\n",
    "            print(f'Training - Epoch [{epoch + 1}/{num_epochs}], Step [{i + 1}/{len(train_loader)}], Loss: {loss.item():.4f}')\n",
    "\n",
    "    # Calculate average training loss and accuracy\n",
    "    train_loss /= len(train_loader.dataset)\n",
    "    train_accuracy = correct_train / total_train\n",
    "    train_losses.append(train_loss)\n",
    "    train_accuracies.append(train_accuracy)\n",
    "    \n",
    "    # Validation phase\n",
    "    model.eval()\n",
    "    val_loss = 0.0\n",
    "    correct_val = 0\n",
    "    total_val = 0\n",
    "    with torch.no_grad():\n",
    "        for i, (inputs, labels) in enumerate(val_loader):\n",
    "            inputs = inputs.to(device)\n",
    "            labels = labels.to(device)\n",
    "\n",
    "            # Forward pass\n",
    "            outputs = model(inputs)\n",
    "            loss = criterion(outputs, labels)\n",
    "\n",
    "            val_loss += loss.item() * inputs.size(0)\n",
    "\n",
    "            # Calculate accuracy\n",
    "            _, predicted = torch.max(outputs, 1)\n",
    "            total_val += labels.size(0)\n",
    "            correct_val += (predicted == labels).sum().item()\n",
    "\n",
    "    # Print validation statistics\n",
    "    val_loss /= len(val_loader.dataset)\n",
    "    val_accuracy = correct_val / total_val\n",
    "    val_losses.append(val_loss)\n",
    "    val_accuracies.append(val_accuracy)\n",
    "    print(f'Validation - Epoch [{epoch + 1}/{num_epochs}], Loss: {val_loss:.4f}, Accuracy: {val_accuracy:.4f}')\n",
    "\n",
    "    # Save the model if validation loss decreases\n",
    "    if val_loss < best_val_loss:\n",
    "        best_val_loss = val_loss\n",
    "        torch.save(model.state_dict(), f'../../models/{scope}/{model_name}_font_classifier_{type}.pth')\n",
    "        print(f'Model saved as {model_name}_font_classifier_{type}.pth')\n",
    "\n",
    "end_time = time.time()"
   ],
   "metadata": {
    "collapsed": false,
    "ExecuteTime": {
     "end_time": "2024-04-24T08:39:18.239519Z",
     "start_time": "2024-04-24T08:19:03.320425Z"
    }
   },
   "id": "126f35f98051a02a",
   "execution_count": 7
  },
  {
   "cell_type": "markdown",
   "source": [
    "# Plot the training and validation metrics"
   ],
   "metadata": {
    "collapsed": false
   },
   "id": "2f8d840ac9117197"
  },
  {
   "cell_type": "code",
   "outputs": [
    {
     "data": {
      "text/plain": "<Figure size 1200x500 with 2 Axes>",
      "image/png": "[encoded data removed]"
     },
     "metadata": {},
     "output_type": "display_data"
    },
    {
     "name": "stdout",
     "output_type": "stream",
     "text": [
      "Finished Training\n",
      "Time taken for training: 1214.89 seconds\n",
      "Medium time per epoch: 20.25 seconds\n"
     ]
    }
   ],
   "source": [
    "# Plotting\n",
    "plt.figure(figsize=(12, 5))\n",
    "plt.subplot(1, 2, 1)\n",
    "plt.plot(range(1, num_epochs + 1), train_losses, label='Training Loss')\n",
    "plt.plot(range(1, num_epochs + 1), val_losses, label='Validation Loss')\n",
    "plt.xlabel('Epochs')\n",
    "plt.ylabel('Loss')\n",
    "plt.title('Training and Validation Loss')\n",
    "plt.legend()\n",
    "\n",
    "plt.subplot(1, 2, 2)\n",
    "plt.plot(range(1, num_epochs + 1), train_accuracies, label='Training Accuracy')\n",
    "plt.plot(range(1, num_epochs + 1), val_accuracies, label='Validation Accuracy')\n",
    "plt.xlabel('Epochs')\n",
    "plt.ylabel('Accuracy')\n",
    "plt.title('Training and Validation Accuracy')\n",
    "plt.legend()\n",
    "\n",
    "plt.tight_layout()\n",
    "plt.show()\n",
    "\n",
    "print('Finished Training')\n",
    "\n",
    "# Print the time taken for training\n",
    "print(f'Time taken for training: {end_time - start_time:.2f} seconds')\n",
    "## Print medium time per epoch\n",
    "print(f'Medium time per epoch: {(end_time - start_time)/num_epochs:.2f} seconds')"
   ],
   "metadata": {
    "collapsed": false,
    "ExecuteTime": {
     "end_time": "2024-04-24T08:39:18.640059Z",
     "start_time": "2024-04-24T08:39:18.240520Z"
    }
   },
   "id": "2fb4051fe48bcb0f",
   "execution_count": 8
  },
  {
   "cell_type": "markdown",
   "source": [
    "# Evaluate the model"
   ],
   "metadata": {
    "collapsed": false
   },
   "id": "5d1120839a43965"
  },
  {
   "cell_type": "markdown",
   "source": [
    "## Load the model"
   ],
   "metadata": {
    "collapsed": false
   },
   "id": "f38ec7e7c9fc2bd2"
  },
  {
   "cell_type": "code",
   "outputs": [
    {
     "name": "stdout",
     "output_type": "stream",
     "text": [
      "Model loaded from ../../models/NbClasses/mobilenet_v3_small_font_classifier_5.pth\n"
     ]
    }
   ],
   "source": [
    "# Load the model\n",
    "model_path = f'../../models/{scope}/{model_name}_font_classifier_{type}.pth'\n",
    "model = models.__dict__[model_name](weights=None)\n",
    "model.load_state_dict(torch.load(model_path))\n",
    "model = model.to(device)\n",
    "print(f'Model loaded from {model_path}')"
   ],
   "metadata": {
    "collapsed": false,
    "ExecuteTime": {
     "end_time": "2024-04-24T08:39:18.716080Z",
     "start_time": "2024-04-24T08:39:18.641061Z"
    }
   },
   "id": "2d59abb3cc4d4ab1",
   "execution_count": 9
  },
  {
   "cell_type": "markdown",
   "source": [
    "## Evaluate the model\n",
    "Evaluate the model using the test set. We will compute the accuracy, precision, recall, F1-score, confusion matrix, and ROC curve."
   ],
   "metadata": {
    "collapsed": false
   },
   "id": "c4fb0a8cc4c7aaaf"
  },
  {
   "cell_type": "code",
   "outputs": [],
   "source": [
    "# Set the model to evaluation mode\n",
    "model.eval()\n",
    "\n",
    "# Initialize lists for true labels and predicted labels\n",
    "true_labels = []\n",
    "predicted_labels = []\n",
    "\n",
    "# Disable gradient computation for evaluation\n",
    "with torch.no_grad():\n",
    "    for images, labels in test_loader:\n",
    "        images = images.to(device)\n",
    "        labels = labels.to(device)\n",
    "\n",
    "        # Perform inference\n",
    "        outputs = model(images)\n",
    "        \n",
    "        # Compute predicted labels\n",
    "        _, predicted = torch.max(outputs.data, 1)\n",
    "        \n",
    "        # Append true and predicted labels to lists\n",
    "        true_labels.extend(labels.cpu().numpy())\n",
    "        predicted_labels.extend(predicted.cpu().numpy())\n",
    "\n",
    "# Convert lists to numpy arrays\n",
    "true_labels = np.array(true_labels)\n",
    "predicted_labels = np.array(predicted_labels)"
   ],
   "metadata": {
    "collapsed": false,
    "ExecuteTime": {
     "end_time": "2024-04-24T08:39:19.932516Z",
     "start_time": "2024-04-24T08:39:18.717304Z"
    }
   },
   "id": "d94dccfec1ca328d",
   "execution_count": 10
  },
  {
   "cell_type": "markdown",
   "source": [
    "## Compute metrics\n",
    "### Accuracy"
   ],
   "metadata": {
    "collapsed": false
   },
   "id": "7fc2137e6729efa2"
  },
  {
   "cell_type": "code",
   "outputs": [
    {
     "name": "stdout",
     "output_type": "stream",
     "text": [
      "Accuracy: 99.73%\n"
     ]
    }
   ],
   "source": [
    "accuracy = accuracy_score(true_labels, predicted_labels)\n",
    "print('Accuracy: {:.2f}%'.format(100 * accuracy))"
   ],
   "metadata": {
    "collapsed": false,
    "ExecuteTime": {
     "end_time": "2024-04-24T08:39:19.947670Z",
     "start_time": "2024-04-24T08:39:19.933517Z"
    }
   },
   "id": "101581d76f4e9326",
   "execution_count": 11
  },
  {
   "cell_type": "markdown",
   "source": [
    "### Precision"
   ],
   "metadata": {
    "collapsed": false
   },
   "id": "8c872a168687bbb9"
  },
  {
   "cell_type": "code",
   "outputs": [
    {
     "name": "stdout",
     "output_type": "stream",
     "text": [
      "Precision: 1.00\n"
     ]
    }
   ],
   "source": [
    "precision = precision_score(true_labels, predicted_labels, average='weighted')\n",
    "print('Precision: {:.2f}'.format(precision))"
   ],
   "metadata": {
    "collapsed": false,
    "ExecuteTime": {
     "end_time": "2024-04-24T08:39:19.962518Z",
     "start_time": "2024-04-24T08:39:19.948517Z"
    }
   },
   "id": "c0a1514893d52da3",
   "execution_count": 12
  },
  {
   "cell_type": "markdown",
   "source": [
    "### Recall"
   ],
   "metadata": {
    "collapsed": false
   },
   "id": "2d6709ac0ed49e7d"
  },
  {
   "cell_type": "code",
   "outputs": [
    {
     "name": "stdout",
     "output_type": "stream",
     "text": [
      "Recall: 1.00\n"
     ]
    }
   ],
   "source": [
    "recall = recall_score(true_labels, predicted_labels, average='weighted')\n",
    "print('Recall: {:.2f}'.format(recall))"
   ],
   "metadata": {
    "collapsed": false,
    "ExecuteTime": {
     "end_time": "2024-04-24T08:39:19.977518Z",
     "start_time": "2024-04-24T08:39:19.963519Z"
    }
   },
   "id": "cbe9cce2d6d4b849",
   "execution_count": 13
  },
  {
   "cell_type": "markdown",
   "source": [
    "### F1-score"
   ],
   "metadata": {
    "collapsed": false
   },
   "id": "a6a9ab8eaf4a00c9"
  },
  {
   "cell_type": "code",
   "outputs": [
    {
     "name": "stdout",
     "output_type": "stream",
     "text": [
      "F1-score: 1.00\n"
     ]
    }
   ],
   "source": [
    "f1 = f1_score(true_labels, predicted_labels, average='weighted')\n",
    "print('F1-score: {:.2f}'.format(f1))"
   ],
   "metadata": {
    "collapsed": false,
    "ExecuteTime": {
     "end_time": "2024-04-24T08:39:19.992516Z",
     "start_time": "2024-04-24T08:39:19.978517Z"
    }
   },
   "id": "2a87268c3e7e9e88",
   "execution_count": 14
  },
  {
   "cell_type": "markdown",
   "source": [
    "### Confusion matrix"
   ],
   "metadata": {
    "collapsed": false
   },
   "id": "3687c7ed9e290b52"
  },
  {
   "cell_type": "code",
   "outputs": [
    {
     "name": "stdout",
     "output_type": "stream",
     "text": [
      "Confusion Matrix:\n"
     ]
    },
    {
     "data": {
      "text/plain": "<Figure size 640x480 with 1 Axes>",
      "image/png": "[encoded data removed]"
     },
     "metadata": {},
     "output_type": "display_data"
    }
   ],
   "source": [
    "conf_matrix = confusion_matrix(true_labels, predicted_labels)\n",
    "print(f'Confusion Matrix:')\n",
    "sns.heatmap(conf_matrix, annot=True, cmap='Blues', fmt='g', cbar=False, xticklabels=class_names, yticklabels=class_names)\n",
    "plt.title('Confusion Matrix')\n",
    "plt.xlabel('Predicted Label')\n",
    "plt.ylabel('True Label')\n",
    "plt.show()"
   ],
   "metadata": {
    "collapsed": false,
    "ExecuteTime": {
     "end_time": "2024-04-24T08:39:20.131517Z",
     "start_time": "2024-04-24T08:39:19.993517Z"
    }
   },
   "id": "6a06849bad215169",
   "execution_count": 15
  },
  {
   "cell_type": "markdown",
   "source": [
    "### ROC curve"
   ],
   "metadata": {
    "collapsed": false
   },
   "id": "8f7a1268072e6e09"
  },
  {
   "cell_type": "code",
   "outputs": [
    {
     "data": {
      "text/plain": "[<matplotlib.lines.Line2D at 0x1ebe3837e80>]"
     },
     "execution_count": 16,
     "metadata": {},
     "output_type": "execute_result"
    },
    {
     "data": {
      "text/plain": "<Figure size 640x480 with 1 Axes>",
      "image/png": "[encoded data removed]"
     },
     "metadata": {},
     "output_type": "display_data"
    }
   ],
   "source": [
    "# Binarize the true labels\n",
    "true_labels_binarized = label_binarize(true_labels, classes=range(len(class_names)))\n",
    "\n",
    "# Binarize the predicted labels\n",
    "predicted_labels_binarized = label_binarize(predicted_labels, classes=range(len(class_names)))\n",
    "\n",
    "# Compute the ROC curve\n",
    "fpr = dict()\n",
    "tpr = dict()\n",
    "roc_auc = dict()\n",
    "for i in range(len(class_names)):\n",
    "    fpr[i], tpr[i], _ = roc_curve(true_labels_binarized[:, i], predicted_labels_binarized[:, i])\n",
    "    roc_auc[i] = auc(fpr[i], tpr[i])\n",
    "    \n",
    "# Plot the ROC curve\n",
    "plt.figure()\n",
    "for i in range(len(class_names)):\n",
    "    plt.plot(fpr[i], tpr[i], lw=2, label=f'ROC curve for class {class_names[i]} (area = {roc_auc[i]:0.2f})')\n",
    "plt.plot([0, 1], [0, 1], 'k--', lw=2)"
   ],
   "metadata": {
    "collapsed": false,
    "ExecuteTime": {
     "end_time": "2024-04-24T08:39:20.285517Z",
     "start_time": "2024-04-24T08:39:20.133517Z"
    }
   },
   "id": "6c7b4767f613c314",
   "execution_count": 16
  },
  {
   "cell_type": "markdown",
   "source": [],
   "metadata": {
    "collapsed": false
   },
   "id": "c4d8c6f85ef0d72c"
  }
 ],
 "metadata": {
  "kernelspec": {
   "display_name": "Python 3",
   "language": "python",
   "name": "python3"
  },
  "language_info": {
   "codemirror_mode": {
    "name": "ipython",
    "version": 2
   },
   "file_extension": ".py",
   "mimetype": "text/x-python",
   "name": "python",
   "nbconvert_exporter": "python",
   "pygments_lexer": "ipython2",
   "version": "2.7.6"
  }
 },
 "nbformat": 4,
 "nbformat_minor": 5
}
