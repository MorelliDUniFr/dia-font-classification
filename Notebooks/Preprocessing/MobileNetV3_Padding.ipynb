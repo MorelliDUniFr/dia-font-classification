{
 "cells": [
  {
   "cell_type": "markdown",
   "id": "4ac20b28058858bd",
   "metadata": {
    "collapsed": false
   },
   "source": [
    "# Font Classification with PyTorch and MobileNetV3\n",
    "In this notebook, we will use the PyTorch deep learning framework to train a MobileNetV3 model to classify fonts. We will use the `torchvision` library to load the dataset and the `sklearn` library to evaluate the model using accuracy, precision, recall, F1-score, and the ROC curve. We will also visualize the confusion matrix to understand the model's performance on each class."
   ]
  },
  {
   "cell_type": "markdown",
   "id": "705740ac830b5b02",
   "metadata": {
    "collapsed": false
   },
   "source": [
    "# Imports\n",
    "Import of the necessary libraries"
   ]
  },
  {
   "cell_type": "code",
   "execution_count": 1,
   "id": "cd70965188811652",
   "metadata": {
    "ExecuteTime": {
     "end_time": "2024-04-23T16:22:47.790654Z",
     "start_time": "2024-04-23T16:22:47.784653Z"
    },
    "collapsed": false
   },
   "outputs": [],
   "source": [
    "import numpy as np\n",
    "from torchvision import datasets, transforms\n",
    "from sklearn.metrics import accuracy_score, precision_score, recall_score, f1_score, confusion_matrix\n",
    "import seaborn as sns\n",
    "import matplotlib.pyplot as plt\n",
    "import torch\n",
    "from torchvision import models\n",
    "from torch.utils.data import DataLoader\n",
    "from sklearn.metrics import roc_curve, auc\n",
    "from sklearn.preprocessing import label_binarize\n",
    "import time\n",
    "from sys import platform"
   ]
  },
  {
   "cell_type": "markdown",
   "id": "89723516c4abb2e6",
   "metadata": {
    "collapsed": false
   },
   "source": [
    "# Model choice\n",
    "Choose the model to use for training. In this case, we will use the MobileNetV3 model."
   ]
  },
  {
   "cell_type": "code",
   "execution_count": 2,
   "id": "ef4e56728f9785b4",
   "metadata": {
    "ExecuteTime": {
     "end_time": "2024-04-23T16:22:47.836652Z",
     "start_time": "2024-04-23T16:22:47.829653Z"
    },
    "collapsed": false
   },
   "outputs": [
    {
     "name": "stdout",
     "output_type": "stream",
     "text": [
      "Using model: mobilenet_v3_small\n"
     ]
    }
   ],
   "source": [
    "model_name = 'mobilenet_v3_small'\n",
    "print(f'Using model: {model_name}')"
   ]
  },
  {
   "cell_type": "markdown",
   "id": "b2dabad339631e94",
   "metadata": {
    "collapsed": false
   },
   "source": [
    "# Loading and preparing the dataset\n",
    "Load the dataset and prepare it for training. We will resize the images to a fixed size, convert them to tensors, and normalize the pixel values.\n",
    "\n",
    "## Preprocessing\n",
    "1. Resize the images to a fixed size\n",
    "2. Convert the images to tensors\n",
    "3. Normalize the pixel values"
   ]
  },
  {
   "cell_type": "code",
   "execution_count": 3,
   "id": "cdc44275b7dbe9ba",
   "metadata": {
    "ExecuteTime": {
     "end_time": "2024-04-23T16:22:47.852653Z",
     "start_time": "2024-04-23T16:22:47.839653Z"
    },
    "collapsed": false
   },
   "outputs": [],
   "source": [
    "# From the dataset, we know that the images have a height of 32 pixels and a width (on average) of 150 pixels\n",
    "image_height = 32\n",
    "image_width = 150\n",
    "\n",
    "# Define the percentage of the dataset to use for training\n",
    "train_size_perc = 0.7\n",
    "\n",
    "# Set the seed for reproducibility\n",
    "torch.manual_seed(0)\n",
    "\n",
    "# Define transformations for preprocessing\n",
    "transform = transforms.Compose([\n",
    "    ## transforms.Resize((image_height, image_width)),  # We dont need to rescale them as they all have the same size\n",
    "    transforms.ToTensor(),                           # Convert images to tensors\n",
    "    transforms.Normalize(mean=[0.25, 0.25, 0.25],      # Normalize pixel values\n",
    "                         std=[0.25, 0.25, 0.25])])"
   ]
  },
  {
   "cell_type": "markdown",
   "id": "8906c87c81b7569c",
   "metadata": {
    "collapsed": false
   },
   "source": [
    "## Load the dataset\n",
    "Load the dataset using the `ImageFolder` class from `torchvision`. We will split the dataset into training, validation, and test sets. We will use 70% of the dataset for training, 15% for validation, and 15% for testing."
   ]
  },
  {
   "cell_type": "code",
   "execution_count": 4,
   "id": "9d9c8c978a1ebdbd",
   "metadata": {
    "ExecuteTime": {
     "end_time": "2024-04-23T16:22:47.928653Z",
     "start_time": "2024-04-23T16:22:47.853653Z"
    },
    "collapsed": false
   },
   "outputs": [],
   "source": [
    "# Path to the dataset\n",
    "data_dir = '../../padded'\n",
    "\n",
    "# Notebook scope and type\n",
    "scope = 'Preprocessing'\n",
    "type = 'Padded'\n",
    "\n",
    "# Load the dataset using ImageFolder\n",
    "dataset = datasets.ImageFolder(root=data_dir, transform=transform)\n",
    "\n",
    "# Define the sizes of the training, validation, and test sets\n",
    "train_size = int(train_size_perc * len(dataset))  # 70% of the dataset for training\n",
    "val_size = int(((1.0 - train_size_perc)/2) * len(dataset))    # 15% for validation\n",
    "test_size = len(dataset) - train_size - val_size  # Remaining for test (15%)\n",
    "\n",
    "# Split the dataset into training, validation, and test sets\n",
    "train_dataset, val_dataset, test_dataset = torch.utils.data.random_split(\n",
    "    dataset, [train_size, val_size, test_size])\n",
    "\n",
    "# Define the batch size as a percentage of the training set, in this case 1%\n",
    "batch_size = int(train_size * 0.01)\n",
    "\n",
    "# Create data loaders for training, validation, and test sets\n",
    "train_loader = torch.utils.data.DataLoader(train_dataset, batch_size=batch_size, shuffle=True)\n",
    "val_loader = torch.utils.data.DataLoader(val_dataset, batch_size=batch_size, shuffle=True)\n",
    "test_loader = torch.utils.data.DataLoader(test_dataset, batch_size=batch_size, shuffle=False)"
   ]
  },
  {
   "cell_type": "markdown",
   "id": "afdcf3568e6bb0e6",
   "metadata": {
    "collapsed": false
   },
   "source": [
    "## Dataset information"
   ]
  },
  {
   "cell_type": "code",
   "execution_count": 5,
   "id": "1975b1b1848ca2ac",
   "metadata": {
    "ExecuteTime": {
     "end_time": "2024-04-23T16:22:47.944075Z",
     "start_time": "2024-04-23T16:22:47.929654Z"
    },
    "collapsed": false
   },
   "outputs": [
    {
     "name": "stdout",
     "output_type": "stream",
     "text": [
      "Number of images: 15000\n",
      "Number of batches: 100\n",
      "Batch size: 105\n",
      "Number of training images: 10500\n",
      "Number of validation images: 2250\n",
      "Number of test images: 2250\n",
      "Class names: ['Algerian', 'Arial', 'Baskerville', 'Calibry', 'Calligraphy', 'Cambria', 'Comic Sans MS', 'Courier', 'Elephant', 'Fascinate', 'Georgia', 'Helvetica', 'Lucida Bright', 'Nasalization', 'Times New Roman']\n"
     ]
    }
   ],
   "source": [
    "num_images = len(dataset)\n",
    "num_batches = len(train_loader)\n",
    "print(f'Number of images: {num_images}')\n",
    "print(f'Number of batches: {num_batches}')\n",
    "print(f'Batch size: {batch_size}')\n",
    "print(f'Number of training images: {len(train_dataset)}')\n",
    "print(f'Number of validation images: {len(val_dataset)}')\n",
    "print(f'Number of test images: {len(test_dataset)}')\n",
    "\n",
    "# Get the class names\n",
    "class_names = dataset.classes\n",
    "print(f'Class names: {class_names}')"
   ]
  },
  {
   "cell_type": "markdown",
   "id": "bd836b0d47a237ba",
   "metadata": {
    "collapsed": false
   },
   "source": [
    "# Loading the model\n",
    "Load the MobileNetV3 model and move it to the device (CPU or GPU)."
   ]
  },
  {
   "cell_type": "code",
   "execution_count": 6,
   "id": "8e9ad926f379fab5",
   "metadata": {
    "ExecuteTime": {
     "end_time": "2024-04-23T16:22:48.415776Z",
     "start_time": "2024-04-23T16:22:47.946075Z"
    },
    "collapsed": false
   },
   "outputs": [
    {
     "name": "stdout",
     "output_type": "stream",
     "text": [
      "Model moved to cpu\n"
     ]
    }
   ],
   "source": [
    "# Load the model and replace the fully connected layer\n",
    "model = models.__dict__[model_name](weights=None)\n",
    "\n",
    "# Move model to the device (CPU or GPU)\n",
    "if platform != \"win32\":\n",
    "    device = torch.device('mps' if torch.backends.mps.is_available() else 'cpu')\n",
    "else:\n",
    "    device = torch.device('gpu' if torch.cuda.is_available() else 'cpu')\n",
    "model = model.to(device)\n",
    "print(f'Model moved to {device}')"
   ]
  },
  {
   "cell_type": "markdown",
   "id": "eebc3e7a492ce85",
   "metadata": {
    "collapsed": false
   },
   "source": [
    "# Training the model\n",
    "Train the model using the training set and validate it using the validation set. We will use the Adam optimizer and the CrossEntropy loss function. We will save the model with the lowest validation loss."
   ]
  },
  {
   "cell_type": "code",
   "execution_count": 7,
   "id": "126f35f98051a02a",
   "metadata": {
    "ExecuteTime": {
     "end_time": "2024-04-23T17:01:41.429452Z",
     "start_time": "2024-04-23T16:22:48.416776Z"
    },
    "collapsed": false
   },
   "outputs": [
    {
     "name": "stdout",
     "output_type": "stream",
     "text": [
      "Epoch 1\n",
      "-------------------------------\n",
      "Training - Epoch [1/60], Step [10/100], Loss: 3.2723\n",
      "Training - Epoch [1/60], Step [20/100], Loss: 2.5173\n",
      "Training - Epoch [1/60], Step [30/100], Loss: 2.1513\n",
      "Training - Epoch [1/60], Step [40/100], Loss: 2.0212\n",
      "Training - Epoch [1/60], Step [50/100], Loss: 1.9578\n",
      "Training - Epoch [1/60], Step [60/100], Loss: 1.6182\n",
      "Training - Epoch [1/60], Step [70/100], Loss: 1.3822\n",
      "Training - Epoch [1/60], Step [80/100], Loss: 1.1863\n",
      "Training - Epoch [1/60], Step [90/100], Loss: 1.1757\n",
      "Training - Epoch [1/60], Step [100/100], Loss: 1.4218\n",
      "Validation - Epoch [1/60], Loss: 3.5392, Accuracy: 0.0662\n",
      "Model saved as mobilenet_v3_small_font_classifier_Padded.pth\n",
      "Epoch 2\n",
      "-------------------------------\n",
      "Training - Epoch [2/60], Step [10/100], Loss: 1.0395\n",
      "Training - Epoch [2/60], Step [20/100], Loss: 1.0126\n",
      "Training - Epoch [2/60], Step [30/100], Loss: 0.7905\n",
      "Training - Epoch [2/60], Step [40/100], Loss: 0.8207\n",
      "Training - Epoch [2/60], Step [50/100], Loss: 0.9582\n",
      "Training - Epoch [2/60], Step [60/100], Loss: 1.0472\n",
      "Training - Epoch [2/60], Step [70/100], Loss: 0.6672\n",
      "Training - Epoch [2/60], Step [80/100], Loss: 0.5981\n",
      "Training - Epoch [2/60], Step [90/100], Loss: 0.8423\n",
      "Training - Epoch [2/60], Step [100/100], Loss: 0.6073\n",
      "Validation - Epoch [2/60], Loss: 3.2968, Accuracy: 0.0720\n",
      "Model saved as mobilenet_v3_small_font_classifier_Padded.pth\n",
      "Epoch 3\n",
      "-------------------------------\n",
      "Training - Epoch [3/60], Step [10/100], Loss: 0.7710\n",
      "Training - Epoch [3/60], Step [20/100], Loss: 0.5348\n",
      "Training - Epoch [3/60], Step [30/100], Loss: 0.6628\n",
      "Training - Epoch [3/60], Step [40/100], Loss: 0.5811\n",
      "Training - Epoch [3/60], Step [50/100], Loss: 0.3811\n",
      "Training - Epoch [3/60], Step [60/100], Loss: 0.5379\n",
      "Training - Epoch [3/60], Step [70/100], Loss: 0.5370\n",
      "Training - Epoch [3/60], Step [80/100], Loss: 0.4026\n",
      "Training - Epoch [3/60], Step [90/100], Loss: 0.3208\n",
      "Training - Epoch [3/60], Step [100/100], Loss: 0.5381\n",
      "Validation - Epoch [3/60], Loss: 3.4066, Accuracy: 0.0720\n",
      "Epoch 4\n",
      "-------------------------------\n",
      "Training - Epoch [4/60], Step [10/100], Loss: 0.3354\n",
      "Training - Epoch [4/60], Step [20/100], Loss: 0.3084\n",
      "Training - Epoch [4/60], Step [30/100], Loss: 0.4347\n",
      "Training - Epoch [4/60], Step [40/100], Loss: 0.2379\n",
      "Training - Epoch [4/60], Step [50/100], Loss: 0.2607\n",
      "Training - Epoch [4/60], Step [60/100], Loss: 0.3520\n",
      "Training - Epoch [4/60], Step [70/100], Loss: 0.2028\n",
      "Training - Epoch [4/60], Step [80/100], Loss: 0.2208\n",
      "Training - Epoch [4/60], Step [90/100], Loss: 0.3388\n",
      "Training - Epoch [4/60], Step [100/100], Loss: 0.1617\n",
      "Validation - Epoch [4/60], Loss: 3.3134, Accuracy: 0.0720\n",
      "Epoch 5\n",
      "-------------------------------\n",
      "Training - Epoch [5/60], Step [10/100], Loss: 0.1890\n",
      "Training - Epoch [5/60], Step [20/100], Loss: 0.1450\n",
      "Training - Epoch [5/60], Step [30/100], Loss: 0.2274\n",
      "Training - Epoch [5/60], Step [40/100], Loss: 0.4776\n",
      "Training - Epoch [5/60], Step [50/100], Loss: 0.2419\n",
      "Training - Epoch [5/60], Step [60/100], Loss: 0.2339\n",
      "Training - Epoch [5/60], Step [70/100], Loss: 0.1338\n",
      "Training - Epoch [5/60], Step [80/100], Loss: 0.3471\n",
      "Training - Epoch [5/60], Step [90/100], Loss: 0.1813\n",
      "Training - Epoch [5/60], Step [100/100], Loss: 0.2113\n",
      "Validation - Epoch [5/60], Loss: 2.2487, Accuracy: 0.2724\n",
      "Model saved as mobilenet_v3_small_font_classifier_Padded.pth\n",
      "Epoch 6\n",
      "-------------------------------\n",
      "Training - Epoch [6/60], Step [10/100], Loss: 0.1112\n",
      "Training - Epoch [6/60], Step [20/100], Loss: 0.0688\n",
      "Training - Epoch [6/60], Step [30/100], Loss: 0.0605\n",
      "Training - Epoch [6/60], Step [40/100], Loss: 0.2137\n",
      "Training - Epoch [6/60], Step [50/100], Loss: 0.2191\n",
      "Training - Epoch [6/60], Step [60/100], Loss: 0.1696\n",
      "Training - Epoch [6/60], Step [70/100], Loss: 0.3038\n",
      "Training - Epoch [6/60], Step [80/100], Loss: 0.0636\n",
      "Training - Epoch [6/60], Step [90/100], Loss: 0.0130\n",
      "Training - Epoch [6/60], Step [100/100], Loss: 0.2592\n",
      "Validation - Epoch [6/60], Loss: 10.6617, Accuracy: 0.1578\n",
      "Epoch 7\n",
      "-------------------------------\n",
      "Training - Epoch [7/60], Step [10/100], Loss: 0.0809\n",
      "Training - Epoch [7/60], Step [20/100], Loss: 0.0606\n",
      "Training - Epoch [7/60], Step [30/100], Loss: 0.0656\n",
      "Training - Epoch [7/60], Step [40/100], Loss: 0.0947\n",
      "Training - Epoch [7/60], Step [50/100], Loss: 0.0553\n",
      "Training - Epoch [7/60], Step [60/100], Loss: 0.0653\n",
      "Training - Epoch [7/60], Step [70/100], Loss: 0.0361\n",
      "Training - Epoch [7/60], Step [80/100], Loss: 0.1507\n",
      "Training - Epoch [7/60], Step [90/100], Loss: 0.1471\n",
      "Training - Epoch [7/60], Step [100/100], Loss: 0.1070\n",
      "Validation - Epoch [7/60], Loss: 2.3990, Accuracy: 0.5551\n",
      "Epoch 8\n",
      "-------------------------------\n",
      "Training - Epoch [8/60], Step [10/100], Loss: 0.0831\n",
      "Training - Epoch [8/60], Step [20/100], Loss: 0.1485\n",
      "Training - Epoch [8/60], Step [30/100], Loss: 0.1021\n",
      "Training - Epoch [8/60], Step [40/100], Loss: 0.0923\n",
      "Training - Epoch [8/60], Step [50/100], Loss: 0.3932\n",
      "Training - Epoch [8/60], Step [60/100], Loss: 0.1920\n",
      "Training - Epoch [8/60], Step [70/100], Loss: 0.1062\n",
      "Training - Epoch [8/60], Step [80/100], Loss: 0.2578\n",
      "Training - Epoch [8/60], Step [90/100], Loss: 0.0910\n",
      "Training - Epoch [8/60], Step [100/100], Loss: 0.0476\n",
      "Validation - Epoch [8/60], Loss: 1.6901, Accuracy: 0.6622\n",
      "Model saved as mobilenet_v3_small_font_classifier_Padded.pth\n",
      "Epoch 9\n",
      "-------------------------------\n",
      "Training - Epoch [9/60], Step [10/100], Loss: 0.1080\n",
      "Training - Epoch [9/60], Step [20/100], Loss: 0.1201\n",
      "Training - Epoch [9/60], Step [30/100], Loss: 0.0698\n",
      "Training - Epoch [9/60], Step [40/100], Loss: 0.0460\n",
      "Training - Epoch [9/60], Step [50/100], Loss: 0.1912\n",
      "Training - Epoch [9/60], Step [60/100], Loss: 0.1043\n",
      "Training - Epoch [9/60], Step [70/100], Loss: 0.0489\n",
      "Training - Epoch [9/60], Step [80/100], Loss: 0.0982\n",
      "Training - Epoch [9/60], Step [90/100], Loss: 0.0710\n",
      "Training - Epoch [9/60], Step [100/100], Loss: 0.1505\n",
      "Validation - Epoch [9/60], Loss: 0.4417, Accuracy: 0.8969\n",
      "Model saved as mobilenet_v3_small_font_classifier_Padded.pth\n",
      "Epoch 10\n",
      "-------------------------------\n",
      "Training - Epoch [10/60], Step [10/100], Loss: 0.0170\n",
      "Training - Epoch [10/60], Step [20/100], Loss: 0.0420\n",
      "Training - Epoch [10/60], Step [30/100], Loss: 0.1525\n",
      "Training - Epoch [10/60], Step [40/100], Loss: 0.1270\n",
      "Training - Epoch [10/60], Step [50/100], Loss: 0.0775\n",
      "Training - Epoch [10/60], Step [60/100], Loss: 0.1246\n",
      "Training - Epoch [10/60], Step [70/100], Loss: 0.1549\n",
      "Training - Epoch [10/60], Step [80/100], Loss: 0.1246\n",
      "Training - Epoch [10/60], Step [90/100], Loss: 0.0349\n",
      "Training - Epoch [10/60], Step [100/100], Loss: 0.1338\n",
      "Validation - Epoch [10/60], Loss: 0.4857, Accuracy: 0.8769\n",
      "Epoch 11\n",
      "-------------------------------\n",
      "Training - Epoch [11/60], Step [10/100], Loss: 0.0253\n",
      "Training - Epoch [11/60], Step [20/100], Loss: 0.1751\n",
      "Training - Epoch [11/60], Step [30/100], Loss: 0.0229\n",
      "Training - Epoch [11/60], Step [40/100], Loss: 0.0699\n",
      "Training - Epoch [11/60], Step [50/100], Loss: 0.0741\n",
      "Training - Epoch [11/60], Step [60/100], Loss: 0.0173\n",
      "Training - Epoch [11/60], Step [70/100], Loss: 0.0658\n",
      "Training - Epoch [11/60], Step [80/100], Loss: 0.0383\n",
      "Training - Epoch [11/60], Step [90/100], Loss: 0.0628\n",
      "Training - Epoch [11/60], Step [100/100], Loss: 0.0161\n",
      "Validation - Epoch [11/60], Loss: 0.4365, Accuracy: 0.9111\n",
      "Model saved as mobilenet_v3_small_font_classifier_Padded.pth\n",
      "Epoch 12\n",
      "-------------------------------\n",
      "Training - Epoch [12/60], Step [10/100], Loss: 0.0132\n",
      "Training - Epoch [12/60], Step [20/100], Loss: 0.0141\n",
      "Training - Epoch [12/60], Step [30/100], Loss: 0.0366\n",
      "Training - Epoch [12/60], Step [40/100], Loss: 0.0561\n",
      "Training - Epoch [12/60], Step [50/100], Loss: 0.0049\n",
      "Training - Epoch [12/60], Step [60/100], Loss: 0.0086\n",
      "Training - Epoch [12/60], Step [70/100], Loss: 0.0267\n",
      "Training - Epoch [12/60], Step [80/100], Loss: 0.0381\n",
      "Training - Epoch [12/60], Step [90/100], Loss: 0.1384\n",
      "Training - Epoch [12/60], Step [100/100], Loss: 0.0268\n",
      "Validation - Epoch [12/60], Loss: 0.8480, Accuracy: 0.8178\n",
      "Epoch 13\n",
      "-------------------------------\n",
      "Training - Epoch [13/60], Step [10/100], Loss: 0.0396\n",
      "Training - Epoch [13/60], Step [20/100], Loss: 0.0534\n",
      "Training - Epoch [13/60], Step [30/100], Loss: 0.1390\n",
      "Training - Epoch [13/60], Step [40/100], Loss: 0.0112\n",
      "Training - Epoch [13/60], Step [50/100], Loss: 0.0203\n",
      "Training - Epoch [13/60], Step [60/100], Loss: 0.0327\n",
      "Training - Epoch [13/60], Step [70/100], Loss: 0.0149\n",
      "Training - Epoch [13/60], Step [80/100], Loss: 0.0516\n",
      "Training - Epoch [13/60], Step [90/100], Loss: 0.0192\n",
      "Training - Epoch [13/60], Step [100/100], Loss: 0.0903\n",
      "Validation - Epoch [13/60], Loss: 0.1437, Accuracy: 0.9604\n",
      "Model saved as mobilenet_v3_small_font_classifier_Padded.pth\n",
      "Epoch 14\n",
      "-------------------------------\n",
      "Training - Epoch [14/60], Step [10/100], Loss: 0.0846\n",
      "Training - Epoch [14/60], Step [20/100], Loss: 0.0943\n",
      "Training - Epoch [14/60], Step [30/100], Loss: 0.0276\n",
      "Training - Epoch [14/60], Step [40/100], Loss: 0.1265\n",
      "Training - Epoch [14/60], Step [50/100], Loss: 0.0190\n",
      "Training - Epoch [14/60], Step [60/100], Loss: 0.0329\n",
      "Training - Epoch [14/60], Step [70/100], Loss: 0.0593\n",
      "Training - Epoch [14/60], Step [80/100], Loss: 0.1315\n",
      "Training - Epoch [14/60], Step [90/100], Loss: 0.0239\n",
      "Training - Epoch [14/60], Step [100/100], Loss: 0.1794\n",
      "Validation - Epoch [14/60], Loss: 0.2448, Accuracy: 0.9280\n",
      "Epoch 15\n",
      "-------------------------------\n",
      "Training - Epoch [15/60], Step [10/100], Loss: 0.0933\n",
      "Training - Epoch [15/60], Step [20/100], Loss: 0.0281\n",
      "Training - Epoch [15/60], Step [30/100], Loss: 0.0815\n",
      "Training - Epoch [15/60], Step [40/100], Loss: 0.0244\n",
      "Training - Epoch [15/60], Step [50/100], Loss: 0.0942\n",
      "Training - Epoch [15/60], Step [60/100], Loss: 0.0642\n",
      "Training - Epoch [15/60], Step [70/100], Loss: 0.0222\n",
      "Training - Epoch [15/60], Step [80/100], Loss: 0.2253\n",
      "Training - Epoch [15/60], Step [90/100], Loss: 0.1520\n",
      "Training - Epoch [15/60], Step [100/100], Loss: 0.0369\n",
      "Validation - Epoch [15/60], Loss: 0.5814, Accuracy: 0.8618\n",
      "Epoch 16\n",
      "-------------------------------\n",
      "Training - Epoch [16/60], Step [10/100], Loss: 0.0332\n",
      "Training - Epoch [16/60], Step [20/100], Loss: 0.0068\n",
      "Training - Epoch [16/60], Step [30/100], Loss: 0.0525\n",
      "Training - Epoch [16/60], Step [40/100], Loss: 0.0155\n",
      "Training - Epoch [16/60], Step [50/100], Loss: 0.0154\n",
      "Training - Epoch [16/60], Step [60/100], Loss: 0.0376\n",
      "Training - Epoch [16/60], Step [70/100], Loss: 0.0337\n",
      "Training - Epoch [16/60], Step [80/100], Loss: 0.0391\n",
      "Training - Epoch [16/60], Step [90/100], Loss: 0.0185\n",
      "Training - Epoch [16/60], Step [100/100], Loss: 0.0095\n",
      "Validation - Epoch [16/60], Loss: 0.7384, Accuracy: 0.8227\n",
      "Epoch 17\n",
      "-------------------------------\n",
      "Training - Epoch [17/60], Step [10/100], Loss: 0.1307\n",
      "Training - Epoch [17/60], Step [20/100], Loss: 0.0228\n",
      "Training - Epoch [17/60], Step [30/100], Loss: 0.1021\n",
      "Training - Epoch [17/60], Step [40/100], Loss: 0.1018\n",
      "Training - Epoch [17/60], Step [50/100], Loss: 0.0549\n",
      "Training - Epoch [17/60], Step [60/100], Loss: 0.0456\n",
      "Training - Epoch [17/60], Step [70/100], Loss: 0.0263\n",
      "Training - Epoch [17/60], Step [80/100], Loss: 0.0351\n",
      "Training - Epoch [17/60], Step [90/100], Loss: 0.0183\n",
      "Training - Epoch [17/60], Step [100/100], Loss: 0.0959\n",
      "Validation - Epoch [17/60], Loss: 0.3163, Accuracy: 0.9271\n",
      "Epoch 18\n",
      "-------------------------------\n",
      "Training - Epoch [18/60], Step [10/100], Loss: 0.0762\n",
      "Training - Epoch [18/60], Step [20/100], Loss: 0.0775\n",
      "Training - Epoch [18/60], Step [30/100], Loss: 0.0783\n",
      "Training - Epoch [18/60], Step [40/100], Loss: 0.0436\n",
      "Training - Epoch [18/60], Step [50/100], Loss: 0.0480\n",
      "Training - Epoch [18/60], Step [60/100], Loss: 0.0669\n",
      "Training - Epoch [18/60], Step [70/100], Loss: 0.0624\n",
      "Training - Epoch [18/60], Step [80/100], Loss: 0.0206\n",
      "Training - Epoch [18/60], Step [90/100], Loss: 0.1220\n",
      "Training - Epoch [18/60], Step [100/100], Loss: 0.1374\n",
      "Validation - Epoch [18/60], Loss: 0.2656, Accuracy: 0.9293\n",
      "Epoch 19\n",
      "-------------------------------\n",
      "Training - Epoch [19/60], Step [10/100], Loss: 0.0933\n",
      "Training - Epoch [19/60], Step [20/100], Loss: 0.0797\n",
      "Training - Epoch [19/60], Step [30/100], Loss: 0.0497\n",
      "Training - Epoch [19/60], Step [40/100], Loss: 0.0900\n",
      "Training - Epoch [19/60], Step [50/100], Loss: 0.0482\n",
      "Training - Epoch [19/60], Step [60/100], Loss: 0.0236\n",
      "Training - Epoch [19/60], Step [70/100], Loss: 0.0056\n",
      "Training - Epoch [19/60], Step [80/100], Loss: 0.0536\n",
      "Training - Epoch [19/60], Step [90/100], Loss: 0.0773\n",
      "Training - Epoch [19/60], Step [100/100], Loss: 0.0915\n",
      "Validation - Epoch [19/60], Loss: 0.4831, Accuracy: 0.8764\n",
      "Epoch 20\n",
      "-------------------------------\n",
      "Training - Epoch [20/60], Step [10/100], Loss: 0.0921\n",
      "Training - Epoch [20/60], Step [20/100], Loss: 0.0348\n",
      "Training - Epoch [20/60], Step [30/100], Loss: 0.0607\n",
      "Training - Epoch [20/60], Step [40/100], Loss: 0.1256\n",
      "Training - Epoch [20/60], Step [50/100], Loss: 0.0042\n",
      "Training - Epoch [20/60], Step [60/100], Loss: 0.0181\n",
      "Training - Epoch [20/60], Step [70/100], Loss: 0.0383\n",
      "Training - Epoch [20/60], Step [80/100], Loss: 0.0038\n",
      "Training - Epoch [20/60], Step [90/100], Loss: 0.1607\n",
      "Training - Epoch [20/60], Step [100/100], Loss: 0.0118\n",
      "Validation - Epoch [20/60], Loss: 0.2374, Accuracy: 0.9271\n",
      "Epoch 21\n",
      "-------------------------------\n",
      "Training - Epoch [21/60], Step [10/100], Loss: 0.1342\n",
      "Training - Epoch [21/60], Step [20/100], Loss: 0.0125\n",
      "Training - Epoch [21/60], Step [30/100], Loss: 0.0254\n",
      "Training - Epoch [21/60], Step [40/100], Loss: 0.0229\n",
      "Training - Epoch [21/60], Step [50/100], Loss: 0.0266\n",
      "Training - Epoch [21/60], Step [60/100], Loss: 0.0078\n",
      "Training - Epoch [21/60], Step [70/100], Loss: 0.0253\n",
      "Training - Epoch [21/60], Step [80/100], Loss: 0.0100\n",
      "Training - Epoch [21/60], Step [90/100], Loss: 0.0202\n",
      "Training - Epoch [21/60], Step [100/100], Loss: 0.0150\n",
      "Validation - Epoch [21/60], Loss: 0.3171, Accuracy: 0.9182\n",
      "Epoch 22\n",
      "-------------------------------\n",
      "Training - Epoch [22/60], Step [10/100], Loss: 0.0847\n",
      "Training - Epoch [22/60], Step [20/100], Loss: 0.0391\n",
      "Training - Epoch [22/60], Step [30/100], Loss: 0.0440\n",
      "Training - Epoch [22/60], Step [40/100], Loss: 0.1075\n",
      "Training - Epoch [22/60], Step [50/100], Loss: 0.0217\n",
      "Training - Epoch [22/60], Step [60/100], Loss: 0.0421\n",
      "Training - Epoch [22/60], Step [70/100], Loss: 0.0642\n",
      "Training - Epoch [22/60], Step [80/100], Loss: 0.0716\n",
      "Training - Epoch [22/60], Step [90/100], Loss: 0.0871\n",
      "Training - Epoch [22/60], Step [100/100], Loss: 0.0088\n",
      "Validation - Epoch [22/60], Loss: 0.3830, Accuracy: 0.9173\n",
      "Epoch 23\n",
      "-------------------------------\n",
      "Training - Epoch [23/60], Step [10/100], Loss: 0.0095\n",
      "Training - Epoch [23/60], Step [20/100], Loss: 0.1579\n",
      "Training - Epoch [23/60], Step [30/100], Loss: 0.0165\n",
      "Training - Epoch [23/60], Step [40/100], Loss: 0.0112\n",
      "Training - Epoch [23/60], Step [50/100], Loss: 0.0041\n",
      "Training - Epoch [23/60], Step [60/100], Loss: 0.0515\n",
      "Training - Epoch [23/60], Step [70/100], Loss: 0.0836\n",
      "Training - Epoch [23/60], Step [80/100], Loss: 0.0070\n",
      "Training - Epoch [23/60], Step [90/100], Loss: 0.1834\n",
      "Training - Epoch [23/60], Step [100/100], Loss: 0.2490\n",
      "Validation - Epoch [23/60], Loss: 0.6524, Accuracy: 0.8831\n",
      "Epoch 24\n",
      "-------------------------------\n",
      "Training - Epoch [24/60], Step [10/100], Loss: 0.0577\n",
      "Training - Epoch [24/60], Step [20/100], Loss: 0.0277\n",
      "Training - Epoch [24/60], Step [30/100], Loss: 0.1233\n",
      "Training - Epoch [24/60], Step [40/100], Loss: 0.0056\n",
      "Training - Epoch [24/60], Step [50/100], Loss: 0.0392\n",
      "Training - Epoch [24/60], Step [60/100], Loss: 0.0190\n",
      "Training - Epoch [24/60], Step [70/100], Loss: 0.0687\n",
      "Training - Epoch [24/60], Step [80/100], Loss: 0.0294\n",
      "Training - Epoch [24/60], Step [90/100], Loss: 0.0391\n",
      "Training - Epoch [24/60], Step [100/100], Loss: 0.0050\n",
      "Validation - Epoch [24/60], Loss: 2.1109, Accuracy: 0.6342\n",
      "Epoch 25\n",
      "-------------------------------\n",
      "Training - Epoch [25/60], Step [10/100], Loss: 0.0037\n",
      "Training - Epoch [25/60], Step [20/100], Loss: 0.0478\n",
      "Training - Epoch [25/60], Step [30/100], Loss: 0.0080\n",
      "Training - Epoch [25/60], Step [40/100], Loss: 0.0100\n",
      "Training - Epoch [25/60], Step [50/100], Loss: 0.0194\n",
      "Training - Epoch [25/60], Step [60/100], Loss: 0.0019\n",
      "Training - Epoch [25/60], Step [70/100], Loss: 0.0235\n",
      "Training - Epoch [25/60], Step [80/100], Loss: 0.0117\n",
      "Training - Epoch [25/60], Step [90/100], Loss: 0.0015\n",
      "Training - Epoch [25/60], Step [100/100], Loss: 0.0428\n",
      "Validation - Epoch [25/60], Loss: 0.8580, Accuracy: 0.8164\n",
      "Epoch 26\n",
      "-------------------------------\n",
      "Training - Epoch [26/60], Step [10/100], Loss: 0.0017\n",
      "Training - Epoch [26/60], Step [20/100], Loss: 0.0306\n",
      "Training - Epoch [26/60], Step [30/100], Loss: 0.0163\n",
      "Training - Epoch [26/60], Step [40/100], Loss: 0.0024\n",
      "Training - Epoch [26/60], Step [50/100], Loss: 0.0251\n",
      "Training - Epoch [26/60], Step [60/100], Loss: 0.0414\n",
      "Training - Epoch [26/60], Step [70/100], Loss: 0.0599\n",
      "Training - Epoch [26/60], Step [80/100], Loss: 0.0061\n",
      "Training - Epoch [26/60], Step [90/100], Loss: 0.0447\n",
      "Training - Epoch [26/60], Step [100/100], Loss: 0.0140\n",
      "Validation - Epoch [26/60], Loss: 0.1219, Accuracy: 0.9653\n",
      "Model saved as mobilenet_v3_small_font_classifier_Padded.pth\n",
      "Epoch 27\n",
      "-------------------------------\n",
      "Training - Epoch [27/60], Step [10/100], Loss: 0.0036\n",
      "Training - Epoch [27/60], Step [20/100], Loss: 0.0112\n",
      "Training - Epoch [27/60], Step [30/100], Loss: 0.0130\n",
      "Training - Epoch [27/60], Step [40/100], Loss: 0.0081\n",
      "Training - Epoch [27/60], Step [50/100], Loss: 0.0628\n",
      "Training - Epoch [27/60], Step [60/100], Loss: 0.0268\n",
      "Training - Epoch [27/60], Step [70/100], Loss: 0.0375\n",
      "Training - Epoch [27/60], Step [80/100], Loss: 0.0198\n",
      "Training - Epoch [27/60], Step [90/100], Loss: 0.0038\n",
      "Training - Epoch [27/60], Step [100/100], Loss: 0.0130\n",
      "Validation - Epoch [27/60], Loss: 0.3183, Accuracy: 0.9387\n",
      "Epoch 28\n",
      "-------------------------------\n",
      "Training - Epoch [28/60], Step [10/100], Loss: 0.0106\n",
      "Training - Epoch [28/60], Step [20/100], Loss: 0.0469\n",
      "Training - Epoch [28/60], Step [30/100], Loss: 0.0024\n",
      "Training - Epoch [28/60], Step [40/100], Loss: 0.0601\n",
      "Training - Epoch [28/60], Step [50/100], Loss: 0.0226\n",
      "Training - Epoch [28/60], Step [60/100], Loss: 0.1608\n",
      "Training - Epoch [28/60], Step [70/100], Loss: 0.0028\n",
      "Training - Epoch [28/60], Step [80/100], Loss: 0.0017\n",
      "Training - Epoch [28/60], Step [90/100], Loss: 0.0802\n",
      "Training - Epoch [28/60], Step [100/100], Loss: 0.0255\n",
      "Validation - Epoch [28/60], Loss: 0.1947, Accuracy: 0.9444\n",
      "Epoch 29\n",
      "-------------------------------\n",
      "Training - Epoch [29/60], Step [10/100], Loss: 0.0518\n",
      "Training - Epoch [29/60], Step [20/100], Loss: 0.0540\n",
      "Training - Epoch [29/60], Step [30/100], Loss: 0.0116\n",
      "Training - Epoch [29/60], Step [40/100], Loss: 0.0436\n",
      "Training - Epoch [29/60], Step [50/100], Loss: 0.0023\n",
      "Training - Epoch [29/60], Step [60/100], Loss: 0.0462\n",
      "Training - Epoch [29/60], Step [70/100], Loss: 0.0217\n",
      "Training - Epoch [29/60], Step [80/100], Loss: 0.0047\n",
      "Training - Epoch [29/60], Step [90/100], Loss: 0.0049\n",
      "Training - Epoch [29/60], Step [100/100], Loss: 0.0319\n",
      "Validation - Epoch [29/60], Loss: 0.4948, Accuracy: 0.8653\n",
      "Epoch 30\n",
      "-------------------------------\n",
      "Training - Epoch [30/60], Step [10/100], Loss: 0.0245\n",
      "Training - Epoch [30/60], Step [20/100], Loss: 0.0018\n",
      "Training - Epoch [30/60], Step [30/100], Loss: 0.0061\n",
      "Training - Epoch [30/60], Step [40/100], Loss: 0.0161\n",
      "Training - Epoch [30/60], Step [50/100], Loss: 0.0163\n",
      "Training - Epoch [30/60], Step [60/100], Loss: 0.0012\n",
      "Training - Epoch [30/60], Step [70/100], Loss: 0.0076\n",
      "Training - Epoch [30/60], Step [80/100], Loss: 0.0331\n",
      "Training - Epoch [30/60], Step [90/100], Loss: 0.0041\n",
      "Training - Epoch [30/60], Step [100/100], Loss: 0.0019\n",
      "Validation - Epoch [30/60], Loss: 0.1120, Accuracy: 0.9751\n",
      "Model saved as mobilenet_v3_small_font_classifier_Padded.pth\n",
      "Epoch 31\n",
      "-------------------------------\n",
      "Training - Epoch [31/60], Step [10/100], Loss: 0.0335\n",
      "Training - Epoch [31/60], Step [20/100], Loss: 0.0065\n",
      "Training - Epoch [31/60], Step [30/100], Loss: 0.0002\n",
      "Training - Epoch [31/60], Step [40/100], Loss: 0.0142\n",
      "Training - Epoch [31/60], Step [50/100], Loss: 0.0023\n",
      "Training - Epoch [31/60], Step [60/100], Loss: 0.0051\n",
      "Training - Epoch [31/60], Step [70/100], Loss: 0.0002\n",
      "Training - Epoch [31/60], Step [80/100], Loss: 0.0700\n",
      "Training - Epoch [31/60], Step [90/100], Loss: 0.0107\n",
      "Training - Epoch [31/60], Step [100/100], Loss: 0.0027\n",
      "Validation - Epoch [31/60], Loss: 0.1202, Accuracy: 0.9702\n",
      "Epoch 32\n",
      "-------------------------------\n",
      "Training - Epoch [32/60], Step [10/100], Loss: 0.1016\n",
      "Training - Epoch [32/60], Step [20/100], Loss: 0.0002\n",
      "Training - Epoch [32/60], Step [30/100], Loss: 0.0042\n",
      "Training - Epoch [32/60], Step [40/100], Loss: 0.0016\n",
      "Training - Epoch [32/60], Step [50/100], Loss: 0.0029\n",
      "Training - Epoch [32/60], Step [60/100], Loss: 0.0058\n",
      "Training - Epoch [32/60], Step [70/100], Loss: 0.0408\n",
      "Training - Epoch [32/60], Step [80/100], Loss: 0.0212\n",
      "Training - Epoch [32/60], Step [90/100], Loss: 0.0079\n",
      "Training - Epoch [32/60], Step [100/100], Loss: 0.1829\n",
      "Validation - Epoch [32/60], Loss: 0.3052, Accuracy: 0.9422\n",
      "Epoch 33\n",
      "-------------------------------\n",
      "Training - Epoch [33/60], Step [10/100], Loss: 0.0104\n",
      "Training - Epoch [33/60], Step [20/100], Loss: 0.0226\n",
      "Training - Epoch [33/60], Step [30/100], Loss: 0.0328\n",
      "Training - Epoch [33/60], Step [40/100], Loss: 0.0319\n",
      "Training - Epoch [33/60], Step [50/100], Loss: 0.0248\n",
      "Training - Epoch [33/60], Step [60/100], Loss: 0.0129\n",
      "Training - Epoch [33/60], Step [70/100], Loss: 0.0359\n",
      "Training - Epoch [33/60], Step [80/100], Loss: 0.0112\n",
      "Training - Epoch [33/60], Step [90/100], Loss: 0.0150\n",
      "Training - Epoch [33/60], Step [100/100], Loss: 0.0051\n",
      "Validation - Epoch [33/60], Loss: 0.2781, Accuracy: 0.9329\n",
      "Epoch 34\n",
      "-------------------------------\n",
      "Training - Epoch [34/60], Step [10/100], Loss: 0.0048\n",
      "Training - Epoch [34/60], Step [20/100], Loss: 0.0009\n",
      "Training - Epoch [34/60], Step [30/100], Loss: 0.0546\n",
      "Training - Epoch [34/60], Step [40/100], Loss: 0.0137\n",
      "Training - Epoch [34/60], Step [50/100], Loss: 0.0040\n",
      "Training - Epoch [34/60], Step [60/100], Loss: 0.0093\n",
      "Training - Epoch [34/60], Step [70/100], Loss: 0.0308\n",
      "Training - Epoch [34/60], Step [80/100], Loss: 0.0106\n",
      "Training - Epoch [34/60], Step [90/100], Loss: 0.0433\n",
      "Training - Epoch [34/60], Step [100/100], Loss: 0.0235\n",
      "Validation - Epoch [34/60], Loss: 0.2733, Accuracy: 0.9440\n",
      "Epoch 35\n",
      "-------------------------------\n",
      "Training - Epoch [35/60], Step [10/100], Loss: 0.0560\n",
      "Training - Epoch [35/60], Step [20/100], Loss: 0.0495\n",
      "Training - Epoch [35/60], Step [30/100], Loss: 0.0404\n",
      "Training - Epoch [35/60], Step [40/100], Loss: 0.0259\n",
      "Training - Epoch [35/60], Step [50/100], Loss: 0.0304\n",
      "Training - Epoch [35/60], Step [60/100], Loss: 0.0021\n",
      "Training - Epoch [35/60], Step [70/100], Loss: 0.0601\n",
      "Training - Epoch [35/60], Step [80/100], Loss: 0.0331\n",
      "Training - Epoch [35/60], Step [90/100], Loss: 0.0089\n",
      "Training - Epoch [35/60], Step [100/100], Loss: 0.0548\n",
      "Validation - Epoch [35/60], Loss: 0.1347, Accuracy: 0.9733\n",
      "Epoch 36\n",
      "-------------------------------\n",
      "Training - Epoch [36/60], Step [10/100], Loss: 0.0010\n",
      "Training - Epoch [36/60], Step [20/100], Loss: 0.0277\n",
      "Training - Epoch [36/60], Step [30/100], Loss: 0.0123\n",
      "Training - Epoch [36/60], Step [40/100], Loss: 0.0008\n",
      "Training - Epoch [36/60], Step [50/100], Loss: 0.0315\n",
      "Training - Epoch [36/60], Step [60/100], Loss: 0.0035\n",
      "Training - Epoch [36/60], Step [70/100], Loss: 0.0131\n",
      "Training - Epoch [36/60], Step [80/100], Loss: 0.0543\n",
      "Training - Epoch [36/60], Step [90/100], Loss: 0.0020\n",
      "Training - Epoch [36/60], Step [100/100], Loss: 0.0590\n",
      "Validation - Epoch [36/60], Loss: 0.3116, Accuracy: 0.9342\n",
      "Epoch 37\n",
      "-------------------------------\n",
      "Training - Epoch [37/60], Step [10/100], Loss: 0.0116\n",
      "Training - Epoch [37/60], Step [20/100], Loss: 0.0689\n",
      "Training - Epoch [37/60], Step [30/100], Loss: 0.1220\n",
      "Training - Epoch [37/60], Step [40/100], Loss: 0.0026\n",
      "Training - Epoch [37/60], Step [50/100], Loss: 0.0276\n",
      "Training - Epoch [37/60], Step [60/100], Loss: 0.0296\n",
      "Training - Epoch [37/60], Step [70/100], Loss: 0.0278\n",
      "Training - Epoch [37/60], Step [80/100], Loss: 0.0294\n",
      "Training - Epoch [37/60], Step [90/100], Loss: 0.0396\n",
      "Training - Epoch [37/60], Step [100/100], Loss: 0.0575\n",
      "Validation - Epoch [37/60], Loss: 0.2922, Accuracy: 0.9373\n",
      "Epoch 38\n",
      "-------------------------------\n",
      "Training - Epoch [38/60], Step [10/100], Loss: 0.0010\n",
      "Training - Epoch [38/60], Step [20/100], Loss: 0.0027\n",
      "Training - Epoch [38/60], Step [30/100], Loss: 0.0681\n",
      "Training - Epoch [38/60], Step [40/100], Loss: 0.0201\n",
      "Training - Epoch [38/60], Step [50/100], Loss: 0.0124\n",
      "Training - Epoch [38/60], Step [60/100], Loss: 0.0044\n",
      "Training - Epoch [38/60], Step [70/100], Loss: 0.0053\n",
      "Training - Epoch [38/60], Step [80/100], Loss: 0.0177\n",
      "Training - Epoch [38/60], Step [90/100], Loss: 0.0007\n",
      "Training - Epoch [38/60], Step [100/100], Loss: 0.0003\n",
      "Validation - Epoch [38/60], Loss: 0.1112, Accuracy: 0.9738\n",
      "Model saved as mobilenet_v3_small_font_classifier_Padded.pth\n",
      "Epoch 39\n",
      "-------------------------------\n",
      "Training - Epoch [39/60], Step [10/100], Loss: 0.0011\n",
      "Training - Epoch [39/60], Step [20/100], Loss: 0.0032\n",
      "Training - Epoch [39/60], Step [30/100], Loss: 0.0167\n",
      "Training - Epoch [39/60], Step [40/100], Loss: 0.0126\n",
      "Training - Epoch [39/60], Step [50/100], Loss: 0.0032\n",
      "Training - Epoch [39/60], Step [60/100], Loss: 0.0004\n",
      "Training - Epoch [39/60], Step [70/100], Loss: 0.0004\n",
      "Training - Epoch [39/60], Step [80/100], Loss: 0.0032\n",
      "Training - Epoch [39/60], Step [90/100], Loss: 0.0171\n",
      "Training - Epoch [39/60], Step [100/100], Loss: 0.0003\n",
      "Validation - Epoch [39/60], Loss: 0.2781, Accuracy: 0.9169\n",
      "Epoch 40\n",
      "-------------------------------\n",
      "Training - Epoch [40/60], Step [10/100], Loss: 0.0023\n",
      "Training - Epoch [40/60], Step [20/100], Loss: 0.0020\n",
      "Training - Epoch [40/60], Step [30/100], Loss: 0.0070\n",
      "Training - Epoch [40/60], Step [40/100], Loss: 0.0020\n",
      "Training - Epoch [40/60], Step [50/100], Loss: 0.0107\n",
      "Training - Epoch [40/60], Step [60/100], Loss: 0.0001\n",
      "Training - Epoch [40/60], Step [70/100], Loss: 0.0021\n",
      "Training - Epoch [40/60], Step [80/100], Loss: 0.0102\n",
      "Training - Epoch [40/60], Step [90/100], Loss: 0.0041\n",
      "Training - Epoch [40/60], Step [100/100], Loss: 0.0168\n",
      "Validation - Epoch [40/60], Loss: 0.1413, Accuracy: 0.9707\n",
      "Epoch 41\n",
      "-------------------------------\n",
      "Training - Epoch [41/60], Step [10/100], Loss: 0.0094\n",
      "Training - Epoch [41/60], Step [20/100], Loss: 0.0005\n",
      "Training - Epoch [41/60], Step [30/100], Loss: 0.0042\n",
      "Training - Epoch [41/60], Step [40/100], Loss: 0.0428\n",
      "Training - Epoch [41/60], Step [50/100], Loss: 0.0199\n",
      "Training - Epoch [41/60], Step [60/100], Loss: 0.0027\n",
      "Training - Epoch [41/60], Step [70/100], Loss: 0.0172\n",
      "Training - Epoch [41/60], Step [80/100], Loss: 0.0105\n",
      "Training - Epoch [41/60], Step [90/100], Loss: 0.0465\n",
      "Training - Epoch [41/60], Step [100/100], Loss: 0.0045\n",
      "Validation - Epoch [41/60], Loss: 0.2741, Accuracy: 0.9298\n",
      "Epoch 42\n",
      "-------------------------------\n",
      "Training - Epoch [42/60], Step [10/100], Loss: 0.0006\n",
      "Training - Epoch [42/60], Step [20/100], Loss: 0.0003\n",
      "Training - Epoch [42/60], Step [30/100], Loss: 0.0019\n",
      "Training - Epoch [42/60], Step [40/100], Loss: 0.0761\n",
      "Training - Epoch [42/60], Step [50/100], Loss: 0.0176\n",
      "Training - Epoch [42/60], Step [60/100], Loss: 0.0008\n",
      "Training - Epoch [42/60], Step [70/100], Loss: 0.0172\n",
      "Training - Epoch [42/60], Step [80/100], Loss: 0.0029\n",
      "Training - Epoch [42/60], Step [90/100], Loss: 0.0433\n",
      "Training - Epoch [42/60], Step [100/100], Loss: 0.0025\n",
      "Validation - Epoch [42/60], Loss: 0.1813, Accuracy: 0.9564\n",
      "Epoch 43\n",
      "-------------------------------\n",
      "Training - Epoch [43/60], Step [10/100], Loss: 0.0003\n",
      "Training - Epoch [43/60], Step [20/100], Loss: 0.0032\n",
      "Training - Epoch [43/60], Step [30/100], Loss: 0.0102\n",
      "Training - Epoch [43/60], Step [40/100], Loss: 0.0018\n",
      "Training - Epoch [43/60], Step [50/100], Loss: 0.2405\n",
      "Training - Epoch [43/60], Step [60/100], Loss: 0.0057\n",
      "Training - Epoch [43/60], Step [70/100], Loss: 0.0090\n",
      "Training - Epoch [43/60], Step [80/100], Loss: 0.0494\n",
      "Training - Epoch [43/60], Step [90/100], Loss: 0.1065\n",
      "Training - Epoch [43/60], Step [100/100], Loss: 0.0019\n",
      "Validation - Epoch [43/60], Loss: 0.7922, Accuracy: 0.8684\n",
      "Epoch 44\n",
      "-------------------------------\n",
      "Training - Epoch [44/60], Step [10/100], Loss: 0.0836\n",
      "Training - Epoch [44/60], Step [20/100], Loss: 0.0234\n",
      "Training - Epoch [44/60], Step [30/100], Loss: 0.0014\n",
      "Training - Epoch [44/60], Step [40/100], Loss: 0.0264\n",
      "Training - Epoch [44/60], Step [50/100], Loss: 0.4395\n",
      "Training - Epoch [44/60], Step [60/100], Loss: 0.0674\n",
      "Training - Epoch [44/60], Step [70/100], Loss: 0.0081\n",
      "Training - Epoch [44/60], Step [80/100], Loss: 0.0036\n",
      "Training - Epoch [44/60], Step [90/100], Loss: 0.0014\n",
      "Training - Epoch [44/60], Step [100/100], Loss: 0.0365\n",
      "Validation - Epoch [44/60], Loss: 0.1545, Accuracy: 0.9662\n",
      "Epoch 45\n",
      "-------------------------------\n",
      "Training - Epoch [45/60], Step [10/100], Loss: 0.0446\n",
      "Training - Epoch [45/60], Step [20/100], Loss: 0.0674\n",
      "Training - Epoch [45/60], Step [30/100], Loss: 0.0110\n",
      "Training - Epoch [45/60], Step [40/100], Loss: 0.0055\n",
      "Training - Epoch [45/60], Step [50/100], Loss: 0.0083\n",
      "Training - Epoch [45/60], Step [60/100], Loss: 0.0070\n",
      "Training - Epoch [45/60], Step [70/100], Loss: 0.0084\n",
      "Training - Epoch [45/60], Step [80/100], Loss: 0.0103\n",
      "Training - Epoch [45/60], Step [90/100], Loss: 0.0394\n",
      "Training - Epoch [45/60], Step [100/100], Loss: 0.0066\n",
      "Validation - Epoch [45/60], Loss: 1.0618, Accuracy: 0.8791\n",
      "Epoch 46\n",
      "-------------------------------\n",
      "Training - Epoch [46/60], Step [10/100], Loss: 0.0212\n",
      "Training - Epoch [46/60], Step [20/100], Loss: 0.0165\n",
      "Training - Epoch [46/60], Step [30/100], Loss: 0.0023\n",
      "Training - Epoch [46/60], Step [40/100], Loss: 0.0498\n",
      "Training - Epoch [46/60], Step [50/100], Loss: 0.1741\n",
      "Training - Epoch [46/60], Step [60/100], Loss: 0.0098\n",
      "Training - Epoch [46/60], Step [70/100], Loss: 0.0041\n",
      "Training - Epoch [46/60], Step [80/100], Loss: 0.0025\n",
      "Training - Epoch [46/60], Step [90/100], Loss: 0.0015\n",
      "Training - Epoch [46/60], Step [100/100], Loss: 0.0033\n",
      "Validation - Epoch [46/60], Loss: 0.4163, Accuracy: 0.9178\n",
      "Epoch 47\n",
      "-------------------------------\n",
      "Training - Epoch [47/60], Step [10/100], Loss: 0.0629\n",
      "Training - Epoch [47/60], Step [20/100], Loss: 0.0128\n",
      "Training - Epoch [47/60], Step [30/100], Loss: 0.0074\n",
      "Training - Epoch [47/60], Step [40/100], Loss: 0.0055\n",
      "Training - Epoch [47/60], Step [50/100], Loss: 0.0021\n",
      "Training - Epoch [47/60], Step [60/100], Loss: 0.0043\n",
      "Training - Epoch [47/60], Step [70/100], Loss: 0.0016\n",
      "Training - Epoch [47/60], Step [80/100], Loss: 0.0291\n",
      "Training - Epoch [47/60], Step [90/100], Loss: 0.0049\n",
      "Training - Epoch [47/60], Step [100/100], Loss: 0.0016\n",
      "Validation - Epoch [47/60], Loss: 0.2100, Accuracy: 0.9676\n",
      "Epoch 48\n",
      "-------------------------------\n",
      "Training - Epoch [48/60], Step [10/100], Loss: 0.0018\n",
      "Training - Epoch [48/60], Step [20/100], Loss: 0.0054\n",
      "Training - Epoch [48/60], Step [30/100], Loss: 0.0657\n",
      "Training - Epoch [48/60], Step [40/100], Loss: 0.0006\n",
      "Training - Epoch [48/60], Step [50/100], Loss: 0.0266\n",
      "Training - Epoch [48/60], Step [60/100], Loss: 0.1874\n",
      "Training - Epoch [48/60], Step [70/100], Loss: 0.0126\n",
      "Training - Epoch [48/60], Step [80/100], Loss: 0.0091\n",
      "Training - Epoch [48/60], Step [90/100], Loss: 0.0125\n",
      "Training - Epoch [48/60], Step [100/100], Loss: 0.0072\n",
      "Validation - Epoch [48/60], Loss: 0.0890, Accuracy: 0.9809\n",
      "Model saved as mobilenet_v3_small_font_classifier_Padded.pth\n",
      "Epoch 49\n",
      "-------------------------------\n",
      "Training - Epoch [49/60], Step [10/100], Loss: 0.0179\n",
      "Training - Epoch [49/60], Step [20/100], Loss: 0.0013\n",
      "Training - Epoch [49/60], Step [30/100], Loss: 0.0005\n",
      "Training - Epoch [49/60], Step [40/100], Loss: 0.0005\n",
      "Training - Epoch [49/60], Step [50/100], Loss: 0.0002\n",
      "Training - Epoch [49/60], Step [60/100], Loss: 0.0009\n",
      "Training - Epoch [49/60], Step [70/100], Loss: 0.0162\n",
      "Training - Epoch [49/60], Step [80/100], Loss: 0.0272\n",
      "Training - Epoch [49/60], Step [90/100], Loss: 0.0003\n",
      "Training - Epoch [49/60], Step [100/100], Loss: 0.0006\n",
      "Validation - Epoch [49/60], Loss: 0.0944, Accuracy: 0.9769\n",
      "Epoch 50\n",
      "-------------------------------\n",
      "Training - Epoch [50/60], Step [10/100], Loss: 0.0009\n",
      "Training - Epoch [50/60], Step [20/100], Loss: 0.0003\n",
      "Training - Epoch [50/60], Step [30/100], Loss: 0.0011\n",
      "Training - Epoch [50/60], Step [40/100], Loss: 0.1483\n",
      "Training - Epoch [50/60], Step [50/100], Loss: 0.1072\n",
      "Training - Epoch [50/60], Step [60/100], Loss: 0.0199\n",
      "Training - Epoch [50/60], Step [70/100], Loss: 0.0006\n",
      "Training - Epoch [50/60], Step [80/100], Loss: 0.0006\n",
      "Training - Epoch [50/60], Step [90/100], Loss: 0.0063\n",
      "Training - Epoch [50/60], Step [100/100], Loss: 0.0004\n",
      "Validation - Epoch [50/60], Loss: 0.0857, Accuracy: 0.9836\n",
      "Model saved as mobilenet_v3_small_font_classifier_Padded.pth\n",
      "Epoch 51\n",
      "-------------------------------\n",
      "Training - Epoch [51/60], Step [10/100], Loss: 0.0002\n",
      "Training - Epoch [51/60], Step [20/100], Loss: 0.0163\n",
      "Training - Epoch [51/60], Step [30/100], Loss: 0.0019\n",
      "Training - Epoch [51/60], Step [40/100], Loss: 0.0016\n",
      "Training - Epoch [51/60], Step [50/100], Loss: 0.0003\n",
      "Training - Epoch [51/60], Step [60/100], Loss: 0.0009\n",
      "Training - Epoch [51/60], Step [70/100], Loss: 0.0079\n",
      "Training - Epoch [51/60], Step [80/100], Loss: 0.1302\n",
      "Training - Epoch [51/60], Step [90/100], Loss: 0.0013\n",
      "Training - Epoch [51/60], Step [100/100], Loss: 0.0258\n",
      "Validation - Epoch [51/60], Loss: 0.3662, Accuracy: 0.9178\n",
      "Epoch 52\n",
      "-------------------------------\n",
      "Training - Epoch [52/60], Step [10/100], Loss: 0.0139\n",
      "Training - Epoch [52/60], Step [20/100], Loss: 0.0067\n",
      "Training - Epoch [52/60], Step [30/100], Loss: 0.0003\n",
      "Training - Epoch [52/60], Step [40/100], Loss: 0.0035\n",
      "Training - Epoch [52/60], Step [50/100], Loss: 0.0009\n",
      "Training - Epoch [52/60], Step [60/100], Loss: 0.0011\n",
      "Training - Epoch [52/60], Step [70/100], Loss: 0.0026\n",
      "Training - Epoch [52/60], Step [80/100], Loss: 0.0224\n",
      "Training - Epoch [52/60], Step [90/100], Loss: 0.0179\n",
      "Training - Epoch [52/60], Step [100/100], Loss: 0.0203\n",
      "Validation - Epoch [52/60], Loss: 0.2014, Accuracy: 0.9698\n",
      "Epoch 53\n",
      "-------------------------------\n",
      "Training - Epoch [53/60], Step [10/100], Loss: 0.0004\n",
      "Training - Epoch [53/60], Step [20/100], Loss: 0.0602\n",
      "Training - Epoch [53/60], Step [30/100], Loss: 0.1070\n",
      "Training - Epoch [53/60], Step [40/100], Loss: 0.0411\n",
      "Training - Epoch [53/60], Step [50/100], Loss: 0.0266\n",
      "Training - Epoch [53/60], Step [60/100], Loss: 0.0004\n",
      "Training - Epoch [53/60], Step [70/100], Loss: 0.0112\n",
      "Training - Epoch [53/60], Step [80/100], Loss: 0.0045\n",
      "Training - Epoch [53/60], Step [90/100], Loss: 0.0048\n",
      "Training - Epoch [53/60], Step [100/100], Loss: 0.0026\n",
      "Validation - Epoch [53/60], Loss: 0.0550, Accuracy: 0.9907\n",
      "Model saved as mobilenet_v3_small_font_classifier_Padded.pth\n",
      "Epoch 54\n",
      "-------------------------------\n",
      "Training - Epoch [54/60], Step [10/100], Loss: 0.0008\n",
      "Training - Epoch [54/60], Step [20/100], Loss: 0.0005\n",
      "Training - Epoch [54/60], Step [30/100], Loss: 0.0017\n",
      "Training - Epoch [54/60], Step [40/100], Loss: 0.0001\n",
      "Training - Epoch [54/60], Step [50/100], Loss: 0.0001\n",
      "Training - Epoch [54/60], Step [60/100], Loss: 0.0017\n",
      "Training - Epoch [54/60], Step [70/100], Loss: 0.0010\n",
      "Training - Epoch [54/60], Step [80/100], Loss: 0.0280\n",
      "Training - Epoch [54/60], Step [90/100], Loss: 0.0001\n",
      "Training - Epoch [54/60], Step [100/100], Loss: 0.0356\n",
      "Validation - Epoch [54/60], Loss: 0.0544, Accuracy: 0.9884\n",
      "Model saved as mobilenet_v3_small_font_classifier_Padded.pth\n",
      "Epoch 55\n",
      "-------------------------------\n",
      "Training - Epoch [55/60], Step [10/100], Loss: 0.0022\n",
      "Training - Epoch [55/60], Step [20/100], Loss: 0.0003\n",
      "Training - Epoch [55/60], Step [30/100], Loss: 0.0397\n",
      "Training - Epoch [55/60], Step [40/100], Loss: 0.0173\n",
      "Training - Epoch [55/60], Step [50/100], Loss: 0.0036\n",
      "Training - Epoch [55/60], Step [60/100], Loss: 0.0020\n",
      "Training - Epoch [55/60], Step [70/100], Loss: 0.0001\n",
      "Training - Epoch [55/60], Step [80/100], Loss: 0.0005\n",
      "Training - Epoch [55/60], Step [90/100], Loss: 0.0054\n",
      "Training - Epoch [55/60], Step [100/100], Loss: 0.0260\n",
      "Validation - Epoch [55/60], Loss: 0.1898, Accuracy: 0.9582\n",
      "Epoch 56\n",
      "-------------------------------\n",
      "Training - Epoch [56/60], Step [10/100], Loss: 0.0004\n",
      "Training - Epoch [56/60], Step [20/100], Loss: 0.0008\n",
      "Training - Epoch [56/60], Step [30/100], Loss: 0.0009\n",
      "Training - Epoch [56/60], Step [40/100], Loss: 0.0027\n",
      "Training - Epoch [56/60], Step [50/100], Loss: 0.0003\n",
      "Training - Epoch [56/60], Step [60/100], Loss: 0.0003\n",
      "Training - Epoch [56/60], Step [70/100], Loss: 0.0003\n",
      "Training - Epoch [56/60], Step [80/100], Loss: 0.0127\n",
      "Training - Epoch [56/60], Step [90/100], Loss: 0.0010\n",
      "Training - Epoch [56/60], Step [100/100], Loss: 0.0015\n",
      "Validation - Epoch [56/60], Loss: 0.2128, Accuracy: 0.9409\n",
      "Epoch 57\n",
      "-------------------------------\n",
      "Training - Epoch [57/60], Step [10/100], Loss: 0.0001\n",
      "Training - Epoch [57/60], Step [20/100], Loss: 0.0005\n",
      "Training - Epoch [57/60], Step [30/100], Loss: 0.0004\n",
      "Training - Epoch [57/60], Step [40/100], Loss: 0.0040\n",
      "Training - Epoch [57/60], Step [50/100], Loss: 0.0006\n",
      "Training - Epoch [57/60], Step [60/100], Loss: 0.0111\n",
      "Training - Epoch [57/60], Step [70/100], Loss: 0.0009\n",
      "Training - Epoch [57/60], Step [80/100], Loss: 0.0002\n",
      "Training - Epoch [57/60], Step [90/100], Loss: 0.0001\n",
      "Training - Epoch [57/60], Step [100/100], Loss: 0.0006\n",
      "Validation - Epoch [57/60], Loss: 0.0734, Accuracy: 0.9849\n",
      "Epoch 58\n",
      "-------------------------------\n",
      "Training - Epoch [58/60], Step [10/100], Loss: 0.0008\n",
      "Training - Epoch [58/60], Step [20/100], Loss: 0.0002\n",
      "Training - Epoch [58/60], Step [30/100], Loss: 0.0065\n",
      "Training - Epoch [58/60], Step [40/100], Loss: 0.0035\n",
      "Training - Epoch [58/60], Step [50/100], Loss: 0.0002\n",
      "Training - Epoch [58/60], Step [60/100], Loss: 0.0051\n",
      "Training - Epoch [58/60], Step [70/100], Loss: 0.0212\n",
      "Training - Epoch [58/60], Step [80/100], Loss: 0.0299\n",
      "Training - Epoch [58/60], Step [90/100], Loss: 0.0027\n",
      "Training - Epoch [58/60], Step [100/100], Loss: 0.0011\n",
      "Validation - Epoch [58/60], Loss: 0.3416, Accuracy: 0.9138\n",
      "Epoch 59\n",
      "-------------------------------\n",
      "Training - Epoch [59/60], Step [10/100], Loss: 0.0130\n",
      "Training - Epoch [59/60], Step [20/100], Loss: 0.0056\n",
      "Training - Epoch [59/60], Step [30/100], Loss: 0.0005\n",
      "Training - Epoch [59/60], Step [40/100], Loss: 0.0009\n",
      "Training - Epoch [59/60], Step [50/100], Loss: 0.0173\n",
      "Training - Epoch [59/60], Step [60/100], Loss: 0.0407\n",
      "Training - Epoch [59/60], Step [70/100], Loss: 0.0298\n",
      "Training - Epoch [59/60], Step [80/100], Loss: 0.1075\n",
      "Training - Epoch [59/60], Step [90/100], Loss: 0.0147\n",
      "Training - Epoch [59/60], Step [100/100], Loss: 0.0096\n",
      "Validation - Epoch [59/60], Loss: 1.2854, Accuracy: 0.7609\n",
      "Epoch 60\n",
      "-------------------------------\n",
      "Training - Epoch [60/60], Step [10/100], Loss: 0.0155\n",
      "Training - Epoch [60/60], Step [20/100], Loss: 0.0273\n",
      "Training - Epoch [60/60], Step [30/100], Loss: 0.0225\n",
      "Training - Epoch [60/60], Step [40/100], Loss: 0.0215\n",
      "Training - Epoch [60/60], Step [50/100], Loss: 0.0063\n",
      "Training - Epoch [60/60], Step [60/100], Loss: 0.0201\n",
      "Training - Epoch [60/60], Step [70/100], Loss: 0.0004\n",
      "Training - Epoch [60/60], Step [80/100], Loss: 0.0019\n",
      "Training - Epoch [60/60], Step [90/100], Loss: 0.0097\n",
      "Training - Epoch [60/60], Step [100/100], Loss: 0.0094\n",
      "Validation - Epoch [60/60], Loss: 0.1622, Accuracy: 0.9658\n"
     ]
    }
   ],
   "source": [
    "# Define the loss function\n",
    "criterion = torch.nn.CrossEntropyLoss()\n",
    "\n",
    "# Define the optimizer\n",
    "optimizer = torch.optim.Adam(model.parameters(), lr=0.001)\n",
    "\n",
    "# Training loop\n",
    "num_epochs = 60\n",
    "best_val_loss = float('inf')\n",
    "\n",
    "# Lists to store training and validation metrics for plotting\n",
    "train_losses = []\n",
    "train_accuracies = []\n",
    "val_losses = []\n",
    "val_accuracies = []\n",
    "\n",
    "# Set the model to training mode\n",
    "model.train()\n",
    "\n",
    "# Start the training loop\n",
    "start_time = time.time()\n",
    "for epoch in range(num_epochs):\n",
    "    print(f'Epoch {epoch + 1}\\n-------------------------------')\n",
    "    # Training phase\n",
    "    model.train()\n",
    "    train_loss = 0.0\n",
    "    correct_train = 0\n",
    "    total_train = 0\n",
    "    for i, (inputs, labels) in enumerate(train_loader):\n",
    "        inputs = inputs.to(device)\n",
    "        labels = labels.to(device)\n",
    "\n",
    "        # Forward pass\n",
    "        outputs = model(inputs)\n",
    "        loss = criterion(outputs, labels)\n",
    "\n",
    "        # Backward pass\n",
    "        optimizer.zero_grad()\n",
    "        loss.backward()\n",
    "        optimizer.step()\n",
    "\n",
    "        train_loss += loss.item() * inputs.size(0)\n",
    "        \n",
    "        # Calculate accuracy\n",
    "        _, predicted = torch.max(outputs, 1)\n",
    "        total_train += labels.size(0)\n",
    "        correct_train += (predicted == labels).sum().item()\n",
    "\n",
    "        # Print training statistics\n",
    "        if (i + 1) % 10 == 0:\n",
    "            print(f'Training - Epoch [{epoch + 1}/{num_epochs}], Step [{i + 1}/{len(train_loader)}], Loss: {loss.item():.4f}')\n",
    "\n",
    "    # Calculate average training loss and accuracy\n",
    "    train_loss /= len(train_loader.dataset)\n",
    "    train_accuracy = correct_train / total_train\n",
    "    train_losses.append(train_loss)\n",
    "    train_accuracies.append(train_accuracy)\n",
    "    \n",
    "    # Validation phase\n",
    "    model.eval()\n",
    "    val_loss = 0.0\n",
    "    correct_val = 0\n",
    "    total_val = 0\n",
    "    with torch.no_grad():\n",
    "        for i, (inputs, labels) in enumerate(val_loader):\n",
    "            inputs = inputs.to(device)\n",
    "            labels = labels.to(device)\n",
    "\n",
    "            # Forward pass\n",
    "            outputs = model(inputs)\n",
    "            loss = criterion(outputs, labels)\n",
    "\n",
    "            val_loss += loss.item() * inputs.size(0)\n",
    "\n",
    "            # Calculate accuracy\n",
    "            _, predicted = torch.max(outputs, 1)\n",
    "            total_val += labels.size(0)\n",
    "            correct_val += (predicted == labels).sum().item()\n",
    "\n",
    "    # Print validation statistics\n",
    "    val_loss /= len(val_loader.dataset)\n",
    "    val_accuracy = correct_val / total_val\n",
    "    val_losses.append(val_loss)\n",
    "    val_accuracies.append(val_accuracy)\n",
    "    print(f'Validation - Epoch [{epoch + 1}/{num_epochs}], Loss: {val_loss:.4f}, Accuracy: {val_accuracy:.4f}')\n",
    "\n",
    "    # Save the model if validation loss decreases\n",
    "    if val_loss < best_val_loss:\n",
    "        best_val_loss = val_loss\n",
    "        torch.save(model.state_dict(), f'../../models/{scope}/{model_name}_font_classifier_{type}.pth')\n",
    "        print(f'Model saved as {model_name}_font_classifier_{type}.pth')\n",
    "\n",
    "end_time = time.time()"
   ]
  },
  {
   "cell_type": "markdown",
   "id": "2f8d840ac9117197",
   "metadata": {
    "collapsed": false
   },
   "source": [
    "# Plot the training and validation metrics"
   ]
  },
  {
   "cell_type": "code",
   "execution_count": 8,
   "id": "2fb4051fe48bcb0f",
   "metadata": {
    "ExecuteTime": {
     "end_time": "2024-04-23T17:01:41.802066Z",
     "start_time": "2024-04-23T17:01:41.430454Z"
    },
    "collapsed": false
   },
   "outputs": [
    {
     "data": {
      "image/png": "[encoded data removed]",
      "text/plain": [
       "<Figure size 1200x500 with 2 Axes>"
      ]
     },
     "metadata": {},
     "output_type": "display_data"
    },
    {
     "name": "stdout",
     "output_type": "stream",
     "text": [
      "Finished Training\n",
      "Time taken for training: 10369.64 seconds\n",
      "Medium time per epoch: 172.83 seconds\n"
     ]
    }
   ],
   "source": [
    "# Plotting\n",
    "plt.figure(figsize=(12, 5))\n",
    "plt.subplot(1, 2, 1)\n",
    "plt.plot(range(1, num_epochs + 1), train_losses, label='Training Loss')\n",
    "plt.plot(range(1, num_epochs + 1), val_losses, label='Validation Loss')\n",
    "plt.xlabel('Epochs')\n",
    "plt.ylabel('Loss')\n",
    "plt.title('Training and Validation Loss')\n",
    "plt.legend()\n",
    "\n",
    "plt.subplot(1, 2, 2)\n",
    "plt.plot(range(1, num_epochs + 1), train_accuracies, label='Training Accuracy')\n",
    "plt.plot(range(1, num_epochs + 1), val_accuracies, label='Validation Accuracy')\n",
    "plt.xlabel('Epochs')\n",
    "plt.ylabel('Accuracy')\n",
    "plt.title('Training and Validation Accuracy')\n",
    "plt.legend()\n",
    "\n",
    "plt.tight_layout()\n",
    "plt.show()\n",
    "\n",
    "print('Finished Training')\n",
    "\n",
    "# Print the time taken for training\n",
    "print(f'Time taken for training: {end_time - start_time:.2f} seconds')\n",
    "## Print medium time per epoch\n",
    "print(f'Medium time per epoch: {(end_time - start_time)/num_epochs:.2f} seconds')"
   ]
  },
  {
   "cell_type": "markdown",
   "id": "5d1120839a43965",
   "metadata": {
    "collapsed": false
   },
   "source": [
    "# Evaluate the model"
   ]
  },
  {
   "cell_type": "markdown",
   "id": "f38ec7e7c9fc2bd2",
   "metadata": {
    "collapsed": false
   },
   "source": [
    "## Load the model"
   ]
  },
  {
   "cell_type": "code",
   "execution_count": 9,
   "id": "2d59abb3cc4d4ab1",
   "metadata": {
    "ExecuteTime": {
     "end_time": "2024-04-23T17:01:41.882066Z",
     "start_time": "2024-04-23T17:01:41.803067Z"
    },
    "collapsed": false
   },
   "outputs": [
    {
     "name": "stdout",
     "output_type": "stream",
     "text": [
      "Model loaded from ../../models/Preprocessing/mobilenet_v3_small_font_classifier_Padded.pth\n"
     ]
    }
   ],
   "source": [
    "# Load the model\n",
    "model_path = f'../../models/{scope}/{model_name}_font_classifier_{type}.pth'\n",
    "model = models.__dict__[model_name](weights=None)\n",
    "model.load_state_dict(torch.load(model_path))\n",
    "model = model.to(device)\n",
    "print(f'Model loaded from {model_path}')"
   ]
  },
  {
   "cell_type": "markdown",
   "id": "c4fb0a8cc4c7aaaf",
   "metadata": {
    "collapsed": false
   },
   "source": [
    "## Evaluate the model\n",
    "Evaluate the model using the test set. We will compute the accuracy, precision, recall, F1-score, confusion matrix, and ROC curve."
   ]
  },
  {
   "cell_type": "code",
   "execution_count": 10,
   "id": "d94dccfec1ca328d",
   "metadata": {
    "ExecuteTime": {
     "end_time": "2024-04-23T17:01:44.420463Z",
     "start_time": "2024-04-23T17:01:41.883066Z"
    },
    "collapsed": false
   },
   "outputs": [],
   "source": [
    "# Set the model to evaluation mode\n",
    "model.eval()\n",
    "\n",
    "# Initialize lists for true labels and predicted labels\n",
    "true_labels = []\n",
    "predicted_labels = []\n",
    "\n",
    "# Disable gradient computation for evaluation\n",
    "with torch.no_grad():\n",
    "    for images, labels in test_loader:\n",
    "        images = images.to(device)\n",
    "        labels = labels.to(device)\n",
    "\n",
    "        # Perform inference\n",
    "        outputs = model(images)\n",
    "        \n",
    "        # Compute predicted labels\n",
    "        _, predicted = torch.max(outputs.data, 1)\n",
    "        \n",
    "        # Append true and predicted labels to lists\n",
    "        true_labels.extend(labels.cpu().numpy())\n",
    "        predicted_labels.extend(predicted.cpu().numpy())\n",
    "\n",
    "# Convert lists to numpy arrays\n",
    "true_labels = np.array(true_labels)\n",
    "predicted_labels = np.array(predicted_labels)"
   ]
  },
  {
   "cell_type": "markdown",
   "id": "7fc2137e6729efa2",
   "metadata": {
    "collapsed": false
   },
   "source": [
    "## Compute metrics\n",
    "### Accuracy"
   ]
  },
  {
   "cell_type": "code",
   "execution_count": 11,
   "id": "101581d76f4e9326",
   "metadata": {
    "ExecuteTime": {
     "end_time": "2024-04-23T17:01:44.436463Z",
     "start_time": "2024-04-23T17:01:44.421465Z"
    },
    "collapsed": false
   },
   "outputs": [
    {
     "name": "stdout",
     "output_type": "stream",
     "text": [
      "Accuracy: 98.84%\n"
     ]
    }
   ],
   "source": [
    "accuracy = accuracy_score(true_labels, predicted_labels)\n",
    "print('Accuracy: {:.2f}%'.format(100 * accuracy))"
   ]
  },
  {
   "cell_type": "markdown",
   "id": "8c872a168687bbb9",
   "metadata": {
    "collapsed": false
   },
   "source": [
    "### Precision"
   ]
  },
  {
   "cell_type": "code",
   "execution_count": 12,
   "id": "c0a1514893d52da3",
   "metadata": {
    "ExecuteTime": {
     "end_time": "2024-04-23T17:01:44.452465Z",
     "start_time": "2024-04-23T17:01:44.438465Z"
    },
    "collapsed": false
   },
   "outputs": [
    {
     "name": "stdout",
     "output_type": "stream",
     "text": [
      "Precision: 0.99\n"
     ]
    }
   ],
   "source": [
    "precision = precision_score(true_labels, predicted_labels, average='weighted')\n",
    "print('Precision: {:.2f}'.format(precision))"
   ]
  },
  {
   "cell_type": "markdown",
   "id": "2d6709ac0ed49e7d",
   "metadata": {
    "collapsed": false
   },
   "source": [
    "### Recall"
   ]
  },
  {
   "cell_type": "code",
   "execution_count": 13,
   "id": "cbe9cce2d6d4b849",
   "metadata": {
    "ExecuteTime": {
     "end_time": "2024-04-23T17:01:44.468464Z",
     "start_time": "2024-04-23T17:01:44.453464Z"
    },
    "collapsed": false
   },
   "outputs": [
    {
     "name": "stdout",
     "output_type": "stream",
     "text": [
      "Recall: 0.99\n"
     ]
    }
   ],
   "source": [
    "recall = recall_score(true_labels, predicted_labels, average='weighted')\n",
    "print('Recall: {:.2f}'.format(recall))"
   ]
  },
  {
   "cell_type": "markdown",
   "id": "a6a9ab8eaf4a00c9",
   "metadata": {
    "collapsed": false
   },
   "source": [
    "### F1-score"
   ]
  },
  {
   "cell_type": "code",
   "execution_count": 14,
   "id": "2a87268c3e7e9e88",
   "metadata": {
    "ExecuteTime": {
     "end_time": "2024-04-23T17:01:44.484464Z",
     "start_time": "2024-04-23T17:01:44.469464Z"
    },
    "collapsed": false
   },
   "outputs": [
    {
     "name": "stdout",
     "output_type": "stream",
     "text": [
      "F1-score: 0.99\n"
     ]
    }
   ],
   "source": [
    "f1 = f1_score(true_labels, predicted_labels, average='weighted')\n",
    "print('F1-score: {:.2f}'.format(f1))"
   ]
  },
  {
   "cell_type": "markdown",
   "id": "3687c7ed9e290b52",
   "metadata": {
    "collapsed": false
   },
   "source": [
    "### Confusion matrix"
   ]
  },
  {
   "cell_type": "code",
   "execution_count": 15,
   "id": "6a06849bad215169",
   "metadata": {
    "ExecuteTime": {
     "end_time": "2024-04-23T17:01:44.942538Z",
     "start_time": "2024-04-23T17:01:44.486464Z"
    },
    "collapsed": false
   },
   "outputs": [
    {
     "name": "stdout",
     "output_type": "stream",
     "text": [
      "Confusion Matrix:\n"
     ]
    },
    {
     "data": {
      "image/png": "[encoded data removed]",
      "text/plain": [
       "<Figure size 640x480 with 1 Axes>"
      ]
     },
     "metadata": {},
     "output_type": "display_data"
    }
   ],
   "source": [
    "conf_matrix = confusion_matrix(true_labels, predicted_labels)\n",
    "print(f'Confusion Matrix:')\n",
    "sns.heatmap(conf_matrix, annot=True, cmap='Blues', fmt='g', cbar=False, xticklabels=class_names, yticklabels=class_names)\n",
    "plt.title('Confusion Matrix')\n",
    "plt.xlabel('Predicted Label')\n",
    "plt.ylabel('True Label')\n",
    "plt.show()"
   ]
  },
  {
   "cell_type": "markdown",
   "id": "8f7a1268072e6e09",
   "metadata": {
    "collapsed": false
   },
   "source": [
    "### ROC curve"
   ]
  },
  {
   "cell_type": "code",
   "execution_count": 16,
   "id": "6c7b4767f613c314",
   "metadata": {
    "ExecuteTime": {
     "end_time": "2024-04-23T17:01:45.115080Z",
     "start_time": "2024-04-23T17:01:44.943539Z"
    },
    "collapsed": false
   },
   "outputs": [
    {
     "data": {
      "text/plain": [
       "[<matplotlib.lines.Line2D at 0x22ae517c9b0>]"
      ]
     },
     "execution_count": 16,
     "metadata": {},
     "output_type": "execute_result"
    },
    {
     "data": {
      "image/png": "[encoded data removed]",
      "text/plain": [
       "<Figure size 640x480 with 1 Axes>"
      ]
     },
     "metadata": {},
     "output_type": "display_data"
    }
   ],
   "source": [
    "# Binarize the true labels\n",
    "true_labels_binarized = label_binarize(true_labels, classes=range(len(class_names)))\n",
    "\n",
    "# Binarize the predicted labels\n",
    "predicted_labels_binarized = label_binarize(predicted_labels, classes=range(len(class_names)))\n",
    "\n",
    "# Compute the ROC curve\n",
    "fpr = dict()\n",
    "tpr = dict()\n",
    "roc_auc = dict()\n",
    "for i in range(len(class_names)):\n",
    "    fpr[i], tpr[i], _ = roc_curve(true_labels_binarized[:, i], predicted_labels_binarized[:, i])\n",
    "    roc_auc[i] = auc(fpr[i], tpr[i])\n",
    "    \n",
    "# Plot the ROC curve\n",
    "plt.figure()\n",
    "for i in range(len(class_names)):\n",
    "    plt.plot(fpr[i], tpr[i], lw=2, label=f'ROC curve for class {class_names[i]} (area = {roc_auc[i]:0.2f})')\n",
    "plt.plot([0, 1], [0, 1], 'k--', lw=2)"
   ]
  },
  {
   "cell_type": "markdown",
   "id": "c4d8c6f85ef0d72c",
   "metadata": {
    "collapsed": false
   },
   "source": []
  }
 ],
 "metadata": {
  "kernelspec": {
   "display_name": "Python 3",
   "language": "python",
   "name": "python3"
  },
  "language_info": {
   "codemirror_mode": {
    "name": "ipython",
    "version": 3
   },
   "file_extension": ".py",
   "mimetype": "text/x-python",
   "name": "python",
   "nbconvert_exporter": "python",
   "pygments_lexer": "ipython3",
   "version": "3.12.1"
  }
 },
 "nbformat": 4,
 "nbformat_minor": 5
}
