{
 "cells": [
  {
   "cell_type": "markdown",
   "source": [
    "# Font Classification with PyTorch and MobileNetV3\n",
    "In this notebook, we will use the PyTorch deep learning framework to train a MobileNetV3 model to classify fonts. We will use the `torchvision` library to load the dataset and the `sklearn` library to evaluate the model using accuracy, precision, recall, F1-score, and the ROC curve. We will also visualize the confusion matrix to understand the model's performance on each class."
   ],
   "metadata": {
    "collapsed": false
   },
   "id": "4ac20b28058858bd"
  },
  {
   "cell_type": "markdown",
   "source": [
    "# Imports\n",
    "Import of the necessary libraries"
   ],
   "metadata": {
    "collapsed": false
   },
   "id": "705740ac830b5b02"
  },
  {
   "cell_type": "code",
   "outputs": [],
   "source": [
    "import numpy as np\n",
    "from torchvision import datasets, transforms\n",
    "from sklearn.metrics import accuracy_score, precision_score, recall_score, f1_score, confusion_matrix\n",
    "import seaborn as sns\n",
    "import matplotlib.pyplot as plt\n",
    "import torch\n",
    "from torchvision import models\n",
    "from torch.utils.data import DataLoader\n",
    "from sklearn.metrics import roc_curve, auc\n",
    "from sklearn.preprocessing import label_binarize\n",
    "import time\n",
    "from sys import platform"
   ],
   "metadata": {
    "collapsed": false,
    "ExecuteTime": {
     "end_time": "2024-04-23T16:22:47.790654Z",
     "start_time": "2024-04-23T16:22:47.784653Z"
    }
   },
   "id": "cd70965188811652",
   "execution_count": 34
  },
  {
   "cell_type": "markdown",
   "source": [
    "# Model choice\n",
    "Choose the model to use for training. In this case, we will use the MobileNetV3 model."
   ],
   "metadata": {
    "collapsed": false
   },
   "id": "89723516c4abb2e6"
  },
  {
   "cell_type": "code",
   "outputs": [
    {
     "name": "stdout",
     "output_type": "stream",
     "text": [
      "Using model: mobilenet_v3_small\n"
     ]
    }
   ],
   "source": [
    "model_name = 'mobilenet_v3_small'\n",
    "print(f'Using model: {model_name}')"
   ],
   "metadata": {
    "collapsed": false,
    "ExecuteTime": {
     "end_time": "2024-04-23T16:22:47.836652Z",
     "start_time": "2024-04-23T16:22:47.829653Z"
    }
   },
   "id": "ef4e56728f9785b4",
   "execution_count": 35
  },
  {
   "cell_type": "markdown",
   "source": [
    "# Loading and preparing the dataset\n",
    "Load the dataset and prepare it for training. We will resize the images to a fixed size, convert them to tensors, and normalize the pixel values.\n",
    "\n",
    "## Preprocessing\n",
    "1. Resize the images to a fixed size\n",
    "2. Convert the images to tensors\n",
    "3. Normalize the pixel values"
   ],
   "metadata": {
    "collapsed": false
   },
   "id": "b2dabad339631e94"
  },
  {
   "cell_type": "code",
   "outputs": [],
   "source": [
    "# From the dataset, we know that the images have a height of 32 pixels and a width (on average) of 150 pixels\n",
    "image_height = 32\n",
    "image_width = 150\n",
    "\n",
    "# Define the percentage of the dataset to use for training\n",
    "train_size_perc = 0.7\n",
    "\n",
    "# Set the seed for reproducibility\n",
    "torch.manual_seed(0)\n",
    "\n",
    "# Define transformations for preprocessing\n",
    "transform = transforms.Compose([\n",
    "    transforms.Resize((image_height, image_width)),  # Resize images to a fixed size\n",
    "    transforms.ToTensor(),                           # Convert images to tensors\n",
    "    transforms.Normalize(mean=[0.25, 0.25, 0.25],      # Normalize pixel values\n",
    "                         std=[0.25, 0.25, 0.25])])"
   ],
   "metadata": {
    "collapsed": false,
    "ExecuteTime": {
     "end_time": "2024-04-23T16:22:47.852653Z",
     "start_time": "2024-04-23T16:22:47.839653Z"
    }
   },
   "id": "cdc44275b7dbe9ba",
   "execution_count": 36
  },
  {
   "cell_type": "markdown",
   "source": [
    "## Load the dataset\n",
    "Load the dataset using the `ImageFolder` class from `torchvision`. We will split the dataset into training, validation, and test sets. We will use 70% of the dataset for training, 15% for validation, and 15% for testing."
   ],
   "metadata": {
    "collapsed": false
   },
   "id": "8906c87c81b7569c"
  },
  {
   "cell_type": "code",
   "outputs": [],
   "source": [
    "# Path to the dataset\n",
    "data_dir = '../../fonts'\n",
    "\n",
    "# Notebook scope and type\n",
    "scope = 'Preprocessing'\n",
    "type = 'Resize'\n",
    "\n",
    "# Load the dataset using ImageFolder\n",
    "dataset = datasets.ImageFolder(root=data_dir, transform=transform)\n",
    "\n",
    "# Define the sizes of the training, validation, and test sets\n",
    "train_size = int(train_size_perc * len(dataset))  # 70% of the dataset for training\n",
    "val_size = int(((1.0 - train_size_perc)/2) * len(dataset))    # 15% for validation\n",
    "test_size = len(dataset) - train_size - val_size  # Remaining for test (15%)\n",
    "\n",
    "# Split the dataset into training, validation, and test sets\n",
    "train_dataset, val_dataset, test_dataset = torch.utils.data.random_split(\n",
    "    dataset, [train_size, val_size, test_size])\n",
    "\n",
    "# Define the batch size as a percentage of the training set, in this case 1%\n",
    "batch_size = int(train_size * 0.01)\n",
    "\n",
    "# Create data loaders for training, validation, and test sets\n",
    "train_loader = torch.utils.data.DataLoader(train_dataset, batch_size=batch_size, shuffle=True)\n",
    "val_loader = torch.utils.data.DataLoader(val_dataset, batch_size=batch_size, shuffle=True)\n",
    "test_loader = torch.utils.data.DataLoader(test_dataset, batch_size=batch_size, shuffle=False)"
   ],
   "metadata": {
    "collapsed": false,
    "ExecuteTime": {
     "end_time": "2024-04-23T16:22:47.928653Z",
     "start_time": "2024-04-23T16:22:47.853653Z"
    }
   },
   "id": "9d9c8c978a1ebdbd",
   "execution_count": 37
  },
  {
   "cell_type": "markdown",
   "source": [
    "## Dataset information"
   ],
   "metadata": {
    "collapsed": false
   },
   "id": "afdcf3568e6bb0e6"
  },
  {
   "cell_type": "code",
   "outputs": [
    {
     "name": "stdout",
     "output_type": "stream",
     "text": [
      "Number of images: 15000\n",
      "Number of batches: 100\n",
      "Batch size: 105\n",
      "Number of training images: 10500\n",
      "Number of validation images: 2250\n",
      "Number of test images: 2250\n",
      "Class names: ['Algerian', 'Arial', 'Baskerville', 'Calibry', 'Calligraphy', 'Cambria', 'Comic Sans MS', 'Courier', 'Elephant', 'Fascinate', 'Georgia', 'Helvetica', 'Lucida Bright', 'Nasalization', 'Times New Roman']\n"
     ]
    }
   ],
   "source": [
    "num_images = len(dataset)\n",
    "num_batches = len(train_loader)\n",
    "print(f'Number of images: {num_images}')\n",
    "print(f'Number of batches: {num_batches}')\n",
    "print(f'Batch size: {batch_size}')\n",
    "print(f'Number of training images: {len(train_dataset)}')\n",
    "print(f'Number of validation images: {len(val_dataset)}')\n",
    "print(f'Number of test images: {len(test_dataset)}')\n",
    "\n",
    "# Get the class names\n",
    "class_names = dataset.classes\n",
    "print(f'Class names: {class_names}')"
   ],
   "metadata": {
    "collapsed": false,
    "ExecuteTime": {
     "end_time": "2024-04-23T16:22:47.944075Z",
     "start_time": "2024-04-23T16:22:47.929654Z"
    }
   },
   "id": "1975b1b1848ca2ac",
   "execution_count": 38
  },
  {
   "cell_type": "markdown",
   "source": [
    "# Loading the model\n",
    "Load the MobileNetV3 model and move it to the device (CPU or GPU)."
   ],
   "metadata": {
    "collapsed": false
   },
   "id": "bd836b0d47a237ba"
  },
  {
   "cell_type": "code",
   "outputs": [
    {
     "name": "stdout",
     "output_type": "stream",
     "text": [
      "Model moved to cpu\n"
     ]
    }
   ],
   "source": [
    "# Load the model and replace the fully connected layer\n",
    "model = models.__dict__[model_name](weights=None)\n",
    "\n",
    "# Move model to the device (CPU or GPU)\n",
    "if platform != \"win32\":\n",
    "    device = torch.device('mps' if torch.backends.mps.is_available() else 'cpu')\n",
    "else:\n",
    "    device = torch.device('gpu' if torch.cuda.is_available() else 'cpu')\n",
    "model = model.to(device)\n",
    "print(f'Model moved to {device}')"
   ],
   "metadata": {
    "collapsed": false,
    "ExecuteTime": {
     "end_time": "2024-04-23T16:22:48.415776Z",
     "start_time": "2024-04-23T16:22:47.946075Z"
    }
   },
   "id": "8e9ad926f379fab5",
   "execution_count": 39
  },
  {
   "cell_type": "markdown",
   "source": [
    "# Training the model\n",
    "Train the model using the training set and validate it using the validation set. We will use the Adam optimizer and the CrossEntropy loss function. We will save the model with the lowest validation loss."
   ],
   "metadata": {
    "collapsed": false
   },
   "id": "eebc3e7a492ce85"
  },
  {
   "cell_type": "code",
   "outputs": [
    {
     "name": "stdout",
     "output_type": "stream",
     "text": [
      "Epoch 1\n",
      "-------------------------------\n",
      "Training - Epoch [1/60], Step [10/100], Loss: 4.1988\n",
      "Training - Epoch [1/60], Step [20/100], Loss: 2.4730\n",
      "Training - Epoch [1/60], Step [30/100], Loss: 2.0849\n",
      "Training - Epoch [1/60], Step [40/100], Loss: 1.8146\n",
      "Training - Epoch [1/60], Step [50/100], Loss: 1.7677\n",
      "Training - Epoch [1/60], Step [60/100], Loss: 1.3717\n",
      "Training - Epoch [1/60], Step [70/100], Loss: 1.3519\n",
      "Training - Epoch [1/60], Step [80/100], Loss: 1.1519\n",
      "Training - Epoch [1/60], Step [90/100], Loss: 0.9654\n",
      "Training - Epoch [1/60], Step [100/100], Loss: 1.0575\n",
      "Validation - Epoch [1/60], Loss: 3.1553, Accuracy: 0.0662\n",
      "Model saved as mobilenet_v3_small_font_classifier_Resize.pth\n",
      "Epoch 2\n",
      "-------------------------------\n",
      "Training - Epoch [2/60], Step [10/100], Loss: 0.7630\n",
      "Training - Epoch [2/60], Step [20/100], Loss: 1.0242\n",
      "Training - Epoch [2/60], Step [30/100], Loss: 0.6787\n",
      "Training - Epoch [2/60], Step [40/100], Loss: 0.7117\n",
      "Training - Epoch [2/60], Step [50/100], Loss: 0.7226\n",
      "Training - Epoch [2/60], Step [60/100], Loss: 1.0557\n",
      "Training - Epoch [2/60], Step [70/100], Loss: 0.5676\n",
      "Training - Epoch [2/60], Step [80/100], Loss: 0.4627\n",
      "Training - Epoch [2/60], Step [90/100], Loss: 0.5912\n",
      "Training - Epoch [2/60], Step [100/100], Loss: 0.6867\n",
      "Validation - Epoch [2/60], Loss: 3.2171, Accuracy: 0.0720\n",
      "Epoch 3\n",
      "-------------------------------\n",
      "Training - Epoch [3/60], Step [10/100], Loss: 0.6547\n",
      "Training - Epoch [3/60], Step [20/100], Loss: 0.6959\n",
      "Training - Epoch [3/60], Step [30/100], Loss: 0.6098\n",
      "Training - Epoch [3/60], Step [40/100], Loss: 0.4721\n",
      "Training - Epoch [3/60], Step [50/100], Loss: 0.2824\n",
      "Training - Epoch [3/60], Step [60/100], Loss: 0.2952\n",
      "Training - Epoch [3/60], Step [70/100], Loss: 0.4399\n",
      "Training - Epoch [3/60], Step [80/100], Loss: 0.2571\n",
      "Training - Epoch [3/60], Step [90/100], Loss: 0.2264\n",
      "Training - Epoch [3/60], Step [100/100], Loss: 0.3948\n",
      "Validation - Epoch [3/60], Loss: 3.2715, Accuracy: 0.0720\n",
      "Epoch 4\n",
      "-------------------------------\n",
      "Training - Epoch [4/60], Step [10/100], Loss: 0.2095\n",
      "Training - Epoch [4/60], Step [20/100], Loss: 0.2396\n",
      "Training - Epoch [4/60], Step [30/100], Loss: 0.1797\n",
      "Training - Epoch [4/60], Step [40/100], Loss: 0.3036\n",
      "Training - Epoch [4/60], Step [50/100], Loss: 0.3160\n",
      "Training - Epoch [4/60], Step [60/100], Loss: 0.2188\n",
      "Training - Epoch [4/60], Step [70/100], Loss: 0.0847\n",
      "Training - Epoch [4/60], Step [80/100], Loss: 0.1245\n",
      "Training - Epoch [4/60], Step [90/100], Loss: 0.1922\n",
      "Training - Epoch [4/60], Step [100/100], Loss: 0.3048\n",
      "Validation - Epoch [4/60], Loss: 3.0940, Accuracy: 0.0720\n",
      "Model saved as mobilenet_v3_small_font_classifier_Resize.pth\n",
      "Epoch 5\n",
      "-------------------------------\n",
      "Training - Epoch [5/60], Step [10/100], Loss: 0.1708\n",
      "Training - Epoch [5/60], Step [20/100], Loss: 0.1386\n",
      "Training - Epoch [5/60], Step [30/100], Loss: 0.3781\n",
      "Training - Epoch [5/60], Step [40/100], Loss: 0.3237\n",
      "Training - Epoch [5/60], Step [50/100], Loss: 0.0620\n",
      "Training - Epoch [5/60], Step [60/100], Loss: 0.4435\n",
      "Training - Epoch [5/60], Step [70/100], Loss: 0.1316\n",
      "Training - Epoch [5/60], Step [80/100], Loss: 0.1976\n",
      "Training - Epoch [5/60], Step [90/100], Loss: 0.0995\n",
      "Training - Epoch [5/60], Step [100/100], Loss: 0.1692\n",
      "Validation - Epoch [5/60], Loss: 1.9998, Accuracy: 0.2267\n",
      "Model saved as mobilenet_v3_small_font_classifier_Resize.pth\n",
      "Epoch 6\n",
      "-------------------------------\n",
      "Training - Epoch [6/60], Step [10/100], Loss: 0.0826\n",
      "Training - Epoch [6/60], Step [20/100], Loss: 0.0981\n",
      "Training - Epoch [6/60], Step [30/100], Loss: 0.1392\n",
      "Training - Epoch [6/60], Step [40/100], Loss: 0.2427\n",
      "Training - Epoch [6/60], Step [50/100], Loss: 0.1388\n",
      "Training - Epoch [6/60], Step [60/100], Loss: 0.0394\n",
      "Training - Epoch [6/60], Step [70/100], Loss: 0.2483\n",
      "Training - Epoch [6/60], Step [80/100], Loss: 0.1145\n",
      "Training - Epoch [6/60], Step [90/100], Loss: 0.0406\n",
      "Training - Epoch [6/60], Step [100/100], Loss: 0.2447\n",
      "Validation - Epoch [6/60], Loss: 0.6180, Accuracy: 0.7880\n",
      "Model saved as mobilenet_v3_small_font_classifier_Resize.pth\n",
      "Epoch 7\n",
      "-------------------------------\n",
      "Training - Epoch [7/60], Step [10/100], Loss: 0.1002\n",
      "Training - Epoch [7/60], Step [20/100], Loss: 0.0270\n",
      "Training - Epoch [7/60], Step [30/100], Loss: 0.0728\n",
      "Training - Epoch [7/60], Step [40/100], Loss: 0.1178\n",
      "Training - Epoch [7/60], Step [50/100], Loss: 0.1155\n",
      "Training - Epoch [7/60], Step [60/100], Loss: 0.2142\n",
      "Training - Epoch [7/60], Step [70/100], Loss: 0.0691\n",
      "Training - Epoch [7/60], Step [80/100], Loss: 0.3136\n",
      "Training - Epoch [7/60], Step [90/100], Loss: 0.0425\n",
      "Training - Epoch [7/60], Step [100/100], Loss: 0.0781\n",
      "Validation - Epoch [7/60], Loss: 0.2272, Accuracy: 0.9267\n",
      "Model saved as mobilenet_v3_small_font_classifier_Resize.pth\n",
      "Epoch 8\n",
      "-------------------------------\n",
      "Training - Epoch [8/60], Step [10/100], Loss: 0.0582\n",
      "Training - Epoch [8/60], Step [20/100], Loss: 0.0699\n",
      "Training - Epoch [8/60], Step [30/100], Loss: 0.0461\n",
      "Training - Epoch [8/60], Step [40/100], Loss: 0.0890\n",
      "Training - Epoch [8/60], Step [50/100], Loss: 0.1800\n",
      "Training - Epoch [8/60], Step [60/100], Loss: 0.0893\n",
      "Training - Epoch [8/60], Step [70/100], Loss: 0.1620\n",
      "Training - Epoch [8/60], Step [80/100], Loss: 0.1102\n",
      "Training - Epoch [8/60], Step [90/100], Loss: 0.0709\n",
      "Training - Epoch [8/60], Step [100/100], Loss: 0.0351\n",
      "Validation - Epoch [8/60], Loss: 0.4128, Accuracy: 0.8831\n",
      "Epoch 9\n",
      "-------------------------------\n",
      "Training - Epoch [9/60], Step [10/100], Loss: 0.1001\n",
      "Training - Epoch [9/60], Step [20/100], Loss: 0.1687\n",
      "Training - Epoch [9/60], Step [30/100], Loss: 0.0787\n",
      "Training - Epoch [9/60], Step [40/100], Loss: 0.0735\n",
      "Training - Epoch [9/60], Step [50/100], Loss: 0.0312\n",
      "Training - Epoch [9/60], Step [60/100], Loss: 0.0411\n",
      "Training - Epoch [9/60], Step [70/100], Loss: 0.0303\n",
      "Training - Epoch [9/60], Step [80/100], Loss: 0.0870\n",
      "Training - Epoch [9/60], Step [90/100], Loss: 0.0090\n",
      "Training - Epoch [9/60], Step [100/100], Loss: 0.0230\n",
      "Validation - Epoch [9/60], Loss: 0.2866, Accuracy: 0.9258\n",
      "Epoch 10\n",
      "-------------------------------\n",
      "Training - Epoch [10/60], Step [10/100], Loss: 0.0733\n",
      "Training - Epoch [10/60], Step [20/100], Loss: 0.2681\n",
      "Training - Epoch [10/60], Step [30/100], Loss: 0.1239\n",
      "Training - Epoch [10/60], Step [40/100], Loss: 0.1149\n",
      "Training - Epoch [10/60], Step [50/100], Loss: 0.0429\n",
      "Training - Epoch [10/60], Step [60/100], Loss: 0.1549\n",
      "Training - Epoch [10/60], Step [70/100], Loss: 0.0357\n",
      "Training - Epoch [10/60], Step [80/100], Loss: 0.0467\n",
      "Training - Epoch [10/60], Step [90/100], Loss: 0.0431\n",
      "Training - Epoch [10/60], Step [100/100], Loss: 0.0473\n",
      "Validation - Epoch [10/60], Loss: 0.5645, Accuracy: 0.9004\n",
      "Epoch 11\n",
      "-------------------------------\n",
      "Training - Epoch [11/60], Step [10/100], Loss: 0.0580\n",
      "Training - Epoch [11/60], Step [20/100], Loss: 0.0676\n",
      "Training - Epoch [11/60], Step [30/100], Loss: 0.0099\n",
      "Training - Epoch [11/60], Step [40/100], Loss: 0.0465\n",
      "Training - Epoch [11/60], Step [50/100], Loss: 0.0176\n",
      "Training - Epoch [11/60], Step [60/100], Loss: 0.0479\n",
      "Training - Epoch [11/60], Step [70/100], Loss: 0.0710\n",
      "Training - Epoch [11/60], Step [80/100], Loss: 0.0285\n",
      "Training - Epoch [11/60], Step [90/100], Loss: 0.0782\n",
      "Training - Epoch [11/60], Step [100/100], Loss: 0.0045\n",
      "Validation - Epoch [11/60], Loss: 0.2346, Accuracy: 0.9373\n",
      "Epoch 12\n",
      "-------------------------------\n",
      "Training - Epoch [12/60], Step [10/100], Loss: 0.0233\n",
      "Training - Epoch [12/60], Step [20/100], Loss: 0.0467\n",
      "Training - Epoch [12/60], Step [30/100], Loss: 0.0594\n",
      "Training - Epoch [12/60], Step [40/100], Loss: 0.0566\n",
      "Training - Epoch [12/60], Step [50/100], Loss: 0.0147\n",
      "Training - Epoch [12/60], Step [60/100], Loss: 0.0325\n",
      "Training - Epoch [12/60], Step [70/100], Loss: 0.0373\n",
      "Training - Epoch [12/60], Step [80/100], Loss: 0.0389\n",
      "Training - Epoch [12/60], Step [90/100], Loss: 0.0939\n",
      "Training - Epoch [12/60], Step [100/100], Loss: 0.0084\n",
      "Validation - Epoch [12/60], Loss: 0.0913, Accuracy: 0.9733\n",
      "Model saved as mobilenet_v3_small_font_classifier_Resize.pth\n",
      "Epoch 13\n",
      "-------------------------------\n",
      "Training - Epoch [13/60], Step [10/100], Loss: 0.0208\n",
      "Training - Epoch [13/60], Step [20/100], Loss: 0.0429\n",
      "Training - Epoch [13/60], Step [30/100], Loss: 0.0095\n",
      "Training - Epoch [13/60], Step [40/100], Loss: 0.0032\n",
      "Training - Epoch [13/60], Step [50/100], Loss: 0.0113\n",
      "Training - Epoch [13/60], Step [60/100], Loss: 0.0210\n",
      "Training - Epoch [13/60], Step [70/100], Loss: 0.0109\n",
      "Training - Epoch [13/60], Step [80/100], Loss: 0.0159\n",
      "Training - Epoch [13/60], Step [90/100], Loss: 0.0748\n",
      "Training - Epoch [13/60], Step [100/100], Loss: 0.1128\n",
      "Validation - Epoch [13/60], Loss: 0.1493, Accuracy: 0.9604\n",
      "Epoch 14\n",
      "-------------------------------\n",
      "Training - Epoch [14/60], Step [10/100], Loss: 0.0083\n",
      "Training - Epoch [14/60], Step [20/100], Loss: 0.0903\n",
      "Training - Epoch [14/60], Step [30/100], Loss: 0.0168\n",
      "Training - Epoch [14/60], Step [40/100], Loss: 0.0597\n",
      "Training - Epoch [14/60], Step [50/100], Loss: 0.0131\n",
      "Training - Epoch [14/60], Step [60/100], Loss: 0.0188\n",
      "Training - Epoch [14/60], Step [70/100], Loss: 0.0353\n",
      "Training - Epoch [14/60], Step [80/100], Loss: 0.0836\n",
      "Training - Epoch [14/60], Step [90/100], Loss: 0.0220\n",
      "Training - Epoch [14/60], Step [100/100], Loss: 0.1062\n",
      "Validation - Epoch [14/60], Loss: 0.1271, Accuracy: 0.9658\n",
      "Epoch 15\n",
      "-------------------------------\n",
      "Training - Epoch [15/60], Step [10/100], Loss: 0.0514\n",
      "Training - Epoch [15/60], Step [20/100], Loss: 0.0539\n",
      "Training - Epoch [15/60], Step [30/100], Loss: 0.0377\n",
      "Training - Epoch [15/60], Step [40/100], Loss: 0.0993\n",
      "Training - Epoch [15/60], Step [50/100], Loss: 0.2053\n",
      "Training - Epoch [15/60], Step [60/100], Loss: 0.0915\n",
      "Training - Epoch [15/60], Step [70/100], Loss: 0.1902\n",
      "Training - Epoch [15/60], Step [80/100], Loss: 0.1850\n",
      "Training - Epoch [15/60], Step [90/100], Loss: 0.0495\n",
      "Training - Epoch [15/60], Step [100/100], Loss: 0.0826\n",
      "Validation - Epoch [15/60], Loss: 0.4566, Accuracy: 0.9107\n",
      "Epoch 16\n",
      "-------------------------------\n",
      "Training - Epoch [16/60], Step [10/100], Loss: 0.0257\n",
      "Training - Epoch [16/60], Step [20/100], Loss: 0.0383\n",
      "Training - Epoch [16/60], Step [30/100], Loss: 0.0988\n",
      "Training - Epoch [16/60], Step [40/100], Loss: 0.2162\n",
      "Training - Epoch [16/60], Step [50/100], Loss: 0.0196\n",
      "Training - Epoch [16/60], Step [60/100], Loss: 0.0071\n",
      "Training - Epoch [16/60], Step [70/100], Loss: 0.0120\n",
      "Training - Epoch [16/60], Step [80/100], Loss: 0.0383\n",
      "Training - Epoch [16/60], Step [90/100], Loss: 0.0192\n",
      "Training - Epoch [16/60], Step [100/100], Loss: 0.0013\n",
      "Validation - Epoch [16/60], Loss: 0.0978, Accuracy: 0.9747\n",
      "Epoch 17\n",
      "-------------------------------\n",
      "Training - Epoch [17/60], Step [10/100], Loss: 0.0458\n",
      "Training - Epoch [17/60], Step [20/100], Loss: 0.0115\n",
      "Training - Epoch [17/60], Step [30/100], Loss: 0.0671\n",
      "Training - Epoch [17/60], Step [40/100], Loss: 0.0280\n",
      "Training - Epoch [17/60], Step [50/100], Loss: 0.0038\n",
      "Training - Epoch [17/60], Step [60/100], Loss: 0.1282\n",
      "Training - Epoch [17/60], Step [70/100], Loss: 0.0787\n",
      "Training - Epoch [17/60], Step [80/100], Loss: 0.0108\n",
      "Training - Epoch [17/60], Step [90/100], Loss: 0.0298\n",
      "Training - Epoch [17/60], Step [100/100], Loss: 0.0762\n",
      "Validation - Epoch [17/60], Loss: 1.2157, Accuracy: 0.8369\n",
      "Epoch 18\n",
      "-------------------------------\n",
      "Training - Epoch [18/60], Step [10/100], Loss: 0.0695\n",
      "Training - Epoch [18/60], Step [20/100], Loss: 0.0033\n",
      "Training - Epoch [18/60], Step [30/100], Loss: 0.0359\n",
      "Training - Epoch [18/60], Step [40/100], Loss: 0.0557\n",
      "Training - Epoch [18/60], Step [50/100], Loss: 0.0617\n",
      "Training - Epoch [18/60], Step [60/100], Loss: 0.0039\n",
      "Training - Epoch [18/60], Step [70/100], Loss: 0.0526\n",
      "Training - Epoch [18/60], Step [80/100], Loss: 0.0112\n",
      "Training - Epoch [18/60], Step [90/100], Loss: 0.0699\n",
      "Training - Epoch [18/60], Step [100/100], Loss: 0.0125\n",
      "Validation - Epoch [18/60], Loss: 0.1224, Accuracy: 0.9680\n",
      "Epoch 19\n",
      "-------------------------------\n",
      "Training - Epoch [19/60], Step [10/100], Loss: 0.0101\n",
      "Training - Epoch [19/60], Step [20/100], Loss: 0.0101\n",
      "Training - Epoch [19/60], Step [30/100], Loss: 0.0317\n",
      "Training - Epoch [19/60], Step [40/100], Loss: 0.0321\n",
      "Training - Epoch [19/60], Step [50/100], Loss: 0.0265\n",
      "Training - Epoch [19/60], Step [60/100], Loss: 0.0037\n",
      "Training - Epoch [19/60], Step [70/100], Loss: 0.0064\n",
      "Training - Epoch [19/60], Step [80/100], Loss: 0.0419\n",
      "Training - Epoch [19/60], Step [90/100], Loss: 0.0158\n",
      "Training - Epoch [19/60], Step [100/100], Loss: 0.0935\n",
      "Validation - Epoch [19/60], Loss: 0.0705, Accuracy: 0.9831\n",
      "Model saved as mobilenet_v3_small_font_classifier_Resize.pth\n",
      "Epoch 20\n",
      "-------------------------------\n",
      "Training - Epoch [20/60], Step [10/100], Loss: 0.0148\n",
      "Training - Epoch [20/60], Step [20/100], Loss: 0.0166\n",
      "Training - Epoch [20/60], Step [30/100], Loss: 0.0223\n",
      "Training - Epoch [20/60], Step [40/100], Loss: 0.0982\n",
      "Training - Epoch [20/60], Step [50/100], Loss: 0.0479\n",
      "Training - Epoch [20/60], Step [60/100], Loss: 0.0022\n",
      "Training - Epoch [20/60], Step [70/100], Loss: 0.0061\n",
      "Training - Epoch [20/60], Step [80/100], Loss: 0.0305\n",
      "Training - Epoch [20/60], Step [90/100], Loss: 0.2560\n",
      "Training - Epoch [20/60], Step [100/100], Loss: 0.0213\n",
      "Validation - Epoch [20/60], Loss: 0.3480, Accuracy: 0.9156\n",
      "Epoch 21\n",
      "-------------------------------\n",
      "Training - Epoch [21/60], Step [10/100], Loss: 0.0472\n",
      "Training - Epoch [21/60], Step [20/100], Loss: 0.0232\n",
      "Training - Epoch [21/60], Step [30/100], Loss: 0.0449\n",
      "Training - Epoch [21/60], Step [40/100], Loss: 0.0234\n",
      "Training - Epoch [21/60], Step [50/100], Loss: 0.0199\n",
      "Training - Epoch [21/60], Step [60/100], Loss: 0.1001\n",
      "Training - Epoch [21/60], Step [70/100], Loss: 0.0055\n",
      "Training - Epoch [21/60], Step [80/100], Loss: 0.0413\n",
      "Training - Epoch [21/60], Step [90/100], Loss: 0.0477\n",
      "Training - Epoch [21/60], Step [100/100], Loss: 0.0663\n",
      "Validation - Epoch [21/60], Loss: 0.7750, Accuracy: 0.8436\n",
      "Epoch 22\n",
      "-------------------------------\n",
      "Training - Epoch [22/60], Step [10/100], Loss: 0.0453\n",
      "Training - Epoch [22/60], Step [20/100], Loss: 0.0107\n",
      "Training - Epoch [22/60], Step [30/100], Loss: 0.0795\n",
      "Training - Epoch [22/60], Step [40/100], Loss: 0.0477\n",
      "Training - Epoch [22/60], Step [50/100], Loss: 0.0070\n",
      "Training - Epoch [22/60], Step [60/100], Loss: 0.0060\n",
      "Training - Epoch [22/60], Step [70/100], Loss: 0.0038\n",
      "Training - Epoch [22/60], Step [80/100], Loss: 0.0555\n",
      "Training - Epoch [22/60], Step [90/100], Loss: 0.0013\n",
      "Training - Epoch [22/60], Step [100/100], Loss: 0.0005\n",
      "Validation - Epoch [22/60], Loss: 0.1084, Accuracy: 0.9778\n",
      "Epoch 23\n",
      "-------------------------------\n",
      "Training - Epoch [23/60], Step [10/100], Loss: 0.0004\n",
      "Training - Epoch [23/60], Step [20/100], Loss: 0.0038\n",
      "Training - Epoch [23/60], Step [30/100], Loss: 0.0046\n",
      "Training - Epoch [23/60], Step [40/100], Loss: 0.0206\n",
      "Training - Epoch [23/60], Step [50/100], Loss: 0.0170\n",
      "Training - Epoch [23/60], Step [60/100], Loss: 0.0271\n",
      "Training - Epoch [23/60], Step [70/100], Loss: 0.0336\n",
      "Training - Epoch [23/60], Step [80/100], Loss: 0.1162\n",
      "Training - Epoch [23/60], Step [90/100], Loss: 0.0765\n",
      "Training - Epoch [23/60], Step [100/100], Loss: 0.0205\n",
      "Validation - Epoch [23/60], Loss: 0.2053, Accuracy: 0.9556\n",
      "Epoch 24\n",
      "-------------------------------\n",
      "Training - Epoch [24/60], Step [10/100], Loss: 0.0045\n",
      "Training - Epoch [24/60], Step [20/100], Loss: 0.0275\n",
      "Training - Epoch [24/60], Step [30/100], Loss: 0.1095\n",
      "Training - Epoch [24/60], Step [40/100], Loss: 0.0171\n",
      "Training - Epoch [24/60], Step [50/100], Loss: 0.0324\n",
      "Training - Epoch [24/60], Step [60/100], Loss: 0.0450\n",
      "Training - Epoch [24/60], Step [70/100], Loss: 0.0735\n",
      "Training - Epoch [24/60], Step [80/100], Loss: 0.0133\n",
      "Training - Epoch [24/60], Step [90/100], Loss: 0.0251\n",
      "Training - Epoch [24/60], Step [100/100], Loss: 0.0394\n",
      "Validation - Epoch [24/60], Loss: 0.3243, Accuracy: 0.9467\n",
      "Epoch 25\n",
      "-------------------------------\n",
      "Training - Epoch [25/60], Step [10/100], Loss: 0.0027\n",
      "Training - Epoch [25/60], Step [20/100], Loss: 0.0546\n",
      "Training - Epoch [25/60], Step [30/100], Loss: 0.0029\n",
      "Training - Epoch [25/60], Step [40/100], Loss: 0.0061\n",
      "Training - Epoch [25/60], Step [50/100], Loss: 0.0350\n",
      "Training - Epoch [25/60], Step [60/100], Loss: 0.0393\n",
      "Training - Epoch [25/60], Step [70/100], Loss: 0.0155\n",
      "Training - Epoch [25/60], Step [80/100], Loss: 0.0072\n",
      "Training - Epoch [25/60], Step [90/100], Loss: 0.0112\n",
      "Training - Epoch [25/60], Step [100/100], Loss: 0.0018\n",
      "Validation - Epoch [25/60], Loss: 0.2157, Accuracy: 0.9591\n",
      "Epoch 26\n",
      "-------------------------------\n",
      "Training - Epoch [26/60], Step [10/100], Loss: 0.0202\n",
      "Training - Epoch [26/60], Step [20/100], Loss: 0.1344\n",
      "Training - Epoch [26/60], Step [30/100], Loss: 0.0168\n",
      "Training - Epoch [26/60], Step [40/100], Loss: 0.0007\n",
      "Training - Epoch [26/60], Step [50/100], Loss: 0.0027\n",
      "Training - Epoch [26/60], Step [60/100], Loss: 0.1364\n",
      "Training - Epoch [26/60], Step [70/100], Loss: 0.0158\n",
      "Training - Epoch [26/60], Step [80/100], Loss: 0.0065\n",
      "Training - Epoch [26/60], Step [90/100], Loss: 0.0061\n",
      "Training - Epoch [26/60], Step [100/100], Loss: 0.0031\n",
      "Validation - Epoch [26/60], Loss: 0.0871, Accuracy: 0.9800\n",
      "Epoch 27\n",
      "-------------------------------\n",
      "Training - Epoch [27/60], Step [10/100], Loss: 0.0010\n",
      "Training - Epoch [27/60], Step [20/100], Loss: 0.0015\n",
      "Training - Epoch [27/60], Step [30/100], Loss: 0.0137\n",
      "Training - Epoch [27/60], Step [40/100], Loss: 0.0076\n",
      "Training - Epoch [27/60], Step [50/100], Loss: 0.0931\n",
      "Training - Epoch [27/60], Step [60/100], Loss: 0.0178\n",
      "Training - Epoch [27/60], Step [70/100], Loss: 0.0109\n",
      "Training - Epoch [27/60], Step [80/100], Loss: 0.1593\n",
      "Training - Epoch [27/60], Step [90/100], Loss: 0.0708\n",
      "Training - Epoch [27/60], Step [100/100], Loss: 0.0129\n",
      "Validation - Epoch [27/60], Loss: 0.5382, Accuracy: 0.8893\n",
      "Epoch 28\n",
      "-------------------------------\n",
      "Training - Epoch [28/60], Step [10/100], Loss: 0.0151\n",
      "Training - Epoch [28/60], Step [20/100], Loss: 0.0105\n",
      "Training - Epoch [28/60], Step [30/100], Loss: 0.0413\n",
      "Training - Epoch [28/60], Step [40/100], Loss: 0.0505\n",
      "Training - Epoch [28/60], Step [50/100], Loss: 0.0048\n",
      "Training - Epoch [28/60], Step [60/100], Loss: 0.0557\n",
      "Training - Epoch [28/60], Step [70/100], Loss: 0.0105\n",
      "Training - Epoch [28/60], Step [80/100], Loss: 0.0048\n",
      "Training - Epoch [28/60], Step [90/100], Loss: 0.0388\n",
      "Training - Epoch [28/60], Step [100/100], Loss: 0.0273\n",
      "Validation - Epoch [28/60], Loss: 0.1149, Accuracy: 0.9733\n",
      "Epoch 29\n",
      "-------------------------------\n",
      "Training - Epoch [29/60], Step [10/100], Loss: 0.0022\n",
      "Training - Epoch [29/60], Step [20/100], Loss: 0.0247\n",
      "Training - Epoch [29/60], Step [30/100], Loss: 0.0281\n",
      "Training - Epoch [29/60], Step [40/100], Loss: 0.0295\n",
      "Training - Epoch [29/60], Step [50/100], Loss: 0.0031\n",
      "Training - Epoch [29/60], Step [60/100], Loss: 0.0029\n",
      "Training - Epoch [29/60], Step [70/100], Loss: 0.0197\n",
      "Training - Epoch [29/60], Step [80/100], Loss: 0.0057\n",
      "Training - Epoch [29/60], Step [90/100], Loss: 0.0015\n",
      "Training - Epoch [29/60], Step [100/100], Loss: 0.0026\n",
      "Validation - Epoch [29/60], Loss: 0.1205, Accuracy: 0.9702\n",
      "Epoch 30\n",
      "-------------------------------\n",
      "Training - Epoch [30/60], Step [10/100], Loss: 0.0545\n",
      "Training - Epoch [30/60], Step [20/100], Loss: 0.0007\n",
      "Training - Epoch [30/60], Step [30/100], Loss: 0.0515\n",
      "Training - Epoch [30/60], Step [40/100], Loss: 0.0008\n",
      "Training - Epoch [30/60], Step [50/100], Loss: 0.0034\n",
      "Training - Epoch [30/60], Step [60/100], Loss: 0.0019\n",
      "Training - Epoch [30/60], Step [70/100], Loss: 0.0016\n",
      "Training - Epoch [30/60], Step [80/100], Loss: 0.0453\n",
      "Training - Epoch [30/60], Step [90/100], Loss: 0.0460\n",
      "Training - Epoch [30/60], Step [100/100], Loss: 0.0200\n",
      "Validation - Epoch [30/60], Loss: 0.1756, Accuracy: 0.9627\n",
      "Epoch 31\n",
      "-------------------------------\n",
      "Training - Epoch [31/60], Step [10/100], Loss: 0.0091\n",
      "Training - Epoch [31/60], Step [20/100], Loss: 0.0047\n",
      "Training - Epoch [31/60], Step [30/100], Loss: 0.0014\n",
      "Training - Epoch [31/60], Step [40/100], Loss: 0.0061\n",
      "Training - Epoch [31/60], Step [50/100], Loss: 0.0121\n",
      "Training - Epoch [31/60], Step [60/100], Loss: 0.0012\n",
      "Training - Epoch [31/60], Step [70/100], Loss: 0.0208\n",
      "Training - Epoch [31/60], Step [80/100], Loss: 0.0023\n",
      "Training - Epoch [31/60], Step [90/100], Loss: 0.0022\n",
      "Training - Epoch [31/60], Step [100/100], Loss: 0.0222\n",
      "Validation - Epoch [31/60], Loss: 0.0981, Accuracy: 0.9751\n",
      "Epoch 32\n",
      "-------------------------------\n",
      "Training - Epoch [32/60], Step [10/100], Loss: 0.0277\n",
      "Training - Epoch [32/60], Step [20/100], Loss: 0.0008\n",
      "Training - Epoch [32/60], Step [30/100], Loss: 0.0037\n",
      "Training - Epoch [32/60], Step [40/100], Loss: 0.0011\n",
      "Training - Epoch [32/60], Step [50/100], Loss: 0.0005\n",
      "Training - Epoch [32/60], Step [60/100], Loss: 0.0188\n",
      "Training - Epoch [32/60], Step [70/100], Loss: 0.0496\n",
      "Training - Epoch [32/60], Step [80/100], Loss: 0.0763\n",
      "Training - Epoch [32/60], Step [90/100], Loss: 0.0245\n",
      "Training - Epoch [32/60], Step [100/100], Loss: 0.2262\n",
      "Validation - Epoch [32/60], Loss: 2.5078, Accuracy: 0.6924\n",
      "Epoch 33\n",
      "-------------------------------\n",
      "Training - Epoch [33/60], Step [10/100], Loss: 0.0128\n",
      "Training - Epoch [33/60], Step [20/100], Loss: 0.0254\n",
      "Training - Epoch [33/60], Step [30/100], Loss: 0.1159\n",
      "Training - Epoch [33/60], Step [40/100], Loss: 0.1975\n",
      "Training - Epoch [33/60], Step [50/100], Loss: 0.1205\n",
      "Training - Epoch [33/60], Step [60/100], Loss: 0.0364\n",
      "Training - Epoch [33/60], Step [70/100], Loss: 0.0364\n",
      "Training - Epoch [33/60], Step [80/100], Loss: 0.1551\n",
      "Training - Epoch [33/60], Step [90/100], Loss: 0.1755\n",
      "Training - Epoch [33/60], Step [100/100], Loss: 0.0122\n",
      "Validation - Epoch [33/60], Loss: 0.4255, Accuracy: 0.9280\n",
      "Epoch 34\n",
      "-------------------------------\n",
      "Training - Epoch [34/60], Step [10/100], Loss: 0.0202\n",
      "Training - Epoch [34/60], Step [20/100], Loss: 0.0137\n",
      "Training - Epoch [34/60], Step [30/100], Loss: 0.0188\n",
      "Training - Epoch [34/60], Step [40/100], Loss: 0.0083\n",
      "Training - Epoch [34/60], Step [50/100], Loss: 0.0006\n",
      "Training - Epoch [34/60], Step [60/100], Loss: 0.0051\n",
      "Training - Epoch [34/60], Step [70/100], Loss: 0.0296\n",
      "Training - Epoch [34/60], Step [80/100], Loss: 0.0174\n",
      "Training - Epoch [34/60], Step [90/100], Loss: 0.0318\n",
      "Training - Epoch [34/60], Step [100/100], Loss: 0.0086\n",
      "Validation - Epoch [34/60], Loss: 0.4717, Accuracy: 0.9267\n",
      "Epoch 35\n",
      "-------------------------------\n",
      "Training - Epoch [35/60], Step [10/100], Loss: 0.0252\n",
      "Training - Epoch [35/60], Step [20/100], Loss: 0.0156\n",
      "Training - Epoch [35/60], Step [30/100], Loss: 0.0337\n",
      "Training - Epoch [35/60], Step [40/100], Loss: 0.0135\n",
      "Training - Epoch [35/60], Step [50/100], Loss: 0.0937\n",
      "Training - Epoch [35/60], Step [60/100], Loss: 0.0253\n",
      "Training - Epoch [35/60], Step [70/100], Loss: 0.0620\n",
      "Training - Epoch [35/60], Step [80/100], Loss: 0.0085\n",
      "Training - Epoch [35/60], Step [90/100], Loss: 0.0062\n",
      "Training - Epoch [35/60], Step [100/100], Loss: 0.0424\n",
      "Validation - Epoch [35/60], Loss: 0.1573, Accuracy: 0.9676\n",
      "Epoch 36\n",
      "-------------------------------\n",
      "Training - Epoch [36/60], Step [10/100], Loss: 0.0054\n",
      "Training - Epoch [36/60], Step [20/100], Loss: 0.0048\n",
      "Training - Epoch [36/60], Step [30/100], Loss: 0.0308\n",
      "Training - Epoch [36/60], Step [40/100], Loss: 0.0151\n",
      "Training - Epoch [36/60], Step [50/100], Loss: 0.0444\n",
      "Training - Epoch [36/60], Step [60/100], Loss: 0.0017\n",
      "Training - Epoch [36/60], Step [70/100], Loss: 0.0414\n",
      "Training - Epoch [36/60], Step [80/100], Loss: 0.1339\n",
      "Training - Epoch [36/60], Step [90/100], Loss: 0.0165\n",
      "Training - Epoch [36/60], Step [100/100], Loss: 0.0378\n",
      "Validation - Epoch [36/60], Loss: 0.5850, Accuracy: 0.9093\n",
      "Epoch 37\n",
      "-------------------------------\n",
      "Training - Epoch [37/60], Step [10/100], Loss: 0.0009\n",
      "Training - Epoch [37/60], Step [20/100], Loss: 0.0231\n",
      "Training - Epoch [37/60], Step [30/100], Loss: 0.0015\n",
      "Training - Epoch [37/60], Step [40/100], Loss: 0.0050\n",
      "Training - Epoch [37/60], Step [50/100], Loss: 0.0139\n",
      "Training - Epoch [37/60], Step [60/100], Loss: 0.0007\n",
      "Training - Epoch [37/60], Step [70/100], Loss: 0.0024\n",
      "Training - Epoch [37/60], Step [80/100], Loss: 0.0010\n",
      "Training - Epoch [37/60], Step [90/100], Loss: 0.0014\n",
      "Training - Epoch [37/60], Step [100/100], Loss: 0.0007\n",
      "Validation - Epoch [37/60], Loss: 0.2075, Accuracy: 0.9604\n",
      "Epoch 38\n",
      "-------------------------------\n",
      "Training - Epoch [38/60], Step [10/100], Loss: 0.0077\n",
      "Training - Epoch [38/60], Step [20/100], Loss: 0.0121\n",
      "Training - Epoch [38/60], Step [30/100], Loss: 0.0164\n",
      "Training - Epoch [38/60], Step [40/100], Loss: 0.0058\n",
      "Training - Epoch [38/60], Step [50/100], Loss: 0.0020\n",
      "Training - Epoch [38/60], Step [60/100], Loss: 0.0006\n",
      "Training - Epoch [38/60], Step [70/100], Loss: 0.0251\n",
      "Training - Epoch [38/60], Step [80/100], Loss: 0.0071\n",
      "Training - Epoch [38/60], Step [90/100], Loss: 0.0178\n",
      "Training - Epoch [38/60], Step [100/100], Loss: 0.0013\n",
      "Validation - Epoch [38/60], Loss: 0.1423, Accuracy: 0.9667\n",
      "Epoch 39\n",
      "-------------------------------\n",
      "Training - Epoch [39/60], Step [10/100], Loss: 0.0139\n",
      "Training - Epoch [39/60], Step [20/100], Loss: 0.0080\n",
      "Training - Epoch [39/60], Step [30/100], Loss: 0.0105\n",
      "Training - Epoch [39/60], Step [40/100], Loss: 0.0326\n",
      "Training - Epoch [39/60], Step [50/100], Loss: 0.0212\n",
      "Training - Epoch [39/60], Step [60/100], Loss: 0.0235\n",
      "Training - Epoch [39/60], Step [70/100], Loss: 0.0058\n",
      "Training - Epoch [39/60], Step [80/100], Loss: 0.0346\n",
      "Training - Epoch [39/60], Step [90/100], Loss: 0.0016\n",
      "Training - Epoch [39/60], Step [100/100], Loss: 0.0061\n",
      "Validation - Epoch [39/60], Loss: 0.0956, Accuracy: 0.9782\n",
      "Epoch 40\n",
      "-------------------------------\n",
      "Training - Epoch [40/60], Step [10/100], Loss: 0.0076\n",
      "Training - Epoch [40/60], Step [20/100], Loss: 0.3880\n",
      "Training - Epoch [40/60], Step [30/100], Loss: 0.0098\n",
      "Training - Epoch [40/60], Step [40/100], Loss: 0.0266\n",
      "Training - Epoch [40/60], Step [50/100], Loss: 0.0573\n",
      "Training - Epoch [40/60], Step [60/100], Loss: 0.0020\n",
      "Training - Epoch [40/60], Step [70/100], Loss: 0.0328\n",
      "Training - Epoch [40/60], Step [80/100], Loss: 0.0607\n",
      "Training - Epoch [40/60], Step [90/100], Loss: 0.0319\n",
      "Training - Epoch [40/60], Step [100/100], Loss: 0.0302\n",
      "Validation - Epoch [40/60], Loss: 0.1161, Accuracy: 0.9756\n",
      "Epoch 41\n",
      "-------------------------------\n",
      "Training - Epoch [41/60], Step [10/100], Loss: 0.0080\n",
      "Training - Epoch [41/60], Step [20/100], Loss: 0.0009\n",
      "Training - Epoch [41/60], Step [30/100], Loss: 0.0009\n",
      "Training - Epoch [41/60], Step [40/100], Loss: 0.0014\n",
      "Training - Epoch [41/60], Step [50/100], Loss: 0.0039\n",
      "Training - Epoch [41/60], Step [60/100], Loss: 0.0036\n",
      "Training - Epoch [41/60], Step [70/100], Loss: 0.0035\n",
      "Training - Epoch [41/60], Step [80/100], Loss: 0.0228\n",
      "Training - Epoch [41/60], Step [90/100], Loss: 0.0973\n",
      "Training - Epoch [41/60], Step [100/100], Loss: 0.0550\n",
      "Validation - Epoch [41/60], Loss: 0.2034, Accuracy: 0.9547\n",
      "Epoch 42\n",
      "-------------------------------\n",
      "Training - Epoch [42/60], Step [10/100], Loss: 0.0008\n",
      "Training - Epoch [42/60], Step [20/100], Loss: 0.0125\n",
      "Training - Epoch [42/60], Step [30/100], Loss: 0.0244\n",
      "Training - Epoch [42/60], Step [40/100], Loss: 0.0065\n",
      "Training - Epoch [42/60], Step [50/100], Loss: 0.0226\n",
      "Training - Epoch [42/60], Step [60/100], Loss: 0.4009\n",
      "Training - Epoch [42/60], Step [70/100], Loss: 0.0225\n",
      "Training - Epoch [42/60], Step [80/100], Loss: 0.0699\n",
      "Training - Epoch [42/60], Step [90/100], Loss: 0.0684\n",
      "Training - Epoch [42/60], Step [100/100], Loss: 0.0190\n",
      "Validation - Epoch [42/60], Loss: 0.9299, Accuracy: 0.8284\n",
      "Epoch 43\n",
      "-------------------------------\n",
      "Training - Epoch [43/60], Step [10/100], Loss: 0.0066\n",
      "Training - Epoch [43/60], Step [20/100], Loss: 0.0039\n",
      "Training - Epoch [43/60], Step [30/100], Loss: 0.0079\n",
      "Training - Epoch [43/60], Step [40/100], Loss: 0.0086\n",
      "Training - Epoch [43/60], Step [50/100], Loss: 0.0292\n",
      "Training - Epoch [43/60], Step [60/100], Loss: 0.0113\n",
      "Training - Epoch [43/60], Step [70/100], Loss: 0.0081\n",
      "Training - Epoch [43/60], Step [80/100], Loss: 0.0718\n",
      "Training - Epoch [43/60], Step [90/100], Loss: 0.0107\n",
      "Training - Epoch [43/60], Step [100/100], Loss: 0.0004\n",
      "Validation - Epoch [43/60], Loss: 0.2367, Accuracy: 0.9516\n",
      "Epoch 44\n",
      "-------------------------------\n",
      "Training - Epoch [44/60], Step [10/100], Loss: 0.0989\n",
      "Training - Epoch [44/60], Step [20/100], Loss: 0.0030\n",
      "Training - Epoch [44/60], Step [30/100], Loss: 0.0009\n",
      "Training - Epoch [44/60], Step [40/100], Loss: 0.0527\n",
      "Training - Epoch [44/60], Step [50/100], Loss: 0.0225\n",
      "Training - Epoch [44/60], Step [60/100], Loss: 0.0149\n",
      "Training - Epoch [44/60], Step [70/100], Loss: 0.0824\n",
      "Training - Epoch [44/60], Step [80/100], Loss: 0.0098\n",
      "Training - Epoch [44/60], Step [90/100], Loss: 0.0009\n",
      "Training - Epoch [44/60], Step [100/100], Loss: 0.0509\n",
      "Validation - Epoch [44/60], Loss: 0.0957, Accuracy: 0.9791\n",
      "Epoch 45\n",
      "-------------------------------\n",
      "Training - Epoch [45/60], Step [10/100], Loss: 0.0085\n",
      "Training - Epoch [45/60], Step [20/100], Loss: 0.0166\n",
      "Training - Epoch [45/60], Step [30/100], Loss: 0.0002\n",
      "Training - Epoch [45/60], Step [40/100], Loss: 0.0004\n",
      "Training - Epoch [45/60], Step [50/100], Loss: 0.0037\n",
      "Training - Epoch [45/60], Step [60/100], Loss: 0.0084\n",
      "Training - Epoch [45/60], Step [70/100], Loss: 0.0023\n",
      "Training - Epoch [45/60], Step [80/100], Loss: 0.0019\n",
      "Training - Epoch [45/60], Step [90/100], Loss: 0.0002\n",
      "Training - Epoch [45/60], Step [100/100], Loss: 0.0013\n",
      "Validation - Epoch [45/60], Loss: 0.3575, Accuracy: 0.9333\n",
      "Epoch 46\n",
      "-------------------------------\n",
      "Training - Epoch [46/60], Step [10/100], Loss: 0.1059\n",
      "Training - Epoch [46/60], Step [20/100], Loss: 0.0005\n",
      "Training - Epoch [46/60], Step [30/100], Loss: 0.0284\n",
      "Training - Epoch [46/60], Step [40/100], Loss: 0.0086\n",
      "Training - Epoch [46/60], Step [50/100], Loss: 0.0009\n",
      "Training - Epoch [46/60], Step [60/100], Loss: 0.0063\n",
      "Training - Epoch [46/60], Step [70/100], Loss: 0.0222\n",
      "Training - Epoch [46/60], Step [80/100], Loss: 0.0623\n",
      "Training - Epoch [46/60], Step [90/100], Loss: 0.0131\n",
      "Training - Epoch [46/60], Step [100/100], Loss: 0.0018\n",
      "Validation - Epoch [46/60], Loss: 0.1994, Accuracy: 0.9671\n",
      "Epoch 47\n",
      "-------------------------------\n",
      "Training - Epoch [47/60], Step [10/100], Loss: 0.0044\n",
      "Training - Epoch [47/60], Step [20/100], Loss: 0.0243\n",
      "Training - Epoch [47/60], Step [30/100], Loss: 0.0291\n",
      "Training - Epoch [47/60], Step [40/100], Loss: 0.0170\n",
      "Training - Epoch [47/60], Step [50/100], Loss: 0.0024\n",
      "Training - Epoch [47/60], Step [60/100], Loss: 0.0035\n",
      "Training - Epoch [47/60], Step [70/100], Loss: 0.0100\n",
      "Training - Epoch [47/60], Step [80/100], Loss: 0.0002\n",
      "Training - Epoch [47/60], Step [90/100], Loss: 0.0005\n",
      "Training - Epoch [47/60], Step [100/100], Loss: 0.0131\n",
      "Validation - Epoch [47/60], Loss: 0.0659, Accuracy: 0.9858\n",
      "Model saved as mobilenet_v3_small_font_classifier_Resize.pth\n",
      "Epoch 48\n",
      "-------------------------------\n",
      "Training - Epoch [48/60], Step [10/100], Loss: 0.0004\n",
      "Training - Epoch [48/60], Step [20/100], Loss: 0.0017\n",
      "Training - Epoch [48/60], Step [30/100], Loss: 0.0356\n",
      "Training - Epoch [48/60], Step [40/100], Loss: 0.0004\n",
      "Training - Epoch [48/60], Step [50/100], Loss: 0.0818\n",
      "Training - Epoch [48/60], Step [60/100], Loss: 0.0020\n",
      "Training - Epoch [48/60], Step [70/100], Loss: 0.0010\n",
      "Training - Epoch [48/60], Step [80/100], Loss: 0.0077\n",
      "Training - Epoch [48/60], Step [90/100], Loss: 0.0012\n",
      "Training - Epoch [48/60], Step [100/100], Loss: 0.0001\n",
      "Validation - Epoch [48/60], Loss: 0.0750, Accuracy: 0.9836\n",
      "Epoch 49\n",
      "-------------------------------\n",
      "Training - Epoch [49/60], Step [10/100], Loss: 0.0010\n",
      "Training - Epoch [49/60], Step [20/100], Loss: 0.0980\n",
      "Training - Epoch [49/60], Step [30/100], Loss: 0.1016\n",
      "Training - Epoch [49/60], Step [40/100], Loss: 0.0000\n",
      "Training - Epoch [49/60], Step [50/100], Loss: 0.0001\n",
      "Training - Epoch [49/60], Step [60/100], Loss: 0.0009\n",
      "Training - Epoch [49/60], Step [70/100], Loss: 0.0378\n",
      "Training - Epoch [49/60], Step [80/100], Loss: 0.0005\n",
      "Training - Epoch [49/60], Step [90/100], Loss: 0.0001\n",
      "Training - Epoch [49/60], Step [100/100], Loss: 0.0034\n",
      "Validation - Epoch [49/60], Loss: 0.1404, Accuracy: 0.9742\n",
      "Epoch 50\n",
      "-------------------------------\n",
      "Training - Epoch [50/60], Step [10/100], Loss: 0.0005\n",
      "Training - Epoch [50/60], Step [20/100], Loss: 0.0047\n",
      "Training - Epoch [50/60], Step [30/100], Loss: 0.0016\n",
      "Training - Epoch [50/60], Step [40/100], Loss: 0.0020\n",
      "Training - Epoch [50/60], Step [50/100], Loss: 0.0065\n",
      "Training - Epoch [50/60], Step [60/100], Loss: 0.0015\n",
      "Training - Epoch [50/60], Step [70/100], Loss: 0.0176\n",
      "Training - Epoch [50/60], Step [80/100], Loss: 0.0132\n",
      "Training - Epoch [50/60], Step [90/100], Loss: 0.0046\n",
      "Training - Epoch [50/60], Step [100/100], Loss: 0.0351\n",
      "Validation - Epoch [50/60], Loss: 1.0666, Accuracy: 0.8320\n",
      "Epoch 51\n",
      "-------------------------------\n",
      "Training - Epoch [51/60], Step [10/100], Loss: 0.3162\n",
      "Training - Epoch [51/60], Step [20/100], Loss: 0.0502\n",
      "Training - Epoch [51/60], Step [30/100], Loss: 0.0375\n",
      "Training - Epoch [51/60], Step [40/100], Loss: 0.0132\n",
      "Training - Epoch [51/60], Step [50/100], Loss: 0.0021\n",
      "Training - Epoch [51/60], Step [60/100], Loss: 0.0017\n",
      "Training - Epoch [51/60], Step [70/100], Loss: 0.0343\n",
      "Training - Epoch [51/60], Step [80/100], Loss: 0.0297\n",
      "Training - Epoch [51/60], Step [90/100], Loss: 0.0046\n",
      "Training - Epoch [51/60], Step [100/100], Loss: 0.0110\n",
      "Validation - Epoch [51/60], Loss: 0.2293, Accuracy: 0.9529\n",
      "Epoch 52\n",
      "-------------------------------\n",
      "Training - Epoch [52/60], Step [10/100], Loss: 0.0032\n",
      "Training - Epoch [52/60], Step [20/100], Loss: 0.0004\n",
      "Training - Epoch [52/60], Step [30/100], Loss: 0.0200\n",
      "Training - Epoch [52/60], Step [40/100], Loss: 0.0004\n",
      "Training - Epoch [52/60], Step [50/100], Loss: 0.0003\n",
      "Training - Epoch [52/60], Step [60/100], Loss: 0.0100\n",
      "Training - Epoch [52/60], Step [70/100], Loss: 0.0020\n",
      "Training - Epoch [52/60], Step [80/100], Loss: 0.0003\n",
      "Training - Epoch [52/60], Step [90/100], Loss: 0.0109\n",
      "Training - Epoch [52/60], Step [100/100], Loss: 0.0003\n",
      "Validation - Epoch [52/60], Loss: 0.1803, Accuracy: 0.9653\n",
      "Epoch 53\n",
      "-------------------------------\n",
      "Training - Epoch [53/60], Step [10/100], Loss: 0.0506\n",
      "Training - Epoch [53/60], Step [20/100], Loss: 0.0164\n",
      "Training - Epoch [53/60], Step [30/100], Loss: 0.0217\n",
      "Training - Epoch [53/60], Step [40/100], Loss: 0.0057\n",
      "Training - Epoch [53/60], Step [50/100], Loss: 0.0002\n",
      "Training - Epoch [53/60], Step [60/100], Loss: 0.0006\n",
      "Training - Epoch [53/60], Step [70/100], Loss: 0.0024\n",
      "Training - Epoch [53/60], Step [80/100], Loss: 0.0082\n",
      "Training - Epoch [53/60], Step [90/100], Loss: 0.0030\n",
      "Training - Epoch [53/60], Step [100/100], Loss: 0.0020\n",
      "Validation - Epoch [53/60], Loss: 0.0878, Accuracy: 0.9787\n",
      "Epoch 54\n",
      "-------------------------------\n",
      "Training - Epoch [54/60], Step [10/100], Loss: 0.0023\n",
      "Training - Epoch [54/60], Step [20/100], Loss: 0.0120\n",
      "Training - Epoch [54/60], Step [30/100], Loss: 0.0226\n",
      "Training - Epoch [54/60], Step [40/100], Loss: 0.0001\n",
      "Training - Epoch [54/60], Step [50/100], Loss: 0.0001\n",
      "Training - Epoch [54/60], Step [60/100], Loss: 0.0003\n",
      "Training - Epoch [54/60], Step [70/100], Loss: 0.0063\n",
      "Training - Epoch [54/60], Step [80/100], Loss: 0.0201\n",
      "Training - Epoch [54/60], Step [90/100], Loss: 0.0002\n",
      "Training - Epoch [54/60], Step [100/100], Loss: 0.0250\n",
      "Validation - Epoch [54/60], Loss: 0.0637, Accuracy: 0.9862\n",
      "Model saved as mobilenet_v3_small_font_classifier_Resize.pth\n",
      "Epoch 55\n",
      "-------------------------------\n",
      "Training - Epoch [55/60], Step [10/100], Loss: 0.0052\n",
      "Training - Epoch [55/60], Step [20/100], Loss: 0.0074\n",
      "Training - Epoch [55/60], Step [30/100], Loss: 0.0002\n",
      "Training - Epoch [55/60], Step [40/100], Loss: 0.0002\n",
      "Training - Epoch [55/60], Step [50/100], Loss: 0.0011\n",
      "Training - Epoch [55/60], Step [60/100], Loss: 0.0021\n",
      "Training - Epoch [55/60], Step [70/100], Loss: 0.0000\n",
      "Training - Epoch [55/60], Step [80/100], Loss: 0.0000\n",
      "Training - Epoch [55/60], Step [90/100], Loss: 0.0004\n",
      "Training - Epoch [55/60], Step [100/100], Loss: 0.0005\n",
      "Validation - Epoch [55/60], Loss: 0.1157, Accuracy: 0.9782\n",
      "Epoch 56\n",
      "-------------------------------\n",
      "Training - Epoch [56/60], Step [10/100], Loss: 0.0001\n",
      "Training - Epoch [56/60], Step [20/100], Loss: 0.0003\n",
      "Training - Epoch [56/60], Step [30/100], Loss: 0.0001\n",
      "Training - Epoch [56/60], Step [40/100], Loss: 0.0145\n",
      "Training - Epoch [56/60], Step [50/100], Loss: 0.0003\n",
      "Training - Epoch [56/60], Step [60/100], Loss: 0.0503\n",
      "Training - Epoch [56/60], Step [70/100], Loss: 0.0018\n",
      "Training - Epoch [56/60], Step [80/100], Loss: 0.0008\n",
      "Training - Epoch [56/60], Step [90/100], Loss: 0.0018\n",
      "Training - Epoch [56/60], Step [100/100], Loss: 0.0011\n",
      "Validation - Epoch [56/60], Loss: 0.1120, Accuracy: 0.9778\n",
      "Epoch 57\n",
      "-------------------------------\n",
      "Training - Epoch [57/60], Step [10/100], Loss: 0.0003\n",
      "Training - Epoch [57/60], Step [20/100], Loss: 0.0022\n",
      "Training - Epoch [57/60], Step [30/100], Loss: 0.0000\n",
      "Training - Epoch [57/60], Step [40/100], Loss: 0.1712\n",
      "Training - Epoch [57/60], Step [50/100], Loss: 0.0006\n",
      "Training - Epoch [57/60], Step [60/100], Loss: 0.0017\n",
      "Training - Epoch [57/60], Step [70/100], Loss: 0.0039\n",
      "Training - Epoch [57/60], Step [80/100], Loss: 0.0385\n",
      "Training - Epoch [57/60], Step [90/100], Loss: 0.0004\n",
      "Training - Epoch [57/60], Step [100/100], Loss: 0.0003\n",
      "Validation - Epoch [57/60], Loss: 0.4259, Accuracy: 0.9253\n",
      "Epoch 58\n",
      "-------------------------------\n",
      "Training - Epoch [58/60], Step [10/100], Loss: 0.0016\n",
      "Training - Epoch [58/60], Step [20/100], Loss: 0.0002\n",
      "Training - Epoch [58/60], Step [30/100], Loss: 0.0142\n",
      "Training - Epoch [58/60], Step [40/100], Loss: 0.0020\n",
      "Training - Epoch [58/60], Step [50/100], Loss: 0.0267\n",
      "Training - Epoch [58/60], Step [60/100], Loss: 0.0030\n",
      "Training - Epoch [58/60], Step [70/100], Loss: 0.0302\n",
      "Training - Epoch [58/60], Step [80/100], Loss: 0.0013\n",
      "Training - Epoch [58/60], Step [90/100], Loss: 0.0095\n",
      "Training - Epoch [58/60], Step [100/100], Loss: 0.0001\n",
      "Validation - Epoch [58/60], Loss: 0.3657, Accuracy: 0.9458\n",
      "Epoch 59\n",
      "-------------------------------\n",
      "Training - Epoch [59/60], Step [10/100], Loss: 0.0215\n",
      "Training - Epoch [59/60], Step [20/100], Loss: 0.0153\n",
      "Training - Epoch [59/60], Step [30/100], Loss: 0.0008\n",
      "Training - Epoch [59/60], Step [40/100], Loss: 0.0037\n",
      "Training - Epoch [59/60], Step [50/100], Loss: 0.0205\n",
      "Training - Epoch [59/60], Step [60/100], Loss: 0.0050\n",
      "Training - Epoch [59/60], Step [70/100], Loss: 0.0009\n",
      "Training - Epoch [59/60], Step [80/100], Loss: 0.0003\n",
      "Training - Epoch [59/60], Step [90/100], Loss: 0.0005\n",
      "Training - Epoch [59/60], Step [100/100], Loss: 0.0073\n",
      "Validation - Epoch [59/60], Loss: 0.1248, Accuracy: 0.9724\n",
      "Epoch 60\n",
      "-------------------------------\n",
      "Training - Epoch [60/60], Step [10/100], Loss: 0.0005\n",
      "Training - Epoch [60/60], Step [20/100], Loss: 0.0162\n",
      "Training - Epoch [60/60], Step [30/100], Loss: 0.0391\n",
      "Training - Epoch [60/60], Step [40/100], Loss: 0.0114\n",
      "Training - Epoch [60/60], Step [50/100], Loss: 0.0014\n",
      "Training - Epoch [60/60], Step [60/100], Loss: 0.0592\n",
      "Training - Epoch [60/60], Step [70/100], Loss: 0.0072\n",
      "Training - Epoch [60/60], Step [80/100], Loss: 0.0020\n",
      "Training - Epoch [60/60], Step [90/100], Loss: 0.0010\n",
      "Training - Epoch [60/60], Step [100/100], Loss: 0.0009\n",
      "Validation - Epoch [60/60], Loss: 0.1020, Accuracy: 0.9791\n"
     ]
    }
   ],
   "source": [
    "# Define the loss function\n",
    "criterion = torch.nn.CrossEntropyLoss()\n",
    "\n",
    "# Define the optimizer\n",
    "optimizer = torch.optim.Adam(model.parameters(), lr=0.001)\n",
    "\n",
    "# Training loop\n",
    "num_epochs = 60\n",
    "best_val_loss = float('inf')\n",
    "\n",
    "# Lists to store training and validation metrics for plotting\n",
    "train_losses = []\n",
    "train_accuracies = []\n",
    "val_losses = []\n",
    "val_accuracies = []\n",
    "\n",
    "# Set the model to training mode\n",
    "model.train()\n",
    "\n",
    "# Start the training loop\n",
    "start_time = time.time()\n",
    "for epoch in range(num_epochs):\n",
    "    print(f'Epoch {epoch + 1}\\n-------------------------------')\n",
    "    # Training phase\n",
    "    model.train()\n",
    "    train_loss = 0.0\n",
    "    correct_train = 0\n",
    "    total_train = 0\n",
    "    for i, (inputs, labels) in enumerate(train_loader):\n",
    "        inputs = inputs.to(device)\n",
    "        labels = labels.to(device)\n",
    "\n",
    "        # Forward pass\n",
    "        outputs = model(inputs)\n",
    "        loss = criterion(outputs, labels)\n",
    "\n",
    "        # Backward pass\n",
    "        optimizer.zero_grad()\n",
    "        loss.backward()\n",
    "        optimizer.step()\n",
    "\n",
    "        train_loss += loss.item() * inputs.size(0)\n",
    "        \n",
    "        # Calculate accuracy\n",
    "        _, predicted = torch.max(outputs, 1)\n",
    "        total_train += labels.size(0)\n",
    "        correct_train += (predicted == labels).sum().item()\n",
    "\n",
    "        # Print training statistics\n",
    "        if (i + 1) % 10 == 0:\n",
    "            print(f'Training - Epoch [{epoch + 1}/{num_epochs}], Step [{i + 1}/{len(train_loader)}], Loss: {loss.item():.4f}')\n",
    "\n",
    "    # Calculate average training loss and accuracy\n",
    "    train_loss /= len(train_loader.dataset)\n",
    "    train_accuracy = correct_train / total_train\n",
    "    train_losses.append(train_loss)\n",
    "    train_accuracies.append(train_accuracy)\n",
    "    \n",
    "    # Validation phase\n",
    "    model.eval()\n",
    "    val_loss = 0.0\n",
    "    correct_val = 0\n",
    "    total_val = 0\n",
    "    with torch.no_grad():\n",
    "        for i, (inputs, labels) in enumerate(val_loader):\n",
    "            inputs = inputs.to(device)\n",
    "            labels = labels.to(device)\n",
    "\n",
    "            # Forward pass\n",
    "            outputs = model(inputs)\n",
    "            loss = criterion(outputs, labels)\n",
    "\n",
    "            val_loss += loss.item() * inputs.size(0)\n",
    "\n",
    "            # Calculate accuracy\n",
    "            _, predicted = torch.max(outputs, 1)\n",
    "            total_val += labels.size(0)\n",
    "            correct_val += (predicted == labels).sum().item()\n",
    "\n",
    "    # Print validation statistics\n",
    "    val_loss /= len(val_loader.dataset)\n",
    "    val_accuracy = correct_val / total_val\n",
    "    val_losses.append(val_loss)\n",
    "    val_accuracies.append(val_accuracy)\n",
    "    print(f'Validation - Epoch [{epoch + 1}/{num_epochs}], Loss: {val_loss:.4f}, Accuracy: {val_accuracy:.4f}')\n",
    "\n",
    "    # Save the model if validation loss decreases\n",
    "    if val_loss < best_val_loss:\n",
    "        best_val_loss = val_loss\n",
    "        torch.save(model.state_dict(), f'../../models/{scope}/{model_name}_font_classifier_{type}.pth')\n",
    "        print(f'Model saved as {model_name}_font_classifier_{type}.pth')\n",
    "\n",
    "end_time = time.time()"
   ],
   "metadata": {
    "collapsed": false,
    "ExecuteTime": {
     "end_time": "2024-04-23T17:01:41.429452Z",
     "start_time": "2024-04-23T16:22:48.416776Z"
    }
   },
   "id": "126f35f98051a02a",
   "execution_count": 40
  },
  {
   "cell_type": "markdown",
   "source": [
    "# Plot the training and validation metrics"
   ],
   "metadata": {
    "collapsed": false
   },
   "id": "2f8d840ac9117197"
  },
  {
   "cell_type": "code",
   "outputs": [
    {
     "data": {
      "text/plain": "<Figure size 1200x500 with 2 Axes>",
      "image/png": "[encoded data removed]"
     },
     "metadata": {},
     "output_type": "display_data"
    },
    {
     "name": "stdout",
     "output_type": "stream",
     "text": [
      "Finished Training\n",
      "Time taken for training: 2332.99 seconds\n",
      "Medium time per epoch: 38.88 seconds\n"
     ]
    }
   ],
   "source": [
    "# Plotting\n",
    "plt.figure(figsize=(12, 5))\n",
    "plt.subplot(1, 2, 1)\n",
    "plt.plot(range(1, num_epochs + 1), train_losses, label='Training Loss')\n",
    "plt.plot(range(1, num_epochs + 1), val_losses, label='Validation Loss')\n",
    "plt.xlabel('Epochs')\n",
    "plt.ylabel('Loss')\n",
    "plt.title('Training and Validation Loss')\n",
    "plt.legend()\n",
    "\n",
    "plt.subplot(1, 2, 2)\n",
    "plt.plot(range(1, num_epochs + 1), train_accuracies, label='Training Accuracy')\n",
    "plt.plot(range(1, num_epochs + 1), val_accuracies, label='Validation Accuracy')\n",
    "plt.xlabel('Epochs')\n",
    "plt.ylabel('Accuracy')\n",
    "plt.title('Training and Validation Accuracy')\n",
    "plt.legend()\n",
    "\n",
    "plt.tight_layout()\n",
    "plt.show()\n",
    "\n",
    "print('Finished Training')\n",
    "\n",
    "# Print the time taken for training\n",
    "print(f'Time taken for training: {end_time - start_time:.2f} seconds')\n",
    "## Print medium time per epoch\n",
    "print(f'Medium time per epoch: {(end_time - start_time)/num_epochs:.2f} seconds')"
   ],
   "metadata": {
    "collapsed": false,
    "ExecuteTime": {
     "end_time": "2024-04-23T17:01:41.802066Z",
     "start_time": "2024-04-23T17:01:41.430454Z"
    }
   },
   "id": "2fb4051fe48bcb0f",
   "execution_count": 41
  },
  {
   "cell_type": "markdown",
   "source": [
    "# Evaluate the model"
   ],
   "metadata": {
    "collapsed": false
   },
   "id": "5d1120839a43965"
  },
  {
   "cell_type": "markdown",
   "source": [
    "## Load the model"
   ],
   "metadata": {
    "collapsed": false
   },
   "id": "f38ec7e7c9fc2bd2"
  },
  {
   "cell_type": "code",
   "outputs": [
    {
     "name": "stdout",
     "output_type": "stream",
     "text": [
      "Model loaded from ../../models/Preprocessing/mobilenet_v3_small_font_classifier_Resize.pth\n"
     ]
    }
   ],
   "source": [
    "# Load the model\n",
    "model_path = f'../../models/{scope}/{model_name}_font_classifier_{type}.pth'\n",
    "model = models.__dict__[model_name](weights=None)\n",
    "model.load_state_dict(torch.load(model_path))\n",
    "model = model.to(device)\n",
    "print(f'Model loaded from {model_path}')"
   ],
   "metadata": {
    "collapsed": false,
    "ExecuteTime": {
     "end_time": "2024-04-23T17:01:41.882066Z",
     "start_time": "2024-04-23T17:01:41.803067Z"
    }
   },
   "id": "2d59abb3cc4d4ab1",
   "execution_count": 42
  },
  {
   "cell_type": "markdown",
   "source": [
    "## Evaluate the model\n",
    "Evaluate the model using the test set. We will compute the accuracy, precision, recall, F1-score, confusion matrix, and ROC curve."
   ],
   "metadata": {
    "collapsed": false
   },
   "id": "c4fb0a8cc4c7aaaf"
  },
  {
   "cell_type": "code",
   "outputs": [],
   "source": [
    "# Set the model to evaluation mode\n",
    "model.eval()\n",
    "\n",
    "# Initialize lists for true labels and predicted labels\n",
    "true_labels = []\n",
    "predicted_labels = []\n",
    "\n",
    "# Disable gradient computation for evaluation\n",
    "with torch.no_grad():\n",
    "    for images, labels in test_loader:\n",
    "        images = images.to(device)\n",
    "        labels = labels.to(device)\n",
    "\n",
    "        # Perform inference\n",
    "        outputs = model(images)\n",
    "        \n",
    "        # Compute predicted labels\n",
    "        _, predicted = torch.max(outputs.data, 1)\n",
    "        \n",
    "        # Append true and predicted labels to lists\n",
    "        true_labels.extend(labels.cpu().numpy())\n",
    "        predicted_labels.extend(predicted.cpu().numpy())\n",
    "\n",
    "# Convert lists to numpy arrays\n",
    "true_labels = np.array(true_labels)\n",
    "predicted_labels = np.array(predicted_labels)"
   ],
   "metadata": {
    "collapsed": false,
    "ExecuteTime": {
     "end_time": "2024-04-23T17:01:44.420463Z",
     "start_time": "2024-04-23T17:01:41.883066Z"
    }
   },
   "id": "d94dccfec1ca328d",
   "execution_count": 43
  },
  {
   "cell_type": "markdown",
   "source": [
    "## Compute metrics\n",
    "### Accuracy"
   ],
   "metadata": {
    "collapsed": false
   },
   "id": "7fc2137e6729efa2"
  },
  {
   "cell_type": "code",
   "outputs": [
    {
     "name": "stdout",
     "output_type": "stream",
     "text": [
      "Accuracy: 98.80%\n"
     ]
    }
   ],
   "source": [
    "accuracy = accuracy_score(true_labels, predicted_labels)\n",
    "print('Accuracy: {:.2f}%'.format(100 * accuracy))"
   ],
   "metadata": {
    "collapsed": false,
    "ExecuteTime": {
     "end_time": "2024-04-23T17:01:44.436463Z",
     "start_time": "2024-04-23T17:01:44.421465Z"
    }
   },
   "id": "101581d76f4e9326",
   "execution_count": 44
  },
  {
   "cell_type": "markdown",
   "source": [
    "### Precision"
   ],
   "metadata": {
    "collapsed": false
   },
   "id": "8c872a168687bbb9"
  },
  {
   "cell_type": "code",
   "outputs": [
    {
     "name": "stdout",
     "output_type": "stream",
     "text": [
      "Precision: 0.99\n"
     ]
    }
   ],
   "source": [
    "precision = precision_score(true_labels, predicted_labels, average='weighted')\n",
    "print('Precision: {:.2f}'.format(precision))"
   ],
   "metadata": {
    "collapsed": false,
    "ExecuteTime": {
     "end_time": "2024-04-23T17:01:44.452465Z",
     "start_time": "2024-04-23T17:01:44.438465Z"
    }
   },
   "id": "c0a1514893d52da3",
   "execution_count": 45
  },
  {
   "cell_type": "markdown",
   "source": [
    "### Recall"
   ],
   "metadata": {
    "collapsed": false
   },
   "id": "2d6709ac0ed49e7d"
  },
  {
   "cell_type": "code",
   "outputs": [
    {
     "name": "stdout",
     "output_type": "stream",
     "text": [
      "Recall: 0.99\n"
     ]
    }
   ],
   "source": [
    "recall = recall_score(true_labels, predicted_labels, average='weighted')\n",
    "print('Recall: {:.2f}'.format(recall))"
   ],
   "metadata": {
    "collapsed": false,
    "ExecuteTime": {
     "end_time": "2024-04-23T17:01:44.468464Z",
     "start_time": "2024-04-23T17:01:44.453464Z"
    }
   },
   "id": "cbe9cce2d6d4b849",
   "execution_count": 46
  },
  {
   "cell_type": "markdown",
   "source": [
    "### F1-score"
   ],
   "metadata": {
    "collapsed": false
   },
   "id": "a6a9ab8eaf4a00c9"
  },
  {
   "cell_type": "code",
   "outputs": [
    {
     "name": "stdout",
     "output_type": "stream",
     "text": [
      "F1-score: 0.99\n"
     ]
    }
   ],
   "source": [
    "f1 = f1_score(true_labels, predicted_labels, average='weighted')\n",
    "print('F1-score: {:.2f}'.format(f1))"
   ],
   "metadata": {
    "collapsed": false,
    "ExecuteTime": {
     "end_time": "2024-04-23T17:01:44.484464Z",
     "start_time": "2024-04-23T17:01:44.469464Z"
    }
   },
   "id": "2a87268c3e7e9e88",
   "execution_count": 47
  },
  {
   "cell_type": "markdown",
   "source": [
    "### Confusion matrix"
   ],
   "metadata": {
    "collapsed": false
   },
   "id": "3687c7ed9e290b52"
  },
  {
   "cell_type": "code",
   "outputs": [
    {
     "name": "stdout",
     "output_type": "stream",
     "text": [
      "Confusion Matrix:\n"
     ]
    },
    {
     "data": {
      "text/plain": "<Figure size 640x480 with 1 Axes>",
      "image/png": "[encoded data removed]"
     },
     "metadata": {},
     "output_type": "display_data"
    }
   ],
   "source": [
    "conf_matrix = confusion_matrix(true_labels, predicted_labels)\n",
    "print(f'Confusion Matrix:')\n",
    "sns.heatmap(conf_matrix, annot=True, cmap='Blues', fmt='g', cbar=False, xticklabels=class_names, yticklabels=class_names)\n",
    "plt.title('Confusion Matrix')\n",
    "plt.xlabel('Predicted Label')\n",
    "plt.ylabel('True Label')\n",
    "plt.show()"
   ],
   "metadata": {
    "collapsed": false,
    "ExecuteTime": {
     "end_time": "2024-04-23T17:01:44.942538Z",
     "start_time": "2024-04-23T17:01:44.486464Z"
    }
   },
   "id": "6a06849bad215169",
   "execution_count": 48
  },
  {
   "cell_type": "markdown",
   "source": [
    "### ROC curve"
   ],
   "metadata": {
    "collapsed": false
   },
   "id": "8f7a1268072e6e09"
  },
  {
   "cell_type": "code",
   "outputs": [
    {
     "data": {
      "text/plain": "[<matplotlib.lines.Line2D at 0x2102bb4d640>]"
     },
     "execution_count": 49,
     "metadata": {},
     "output_type": "execute_result"
    },
    {
     "data": {
      "text/plain": "<Figure size 640x480 with 1 Axes>",
      "image/png": "[encoded data removed]"
     },
     "metadata": {},
     "output_type": "display_data"
    }
   ],
   "source": [
    "# Binarize the true labels\n",
    "true_labels_binarized = label_binarize(true_labels, classes=range(len(class_names)))\n",
    "\n",
    "# Binarize the predicted labels\n",
    "predicted_labels_binarized = label_binarize(predicted_labels, classes=range(len(class_names)))\n",
    "\n",
    "# Compute the ROC curve\n",
    "fpr = dict()\n",
    "tpr = dict()\n",
    "roc_auc = dict()\n",
    "for i in range(len(class_names)):\n",
    "    fpr[i], tpr[i], _ = roc_curve(true_labels_binarized[:, i], predicted_labels_binarized[:, i])\n",
    "    roc_auc[i] = auc(fpr[i], tpr[i])\n",
    "    \n",
    "# Plot the ROC curve\n",
    "plt.figure()\n",
    "for i in range(len(class_names)):\n",
    "    plt.plot(fpr[i], tpr[i], lw=2, label=f'ROC curve for class {class_names[i]} (area = {roc_auc[i]:0.2f})')\n",
    "plt.plot([0, 1], [0, 1], 'k--', lw=2)"
   ],
   "metadata": {
    "collapsed": false,
    "ExecuteTime": {
     "end_time": "2024-04-23T17:01:45.115080Z",
     "start_time": "2024-04-23T17:01:44.943539Z"
    }
   },
   "id": "6c7b4767f613c314",
   "execution_count": 49
  },
  {
   "cell_type": "markdown",
   "source": [],
   "metadata": {
    "collapsed": false
   },
   "id": "c4d8c6f85ef0d72c"
  }
 ],
 "metadata": {
  "kernelspec": {
   "display_name": "Python 3",
   "language": "python",
   "name": "python3"
  },
  "language_info": {
   "codemirror_mode": {
    "name": "ipython",
    "version": 2
   },
   "file_extension": ".py",
   "mimetype": "text/x-python",
   "name": "python",
   "nbconvert_exporter": "python",
   "pygments_lexer": "ipython2",
   "version": "2.7.6"
  }
 },
 "nbformat": 4,
 "nbformat_minor": 5
}
