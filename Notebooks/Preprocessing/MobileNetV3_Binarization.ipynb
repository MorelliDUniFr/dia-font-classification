{
 "cells": [
  {
   "cell_type": "markdown",
   "source": [
    "# Font Classification with PyTorch and MobileNetV3\n",
    "In this notebook, we will use the PyTorch deep learning framework to train a MobileNetV3 model to classify fonts. We will use the `torchvision` library to load the dataset and the `sklearn` library to evaluate the model using accuracy, precision, recall, F1-score, and the ROC curve. We will also visualize the confusion matrix to understand the model's performance on each class."
   ],
   "metadata": {
    "collapsed": false
   },
   "id": "4ac20b28058858bd"
  },
  {
   "cell_type": "markdown",
   "source": [
    "# Imports\n",
    "Import of the necessary libraries"
   ],
   "metadata": {
    "collapsed": false
   },
   "id": "705740ac830b5b02"
  },
  {
   "cell_type": "code",
   "outputs": [],
   "source": [
    "import numpy as np\n",
    "from torchvision import datasets, transforms\n",
    "from sklearn.metrics import accuracy_score, precision_score, recall_score, f1_score, confusion_matrix\n",
    "import seaborn as sns\n",
    "import matplotlib.pyplot as plt\n",
    "import torch\n",
    "from torchvision import models\n",
    "from torch.utils.data import DataLoader\n",
    "from sklearn.metrics import roc_curve, auc\n",
    "from sklearn.preprocessing import label_binarize\n",
    "import time\n",
    "from sys import platform"
   ],
   "metadata": {
    "collapsed": false,
    "ExecuteTime": {
     "end_time": "2024-04-23T17:13:01.379439Z",
     "start_time": "2024-04-23T17:13:01.356439Z"
    }
   },
   "id": "cd70965188811652",
   "execution_count": 24
  },
  {
   "cell_type": "markdown",
   "source": [
    "# Model choice\n",
    "Choose the model to use for training. In this case, we will use the MobileNetV3 model."
   ],
   "metadata": {
    "collapsed": false
   },
   "id": "89723516c4abb2e6"
  },
  {
   "cell_type": "code",
   "outputs": [
    {
     "name": "stdout",
     "output_type": "stream",
     "text": [
      "Using model: mobilenet_v3_small\n"
     ]
    }
   ],
   "source": [
    "model_name = 'mobilenet_v3_small'\n",
    "print(f'Using model: {model_name}')"
   ],
   "metadata": {
    "collapsed": false,
    "ExecuteTime": {
     "end_time": "2024-04-23T17:13:01.410439Z",
     "start_time": "2024-04-23T17:13:01.405440Z"
    }
   },
   "id": "ef4e56728f9785b4",
   "execution_count": 25
  },
  {
   "cell_type": "markdown",
   "source": [
    "# Loading and preparing the dataset\n",
    "Load the dataset and prepare it for training. We will resize the images to a fixed size, convert them to tensors, and normalize the pixel values.\n",
    "\n",
    "## Preprocessing\n",
    "1. Resize the images to a fixed size and binarize them\n",
    "2. Convert the images to tensors\n",
    "3. Normalize the pixel values"
   ],
   "metadata": {
    "collapsed": false
   },
   "id": "b2dabad339631e94"
  },
  {
   "cell_type": "code",
   "outputs": [],
   "source": [
    "# From the dataset, we know that the images have a height of 32 pixels and a width (on average) of 150 pixels\n",
    "image_height = 32\n",
    "image_width = 150\n",
    "\n",
    "# Define the percentage of the dataset to use for training\n",
    "train_size_perc = 0.7\n",
    "\n",
    "# Set the seed for reproducibility\n",
    "torch.manual_seed(0)\n",
    "\n",
    "# Define transformations for preprocessing\n",
    "transform = transforms.Compose([\n",
    "    transforms.Resize((image_height, image_width)),  # Resize images to a fixed size\n",
    "    transforms.Lambda(lambda x: x.point(lambda p, thres=200: p > thres and 255)),  # Binarize images\n",
    "    transforms.ToTensor(),                           # Convert images to tensors\n",
    "    transforms.Normalize(mean=[0.25, 0.25, 0.25],      # Normalize pixel values\n",
    "                         std=[0.25, 0.25, 0.25])])"
   ],
   "metadata": {
    "collapsed": false,
    "ExecuteTime": {
     "end_time": "2024-04-23T17:13:01.440440Z",
     "start_time": "2024-04-23T17:13:01.411440Z"
    }
   },
   "id": "cdc44275b7dbe9ba",
   "execution_count": 26
  },
  {
   "cell_type": "markdown",
   "source": [
    "## Load the dataset\n",
    "Load the dataset using the `ImageFolder` class from `torchvision`. We will split the dataset into training, validation, and test sets. We will use 70% of the dataset for training, 15% for validation, and 15% for testing."
   ],
   "metadata": {
    "collapsed": false
   },
   "id": "8906c87c81b7569c"
  },
  {
   "cell_type": "code",
   "outputs": [],
   "source": [
    "# Path to the dataset\n",
    "data_dir = '../../fonts'\n",
    "\n",
    "# Notebook scope and type\n",
    "scope = 'Preprocessing'\n",
    "type = 'Binarization'\n",
    "\n",
    "# Load the dataset using ImageFolder\n",
    "dataset = datasets.ImageFolder(root=data_dir, transform=transform)\n",
    "\n",
    "# Define the sizes of the training, validation, and test sets\n",
    "train_size = int(train_size_perc * len(dataset))  # 70% of the dataset for training\n",
    "val_size = int(((1.0 - train_size_perc)/2) * len(dataset))    # 15% for validation\n",
    "test_size = len(dataset) - train_size - val_size  # Remaining for test (15%)\n",
    "\n",
    "# Split the dataset into training, validation, and test sets\n",
    "train_dataset, val_dataset, test_dataset = torch.utils.data.random_split(\n",
    "    dataset, [train_size, val_size, test_size])\n",
    "\n",
    "# Define the batch size as a percentage of the training set, in this case 1%\n",
    "batch_size = int(train_size * 0.01)\n",
    "\n",
    "# Create data loaders for training, validation, and test sets\n",
    "train_loader = torch.utils.data.DataLoader(train_dataset, batch_size=batch_size, shuffle=True)\n",
    "val_loader = torch.utils.data.DataLoader(val_dataset, batch_size=batch_size, shuffle=True)\n",
    "test_loader = torch.utils.data.DataLoader(test_dataset, batch_size=batch_size, shuffle=False)"
   ],
   "metadata": {
    "collapsed": false,
    "ExecuteTime": {
     "end_time": "2024-04-23T17:13:01.531440Z",
     "start_time": "2024-04-23T17:13:01.442439Z"
    }
   },
   "id": "9d9c8c978a1ebdbd",
   "execution_count": 27
  },
  {
   "cell_type": "markdown",
   "source": [
    "## Dataset information"
   ],
   "metadata": {
    "collapsed": false
   },
   "id": "afdcf3568e6bb0e6"
  },
  {
   "cell_type": "code",
   "outputs": [
    {
     "name": "stdout",
     "output_type": "stream",
     "text": [
      "Number of images: 15000\n",
      "Number of batches: 100\n",
      "Batch size: 105\n",
      "Number of training images: 10500\n",
      "Number of validation images: 2250\n",
      "Number of test images: 2250\n",
      "Class names: ['Algerian', 'Arial', 'Baskerville', 'Calibry', 'Calligraphy', 'Cambria', 'Comic Sans MS', 'Courier', 'Elephant', 'Fascinate', 'Georgia', 'Helvetica', 'Lucida Bright', 'Nasalization', 'Times New Roman']\n"
     ]
    }
   ],
   "source": [
    "num_images = len(dataset)\n",
    "num_batches = len(train_loader)\n",
    "print(f'Number of images: {num_images}')\n",
    "print(f'Number of batches: {num_batches}')\n",
    "print(f'Batch size: {batch_size}')\n",
    "print(f'Number of training images: {len(train_dataset)}')\n",
    "print(f'Number of validation images: {len(val_dataset)}')\n",
    "print(f'Number of test images: {len(test_dataset)}')\n",
    "\n",
    "# Get the class names\n",
    "class_names = dataset.classes\n",
    "print(f'Class names: {class_names}')"
   ],
   "metadata": {
    "collapsed": false,
    "ExecuteTime": {
     "end_time": "2024-04-23T17:13:01.547438Z",
     "start_time": "2024-04-23T17:13:01.532439Z"
    }
   },
   "id": "1975b1b1848ca2ac",
   "execution_count": 28
  },
  {
   "cell_type": "markdown",
   "source": [
    "# Loading the model\n",
    "Load the MobileNetV3 model and move it to the device (CPU or GPU)."
   ],
   "metadata": {
    "collapsed": false
   },
   "id": "bd836b0d47a237ba"
  },
  {
   "cell_type": "code",
   "outputs": [
    {
     "name": "stdout",
     "output_type": "stream",
     "text": [
      "Model moved to cpu\n"
     ]
    }
   ],
   "source": [
    "# Load the model and replace the fully connected layer\n",
    "model = models.__dict__[model_name](weights=None)\n",
    "\n",
    "# Move model to the device (CPU or GPU)\n",
    "if platform != \"win32\":\n",
    "    device = torch.device('mps' if torch.backends.mps.is_available() else 'cpu')\n",
    "else:\n",
    "    device = torch.device('gpu' if torch.cuda.is_available() else 'cpu')\n",
    "model = model.to(device)\n",
    "print(f'Model moved to {device}')"
   ],
   "metadata": {
    "collapsed": false,
    "ExecuteTime": {
     "end_time": "2024-04-23T17:13:01.639979Z",
     "start_time": "2024-04-23T17:13:01.549440Z"
    }
   },
   "id": "8e9ad926f379fab5",
   "execution_count": 29
  },
  {
   "cell_type": "markdown",
   "source": [
    "# Training the model\n",
    "Train the model using the training set and validate it using the validation set. We will use the Adam optimizer and the CrossEntropy loss function. We will save the model with the lowest validation loss."
   ],
   "metadata": {
    "collapsed": false
   },
   "id": "eebc3e7a492ce85"
  },
  {
   "cell_type": "code",
   "outputs": [
    {
     "name": "stdout",
     "output_type": "stream",
     "text": [
      "Epoch 1\n",
      "-------------------------------\n",
      "Training - Epoch [1/60], Step [10/100], Loss: 3.4161\n",
      "Training - Epoch [1/60], Step [20/100], Loss: 2.1863\n",
      "Training - Epoch [1/60], Step [30/100], Loss: 1.8178\n",
      "Training - Epoch [1/60], Step [40/100], Loss: 1.6005\n",
      "Training - Epoch [1/60], Step [50/100], Loss: 1.6661\n",
      "Training - Epoch [1/60], Step [60/100], Loss: 1.3164\n",
      "Training - Epoch [1/60], Step [70/100], Loss: 1.2198\n",
      "Training - Epoch [1/60], Step [80/100], Loss: 1.1429\n",
      "Training - Epoch [1/60], Step [90/100], Loss: 0.8952\n",
      "Training - Epoch [1/60], Step [100/100], Loss: 1.1945\n",
      "Validation - Epoch [1/60], Loss: 3.2891, Accuracy: 0.0662\n",
      "Model saved as mobilenet_v3_small_font_classifier_Binarization.pth\n",
      "Epoch 2\n",
      "-------------------------------\n",
      "Training - Epoch [2/60], Step [10/100], Loss: 0.8825\n",
      "Training - Epoch [2/60], Step [20/100], Loss: 0.9285\n",
      "Training - Epoch [2/60], Step [30/100], Loss: 0.7935\n",
      "Training - Epoch [2/60], Step [40/100], Loss: 0.6394\n",
      "Training - Epoch [2/60], Step [50/100], Loss: 0.8268\n",
      "Training - Epoch [2/60], Step [60/100], Loss: 0.7706\n",
      "Training - Epoch [2/60], Step [70/100], Loss: 0.4788\n",
      "Training - Epoch [2/60], Step [80/100], Loss: 0.4018\n",
      "Training - Epoch [2/60], Step [90/100], Loss: 0.7680\n",
      "Training - Epoch [2/60], Step [100/100], Loss: 0.7156\n",
      "Validation - Epoch [2/60], Loss: 3.0400, Accuracy: 0.0662\n",
      "Model saved as mobilenet_v3_small_font_classifier_Binarization.pth\n",
      "Epoch 3\n",
      "-------------------------------\n",
      "Training - Epoch [3/60], Step [10/100], Loss: 0.5480\n",
      "Training - Epoch [3/60], Step [20/100], Loss: 0.4522\n",
      "Training - Epoch [3/60], Step [30/100], Loss: 0.5430\n",
      "Training - Epoch [3/60], Step [40/100], Loss: 0.4090\n",
      "Training - Epoch [3/60], Step [50/100], Loss: 0.3551\n",
      "Training - Epoch [3/60], Step [60/100], Loss: 0.3965\n",
      "Training - Epoch [3/60], Step [70/100], Loss: 0.3258\n",
      "Training - Epoch [3/60], Step [80/100], Loss: 0.2245\n",
      "Training - Epoch [3/60], Step [90/100], Loss: 0.1497\n",
      "Training - Epoch [3/60], Step [100/100], Loss: 0.3903\n",
      "Validation - Epoch [3/60], Loss: 3.0168, Accuracy: 0.0662\n",
      "Model saved as mobilenet_v3_small_font_classifier_Binarization.pth\n",
      "Epoch 4\n",
      "-------------------------------\n",
      "Training - Epoch [4/60], Step [10/100], Loss: 0.2426\n",
      "Training - Epoch [4/60], Step [20/100], Loss: 0.3041\n",
      "Training - Epoch [4/60], Step [30/100], Loss: 0.2315\n",
      "Training - Epoch [4/60], Step [40/100], Loss: 0.1829\n",
      "Training - Epoch [4/60], Step [50/100], Loss: 0.1953\n",
      "Training - Epoch [4/60], Step [60/100], Loss: 0.1983\n",
      "Training - Epoch [4/60], Step [70/100], Loss: 0.1573\n",
      "Training - Epoch [4/60], Step [80/100], Loss: 0.1194\n",
      "Training - Epoch [4/60], Step [90/100], Loss: 0.4134\n",
      "Training - Epoch [4/60], Step [100/100], Loss: 0.2123\n",
      "Validation - Epoch [4/60], Loss: 2.8996, Accuracy: 0.0991\n",
      "Model saved as mobilenet_v3_small_font_classifier_Binarization.pth\n",
      "Epoch 5\n",
      "-------------------------------\n",
      "Training - Epoch [5/60], Step [10/100], Loss: 0.0779\n",
      "Training - Epoch [5/60], Step [20/100], Loss: 0.1962\n",
      "Training - Epoch [5/60], Step [30/100], Loss: 0.2843\n",
      "Training - Epoch [5/60], Step [40/100], Loss: 0.4571\n",
      "Training - Epoch [5/60], Step [50/100], Loss: 0.2060\n",
      "Training - Epoch [5/60], Step [60/100], Loss: 0.4623\n",
      "Training - Epoch [5/60], Step [70/100], Loss: 0.2080\n",
      "Training - Epoch [5/60], Step [80/100], Loss: 0.1912\n",
      "Training - Epoch [5/60], Step [90/100], Loss: 0.1210\n",
      "Training - Epoch [5/60], Step [100/100], Loss: 0.2091\n",
      "Validation - Epoch [5/60], Loss: 1.9475, Accuracy: 0.3253\n",
      "Model saved as mobilenet_v3_small_font_classifier_Binarization.pth\n",
      "Epoch 6\n",
      "-------------------------------\n",
      "Training - Epoch [6/60], Step [10/100], Loss: 0.1158\n",
      "Training - Epoch [6/60], Step [20/100], Loss: 0.1777\n",
      "Training - Epoch [6/60], Step [30/100], Loss: 0.1048\n",
      "Training - Epoch [6/60], Step [40/100], Loss: 0.2350\n",
      "Training - Epoch [6/60], Step [50/100], Loss: 0.1719\n",
      "Training - Epoch [6/60], Step [60/100], Loss: 0.1485\n",
      "Training - Epoch [6/60], Step [70/100], Loss: 0.3223\n",
      "Training - Epoch [6/60], Step [80/100], Loss: 0.0593\n",
      "Training - Epoch [6/60], Step [90/100], Loss: 0.1436\n",
      "Training - Epoch [6/60], Step [100/100], Loss: 0.1943\n",
      "Validation - Epoch [6/60], Loss: 1.0120, Accuracy: 0.6427\n",
      "Model saved as mobilenet_v3_small_font_classifier_Binarization.pth\n",
      "Epoch 7\n",
      "-------------------------------\n",
      "Training - Epoch [7/60], Step [10/100], Loss: 0.0998\n",
      "Training - Epoch [7/60], Step [20/100], Loss: 0.0292\n",
      "Training - Epoch [7/60], Step [30/100], Loss: 0.0407\n",
      "Training - Epoch [7/60], Step [40/100], Loss: 0.0942\n",
      "Training - Epoch [7/60], Step [50/100], Loss: 0.0429\n",
      "Training - Epoch [7/60], Step [60/100], Loss: 0.2181\n",
      "Training - Epoch [7/60], Step [70/100], Loss: 0.1376\n",
      "Training - Epoch [7/60], Step [80/100], Loss: 0.1724\n",
      "Training - Epoch [7/60], Step [90/100], Loss: 0.1574\n",
      "Training - Epoch [7/60], Step [100/100], Loss: 0.1632\n",
      "Validation - Epoch [7/60], Loss: 0.1802, Accuracy: 0.9382\n",
      "Model saved as mobilenet_v3_small_font_classifier_Binarization.pth\n",
      "Epoch 8\n",
      "-------------------------------\n",
      "Training - Epoch [8/60], Step [10/100], Loss: 0.0757\n",
      "Training - Epoch [8/60], Step [20/100], Loss: 0.2064\n",
      "Training - Epoch [8/60], Step [30/100], Loss: 0.0753\n",
      "Training - Epoch [8/60], Step [40/100], Loss: 0.0753\n",
      "Training - Epoch [8/60], Step [50/100], Loss: 0.1365\n",
      "Training - Epoch [8/60], Step [60/100], Loss: 0.0969\n",
      "Training - Epoch [8/60], Step [70/100], Loss: 0.1912\n",
      "Training - Epoch [8/60], Step [80/100], Loss: 0.0875\n",
      "Training - Epoch [8/60], Step [90/100], Loss: 0.1973\n",
      "Training - Epoch [8/60], Step [100/100], Loss: 0.1208\n",
      "Validation - Epoch [8/60], Loss: 0.3751, Accuracy: 0.8871\n",
      "Epoch 9\n",
      "-------------------------------\n",
      "Training - Epoch [9/60], Step [10/100], Loss: 0.1408\n",
      "Training - Epoch [9/60], Step [20/100], Loss: 0.1139\n",
      "Training - Epoch [9/60], Step [30/100], Loss: 0.0639\n",
      "Training - Epoch [9/60], Step [40/100], Loss: 0.0976\n",
      "Training - Epoch [9/60], Step [50/100], Loss: 0.0600\n",
      "Training - Epoch [9/60], Step [60/100], Loss: 0.1062\n",
      "Training - Epoch [9/60], Step [70/100], Loss: 0.0668\n",
      "Training - Epoch [9/60], Step [80/100], Loss: 0.0174\n",
      "Training - Epoch [9/60], Step [90/100], Loss: 0.0334\n",
      "Training - Epoch [9/60], Step [100/100], Loss: 0.1462\n",
      "Validation - Epoch [9/60], Loss: 0.2133, Accuracy: 0.9462\n",
      "Epoch 10\n",
      "-------------------------------\n",
      "Training - Epoch [10/60], Step [10/100], Loss: 0.0375\n",
      "Training - Epoch [10/60], Step [20/100], Loss: 0.0561\n",
      "Training - Epoch [10/60], Step [30/100], Loss: 0.0555\n",
      "Training - Epoch [10/60], Step [40/100], Loss: 0.1308\n",
      "Training - Epoch [10/60], Step [50/100], Loss: 0.0582\n",
      "Training - Epoch [10/60], Step [60/100], Loss: 0.0766\n",
      "Training - Epoch [10/60], Step [70/100], Loss: 0.0695\n",
      "Training - Epoch [10/60], Step [80/100], Loss: 0.0782\n",
      "Training - Epoch [10/60], Step [90/100], Loss: 0.0317\n",
      "Training - Epoch [10/60], Step [100/100], Loss: 0.0709\n",
      "Validation - Epoch [10/60], Loss: 0.2806, Accuracy: 0.9307\n",
      "Epoch 11\n",
      "-------------------------------\n",
      "Training - Epoch [11/60], Step [10/100], Loss: 0.0545\n",
      "Training - Epoch [11/60], Step [20/100], Loss: 0.2674\n",
      "Training - Epoch [11/60], Step [30/100], Loss: 0.0248\n",
      "Training - Epoch [11/60], Step [40/100], Loss: 0.0608\n",
      "Training - Epoch [11/60], Step [50/100], Loss: 0.0192\n",
      "Training - Epoch [11/60], Step [60/100], Loss: 0.2059\n",
      "Training - Epoch [11/60], Step [70/100], Loss: 0.0765\n",
      "Training - Epoch [11/60], Step [80/100], Loss: 0.0276\n",
      "Training - Epoch [11/60], Step [90/100], Loss: 0.0714\n",
      "Training - Epoch [11/60], Step [100/100], Loss: 0.0414\n",
      "Validation - Epoch [11/60], Loss: 0.1614, Accuracy: 0.9609\n",
      "Model saved as mobilenet_v3_small_font_classifier_Binarization.pth\n",
      "Epoch 12\n",
      "-------------------------------\n",
      "Training - Epoch [12/60], Step [10/100], Loss: 0.0299\n",
      "Training - Epoch [12/60], Step [20/100], Loss: 0.0432\n",
      "Training - Epoch [12/60], Step [30/100], Loss: 0.0215\n",
      "Training - Epoch [12/60], Step [40/100], Loss: 0.0827\n",
      "Training - Epoch [12/60], Step [50/100], Loss: 0.0407\n",
      "Training - Epoch [12/60], Step [60/100], Loss: 0.0640\n",
      "Training - Epoch [12/60], Step [70/100], Loss: 0.0656\n",
      "Training - Epoch [12/60], Step [80/100], Loss: 0.0526\n",
      "Training - Epoch [12/60], Step [90/100], Loss: 0.0218\n",
      "Training - Epoch [12/60], Step [100/100], Loss: 0.1179\n",
      "Validation - Epoch [12/60], Loss: 0.3567, Accuracy: 0.9182\n",
      "Epoch 13\n",
      "-------------------------------\n",
      "Training - Epoch [13/60], Step [10/100], Loss: 0.1757\n",
      "Training - Epoch [13/60], Step [20/100], Loss: 0.0909\n",
      "Training - Epoch [13/60], Step [30/100], Loss: 0.0589\n",
      "Training - Epoch [13/60], Step [40/100], Loss: 0.0459\n",
      "Training - Epoch [13/60], Step [50/100], Loss: 0.0142\n",
      "Training - Epoch [13/60], Step [60/100], Loss: 0.0608\n",
      "Training - Epoch [13/60], Step [70/100], Loss: 0.0594\n",
      "Training - Epoch [13/60], Step [80/100], Loss: 0.0904\n",
      "Training - Epoch [13/60], Step [90/100], Loss: 0.0916\n",
      "Training - Epoch [13/60], Step [100/100], Loss: 0.1726\n",
      "Validation - Epoch [13/60], Loss: 0.2180, Accuracy: 0.9484\n",
      "Epoch 14\n",
      "-------------------------------\n",
      "Training - Epoch [14/60], Step [10/100], Loss: 0.0136\n",
      "Training - Epoch [14/60], Step [20/100], Loss: 0.0789\n",
      "Training - Epoch [14/60], Step [30/100], Loss: 0.1133\n",
      "Training - Epoch [14/60], Step [40/100], Loss: 0.1202\n",
      "Training - Epoch [14/60], Step [50/100], Loss: 0.1235\n",
      "Training - Epoch [14/60], Step [60/100], Loss: 0.0140\n",
      "Training - Epoch [14/60], Step [70/100], Loss: 0.0459\n",
      "Training - Epoch [14/60], Step [80/100], Loss: 0.2239\n",
      "Training - Epoch [14/60], Step [90/100], Loss: 0.0470\n",
      "Training - Epoch [14/60], Step [100/100], Loss: 0.0765\n",
      "Validation - Epoch [14/60], Loss: 0.2239, Accuracy: 0.9507\n",
      "Epoch 15\n",
      "-------------------------------\n",
      "Training - Epoch [15/60], Step [10/100], Loss: 0.0713\n",
      "Training - Epoch [15/60], Step [20/100], Loss: 0.1249\n",
      "Training - Epoch [15/60], Step [30/100], Loss: 0.0565\n",
      "Training - Epoch [15/60], Step [40/100], Loss: 0.1640\n",
      "Training - Epoch [15/60], Step [50/100], Loss: 0.0420\n",
      "Training - Epoch [15/60], Step [60/100], Loss: 0.0758\n",
      "Training - Epoch [15/60], Step [70/100], Loss: 0.0496\n",
      "Training - Epoch [15/60], Step [80/100], Loss: 0.0314\n",
      "Training - Epoch [15/60], Step [90/100], Loss: 0.0240\n",
      "Training - Epoch [15/60], Step [100/100], Loss: 0.0190\n",
      "Validation - Epoch [15/60], Loss: 0.5548, Accuracy: 0.8809\n",
      "Epoch 16\n",
      "-------------------------------\n",
      "Training - Epoch [16/60], Step [10/100], Loss: 0.0385\n",
      "Training - Epoch [16/60], Step [20/100], Loss: 0.0573\n",
      "Training - Epoch [16/60], Step [30/100], Loss: 0.0328\n",
      "Training - Epoch [16/60], Step [40/100], Loss: 0.0627\n",
      "Training - Epoch [16/60], Step [50/100], Loss: 0.0909\n",
      "Training - Epoch [16/60], Step [60/100], Loss: 0.1374\n",
      "Training - Epoch [16/60], Step [70/100], Loss: 0.0616\n",
      "Training - Epoch [16/60], Step [80/100], Loss: 0.0409\n",
      "Training - Epoch [16/60], Step [90/100], Loss: 0.0194\n",
      "Training - Epoch [16/60], Step [100/100], Loss: 0.0047\n",
      "Validation - Epoch [16/60], Loss: 0.1175, Accuracy: 0.9707\n",
      "Model saved as mobilenet_v3_small_font_classifier_Binarization.pth\n",
      "Epoch 17\n",
      "-------------------------------\n",
      "Training - Epoch [17/60], Step [10/100], Loss: 0.0079\n",
      "Training - Epoch [17/60], Step [20/100], Loss: 0.0202\n",
      "Training - Epoch [17/60], Step [30/100], Loss: 0.0361\n",
      "Training - Epoch [17/60], Step [40/100], Loss: 0.0572\n",
      "Training - Epoch [17/60], Step [50/100], Loss: 0.0042\n",
      "Training - Epoch [17/60], Step [60/100], Loss: 0.0216\n",
      "Training - Epoch [17/60], Step [70/100], Loss: 0.0452\n",
      "Training - Epoch [17/60], Step [80/100], Loss: 0.0207\n",
      "Training - Epoch [17/60], Step [90/100], Loss: 0.0236\n",
      "Training - Epoch [17/60], Step [100/100], Loss: 0.0251\n",
      "Validation - Epoch [17/60], Loss: 0.3117, Accuracy: 0.9280\n",
      "Epoch 18\n",
      "-------------------------------\n",
      "Training - Epoch [18/60], Step [10/100], Loss: 0.0791\n",
      "Training - Epoch [18/60], Step [20/100], Loss: 0.0523\n",
      "Training - Epoch [18/60], Step [30/100], Loss: 0.0218\n",
      "Training - Epoch [18/60], Step [40/100], Loss: 0.0849\n",
      "Training - Epoch [18/60], Step [50/100], Loss: 0.0238\n",
      "Training - Epoch [18/60], Step [60/100], Loss: 0.1067\n",
      "Training - Epoch [18/60], Step [70/100], Loss: 0.0621\n",
      "Training - Epoch [18/60], Step [80/100], Loss: 0.0178\n",
      "Training - Epoch [18/60], Step [90/100], Loss: 0.0168\n",
      "Training - Epoch [18/60], Step [100/100], Loss: 0.1192\n",
      "Validation - Epoch [18/60], Loss: 0.1672, Accuracy: 0.9587\n",
      "Epoch 19\n",
      "-------------------------------\n",
      "Training - Epoch [19/60], Step [10/100], Loss: 0.0196\n",
      "Training - Epoch [19/60], Step [20/100], Loss: 0.0264\n",
      "Training - Epoch [19/60], Step [30/100], Loss: 0.0102\n",
      "Training - Epoch [19/60], Step [40/100], Loss: 0.0088\n",
      "Training - Epoch [19/60], Step [50/100], Loss: 0.0499\n",
      "Training - Epoch [19/60], Step [60/100], Loss: 0.0239\n",
      "Training - Epoch [19/60], Step [70/100], Loss: 0.0659\n",
      "Training - Epoch [19/60], Step [80/100], Loss: 0.0463\n",
      "Training - Epoch [19/60], Step [90/100], Loss: 0.0683\n",
      "Training - Epoch [19/60], Step [100/100], Loss: 0.0507\n",
      "Validation - Epoch [19/60], Loss: 0.2011, Accuracy: 0.9440\n",
      "Epoch 20\n",
      "-------------------------------\n",
      "Training - Epoch [20/60], Step [10/100], Loss: 0.0517\n",
      "Training - Epoch [20/60], Step [20/100], Loss: 0.0652\n",
      "Training - Epoch [20/60], Step [30/100], Loss: 0.0305\n",
      "Training - Epoch [20/60], Step [40/100], Loss: 0.0389\n",
      "Training - Epoch [20/60], Step [50/100], Loss: 0.0197\n",
      "Training - Epoch [20/60], Step [60/100], Loss: 0.0268\n",
      "Training - Epoch [20/60], Step [70/100], Loss: 0.0554\n",
      "Training - Epoch [20/60], Step [80/100], Loss: 0.0156\n",
      "Training - Epoch [20/60], Step [90/100], Loss: 0.1599\n",
      "Training - Epoch [20/60], Step [100/100], Loss: 0.0528\n",
      "Validation - Epoch [20/60], Loss: 0.1454, Accuracy: 0.9662\n",
      "Epoch 21\n",
      "-------------------------------\n",
      "Training - Epoch [21/60], Step [10/100], Loss: 0.0247\n",
      "Training - Epoch [21/60], Step [20/100], Loss: 0.0317\n",
      "Training - Epoch [21/60], Step [30/100], Loss: 0.0277\n",
      "Training - Epoch [21/60], Step [40/100], Loss: 0.0023\n",
      "Training - Epoch [21/60], Step [50/100], Loss: 0.0548\n",
      "Training - Epoch [21/60], Step [60/100], Loss: 0.0683\n",
      "Training - Epoch [21/60], Step [70/100], Loss: 0.0097\n",
      "Training - Epoch [21/60], Step [80/100], Loss: 0.0656\n",
      "Training - Epoch [21/60], Step [90/100], Loss: 0.0825\n",
      "Training - Epoch [21/60], Step [100/100], Loss: 0.0141\n",
      "Validation - Epoch [21/60], Loss: 0.1184, Accuracy: 0.9707\n",
      "Epoch 22\n",
      "-------------------------------\n",
      "Training - Epoch [22/60], Step [10/100], Loss: 0.0919\n",
      "Training - Epoch [22/60], Step [20/100], Loss: 0.0114\n",
      "Training - Epoch [22/60], Step [30/100], Loss: 0.0170\n",
      "Training - Epoch [22/60], Step [40/100], Loss: 0.0224\n",
      "Training - Epoch [22/60], Step [50/100], Loss: 0.0428\n",
      "Training - Epoch [22/60], Step [60/100], Loss: 0.0086\n",
      "Training - Epoch [22/60], Step [70/100], Loss: 0.0156\n",
      "Training - Epoch [22/60], Step [80/100], Loss: 0.1193\n",
      "Training - Epoch [22/60], Step [90/100], Loss: 0.0109\n",
      "Training - Epoch [22/60], Step [100/100], Loss: 0.0410\n",
      "Validation - Epoch [22/60], Loss: 0.0943, Accuracy: 0.9764\n",
      "Model saved as mobilenet_v3_small_font_classifier_Binarization.pth\n",
      "Epoch 23\n",
      "-------------------------------\n",
      "Training - Epoch [23/60], Step [10/100], Loss: 0.0022\n",
      "Training - Epoch [23/60], Step [20/100], Loss: 0.0282\n",
      "Training - Epoch [23/60], Step [30/100], Loss: 0.0009\n",
      "Training - Epoch [23/60], Step [40/100], Loss: 0.0122\n",
      "Training - Epoch [23/60], Step [50/100], Loss: 0.0013\n",
      "Training - Epoch [23/60], Step [60/100], Loss: 0.0897\n",
      "Training - Epoch [23/60], Step [70/100], Loss: 0.0870\n",
      "Training - Epoch [23/60], Step [80/100], Loss: 0.0286\n",
      "Training - Epoch [23/60], Step [90/100], Loss: 0.0491\n",
      "Training - Epoch [23/60], Step [100/100], Loss: 0.0108\n",
      "Validation - Epoch [23/60], Loss: 0.3275, Accuracy: 0.9262\n",
      "Epoch 24\n",
      "-------------------------------\n",
      "Training - Epoch [24/60], Step [10/100], Loss: 0.0048\n",
      "Training - Epoch [24/60], Step [20/100], Loss: 0.0107\n",
      "Training - Epoch [24/60], Step [30/100], Loss: 0.0121\n",
      "Training - Epoch [24/60], Step [40/100], Loss: 0.0146\n",
      "Training - Epoch [24/60], Step [50/100], Loss: 0.0558\n",
      "Training - Epoch [24/60], Step [60/100], Loss: 0.0414\n",
      "Training - Epoch [24/60], Step [70/100], Loss: 0.0154\n",
      "Training - Epoch [24/60], Step [80/100], Loss: 0.0215\n",
      "Training - Epoch [24/60], Step [90/100], Loss: 0.0049\n",
      "Training - Epoch [24/60], Step [100/100], Loss: 0.0735\n",
      "Validation - Epoch [24/60], Loss: 0.1463, Accuracy: 0.9564\n",
      "Epoch 25\n",
      "-------------------------------\n",
      "Training - Epoch [25/60], Step [10/100], Loss: 0.0073\n",
      "Training - Epoch [25/60], Step [20/100], Loss: 0.0511\n",
      "Training - Epoch [25/60], Step [30/100], Loss: 0.0380\n",
      "Training - Epoch [25/60], Step [40/100], Loss: 0.0130\n",
      "Training - Epoch [25/60], Step [50/100], Loss: 0.0401\n",
      "Training - Epoch [25/60], Step [60/100], Loss: 0.0037\n",
      "Training - Epoch [25/60], Step [70/100], Loss: 0.0064\n",
      "Training - Epoch [25/60], Step [80/100], Loss: 0.0214\n",
      "Training - Epoch [25/60], Step [90/100], Loss: 0.0022\n",
      "Training - Epoch [25/60], Step [100/100], Loss: 0.0145\n",
      "Validation - Epoch [25/60], Loss: 0.1630, Accuracy: 0.9604\n",
      "Epoch 26\n",
      "-------------------------------\n",
      "Training - Epoch [26/60], Step [10/100], Loss: 0.0437\n",
      "Training - Epoch [26/60], Step [20/100], Loss: 0.0093\n",
      "Training - Epoch [26/60], Step [30/100], Loss: 0.0878\n",
      "Training - Epoch [26/60], Step [40/100], Loss: 0.0145\n",
      "Training - Epoch [26/60], Step [50/100], Loss: 0.0252\n",
      "Training - Epoch [26/60], Step [60/100], Loss: 0.0503\n",
      "Training - Epoch [26/60], Step [70/100], Loss: 0.0935\n",
      "Training - Epoch [26/60], Step [80/100], Loss: 0.0884\n",
      "Training - Epoch [26/60], Step [90/100], Loss: 0.0440\n",
      "Training - Epoch [26/60], Step [100/100], Loss: 0.0211\n",
      "Validation - Epoch [26/60], Loss: 0.3596, Accuracy: 0.9382\n",
      "Epoch 27\n",
      "-------------------------------\n",
      "Training - Epoch [27/60], Step [10/100], Loss: 0.0083\n",
      "Training - Epoch [27/60], Step [20/100], Loss: 0.0047\n",
      "Training - Epoch [27/60], Step [30/100], Loss: 0.0410\n",
      "Training - Epoch [27/60], Step [40/100], Loss: 0.0040\n",
      "Training - Epoch [27/60], Step [50/100], Loss: 0.0398\n",
      "Training - Epoch [27/60], Step [60/100], Loss: 0.0092\n",
      "Training - Epoch [27/60], Step [70/100], Loss: 0.0179\n",
      "Training - Epoch [27/60], Step [80/100], Loss: 0.0366\n",
      "Training - Epoch [27/60], Step [90/100], Loss: 0.0750\n",
      "Training - Epoch [27/60], Step [100/100], Loss: 0.0051\n",
      "Validation - Epoch [27/60], Loss: 0.2402, Accuracy: 0.9484\n",
      "Epoch 28\n",
      "-------------------------------\n",
      "Training - Epoch [28/60], Step [10/100], Loss: 0.0314\n",
      "Training - Epoch [28/60], Step [20/100], Loss: 0.0287\n",
      "Training - Epoch [28/60], Step [30/100], Loss: 0.0440\n",
      "Training - Epoch [28/60], Step [40/100], Loss: 0.0726\n",
      "Training - Epoch [28/60], Step [50/100], Loss: 0.0141\n",
      "Training - Epoch [28/60], Step [60/100], Loss: 0.0386\n",
      "Training - Epoch [28/60], Step [70/100], Loss: 0.2098\n",
      "Training - Epoch [28/60], Step [80/100], Loss: 0.0330\n",
      "Training - Epoch [28/60], Step [90/100], Loss: 0.0387\n",
      "Training - Epoch [28/60], Step [100/100], Loss: 0.0446\n",
      "Validation - Epoch [28/60], Loss: 0.1861, Accuracy: 0.9560\n",
      "Epoch 29\n",
      "-------------------------------\n",
      "Training - Epoch [29/60], Step [10/100], Loss: 0.1356\n",
      "Training - Epoch [29/60], Step [20/100], Loss: 0.0131\n",
      "Training - Epoch [29/60], Step [30/100], Loss: 0.0600\n",
      "Training - Epoch [29/60], Step [40/100], Loss: 0.0424\n",
      "Training - Epoch [29/60], Step [50/100], Loss: 0.0273\n",
      "Training - Epoch [29/60], Step [60/100], Loss: 0.0341\n",
      "Training - Epoch [29/60], Step [70/100], Loss: 0.0645\n",
      "Training - Epoch [29/60], Step [80/100], Loss: 0.0944\n",
      "Training - Epoch [29/60], Step [90/100], Loss: 0.0036\n",
      "Training - Epoch [29/60], Step [100/100], Loss: 0.0424\n",
      "Validation - Epoch [29/60], Loss: 0.1178, Accuracy: 0.9711\n",
      "Epoch 30\n",
      "-------------------------------\n",
      "Training - Epoch [30/60], Step [10/100], Loss: 0.0684\n",
      "Training - Epoch [30/60], Step [20/100], Loss: 0.0027\n",
      "Training - Epoch [30/60], Step [30/100], Loss: 0.0619\n",
      "Training - Epoch [30/60], Step [40/100], Loss: 0.0076\n",
      "Training - Epoch [30/60], Step [50/100], Loss: 0.0523\n",
      "Training - Epoch [30/60], Step [60/100], Loss: 0.0042\n",
      "Training - Epoch [30/60], Step [70/100], Loss: 0.0126\n",
      "Training - Epoch [30/60], Step [80/100], Loss: 0.0318\n",
      "Training - Epoch [30/60], Step [90/100], Loss: 0.0623\n",
      "Training - Epoch [30/60], Step [100/100], Loss: 0.0269\n",
      "Validation - Epoch [30/60], Loss: 0.1940, Accuracy: 0.9587\n",
      "Epoch 31\n",
      "-------------------------------\n",
      "Training - Epoch [31/60], Step [10/100], Loss: 0.0158\n",
      "Training - Epoch [31/60], Step [20/100], Loss: 0.0240\n",
      "Training - Epoch [31/60], Step [30/100], Loss: 0.0401\n",
      "Training - Epoch [31/60], Step [40/100], Loss: 0.0095\n",
      "Training - Epoch [31/60], Step [50/100], Loss: 0.0342\n",
      "Training - Epoch [31/60], Step [60/100], Loss: 0.0155\n",
      "Training - Epoch [31/60], Step [70/100], Loss: 0.0048\n",
      "Training - Epoch [31/60], Step [80/100], Loss: 0.0436\n",
      "Training - Epoch [31/60], Step [90/100], Loss: 0.0108\n",
      "Training - Epoch [31/60], Step [100/100], Loss: 0.0067\n",
      "Validation - Epoch [31/60], Loss: 0.0899, Accuracy: 0.9769\n",
      "Model saved as mobilenet_v3_small_font_classifier_Binarization.pth\n",
      "Epoch 32\n",
      "-------------------------------\n",
      "Training - Epoch [32/60], Step [10/100], Loss: 0.0042\n",
      "Training - Epoch [32/60], Step [20/100], Loss: 0.0606\n",
      "Training - Epoch [32/60], Step [30/100], Loss: 0.0339\n",
      "Training - Epoch [32/60], Step [40/100], Loss: 0.0267\n",
      "Training - Epoch [32/60], Step [50/100], Loss: 0.0002\n",
      "Training - Epoch [32/60], Step [60/100], Loss: 0.0871\n",
      "Training - Epoch [32/60], Step [70/100], Loss: 0.0192\n",
      "Training - Epoch [32/60], Step [80/100], Loss: 0.1040\n",
      "Training - Epoch [32/60], Step [90/100], Loss: 0.0683\n",
      "Training - Epoch [32/60], Step [100/100], Loss: 0.1110\n",
      "Validation - Epoch [32/60], Loss: 5.1788, Accuracy: 0.7022\n",
      "Epoch 33\n",
      "-------------------------------\n",
      "Training - Epoch [33/60], Step [10/100], Loss: 0.0544\n",
      "Training - Epoch [33/60], Step [20/100], Loss: 0.0225\n",
      "Training - Epoch [33/60], Step [30/100], Loss: 0.1520\n",
      "Training - Epoch [33/60], Step [40/100], Loss: 0.2166\n",
      "Training - Epoch [33/60], Step [50/100], Loss: 0.0074\n",
      "Training - Epoch [33/60], Step [60/100], Loss: 0.0474\n",
      "Training - Epoch [33/60], Step [70/100], Loss: 0.0163\n",
      "Training - Epoch [33/60], Step [80/100], Loss: 0.2997\n",
      "Training - Epoch [33/60], Step [90/100], Loss: 0.0035\n",
      "Training - Epoch [33/60], Step [100/100], Loss: 0.0138\n",
      "Validation - Epoch [33/60], Loss: 0.0950, Accuracy: 0.9751\n",
      "Epoch 34\n",
      "-------------------------------\n",
      "Training - Epoch [34/60], Step [10/100], Loss: 0.0049\n",
      "Training - Epoch [34/60], Step [20/100], Loss: 0.0278\n",
      "Training - Epoch [34/60], Step [30/100], Loss: 0.0347\n",
      "Training - Epoch [34/60], Step [40/100], Loss: 0.0572\n",
      "Training - Epoch [34/60], Step [50/100], Loss: 0.0059\n",
      "Training - Epoch [34/60], Step [60/100], Loss: 0.0340\n",
      "Training - Epoch [34/60], Step [70/100], Loss: 0.2096\n",
      "Training - Epoch [34/60], Step [80/100], Loss: 0.0708\n",
      "Training - Epoch [34/60], Step [90/100], Loss: 0.0234\n",
      "Training - Epoch [34/60], Step [100/100], Loss: 0.0427\n",
      "Validation - Epoch [34/60], Loss: 0.3097, Accuracy: 0.9676\n",
      "Epoch 35\n",
      "-------------------------------\n",
      "Training - Epoch [35/60], Step [10/100], Loss: 0.0691\n",
      "Training - Epoch [35/60], Step [20/100], Loss: 0.0069\n",
      "Training - Epoch [35/60], Step [30/100], Loss: 0.0134\n",
      "Training - Epoch [35/60], Step [40/100], Loss: 0.0184\n",
      "Training - Epoch [35/60], Step [50/100], Loss: 0.0157\n",
      "Training - Epoch [35/60], Step [60/100], Loss: 0.0231\n",
      "Training - Epoch [35/60], Step [70/100], Loss: 0.0640\n",
      "Training - Epoch [35/60], Step [80/100], Loss: 0.0664\n",
      "Training - Epoch [35/60], Step [90/100], Loss: 0.0912\n",
      "Training - Epoch [35/60], Step [100/100], Loss: 0.0269\n",
      "Validation - Epoch [35/60], Loss: 0.1761, Accuracy: 0.9662\n",
      "Epoch 36\n",
      "-------------------------------\n",
      "Training - Epoch [36/60], Step [10/100], Loss: 0.0049\n",
      "Training - Epoch [36/60], Step [20/100], Loss: 0.0096\n",
      "Training - Epoch [36/60], Step [30/100], Loss: 0.0017\n",
      "Training - Epoch [36/60], Step [40/100], Loss: 0.0042\n",
      "Training - Epoch [36/60], Step [50/100], Loss: 0.0017\n",
      "Training - Epoch [36/60], Step [60/100], Loss: 0.0043\n",
      "Training - Epoch [36/60], Step [70/100], Loss: 0.0231\n",
      "Training - Epoch [36/60], Step [80/100], Loss: 0.0453\n",
      "Training - Epoch [36/60], Step [90/100], Loss: 0.1413\n",
      "Training - Epoch [36/60], Step [100/100], Loss: 0.1149\n",
      "Validation - Epoch [36/60], Loss: 0.2653, Accuracy: 0.9467\n",
      "Epoch 37\n",
      "-------------------------------\n",
      "Training - Epoch [37/60], Step [10/100], Loss: 0.0123\n",
      "Training - Epoch [37/60], Step [20/100], Loss: 0.0103\n",
      "Training - Epoch [37/60], Step [30/100], Loss: 0.0503\n",
      "Training - Epoch [37/60], Step [40/100], Loss: 0.0123\n",
      "Training - Epoch [37/60], Step [50/100], Loss: 0.0080\n",
      "Training - Epoch [37/60], Step [60/100], Loss: 0.0008\n",
      "Training - Epoch [37/60], Step [70/100], Loss: 0.0003\n",
      "Training - Epoch [37/60], Step [80/100], Loss: 0.0455\n",
      "Training - Epoch [37/60], Step [90/100], Loss: 0.0187\n",
      "Training - Epoch [37/60], Step [100/100], Loss: 0.0139\n",
      "Validation - Epoch [37/60], Loss: 0.1675, Accuracy: 0.9631\n",
      "Epoch 38\n",
      "-------------------------------\n",
      "Training - Epoch [38/60], Step [10/100], Loss: 0.0127\n",
      "Training - Epoch [38/60], Step [20/100], Loss: 0.0363\n",
      "Training - Epoch [38/60], Step [30/100], Loss: 0.0087\n",
      "Training - Epoch [38/60], Step [40/100], Loss: 0.0125\n",
      "Training - Epoch [38/60], Step [50/100], Loss: 0.0020\n",
      "Training - Epoch [38/60], Step [60/100], Loss: 0.0145\n",
      "Training - Epoch [38/60], Step [70/100], Loss: 0.0131\n",
      "Training - Epoch [38/60], Step [80/100], Loss: 0.0052\n",
      "Training - Epoch [38/60], Step [90/100], Loss: 0.0101\n",
      "Training - Epoch [38/60], Step [100/100], Loss: 0.0182\n",
      "Validation - Epoch [38/60], Loss: 0.0990, Accuracy: 0.9751\n",
      "Epoch 39\n",
      "-------------------------------\n",
      "Training - Epoch [39/60], Step [10/100], Loss: 0.0254\n",
      "Training - Epoch [39/60], Step [20/100], Loss: 0.0082\n",
      "Training - Epoch [39/60], Step [30/100], Loss: 0.0033\n",
      "Training - Epoch [39/60], Step [40/100], Loss: 0.0421\n",
      "Training - Epoch [39/60], Step [50/100], Loss: 0.0005\n",
      "Training - Epoch [39/60], Step [60/100], Loss: 0.0005\n",
      "Training - Epoch [39/60], Step [70/100], Loss: 0.0004\n",
      "Training - Epoch [39/60], Step [80/100], Loss: 0.0006\n",
      "Training - Epoch [39/60], Step [90/100], Loss: 0.0034\n",
      "Training - Epoch [39/60], Step [100/100], Loss: 0.0043\n",
      "Validation - Epoch [39/60], Loss: 0.0791, Accuracy: 0.9773\n",
      "Model saved as mobilenet_v3_small_font_classifier_Binarization.pth\n",
      "Epoch 40\n",
      "-------------------------------\n",
      "Training - Epoch [40/60], Step [10/100], Loss: 0.0660\n",
      "Training - Epoch [40/60], Step [20/100], Loss: 0.0672\n",
      "Training - Epoch [40/60], Step [30/100], Loss: 0.0178\n",
      "Training - Epoch [40/60], Step [40/100], Loss: 0.0002\n",
      "Training - Epoch [40/60], Step [50/100], Loss: 0.2502\n",
      "Training - Epoch [40/60], Step [60/100], Loss: 0.0082\n",
      "Training - Epoch [40/60], Step [70/100], Loss: 0.0198\n",
      "Training - Epoch [40/60], Step [80/100], Loss: 0.0789\n",
      "Training - Epoch [40/60], Step [90/100], Loss: 0.0270\n",
      "Training - Epoch [40/60], Step [100/100], Loss: 0.0065\n",
      "Validation - Epoch [40/60], Loss: 0.1087, Accuracy: 0.9747\n",
      "Epoch 41\n",
      "-------------------------------\n",
      "Training - Epoch [41/60], Step [10/100], Loss: 0.1229\n",
      "Training - Epoch [41/60], Step [20/100], Loss: 0.0317\n",
      "Training - Epoch [41/60], Step [30/100], Loss: 0.0711\n",
      "Training - Epoch [41/60], Step [40/100], Loss: 0.0428\n",
      "Training - Epoch [41/60], Step [50/100], Loss: 0.0078\n",
      "Training - Epoch [41/60], Step [60/100], Loss: 0.0338\n",
      "Training - Epoch [41/60], Step [70/100], Loss: 0.0045\n",
      "Training - Epoch [41/60], Step [80/100], Loss: 0.0096\n",
      "Training - Epoch [41/60], Step [90/100], Loss: 0.1131\n",
      "Training - Epoch [41/60], Step [100/100], Loss: 0.0187\n",
      "Validation - Epoch [41/60], Loss: 0.1571, Accuracy: 0.9653\n",
      "Epoch 42\n",
      "-------------------------------\n",
      "Training - Epoch [42/60], Step [10/100], Loss: 0.0098\n",
      "Training - Epoch [42/60], Step [20/100], Loss: 0.0036\n",
      "Training - Epoch [42/60], Step [30/100], Loss: 0.0009\n",
      "Training - Epoch [42/60], Step [40/100], Loss: 0.0521\n",
      "Training - Epoch [42/60], Step [50/100], Loss: 0.0445\n",
      "Training - Epoch [42/60], Step [60/100], Loss: 0.0483\n",
      "Training - Epoch [42/60], Step [70/100], Loss: 0.0028\n",
      "Training - Epoch [42/60], Step [80/100], Loss: 0.0157\n",
      "Training - Epoch [42/60], Step [90/100], Loss: 0.0895\n",
      "Training - Epoch [42/60], Step [100/100], Loss: 0.0063\n",
      "Validation - Epoch [42/60], Loss: 0.1800, Accuracy: 0.9649\n",
      "Epoch 43\n",
      "-------------------------------\n",
      "Training - Epoch [43/60], Step [10/100], Loss: 0.0043\n",
      "Training - Epoch [43/60], Step [20/100], Loss: 0.0014\n",
      "Training - Epoch [43/60], Step [30/100], Loss: 0.0009\n",
      "Training - Epoch [43/60], Step [40/100], Loss: 0.0306\n",
      "Training - Epoch [43/60], Step [50/100], Loss: 0.0205\n",
      "Training - Epoch [43/60], Step [60/100], Loss: 0.0193\n",
      "Training - Epoch [43/60], Step [70/100], Loss: 0.0006\n",
      "Training - Epoch [43/60], Step [80/100], Loss: 0.0043\n",
      "Training - Epoch [43/60], Step [90/100], Loss: 0.0260\n",
      "Training - Epoch [43/60], Step [100/100], Loss: 0.0038\n",
      "Validation - Epoch [43/60], Loss: 0.1321, Accuracy: 0.9698\n",
      "Epoch 44\n",
      "-------------------------------\n",
      "Training - Epoch [44/60], Step [10/100], Loss: 0.0184\n",
      "Training - Epoch [44/60], Step [20/100], Loss: 0.0723\n",
      "Training - Epoch [44/60], Step [30/100], Loss: 0.0172\n",
      "Training - Epoch [44/60], Step [40/100], Loss: 0.0017\n",
      "Training - Epoch [44/60], Step [50/100], Loss: 0.0107\n",
      "Training - Epoch [44/60], Step [60/100], Loss: 0.0348\n",
      "Training - Epoch [44/60], Step [70/100], Loss: 0.0157\n",
      "Training - Epoch [44/60], Step [80/100], Loss: 0.0147\n",
      "Training - Epoch [44/60], Step [90/100], Loss: 0.0052\n",
      "Training - Epoch [44/60], Step [100/100], Loss: 0.0254\n",
      "Validation - Epoch [44/60], Loss: 0.1676, Accuracy: 0.9676\n",
      "Epoch 45\n",
      "-------------------------------\n",
      "Training - Epoch [45/60], Step [10/100], Loss: 0.0006\n",
      "Training - Epoch [45/60], Step [20/100], Loss: 0.0456\n",
      "Training - Epoch [45/60], Step [30/100], Loss: 0.0292\n",
      "Training - Epoch [45/60], Step [40/100], Loss: 0.0011\n",
      "Training - Epoch [45/60], Step [50/100], Loss: 0.0136\n",
      "Training - Epoch [45/60], Step [60/100], Loss: 0.0005\n",
      "Training - Epoch [45/60], Step [70/100], Loss: 0.0230\n",
      "Training - Epoch [45/60], Step [80/100], Loss: 0.0059\n",
      "Training - Epoch [45/60], Step [90/100], Loss: 0.0071\n",
      "Training - Epoch [45/60], Step [100/100], Loss: 0.0076\n",
      "Validation - Epoch [45/60], Loss: 0.1091, Accuracy: 0.9747\n",
      "Epoch 46\n",
      "-------------------------------\n",
      "Training - Epoch [46/60], Step [10/100], Loss: 0.0425\n",
      "Training - Epoch [46/60], Step [20/100], Loss: 0.0359\n",
      "Training - Epoch [46/60], Step [30/100], Loss: 0.0016\n",
      "Training - Epoch [46/60], Step [40/100], Loss: 0.0080\n",
      "Training - Epoch [46/60], Step [50/100], Loss: 0.0998\n",
      "Training - Epoch [46/60], Step [60/100], Loss: 0.0039\n",
      "Training - Epoch [46/60], Step [70/100], Loss: 0.0011\n",
      "Training - Epoch [46/60], Step [80/100], Loss: 0.0079\n",
      "Training - Epoch [46/60], Step [90/100], Loss: 0.0216\n",
      "Training - Epoch [46/60], Step [100/100], Loss: 0.0025\n",
      "Validation - Epoch [46/60], Loss: 0.1269, Accuracy: 0.9720\n",
      "Epoch 47\n",
      "-------------------------------\n",
      "Training - Epoch [47/60], Step [10/100], Loss: 0.0027\n",
      "Training - Epoch [47/60], Step [20/100], Loss: 0.0188\n",
      "Training - Epoch [47/60], Step [30/100], Loss: 0.0036\n",
      "Training - Epoch [47/60], Step [40/100], Loss: 0.0258\n",
      "Training - Epoch [47/60], Step [50/100], Loss: 0.0039\n",
      "Training - Epoch [47/60], Step [60/100], Loss: 0.0005\n",
      "Training - Epoch [47/60], Step [70/100], Loss: 0.0092\n",
      "Training - Epoch [47/60], Step [80/100], Loss: 0.0008\n",
      "Training - Epoch [47/60], Step [90/100], Loss: 0.0357\n",
      "Training - Epoch [47/60], Step [100/100], Loss: 0.0014\n",
      "Validation - Epoch [47/60], Loss: 0.1355, Accuracy: 0.9693\n",
      "Epoch 48\n",
      "-------------------------------\n",
      "Training - Epoch [48/60], Step [10/100], Loss: 0.0027\n",
      "Training - Epoch [48/60], Step [20/100], Loss: 0.0033\n",
      "Training - Epoch [48/60], Step [30/100], Loss: 0.0005\n",
      "Training - Epoch [48/60], Step [40/100], Loss: 0.0073\n",
      "Training - Epoch [48/60], Step [50/100], Loss: 0.0909\n",
      "Training - Epoch [48/60], Step [60/100], Loss: 0.0025\n",
      "Training - Epoch [48/60], Step [70/100], Loss: 0.0066\n",
      "Training - Epoch [48/60], Step [80/100], Loss: 0.0010\n",
      "Training - Epoch [48/60], Step [90/100], Loss: 0.0162\n",
      "Training - Epoch [48/60], Step [100/100], Loss: 0.0006\n",
      "Validation - Epoch [48/60], Loss: 0.1574, Accuracy: 0.9658\n",
      "Epoch 49\n",
      "-------------------------------\n",
      "Training - Epoch [49/60], Step [10/100], Loss: 0.0009\n",
      "Training - Epoch [49/60], Step [20/100], Loss: 0.0020\n",
      "Training - Epoch [49/60], Step [30/100], Loss: 0.0107\n",
      "Training - Epoch [49/60], Step [40/100], Loss: 0.0019\n",
      "Training - Epoch [49/60], Step [50/100], Loss: 0.0004\n",
      "Training - Epoch [49/60], Step [60/100], Loss: 0.0004\n",
      "Training - Epoch [49/60], Step [70/100], Loss: 0.0016\n",
      "Training - Epoch [49/60], Step [80/100], Loss: 0.0004\n",
      "Training - Epoch [49/60], Step [90/100], Loss: 0.0000\n",
      "Training - Epoch [49/60], Step [100/100], Loss: 0.0013\n",
      "Validation - Epoch [49/60], Loss: 0.1059, Accuracy: 0.9782\n",
      "Epoch 50\n",
      "-------------------------------\n",
      "Training - Epoch [50/60], Step [10/100], Loss: 0.0509\n",
      "Training - Epoch [50/60], Step [20/100], Loss: 0.0012\n",
      "Training - Epoch [50/60], Step [30/100], Loss: 0.0305\n",
      "Training - Epoch [50/60], Step [40/100], Loss: 0.0154\n",
      "Training - Epoch [50/60], Step [50/100], Loss: 0.0037\n",
      "Training - Epoch [50/60], Step [60/100], Loss: 0.0312\n",
      "Training - Epoch [50/60], Step [70/100], Loss: 0.0022\n",
      "Training - Epoch [50/60], Step [80/100], Loss: 0.0055\n",
      "Training - Epoch [50/60], Step [90/100], Loss: 0.0008\n",
      "Training - Epoch [50/60], Step [100/100], Loss: 0.0060\n",
      "Validation - Epoch [50/60], Loss: 0.0912, Accuracy: 0.9818\n",
      "Epoch 51\n",
      "-------------------------------\n",
      "Training - Epoch [51/60], Step [10/100], Loss: 0.0009\n",
      "Training - Epoch [51/60], Step [20/100], Loss: 0.0237\n",
      "Training - Epoch [51/60], Step [30/100], Loss: 0.0200\n",
      "Training - Epoch [51/60], Step [40/100], Loss: 0.0030\n",
      "Training - Epoch [51/60], Step [50/100], Loss: 0.0011\n",
      "Training - Epoch [51/60], Step [60/100], Loss: 0.0120\n",
      "Training - Epoch [51/60], Step [70/100], Loss: 0.0107\n",
      "Training - Epoch [51/60], Step [80/100], Loss: 0.0274\n",
      "Training - Epoch [51/60], Step [90/100], Loss: 0.0016\n",
      "Training - Epoch [51/60], Step [100/100], Loss: 0.0622\n",
      "Validation - Epoch [51/60], Loss: 0.2909, Accuracy: 0.9333\n",
      "Epoch 52\n",
      "-------------------------------\n",
      "Training - Epoch [52/60], Step [10/100], Loss: 0.0271\n",
      "Training - Epoch [52/60], Step [20/100], Loss: 0.0003\n",
      "Training - Epoch [52/60], Step [30/100], Loss: 0.0161\n",
      "Training - Epoch [52/60], Step [40/100], Loss: 0.0387\n",
      "Training - Epoch [52/60], Step [50/100], Loss: 0.0165\n",
      "Training - Epoch [52/60], Step [60/100], Loss: 0.0592\n",
      "Training - Epoch [52/60], Step [70/100], Loss: 0.0350\n",
      "Training - Epoch [52/60], Step [80/100], Loss: 0.0009\n",
      "Training - Epoch [52/60], Step [90/100], Loss: 0.0262\n",
      "Training - Epoch [52/60], Step [100/100], Loss: 0.0465\n",
      "Validation - Epoch [52/60], Loss: 0.1180, Accuracy: 0.9729\n",
      "Epoch 53\n",
      "-------------------------------\n",
      "Training - Epoch [53/60], Step [10/100], Loss: 0.0278\n",
      "Training - Epoch [53/60], Step [20/100], Loss: 0.0443\n",
      "Training - Epoch [53/60], Step [30/100], Loss: 0.0426\n",
      "Training - Epoch [53/60], Step [40/100], Loss: 0.0217\n",
      "Training - Epoch [53/60], Step [50/100], Loss: 0.0236\n",
      "Training - Epoch [53/60], Step [60/100], Loss: 0.1047\n",
      "Training - Epoch [53/60], Step [70/100], Loss: 0.1410\n",
      "Training - Epoch [53/60], Step [80/100], Loss: 0.0790\n",
      "Training - Epoch [53/60], Step [90/100], Loss: 0.0052\n",
      "Training - Epoch [53/60], Step [100/100], Loss: 0.0018\n",
      "Validation - Epoch [53/60], Loss: 0.1940, Accuracy: 0.9644\n",
      "Epoch 54\n",
      "-------------------------------\n",
      "Training - Epoch [54/60], Step [10/100], Loss: 0.0325\n",
      "Training - Epoch [54/60], Step [20/100], Loss: 0.0199\n",
      "Training - Epoch [54/60], Step [30/100], Loss: 0.0881\n",
      "Training - Epoch [54/60], Step [40/100], Loss: 0.0533\n",
      "Training - Epoch [54/60], Step [50/100], Loss: 0.0575\n",
      "Training - Epoch [54/60], Step [60/100], Loss: 0.0088\n",
      "Training - Epoch [54/60], Step [70/100], Loss: 0.0077\n",
      "Training - Epoch [54/60], Step [80/100], Loss: 0.1273\n",
      "Training - Epoch [54/60], Step [90/100], Loss: 0.0016\n",
      "Training - Epoch [54/60], Step [100/100], Loss: 0.0355\n",
      "Validation - Epoch [54/60], Loss: 0.6705, Accuracy: 0.9120\n",
      "Epoch 55\n",
      "-------------------------------\n",
      "Training - Epoch [55/60], Step [10/100], Loss: 0.0349\n",
      "Training - Epoch [55/60], Step [20/100], Loss: 0.0064\n",
      "Training - Epoch [55/60], Step [30/100], Loss: 0.1355\n",
      "Training - Epoch [55/60], Step [40/100], Loss: 0.0171\n",
      "Training - Epoch [55/60], Step [50/100], Loss: 0.0032\n",
      "Training - Epoch [55/60], Step [60/100], Loss: 0.0460\n",
      "Training - Epoch [55/60], Step [70/100], Loss: 0.0194\n",
      "Training - Epoch [55/60], Step [80/100], Loss: 0.0129\n",
      "Training - Epoch [55/60], Step [90/100], Loss: 0.0322\n",
      "Training - Epoch [55/60], Step [100/100], Loss: 0.0760\n",
      "Validation - Epoch [55/60], Loss: 0.2655, Accuracy: 0.9484\n",
      "Epoch 56\n",
      "-------------------------------\n",
      "Training - Epoch [56/60], Step [10/100], Loss: 0.0037\n",
      "Training - Epoch [56/60], Step [20/100], Loss: 0.0167\n",
      "Training - Epoch [56/60], Step [30/100], Loss: 0.0222\n",
      "Training - Epoch [56/60], Step [40/100], Loss: 0.0399\n",
      "Training - Epoch [56/60], Step [50/100], Loss: 0.0073\n",
      "Training - Epoch [56/60], Step [60/100], Loss: 0.0293\n",
      "Training - Epoch [56/60], Step [70/100], Loss: 0.0333\n",
      "Training - Epoch [56/60], Step [80/100], Loss: 0.0113\n",
      "Training - Epoch [56/60], Step [90/100], Loss: 0.0745\n",
      "Training - Epoch [56/60], Step [100/100], Loss: 0.0013\n",
      "Validation - Epoch [56/60], Loss: 0.0990, Accuracy: 0.9760\n",
      "Epoch 57\n",
      "-------------------------------\n",
      "Training - Epoch [57/60], Step [10/100], Loss: 0.0012\n",
      "Training - Epoch [57/60], Step [20/100], Loss: 0.0042\n",
      "Training - Epoch [57/60], Step [30/100], Loss: 0.0031\n",
      "Training - Epoch [57/60], Step [40/100], Loss: 0.0094\n",
      "Training - Epoch [57/60], Step [50/100], Loss: 0.0786\n",
      "Training - Epoch [57/60], Step [60/100], Loss: 0.2414\n",
      "Training - Epoch [57/60], Step [70/100], Loss: 0.0364\n",
      "Training - Epoch [57/60], Step [80/100], Loss: 0.0826\n",
      "Training - Epoch [57/60], Step [90/100], Loss: 0.0059\n",
      "Training - Epoch [57/60], Step [100/100], Loss: 0.0079\n",
      "Validation - Epoch [57/60], Loss: 0.1359, Accuracy: 0.9751\n",
      "Epoch 58\n",
      "-------------------------------\n",
      "Training - Epoch [58/60], Step [10/100], Loss: 0.0005\n",
      "Training - Epoch [58/60], Step [20/100], Loss: 0.0551\n",
      "Training - Epoch [58/60], Step [30/100], Loss: 0.0395\n",
      "Training - Epoch [58/60], Step [40/100], Loss: 0.0213\n",
      "Training - Epoch [58/60], Step [50/100], Loss: 0.0184\n",
      "Training - Epoch [58/60], Step [60/100], Loss: 0.0037\n",
      "Training - Epoch [58/60], Step [70/100], Loss: 0.0037\n",
      "Training - Epoch [58/60], Step [80/100], Loss: 0.0454\n",
      "Training - Epoch [58/60], Step [90/100], Loss: 0.0041\n",
      "Training - Epoch [58/60], Step [100/100], Loss: 0.0009\n",
      "Validation - Epoch [58/60], Loss: 0.1164, Accuracy: 0.9742\n",
      "Epoch 59\n",
      "-------------------------------\n",
      "Training - Epoch [59/60], Step [10/100], Loss: 0.0008\n",
      "Training - Epoch [59/60], Step [20/100], Loss: 0.0001\n",
      "Training - Epoch [59/60], Step [30/100], Loss: 0.0150\n",
      "Training - Epoch [59/60], Step [40/100], Loss: 0.0812\n",
      "Training - Epoch [59/60], Step [50/100], Loss: 0.0005\n",
      "Training - Epoch [59/60], Step [60/100], Loss: 0.0013\n",
      "Training - Epoch [59/60], Step [70/100], Loss: 0.0221\n",
      "Training - Epoch [59/60], Step [80/100], Loss: 0.0098\n",
      "Training - Epoch [59/60], Step [90/100], Loss: 0.0068\n",
      "Training - Epoch [59/60], Step [100/100], Loss: 0.0176\n",
      "Validation - Epoch [59/60], Loss: 0.3088, Accuracy: 0.9529\n",
      "Epoch 60\n",
      "-------------------------------\n",
      "Training - Epoch [60/60], Step [10/100], Loss: 0.0381\n",
      "Training - Epoch [60/60], Step [20/100], Loss: 0.0115\n",
      "Training - Epoch [60/60], Step [30/100], Loss: 0.0320\n",
      "Training - Epoch [60/60], Step [40/100], Loss: 0.0471\n",
      "Training - Epoch [60/60], Step [50/100], Loss: 0.0072\n",
      "Training - Epoch [60/60], Step [60/100], Loss: 0.0157\n",
      "Training - Epoch [60/60], Step [70/100], Loss: 0.0007\n",
      "Training - Epoch [60/60], Step [80/100], Loss: 0.0022\n",
      "Training - Epoch [60/60], Step [90/100], Loss: 0.0027\n",
      "Training - Epoch [60/60], Step [100/100], Loss: 0.0012\n",
      "Validation - Epoch [60/60], Loss: 0.1359, Accuracy: 0.9698\n"
     ]
    }
   ],
   "source": [
    "# Define the loss function\n",
    "criterion = torch.nn.CrossEntropyLoss()\n",
    "\n",
    "# Define the optimizer\n",
    "optimizer = torch.optim.Adam(model.parameters(), lr=0.001)\n",
    "\n",
    "# Training loop\n",
    "num_epochs = 60\n",
    "best_val_loss = float('inf')\n",
    "\n",
    "# Lists to store training and validation metrics for plotting\n",
    "train_losses = []\n",
    "train_accuracies = []\n",
    "val_losses = []\n",
    "val_accuracies = []\n",
    "\n",
    "# Set the model to training mode\n",
    "model.train()\n",
    "\n",
    "# Start the training loop\n",
    "start_time = time.time()\n",
    "for epoch in range(num_epochs):\n",
    "    print(f'Epoch {epoch + 1}\\n-------------------------------')\n",
    "    # Training phase\n",
    "    model.train()\n",
    "    train_loss = 0.0\n",
    "    correct_train = 0\n",
    "    total_train = 0\n",
    "    for i, (inputs, labels) in enumerate(train_loader):\n",
    "        inputs = inputs.to(device)\n",
    "        labels = labels.to(device)\n",
    "\n",
    "        # Forward pass\n",
    "        outputs = model(inputs)\n",
    "        loss = criterion(outputs, labels)\n",
    "\n",
    "        # Backward pass\n",
    "        optimizer.zero_grad()\n",
    "        loss.backward()\n",
    "        optimizer.step()\n",
    "\n",
    "        train_loss += loss.item() * inputs.size(0)\n",
    "        \n",
    "        # Calculate accuracy\n",
    "        _, predicted = torch.max(outputs, 1)\n",
    "        total_train += labels.size(0)\n",
    "        correct_train += (predicted == labels).sum().item()\n",
    "\n",
    "        # Print training statistics\n",
    "        if (i + 1) % 10 == 0:\n",
    "            print(f'Training - Epoch [{epoch + 1}/{num_epochs}], Step [{i + 1}/{len(train_loader)}], Loss: {loss.item():.4f}')\n",
    "\n",
    "    # Calculate average training loss and accuracy\n",
    "    train_loss /= len(train_loader.dataset)\n",
    "    train_accuracy = correct_train / total_train\n",
    "    train_losses.append(train_loss)\n",
    "    train_accuracies.append(train_accuracy)\n",
    "    \n",
    "    # Validation phase\n",
    "    model.eval()\n",
    "    val_loss = 0.0\n",
    "    correct_val = 0\n",
    "    total_val = 0\n",
    "    with torch.no_grad():\n",
    "        for i, (inputs, labels) in enumerate(val_loader):\n",
    "            inputs = inputs.to(device)\n",
    "            labels = labels.to(device)\n",
    "\n",
    "            # Forward pass\n",
    "            outputs = model(inputs)\n",
    "            loss = criterion(outputs, labels)\n",
    "\n",
    "            val_loss += loss.item() * inputs.size(0)\n",
    "\n",
    "            # Calculate accuracy\n",
    "            _, predicted = torch.max(outputs, 1)\n",
    "            total_val += labels.size(0)\n",
    "            correct_val += (predicted == labels).sum().item()\n",
    "\n",
    "    # Print validation statistics\n",
    "    val_loss /= len(val_loader.dataset)\n",
    "    val_accuracy = correct_val / total_val\n",
    "    val_losses.append(val_loss)\n",
    "    val_accuracies.append(val_accuracy)\n",
    "    print(f'Validation - Epoch [{epoch + 1}/{num_epochs}], Loss: {val_loss:.4f}, Accuracy: {val_accuracy:.4f}')\n",
    "\n",
    "    # Save the model if validation loss decreases\n",
    "    if val_loss < best_val_loss:\n",
    "        best_val_loss = val_loss\n",
    "        torch.save(model.state_dict(), f'../../models/{scope}/{model_name}_font_classifier_{type}.pth')\n",
    "        print(f'Model saved as {model_name}_font_classifier_{type}.pth')\n",
    "\n",
    "end_time = time.time()"
   ],
   "metadata": {
    "collapsed": false,
    "ExecuteTime": {
     "end_time": "2024-04-23T17:53:57.460195Z",
     "start_time": "2024-04-23T17:13:01.640979Z"
    }
   },
   "id": "126f35f98051a02a",
   "execution_count": 30
  },
  {
   "cell_type": "markdown",
   "source": [
    "# Plot the training and validation metrics"
   ],
   "metadata": {
    "collapsed": false
   },
   "id": "2f8d840ac9117197"
  },
  {
   "cell_type": "code",
   "outputs": [
    {
     "data": {
      "text/plain": "<Figure size 1200x500 with 2 Axes>",
      "image/png": "[encoded data removed]"
     },
     "metadata": {},
     "output_type": "display_data"
    },
    {
     "name": "stdout",
     "output_type": "stream",
     "text": [
      "Finished Training\n",
      "Time taken for training: 2455.79 seconds\n",
      "Medium time per epoch: 40.93 seconds\n"
     ]
    }
   ],
   "source": [
    "# Plotting\n",
    "plt.figure(figsize=(12, 5))\n",
    "plt.subplot(1, 2, 1)\n",
    "plt.plot(range(1, num_epochs + 1), train_losses, label='Training Loss')\n",
    "plt.plot(range(1, num_epochs + 1), val_losses, label='Validation Loss')\n",
    "plt.xlabel('Epochs')\n",
    "plt.ylabel('Loss')\n",
    "plt.title('Training and Validation Loss')\n",
    "plt.legend()\n",
    "\n",
    "plt.subplot(1, 2, 2)\n",
    "plt.plot(range(1, num_epochs + 1), train_accuracies, label='Training Accuracy')\n",
    "plt.plot(range(1, num_epochs + 1), val_accuracies, label='Validation Accuracy')\n",
    "plt.xlabel('Epochs')\n",
    "plt.ylabel('Accuracy')\n",
    "plt.title('Training and Validation Accuracy')\n",
    "plt.legend()\n",
    "\n",
    "plt.tight_layout()\n",
    "plt.show()\n",
    "\n",
    "print('Finished Training')\n",
    "\n",
    "# Print the time taken for training\n",
    "print(f'Time taken for training: {end_time - start_time:.2f} seconds')\n",
    "## Print medium time per epoch\n",
    "print(f'Medium time per epoch: {(end_time - start_time)/num_epochs:.2f} seconds')"
   ],
   "metadata": {
    "collapsed": false,
    "ExecuteTime": {
     "end_time": "2024-04-23T17:53:57.836194Z",
     "start_time": "2024-04-23T17:53:57.461194Z"
    }
   },
   "id": "2fb4051fe48bcb0f",
   "execution_count": 31
  },
  {
   "cell_type": "markdown",
   "source": [
    "# Evaluate the model"
   ],
   "metadata": {
    "collapsed": false
   },
   "id": "5d1120839a43965"
  },
  {
   "cell_type": "markdown",
   "source": [
    "## Load the model"
   ],
   "metadata": {
    "collapsed": false
   },
   "id": "f38ec7e7c9fc2bd2"
  },
  {
   "cell_type": "code",
   "outputs": [
    {
     "name": "stdout",
     "output_type": "stream",
     "text": [
      "Model loaded from ../../models/Preprocessing/mobilenet_v3_small_font_classifier_Binarization.pth\n"
     ]
    }
   ],
   "source": [
    "# Load the model\n",
    "model_path = f'../../models/{scope}/{model_name}_font_classifier_{type}.pth'\n",
    "model = models.__dict__[model_name](weights=None)\n",
    "model.load_state_dict(torch.load(model_path))\n",
    "model = model.to(device)\n",
    "print(f'Model loaded from {model_path}')"
   ],
   "metadata": {
    "collapsed": false,
    "ExecuteTime": {
     "end_time": "2024-04-23T17:53:57.914194Z",
     "start_time": "2024-04-23T17:53:57.837195Z"
    }
   },
   "id": "2d59abb3cc4d4ab1",
   "execution_count": 32
  },
  {
   "cell_type": "markdown",
   "source": [
    "## Evaluate the model\n",
    "Evaluate the model using the test set. We will compute the accuracy, precision, recall, F1-score, confusion matrix, and ROC curve."
   ],
   "metadata": {
    "collapsed": false
   },
   "id": "c4fb0a8cc4c7aaaf"
  },
  {
   "cell_type": "code",
   "outputs": [],
   "source": [
    "# Set the model to evaluation mode\n",
    "model.eval()\n",
    "\n",
    "# Initialize lists for true labels and predicted labels\n",
    "true_labels = []\n",
    "predicted_labels = []\n",
    "\n",
    "# Disable gradient computation for evaluation\n",
    "with torch.no_grad():\n",
    "    for images, labels in test_loader:\n",
    "        images = images.to(device)\n",
    "        labels = labels.to(device)\n",
    "\n",
    "        # Perform inference\n",
    "        outputs = model(images)\n",
    "        \n",
    "        # Compute predicted labels\n",
    "        _, predicted = torch.max(outputs.data, 1)\n",
    "        \n",
    "        # Append true and predicted labels to lists\n",
    "        true_labels.extend(labels.cpu().numpy())\n",
    "        predicted_labels.extend(predicted.cpu().numpy())\n",
    "\n",
    "# Convert lists to numpy arrays\n",
    "true_labels = np.array(true_labels)\n",
    "predicted_labels = np.array(predicted_labels)"
   ],
   "metadata": {
    "collapsed": false,
    "ExecuteTime": {
     "end_time": "2024-04-23T17:54:00.570349Z",
     "start_time": "2024-04-23T17:53:57.915195Z"
    }
   },
   "id": "d94dccfec1ca328d",
   "execution_count": 33
  },
  {
   "cell_type": "markdown",
   "source": [
    "## Compute metrics\n",
    "### Accuracy"
   ],
   "metadata": {
    "collapsed": false
   },
   "id": "7fc2137e6729efa2"
  },
  {
   "cell_type": "code",
   "outputs": [
    {
     "name": "stdout",
     "output_type": "stream",
     "text": [
      "Accuracy: 98.00%\n"
     ]
    }
   ],
   "source": [
    "accuracy = accuracy_score(true_labels, predicted_labels)\n",
    "print('Accuracy: {:.2f}%'.format(100 * accuracy))"
   ],
   "metadata": {
    "collapsed": false,
    "ExecuteTime": {
     "end_time": "2024-04-23T17:54:00.585349Z",
     "start_time": "2024-04-23T17:54:00.571350Z"
    }
   },
   "id": "101581d76f4e9326",
   "execution_count": 34
  },
  {
   "cell_type": "markdown",
   "source": [
    "### Precision"
   ],
   "metadata": {
    "collapsed": false
   },
   "id": "8c872a168687bbb9"
  },
  {
   "cell_type": "code",
   "outputs": [
    {
     "name": "stdout",
     "output_type": "stream",
     "text": [
      "Precision: 0.98\n"
     ]
    }
   ],
   "source": [
    "precision = precision_score(true_labels, predicted_labels, average='weighted')\n",
    "print('Precision: {:.2f}'.format(precision))"
   ],
   "metadata": {
    "collapsed": false,
    "ExecuteTime": {
     "end_time": "2024-04-23T17:54:00.600348Z",
     "start_time": "2024-04-23T17:54:00.587350Z"
    }
   },
   "id": "c0a1514893d52da3",
   "execution_count": 35
  },
  {
   "cell_type": "markdown",
   "source": [
    "### Recall"
   ],
   "metadata": {
    "collapsed": false
   },
   "id": "2d6709ac0ed49e7d"
  },
  {
   "cell_type": "code",
   "outputs": [
    {
     "name": "stdout",
     "output_type": "stream",
     "text": [
      "Recall: 0.98\n"
     ]
    }
   ],
   "source": [
    "recall = recall_score(true_labels, predicted_labels, average='weighted')\n",
    "print('Recall: {:.2f}'.format(recall))"
   ],
   "metadata": {
    "collapsed": false,
    "ExecuteTime": {
     "end_time": "2024-04-23T17:54:00.615532Z",
     "start_time": "2024-04-23T17:54:00.601526Z"
    }
   },
   "id": "cbe9cce2d6d4b849",
   "execution_count": 36
  },
  {
   "cell_type": "markdown",
   "source": [
    "### F1-score"
   ],
   "metadata": {
    "collapsed": false
   },
   "id": "a6a9ab8eaf4a00c9"
  },
  {
   "cell_type": "code",
   "outputs": [
    {
     "name": "stdout",
     "output_type": "stream",
     "text": [
      "F1-score: 0.98\n"
     ]
    }
   ],
   "source": [
    "f1 = f1_score(true_labels, predicted_labels, average='weighted')\n",
    "print('F1-score: {:.2f}'.format(f1))"
   ],
   "metadata": {
    "collapsed": false,
    "ExecuteTime": {
     "end_time": "2024-04-23T17:54:00.630533Z",
     "start_time": "2024-04-23T17:54:00.616532Z"
    }
   },
   "id": "2a87268c3e7e9e88",
   "execution_count": 37
  },
  {
   "cell_type": "markdown",
   "source": [
    "### Confusion matrix"
   ],
   "metadata": {
    "collapsed": false
   },
   "id": "3687c7ed9e290b52"
  },
  {
   "cell_type": "code",
   "outputs": [
    {
     "name": "stdout",
     "output_type": "stream",
     "text": [
      "Confusion Matrix:\n"
     ]
    },
    {
     "data": {
      "text/plain": "<Figure size 640x480 with 1 Axes>",
      "image/png": "[encoded data removed]"
     },
     "metadata": {},
     "output_type": "display_data"
    }
   ],
   "source": [
    "conf_matrix = confusion_matrix(true_labels, predicted_labels)\n",
    "print(f'Confusion Matrix:')\n",
    "sns.heatmap(conf_matrix, annot=True, cmap='Blues', fmt='g', cbar=False, xticklabels=class_names, yticklabels=class_names)\n",
    "plt.title('Confusion Matrix')\n",
    "plt.xlabel('Predicted Label')\n",
    "plt.ylabel('True Label')\n",
    "plt.show()"
   ],
   "metadata": {
    "collapsed": false,
    "ExecuteTime": {
     "end_time": "2024-04-23T17:54:01.092531Z",
     "start_time": "2024-04-23T17:54:00.631532Z"
    }
   },
   "id": "6a06849bad215169",
   "execution_count": 38
  },
  {
   "cell_type": "markdown",
   "source": [
    "### ROC curve"
   ],
   "metadata": {
    "collapsed": false
   },
   "id": "8f7a1268072e6e09"
  },
  {
   "cell_type": "code",
   "outputs": [
    {
     "data": {
      "text/plain": "[<matplotlib.lines.Line2D at 0x20168a0a1f0>]"
     },
     "execution_count": 39,
     "metadata": {},
     "output_type": "execute_result"
    },
    {
     "data": {
      "text/plain": "<Figure size 640x480 with 1 Axes>",
      "image/png": "[encoded data removed]"
     },
     "metadata": {},
     "output_type": "display_data"
    }
   ],
   "source": [
    "# Binarize the true labels\n",
    "true_labels_binarized = label_binarize(true_labels, classes=range(len(class_names)))\n",
    "\n",
    "# Binarize the predicted labels\n",
    "predicted_labels_binarized = label_binarize(predicted_labels, classes=range(len(class_names)))\n",
    "\n",
    "# Compute the ROC curve\n",
    "fpr = dict()\n",
    "tpr = dict()\n",
    "roc_auc = dict()\n",
    "for i in range(len(class_names)):\n",
    "    fpr[i], tpr[i], _ = roc_curve(true_labels_binarized[:, i], predicted_labels_binarized[:, i])\n",
    "    roc_auc[i] = auc(fpr[i], tpr[i])\n",
    "    \n",
    "# Plot the ROC curve\n",
    "plt.figure()\n",
    "for i in range(len(class_names)):\n",
    "    plt.plot(fpr[i], tpr[i], lw=2, label=f'ROC curve for class {class_names[i]} (area = {roc_auc[i]:0.2f})')\n",
    "plt.plot([0, 1], [0, 1], 'k--', lw=2)"
   ],
   "metadata": {
    "collapsed": false,
    "ExecuteTime": {
     "end_time": "2024-04-23T17:54:01.907532Z",
     "start_time": "2024-04-23T17:54:01.093534Z"
    }
   },
   "id": "6c7b4767f613c314",
   "execution_count": 39
  },
  {
   "cell_type": "markdown",
   "source": [],
   "metadata": {
    "collapsed": false
   },
   "id": "c4d8c6f85ef0d72c"
  }
 ],
 "metadata": {
  "kernelspec": {
   "display_name": "Python 3",
   "language": "python",
   "name": "python3"
  },
  "language_info": {
   "codemirror_mode": {
    "name": "ipython",
    "version": 2
   },
   "file_extension": ".py",
   "mimetype": "text/x-python",
   "name": "python",
   "nbconvert_exporter": "python",
   "pygments_lexer": "ipython2",
   "version": "2.7.6"
  }
 },
 "nbformat": 4,
 "nbformat_minor": 5
}
