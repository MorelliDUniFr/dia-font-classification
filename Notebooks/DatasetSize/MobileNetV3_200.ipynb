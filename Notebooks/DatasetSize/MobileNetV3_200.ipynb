{
 "cells": [
  {
   "cell_type": "markdown",
   "source": [
    "# Font Classification with PyTorch and MobileNetV3\n",
    "In this notebook, we will use the PyTorch deep learning framework to train a MobileNetV3 model to classify fonts. We will use the `torchvision` library to load the dataset and the `sklearn` library to evaluate the model using accuracy, precision, recall, F1-score, and the ROC curve. We will also visualize the confusion matrix to understand the model's performance on each class."
   ],
   "metadata": {
    "collapsed": false
   },
   "id": "4ac20b28058858bd"
  },
  {
   "cell_type": "markdown",
   "source": [
    "# Imports\n",
    "Import of the necessary libraries"
   ],
   "metadata": {
    "collapsed": false
   },
   "id": "705740ac830b5b02"
  },
  {
   "cell_type": "code",
   "outputs": [],
   "source": [
    "import numpy as np\n",
    "from torchvision import datasets, transforms\n",
    "from sklearn.metrics import accuracy_score, precision_score, recall_score, f1_score, confusion_matrix\n",
    "import seaborn as sns\n",
    "import matplotlib.pyplot as plt\n",
    "import torch\n",
    "from torchvision import models\n",
    "from torch.utils.data import DataLoader\n",
    "from sklearn.metrics import roc_curve, auc\n",
    "from sklearn.preprocessing import label_binarize\n",
    "import time\n",
    "from sys import platform"
   ],
   "metadata": {
    "collapsed": false,
    "ExecuteTime": {
     "end_time": "2024-04-29T15:02:01.942911Z",
     "start_time": "2024-04-29T15:01:59.002158Z"
    }
   },
   "id": "cd70965188811652",
   "execution_count": 1
  },
  {
   "cell_type": "markdown",
   "source": [
    "# Model choice\n",
    "Choose the model to use for training. In this case, we will use the MobileNetV3 model."
   ],
   "metadata": {
    "collapsed": false
   },
   "id": "89723516c4abb2e6"
  },
  {
   "cell_type": "code",
   "outputs": [
    {
     "name": "stdout",
     "output_type": "stream",
     "text": [
      "Using model: mobilenet_v3_small\n"
     ]
    }
   ],
   "source": [
    "model_name = 'mobilenet_v3_small'\n",
    "print(f'Using model: {model_name}')"
   ],
   "metadata": {
    "collapsed": false,
    "ExecuteTime": {
     "end_time": "2024-04-29T15:02:01.958397Z",
     "start_time": "2024-04-29T15:02:01.944184Z"
    }
   },
   "id": "ef4e56728f9785b4",
   "execution_count": 2
  },
  {
   "cell_type": "markdown",
   "source": [
    "# Loading and preparing the dataset\n",
    "Load the dataset and prepare it for training. We will resize the images to a fixed size, convert them to tensors, and normalize the pixel values.\n",
    "\n",
    "## Preprocessing\n",
    "1. Resize the images to a fixed size\n",
    "2. Convert the images to tensors\n",
    "3. Normalize the pixel values"
   ],
   "metadata": {
    "collapsed": false
   },
   "id": "b2dabad339631e94"
  },
  {
   "cell_type": "code",
   "outputs": [],
   "source": [
    "# From the dataset, we know that the images have a height of 32 pixels and a width (on average) of 150 pixels\n",
    "image_height = 32\n",
    "image_width = 150\n",
    "\n",
    "# Define the percentage of the dataset to use for training\n",
    "train_size_perc = 0.7\n",
    "\n",
    "# Set the seed for reproducibility\n",
    "torch.manual_seed(0)\n",
    "\n",
    "# Define transformations for preprocessing\n",
    "transform = transforms.Compose([\n",
    "    transforms.Resize((image_height, image_width)),  # Resize images to a fixed size\n",
    "    transforms.ToTensor(),                           # Convert images to tensors\n",
    "    transforms.Normalize(mean=[0.25, 0.25, 0.25],      # Normalize pixel values\n",
    "                         std=[0.25, 0.25, 0.25])])"
   ],
   "metadata": {
    "collapsed": false,
    "ExecuteTime": {
     "end_time": "2024-04-29T15:02:01.973397Z",
     "start_time": "2024-04-29T15:02:01.959399Z"
    }
   },
   "id": "cdc44275b7dbe9ba",
   "execution_count": 3
  },
  {
   "cell_type": "markdown",
   "source": [
    "## Load the dataset\n",
    "Load the dataset using the `ImageFolder` class from `torchvision`. We will split the dataset into training, validation, and test sets. We will use 70% of the dataset for training, 15% for validation, and 15% for testing."
   ],
   "metadata": {
    "collapsed": false
   },
   "id": "8906c87c81b7569c"
  },
  {
   "cell_type": "code",
   "outputs": [
    {
     "name": "stdout",
     "output_type": "stream",
     "text": [
      "Loaded 3000 images\n",
      "Class names: ['Algerian', 'Arial', 'Baskerville', 'Calibry', 'Calligraphy', 'Cambria', 'Comic Sans MS', 'Courier', 'Elephant', 'Fascinate', 'Georgia', 'Helvetica', 'Lucida Bright', 'Nasalization', 'Times New Roman']\n"
     ]
    }
   ],
   "source": [
    "from collections import defaultdict\n",
    "from torchvision.datasets import ImageFolder\n",
    "\n",
    "# Path to the dataset\n",
    "data_dir = '../../fonts'\n",
    "\n",
    "# Notebook scope and type\n",
    "scope = 'DatasetSize'\n",
    "type = '200'\n",
    "\n",
    "# Load the dataset using ImageFolder\n",
    "dataset = datasets.ImageFolder(root=data_dir, transform=transform)\n",
    "\n",
    "# Load only 20% of the dataset\n",
    "# Collect indices of samples for each class\n",
    "indices_by_class = defaultdict(list)\n",
    "for i, (_, label) in enumerate(dataset.samples):\n",
    "    indices_by_class[label].append(i)\n",
    "\n",
    "# Choose 200 samples for each class\n",
    "selected_indices = []\n",
    "for indices in indices_by_class.values():\n",
    "    selected_indices.extend(np.random.choice(indices, min(200, len(indices)), replace=False))\n",
    "\n",
    "# Overwrite dataset.samples with the selected samples\n",
    "dataset.samples = [dataset.samples[i] for i in selected_indices]\n",
    "\n",
    "print(f'Loaded {len(dataset)} images')\n",
    "\n",
    "# Display the class names\n",
    "print(f'Class names: {dataset.classes}')\n",
    "\n",
    "# Define the sizes of the training, validation, and test sets\n",
    "train_size = int(train_size_perc * len(dataset))  # 70% of the dataset for training\n",
    "val_size = int(((1.0 - train_size_perc)/2) * len(dataset))    # 15% for validation\n",
    "test_size = len(dataset) - train_size - val_size  # Remaining for test\n",
    "\n",
    "# Split the dataset into training, validation, and test sets\n",
    "train_dataset, val_dataset, test_dataset = torch.utils.data.random_split(\n",
    "    dataset, [train_size, val_size, test_size])\n",
    "\n",
    "# Define the batch size as a percentage of the training set, in this case 1%\n",
    "batch_size = int(train_size * 0.01)\n",
    "\n",
    "# Create data loaders for training, validation, and test sets\n",
    "train_loader = torch.utils.data.DataLoader(train_dataset, batch_size=batch_size, shuffle=True)\n",
    "val_loader = torch.utils.data.DataLoader(val_dataset, batch_size=batch_size, shuffle=True)\n",
    "test_loader = torch.utils.data.DataLoader(test_dataset, batch_size=batch_size, shuffle=False)"
   ],
   "metadata": {
    "collapsed": false,
    "ExecuteTime": {
     "end_time": "2024-04-29T15:02:02.050397Z",
     "start_time": "2024-04-29T15:02:01.974398Z"
    }
   },
   "id": "9d9c8c978a1ebdbd",
   "execution_count": 4
  },
  {
   "cell_type": "markdown",
   "source": [
    "## Dataset information"
   ],
   "metadata": {
    "collapsed": false
   },
   "id": "afdcf3568e6bb0e6"
  },
  {
   "cell_type": "code",
   "outputs": [
    {
     "name": "stdout",
     "output_type": "stream",
     "text": [
      "Number of images: 3000\n",
      "Number of batches: 100\n",
      "Batch size: 21\n",
      "Number of training images: 2100\n",
      "Number of validation images: 450\n",
      "Number of test images: 450\n",
      "Class names: ['Algerian', 'Arial', 'Baskerville', 'Calibry', 'Calligraphy', 'Cambria', 'Comic Sans MS', 'Courier', 'Elephant', 'Fascinate', 'Georgia', 'Helvetica', 'Lucida Bright', 'Nasalization', 'Times New Roman']\n"
     ]
    }
   ],
   "source": [
    "num_images = len(dataset)\n",
    "num_batches = len(train_loader)\n",
    "print(f'Number of images: {num_images}')\n",
    "print(f'Number of batches: {num_batches}')\n",
    "print(f'Batch size: {batch_size}')\n",
    "print(f'Number of training images: {len(train_dataset)}')\n",
    "print(f'Number of validation images: {len(val_dataset)}')\n",
    "print(f'Number of test images: {len(test_dataset)}')\n",
    "\n",
    "# Get the class names\n",
    "class_names = dataset.classes\n",
    "print(f'Class names: {class_names}')"
   ],
   "metadata": {
    "collapsed": false,
    "ExecuteTime": {
     "end_time": "2024-04-29T15:02:02.066397Z",
     "start_time": "2024-04-29T15:02:02.051398Z"
    }
   },
   "id": "1975b1b1848ca2ac",
   "execution_count": 5
  },
  {
   "cell_type": "markdown",
   "source": [
    "# Loading the model\n",
    "Load the MobileNetV3 model and move it to the device (CPU or GPU)."
   ],
   "metadata": {
    "collapsed": false
   },
   "id": "bd836b0d47a237ba"
  },
  {
   "cell_type": "code",
   "outputs": [
    {
     "name": "stdout",
     "output_type": "stream",
     "text": [
      "Model moved to cpu\n"
     ]
    }
   ],
   "source": [
    "# Load the model and replace the fully connected layer\n",
    "model = models.__dict__[model_name](weights=None)\n",
    "\n",
    "# Move model to the device (CPU or GPU)\n",
    "if platform != \"win32\":\n",
    "    device = torch.device('mps' if torch.backends.mps.is_available() else 'cpu')\n",
    "else:\n",
    "    device = torch.device('gpu' if torch.cuda.is_available() else 'cpu')\n",
    "model = model.to(device)\n",
    "print(f'Model moved to {device}')"
   ],
   "metadata": {
    "collapsed": false,
    "ExecuteTime": {
     "end_time": "2024-04-29T15:02:02.127398Z",
     "start_time": "2024-04-29T15:02:02.067398Z"
    }
   },
   "id": "8e9ad926f379fab5",
   "execution_count": 6
  },
  {
   "cell_type": "markdown",
   "source": [
    "# Training the model\n",
    "Train the model using the training set and validate it using the validation set. We will use the Adam optimizer and the CrossEntropy loss function. We will save the model with the lowest validation loss."
   ],
   "metadata": {
    "collapsed": false
   },
   "id": "eebc3e7a492ce85"
  },
  {
   "cell_type": "code",
   "outputs": [
    {
     "name": "stdout",
     "output_type": "stream",
     "text": [
      "Epoch 1\n",
      "-------------------------------\n",
      "Training - Epoch [1/60], Step [10/100], Loss: 5.1446\n",
      "Training - Epoch [1/60], Step [20/100], Loss: 2.4990\n",
      "Training - Epoch [1/60], Step [30/100], Loss: 3.4368\n",
      "Training - Epoch [1/60], Step [40/100], Loss: 2.6882\n",
      "Training - Epoch [1/60], Step [50/100], Loss: 2.0384\n",
      "Training - Epoch [1/60], Step [60/100], Loss: 1.8910\n",
      "Training - Epoch [1/60], Step [70/100], Loss: 2.2152\n",
      "Training - Epoch [1/60], Step [80/100], Loss: 1.7580\n",
      "Training - Epoch [1/60], Step [90/100], Loss: 1.2744\n",
      "Training - Epoch [1/60], Step [100/100], Loss: 1.4854\n",
      "Validation - Epoch [1/60], Loss: 4.1408, Accuracy: 0.0467\n",
      "Model saved as mobilenet_v3_small_font_classifier_200.pth\n",
      "Epoch 2\n",
      "-------------------------------\n",
      "Training - Epoch [2/60], Step [10/100], Loss: 1.4099\n",
      "Training - Epoch [2/60], Step [20/100], Loss: 1.5781\n",
      "Training - Epoch [2/60], Step [30/100], Loss: 1.5403\n",
      "Training - Epoch [2/60], Step [40/100], Loss: 1.2807\n",
      "Training - Epoch [2/60], Step [50/100], Loss: 1.4020\n",
      "Training - Epoch [2/60], Step [60/100], Loss: 1.4082\n",
      "Training - Epoch [2/60], Step [70/100], Loss: 1.6108\n",
      "Training - Epoch [2/60], Step [80/100], Loss: 2.1064\n",
      "Training - Epoch [2/60], Step [90/100], Loss: 1.2293\n",
      "Training - Epoch [2/60], Step [100/100], Loss: 1.2187\n",
      "Validation - Epoch [2/60], Loss: 3.3040, Accuracy: 0.0467\n",
      "Model saved as mobilenet_v3_small_font_classifier_200.pth\n",
      "Epoch 3\n",
      "-------------------------------\n",
      "Training - Epoch [3/60], Step [10/100], Loss: 1.3109\n",
      "Training - Epoch [3/60], Step [20/100], Loss: 1.1358\n",
      "Training - Epoch [3/60], Step [30/100], Loss: 1.4084\n",
      "Training - Epoch [3/60], Step [40/100], Loss: 0.7466\n",
      "Training - Epoch [3/60], Step [50/100], Loss: 1.0982\n",
      "Training - Epoch [3/60], Step [60/100], Loss: 1.3154\n",
      "Training - Epoch [3/60], Step [70/100], Loss: 1.4082\n",
      "Training - Epoch [3/60], Step [80/100], Loss: 0.8622\n",
      "Training - Epoch [3/60], Step [90/100], Loss: 1.2888\n",
      "Training - Epoch [3/60], Step [100/100], Loss: 1.6307\n",
      "Validation - Epoch [3/60], Loss: 3.1134, Accuracy: 0.0467\n",
      "Model saved as mobilenet_v3_small_font_classifier_200.pth\n",
      "Epoch 4\n",
      "-------------------------------\n",
      "Training - Epoch [4/60], Step [10/100], Loss: 0.8299\n",
      "Training - Epoch [4/60], Step [20/100], Loss: 0.9642\n",
      "Training - Epoch [4/60], Step [30/100], Loss: 0.8492\n",
      "Training - Epoch [4/60], Step [40/100], Loss: 1.0593\n",
      "Training - Epoch [4/60], Step [50/100], Loss: 1.1302\n",
      "Training - Epoch [4/60], Step [60/100], Loss: 0.7250\n",
      "Training - Epoch [4/60], Step [70/100], Loss: 0.9769\n",
      "Training - Epoch [4/60], Step [80/100], Loss: 0.5694\n",
      "Training - Epoch [4/60], Step [90/100], Loss: 0.7164\n",
      "Training - Epoch [4/60], Step [100/100], Loss: 1.3135\n",
      "Validation - Epoch [4/60], Loss: 3.0284, Accuracy: 0.0467\n",
      "Model saved as mobilenet_v3_small_font_classifier_200.pth\n",
      "Epoch 5\n",
      "-------------------------------\n",
      "Training - Epoch [5/60], Step [10/100], Loss: 0.8247\n",
      "Training - Epoch [5/60], Step [20/100], Loss: 1.2709\n",
      "Training - Epoch [5/60], Step [30/100], Loss: 0.6692\n",
      "Training - Epoch [5/60], Step [40/100], Loss: 0.6045\n",
      "Training - Epoch [5/60], Step [50/100], Loss: 0.8456\n",
      "Training - Epoch [5/60], Step [60/100], Loss: 0.5211\n",
      "Training - Epoch [5/60], Step [70/100], Loss: 1.3163\n",
      "Training - Epoch [5/60], Step [80/100], Loss: 1.1905\n",
      "Training - Epoch [5/60], Step [90/100], Loss: 0.6831\n",
      "Training - Epoch [5/60], Step [100/100], Loss: 0.5729\n",
      "Validation - Epoch [5/60], Loss: 2.6159, Accuracy: 0.0644\n",
      "Model saved as mobilenet_v3_small_font_classifier_200.pth\n",
      "Epoch 6\n",
      "-------------------------------\n",
      "Training - Epoch [6/60], Step [10/100], Loss: 0.6844\n",
      "Training - Epoch [6/60], Step [20/100], Loss: 0.4788\n",
      "Training - Epoch [6/60], Step [30/100], Loss: 1.1810\n",
      "Training - Epoch [6/60], Step [40/100], Loss: 0.7808\n",
      "Training - Epoch [6/60], Step [50/100], Loss: 0.5164\n",
      "Training - Epoch [6/60], Step [60/100], Loss: 0.5110\n",
      "Training - Epoch [6/60], Step [70/100], Loss: 1.4490\n",
      "Training - Epoch [6/60], Step [80/100], Loss: 0.8546\n",
      "Training - Epoch [6/60], Step [90/100], Loss: 0.4491\n",
      "Training - Epoch [6/60], Step [100/100], Loss: 0.6775\n",
      "Validation - Epoch [6/60], Loss: 1.0497, Accuracy: 0.6089\n",
      "Model saved as mobilenet_v3_small_font_classifier_200.pth\n",
      "Epoch 7\n",
      "-------------------------------\n",
      "Training - Epoch [7/60], Step [10/100], Loss: 0.9162\n",
      "Training - Epoch [7/60], Step [20/100], Loss: 0.5152\n",
      "Training - Epoch [7/60], Step [30/100], Loss: 0.7109\n",
      "Training - Epoch [7/60], Step [40/100], Loss: 1.0860\n",
      "Training - Epoch [7/60], Step [50/100], Loss: 0.3123\n",
      "Training - Epoch [7/60], Step [60/100], Loss: 0.5553\n",
      "Training - Epoch [7/60], Step [70/100], Loss: 0.5971\n",
      "Training - Epoch [7/60], Step [80/100], Loss: 0.9475\n",
      "Training - Epoch [7/60], Step [90/100], Loss: 0.2905\n",
      "Training - Epoch [7/60], Step [100/100], Loss: 0.4501\n",
      "Validation - Epoch [7/60], Loss: 0.6612, Accuracy: 0.7489\n",
      "Model saved as mobilenet_v3_small_font_classifier_200.pth\n",
      "Epoch 8\n",
      "-------------------------------\n",
      "Training - Epoch [8/60], Step [10/100], Loss: 0.3592\n",
      "Training - Epoch [8/60], Step [20/100], Loss: 0.4232\n",
      "Training - Epoch [8/60], Step [30/100], Loss: 0.3502\n",
      "Training - Epoch [8/60], Step [40/100], Loss: 1.0411\n",
      "Training - Epoch [8/60], Step [50/100], Loss: 0.4214\n",
      "Training - Epoch [8/60], Step [60/100], Loss: 0.2024\n",
      "Training - Epoch [8/60], Step [70/100], Loss: 0.3568\n",
      "Training - Epoch [8/60], Step [80/100], Loss: 0.3762\n",
      "Training - Epoch [8/60], Step [90/100], Loss: 0.6183\n",
      "Training - Epoch [8/60], Step [100/100], Loss: 0.1665\n",
      "Validation - Epoch [8/60], Loss: 0.9043, Accuracy: 0.7089\n",
      "Epoch 9\n",
      "-------------------------------\n",
      "Training - Epoch [9/60], Step [10/100], Loss: 0.3902\n",
      "Training - Epoch [9/60], Step [20/100], Loss: 0.6362\n",
      "Training - Epoch [9/60], Step [30/100], Loss: 0.7725\n",
      "Training - Epoch [9/60], Step [40/100], Loss: 0.2008\n",
      "Training - Epoch [9/60], Step [50/100], Loss: 0.8098\n",
      "Training - Epoch [9/60], Step [60/100], Loss: 0.3730\n",
      "Training - Epoch [9/60], Step [70/100], Loss: 0.2294\n",
      "Training - Epoch [9/60], Step [80/100], Loss: 0.0964\n",
      "Training - Epoch [9/60], Step [90/100], Loss: 0.2669\n",
      "Training - Epoch [9/60], Step [100/100], Loss: 0.1275\n",
      "Validation - Epoch [9/60], Loss: 0.9250, Accuracy: 0.7600\n",
      "Epoch 10\n",
      "-------------------------------\n",
      "Training - Epoch [10/60], Step [10/100], Loss: 0.3473\n",
      "Training - Epoch [10/60], Step [20/100], Loss: 0.5815\n",
      "Training - Epoch [10/60], Step [30/100], Loss: 0.3212\n",
      "Training - Epoch [10/60], Step [40/100], Loss: 0.2114\n",
      "Training - Epoch [10/60], Step [50/100], Loss: 0.3307\n",
      "Training - Epoch [10/60], Step [60/100], Loss: 0.2938\n",
      "Training - Epoch [10/60], Step [70/100], Loss: 0.4760\n",
      "Training - Epoch [10/60], Step [80/100], Loss: 0.7059\n",
      "Training - Epoch [10/60], Step [90/100], Loss: 0.5259\n",
      "Training - Epoch [10/60], Step [100/100], Loss: 0.1127\n",
      "Validation - Epoch [10/60], Loss: 0.8048, Accuracy: 0.7778\n",
      "Epoch 11\n",
      "-------------------------------\n",
      "Training - Epoch [11/60], Step [10/100], Loss: 0.3547\n",
      "Training - Epoch [11/60], Step [20/100], Loss: 0.2792\n",
      "Training - Epoch [11/60], Step [30/100], Loss: 0.3205\n",
      "Training - Epoch [11/60], Step [40/100], Loss: 0.2902\n",
      "Training - Epoch [11/60], Step [50/100], Loss: 0.4844\n",
      "Training - Epoch [11/60], Step [60/100], Loss: 0.1949\n",
      "Training - Epoch [11/60], Step [70/100], Loss: 0.2035\n",
      "Training - Epoch [11/60], Step [80/100], Loss: 0.2053\n",
      "Training - Epoch [11/60], Step [90/100], Loss: 0.2820\n",
      "Training - Epoch [11/60], Step [100/100], Loss: 0.2238\n",
      "Validation - Epoch [11/60], Loss: 1.1994, Accuracy: 0.7400\n",
      "Epoch 12\n",
      "-------------------------------\n",
      "Training - Epoch [12/60], Step [10/100], Loss: 0.4428\n",
      "Training - Epoch [12/60], Step [20/100], Loss: 0.4469\n",
      "Training - Epoch [12/60], Step [30/100], Loss: 0.2355\n",
      "Training - Epoch [12/60], Step [40/100], Loss: 0.1017\n",
      "Training - Epoch [12/60], Step [50/100], Loss: 0.2464\n",
      "Training - Epoch [12/60], Step [60/100], Loss: 0.3330\n",
      "Training - Epoch [12/60], Step [70/100], Loss: 0.3268\n",
      "Training - Epoch [12/60], Step [80/100], Loss: 0.7354\n",
      "Training - Epoch [12/60], Step [90/100], Loss: 0.3726\n",
      "Training - Epoch [12/60], Step [100/100], Loss: 0.1019\n",
      "Validation - Epoch [12/60], Loss: 0.7590, Accuracy: 0.7933\n",
      "Epoch 13\n",
      "-------------------------------\n",
      "Training - Epoch [13/60], Step [10/100], Loss: 0.3262\n",
      "Training - Epoch [13/60], Step [20/100], Loss: 0.2364\n",
      "Training - Epoch [13/60], Step [30/100], Loss: 0.2318\n",
      "Training - Epoch [13/60], Step [40/100], Loss: 0.1255\n",
      "Training - Epoch [13/60], Step [50/100], Loss: 0.0815\n",
      "Training - Epoch [13/60], Step [60/100], Loss: 0.2185\n",
      "Training - Epoch [13/60], Step [70/100], Loss: 0.2150\n",
      "Training - Epoch [13/60], Step [80/100], Loss: 0.2306\n",
      "Training - Epoch [13/60], Step [90/100], Loss: 0.2933\n",
      "Training - Epoch [13/60], Step [100/100], Loss: 0.3045\n",
      "Validation - Epoch [13/60], Loss: 0.4467, Accuracy: 0.8556\n",
      "Model saved as mobilenet_v3_small_font_classifier_200.pth\n",
      "Epoch 14\n",
      "-------------------------------\n",
      "Training - Epoch [14/60], Step [10/100], Loss: 0.2511\n",
      "Training - Epoch [14/60], Step [20/100], Loss: 0.0653\n",
      "Training - Epoch [14/60], Step [30/100], Loss: 0.0358\n",
      "Training - Epoch [14/60], Step [40/100], Loss: 0.1311\n",
      "Training - Epoch [14/60], Step [50/100], Loss: 0.2869\n",
      "Training - Epoch [14/60], Step [60/100], Loss: 0.9909\n",
      "Training - Epoch [14/60], Step [70/100], Loss: 0.1983\n",
      "Training - Epoch [14/60], Step [80/100], Loss: 0.3943\n",
      "Training - Epoch [14/60], Step [90/100], Loss: 0.1605\n",
      "Training - Epoch [14/60], Step [100/100], Loss: 0.6531\n",
      "Validation - Epoch [14/60], Loss: 0.4931, Accuracy: 0.8533\n",
      "Epoch 15\n",
      "-------------------------------\n",
      "Training - Epoch [15/60], Step [10/100], Loss: 0.1636\n",
      "Training - Epoch [15/60], Step [20/100], Loss: 0.3192\n",
      "Training - Epoch [15/60], Step [30/100], Loss: 0.3281\n",
      "Training - Epoch [15/60], Step [40/100], Loss: 0.0559\n",
      "Training - Epoch [15/60], Step [50/100], Loss: 0.3923\n",
      "Training - Epoch [15/60], Step [60/100], Loss: 0.4416\n",
      "Training - Epoch [15/60], Step [70/100], Loss: 0.4269\n",
      "Training - Epoch [15/60], Step [80/100], Loss: 0.1828\n",
      "Training - Epoch [15/60], Step [90/100], Loss: 0.1967\n",
      "Training - Epoch [15/60], Step [100/100], Loss: 0.2534\n",
      "Validation - Epoch [15/60], Loss: 0.3193, Accuracy: 0.8933\n",
      "Model saved as mobilenet_v3_small_font_classifier_200.pth\n",
      "Epoch 16\n",
      "-------------------------------\n",
      "Training - Epoch [16/60], Step [10/100], Loss: 0.1647\n",
      "Training - Epoch [16/60], Step [20/100], Loss: 0.2612\n",
      "Training - Epoch [16/60], Step [30/100], Loss: 0.5209\n",
      "Training - Epoch [16/60], Step [40/100], Loss: 0.1123\n",
      "Training - Epoch [16/60], Step [50/100], Loss: 0.0374\n",
      "Training - Epoch [16/60], Step [60/100], Loss: 0.1249\n",
      "Training - Epoch [16/60], Step [70/100], Loss: 0.2091\n",
      "Training - Epoch [16/60], Step [80/100], Loss: 0.7594\n",
      "Training - Epoch [16/60], Step [90/100], Loss: 0.2982\n",
      "Training - Epoch [16/60], Step [100/100], Loss: 0.1595\n",
      "Validation - Epoch [16/60], Loss: 0.9079, Accuracy: 0.7756\n",
      "Epoch 17\n",
      "-------------------------------\n",
      "Training - Epoch [17/60], Step [10/100], Loss: 0.1876\n",
      "Training - Epoch [17/60], Step [20/100], Loss: 0.1558\n",
      "Training - Epoch [17/60], Step [30/100], Loss: 0.2155\n",
      "Training - Epoch [17/60], Step [40/100], Loss: 0.0600\n",
      "Training - Epoch [17/60], Step [50/100], Loss: 0.2151\n",
      "Training - Epoch [17/60], Step [60/100], Loss: 0.4405\n",
      "Training - Epoch [17/60], Step [70/100], Loss: 0.1048\n",
      "Training - Epoch [17/60], Step [80/100], Loss: 0.0116\n",
      "Training - Epoch [17/60], Step [90/100], Loss: 0.3748\n",
      "Training - Epoch [17/60], Step [100/100], Loss: 0.3420\n",
      "Validation - Epoch [17/60], Loss: 0.3675, Accuracy: 0.9000\n",
      "Epoch 18\n",
      "-------------------------------\n",
      "Training - Epoch [18/60], Step [10/100], Loss: 0.5296\n",
      "Training - Epoch [18/60], Step [20/100], Loss: 0.2082\n",
      "Training - Epoch [18/60], Step [30/100], Loss: 0.0408\n",
      "Training - Epoch [18/60], Step [40/100], Loss: 0.4157\n",
      "Training - Epoch [18/60], Step [50/100], Loss: 0.0878\n",
      "Training - Epoch [18/60], Step [60/100], Loss: 0.1051\n",
      "Training - Epoch [18/60], Step [70/100], Loss: 0.1058\n",
      "Training - Epoch [18/60], Step [80/100], Loss: 0.0942\n",
      "Training - Epoch [18/60], Step [90/100], Loss: 0.2151\n",
      "Training - Epoch [18/60], Step [100/100], Loss: 0.2502\n",
      "Validation - Epoch [18/60], Loss: 0.6235, Accuracy: 0.8467\n",
      "Epoch 19\n",
      "-------------------------------\n",
      "Training - Epoch [19/60], Step [10/100], Loss: 0.1951\n",
      "Training - Epoch [19/60], Step [20/100], Loss: 0.4496\n",
      "Training - Epoch [19/60], Step [30/100], Loss: 0.1531\n",
      "Training - Epoch [19/60], Step [40/100], Loss: 0.0900\n",
      "Training - Epoch [19/60], Step [50/100], Loss: 0.0857\n",
      "Training - Epoch [19/60], Step [60/100], Loss: 0.2733\n",
      "Training - Epoch [19/60], Step [70/100], Loss: 0.2925\n",
      "Training - Epoch [19/60], Step [80/100], Loss: 0.1736\n",
      "Training - Epoch [19/60], Step [90/100], Loss: 0.0871\n",
      "Training - Epoch [19/60], Step [100/100], Loss: 0.1644\n",
      "Validation - Epoch [19/60], Loss: 0.5983, Accuracy: 0.8267\n",
      "Epoch 20\n",
      "-------------------------------\n",
      "Training - Epoch [20/60], Step [10/100], Loss: 0.2513\n",
      "Training - Epoch [20/60], Step [20/100], Loss: 0.0404\n",
      "Training - Epoch [20/60], Step [30/100], Loss: 0.0223\n",
      "Training - Epoch [20/60], Step [40/100], Loss: 0.1217\n",
      "Training - Epoch [20/60], Step [50/100], Loss: 0.3918\n",
      "Training - Epoch [20/60], Step [60/100], Loss: 0.3632\n",
      "Training - Epoch [20/60], Step [70/100], Loss: 0.0140\n",
      "Training - Epoch [20/60], Step [80/100], Loss: 0.4006\n",
      "Training - Epoch [20/60], Step [90/100], Loss: 0.1583\n",
      "Training - Epoch [20/60], Step [100/100], Loss: 0.1665\n",
      "Validation - Epoch [20/60], Loss: 0.4991, Accuracy: 0.8689\n",
      "Epoch 21\n",
      "-------------------------------\n",
      "Training - Epoch [21/60], Step [10/100], Loss: 0.0333\n",
      "Training - Epoch [21/60], Step [20/100], Loss: 0.2485\n",
      "Training - Epoch [21/60], Step [30/100], Loss: 0.3064\n",
      "Training - Epoch [21/60], Step [40/100], Loss: 0.0821\n",
      "Training - Epoch [21/60], Step [50/100], Loss: 0.2903\n",
      "Training - Epoch [21/60], Step [60/100], Loss: 0.1736\n",
      "Training - Epoch [21/60], Step [70/100], Loss: 0.0882\n",
      "Training - Epoch [21/60], Step [80/100], Loss: 0.0730\n",
      "Training - Epoch [21/60], Step [90/100], Loss: 0.1331\n",
      "Training - Epoch [21/60], Step [100/100], Loss: 0.1931\n",
      "Validation - Epoch [21/60], Loss: 0.5520, Accuracy: 0.8711\n",
      "Epoch 22\n",
      "-------------------------------\n",
      "Training - Epoch [22/60], Step [10/100], Loss: 0.5645\n",
      "Training - Epoch [22/60], Step [20/100], Loss: 0.0699\n",
      "Training - Epoch [22/60], Step [30/100], Loss: 0.0233\n",
      "Training - Epoch [22/60], Step [40/100], Loss: 0.0618\n",
      "Training - Epoch [22/60], Step [50/100], Loss: 0.0474\n",
      "Training - Epoch [22/60], Step [60/100], Loss: 0.0449\n",
      "Training - Epoch [22/60], Step [70/100], Loss: 0.2204\n",
      "Training - Epoch [22/60], Step [80/100], Loss: 0.5514\n",
      "Training - Epoch [22/60], Step [90/100], Loss: 0.1880\n",
      "Training - Epoch [22/60], Step [100/100], Loss: 0.1001\n",
      "Validation - Epoch [22/60], Loss: 1.5530, Accuracy: 0.7044\n",
      "Epoch 23\n",
      "-------------------------------\n",
      "Training - Epoch [23/60], Step [10/100], Loss: 0.2691\n",
      "Training - Epoch [23/60], Step [20/100], Loss: 0.1064\n",
      "Training - Epoch [23/60], Step [30/100], Loss: 0.3588\n",
      "Training - Epoch [23/60], Step [40/100], Loss: 0.1655\n",
      "Training - Epoch [23/60], Step [50/100], Loss: 0.1600\n",
      "Training - Epoch [23/60], Step [60/100], Loss: 0.2869\n",
      "Training - Epoch [23/60], Step [70/100], Loss: 0.1550\n",
      "Training - Epoch [23/60], Step [80/100], Loss: 0.0200\n",
      "Training - Epoch [23/60], Step [90/100], Loss: 0.0494\n",
      "Training - Epoch [23/60], Step [100/100], Loss: 0.0525\n",
      "Validation - Epoch [23/60], Loss: 0.3496, Accuracy: 0.8800\n",
      "Epoch 24\n",
      "-------------------------------\n",
      "Training - Epoch [24/60], Step [10/100], Loss: 0.5997\n",
      "Training - Epoch [24/60], Step [20/100], Loss: 0.1663\n",
      "Training - Epoch [24/60], Step [30/100], Loss: 0.3275\n",
      "Training - Epoch [24/60], Step [40/100], Loss: 0.0335\n",
      "Training - Epoch [24/60], Step [50/100], Loss: 0.0982\n",
      "Training - Epoch [24/60], Step [60/100], Loss: 0.0856\n",
      "Training - Epoch [24/60], Step [70/100], Loss: 0.0254\n",
      "Training - Epoch [24/60], Step [80/100], Loss: 0.1098\n",
      "Training - Epoch [24/60], Step [90/100], Loss: 0.2583\n",
      "Training - Epoch [24/60], Step [100/100], Loss: 0.0217\n",
      "Validation - Epoch [24/60], Loss: 0.4951, Accuracy: 0.8711\n",
      "Epoch 25\n",
      "-------------------------------\n",
      "Training - Epoch [25/60], Step [10/100], Loss: 0.4426\n",
      "Training - Epoch [25/60], Step [20/100], Loss: 0.0278\n",
      "Training - Epoch [25/60], Step [30/100], Loss: 0.0420\n",
      "Training - Epoch [25/60], Step [40/100], Loss: 0.0047\n",
      "Training - Epoch [25/60], Step [50/100], Loss: 0.0216\n",
      "Training - Epoch [25/60], Step [60/100], Loss: 0.1928\n",
      "Training - Epoch [25/60], Step [70/100], Loss: 0.0526\n",
      "Training - Epoch [25/60], Step [80/100], Loss: 0.0307\n",
      "Training - Epoch [25/60], Step [90/100], Loss: 0.0388\n",
      "Training - Epoch [25/60], Step [100/100], Loss: 0.2823\n",
      "Validation - Epoch [25/60], Loss: 0.4998, Accuracy: 0.8578\n",
      "Epoch 26\n",
      "-------------------------------\n",
      "Training - Epoch [26/60], Step [10/100], Loss: 0.2061\n",
      "Training - Epoch [26/60], Step [20/100], Loss: 0.1687\n",
      "Training - Epoch [26/60], Step [30/100], Loss: 0.0037\n",
      "Training - Epoch [26/60], Step [40/100], Loss: 0.0828\n",
      "Training - Epoch [26/60], Step [50/100], Loss: 0.0454\n",
      "Training - Epoch [26/60], Step [60/100], Loss: 0.0843\n",
      "Training - Epoch [26/60], Step [70/100], Loss: 0.0368\n",
      "Training - Epoch [26/60], Step [80/100], Loss: 0.1020\n",
      "Training - Epoch [26/60], Step [90/100], Loss: 0.0626\n",
      "Training - Epoch [26/60], Step [100/100], Loss: 0.2130\n",
      "Validation - Epoch [26/60], Loss: 0.2726, Accuracy: 0.9267\n",
      "Model saved as mobilenet_v3_small_font_classifier_200.pth\n",
      "Epoch 27\n",
      "-------------------------------\n",
      "Training - Epoch [27/60], Step [10/100], Loss: 0.0028\n",
      "Training - Epoch [27/60], Step [20/100], Loss: 0.0346\n",
      "Training - Epoch [27/60], Step [30/100], Loss: 0.4006\n",
      "Training - Epoch [27/60], Step [40/100], Loss: 0.0786\n",
      "Training - Epoch [27/60], Step [50/100], Loss: 0.0909\n",
      "Training - Epoch [27/60], Step [60/100], Loss: 0.1301\n",
      "Training - Epoch [27/60], Step [70/100], Loss: 0.0494\n",
      "Training - Epoch [27/60], Step [80/100], Loss: 0.1153\n",
      "Training - Epoch [27/60], Step [90/100], Loss: 0.0092\n",
      "Training - Epoch [27/60], Step [100/100], Loss: 0.0092\n",
      "Validation - Epoch [27/60], Loss: 0.8015, Accuracy: 0.8444\n",
      "Epoch 28\n",
      "-------------------------------\n",
      "Training - Epoch [28/60], Step [10/100], Loss: 0.2252\n",
      "Training - Epoch [28/60], Step [20/100], Loss: 0.0032\n",
      "Training - Epoch [28/60], Step [30/100], Loss: 0.0092\n",
      "Training - Epoch [28/60], Step [40/100], Loss: 0.0199\n",
      "Training - Epoch [28/60], Step [50/100], Loss: 0.0232\n",
      "Training - Epoch [28/60], Step [60/100], Loss: 0.0008\n",
      "Training - Epoch [28/60], Step [70/100], Loss: 0.0249\n",
      "Training - Epoch [28/60], Step [80/100], Loss: 0.0211\n",
      "Training - Epoch [28/60], Step [90/100], Loss: 0.0563\n",
      "Training - Epoch [28/60], Step [100/100], Loss: 0.0182\n",
      "Validation - Epoch [28/60], Loss: 0.3896, Accuracy: 0.9000\n",
      "Epoch 29\n",
      "-------------------------------\n",
      "Training - Epoch [29/60], Step [10/100], Loss: 0.1905\n",
      "Training - Epoch [29/60], Step [20/100], Loss: 0.0256\n",
      "Training - Epoch [29/60], Step [30/100], Loss: 0.6333\n",
      "Training - Epoch [29/60], Step [40/100], Loss: 0.0271\n",
      "Training - Epoch [29/60], Step [50/100], Loss: 0.0231\n",
      "Training - Epoch [29/60], Step [60/100], Loss: 0.0064\n",
      "Training - Epoch [29/60], Step [70/100], Loss: 0.0222\n",
      "Training - Epoch [29/60], Step [80/100], Loss: 0.2957\n",
      "Training - Epoch [29/60], Step [90/100], Loss: 0.2817\n",
      "Training - Epoch [29/60], Step [100/100], Loss: 0.0401\n",
      "Validation - Epoch [29/60], Loss: 0.3098, Accuracy: 0.8978\n",
      "Epoch 30\n",
      "-------------------------------\n",
      "Training - Epoch [30/60], Step [10/100], Loss: 0.0610\n",
      "Training - Epoch [30/60], Step [20/100], Loss: 0.0028\n",
      "Training - Epoch [30/60], Step [30/100], Loss: 0.0196\n",
      "Training - Epoch [30/60], Step [40/100], Loss: 0.0235\n",
      "Training - Epoch [30/60], Step [50/100], Loss: 0.0433\n",
      "Training - Epoch [30/60], Step [60/100], Loss: 0.0070\n",
      "Training - Epoch [30/60], Step [70/100], Loss: 0.1527\n",
      "Training - Epoch [30/60], Step [80/100], Loss: 0.3823\n",
      "Training - Epoch [30/60], Step [90/100], Loss: 0.0689\n",
      "Training - Epoch [30/60], Step [100/100], Loss: 0.2985\n",
      "Validation - Epoch [30/60], Loss: 0.7751, Accuracy: 0.8178\n",
      "Epoch 31\n",
      "-------------------------------\n",
      "Training - Epoch [31/60], Step [10/100], Loss: 0.0189\n",
      "Training - Epoch [31/60], Step [20/100], Loss: 0.0856\n",
      "Training - Epoch [31/60], Step [30/100], Loss: 0.4693\n",
      "Training - Epoch [31/60], Step [40/100], Loss: 0.1372\n",
      "Training - Epoch [31/60], Step [50/100], Loss: 0.0288\n",
      "Training - Epoch [31/60], Step [60/100], Loss: 0.0784\n",
      "Training - Epoch [31/60], Step [70/100], Loss: 0.0263\n",
      "Training - Epoch [31/60], Step [80/100], Loss: 0.0107\n",
      "Training - Epoch [31/60], Step [90/100], Loss: 0.0258\n",
      "Training - Epoch [31/60], Step [100/100], Loss: 0.3687\n",
      "Validation - Epoch [31/60], Loss: 0.4121, Accuracy: 0.8956\n",
      "Epoch 32\n",
      "-------------------------------\n",
      "Training - Epoch [32/60], Step [10/100], Loss: 0.1988\n",
      "Training - Epoch [32/60], Step [20/100], Loss: 0.0572\n",
      "Training - Epoch [32/60], Step [30/100], Loss: 0.0466\n",
      "Training - Epoch [32/60], Step [40/100], Loss: 0.2149\n",
      "Training - Epoch [32/60], Step [50/100], Loss: 0.0953\n",
      "Training - Epoch [32/60], Step [60/100], Loss: 0.0222\n",
      "Training - Epoch [32/60], Step [70/100], Loss: 0.0795\n",
      "Training - Epoch [32/60], Step [80/100], Loss: 0.0097\n",
      "Training - Epoch [32/60], Step [90/100], Loss: 0.0077\n",
      "Training - Epoch [32/60], Step [100/100], Loss: 0.1966\n",
      "Validation - Epoch [32/60], Loss: 0.4697, Accuracy: 0.8933\n",
      "Epoch 33\n",
      "-------------------------------\n",
      "Training - Epoch [33/60], Step [10/100], Loss: 0.0072\n",
      "Training - Epoch [33/60], Step [20/100], Loss: 0.0560\n",
      "Training - Epoch [33/60], Step [30/100], Loss: 0.0017\n",
      "Training - Epoch [33/60], Step [40/100], Loss: 0.0239\n",
      "Training - Epoch [33/60], Step [50/100], Loss: 0.0367\n",
      "Training - Epoch [33/60], Step [60/100], Loss: 0.4137\n",
      "Training - Epoch [33/60], Step [70/100], Loss: 0.0388\n",
      "Training - Epoch [33/60], Step [80/100], Loss: 0.0028\n",
      "Training - Epoch [33/60], Step [90/100], Loss: 0.2678\n",
      "Training - Epoch [33/60], Step [100/100], Loss: 0.0279\n",
      "Validation - Epoch [33/60], Loss: 0.5952, Accuracy: 0.8889\n",
      "Epoch 34\n",
      "-------------------------------\n",
      "Training - Epoch [34/60], Step [10/100], Loss: 0.3633\n",
      "Training - Epoch [34/60], Step [20/100], Loss: 0.0669\n",
      "Training - Epoch [34/60], Step [30/100], Loss: 0.0863\n",
      "Training - Epoch [34/60], Step [40/100], Loss: 0.3184\n",
      "Training - Epoch [34/60], Step [50/100], Loss: 0.2575\n",
      "Training - Epoch [34/60], Step [60/100], Loss: 0.0319\n",
      "Training - Epoch [34/60], Step [70/100], Loss: 0.0119\n",
      "Training - Epoch [34/60], Step [80/100], Loss: 0.0973\n",
      "Training - Epoch [34/60], Step [90/100], Loss: 0.5921\n",
      "Training - Epoch [34/60], Step [100/100], Loss: 0.1114\n",
      "Validation - Epoch [34/60], Loss: 0.2502, Accuracy: 0.9311\n",
      "Model saved as mobilenet_v3_small_font_classifier_200.pth\n",
      "Epoch 35\n",
      "-------------------------------\n",
      "Training - Epoch [35/60], Step [10/100], Loss: 0.0156\n",
      "Training - Epoch [35/60], Step [20/100], Loss: 0.0078\n",
      "Training - Epoch [35/60], Step [30/100], Loss: 0.2881\n",
      "Training - Epoch [35/60], Step [40/100], Loss: 0.0231\n",
      "Training - Epoch [35/60], Step [50/100], Loss: 0.0540\n",
      "Training - Epoch [35/60], Step [60/100], Loss: 0.0619\n",
      "Training - Epoch [35/60], Step [70/100], Loss: 0.0113\n",
      "Training - Epoch [35/60], Step [80/100], Loss: 0.0504\n",
      "Training - Epoch [35/60], Step [90/100], Loss: 0.0024\n",
      "Training - Epoch [35/60], Step [100/100], Loss: 0.0261\n",
      "Validation - Epoch [35/60], Loss: 0.2364, Accuracy: 0.9289\n",
      "Model saved as mobilenet_v3_small_font_classifier_200.pth\n",
      "Epoch 36\n",
      "-------------------------------\n",
      "Training - Epoch [36/60], Step [10/100], Loss: 0.0035\n",
      "Training - Epoch [36/60], Step [20/100], Loss: 0.0939\n",
      "Training - Epoch [36/60], Step [30/100], Loss: 0.0238\n",
      "Training - Epoch [36/60], Step [40/100], Loss: 0.0185\n",
      "Training - Epoch [36/60], Step [50/100], Loss: 0.0204\n",
      "Training - Epoch [36/60], Step [60/100], Loss: 0.0575\n",
      "Training - Epoch [36/60], Step [70/100], Loss: 0.0007\n",
      "Training - Epoch [36/60], Step [80/100], Loss: 0.0042\n",
      "Training - Epoch [36/60], Step [90/100], Loss: 0.0200\n",
      "Training - Epoch [36/60], Step [100/100], Loss: 0.0829\n",
      "Validation - Epoch [36/60], Loss: 0.2074, Accuracy: 0.9511\n",
      "Model saved as mobilenet_v3_small_font_classifier_200.pth\n",
      "Epoch 37\n",
      "-------------------------------\n",
      "Training - Epoch [37/60], Step [10/100], Loss: 0.0153\n",
      "Training - Epoch [37/60], Step [20/100], Loss: 0.0484\n",
      "Training - Epoch [37/60], Step [30/100], Loss: 0.0020\n",
      "Training - Epoch [37/60], Step [40/100], Loss: 0.0117\n",
      "Training - Epoch [37/60], Step [50/100], Loss: 0.0009\n",
      "Training - Epoch [37/60], Step [60/100], Loss: 0.0044\n",
      "Training - Epoch [37/60], Step [70/100], Loss: 0.0163\n",
      "Training - Epoch [37/60], Step [80/100], Loss: 0.0541\n",
      "Training - Epoch [37/60], Step [90/100], Loss: 0.0109\n",
      "Training - Epoch [37/60], Step [100/100], Loss: 0.1650\n",
      "Validation - Epoch [37/60], Loss: 0.2843, Accuracy: 0.9378\n",
      "Epoch 38\n",
      "-------------------------------\n",
      "Training - Epoch [38/60], Step [10/100], Loss: 0.0021\n",
      "Training - Epoch [38/60], Step [20/100], Loss: 0.0043\n",
      "Training - Epoch [38/60], Step [30/100], Loss: 0.0253\n",
      "Training - Epoch [38/60], Step [40/100], Loss: 0.0169\n",
      "Training - Epoch [38/60], Step [50/100], Loss: 0.1728\n",
      "Training - Epoch [38/60], Step [60/100], Loss: 0.0552\n",
      "Training - Epoch [38/60], Step [70/100], Loss: 0.0136\n",
      "Training - Epoch [38/60], Step [80/100], Loss: 0.1875\n",
      "Training - Epoch [38/60], Step [90/100], Loss: 0.1305\n",
      "Training - Epoch [38/60], Step [100/100], Loss: 1.1455\n",
      "Validation - Epoch [38/60], Loss: 0.2884, Accuracy: 0.9400\n",
      "Epoch 39\n",
      "-------------------------------\n",
      "Training - Epoch [39/60], Step [10/100], Loss: 0.0139\n",
      "Training - Epoch [39/60], Step [20/100], Loss: 0.1539\n",
      "Training - Epoch [39/60], Step [30/100], Loss: 0.0105\n",
      "Training - Epoch [39/60], Step [40/100], Loss: 0.0042\n",
      "Training - Epoch [39/60], Step [50/100], Loss: 0.0166\n",
      "Training - Epoch [39/60], Step [60/100], Loss: 0.0025\n",
      "Training - Epoch [39/60], Step [70/100], Loss: 0.2530\n",
      "Training - Epoch [39/60], Step [80/100], Loss: 0.0470\n",
      "Training - Epoch [39/60], Step [90/100], Loss: 0.0246\n",
      "Training - Epoch [39/60], Step [100/100], Loss: 0.0306\n",
      "Validation - Epoch [39/60], Loss: 0.2218, Accuracy: 0.9356\n",
      "Epoch 40\n",
      "-------------------------------\n",
      "Training - Epoch [40/60], Step [10/100], Loss: 0.0101\n",
      "Training - Epoch [40/60], Step [20/100], Loss: 0.0175\n",
      "Training - Epoch [40/60], Step [30/100], Loss: 0.0037\n",
      "Training - Epoch [40/60], Step [40/100], Loss: 0.0652\n",
      "Training - Epoch [40/60], Step [50/100], Loss: 0.1688\n",
      "Training - Epoch [40/60], Step [60/100], Loss: 0.0099\n",
      "Training - Epoch [40/60], Step [70/100], Loss: 0.0272\n",
      "Training - Epoch [40/60], Step [80/100], Loss: 0.3136\n",
      "Training - Epoch [40/60], Step [90/100], Loss: 0.7337\n",
      "Training - Epoch [40/60], Step [100/100], Loss: 0.0331\n",
      "Validation - Epoch [40/60], Loss: 0.3078, Accuracy: 0.9311\n",
      "Epoch 41\n",
      "-------------------------------\n",
      "Training - Epoch [41/60], Step [10/100], Loss: 0.0567\n",
      "Training - Epoch [41/60], Step [20/100], Loss: 0.1123\n",
      "Training - Epoch [41/60], Step [30/100], Loss: 0.2357\n",
      "Training - Epoch [41/60], Step [40/100], Loss: 0.2007\n",
      "Training - Epoch [41/60], Step [50/100], Loss: 0.1140\n",
      "Training - Epoch [41/60], Step [60/100], Loss: 0.0156\n",
      "Training - Epoch [41/60], Step [70/100], Loss: 0.0596\n",
      "Training - Epoch [41/60], Step [80/100], Loss: 0.1664\n",
      "Training - Epoch [41/60], Step [90/100], Loss: 0.1108\n",
      "Training - Epoch [41/60], Step [100/100], Loss: 0.0839\n",
      "Validation - Epoch [41/60], Loss: 0.3116, Accuracy: 0.9133\n",
      "Epoch 42\n",
      "-------------------------------\n",
      "Training - Epoch [42/60], Step [10/100], Loss: 0.1510\n",
      "Training - Epoch [42/60], Step [20/100], Loss: 0.0071\n",
      "Training - Epoch [42/60], Step [30/100], Loss: 0.0023\n",
      "Training - Epoch [42/60], Step [40/100], Loss: 0.5002\n",
      "Training - Epoch [42/60], Step [50/100], Loss: 0.1589\n",
      "Training - Epoch [42/60], Step [60/100], Loss: 0.4975\n",
      "Training - Epoch [42/60], Step [70/100], Loss: 0.2921\n",
      "Training - Epoch [42/60], Step [80/100], Loss: 0.0240\n",
      "Training - Epoch [42/60], Step [90/100], Loss: 0.4115\n",
      "Training - Epoch [42/60], Step [100/100], Loss: 0.0311\n",
      "Validation - Epoch [42/60], Loss: 0.3360, Accuracy: 0.9311\n",
      "Epoch 43\n",
      "-------------------------------\n",
      "Training - Epoch [43/60], Step [10/100], Loss: 0.0256\n",
      "Training - Epoch [43/60], Step [20/100], Loss: 0.2702\n",
      "Training - Epoch [43/60], Step [30/100], Loss: 0.0398\n",
      "Training - Epoch [43/60], Step [40/100], Loss: 0.0791\n",
      "Training - Epoch [43/60], Step [50/100], Loss: 0.0015\n",
      "Training - Epoch [43/60], Step [60/100], Loss: 0.0441\n",
      "Training - Epoch [43/60], Step [70/100], Loss: 0.1477\n",
      "Training - Epoch [43/60], Step [80/100], Loss: 0.0028\n",
      "Training - Epoch [43/60], Step [90/100], Loss: 0.1766\n",
      "Training - Epoch [43/60], Step [100/100], Loss: 0.0618\n",
      "Validation - Epoch [43/60], Loss: 0.4625, Accuracy: 0.9067\n",
      "Epoch 44\n",
      "-------------------------------\n",
      "Training - Epoch [44/60], Step [10/100], Loss: 0.1295\n",
      "Training - Epoch [44/60], Step [20/100], Loss: 0.4571\n",
      "Training - Epoch [44/60], Step [30/100], Loss: 0.3616\n",
      "Training - Epoch [44/60], Step [40/100], Loss: 0.0991\n",
      "Training - Epoch [44/60], Step [50/100], Loss: 0.1547\n",
      "Training - Epoch [44/60], Step [60/100], Loss: 0.0427\n",
      "Training - Epoch [44/60], Step [70/100], Loss: 0.0507\n",
      "Training - Epoch [44/60], Step [80/100], Loss: 0.1239\n",
      "Training - Epoch [44/60], Step [90/100], Loss: 0.0123\n",
      "Training - Epoch [44/60], Step [100/100], Loss: 0.0046\n",
      "Validation - Epoch [44/60], Loss: 0.3516, Accuracy: 0.9178\n",
      "Epoch 45\n",
      "-------------------------------\n",
      "Training - Epoch [45/60], Step [10/100], Loss: 0.0025\n",
      "Training - Epoch [45/60], Step [20/100], Loss: 0.0430\n",
      "Training - Epoch [45/60], Step [30/100], Loss: 0.9023\n",
      "Training - Epoch [45/60], Step [40/100], Loss: 0.4801\n",
      "Training - Epoch [45/60], Step [50/100], Loss: 0.0111\n",
      "Training - Epoch [45/60], Step [60/100], Loss: 0.1403\n",
      "Training - Epoch [45/60], Step [70/100], Loss: 0.0180\n",
      "Training - Epoch [45/60], Step [80/100], Loss: 0.1115\n",
      "Training - Epoch [45/60], Step [90/100], Loss: 0.0058\n",
      "Training - Epoch [45/60], Step [100/100], Loss: 0.0173\n",
      "Validation - Epoch [45/60], Loss: 0.3789, Accuracy: 0.8956\n",
      "Epoch 46\n",
      "-------------------------------\n",
      "Training - Epoch [46/60], Step [10/100], Loss: 0.0086\n",
      "Training - Epoch [46/60], Step [20/100], Loss: 0.0031\n",
      "Training - Epoch [46/60], Step [30/100], Loss: 0.4026\n",
      "Training - Epoch [46/60], Step [40/100], Loss: 0.0269\n",
      "Training - Epoch [46/60], Step [50/100], Loss: 0.1235\n",
      "Training - Epoch [46/60], Step [60/100], Loss: 0.0032\n",
      "Training - Epoch [46/60], Step [70/100], Loss: 0.0247\n",
      "Training - Epoch [46/60], Step [80/100], Loss: 0.0314\n",
      "Training - Epoch [46/60], Step [90/100], Loss: 0.0013\n",
      "Training - Epoch [46/60], Step [100/100], Loss: 0.0611\n",
      "Validation - Epoch [46/60], Loss: 0.2284, Accuracy: 0.9356\n",
      "Epoch 47\n",
      "-------------------------------\n",
      "Training - Epoch [47/60], Step [10/100], Loss: 0.0822\n",
      "Training - Epoch [47/60], Step [20/100], Loss: 0.0026\n",
      "Training - Epoch [47/60], Step [30/100], Loss: 0.0043\n",
      "Training - Epoch [47/60], Step [40/100], Loss: 0.0158\n",
      "Training - Epoch [47/60], Step [50/100], Loss: 0.0050\n",
      "Training - Epoch [47/60], Step [60/100], Loss: 0.0012\n",
      "Training - Epoch [47/60], Step [70/100], Loss: 0.0017\n",
      "Training - Epoch [47/60], Step [80/100], Loss: 0.0011\n",
      "Training - Epoch [47/60], Step [90/100], Loss: 0.0193\n",
      "Training - Epoch [47/60], Step [100/100], Loss: 0.3441\n",
      "Validation - Epoch [47/60], Loss: 0.3398, Accuracy: 0.9356\n",
      "Epoch 48\n",
      "-------------------------------\n",
      "Training - Epoch [48/60], Step [10/100], Loss: 0.4147\n",
      "Training - Epoch [48/60], Step [20/100], Loss: 0.0172\n",
      "Training - Epoch [48/60], Step [30/100], Loss: 0.2145\n",
      "Training - Epoch [48/60], Step [40/100], Loss: 0.1592\n",
      "Training - Epoch [48/60], Step [50/100], Loss: 0.0337\n",
      "Training - Epoch [48/60], Step [60/100], Loss: 0.0094\n",
      "Training - Epoch [48/60], Step [70/100], Loss: 0.1478\n",
      "Training - Epoch [48/60], Step [80/100], Loss: 0.0269\n",
      "Training - Epoch [48/60], Step [90/100], Loss: 0.0008\n",
      "Training - Epoch [48/60], Step [100/100], Loss: 0.1193\n",
      "Validation - Epoch [48/60], Loss: 0.2765, Accuracy: 0.9200\n",
      "Epoch 49\n",
      "-------------------------------\n",
      "Training - Epoch [49/60], Step [10/100], Loss: 0.0016\n",
      "Training - Epoch [49/60], Step [20/100], Loss: 0.0019\n",
      "Training - Epoch [49/60], Step [30/100], Loss: 0.0056\n",
      "Training - Epoch [49/60], Step [40/100], Loss: 0.0046\n",
      "Training - Epoch [49/60], Step [50/100], Loss: 0.1756\n",
      "Training - Epoch [49/60], Step [60/100], Loss: 0.1878\n",
      "Training - Epoch [49/60], Step [70/100], Loss: 0.0082\n",
      "Training - Epoch [49/60], Step [80/100], Loss: 0.0013\n",
      "Training - Epoch [49/60], Step [90/100], Loss: 0.0767\n",
      "Training - Epoch [49/60], Step [100/100], Loss: 0.1857\n",
      "Validation - Epoch [49/60], Loss: 0.2631, Accuracy: 0.9400\n",
      "Epoch 50\n",
      "-------------------------------\n",
      "Training - Epoch [50/60], Step [10/100], Loss: 0.0050\n",
      "Training - Epoch [50/60], Step [20/100], Loss: 0.1923\n",
      "Training - Epoch [50/60], Step [30/100], Loss: 0.0159\n",
      "Training - Epoch [50/60], Step [40/100], Loss: 0.0299\n",
      "Training - Epoch [50/60], Step [50/100], Loss: 0.0136\n",
      "Training - Epoch [50/60], Step [60/100], Loss: 0.0321\n",
      "Training - Epoch [50/60], Step [70/100], Loss: 0.0876\n",
      "Training - Epoch [50/60], Step [80/100], Loss: 0.0526\n",
      "Training - Epoch [50/60], Step [90/100], Loss: 0.0195\n",
      "Training - Epoch [50/60], Step [100/100], Loss: 0.2008\n",
      "Validation - Epoch [50/60], Loss: 0.2654, Accuracy: 0.9378\n",
      "Epoch 51\n",
      "-------------------------------\n",
      "Training - Epoch [51/60], Step [10/100], Loss: 0.0301\n",
      "Training - Epoch [51/60], Step [20/100], Loss: 0.0021\n",
      "Training - Epoch [51/60], Step [30/100], Loss: 0.0011\n",
      "Training - Epoch [51/60], Step [40/100], Loss: 0.2343\n",
      "Training - Epoch [51/60], Step [50/100], Loss: 0.0045\n",
      "Training - Epoch [51/60], Step [60/100], Loss: 0.0007\n",
      "Training - Epoch [51/60], Step [70/100], Loss: 0.0176\n",
      "Training - Epoch [51/60], Step [80/100], Loss: 0.0054\n",
      "Training - Epoch [51/60], Step [90/100], Loss: 0.0547\n",
      "Training - Epoch [51/60], Step [100/100], Loss: 0.0040\n",
      "Validation - Epoch [51/60], Loss: 0.2294, Accuracy: 0.9467\n",
      "Epoch 52\n",
      "-------------------------------\n",
      "Training - Epoch [52/60], Step [10/100], Loss: 0.0020\n",
      "Training - Epoch [52/60], Step [20/100], Loss: 0.0289\n",
      "Training - Epoch [52/60], Step [30/100], Loss: 0.0805\n",
      "Training - Epoch [52/60], Step [40/100], Loss: 0.0368\n",
      "Training - Epoch [52/60], Step [50/100], Loss: 0.1315\n",
      "Training - Epoch [52/60], Step [60/100], Loss: 0.0141\n",
      "Training - Epoch [52/60], Step [70/100], Loss: 0.3163\n",
      "Training - Epoch [52/60], Step [80/100], Loss: 0.0120\n",
      "Training - Epoch [52/60], Step [90/100], Loss: 0.0249\n",
      "Training - Epoch [52/60], Step [100/100], Loss: 0.0145\n",
      "Validation - Epoch [52/60], Loss: 0.2821, Accuracy: 0.9289\n",
      "Epoch 53\n",
      "-------------------------------\n",
      "Training - Epoch [53/60], Step [10/100], Loss: 0.2029\n",
      "Training - Epoch [53/60], Step [20/100], Loss: 0.0121\n",
      "Training - Epoch [53/60], Step [30/100], Loss: 0.0603\n",
      "Training - Epoch [53/60], Step [40/100], Loss: 0.1036\n",
      "Training - Epoch [53/60], Step [50/100], Loss: 0.0059\n",
      "Training - Epoch [53/60], Step [60/100], Loss: 0.0235\n",
      "Training - Epoch [53/60], Step [70/100], Loss: 0.0061\n",
      "Training - Epoch [53/60], Step [80/100], Loss: 0.0088\n",
      "Training - Epoch [53/60], Step [90/100], Loss: 0.5257\n",
      "Training - Epoch [53/60], Step [100/100], Loss: 0.0387\n",
      "Validation - Epoch [53/60], Loss: 0.4297, Accuracy: 0.8956\n",
      "Epoch 54\n",
      "-------------------------------\n",
      "Training - Epoch [54/60], Step [10/100], Loss: 0.0628\n",
      "Training - Epoch [54/60], Step [20/100], Loss: 0.0209\n",
      "Training - Epoch [54/60], Step [30/100], Loss: 0.0019\n",
      "Training - Epoch [54/60], Step [40/100], Loss: 0.0172\n",
      "Training - Epoch [54/60], Step [50/100], Loss: 0.0013\n",
      "Training - Epoch [54/60], Step [60/100], Loss: 0.1036\n",
      "Training - Epoch [54/60], Step [70/100], Loss: 0.0013\n",
      "Training - Epoch [54/60], Step [80/100], Loss: 0.0347\n",
      "Training - Epoch [54/60], Step [90/100], Loss: 0.0111\n",
      "Training - Epoch [54/60], Step [100/100], Loss: 0.0215\n",
      "Validation - Epoch [54/60], Loss: 0.2378, Accuracy: 0.9400\n",
      "Epoch 55\n",
      "-------------------------------\n",
      "Training - Epoch [55/60], Step [10/100], Loss: 0.0556\n",
      "Training - Epoch [55/60], Step [20/100], Loss: 0.0742\n",
      "Training - Epoch [55/60], Step [30/100], Loss: 0.0136\n",
      "Training - Epoch [55/60], Step [40/100], Loss: 0.0347\n",
      "Training - Epoch [55/60], Step [50/100], Loss: 0.0486\n",
      "Training - Epoch [55/60], Step [60/100], Loss: 0.0211\n",
      "Training - Epoch [55/60], Step [70/100], Loss: 0.0003\n",
      "Training - Epoch [55/60], Step [80/100], Loss: 0.0005\n",
      "Training - Epoch [55/60], Step [90/100], Loss: 0.1739\n",
      "Training - Epoch [55/60], Step [100/100], Loss: 0.0174\n",
      "Validation - Epoch [55/60], Loss: 0.2675, Accuracy: 0.9289\n",
      "Epoch 56\n",
      "-------------------------------\n",
      "Training - Epoch [56/60], Step [10/100], Loss: 0.0604\n",
      "Training - Epoch [56/60], Step [20/100], Loss: 0.3990\n",
      "Training - Epoch [56/60], Step [30/100], Loss: 0.0738\n",
      "Training - Epoch [56/60], Step [40/100], Loss: 0.0043\n",
      "Training - Epoch [56/60], Step [50/100], Loss: 0.2234\n",
      "Training - Epoch [56/60], Step [60/100], Loss: 0.0418\n",
      "Training - Epoch [56/60], Step [70/100], Loss: 0.0185\n",
      "Training - Epoch [56/60], Step [80/100], Loss: 0.0143\n",
      "Training - Epoch [56/60], Step [90/100], Loss: 0.0972\n",
      "Training - Epoch [56/60], Step [100/100], Loss: 0.0015\n",
      "Validation - Epoch [56/60], Loss: 0.3569, Accuracy: 0.9133\n",
      "Epoch 57\n",
      "-------------------------------\n",
      "Training - Epoch [57/60], Step [10/100], Loss: 0.0015\n",
      "Training - Epoch [57/60], Step [20/100], Loss: 0.2053\n",
      "Training - Epoch [57/60], Step [30/100], Loss: 0.0028\n",
      "Training - Epoch [57/60], Step [40/100], Loss: 0.1110\n",
      "Training - Epoch [57/60], Step [50/100], Loss: 0.0099\n",
      "Training - Epoch [57/60], Step [60/100], Loss: 0.0543\n",
      "Training - Epoch [57/60], Step [70/100], Loss: 0.0005\n",
      "Training - Epoch [57/60], Step [80/100], Loss: 0.2097\n",
      "Training - Epoch [57/60], Step [90/100], Loss: 0.1230\n",
      "Training - Epoch [57/60], Step [100/100], Loss: 0.1603\n",
      "Validation - Epoch [57/60], Loss: 0.3241, Accuracy: 0.9289\n",
      "Epoch 58\n",
      "-------------------------------\n",
      "Training - Epoch [58/60], Step [10/100], Loss: 0.0092\n",
      "Training - Epoch [58/60], Step [20/100], Loss: 0.0039\n",
      "Training - Epoch [58/60], Step [30/100], Loss: 0.0005\n",
      "Training - Epoch [58/60], Step [40/100], Loss: 0.1208\n",
      "Training - Epoch [58/60], Step [50/100], Loss: 0.0003\n",
      "Training - Epoch [58/60], Step [60/100], Loss: 0.0230\n",
      "Training - Epoch [58/60], Step [70/100], Loss: 0.0003\n",
      "Training - Epoch [58/60], Step [80/100], Loss: 0.0009\n",
      "Training - Epoch [58/60], Step [90/100], Loss: 0.0011\n",
      "Training - Epoch [58/60], Step [100/100], Loss: 0.0013\n",
      "Validation - Epoch [58/60], Loss: 0.3091, Accuracy: 0.9311\n",
      "Epoch 59\n",
      "-------------------------------\n",
      "Training - Epoch [59/60], Step [10/100], Loss: 0.0088\n",
      "Training - Epoch [59/60], Step [20/100], Loss: 0.0010\n",
      "Training - Epoch [59/60], Step [30/100], Loss: 0.0635\n",
      "Training - Epoch [59/60], Step [40/100], Loss: 0.0000\n",
      "Training - Epoch [59/60], Step [50/100], Loss: 0.0195\n",
      "Training - Epoch [59/60], Step [60/100], Loss: 0.0255\n",
      "Training - Epoch [59/60], Step [70/100], Loss: 0.0282\n",
      "Training - Epoch [59/60], Step [80/100], Loss: 0.0011\n",
      "Training - Epoch [59/60], Step [90/100], Loss: 0.0419\n",
      "Training - Epoch [59/60], Step [100/100], Loss: 0.1568\n",
      "Validation - Epoch [59/60], Loss: 0.2687, Accuracy: 0.9289\n",
      "Epoch 60\n",
      "-------------------------------\n",
      "Training - Epoch [60/60], Step [10/100], Loss: 0.0088\n",
      "Training - Epoch [60/60], Step [20/100], Loss: 0.0873\n",
      "Training - Epoch [60/60], Step [30/100], Loss: 0.0041\n",
      "Training - Epoch [60/60], Step [40/100], Loss: 0.0016\n",
      "Training - Epoch [60/60], Step [50/100], Loss: 0.9837\n",
      "Training - Epoch [60/60], Step [60/100], Loss: 0.1878\n",
      "Training - Epoch [60/60], Step [70/100], Loss: 0.0237\n",
      "Training - Epoch [60/60], Step [80/100], Loss: 0.1195\n",
      "Training - Epoch [60/60], Step [90/100], Loss: 0.3785\n",
      "Training - Epoch [60/60], Step [100/100], Loss: 0.0720\n",
      "Validation - Epoch [60/60], Loss: 0.4523, Accuracy: 0.9133\n"
     ]
    }
   ],
   "source": [
    "# Define the loss function\n",
    "criterion = torch.nn.CrossEntropyLoss()\n",
    "\n",
    "# Define the optimizer\n",
    "optimizer = torch.optim.Adam(model.parameters(), lr=0.001)\n",
    "\n",
    "# Training loop\n",
    "num_epochs = 60\n",
    "best_val_loss = float('inf')\n",
    "\n",
    "# Lists to store training and validation metrics for plotting\n",
    "train_losses = []\n",
    "train_accuracies = []\n",
    "val_losses = []\n",
    "val_accuracies = []\n",
    "\n",
    "# Set the model to training mode\n",
    "model.train()\n",
    "\n",
    "# Start the training loop\n",
    "start_time = time.time()\n",
    "for epoch in range(num_epochs):\n",
    "    print(f'Epoch {epoch + 1}\\n-------------------------------')\n",
    "    # Training phase\n",
    "    model.train()\n",
    "    train_loss = 0.0\n",
    "    correct_train = 0\n",
    "    total_train = 0\n",
    "    for i, (inputs, labels) in enumerate(train_loader):\n",
    "        inputs = inputs.to(device)\n",
    "        labels = labels.to(device)\n",
    "\n",
    "        # Forward pass\n",
    "        outputs = model(inputs)\n",
    "        loss = criterion(outputs, labels)\n",
    "\n",
    "        # Backward pass\n",
    "        optimizer.zero_grad()\n",
    "        loss.backward()\n",
    "        optimizer.step()\n",
    "\n",
    "        train_loss += loss.item() * inputs.size(0)\n",
    "        \n",
    "        # Calculate accuracy\n",
    "        _, predicted = torch.max(outputs, 1)\n",
    "        total_train += labels.size(0)\n",
    "        correct_train += (predicted == labels).sum().item()\n",
    "\n",
    "        # Print training statistics\n",
    "        if (i + 1) % 10 == 0:\n",
    "            print(f'Training - Epoch [{epoch + 1}/{num_epochs}], Step [{i + 1}/{len(train_loader)}], Loss: {loss.item():.4f}')\n",
    "\n",
    "    # Calculate average training loss and accuracy\n",
    "    train_loss /= len(train_loader.dataset)\n",
    "    train_accuracy = correct_train / total_train\n",
    "    train_losses.append(train_loss)\n",
    "    train_accuracies.append(train_accuracy)\n",
    "    \n",
    "    # Validation phase\n",
    "    model.eval()\n",
    "    val_loss = 0.0\n",
    "    correct_val = 0\n",
    "    total_val = 0\n",
    "    with torch.no_grad():\n",
    "        for i, (inputs, labels) in enumerate(val_loader):\n",
    "            inputs = inputs.to(device)\n",
    "            labels = labels.to(device)\n",
    "\n",
    "            # Forward pass\n",
    "            outputs = model(inputs)\n",
    "            loss = criterion(outputs, labels)\n",
    "\n",
    "            val_loss += loss.item() * inputs.size(0)\n",
    "\n",
    "            # Calculate accuracy\n",
    "            _, predicted = torch.max(outputs, 1)\n",
    "            total_val += labels.size(0)\n",
    "            correct_val += (predicted == labels).sum().item()\n",
    "\n",
    "    # Print validation statistics\n",
    "    val_loss /= len(val_loader.dataset)\n",
    "    val_accuracy = correct_val / total_val\n",
    "    val_losses.append(val_loss)\n",
    "    val_accuracies.append(val_accuracy)\n",
    "    print(f'Validation - Epoch [{epoch + 1}/{num_epochs}], Loss: {val_loss:.4f}, Accuracy: {val_accuracy:.4f}')\n",
    "\n",
    "    # Save the model if validation loss decreases\n",
    "    if val_loss < best_val_loss:\n",
    "        best_val_loss = val_loss\n",
    "        torch.save(model.state_dict(), f'../../models/{scope}/{model_name}_font_classifier_{type}.pth')\n",
    "        print(f'Model saved as {model_name}_font_classifier_{type}.pth')\n",
    "\n",
    "end_time = time.time()"
   ],
   "metadata": {
    "collapsed": false,
    "ExecuteTime": {
     "end_time": "2024-04-29T15:18:01.478624Z",
     "start_time": "2024-04-29T15:02:02.129397Z"
    }
   },
   "id": "126f35f98051a02a",
   "execution_count": 7
  },
  {
   "cell_type": "markdown",
   "source": [
    "# Plot the training and validation metrics"
   ],
   "metadata": {
    "collapsed": false
   },
   "id": "2f8d840ac9117197"
  },
  {
   "cell_type": "code",
   "outputs": [
    {
     "data": {
      "text/plain": "<Figure size 1200x500 with 2 Axes>",
      "image/png": "[encoded data removed]"
     },
     "metadata": {},
     "output_type": "display_data"
    },
    {
     "name": "stdout",
     "output_type": "stream",
     "text": [
      "Finished Training\n",
      "Time taken for training: 959.33 seconds\n",
      "Medium time per epoch: 15.99 seconds\n"
     ]
    }
   ],
   "source": [
    "# Plotting\n",
    "plt.figure(figsize=(12, 5))\n",
    "plt.subplot(1, 2, 1)\n",
    "plt.plot(range(1, num_epochs + 1), train_losses, label='Training Loss')\n",
    "plt.plot(range(1, num_epochs + 1), val_losses, label='Validation Loss')\n",
    "plt.xlabel('Epochs')\n",
    "plt.ylabel('Loss')\n",
    "plt.title('Training and Validation Loss')\n",
    "plt.legend()\n",
    "\n",
    "plt.subplot(1, 2, 2)\n",
    "plt.plot(range(1, num_epochs + 1), train_accuracies, label='Training Accuracy')\n",
    "plt.plot(range(1, num_epochs + 1), val_accuracies, label='Validation Accuracy')\n",
    "plt.xlabel('Epochs')\n",
    "plt.ylabel('Accuracy')\n",
    "plt.title('Training and Validation Accuracy')\n",
    "plt.legend()\n",
    "\n",
    "plt.tight_layout()\n",
    "plt.show()\n",
    "\n",
    "print('Finished Training')\n",
    "\n",
    "# Print the time taken for training\n",
    "print(f'Time taken for training: {end_time - start_time:.2f} seconds')\n",
    "## Print medium time per epoch\n",
    "print(f'Medium time per epoch: {(end_time - start_time)/num_epochs:.2f} seconds')"
   ],
   "metadata": {
    "collapsed": false,
    "ExecuteTime": {
     "end_time": "2024-04-29T15:18:01.848624Z",
     "start_time": "2024-04-29T15:18:01.479625Z"
    }
   },
   "id": "2fb4051fe48bcb0f",
   "execution_count": 8
  },
  {
   "cell_type": "markdown",
   "source": [
    "# Evaluate the model"
   ],
   "metadata": {
    "collapsed": false
   },
   "id": "5d1120839a43965"
  },
  {
   "cell_type": "markdown",
   "source": [
    "## Load the model"
   ],
   "metadata": {
    "collapsed": false
   },
   "id": "f38ec7e7c9fc2bd2"
  },
  {
   "cell_type": "code",
   "outputs": [
    {
     "name": "stdout",
     "output_type": "stream",
     "text": [
      "Model loaded from ../../models/DatasetSize/mobilenet_v3_small_font_classifier_200.pth\n"
     ]
    }
   ],
   "source": [
    "# Load the model\n",
    "model_path = f'../../models/{scope}/{model_name}_font_classifier_{type}.pth'\n",
    "model = models.__dict__[model_name](weights=None)\n",
    "model.load_state_dict(torch.load(model_path))\n",
    "model = model.to(device)\n",
    "print(f'Model loaded from {model_path}')"
   ],
   "metadata": {
    "collapsed": false,
    "ExecuteTime": {
     "end_time": "2024-04-29T15:18:01.927186Z",
     "start_time": "2024-04-29T15:18:01.849623Z"
    }
   },
   "id": "2d59abb3cc4d4ab1",
   "execution_count": 9
  },
  {
   "cell_type": "markdown",
   "source": [
    "## Evaluate the model\n",
    "Evaluate the model using the test set. We will compute the accuracy, precision, recall, F1-score, confusion matrix, and ROC curve."
   ],
   "metadata": {
    "collapsed": false
   },
   "id": "c4fb0a8cc4c7aaaf"
  },
  {
   "cell_type": "code",
   "outputs": [],
   "source": [
    "# Set the model to evaluation mode\n",
    "model.eval()\n",
    "\n",
    "# Initialize lists for true labels and predicted labels\n",
    "true_labels = []\n",
    "predicted_labels = []\n",
    "\n",
    "# Disable gradient computation for evaluation\n",
    "with torch.no_grad():\n",
    "    for images, labels in test_loader:\n",
    "        images = images.to(device)\n",
    "        labels = labels.to(device)\n",
    "\n",
    "        # Perform inference\n",
    "        outputs = model(images)\n",
    "        \n",
    "        # Compute predicted labels\n",
    "        _, predicted = torch.max(outputs.data, 1)\n",
    "        \n",
    "        # Append true and predicted labels to lists\n",
    "        true_labels.extend(labels.cpu().numpy())\n",
    "        predicted_labels.extend(predicted.cpu().numpy())\n",
    "\n",
    "# Convert lists to numpy arrays\n",
    "true_labels = np.array(true_labels)\n",
    "predicted_labels = np.array(predicted_labels)"
   ],
   "metadata": {
    "collapsed": false,
    "ExecuteTime": {
     "end_time": "2024-04-29T15:18:03.409266Z",
     "start_time": "2024-04-29T15:18:01.928187Z"
    }
   },
   "id": "d94dccfec1ca328d",
   "execution_count": 10
  },
  {
   "cell_type": "markdown",
   "source": [
    "## Compute metrics\n",
    "### Accuracy"
   ],
   "metadata": {
    "collapsed": false
   },
   "id": "7fc2137e6729efa2"
  },
  {
   "cell_type": "code",
   "outputs": [
    {
     "name": "stdout",
     "output_type": "stream",
     "text": [
      "Accuracy: 94.89%\n"
     ]
    }
   ],
   "source": [
    "accuracy = accuracy_score(true_labels, predicted_labels)\n",
    "print('Accuracy: {:.2f}%'.format(100 * accuracy))"
   ],
   "metadata": {
    "collapsed": false,
    "ExecuteTime": {
     "end_time": "2024-04-29T15:18:03.424266Z",
     "start_time": "2024-04-29T15:18:03.410267Z"
    }
   },
   "id": "101581d76f4e9326",
   "execution_count": 11
  },
  {
   "cell_type": "markdown",
   "source": [
    "### Precision"
   ],
   "metadata": {
    "collapsed": false
   },
   "id": "8c872a168687bbb9"
  },
  {
   "cell_type": "code",
   "outputs": [
    {
     "name": "stdout",
     "output_type": "stream",
     "text": [
      "Precision: 0.95\n"
     ]
    }
   ],
   "source": [
    "precision = precision_score(true_labels, predicted_labels, average='weighted')\n",
    "print('Precision: {:.2f}'.format(precision))"
   ],
   "metadata": {
    "collapsed": false,
    "ExecuteTime": {
     "end_time": "2024-04-29T15:18:03.439266Z",
     "start_time": "2024-04-29T15:18:03.425267Z"
    }
   },
   "id": "c0a1514893d52da3",
   "execution_count": 12
  },
  {
   "cell_type": "markdown",
   "source": [
    "### Recall"
   ],
   "metadata": {
    "collapsed": false
   },
   "id": "2d6709ac0ed49e7d"
  },
  {
   "cell_type": "code",
   "outputs": [
    {
     "name": "stdout",
     "output_type": "stream",
     "text": [
      "Recall: 0.95\n"
     ]
    }
   ],
   "source": [
    "recall = recall_score(true_labels, predicted_labels, average='weighted')\n",
    "print('Recall: {:.2f}'.format(recall))"
   ],
   "metadata": {
    "collapsed": false,
    "ExecuteTime": {
     "end_time": "2024-04-29T15:18:03.455269Z",
     "start_time": "2024-04-29T15:18:03.440267Z"
    }
   },
   "id": "cbe9cce2d6d4b849",
   "execution_count": 13
  },
  {
   "cell_type": "markdown",
   "source": [
    "### F1-score"
   ],
   "metadata": {
    "collapsed": false
   },
   "id": "a6a9ab8eaf4a00c9"
  },
  {
   "cell_type": "code",
   "outputs": [
    {
     "name": "stdout",
     "output_type": "stream",
     "text": [
      "F1-score: 0.95\n"
     ]
    }
   ],
   "source": [
    "f1 = f1_score(true_labels, predicted_labels, average='weighted')\n",
    "print('F1-score: {:.2f}'.format(f1))"
   ],
   "metadata": {
    "collapsed": false,
    "ExecuteTime": {
     "end_time": "2024-04-29T15:18:03.471267Z",
     "start_time": "2024-04-29T15:18:03.456269Z"
    }
   },
   "id": "2a87268c3e7e9e88",
   "execution_count": 14
  },
  {
   "cell_type": "markdown",
   "source": [
    "### Confusion matrix"
   ],
   "metadata": {
    "collapsed": false
   },
   "id": "3687c7ed9e290b52"
  },
  {
   "cell_type": "code",
   "outputs": [
    {
     "name": "stdout",
     "output_type": "stream",
     "text": [
      "Confusion Matrix:\n"
     ]
    },
    {
     "data": {
      "text/plain": "<Figure size 640x480 with 1 Axes>",
      "image/png": "[encoded data removed]"
     },
     "metadata": {},
     "output_type": "display_data"
    }
   ],
   "source": [
    "conf_matrix = confusion_matrix(true_labels, predicted_labels)\n",
    "print(f'Confusion Matrix:')\n",
    "sns.heatmap(conf_matrix, annot=True, cmap='Blues', fmt='g', cbar=False, xticklabels=class_names, yticklabels=class_names)\n",
    "plt.title('Confusion Matrix')\n",
    "plt.xlabel('Predicted Label')\n",
    "plt.ylabel('True Label')\n",
    "plt.show()"
   ],
   "metadata": {
    "collapsed": false,
    "ExecuteTime": {
     "end_time": "2024-04-29T15:18:04.006082Z",
     "start_time": "2024-04-29T15:18:03.472268Z"
    }
   },
   "id": "6a06849bad215169",
   "execution_count": 15
  },
  {
   "cell_type": "markdown",
   "source": [
    "### ROC curve"
   ],
   "metadata": {
    "collapsed": false
   },
   "id": "8f7a1268072e6e09"
  },
  {
   "cell_type": "code",
   "outputs": [
    {
     "data": {
      "text/plain": "[<matplotlib.lines.Line2D at 0x27c5e8a5250>]"
     },
     "execution_count": 16,
     "metadata": {},
     "output_type": "execute_result"
    },
    {
     "data": {
      "text/plain": "<Figure size 640x480 with 1 Axes>",
      "image/png": "[encoded data removed]"
     },
     "metadata": {},
     "output_type": "display_data"
    }
   ],
   "source": [
    "# Binarize the true labels\n",
    "true_labels_binarized = label_binarize(true_labels, classes=range(len(class_names)))\n",
    "\n",
    "# Binarize the predicted labels\n",
    "predicted_labels_binarized = label_binarize(predicted_labels, classes=range(len(class_names)))\n",
    "\n",
    "# Compute the ROC curve\n",
    "fpr = dict()\n",
    "tpr = dict()\n",
    "roc_auc = dict()\n",
    "for i in range(len(class_names)):\n",
    "    fpr[i], tpr[i], _ = roc_curve(true_labels_binarized[:, i], predicted_labels_binarized[:, i])\n",
    "    roc_auc[i] = auc(fpr[i], tpr[i])\n",
    "    \n",
    "# Plot the ROC curve\n",
    "plt.figure()\n",
    "for i in range(len(class_names)):\n",
    "    plt.plot(fpr[i], tpr[i], lw=2, label=f'ROC curve for class {class_names[i]} (area = {roc_auc[i]:0.2f})')\n",
    "plt.plot([0, 1], [0, 1], 'k--', lw=2)"
   ],
   "metadata": {
    "collapsed": false,
    "ExecuteTime": {
     "end_time": "2024-04-29T15:18:04.160083Z",
     "start_time": "2024-04-29T15:18:04.007082Z"
    }
   },
   "id": "6c7b4767f613c314",
   "execution_count": 16
  },
  {
   "cell_type": "markdown",
   "source": [],
   "metadata": {
    "collapsed": false
   },
   "id": "c4d8c6f85ef0d72c"
  }
 ],
 "metadata": {
  "kernelspec": {
   "display_name": "Python 3",
   "language": "python",
   "name": "python3"
  },
  "language_info": {
   "codemirror_mode": {
    "name": "ipython",
    "version": 2
   },
   "file_extension": ".py",
   "mimetype": "text/x-python",
   "name": "python",
   "nbconvert_exporter": "python",
   "pygments_lexer": "ipython2",
   "version": "2.7.6"
  }
 },
 "nbformat": 4,
 "nbformat_minor": 5
}
