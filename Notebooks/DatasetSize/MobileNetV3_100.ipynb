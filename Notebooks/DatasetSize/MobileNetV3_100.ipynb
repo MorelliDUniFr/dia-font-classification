{
 "cells": [
  {
   "cell_type": "markdown",
   "source": [
    "# Font Classification with PyTorch and MobileNetV3\n",
    "In this notebook, we will use the PyTorch deep learning framework to train a MobileNetV3 model to classify fonts. We will use the `torchvision` library to load the dataset and the `sklearn` library to evaluate the model using accuracy, precision, recall, F1-score, and the ROC curve. We will also visualize the confusion matrix to understand the model's performance on each class."
   ],
   "metadata": {
    "collapsed": false
   },
   "id": "4ac20b28058858bd"
  },
  {
   "cell_type": "markdown",
   "source": [
    "# Imports\n",
    "Import of the necessary libraries"
   ],
   "metadata": {
    "collapsed": false
   },
   "id": "705740ac830b5b02"
  },
  {
   "cell_type": "code",
   "outputs": [],
   "source": [
    "import numpy as np\n",
    "from torchvision import datasets, transforms\n",
    "from sklearn.metrics import accuracy_score, precision_score, recall_score, f1_score, confusion_matrix\n",
    "import seaborn as sns\n",
    "import matplotlib.pyplot as plt\n",
    "import torch\n",
    "from torchvision import models\n",
    "from torch.utils.data import DataLoader\n",
    "from sklearn.metrics import roc_curve, auc\n",
    "from sklearn.preprocessing import label_binarize\n",
    "import time\n",
    "from sys import platform"
   ],
   "metadata": {
    "collapsed": false,
    "ExecuteTime": {
     "end_time": "2024-04-29T11:34:08.478309Z",
     "start_time": "2024-04-29T11:34:04.835974Z"
    }
   },
   "id": "cd70965188811652",
   "execution_count": 1
  },
  {
   "cell_type": "markdown",
   "source": [
    "# Model choice\n",
    "Choose the model to use for training. In this case, we will use the MobileNetV3 model."
   ],
   "metadata": {
    "collapsed": false
   },
   "id": "89723516c4abb2e6"
  },
  {
   "cell_type": "code",
   "outputs": [
    {
     "name": "stdout",
     "output_type": "stream",
     "text": [
      "Using model: mobilenet_v3_small\n"
     ]
    }
   ],
   "source": [
    "model_name = 'mobilenet_v3_small'\n",
    "print(f'Using model: {model_name}')"
   ],
   "metadata": {
    "collapsed": false,
    "ExecuteTime": {
     "end_time": "2024-04-29T11:34:08.494309Z",
     "start_time": "2024-04-29T11:34:08.479310Z"
    }
   },
   "id": "ef4e56728f9785b4",
   "execution_count": 2
  },
  {
   "cell_type": "markdown",
   "source": [
    "# Loading and preparing the dataset\n",
    "Load the dataset and prepare it for training. We will resize the images to a fixed size, convert them to tensors, and normalize the pixel values.\n",
    "\n",
    "## Preprocessing\n",
    "1. Resize the images to a fixed size\n",
    "2. Convert the images to tensors\n",
    "3. Normalize the pixel values"
   ],
   "metadata": {
    "collapsed": false
   },
   "id": "b2dabad339631e94"
  },
  {
   "cell_type": "code",
   "outputs": [],
   "source": [
    "# From the dataset, we know that the images have a height of 32 pixels and a width (on average) of 150 pixels\n",
    "image_height = 32\n",
    "image_width = 150\n",
    "\n",
    "# Define the percentage of the dataset to use for training\n",
    "train_size_perc = 0.7\n",
    "\n",
    "# Set the seed for reproducibility\n",
    "torch.manual_seed(0)\n",
    "\n",
    "# Define transformations for preprocessing\n",
    "transform = transforms.Compose([\n",
    "    transforms.Resize((image_height, image_width)),  # Resize images to a fixed size\n",
    "    transforms.ToTensor(),                           # Convert images to tensors\n",
    "    transforms.Normalize(mean=[0.25, 0.25, 0.25],      # Normalize pixel values\n",
    "                         std=[0.25, 0.25, 0.25])])"
   ],
   "metadata": {
    "collapsed": false,
    "ExecuteTime": {
     "end_time": "2024-04-29T11:34:08.540309Z",
     "start_time": "2024-04-29T11:34:08.496310Z"
    }
   },
   "id": "cdc44275b7dbe9ba",
   "execution_count": 3
  },
  {
   "cell_type": "markdown",
   "source": [
    "## Load the dataset\n",
    "Load the dataset using the `ImageFolder` class from `torchvision`. We will split the dataset into training, validation, and test sets. We will use 70% of the dataset for training, 15% for validation, and 15% for testing."
   ],
   "metadata": {
    "collapsed": false
   },
   "id": "8906c87c81b7569c"
  },
  {
   "cell_type": "code",
   "outputs": [
    {
     "name": "stdout",
     "output_type": "stream",
     "text": [
      "Loaded 1500 images\n",
      "Class names: ['Algerian', 'Arial', 'Baskerville', 'Calibry', 'Calligraphy', 'Cambria', 'Comic Sans MS', 'Courier', 'Elephant', 'Fascinate', 'Georgia', 'Helvetica', 'Lucida Bright', 'Nasalization', 'Times New Roman']\n"
     ]
    }
   ],
   "source": [
    "from collections import defaultdict\n",
    "from torchvision.datasets import ImageFolder\n",
    "\n",
    "# Path to the dataset\n",
    "data_dir = '../../fonts'\n",
    "\n",
    "# Notebook scope and type\n",
    "scope = 'DatasetSize'\n",
    "type = '100'\n",
    "\n",
    "# Load the dataset using ImageFolder\n",
    "dataset = datasets.ImageFolder(root=data_dir, transform=transform)\n",
    "\n",
    "# Load only 10% of the dataset\n",
    "# Collect indices of samples for each class\n",
    "indices_by_class = defaultdict(list)\n",
    "for i, (_, label) in enumerate(dataset.samples):\n",
    "    indices_by_class[label].append(i)\n",
    "\n",
    "# Choose 100 samples for each class\n",
    "selected_indices = []\n",
    "for indices in indices_by_class.values():\n",
    "    selected_indices.extend(np.random.choice(indices, min(100, len(indices)), replace=False))\n",
    "\n",
    "# Overwrite dataset.samples with the selected samples\n",
    "dataset.samples = [dataset.samples[i] for i in selected_indices]\n",
    "\n",
    "print(f'Loaded {len(dataset)} images')\n",
    "\n",
    "# Display the class names\n",
    "print(f'Class names: {dataset.classes}')\n",
    "\n",
    "# Define the sizes of the training, validation, and test sets\n",
    "train_size = int(train_size_perc * len(dataset))  # 70% of the dataset for training\n",
    "val_size = int(((1.0 - train_size_perc)/2) * len(dataset))    # 15% for validation\n",
    "test_size = len(dataset) - train_size - val_size  # Remaining for test\n",
    "\n",
    "# Split the dataset into training, validation, and test sets\n",
    "train_dataset, val_dataset, test_dataset = torch.utils.data.random_split(\n",
    "    dataset, [train_size, val_size, test_size])\n",
    "\n",
    "# Define the batch size as a percentage of the training set, in this case 1%\n",
    "batch_size = int(train_size * 0.01)\n",
    "\n",
    "# Create data loaders for training, validation, and test sets\n",
    "train_loader = torch.utils.data.DataLoader(train_dataset, batch_size=batch_size, shuffle=True)\n",
    "val_loader = torch.utils.data.DataLoader(val_dataset, batch_size=batch_size, shuffle=True)\n",
    "test_loader = torch.utils.data.DataLoader(test_dataset, batch_size=batch_size, shuffle=False)"
   ],
   "metadata": {
    "collapsed": false,
    "ExecuteTime": {
     "end_time": "2024-04-29T11:34:08.618309Z",
     "start_time": "2024-04-29T11:34:08.543310Z"
    }
   },
   "id": "9d9c8c978a1ebdbd",
   "execution_count": 4
  },
  {
   "cell_type": "markdown",
   "source": [
    "## Dataset information"
   ],
   "metadata": {
    "collapsed": false
   },
   "id": "afdcf3568e6bb0e6"
  },
  {
   "cell_type": "code",
   "outputs": [
    {
     "name": "stdout",
     "output_type": "stream",
     "text": [
      "Number of images: 1500\n",
      "Number of batches: 105\n",
      "Batch size: 10\n",
      "Number of training images: 1050\n",
      "Number of validation images: 225\n",
      "Number of test images: 225\n",
      "Class names: ['Algerian', 'Arial', 'Baskerville', 'Calibry', 'Calligraphy', 'Cambria', 'Comic Sans MS', 'Courier', 'Elephant', 'Fascinate', 'Georgia', 'Helvetica', 'Lucida Bright', 'Nasalization', 'Times New Roman']\n"
     ]
    }
   ],
   "source": [
    "num_images = len(dataset)\n",
    "num_batches = len(train_loader)\n",
    "print(f'Number of images: {num_images}')\n",
    "print(f'Number of batches: {num_batches}')\n",
    "print(f'Batch size: {batch_size}')\n",
    "print(f'Number of training images: {len(train_dataset)}')\n",
    "print(f'Number of validation images: {len(val_dataset)}')\n",
    "print(f'Number of test images: {len(test_dataset)}')\n",
    "\n",
    "# Get the class names\n",
    "class_names = dataset.classes\n",
    "print(f'Class names: {class_names}')"
   ],
   "metadata": {
    "collapsed": false,
    "ExecuteTime": {
     "end_time": "2024-04-29T11:34:08.633309Z",
     "start_time": "2024-04-29T11:34:08.619309Z"
    }
   },
   "id": "1975b1b1848ca2ac",
   "execution_count": 5
  },
  {
   "cell_type": "markdown",
   "source": [
    "# Loading the model\n",
    "Load the MobileNetV3 model and move it to the device (CPU or GPU)."
   ],
   "metadata": {
    "collapsed": false
   },
   "id": "bd836b0d47a237ba"
  },
  {
   "cell_type": "code",
   "outputs": [
    {
     "name": "stdout",
     "output_type": "stream",
     "text": [
      "Model moved to cpu\n"
     ]
    }
   ],
   "source": [
    "# Load the model and replace the fully connected layer\n",
    "model = models.__dict__[model_name](weights=None)\n",
    "\n",
    "# Move model to the device (CPU or GPU)\n",
    "if platform != \"win32\":\n",
    "    device = torch.device('mps' if torch.backends.mps.is_available() else 'cpu')\n",
    "else:\n",
    "    device = torch.device('gpu' if torch.cuda.is_available() else 'cpu')\n",
    "model = model.to(device)\n",
    "print(f'Model moved to {device}')"
   ],
   "metadata": {
    "collapsed": false,
    "ExecuteTime": {
     "end_time": "2024-04-29T11:34:08.680309Z",
     "start_time": "2024-04-29T11:34:08.634312Z"
    }
   },
   "id": "8e9ad926f379fab5",
   "execution_count": 6
  },
  {
   "cell_type": "markdown",
   "source": [
    "# Training the model\n",
    "Train the model using the training set and validate it using the validation set. We will use the Adam optimizer and the CrossEntropy loss function. We will save the model with the lowest validation loss."
   ],
   "metadata": {
    "collapsed": false
   },
   "id": "eebc3e7a492ce85"
  },
  {
   "cell_type": "code",
   "outputs": [
    {
     "name": "stdout",
     "output_type": "stream",
     "text": [
      "Epoch 1\n",
      "-------------------------------\n",
      "Training - Epoch [1/60], Step [10/105], Loss: 5.5007\n",
      "Training - Epoch [1/60], Step [20/105], Loss: 3.1067\n",
      "Training - Epoch [1/60], Step [30/105], Loss: 2.5879\n",
      "Training - Epoch [1/60], Step [40/105], Loss: 2.7913\n",
      "Training - Epoch [1/60], Step [50/105], Loss: 2.3714\n",
      "Training - Epoch [1/60], Step [60/105], Loss: 2.3588\n",
      "Training - Epoch [1/60], Step [70/105], Loss: 2.6596\n",
      "Training - Epoch [1/60], Step [80/105], Loss: 2.0797\n",
      "Training - Epoch [1/60], Step [90/105], Loss: 2.3574\n",
      "Training - Epoch [1/60], Step [100/105], Loss: 2.2901\n",
      "Validation - Epoch [1/60], Loss: 3.8110, Accuracy: 0.0800\n",
      "Model saved as mobilenet_v3_small_font_classifier_100.pth\n",
      "Epoch 2\n",
      "-------------------------------\n",
      "Training - Epoch [2/60], Step [10/105], Loss: 1.8751\n",
      "Training - Epoch [2/60], Step [20/105], Loss: 2.2047\n",
      "Training - Epoch [2/60], Step [30/105], Loss: 2.6590\n",
      "Training - Epoch [2/60], Step [40/105], Loss: 2.7143\n",
      "Training - Epoch [2/60], Step [50/105], Loss: 2.8821\n",
      "Training - Epoch [2/60], Step [60/105], Loss: 1.6524\n",
      "Training - Epoch [2/60], Step [70/105], Loss: 1.9634\n",
      "Training - Epoch [2/60], Step [80/105], Loss: 2.3896\n",
      "Training - Epoch [2/60], Step [90/105], Loss: 1.8283\n",
      "Training - Epoch [2/60], Step [100/105], Loss: 2.5942\n",
      "Validation - Epoch [2/60], Loss: 3.0059, Accuracy: 0.0711\n",
      "Model saved as mobilenet_v3_small_font_classifier_100.pth\n",
      "Epoch 3\n",
      "-------------------------------\n",
      "Training - Epoch [3/60], Step [10/105], Loss: 2.1778\n",
      "Training - Epoch [3/60], Step [20/105], Loss: 1.6782\n",
      "Training - Epoch [3/60], Step [30/105], Loss: 1.5960\n",
      "Training - Epoch [3/60], Step [40/105], Loss: 1.8719\n",
      "Training - Epoch [3/60], Step [50/105], Loss: 1.3947\n",
      "Training - Epoch [3/60], Step [60/105], Loss: 2.3218\n",
      "Training - Epoch [3/60], Step [70/105], Loss: 1.6612\n",
      "Training - Epoch [3/60], Step [80/105], Loss: 1.5144\n",
      "Training - Epoch [3/60], Step [90/105], Loss: 1.8196\n",
      "Training - Epoch [3/60], Step [100/105], Loss: 1.4972\n",
      "Validation - Epoch [3/60], Loss: 2.9071, Accuracy: 0.0800\n",
      "Model saved as mobilenet_v3_small_font_classifier_100.pth\n",
      "Epoch 4\n",
      "-------------------------------\n",
      "Training - Epoch [4/60], Step [10/105], Loss: 2.3656\n",
      "Training - Epoch [4/60], Step [20/105], Loss: 1.7401\n",
      "Training - Epoch [4/60], Step [30/105], Loss: 1.7570\n",
      "Training - Epoch [4/60], Step [40/105], Loss: 1.9478\n",
      "Training - Epoch [4/60], Step [50/105], Loss: 1.7367\n",
      "Training - Epoch [4/60], Step [60/105], Loss: 1.5355\n",
      "Training - Epoch [4/60], Step [70/105], Loss: 1.5794\n",
      "Training - Epoch [4/60], Step [80/105], Loss: 2.4588\n",
      "Training - Epoch [4/60], Step [90/105], Loss: 1.5357\n",
      "Training - Epoch [4/60], Step [100/105], Loss: 1.8003\n",
      "Validation - Epoch [4/60], Loss: 2.9468, Accuracy: 0.0489\n",
      "Epoch 5\n",
      "-------------------------------\n",
      "Training - Epoch [5/60], Step [10/105], Loss: 1.4231\n",
      "Training - Epoch [5/60], Step [20/105], Loss: 1.6523\n",
      "Training - Epoch [5/60], Step [30/105], Loss: 1.2804\n",
      "Training - Epoch [5/60], Step [40/105], Loss: 1.7228\n",
      "Training - Epoch [5/60], Step [50/105], Loss: 1.7582\n",
      "Training - Epoch [5/60], Step [60/105], Loss: 1.6282\n",
      "Training - Epoch [5/60], Step [70/105], Loss: 1.4197\n",
      "Training - Epoch [5/60], Step [80/105], Loss: 1.4726\n",
      "Training - Epoch [5/60], Step [90/105], Loss: 1.8772\n",
      "Training - Epoch [5/60], Step [100/105], Loss: 1.3194\n",
      "Validation - Epoch [5/60], Loss: 2.5938, Accuracy: 0.1111\n",
      "Model saved as mobilenet_v3_small_font_classifier_100.pth\n",
      "Epoch 6\n",
      "-------------------------------\n",
      "Training - Epoch [6/60], Step [10/105], Loss: 1.3351\n",
      "Training - Epoch [6/60], Step [20/105], Loss: 1.3489\n",
      "Training - Epoch [6/60], Step [30/105], Loss: 0.8703\n",
      "Training - Epoch [6/60], Step [40/105], Loss: 1.7180\n",
      "Training - Epoch [6/60], Step [50/105], Loss: 1.3356\n",
      "Training - Epoch [6/60], Step [60/105], Loss: 1.1906\n",
      "Training - Epoch [6/60], Step [70/105], Loss: 1.3469\n",
      "Training - Epoch [6/60], Step [80/105], Loss: 1.3893\n",
      "Training - Epoch [6/60], Step [90/105], Loss: 1.3478\n",
      "Training - Epoch [6/60], Step [100/105], Loss: 1.3778\n",
      "Validation - Epoch [6/60], Loss: 2.3496, Accuracy: 0.2000\n",
      "Model saved as mobilenet_v3_small_font_classifier_100.pth\n",
      "Epoch 7\n",
      "-------------------------------\n",
      "Training - Epoch [7/60], Step [10/105], Loss: 1.9019\n",
      "Training - Epoch [7/60], Step [20/105], Loss: 0.7248\n",
      "Training - Epoch [7/60], Step [30/105], Loss: 1.1201\n",
      "Training - Epoch [7/60], Step [40/105], Loss: 1.0589\n",
      "Training - Epoch [7/60], Step [50/105], Loss: 1.5144\n",
      "Training - Epoch [7/60], Step [60/105], Loss: 1.2849\n",
      "Training - Epoch [7/60], Step [70/105], Loss: 0.7010\n",
      "Training - Epoch [7/60], Step [80/105], Loss: 1.2896\n",
      "Training - Epoch [7/60], Step [90/105], Loss: 2.7015\n",
      "Training - Epoch [7/60], Step [100/105], Loss: 1.2889\n",
      "Validation - Epoch [7/60], Loss: 3.1278, Accuracy: 0.2178\n",
      "Epoch 8\n",
      "-------------------------------\n",
      "Training - Epoch [8/60], Step [10/105], Loss: 0.9815\n",
      "Training - Epoch [8/60], Step [20/105], Loss: 3.7264\n",
      "Training - Epoch [8/60], Step [30/105], Loss: 1.0792\n",
      "Training - Epoch [8/60], Step [40/105], Loss: 1.6528\n",
      "Training - Epoch [8/60], Step [50/105], Loss: 0.6388\n",
      "Training - Epoch [8/60], Step [60/105], Loss: 0.8667\n",
      "Training - Epoch [8/60], Step [70/105], Loss: 1.9510\n",
      "Training - Epoch [8/60], Step [80/105], Loss: 0.8102\n",
      "Training - Epoch [8/60], Step [90/105], Loss: 0.7520\n",
      "Training - Epoch [8/60], Step [100/105], Loss: 1.0383\n",
      "Validation - Epoch [8/60], Loss: 2.1554, Accuracy: 0.3911\n",
      "Model saved as mobilenet_v3_small_font_classifier_100.pth\n",
      "Epoch 9\n",
      "-------------------------------\n",
      "Training - Epoch [9/60], Step [10/105], Loss: 0.8116\n",
      "Training - Epoch [9/60], Step [20/105], Loss: 1.4405\n",
      "Training - Epoch [9/60], Step [30/105], Loss: 1.3691\n",
      "Training - Epoch [9/60], Step [40/105], Loss: 1.1561\n",
      "Training - Epoch [9/60], Step [50/105], Loss: 1.4565\n",
      "Training - Epoch [9/60], Step [60/105], Loss: 1.2659\n",
      "Training - Epoch [9/60], Step [70/105], Loss: 0.8479\n",
      "Training - Epoch [9/60], Step [80/105], Loss: 0.9433\n",
      "Training - Epoch [9/60], Step [90/105], Loss: 0.6854\n",
      "Training - Epoch [9/60], Step [100/105], Loss: 0.6960\n",
      "Validation - Epoch [9/60], Loss: 1.9951, Accuracy: 0.4311\n",
      "Model saved as mobilenet_v3_small_font_classifier_100.pth\n",
      "Epoch 10\n",
      "-------------------------------\n",
      "Training - Epoch [10/60], Step [10/105], Loss: 1.1846\n",
      "Training - Epoch [10/60], Step [20/105], Loss: 0.9260\n",
      "Training - Epoch [10/60], Step [30/105], Loss: 0.8792\n",
      "Training - Epoch [10/60], Step [40/105], Loss: 1.0948\n",
      "Training - Epoch [10/60], Step [50/105], Loss: 0.9726\n",
      "Training - Epoch [10/60], Step [60/105], Loss: 1.2641\n",
      "Training - Epoch [10/60], Step [70/105], Loss: 0.7833\n",
      "Training - Epoch [10/60], Step [80/105], Loss: 0.5137\n",
      "Training - Epoch [10/60], Step [90/105], Loss: 0.4786\n",
      "Training - Epoch [10/60], Step [100/105], Loss: 0.8668\n",
      "Validation - Epoch [10/60], Loss: 2.1623, Accuracy: 0.4133\n",
      "Epoch 11\n",
      "-------------------------------\n",
      "Training - Epoch [11/60], Step [10/105], Loss: 0.6757\n",
      "Training - Epoch [11/60], Step [20/105], Loss: 0.7236\n",
      "Training - Epoch [11/60], Step [30/105], Loss: 0.4378\n",
      "Training - Epoch [11/60], Step [40/105], Loss: 0.6573\n",
      "Training - Epoch [11/60], Step [50/105], Loss: 0.8114\n",
      "Training - Epoch [11/60], Step [60/105], Loss: 1.0376\n",
      "Training - Epoch [11/60], Step [70/105], Loss: 0.7242\n",
      "Training - Epoch [11/60], Step [80/105], Loss: 0.5959\n",
      "Training - Epoch [11/60], Step [90/105], Loss: 0.6916\n",
      "Training - Epoch [11/60], Step [100/105], Loss: 1.0283\n",
      "Validation - Epoch [11/60], Loss: 1.0712, Accuracy: 0.6578\n",
      "Model saved as mobilenet_v3_small_font_classifier_100.pth\n",
      "Epoch 12\n",
      "-------------------------------\n",
      "Training - Epoch [12/60], Step [10/105], Loss: 1.5178\n",
      "Training - Epoch [12/60], Step [20/105], Loss: 1.5819\n",
      "Training - Epoch [12/60], Step [30/105], Loss: 1.1838\n",
      "Training - Epoch [12/60], Step [40/105], Loss: 0.6198\n",
      "Training - Epoch [12/60], Step [50/105], Loss: 0.9027\n",
      "Training - Epoch [12/60], Step [60/105], Loss: 0.6502\n",
      "Training - Epoch [12/60], Step [70/105], Loss: 0.7045\n",
      "Training - Epoch [12/60], Step [80/105], Loss: 1.1540\n",
      "Training - Epoch [12/60], Step [90/105], Loss: 0.9502\n",
      "Training - Epoch [12/60], Step [100/105], Loss: 0.3526\n",
      "Validation - Epoch [12/60], Loss: 1.3962, Accuracy: 0.6444\n",
      "Epoch 13\n",
      "-------------------------------\n",
      "Training - Epoch [13/60], Step [10/105], Loss: 1.3154\n",
      "Training - Epoch [13/60], Step [20/105], Loss: 1.5668\n",
      "Training - Epoch [13/60], Step [30/105], Loss: 0.5925\n",
      "Training - Epoch [13/60], Step [40/105], Loss: 0.3162\n",
      "Training - Epoch [13/60], Step [50/105], Loss: 1.0370\n",
      "Training - Epoch [13/60], Step [60/105], Loss: 0.5693\n",
      "Training - Epoch [13/60], Step [70/105], Loss: 0.5189\n",
      "Training - Epoch [13/60], Step [80/105], Loss: 0.3272\n",
      "Training - Epoch [13/60], Step [90/105], Loss: 0.8244\n",
      "Training - Epoch [13/60], Step [100/105], Loss: 0.3403\n",
      "Validation - Epoch [13/60], Loss: 0.9757, Accuracy: 0.6578\n",
      "Model saved as mobilenet_v3_small_font_classifier_100.pth\n",
      "Epoch 14\n",
      "-------------------------------\n",
      "Training - Epoch [14/60], Step [10/105], Loss: 0.3380\n",
      "Training - Epoch [14/60], Step [20/105], Loss: 0.8791\n",
      "Training - Epoch [14/60], Step [30/105], Loss: 0.5095\n",
      "Training - Epoch [14/60], Step [40/105], Loss: 0.7043\n",
      "Training - Epoch [14/60], Step [50/105], Loss: 0.1428\n",
      "Training - Epoch [14/60], Step [60/105], Loss: 0.3421\n",
      "Training - Epoch [14/60], Step [70/105], Loss: 0.2110\n",
      "Training - Epoch [14/60], Step [80/105], Loss: 1.1344\n",
      "Training - Epoch [14/60], Step [90/105], Loss: 0.5353\n",
      "Training - Epoch [14/60], Step [100/105], Loss: 0.3264\n",
      "Validation - Epoch [14/60], Loss: 3.3658, Accuracy: 0.3111\n",
      "Epoch 15\n",
      "-------------------------------\n",
      "Training - Epoch [15/60], Step [10/105], Loss: 0.4380\n",
      "Training - Epoch [15/60], Step [20/105], Loss: 0.5231\n",
      "Training - Epoch [15/60], Step [30/105], Loss: 0.2311\n",
      "Training - Epoch [15/60], Step [40/105], Loss: 0.0771\n",
      "Training - Epoch [15/60], Step [50/105], Loss: 0.4308\n",
      "Training - Epoch [15/60], Step [60/105], Loss: 0.7406\n",
      "Training - Epoch [15/60], Step [70/105], Loss: 0.2271\n",
      "Training - Epoch [15/60], Step [80/105], Loss: 0.2371\n",
      "Training - Epoch [15/60], Step [90/105], Loss: 0.4028\n",
      "Training - Epoch [15/60], Step [100/105], Loss: 0.5894\n",
      "Validation - Epoch [15/60], Loss: 1.2350, Accuracy: 0.6444\n",
      "Epoch 16\n",
      "-------------------------------\n",
      "Training - Epoch [16/60], Step [10/105], Loss: 1.0422\n",
      "Training - Epoch [16/60], Step [20/105], Loss: 0.2670\n",
      "Training - Epoch [16/60], Step [30/105], Loss: 0.7041\n",
      "Training - Epoch [16/60], Step [40/105], Loss: 1.0640\n",
      "Training - Epoch [16/60], Step [50/105], Loss: 0.4008\n",
      "Training - Epoch [16/60], Step [60/105], Loss: 0.5651\n",
      "Training - Epoch [16/60], Step [70/105], Loss: 0.4934\n",
      "Training - Epoch [16/60], Step [80/105], Loss: 0.9976\n",
      "Training - Epoch [16/60], Step [90/105], Loss: 0.4721\n",
      "Training - Epoch [16/60], Step [100/105], Loss: 0.2469\n",
      "Validation - Epoch [16/60], Loss: 1.9990, Accuracy: 0.5556\n",
      "Epoch 17\n",
      "-------------------------------\n",
      "Training - Epoch [17/60], Step [10/105], Loss: 0.7481\n",
      "Training - Epoch [17/60], Step [20/105], Loss: 0.4322\n",
      "Training - Epoch [17/60], Step [30/105], Loss: 0.5428\n",
      "Training - Epoch [17/60], Step [40/105], Loss: 0.6850\n",
      "Training - Epoch [17/60], Step [50/105], Loss: 0.7490\n",
      "Training - Epoch [17/60], Step [60/105], Loss: 0.1527\n",
      "Training - Epoch [17/60], Step [70/105], Loss: 0.2028\n",
      "Training - Epoch [17/60], Step [80/105], Loss: 0.4193\n",
      "Training - Epoch [17/60], Step [90/105], Loss: 0.4515\n",
      "Training - Epoch [17/60], Step [100/105], Loss: 0.3269\n",
      "Validation - Epoch [17/60], Loss: 2.0251, Accuracy: 0.5733\n",
      "Epoch 18\n",
      "-------------------------------\n",
      "Training - Epoch [18/60], Step [10/105], Loss: 0.9146\n",
      "Training - Epoch [18/60], Step [20/105], Loss: 0.3671\n",
      "Training - Epoch [18/60], Step [30/105], Loss: 0.1377\n",
      "Training - Epoch [18/60], Step [40/105], Loss: 0.2249\n",
      "Training - Epoch [18/60], Step [50/105], Loss: 0.7250\n",
      "Training - Epoch [18/60], Step [60/105], Loss: 0.1052\n",
      "Training - Epoch [18/60], Step [70/105], Loss: 0.8069\n",
      "Training - Epoch [18/60], Step [80/105], Loss: 0.1565\n",
      "Training - Epoch [18/60], Step [90/105], Loss: 0.0743\n",
      "Training - Epoch [18/60], Step [100/105], Loss: 0.1432\n",
      "Validation - Epoch [18/60], Loss: 0.7951, Accuracy: 0.7644\n",
      "Model saved as mobilenet_v3_small_font_classifier_100.pth\n",
      "Epoch 19\n",
      "-------------------------------\n",
      "Training - Epoch [19/60], Step [10/105], Loss: 0.7014\n",
      "Training - Epoch [19/60], Step [20/105], Loss: 0.2458\n",
      "Training - Epoch [19/60], Step [30/105], Loss: 0.1013\n",
      "Training - Epoch [19/60], Step [40/105], Loss: 0.4185\n",
      "Training - Epoch [19/60], Step [50/105], Loss: 0.0876\n",
      "Training - Epoch [19/60], Step [60/105], Loss: 0.0250\n",
      "Training - Epoch [19/60], Step [70/105], Loss: 0.5391\n",
      "Training - Epoch [19/60], Step [80/105], Loss: 0.0702\n",
      "Training - Epoch [19/60], Step [90/105], Loss: 0.4040\n",
      "Training - Epoch [19/60], Step [100/105], Loss: 0.2711\n",
      "Validation - Epoch [19/60], Loss: 0.9452, Accuracy: 0.7333\n",
      "Epoch 20\n",
      "-------------------------------\n",
      "Training - Epoch [20/60], Step [10/105], Loss: 0.3025\n",
      "Training - Epoch [20/60], Step [20/105], Loss: 0.4498\n",
      "Training - Epoch [20/60], Step [30/105], Loss: 0.7408\n",
      "Training - Epoch [20/60], Step [40/105], Loss: 0.3645\n",
      "Training - Epoch [20/60], Step [50/105], Loss: 0.1748\n",
      "Training - Epoch [20/60], Step [60/105], Loss: 0.0612\n",
      "Training - Epoch [20/60], Step [70/105], Loss: 0.5321\n",
      "Training - Epoch [20/60], Step [80/105], Loss: 0.1964\n",
      "Training - Epoch [20/60], Step [90/105], Loss: 0.3302\n",
      "Training - Epoch [20/60], Step [100/105], Loss: 2.1614\n",
      "Validation - Epoch [20/60], Loss: 0.9373, Accuracy: 0.7689\n",
      "Epoch 21\n",
      "-------------------------------\n",
      "Training - Epoch [21/60], Step [10/105], Loss: 1.1444\n",
      "Training - Epoch [21/60], Step [20/105], Loss: 0.1445\n",
      "Training - Epoch [21/60], Step [30/105], Loss: 0.6258\n",
      "Training - Epoch [21/60], Step [40/105], Loss: 0.2264\n",
      "Training - Epoch [21/60], Step [50/105], Loss: 0.5729\n",
      "Training - Epoch [21/60], Step [60/105], Loss: 0.0261\n",
      "Training - Epoch [21/60], Step [70/105], Loss: 0.3152\n",
      "Training - Epoch [21/60], Step [80/105], Loss: 0.2578\n",
      "Training - Epoch [21/60], Step [90/105], Loss: 0.5235\n",
      "Training - Epoch [21/60], Step [100/105], Loss: 0.0781\n",
      "Validation - Epoch [21/60], Loss: 0.9110, Accuracy: 0.6711\n",
      "Epoch 22\n",
      "-------------------------------\n",
      "Training - Epoch [22/60], Step [10/105], Loss: 0.0420\n",
      "Training - Epoch [22/60], Step [20/105], Loss: 0.0572\n",
      "Training - Epoch [22/60], Step [30/105], Loss: 0.1121\n",
      "Training - Epoch [22/60], Step [40/105], Loss: 0.5238\n",
      "Training - Epoch [22/60], Step [50/105], Loss: 0.3770\n",
      "Training - Epoch [22/60], Step [60/105], Loss: 0.0876\n",
      "Training - Epoch [22/60], Step [70/105], Loss: 0.2234\n",
      "Training - Epoch [22/60], Step [80/105], Loss: 0.2594\n",
      "Training - Epoch [22/60], Step [90/105], Loss: 0.1599\n",
      "Training - Epoch [22/60], Step [100/105], Loss: 0.3737\n",
      "Validation - Epoch [22/60], Loss: 1.1875, Accuracy: 0.7289\n",
      "Epoch 23\n",
      "-------------------------------\n",
      "Training - Epoch [23/60], Step [10/105], Loss: 1.3603\n",
      "Training - Epoch [23/60], Step [20/105], Loss: 0.7093\n",
      "Training - Epoch [23/60], Step [30/105], Loss: 0.2655\n",
      "Training - Epoch [23/60], Step [40/105], Loss: 0.8562\n",
      "Training - Epoch [23/60], Step [50/105], Loss: 0.3141\n",
      "Training - Epoch [23/60], Step [60/105], Loss: 0.0681\n",
      "Training - Epoch [23/60], Step [70/105], Loss: 0.1420\n",
      "Training - Epoch [23/60], Step [80/105], Loss: 0.2427\n",
      "Training - Epoch [23/60], Step [90/105], Loss: 0.2826\n",
      "Training - Epoch [23/60], Step [100/105], Loss: 0.2252\n",
      "Validation - Epoch [23/60], Loss: 0.6768, Accuracy: 0.7911\n",
      "Model saved as mobilenet_v3_small_font_classifier_100.pth\n",
      "Epoch 24\n",
      "-------------------------------\n",
      "Training - Epoch [24/60], Step [10/105], Loss: 0.2104\n",
      "Training - Epoch [24/60], Step [20/105], Loss: 0.8041\n",
      "Training - Epoch [24/60], Step [30/105], Loss: 0.6251\n",
      "Training - Epoch [24/60], Step [40/105], Loss: 0.1566\n",
      "Training - Epoch [24/60], Step [50/105], Loss: 0.3721\n",
      "Training - Epoch [24/60], Step [60/105], Loss: 0.5830\n",
      "Training - Epoch [24/60], Step [70/105], Loss: 0.3217\n",
      "Training - Epoch [24/60], Step [80/105], Loss: 0.2548\n",
      "Training - Epoch [24/60], Step [90/105], Loss: 0.1744\n",
      "Training - Epoch [24/60], Step [100/105], Loss: 0.1643\n",
      "Validation - Epoch [24/60], Loss: 1.6731, Accuracy: 0.6133\n",
      "Epoch 25\n",
      "-------------------------------\n",
      "Training - Epoch [25/60], Step [10/105], Loss: 0.6734\n",
      "Training - Epoch [25/60], Step [20/105], Loss: 0.3871\n",
      "Training - Epoch [25/60], Step [30/105], Loss: 0.4683\n",
      "Training - Epoch [25/60], Step [40/105], Loss: 0.1400\n",
      "Training - Epoch [25/60], Step [50/105], Loss: 0.6209\n",
      "Training - Epoch [25/60], Step [60/105], Loss: 0.0470\n",
      "Training - Epoch [25/60], Step [70/105], Loss: 0.5679\n",
      "Training - Epoch [25/60], Step [80/105], Loss: 2.0094\n",
      "Training - Epoch [25/60], Step [90/105], Loss: 0.8240\n",
      "Training - Epoch [25/60], Step [100/105], Loss: 1.1613\n",
      "Validation - Epoch [25/60], Loss: 1.5383, Accuracy: 0.6444\n",
      "Epoch 26\n",
      "-------------------------------\n",
      "Training - Epoch [26/60], Step [10/105], Loss: 0.0435\n",
      "Training - Epoch [26/60], Step [20/105], Loss: 0.5919\n",
      "Training - Epoch [26/60], Step [30/105], Loss: 0.1068\n",
      "Training - Epoch [26/60], Step [40/105], Loss: 0.0867\n",
      "Training - Epoch [26/60], Step [50/105], Loss: 0.5763\n",
      "Training - Epoch [26/60], Step [60/105], Loss: 0.0415\n",
      "Training - Epoch [26/60], Step [70/105], Loss: 0.4409\n",
      "Training - Epoch [26/60], Step [80/105], Loss: 0.2675\n",
      "Training - Epoch [26/60], Step [90/105], Loss: 0.0137\n",
      "Training - Epoch [26/60], Step [100/105], Loss: 0.2622\n",
      "Validation - Epoch [26/60], Loss: 0.6039, Accuracy: 0.8311\n",
      "Model saved as mobilenet_v3_small_font_classifier_100.pth\n",
      "Epoch 27\n",
      "-------------------------------\n",
      "Training - Epoch [27/60], Step [10/105], Loss: 0.1542\n",
      "Training - Epoch [27/60], Step [20/105], Loss: 0.9016\n",
      "Training - Epoch [27/60], Step [30/105], Loss: 0.0238\n",
      "Training - Epoch [27/60], Step [40/105], Loss: 0.3336\n",
      "Training - Epoch [27/60], Step [50/105], Loss: 0.2803\n",
      "Training - Epoch [27/60], Step [60/105], Loss: 0.3222\n",
      "Training - Epoch [27/60], Step [70/105], Loss: 0.1405\n",
      "Training - Epoch [27/60], Step [80/105], Loss: 0.2979\n",
      "Training - Epoch [27/60], Step [90/105], Loss: 0.0239\n",
      "Training - Epoch [27/60], Step [100/105], Loss: 0.0798\n",
      "Validation - Epoch [27/60], Loss: 0.5548, Accuracy: 0.8489\n",
      "Model saved as mobilenet_v3_small_font_classifier_100.pth\n",
      "Epoch 28\n",
      "-------------------------------\n",
      "Training - Epoch [28/60], Step [10/105], Loss: 0.2863\n",
      "Training - Epoch [28/60], Step [20/105], Loss: 0.0919\n",
      "Training - Epoch [28/60], Step [30/105], Loss: 0.1081\n",
      "Training - Epoch [28/60], Step [40/105], Loss: 0.4656\n",
      "Training - Epoch [28/60], Step [50/105], Loss: 0.1974\n",
      "Training - Epoch [28/60], Step [60/105], Loss: 0.0678\n",
      "Training - Epoch [28/60], Step [70/105], Loss: 0.2468\n",
      "Training - Epoch [28/60], Step [80/105], Loss: 1.1853\n",
      "Training - Epoch [28/60], Step [90/105], Loss: 0.2493\n",
      "Training - Epoch [28/60], Step [100/105], Loss: 0.0381\n",
      "Validation - Epoch [28/60], Loss: 0.4405, Accuracy: 0.8444\n",
      "Model saved as mobilenet_v3_small_font_classifier_100.pth\n",
      "Epoch 29\n",
      "-------------------------------\n",
      "Training - Epoch [29/60], Step [10/105], Loss: 0.3709\n",
      "Training - Epoch [29/60], Step [20/105], Loss: 0.3032\n",
      "Training - Epoch [29/60], Step [30/105], Loss: 0.0036\n",
      "Training - Epoch [29/60], Step [40/105], Loss: 0.1343\n",
      "Training - Epoch [29/60], Step [50/105], Loss: 0.2365\n",
      "Training - Epoch [29/60], Step [60/105], Loss: 0.0969\n",
      "Training - Epoch [29/60], Step [70/105], Loss: 0.1384\n",
      "Training - Epoch [29/60], Step [80/105], Loss: 0.0073\n",
      "Training - Epoch [29/60], Step [90/105], Loss: 0.3862\n",
      "Training - Epoch [29/60], Step [100/105], Loss: 0.0293\n",
      "Validation - Epoch [29/60], Loss: 0.8420, Accuracy: 0.7511\n",
      "Epoch 30\n",
      "-------------------------------\n",
      "Training - Epoch [30/60], Step [10/105], Loss: 0.2718\n",
      "Training - Epoch [30/60], Step [20/105], Loss: 0.0590\n",
      "Training - Epoch [30/60], Step [30/105], Loss: 0.5726\n",
      "Training - Epoch [30/60], Step [40/105], Loss: 0.0795\n",
      "Training - Epoch [30/60], Step [50/105], Loss: 0.0024\n",
      "Training - Epoch [30/60], Step [60/105], Loss: 0.0392\n",
      "Training - Epoch [30/60], Step [70/105], Loss: 0.0780\n",
      "Training - Epoch [30/60], Step [80/105], Loss: 0.4812\n",
      "Training - Epoch [30/60], Step [90/105], Loss: 0.2838\n",
      "Training - Epoch [30/60], Step [100/105], Loss: 0.1563\n",
      "Validation - Epoch [30/60], Loss: 2.1386, Accuracy: 0.5467\n",
      "Epoch 31\n",
      "-------------------------------\n",
      "Training - Epoch [31/60], Step [10/105], Loss: 0.4511\n",
      "Training - Epoch [31/60], Step [20/105], Loss: 0.0037\n",
      "Training - Epoch [31/60], Step [30/105], Loss: 0.0071\n",
      "Training - Epoch [31/60], Step [40/105], Loss: 0.1100\n",
      "Training - Epoch [31/60], Step [50/105], Loss: 0.7598\n",
      "Training - Epoch [31/60], Step [60/105], Loss: 0.0058\n",
      "Training - Epoch [31/60], Step [70/105], Loss: 0.1446\n",
      "Training - Epoch [31/60], Step [80/105], Loss: 0.2654\n",
      "Training - Epoch [31/60], Step [90/105], Loss: 0.0161\n",
      "Training - Epoch [31/60], Step [100/105], Loss: 0.0695\n",
      "Validation - Epoch [31/60], Loss: 0.8751, Accuracy: 0.7867\n",
      "Epoch 32\n",
      "-------------------------------\n",
      "Training - Epoch [32/60], Step [10/105], Loss: 0.0125\n",
      "Training - Epoch [32/60], Step [20/105], Loss: 0.7122\n",
      "Training - Epoch [32/60], Step [30/105], Loss: 0.1890\n",
      "Training - Epoch [32/60], Step [40/105], Loss: 0.0506\n",
      "Training - Epoch [32/60], Step [50/105], Loss: 0.5357\n",
      "Training - Epoch [32/60], Step [60/105], Loss: 0.0220\n",
      "Training - Epoch [32/60], Step [70/105], Loss: 0.5349\n",
      "Training - Epoch [32/60], Step [80/105], Loss: 0.2187\n",
      "Training - Epoch [32/60], Step [90/105], Loss: 0.5698\n",
      "Training - Epoch [32/60], Step [100/105], Loss: 0.5491\n",
      "Validation - Epoch [32/60], Loss: 5.2557, Accuracy: 0.3511\n",
      "Epoch 33\n",
      "-------------------------------\n",
      "Training - Epoch [33/60], Step [10/105], Loss: 0.1828\n",
      "Training - Epoch [33/60], Step [20/105], Loss: 0.3741\n",
      "Training - Epoch [33/60], Step [30/105], Loss: 0.3168\n",
      "Training - Epoch [33/60], Step [40/105], Loss: 0.2962\n",
      "Training - Epoch [33/60], Step [50/105], Loss: 0.0076\n",
      "Training - Epoch [33/60], Step [60/105], Loss: 0.2548\n",
      "Training - Epoch [33/60], Step [70/105], Loss: 0.0383\n",
      "Training - Epoch [33/60], Step [80/105], Loss: 0.0905\n",
      "Training - Epoch [33/60], Step [90/105], Loss: 0.2187\n",
      "Training - Epoch [33/60], Step [100/105], Loss: 0.1966\n",
      "Validation - Epoch [33/60], Loss: 0.6357, Accuracy: 0.8311\n",
      "Epoch 34\n",
      "-------------------------------\n",
      "Training - Epoch [34/60], Step [10/105], Loss: 0.0378\n",
      "Training - Epoch [34/60], Step [20/105], Loss: 0.0182\n",
      "Training - Epoch [34/60], Step [30/105], Loss: 0.0240\n",
      "Training - Epoch [34/60], Step [40/105], Loss: 0.3905\n",
      "Training - Epoch [34/60], Step [50/105], Loss: 0.0590\n",
      "Training - Epoch [34/60], Step [60/105], Loss: 0.1089\n",
      "Training - Epoch [34/60], Step [70/105], Loss: 0.3281\n",
      "Training - Epoch [34/60], Step [80/105], Loss: 0.0092\n",
      "Training - Epoch [34/60], Step [90/105], Loss: 0.1871\n",
      "Training - Epoch [34/60], Step [100/105], Loss: 0.1206\n",
      "Validation - Epoch [34/60], Loss: 0.6395, Accuracy: 0.8133\n",
      "Epoch 35\n",
      "-------------------------------\n",
      "Training - Epoch [35/60], Step [10/105], Loss: 1.8547\n",
      "Training - Epoch [35/60], Step [20/105], Loss: 0.3849\n",
      "Training - Epoch [35/60], Step [30/105], Loss: 0.2400\n",
      "Training - Epoch [35/60], Step [40/105], Loss: 0.4838\n",
      "Training - Epoch [35/60], Step [50/105], Loss: 0.0225\n",
      "Training - Epoch [35/60], Step [60/105], Loss: 0.0829\n",
      "Training - Epoch [35/60], Step [70/105], Loss: 0.2877\n",
      "Training - Epoch [35/60], Step [80/105], Loss: 0.0753\n",
      "Training - Epoch [35/60], Step [90/105], Loss: 0.0301\n",
      "Training - Epoch [35/60], Step [100/105], Loss: 0.0290\n",
      "Validation - Epoch [35/60], Loss: 0.4402, Accuracy: 0.8711\n",
      "Model saved as mobilenet_v3_small_font_classifier_100.pth\n",
      "Epoch 36\n",
      "-------------------------------\n",
      "Training - Epoch [36/60], Step [10/105], Loss: 0.1483\n",
      "Training - Epoch [36/60], Step [20/105], Loss: 0.0171\n",
      "Training - Epoch [36/60], Step [30/105], Loss: 0.0436\n",
      "Training - Epoch [36/60], Step [40/105], Loss: 0.0223\n",
      "Training - Epoch [36/60], Step [50/105], Loss: 0.0612\n",
      "Training - Epoch [36/60], Step [60/105], Loss: 0.0430\n",
      "Training - Epoch [36/60], Step [70/105], Loss: 1.0671\n",
      "Training - Epoch [36/60], Step [80/105], Loss: 0.1945\n",
      "Training - Epoch [36/60], Step [90/105], Loss: 0.0244\n",
      "Training - Epoch [36/60], Step [100/105], Loss: 0.1496\n",
      "Validation - Epoch [36/60], Loss: 0.5908, Accuracy: 0.8400\n",
      "Epoch 37\n",
      "-------------------------------\n",
      "Training - Epoch [37/60], Step [10/105], Loss: 0.3274\n",
      "Training - Epoch [37/60], Step [20/105], Loss: 0.0020\n",
      "Training - Epoch [37/60], Step [30/105], Loss: 0.1205\n",
      "Training - Epoch [37/60], Step [40/105], Loss: 1.2214\n",
      "Training - Epoch [37/60], Step [50/105], Loss: 0.1053\n",
      "Training - Epoch [37/60], Step [60/105], Loss: 0.0083\n",
      "Training - Epoch [37/60], Step [70/105], Loss: 0.0042\n",
      "Training - Epoch [37/60], Step [80/105], Loss: 0.0876\n",
      "Training - Epoch [37/60], Step [90/105], Loss: 0.4331\n",
      "Training - Epoch [37/60], Step [100/105], Loss: 0.0183\n",
      "Validation - Epoch [37/60], Loss: 0.9967, Accuracy: 0.7822\n",
      "Epoch 38\n",
      "-------------------------------\n",
      "Training - Epoch [38/60], Step [10/105], Loss: 0.2694\n",
      "Training - Epoch [38/60], Step [20/105], Loss: 0.0036\n",
      "Training - Epoch [38/60], Step [30/105], Loss: 0.0109\n",
      "Training - Epoch [38/60], Step [40/105], Loss: 0.0409\n",
      "Training - Epoch [38/60], Step [50/105], Loss: 0.1940\n",
      "Training - Epoch [38/60], Step [60/105], Loss: 0.1303\n",
      "Training - Epoch [38/60], Step [70/105], Loss: 0.0716\n",
      "Training - Epoch [38/60], Step [80/105], Loss: 0.0064\n",
      "Training - Epoch [38/60], Step [90/105], Loss: 0.0603\n",
      "Training - Epoch [38/60], Step [100/105], Loss: 0.0628\n",
      "Validation - Epoch [38/60], Loss: 0.6612, Accuracy: 0.8489\n",
      "Epoch 39\n",
      "-------------------------------\n",
      "Training - Epoch [39/60], Step [10/105], Loss: 0.0109\n",
      "Training - Epoch [39/60], Step [20/105], Loss: 0.0807\n",
      "Training - Epoch [39/60], Step [30/105], Loss: 0.1044\n",
      "Training - Epoch [39/60], Step [40/105], Loss: 0.1258\n",
      "Training - Epoch [39/60], Step [50/105], Loss: 0.0252\n",
      "Training - Epoch [39/60], Step [60/105], Loss: 0.0243\n",
      "Training - Epoch [39/60], Step [70/105], Loss: 0.0035\n",
      "Training - Epoch [39/60], Step [80/105], Loss: 0.0199\n",
      "Training - Epoch [39/60], Step [90/105], Loss: 0.0031\n",
      "Training - Epoch [39/60], Step [100/105], Loss: 0.0057\n",
      "Validation - Epoch [39/60], Loss: 0.5494, Accuracy: 0.8756\n",
      "Epoch 40\n",
      "-------------------------------\n",
      "Training - Epoch [40/60], Step [10/105], Loss: 0.0145\n",
      "Training - Epoch [40/60], Step [20/105], Loss: 0.3695\n",
      "Training - Epoch [40/60], Step [30/105], Loss: 0.0504\n",
      "Training - Epoch [40/60], Step [40/105], Loss: 0.6699\n",
      "Training - Epoch [40/60], Step [50/105], Loss: 0.2910\n",
      "Training - Epoch [40/60], Step [60/105], Loss: 0.3819\n",
      "Training - Epoch [40/60], Step [70/105], Loss: 0.0027\n",
      "Training - Epoch [40/60], Step [80/105], Loss: 0.1841\n",
      "Training - Epoch [40/60], Step [90/105], Loss: 0.0017\n",
      "Training - Epoch [40/60], Step [100/105], Loss: 0.0103\n",
      "Validation - Epoch [40/60], Loss: 1.3341, Accuracy: 0.6978\n",
      "Epoch 41\n",
      "-------------------------------\n",
      "Training - Epoch [41/60], Step [10/105], Loss: 0.0099\n",
      "Training - Epoch [41/60], Step [20/105], Loss: 0.0107\n",
      "Training - Epoch [41/60], Step [30/105], Loss: 0.3071\n",
      "Training - Epoch [41/60], Step [40/105], Loss: 0.8799\n",
      "Training - Epoch [41/60], Step [50/105], Loss: 0.0882\n",
      "Training - Epoch [41/60], Step [60/105], Loss: 0.1834\n",
      "Training - Epoch [41/60], Step [70/105], Loss: 0.1417\n",
      "Training - Epoch [41/60], Step [80/105], Loss: 0.2013\n",
      "Training - Epoch [41/60], Step [90/105], Loss: 0.7784\n",
      "Training - Epoch [41/60], Step [100/105], Loss: 0.0073\n",
      "Validation - Epoch [41/60], Loss: 0.6145, Accuracy: 0.8533\n",
      "Epoch 42\n",
      "-------------------------------\n",
      "Training - Epoch [42/60], Step [10/105], Loss: 0.0005\n",
      "Training - Epoch [42/60], Step [20/105], Loss: 0.1209\n",
      "Training - Epoch [42/60], Step [30/105], Loss: 0.0653\n",
      "Training - Epoch [42/60], Step [40/105], Loss: 0.0536\n",
      "Training - Epoch [42/60], Step [50/105], Loss: 0.0973\n",
      "Training - Epoch [42/60], Step [60/105], Loss: 0.5390\n",
      "Training - Epoch [42/60], Step [70/105], Loss: 0.2283\n",
      "Training - Epoch [42/60], Step [80/105], Loss: 0.3198\n",
      "Training - Epoch [42/60], Step [90/105], Loss: 0.0145\n",
      "Training - Epoch [42/60], Step [100/105], Loss: 0.2742\n",
      "Validation - Epoch [42/60], Loss: 0.6884, Accuracy: 0.8533\n",
      "Epoch 43\n",
      "-------------------------------\n",
      "Training - Epoch [43/60], Step [10/105], Loss: 0.0125\n",
      "Training - Epoch [43/60], Step [20/105], Loss: 0.5141\n",
      "Training - Epoch [43/60], Step [30/105], Loss: 0.3670\n",
      "Training - Epoch [43/60], Step [40/105], Loss: 0.1366\n",
      "Training - Epoch [43/60], Step [50/105], Loss: 0.4734\n",
      "Training - Epoch [43/60], Step [60/105], Loss: 0.1364\n",
      "Training - Epoch [43/60], Step [70/105], Loss: 0.0561\n",
      "Training - Epoch [43/60], Step [80/105], Loss: 0.0516\n",
      "Training - Epoch [43/60], Step [90/105], Loss: 0.0066\n",
      "Training - Epoch [43/60], Step [100/105], Loss: 0.1236\n",
      "Validation - Epoch [43/60], Loss: 1.0683, Accuracy: 0.7689\n",
      "Epoch 44\n",
      "-------------------------------\n",
      "Training - Epoch [44/60], Step [10/105], Loss: 0.0760\n",
      "Training - Epoch [44/60], Step [20/105], Loss: 0.4473\n",
      "Training - Epoch [44/60], Step [30/105], Loss: 0.0046\n",
      "Training - Epoch [44/60], Step [40/105], Loss: 0.0154\n",
      "Training - Epoch [44/60], Step [50/105], Loss: 0.0162\n",
      "Training - Epoch [44/60], Step [60/105], Loss: 0.0267\n",
      "Training - Epoch [44/60], Step [70/105], Loss: 0.2965\n",
      "Training - Epoch [44/60], Step [80/105], Loss: 0.5422\n",
      "Training - Epoch [44/60], Step [90/105], Loss: 0.0493\n",
      "Training - Epoch [44/60], Step [100/105], Loss: 0.0512\n",
      "Validation - Epoch [44/60], Loss: 0.5137, Accuracy: 0.8667\n",
      "Epoch 45\n",
      "-------------------------------\n",
      "Training - Epoch [45/60], Step [10/105], Loss: 0.0266\n",
      "Training - Epoch [45/60], Step [20/105], Loss: 0.0107\n",
      "Training - Epoch [45/60], Step [30/105], Loss: 0.0116\n",
      "Training - Epoch [45/60], Step [40/105], Loss: 0.0970\n",
      "Training - Epoch [45/60], Step [50/105], Loss: 0.0436\n",
      "Training - Epoch [45/60], Step [60/105], Loss: 0.0040\n",
      "Training - Epoch [45/60], Step [70/105], Loss: 0.0134\n",
      "Training - Epoch [45/60], Step [80/105], Loss: 0.0022\n",
      "Training - Epoch [45/60], Step [90/105], Loss: 0.1333\n",
      "Training - Epoch [45/60], Step [100/105], Loss: 0.2904\n",
      "Validation - Epoch [45/60], Loss: 0.9296, Accuracy: 0.7778\n",
      "Epoch 46\n",
      "-------------------------------\n",
      "Training - Epoch [46/60], Step [10/105], Loss: 1.6962\n",
      "Training - Epoch [46/60], Step [20/105], Loss: 0.0022\n",
      "Training - Epoch [46/60], Step [30/105], Loss: 0.3435\n",
      "Training - Epoch [46/60], Step [40/105], Loss: 0.1024\n",
      "Training - Epoch [46/60], Step [50/105], Loss: 0.0021\n",
      "Training - Epoch [46/60], Step [60/105], Loss: 0.0228\n",
      "Training - Epoch [46/60], Step [70/105], Loss: 0.3126\n",
      "Training - Epoch [46/60], Step [80/105], Loss: 0.0250\n",
      "Training - Epoch [46/60], Step [90/105], Loss: 0.2449\n",
      "Training - Epoch [46/60], Step [100/105], Loss: 0.0071\n",
      "Validation - Epoch [46/60], Loss: 0.7749, Accuracy: 0.8400\n",
      "Epoch 47\n",
      "-------------------------------\n",
      "Training - Epoch [47/60], Step [10/105], Loss: 0.0184\n",
      "Training - Epoch [47/60], Step [20/105], Loss: 0.0551\n",
      "Training - Epoch [47/60], Step [30/105], Loss: 0.0044\n",
      "Training - Epoch [47/60], Step [40/105], Loss: 0.0352\n",
      "Training - Epoch [47/60], Step [50/105], Loss: 0.0079\n",
      "Training - Epoch [47/60], Step [60/105], Loss: 0.0031\n",
      "Training - Epoch [47/60], Step [70/105], Loss: 0.8292\n",
      "Training - Epoch [47/60], Step [80/105], Loss: 0.0006\n",
      "Training - Epoch [47/60], Step [90/105], Loss: 0.0106\n",
      "Training - Epoch [47/60], Step [100/105], Loss: 0.1089\n",
      "Validation - Epoch [47/60], Loss: 0.7359, Accuracy: 0.8222\n",
      "Epoch 48\n",
      "-------------------------------\n",
      "Training - Epoch [48/60], Step [10/105], Loss: 0.0172\n",
      "Training - Epoch [48/60], Step [20/105], Loss: 0.0020\n",
      "Training - Epoch [48/60], Step [30/105], Loss: 0.1356\n",
      "Training - Epoch [48/60], Step [40/105], Loss: 0.0088\n",
      "Training - Epoch [48/60], Step [50/105], Loss: 0.0005\n",
      "Training - Epoch [48/60], Step [60/105], Loss: 0.0066\n",
      "Training - Epoch [48/60], Step [70/105], Loss: 0.0016\n",
      "Training - Epoch [48/60], Step [80/105], Loss: 0.3998\n",
      "Training - Epoch [48/60], Step [90/105], Loss: 0.0023\n",
      "Training - Epoch [48/60], Step [100/105], Loss: 0.0727\n",
      "Validation - Epoch [48/60], Loss: 1.7296, Accuracy: 0.6889\n",
      "Epoch 49\n",
      "-------------------------------\n",
      "Training - Epoch [49/60], Step [10/105], Loss: 0.3089\n",
      "Training - Epoch [49/60], Step [20/105], Loss: 0.0316\n",
      "Training - Epoch [49/60], Step [30/105], Loss: 0.0017\n",
      "Training - Epoch [49/60], Step [40/105], Loss: 0.7862\n",
      "Training - Epoch [49/60], Step [50/105], Loss: 0.0030\n",
      "Training - Epoch [49/60], Step [60/105], Loss: 0.2915\n",
      "Training - Epoch [49/60], Step [70/105], Loss: 0.0078\n",
      "Training - Epoch [49/60], Step [80/105], Loss: 0.0033\n",
      "Training - Epoch [49/60], Step [90/105], Loss: 0.0009\n",
      "Training - Epoch [49/60], Step [100/105], Loss: 0.0626\n",
      "Validation - Epoch [49/60], Loss: 0.4205, Accuracy: 0.9111\n",
      "Model saved as mobilenet_v3_small_font_classifier_100.pth\n",
      "Epoch 50\n",
      "-------------------------------\n",
      "Training - Epoch [50/60], Step [10/105], Loss: 0.0046\n",
      "Training - Epoch [50/60], Step [20/105], Loss: 0.0087\n",
      "Training - Epoch [50/60], Step [30/105], Loss: 0.0061\n",
      "Training - Epoch [50/60], Step [40/105], Loss: 0.1737\n",
      "Training - Epoch [50/60], Step [50/105], Loss: 0.0017\n",
      "Training - Epoch [50/60], Step [60/105], Loss: 0.0256\n",
      "Training - Epoch [50/60], Step [70/105], Loss: 0.4148\n",
      "Training - Epoch [50/60], Step [80/105], Loss: 0.0846\n",
      "Training - Epoch [50/60], Step [90/105], Loss: 0.0563\n",
      "Training - Epoch [50/60], Step [100/105], Loss: 0.0061\n",
      "Validation - Epoch [50/60], Loss: 1.2408, Accuracy: 0.7600\n",
      "Epoch 51\n",
      "-------------------------------\n",
      "Training - Epoch [51/60], Step [10/105], Loss: 0.4636\n",
      "Training - Epoch [51/60], Step [20/105], Loss: 0.6184\n",
      "Training - Epoch [51/60], Step [30/105], Loss: 0.2752\n",
      "Training - Epoch [51/60], Step [40/105], Loss: 0.0650\n",
      "Training - Epoch [51/60], Step [50/105], Loss: 0.0026\n",
      "Training - Epoch [51/60], Step [60/105], Loss: 0.0520\n",
      "Training - Epoch [51/60], Step [70/105], Loss: 0.2002\n",
      "Training - Epoch [51/60], Step [80/105], Loss: 0.0673\n",
      "Training - Epoch [51/60], Step [90/105], Loss: 0.0104\n",
      "Training - Epoch [51/60], Step [100/105], Loss: 0.0180\n",
      "Validation - Epoch [51/60], Loss: 0.6929, Accuracy: 0.8444\n",
      "Epoch 52\n",
      "-------------------------------\n",
      "Training - Epoch [52/60], Step [10/105], Loss: 0.0055\n",
      "Training - Epoch [52/60], Step [20/105], Loss: 0.2744\n",
      "Training - Epoch [52/60], Step [30/105], Loss: 0.0020\n",
      "Training - Epoch [52/60], Step [40/105], Loss: 0.0076\n",
      "Training - Epoch [52/60], Step [50/105], Loss: 0.0572\n",
      "Training - Epoch [52/60], Step [60/105], Loss: 0.0312\n",
      "Training - Epoch [52/60], Step [70/105], Loss: 0.2216\n",
      "Training - Epoch [52/60], Step [80/105], Loss: 0.1556\n",
      "Training - Epoch [52/60], Step [90/105], Loss: 0.0220\n",
      "Training - Epoch [52/60], Step [100/105], Loss: 0.0202\n",
      "Validation - Epoch [52/60], Loss: 0.6403, Accuracy: 0.8578\n",
      "Epoch 53\n",
      "-------------------------------\n",
      "Training - Epoch [53/60], Step [10/105], Loss: 0.0269\n",
      "Training - Epoch [53/60], Step [20/105], Loss: 0.0040\n",
      "Training - Epoch [53/60], Step [30/105], Loss: 0.0079\n",
      "Training - Epoch [53/60], Step [40/105], Loss: 0.0015\n",
      "Training - Epoch [53/60], Step [50/105], Loss: 0.0115\n",
      "Training - Epoch [53/60], Step [60/105], Loss: 0.0009\n",
      "Training - Epoch [53/60], Step [70/105], Loss: 0.1147\n",
      "Training - Epoch [53/60], Step [80/105], Loss: 0.0004\n",
      "Training - Epoch [53/60], Step [90/105], Loss: 0.0299\n",
      "Training - Epoch [53/60], Step [100/105], Loss: 0.0015\n",
      "Validation - Epoch [53/60], Loss: 0.5711, Accuracy: 0.8800\n",
      "Epoch 54\n",
      "-------------------------------\n",
      "Training - Epoch [54/60], Step [10/105], Loss: 0.0011\n",
      "Training - Epoch [54/60], Step [20/105], Loss: 0.1316\n",
      "Training - Epoch [54/60], Step [30/105], Loss: 0.1085\n",
      "Training - Epoch [54/60], Step [40/105], Loss: 0.3785\n",
      "Training - Epoch [54/60], Step [50/105], Loss: 0.0477\n",
      "Training - Epoch [54/60], Step [60/105], Loss: 0.0728\n",
      "Training - Epoch [54/60], Step [70/105], Loss: 0.0057\n",
      "Training - Epoch [54/60], Step [80/105], Loss: 0.0716\n",
      "Training - Epoch [54/60], Step [90/105], Loss: 0.0107\n",
      "Training - Epoch [54/60], Step [100/105], Loss: 0.1015\n",
      "Validation - Epoch [54/60], Loss: 0.4678, Accuracy: 0.8800\n",
      "Epoch 55\n",
      "-------------------------------\n",
      "Training - Epoch [55/60], Step [10/105], Loss: 0.8112\n",
      "Training - Epoch [55/60], Step [20/105], Loss: 0.0609\n",
      "Training - Epoch [55/60], Step [30/105], Loss: 0.6519\n",
      "Training - Epoch [55/60], Step [40/105], Loss: 0.1094\n",
      "Training - Epoch [55/60], Step [50/105], Loss: 0.0038\n",
      "Training - Epoch [55/60], Step [60/105], Loss: 0.0170\n",
      "Training - Epoch [55/60], Step [70/105], Loss: 0.0437\n",
      "Training - Epoch [55/60], Step [80/105], Loss: 0.0012\n",
      "Training - Epoch [55/60], Step [90/105], Loss: 0.0201\n",
      "Training - Epoch [55/60], Step [100/105], Loss: 0.0044\n",
      "Validation - Epoch [55/60], Loss: 1.4603, Accuracy: 0.7289\n",
      "Epoch 56\n",
      "-------------------------------\n",
      "Training - Epoch [56/60], Step [10/105], Loss: 0.5049\n",
      "Training - Epoch [56/60], Step [20/105], Loss: 0.0257\n",
      "Training - Epoch [56/60], Step [30/105], Loss: 0.0189\n",
      "Training - Epoch [56/60], Step [40/105], Loss: 0.0972\n",
      "Training - Epoch [56/60], Step [50/105], Loss: 0.0243\n",
      "Training - Epoch [56/60], Step [60/105], Loss: 0.0221\n",
      "Training - Epoch [56/60], Step [70/105], Loss: 0.0506\n",
      "Training - Epoch [56/60], Step [80/105], Loss: 0.0156\n",
      "Training - Epoch [56/60], Step [90/105], Loss: 0.2079\n",
      "Training - Epoch [56/60], Step [100/105], Loss: 0.0073\n",
      "Validation - Epoch [56/60], Loss: 1.1293, Accuracy: 0.7378\n",
      "Epoch 57\n",
      "-------------------------------\n",
      "Training - Epoch [57/60], Step [10/105], Loss: 0.0037\n",
      "Training - Epoch [57/60], Step [20/105], Loss: 0.0052\n",
      "Training - Epoch [57/60], Step [30/105], Loss: 0.3021\n",
      "Training - Epoch [57/60], Step [40/105], Loss: 0.0313\n",
      "Training - Epoch [57/60], Step [50/105], Loss: 0.0884\n",
      "Training - Epoch [57/60], Step [60/105], Loss: 0.0007\n",
      "Training - Epoch [57/60], Step [70/105], Loss: 0.3213\n",
      "Training - Epoch [57/60], Step [80/105], Loss: 0.0012\n",
      "Training - Epoch [57/60], Step [90/105], Loss: 0.3465\n",
      "Training - Epoch [57/60], Step [100/105], Loss: 0.1034\n",
      "Validation - Epoch [57/60], Loss: 0.7084, Accuracy: 0.8533\n",
      "Epoch 58\n",
      "-------------------------------\n",
      "Training - Epoch [58/60], Step [10/105], Loss: 0.6742\n",
      "Training - Epoch [58/60], Step [20/105], Loss: 0.0251\n",
      "Training - Epoch [58/60], Step [30/105], Loss: 0.3359\n",
      "Training - Epoch [58/60], Step [40/105], Loss: 0.0270\n",
      "Training - Epoch [58/60], Step [50/105], Loss: 0.0081\n",
      "Training - Epoch [58/60], Step [60/105], Loss: 0.0008\n",
      "Training - Epoch [58/60], Step [70/105], Loss: 0.0150\n",
      "Training - Epoch [58/60], Step [80/105], Loss: 0.3573\n",
      "Training - Epoch [58/60], Step [90/105], Loss: 0.3348\n",
      "Training - Epoch [58/60], Step [100/105], Loss: 0.0786\n",
      "Validation - Epoch [58/60], Loss: 0.4671, Accuracy: 0.8756\n",
      "Epoch 59\n",
      "-------------------------------\n",
      "Training - Epoch [59/60], Step [10/105], Loss: 0.1023\n",
      "Training - Epoch [59/60], Step [20/105], Loss: 0.0014\n",
      "Training - Epoch [59/60], Step [30/105], Loss: 0.0014\n",
      "Training - Epoch [59/60], Step [40/105], Loss: 0.0021\n",
      "Training - Epoch [59/60], Step [50/105], Loss: 0.0058\n",
      "Training - Epoch [59/60], Step [60/105], Loss: 0.0057\n",
      "Training - Epoch [59/60], Step [70/105], Loss: 0.0053\n",
      "Training - Epoch [59/60], Step [80/105], Loss: 0.0361\n",
      "Training - Epoch [59/60], Step [90/105], Loss: 0.0189\n",
      "Training - Epoch [59/60], Step [100/105], Loss: 0.0078\n",
      "Validation - Epoch [59/60], Loss: 0.6742, Accuracy: 0.8622\n",
      "Epoch 60\n",
      "-------------------------------\n",
      "Training - Epoch [60/60], Step [10/105], Loss: 0.0254\n",
      "Training - Epoch [60/60], Step [20/105], Loss: 0.0128\n",
      "Training - Epoch [60/60], Step [30/105], Loss: 0.0281\n",
      "Training - Epoch [60/60], Step [40/105], Loss: 0.1635\n",
      "Training - Epoch [60/60], Step [50/105], Loss: 0.0755\n",
      "Training - Epoch [60/60], Step [60/105], Loss: 0.0017\n",
      "Training - Epoch [60/60], Step [70/105], Loss: 0.8078\n",
      "Training - Epoch [60/60], Step [80/105], Loss: 0.0452\n",
      "Training - Epoch [60/60], Step [90/105], Loss: 0.0222\n",
      "Training - Epoch [60/60], Step [100/105], Loss: 0.0020\n",
      "Validation - Epoch [60/60], Loss: 0.6363, Accuracy: 0.8622\n"
     ]
    }
   ],
   "source": [
    "# Define the loss function\n",
    "criterion = torch.nn.CrossEntropyLoss()\n",
    "\n",
    "# Define the optimizer\n",
    "optimizer = torch.optim.Adam(model.parameters(), lr=0.001)\n",
    "\n",
    "# Training loop\n",
    "num_epochs = 60\n",
    "best_val_loss = float('inf')\n",
    "\n",
    "# Lists to store training and validation metrics for plotting\n",
    "train_losses = []\n",
    "train_accuracies = []\n",
    "val_losses = []\n",
    "val_accuracies = []\n",
    "\n",
    "# Set the model to training mode\n",
    "model.train()\n",
    "\n",
    "# Start the training loop\n",
    "start_time = time.time()\n",
    "for epoch in range(num_epochs):\n",
    "    print(f'Epoch {epoch + 1}\\n-------------------------------')\n",
    "    # Training phase\n",
    "    model.train()\n",
    "    train_loss = 0.0\n",
    "    correct_train = 0\n",
    "    total_train = 0\n",
    "    for i, (inputs, labels) in enumerate(train_loader):\n",
    "        inputs = inputs.to(device)\n",
    "        labels = labels.to(device)\n",
    "\n",
    "        # Forward pass\n",
    "        outputs = model(inputs)\n",
    "        loss = criterion(outputs, labels)\n",
    "\n",
    "        # Backward pass\n",
    "        optimizer.zero_grad()\n",
    "        loss.backward()\n",
    "        optimizer.step()\n",
    "\n",
    "        train_loss += loss.item() * inputs.size(0)\n",
    "        \n",
    "        # Calculate accuracy\n",
    "        _, predicted = torch.max(outputs, 1)\n",
    "        total_train += labels.size(0)\n",
    "        correct_train += (predicted == labels).sum().item()\n",
    "\n",
    "        # Print training statistics\n",
    "        if (i + 1) % 10 == 0:\n",
    "            print(f'Training - Epoch [{epoch + 1}/{num_epochs}], Step [{i + 1}/{len(train_loader)}], Loss: {loss.item():.4f}')\n",
    "\n",
    "    # Calculate average training loss and accuracy\n",
    "    train_loss /= len(train_loader.dataset)\n",
    "    train_accuracy = correct_train / total_train\n",
    "    train_losses.append(train_loss)\n",
    "    train_accuracies.append(train_accuracy)\n",
    "    \n",
    "    # Validation phase\n",
    "    model.eval()\n",
    "    val_loss = 0.0\n",
    "    correct_val = 0\n",
    "    total_val = 0\n",
    "    with torch.no_grad():\n",
    "        for i, (inputs, labels) in enumerate(val_loader):\n",
    "            inputs = inputs.to(device)\n",
    "            labels = labels.to(device)\n",
    "\n",
    "            # Forward pass\n",
    "            outputs = model(inputs)\n",
    "            loss = criterion(outputs, labels)\n",
    "\n",
    "            val_loss += loss.item() * inputs.size(0)\n",
    "\n",
    "            # Calculate accuracy\n",
    "            _, predicted = torch.max(outputs, 1)\n",
    "            total_val += labels.size(0)\n",
    "            correct_val += (predicted == labels).sum().item()\n",
    "\n",
    "    # Print validation statistics\n",
    "    val_loss /= len(val_loader.dataset)\n",
    "    val_accuracy = correct_val / total_val\n",
    "    val_losses.append(val_loss)\n",
    "    val_accuracies.append(val_accuracy)\n",
    "    print(f'Validation - Epoch [{epoch + 1}/{num_epochs}], Loss: {val_loss:.4f}, Accuracy: {val_accuracy:.4f}')\n",
    "\n",
    "    # Save the model if validation loss decreases\n",
    "    if val_loss < best_val_loss:\n",
    "        best_val_loss = val_loss\n",
    "        torch.save(model.state_dict(), f'../../models/{scope}/{model_name}_font_classifier_{type}.pth')\n",
    "        print(f'Model saved as {model_name}_font_classifier_{type}.pth')\n",
    "\n",
    "end_time = time.time()"
   ],
   "metadata": {
    "collapsed": false,
    "ExecuteTime": {
     "end_time": "2024-04-29T11:47:16.356615Z",
     "start_time": "2024-04-29T11:34:08.681309Z"
    }
   },
   "id": "126f35f98051a02a",
   "execution_count": 7
  },
  {
   "cell_type": "markdown",
   "source": [
    "# Plot the training and validation metrics"
   ],
   "metadata": {
    "collapsed": false
   },
   "id": "2f8d840ac9117197"
  },
  {
   "cell_type": "code",
   "outputs": [
    {
     "data": {
      "text/plain": "<Figure size 1200x500 with 2 Axes>",
      "image/png": "[encoded data removed]"
     },
     "metadata": {},
     "output_type": "display_data"
    },
    {
     "name": "stdout",
     "output_type": "stream",
     "text": [
      "Finished Training\n",
      "Time taken for training: 787.66 seconds\n",
      "Medium time per epoch: 13.13 seconds\n"
     ]
    }
   ],
   "source": [
    "# Plotting\n",
    "plt.figure(figsize=(12, 5))\n",
    "plt.subplot(1, 2, 1)\n",
    "plt.plot(range(1, num_epochs + 1), train_losses, label='Training Loss')\n",
    "plt.plot(range(1, num_epochs + 1), val_losses, label='Validation Loss')\n",
    "plt.xlabel('Epochs')\n",
    "plt.ylabel('Loss')\n",
    "plt.title('Training and Validation Loss')\n",
    "plt.legend()\n",
    "\n",
    "plt.subplot(1, 2, 2)\n",
    "plt.plot(range(1, num_epochs + 1), train_accuracies, label='Training Accuracy')\n",
    "plt.plot(range(1, num_epochs + 1), val_accuracies, label='Validation Accuracy')\n",
    "plt.xlabel('Epochs')\n",
    "plt.ylabel('Accuracy')\n",
    "plt.title('Training and Validation Accuracy')\n",
    "plt.legend()\n",
    "\n",
    "plt.tight_layout()\n",
    "plt.show()\n",
    "\n",
    "print('Finished Training')\n",
    "\n",
    "# Print the time taken for training\n",
    "print(f'Time taken for training: {end_time - start_time:.2f} seconds')\n",
    "## Print medium time per epoch\n",
    "print(f'Medium time per epoch: {(end_time - start_time)/num_epochs:.2f} seconds')"
   ],
   "metadata": {
    "collapsed": false,
    "ExecuteTime": {
     "end_time": "2024-04-29T11:47:16.726616Z",
     "start_time": "2024-04-29T11:47:16.357616Z"
    }
   },
   "id": "2fb4051fe48bcb0f",
   "execution_count": 8
  },
  {
   "cell_type": "markdown",
   "source": [
    "# Evaluate the model"
   ],
   "metadata": {
    "collapsed": false
   },
   "id": "5d1120839a43965"
  },
  {
   "cell_type": "markdown",
   "source": [
    "## Load the model"
   ],
   "metadata": {
    "collapsed": false
   },
   "id": "f38ec7e7c9fc2bd2"
  },
  {
   "cell_type": "code",
   "outputs": [
    {
     "name": "stdout",
     "output_type": "stream",
     "text": [
      "Model loaded from ../../models/DatasetSize/mobilenet_v3_small_font_classifier_100.pth\n"
     ]
    }
   ],
   "source": [
    "# Load the model\n",
    "model_path = f'../../models/{scope}/{model_name}_font_classifier_{type}.pth'\n",
    "model = models.__dict__[model_name](weights=None)\n",
    "model.load_state_dict(torch.load(model_path))\n",
    "model = model.to(device)\n",
    "print(f'Model loaded from {model_path}')"
   ],
   "metadata": {
    "collapsed": false,
    "ExecuteTime": {
     "end_time": "2024-04-29T11:47:16.804615Z",
     "start_time": "2024-04-29T11:47:16.727615Z"
    }
   },
   "id": "2d59abb3cc4d4ab1",
   "execution_count": 9
  },
  {
   "cell_type": "markdown",
   "source": [
    "## Evaluate the model\n",
    "Evaluate the model using the test set. We will compute the accuracy, precision, recall, F1-score, confusion matrix, and ROC curve."
   ],
   "metadata": {
    "collapsed": false
   },
   "id": "c4fb0a8cc4c7aaaf"
  },
  {
   "cell_type": "code",
   "outputs": [],
   "source": [
    "# Set the model to evaluation mode\n",
    "model.eval()\n",
    "\n",
    "# Initialize lists for true labels and predicted labels\n",
    "true_labels = []\n",
    "predicted_labels = []\n",
    "\n",
    "# Disable gradient computation for evaluation\n",
    "with torch.no_grad():\n",
    "    for images, labels in test_loader:\n",
    "        images = images.to(device)\n",
    "        labels = labels.to(device)\n",
    "\n",
    "        # Perform inference\n",
    "        outputs = model(images)\n",
    "        \n",
    "        # Compute predicted labels\n",
    "        _, predicted = torch.max(outputs.data, 1)\n",
    "        \n",
    "        # Append true and predicted labels to lists\n",
    "        true_labels.extend(labels.cpu().numpy())\n",
    "        predicted_labels.extend(predicted.cpu().numpy())\n",
    "\n",
    "# Convert lists to numpy arrays\n",
    "true_labels = np.array(true_labels)\n",
    "predicted_labels = np.array(predicted_labels)"
   ],
   "metadata": {
    "collapsed": false,
    "ExecuteTime": {
     "end_time": "2024-04-29T11:47:18.294270Z",
     "start_time": "2024-04-29T11:47:16.805616Z"
    }
   },
   "id": "d94dccfec1ca328d",
   "execution_count": 10
  },
  {
   "cell_type": "markdown",
   "source": [
    "## Compute metrics\n",
    "### Accuracy"
   ],
   "metadata": {
    "collapsed": false
   },
   "id": "7fc2137e6729efa2"
  },
  {
   "cell_type": "code",
   "outputs": [
    {
     "name": "stdout",
     "output_type": "stream",
     "text": [
      "Accuracy: 89.33%\n"
     ]
    }
   ],
   "source": [
    "accuracy = accuracy_score(true_labels, predicted_labels)\n",
    "print('Accuracy: {:.2f}%'.format(100 * accuracy))"
   ],
   "metadata": {
    "collapsed": false,
    "ExecuteTime": {
     "end_time": "2024-04-29T11:47:18.309269Z",
     "start_time": "2024-04-29T11:47:18.295270Z"
    }
   },
   "id": "101581d76f4e9326",
   "execution_count": 11
  },
  {
   "cell_type": "markdown",
   "source": [
    "### Precision"
   ],
   "metadata": {
    "collapsed": false
   },
   "id": "8c872a168687bbb9"
  },
  {
   "cell_type": "code",
   "outputs": [
    {
     "name": "stdout",
     "output_type": "stream",
     "text": [
      "Precision: 0.90\n"
     ]
    }
   ],
   "source": [
    "precision = precision_score(true_labels, predicted_labels, average='weighted')\n",
    "print('Precision: {:.2f}'.format(precision))"
   ],
   "metadata": {
    "collapsed": false,
    "ExecuteTime": {
     "end_time": "2024-04-29T11:47:18.325271Z",
     "start_time": "2024-04-29T11:47:18.310270Z"
    }
   },
   "id": "c0a1514893d52da3",
   "execution_count": 12
  },
  {
   "cell_type": "markdown",
   "source": [
    "### Recall"
   ],
   "metadata": {
    "collapsed": false
   },
   "id": "2d6709ac0ed49e7d"
  },
  {
   "cell_type": "code",
   "outputs": [
    {
     "name": "stdout",
     "output_type": "stream",
     "text": [
      "Recall: 0.89\n"
     ]
    }
   ],
   "source": [
    "recall = recall_score(true_labels, predicted_labels, average='weighted')\n",
    "print('Recall: {:.2f}'.format(recall))"
   ],
   "metadata": {
    "collapsed": false,
    "ExecuteTime": {
     "end_time": "2024-04-29T11:47:18.341269Z",
     "start_time": "2024-04-29T11:47:18.327270Z"
    }
   },
   "id": "cbe9cce2d6d4b849",
   "execution_count": 13
  },
  {
   "cell_type": "markdown",
   "source": [
    "### F1-score"
   ],
   "metadata": {
    "collapsed": false
   },
   "id": "a6a9ab8eaf4a00c9"
  },
  {
   "cell_type": "code",
   "outputs": [
    {
     "name": "stdout",
     "output_type": "stream",
     "text": [
      "F1-score: 0.89\n"
     ]
    }
   ],
   "source": [
    "f1 = f1_score(true_labels, predicted_labels, average='weighted')\n",
    "print('F1-score: {:.2f}'.format(f1))"
   ],
   "metadata": {
    "collapsed": false,
    "ExecuteTime": {
     "end_time": "2024-04-29T11:47:18.356269Z",
     "start_time": "2024-04-29T11:47:18.342271Z"
    }
   },
   "id": "2a87268c3e7e9e88",
   "execution_count": 14
  },
  {
   "cell_type": "markdown",
   "source": [
    "### Confusion matrix"
   ],
   "metadata": {
    "collapsed": false
   },
   "id": "3687c7ed9e290b52"
  },
  {
   "cell_type": "code",
   "outputs": [
    {
     "name": "stdout",
     "output_type": "stream",
     "text": [
      "Confusion Matrix:\n"
     ]
    },
    {
     "data": {
      "text/plain": "<Figure size 640x480 with 1 Axes>",
      "image/png": "[encoded data removed]"
     },
     "metadata": {},
     "output_type": "display_data"
    }
   ],
   "source": [
    "conf_matrix = confusion_matrix(true_labels, predicted_labels)\n",
    "print(f'Confusion Matrix:')\n",
    "sns.heatmap(conf_matrix, annot=True, cmap='Blues', fmt='g', cbar=False, xticklabels=class_names, yticklabels=class_names)\n",
    "plt.title('Confusion Matrix')\n",
    "plt.xlabel('Predicted Label')\n",
    "plt.ylabel('True Label')\n",
    "plt.show()"
   ],
   "metadata": {
    "collapsed": false,
    "ExecuteTime": {
     "end_time": "2024-04-29T11:47:18.891269Z",
     "start_time": "2024-04-29T11:47:18.357269Z"
    }
   },
   "id": "6a06849bad215169",
   "execution_count": 15
  },
  {
   "cell_type": "markdown",
   "source": [
    "### ROC curve"
   ],
   "metadata": {
    "collapsed": false
   },
   "id": "8f7a1268072e6e09"
  },
  {
   "cell_type": "code",
   "outputs": [
    {
     "data": {
      "text/plain": "[<matplotlib.lines.Line2D at 0x17de40d71f0>]"
     },
     "execution_count": 16,
     "metadata": {},
     "output_type": "execute_result"
    },
    {
     "data": {
      "text/plain": "<Figure size 640x480 with 1 Axes>",
      "image/png": "[encoded data removed]"
     },
     "metadata": {},
     "output_type": "display_data"
    }
   ],
   "source": [
    "# Binarize the true labels\n",
    "true_labels_binarized = label_binarize(true_labels, classes=range(len(class_names)))\n",
    "\n",
    "# Binarize the predicted labels\n",
    "predicted_labels_binarized = label_binarize(predicted_labels, classes=range(len(class_names)))\n",
    "\n",
    "# Compute the ROC curve\n",
    "fpr = dict()\n",
    "tpr = dict()\n",
    "roc_auc = dict()\n",
    "for i in range(len(class_names)):\n",
    "    fpr[i], tpr[i], _ = roc_curve(true_labels_binarized[:, i], predicted_labels_binarized[:, i])\n",
    "    roc_auc[i] = auc(fpr[i], tpr[i])\n",
    "    \n",
    "# Plot the ROC curve\n",
    "plt.figure()\n",
    "for i in range(len(class_names)):\n",
    "    plt.plot(fpr[i], tpr[i], lw=2, label=f'ROC curve for class {class_names[i]} (area = {roc_auc[i]:0.2f})')\n",
    "plt.plot([0, 1], [0, 1], 'k--', lw=2)"
   ],
   "metadata": {
    "collapsed": false,
    "ExecuteTime": {
     "end_time": "2024-04-29T11:47:19.045271Z",
     "start_time": "2024-04-29T11:47:18.892269Z"
    }
   },
   "id": "6c7b4767f613c314",
   "execution_count": 16
  },
  {
   "cell_type": "markdown",
   "source": [],
   "metadata": {
    "collapsed": false
   },
   "id": "c4d8c6f85ef0d72c"
  }
 ],
 "metadata": {
  "kernelspec": {
   "display_name": "Python 3",
   "language": "python",
   "name": "python3"
  },
  "language_info": {
   "codemirror_mode": {
    "name": "ipython",
    "version": 2
   },
   "file_extension": ".py",
   "mimetype": "text/x-python",
   "name": "python",
   "nbconvert_exporter": "python",
   "pygments_lexer": "ipython2",
   "version": "2.7.6"
  }
 },
 "nbformat": 4,
 "nbformat_minor": 5
}
