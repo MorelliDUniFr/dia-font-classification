{
 "cells": [
  {
   "cell_type": "markdown",
   "source": [
    "# Font Classification with PyTorch and MobileNetV3\n",
    "In this notebook, we will use the PyTorch deep learning framework to train a MobileNetV3 model to classify fonts. We will use the `torchvision` library to load the dataset and the `sklearn` library to evaluate the model using accuracy, precision, recall, F1-score, and the ROC curve. We will also visualize the confusion matrix to understand the model's performance on each class."
   ],
   "metadata": {
    "collapsed": false
   },
   "id": "4ac20b28058858bd"
  },
  {
   "cell_type": "markdown",
   "source": [
    "# Imports\n",
    "Import of the necessary libraries"
   ],
   "metadata": {
    "collapsed": false
   },
   "id": "705740ac830b5b02"
  },
  {
   "cell_type": "code",
   "outputs": [],
   "source": [
    "import numpy as np\n",
    "from torchvision import datasets, transforms\n",
    "from sklearn.metrics import accuracy_score, precision_score, recall_score, f1_score, confusion_matrix\n",
    "import seaborn as sns\n",
    "import matplotlib.pyplot as plt\n",
    "import torch\n",
    "from torchvision import models\n",
    "from torch.utils.data import DataLoader\n",
    "from sklearn.metrics import roc_curve, auc\n",
    "from sklearn.preprocessing import label_binarize\n",
    "import time\n",
    "from sys import platform"
   ],
   "metadata": {
    "collapsed": false,
    "ExecuteTime": {
     "end_time": "2024-04-29T11:48:19.063453Z",
     "start_time": "2024-04-29T11:48:16.542223Z"
    }
   },
   "id": "cd70965188811652",
   "execution_count": 1
  },
  {
   "cell_type": "markdown",
   "source": [
    "# Model choice\n",
    "Choose the model to use for training. In this case, we will use the MobileNetV3 model."
   ],
   "metadata": {
    "collapsed": false
   },
   "id": "89723516c4abb2e6"
  },
  {
   "cell_type": "code",
   "outputs": [
    {
     "name": "stdout",
     "output_type": "stream",
     "text": [
      "Using model: mobilenet_v3_small\n"
     ]
    }
   ],
   "source": [
    "model_name = 'mobilenet_v3_small'\n",
    "print(f'Using model: {model_name}')"
   ],
   "metadata": {
    "collapsed": false,
    "ExecuteTime": {
     "end_time": "2024-04-29T11:48:19.078453Z",
     "start_time": "2024-04-29T11:48:19.064454Z"
    }
   },
   "id": "ef4e56728f9785b4",
   "execution_count": 2
  },
  {
   "cell_type": "markdown",
   "source": [
    "# Loading and preparing the dataset\n",
    "Load the dataset and prepare it for training. We will resize the images to a fixed size, convert them to tensors, and normalize the pixel values.\n",
    "\n",
    "## Preprocessing\n",
    "1. Resize the images to a fixed size\n",
    "2. Convert the images to tensors\n",
    "3. Normalize the pixel values"
   ],
   "metadata": {
    "collapsed": false
   },
   "id": "b2dabad339631e94"
  },
  {
   "cell_type": "code",
   "outputs": [],
   "source": [
    "# From the dataset, we know that the images have a height of 32 pixels and a width (on average) of 150 pixels\n",
    "image_height = 32\n",
    "image_width = 150\n",
    "\n",
    "# Define the percentage of the dataset to use for training\n",
    "train_size_perc = 0.7\n",
    "\n",
    "# Set the seed for reproducibility\n",
    "torch.manual_seed(0)\n",
    "\n",
    "# Define transformations for preprocessing\n",
    "transform = transforms.Compose([\n",
    "    transforms.Resize((image_height, image_width)),  # Resize images to a fixed size\n",
    "    transforms.ToTensor(),                           # Convert images to tensors\n",
    "    transforms.Normalize(mean=[0.25, 0.25, 0.25],      # Normalize pixel values\n",
    "                         std=[0.25, 0.25, 0.25])])"
   ],
   "metadata": {
    "collapsed": false,
    "ExecuteTime": {
     "end_time": "2024-04-29T11:48:19.093453Z",
     "start_time": "2024-04-29T11:48:19.079454Z"
    }
   },
   "id": "cdc44275b7dbe9ba",
   "execution_count": 3
  },
  {
   "cell_type": "markdown",
   "source": [
    "## Load the dataset\n",
    "Load the dataset using the `ImageFolder` class from `torchvision`. We will split the dataset into training, validation, and test sets. We will use 70% of the dataset for training, 15% for validation, and 15% for testing."
   ],
   "metadata": {
    "collapsed": false
   },
   "id": "8906c87c81b7569c"
  },
  {
   "cell_type": "code",
   "outputs": [
    {
     "name": "stdout",
     "output_type": "stream",
     "text": [
      "Loaded 15000 images\n",
      "Class names: ['Algerian', 'Arial', 'Baskerville', 'Calibry', 'Calligraphy', 'Cambria', 'Comic Sans MS', 'Courier', 'Elephant', 'Fascinate', 'Georgia', 'Helvetica', 'Lucida Bright', 'Nasalization', 'Times New Roman']\n"
     ]
    }
   ],
   "source": [
    "from collections import defaultdict\n",
    "from torchvision.datasets import ImageFolder\n",
    "\n",
    "# Path to the dataset\n",
    "data_dir = '../../fonts'\n",
    "\n",
    "# Notebook scope and type\n",
    "scope = 'DatasetSize'\n",
    "type = '1000'\n",
    "\n",
    "# Load the dataset using ImageFolder\n",
    "dataset = datasets.ImageFolder(root=data_dir, transform=transform)\n",
    "\n",
    "# Load 100% of the dataset\n",
    "# Collect indices of samples for each class\n",
    "indices_by_class = defaultdict(list)\n",
    "for i, (_, label) in enumerate(dataset.samples):\n",
    "    indices_by_class[label].append(i)\n",
    "\n",
    "# Choose 1000 samples for each class\n",
    "selected_indices = []\n",
    "for indices in indices_by_class.values():\n",
    "    selected_indices.extend(np.random.choice(indices, min(1000, len(indices)), replace=False))\n",
    "\n",
    "# Overwrite dataset.samples with the selected samples\n",
    "dataset.samples = [dataset.samples[i] for i in selected_indices]\n",
    "\n",
    "print(f'Loaded {len(dataset)} images')\n",
    "\n",
    "# Display the class names\n",
    "print(f'Class names: {dataset.classes}')\n",
    "\n",
    "# Define the sizes of the training, validation, and test sets\n",
    "train_size = int(train_size_perc * len(dataset))  # 70% of the dataset for training\n",
    "val_size = int(((1.0 - train_size_perc)/2) * len(dataset))    # 15% for validation\n",
    "test_size = len(dataset) - train_size - val_size  # Remaining for test\n",
    "\n",
    "# Split the dataset into training, validation, and test sets\n",
    "train_dataset, val_dataset, test_dataset = torch.utils.data.random_split(\n",
    "    dataset, [train_size, val_size, test_size])\n",
    "\n",
    "# Define the batch size as a percentage of the training set, in this case 1%\n",
    "batch_size = int(train_size * 0.01)\n",
    "\n",
    "# Create data loaders for training, validation, and test sets\n",
    "train_loader = torch.utils.data.DataLoader(train_dataset, batch_size=batch_size, shuffle=True)\n",
    "val_loader = torch.utils.data.DataLoader(val_dataset, batch_size=batch_size, shuffle=True)\n",
    "test_loader = torch.utils.data.DataLoader(test_dataset, batch_size=batch_size, shuffle=False)"
   ],
   "metadata": {
    "collapsed": false,
    "ExecuteTime": {
     "end_time": "2024-04-29T11:48:19.173453Z",
     "start_time": "2024-04-29T11:48:19.096454Z"
    }
   },
   "id": "9d9c8c978a1ebdbd",
   "execution_count": 4
  },
  {
   "cell_type": "markdown",
   "source": [
    "## Dataset information"
   ],
   "metadata": {
    "collapsed": false
   },
   "id": "afdcf3568e6bb0e6"
  },
  {
   "cell_type": "code",
   "outputs": [
    {
     "name": "stdout",
     "output_type": "stream",
     "text": [
      "Number of images: 15000\n",
      "Number of batches: 100\n",
      "Batch size: 105\n",
      "Number of training images: 10500\n",
      "Number of validation images: 2250\n",
      "Number of test images: 2250\n",
      "Class names: ['Algerian', 'Arial', 'Baskerville', 'Calibry', 'Calligraphy', 'Cambria', 'Comic Sans MS', 'Courier', 'Elephant', 'Fascinate', 'Georgia', 'Helvetica', 'Lucida Bright', 'Nasalization', 'Times New Roman']\n"
     ]
    }
   ],
   "source": [
    "num_images = len(dataset)\n",
    "num_batches = len(train_loader)\n",
    "print(f'Number of images: {num_images}')\n",
    "print(f'Number of batches: {num_batches}')\n",
    "print(f'Batch size: {batch_size}')\n",
    "print(f'Number of training images: {len(train_dataset)}')\n",
    "print(f'Number of validation images: {len(val_dataset)}')\n",
    "print(f'Number of test images: {len(test_dataset)}')\n",
    "\n",
    "# Get the class names\n",
    "class_names = dataset.classes\n",
    "print(f'Class names: {class_names}')"
   ],
   "metadata": {
    "collapsed": false,
    "ExecuteTime": {
     "end_time": "2024-04-29T11:48:19.188454Z",
     "start_time": "2024-04-29T11:48:19.174454Z"
    }
   },
   "id": "1975b1b1848ca2ac",
   "execution_count": 5
  },
  {
   "cell_type": "markdown",
   "source": [
    "# Loading the model\n",
    "Load the MobileNetV3 model and move it to the device (CPU or GPU)."
   ],
   "metadata": {
    "collapsed": false
   },
   "id": "bd836b0d47a237ba"
  },
  {
   "cell_type": "code",
   "outputs": [
    {
     "name": "stdout",
     "output_type": "stream",
     "text": [
      "Model moved to cpu\n"
     ]
    }
   ],
   "source": [
    "# Load the model and replace the fully connected layer\n",
    "model = models.__dict__[model_name](weights=None)\n",
    "\n",
    "# Move model to the device (CPU or GPU)\n",
    "if platform != \"win32\":\n",
    "    device = torch.device('mps' if torch.backends.mps.is_available() else 'cpu')\n",
    "else:\n",
    "    device = torch.device('gpu' if torch.cuda.is_available() else 'cpu')\n",
    "model = model.to(device)\n",
    "print(f'Model moved to {device}')"
   ],
   "metadata": {
    "collapsed": false,
    "ExecuteTime": {
     "end_time": "2024-04-29T11:48:19.249453Z",
     "start_time": "2024-04-29T11:48:19.189454Z"
    }
   },
   "id": "8e9ad926f379fab5",
   "execution_count": 6
  },
  {
   "cell_type": "markdown",
   "source": [
    "# Training the model\n",
    "Train the model using the training set and validate it using the validation set. We will use the Adam optimizer and the CrossEntropy loss function. We will save the model with the lowest validation loss."
   ],
   "metadata": {
    "collapsed": false
   },
   "id": "eebc3e7a492ce85"
  },
  {
   "cell_type": "code",
   "outputs": [
    {
     "name": "stdout",
     "output_type": "stream",
     "text": [
      "Epoch 1\n",
      "-------------------------------\n",
      "Training - Epoch [1/60], Step [10/100], Loss: 3.7968\n",
      "Training - Epoch [1/60], Step [20/100], Loss: 2.4704\n",
      "Training - Epoch [1/60], Step [30/100], Loss: 2.1375\n",
      "Training - Epoch [1/60], Step [40/100], Loss: 1.6596\n",
      "Training - Epoch [1/60], Step [50/100], Loss: 1.6563\n",
      "Training - Epoch [1/60], Step [60/100], Loss: 1.4555\n",
      "Training - Epoch [1/60], Step [70/100], Loss: 1.3361\n",
      "Training - Epoch [1/60], Step [80/100], Loss: 1.0758\n",
      "Training - Epoch [1/60], Step [90/100], Loss: 1.0599\n",
      "Training - Epoch [1/60], Step [100/100], Loss: 1.2100\n",
      "Validation - Epoch [1/60], Loss: 3.2572, Accuracy: 0.0662\n",
      "Model saved as mobilenet_v3_small_font_classifier_1000.pth\n",
      "Epoch 2\n",
      "-------------------------------\n",
      "Training - Epoch [2/60], Step [10/100], Loss: 0.7412\n",
      "Training - Epoch [2/60], Step [20/100], Loss: 0.8924\n",
      "Training - Epoch [2/60], Step [30/100], Loss: 0.6832\n",
      "Training - Epoch [2/60], Step [40/100], Loss: 0.9287\n",
      "Training - Epoch [2/60], Step [50/100], Loss: 0.6221\n",
      "Training - Epoch [2/60], Step [60/100], Loss: 0.7108\n",
      "Training - Epoch [2/60], Step [70/100], Loss: 0.5636\n",
      "Training - Epoch [2/60], Step [80/100], Loss: 0.5259\n",
      "Training - Epoch [2/60], Step [90/100], Loss: 0.8977\n",
      "Training - Epoch [2/60], Step [100/100], Loss: 0.7804\n",
      "Validation - Epoch [2/60], Loss: 3.2579, Accuracy: 0.0662\n",
      "Epoch 3\n",
      "-------------------------------\n",
      "Training - Epoch [3/60], Step [10/100], Loss: 0.3532\n",
      "Training - Epoch [3/60], Step [20/100], Loss: 0.5410\n",
      "Training - Epoch [3/60], Step [30/100], Loss: 0.6847\n",
      "Training - Epoch [3/60], Step [40/100], Loss: 0.4030\n",
      "Training - Epoch [3/60], Step [50/100], Loss: 0.3055\n",
      "Training - Epoch [3/60], Step [60/100], Loss: 0.3266\n",
      "Training - Epoch [3/60], Step [70/100], Loss: 0.3273\n",
      "Training - Epoch [3/60], Step [80/100], Loss: 0.2736\n",
      "Training - Epoch [3/60], Step [90/100], Loss: 0.3011\n",
      "Training - Epoch [3/60], Step [100/100], Loss: 0.5530\n",
      "Validation - Epoch [3/60], Loss: 3.2375, Accuracy: 0.0693\n",
      "Model saved as mobilenet_v3_small_font_classifier_1000.pth\n",
      "Epoch 4\n",
      "-------------------------------\n",
      "Training - Epoch [4/60], Step [10/100], Loss: 0.1822\n",
      "Training - Epoch [4/60], Step [20/100], Loss: 0.2362\n",
      "Training - Epoch [4/60], Step [30/100], Loss: 0.3250\n",
      "Training - Epoch [4/60], Step [40/100], Loss: 0.2241\n",
      "Training - Epoch [4/60], Step [50/100], Loss: 0.1548\n",
      "Training - Epoch [4/60], Step [60/100], Loss: 0.2188\n",
      "Training - Epoch [4/60], Step [70/100], Loss: 0.3204\n",
      "Training - Epoch [4/60], Step [80/100], Loss: 0.1658\n",
      "Training - Epoch [4/60], Step [90/100], Loss: 0.3054\n",
      "Training - Epoch [4/60], Step [100/100], Loss: 0.1482\n",
      "Validation - Epoch [4/60], Loss: 3.0675, Accuracy: 0.0862\n",
      "Model saved as mobilenet_v3_small_font_classifier_1000.pth\n",
      "Epoch 5\n",
      "-------------------------------\n",
      "Training - Epoch [5/60], Step [10/100], Loss: 0.1899\n",
      "Training - Epoch [5/60], Step [20/100], Loss: 0.1807\n",
      "Training - Epoch [5/60], Step [30/100], Loss: 0.1108\n",
      "Training - Epoch [5/60], Step [40/100], Loss: 0.1922\n",
      "Training - Epoch [5/60], Step [50/100], Loss: 0.1731\n",
      "Training - Epoch [5/60], Step [60/100], Loss: 0.1047\n",
      "Training - Epoch [5/60], Step [70/100], Loss: 0.1021\n",
      "Training - Epoch [5/60], Step [80/100], Loss: 0.1457\n",
      "Training - Epoch [5/60], Step [90/100], Loss: 0.2305\n",
      "Training - Epoch [5/60], Step [100/100], Loss: 0.2316\n",
      "Validation - Epoch [5/60], Loss: 1.9417, Accuracy: 0.3444\n",
      "Model saved as mobilenet_v3_small_font_classifier_1000.pth\n",
      "Epoch 6\n",
      "-------------------------------\n",
      "Training - Epoch [6/60], Step [10/100], Loss: 0.1099\n",
      "Training - Epoch [6/60], Step [20/100], Loss: 0.1688\n",
      "Training - Epoch [6/60], Step [30/100], Loss: 0.1140\n",
      "Training - Epoch [6/60], Step [40/100], Loss: 0.1130\n",
      "Training - Epoch [6/60], Step [50/100], Loss: 0.2004\n",
      "Training - Epoch [6/60], Step [60/100], Loss: 0.1353\n",
      "Training - Epoch [6/60], Step [70/100], Loss: 0.1485\n",
      "Training - Epoch [6/60], Step [80/100], Loss: 0.0583\n",
      "Training - Epoch [6/60], Step [90/100], Loss: 0.0293\n",
      "Training - Epoch [6/60], Step [100/100], Loss: 0.1217\n",
      "Validation - Epoch [6/60], Loss: 0.4762, Accuracy: 0.8471\n",
      "Model saved as mobilenet_v3_small_font_classifier_1000.pth\n",
      "Epoch 7\n",
      "-------------------------------\n",
      "Training - Epoch [7/60], Step [10/100], Loss: 0.0675\n",
      "Training - Epoch [7/60], Step [20/100], Loss: 0.1088\n",
      "Training - Epoch [7/60], Step [30/100], Loss: 0.1666\n",
      "Training - Epoch [7/60], Step [40/100], Loss: 0.1455\n",
      "Training - Epoch [7/60], Step [50/100], Loss: 0.0581\n",
      "Training - Epoch [7/60], Step [60/100], Loss: 0.0836\n",
      "Training - Epoch [7/60], Step [70/100], Loss: 0.1231\n",
      "Training - Epoch [7/60], Step [80/100], Loss: 0.2741\n",
      "Training - Epoch [7/60], Step [90/100], Loss: 0.1714\n",
      "Training - Epoch [7/60], Step [100/100], Loss: 0.0520\n",
      "Validation - Epoch [7/60], Loss: 0.1726, Accuracy: 0.9431\n",
      "Model saved as mobilenet_v3_small_font_classifier_1000.pth\n",
      "Epoch 8\n",
      "-------------------------------\n",
      "Training - Epoch [8/60], Step [10/100], Loss: 0.1178\n",
      "Training - Epoch [8/60], Step [20/100], Loss: 0.0584\n",
      "Training - Epoch [8/60], Step [30/100], Loss: 0.0360\n",
      "Training - Epoch [8/60], Step [40/100], Loss: 0.0393\n",
      "Training - Epoch [8/60], Step [50/100], Loss: 0.2398\n",
      "Training - Epoch [8/60], Step [60/100], Loss: 0.0298\n",
      "Training - Epoch [8/60], Step [70/100], Loss: 0.0271\n",
      "Training - Epoch [8/60], Step [80/100], Loss: 0.2034\n",
      "Training - Epoch [8/60], Step [90/100], Loss: 0.1490\n",
      "Training - Epoch [8/60], Step [100/100], Loss: 0.0448\n",
      "Validation - Epoch [8/60], Loss: 0.2459, Accuracy: 0.9347\n",
      "Epoch 9\n",
      "-------------------------------\n",
      "Training - Epoch [9/60], Step [10/100], Loss: 0.0517\n",
      "Training - Epoch [9/60], Step [20/100], Loss: 0.1480\n",
      "Training - Epoch [9/60], Step [30/100], Loss: 0.0363\n",
      "Training - Epoch [9/60], Step [40/100], Loss: 0.0759\n",
      "Training - Epoch [9/60], Step [50/100], Loss: 0.1042\n",
      "Training - Epoch [9/60], Step [60/100], Loss: 0.0481\n",
      "Training - Epoch [9/60], Step [70/100], Loss: 0.0508\n",
      "Training - Epoch [9/60], Step [80/100], Loss: 0.0858\n",
      "Training - Epoch [9/60], Step [90/100], Loss: 0.1451\n",
      "Training - Epoch [9/60], Step [100/100], Loss: 0.0763\n",
      "Validation - Epoch [9/60], Loss: 1.1293, Accuracy: 0.8182\n",
      "Epoch 10\n",
      "-------------------------------\n",
      "Training - Epoch [10/60], Step [10/100], Loss: 0.1839\n",
      "Training - Epoch [10/60], Step [20/100], Loss: 0.0772\n",
      "Training - Epoch [10/60], Step [30/100], Loss: 0.4157\n",
      "Training - Epoch [10/60], Step [40/100], Loss: 0.1314\n",
      "Training - Epoch [10/60], Step [50/100], Loss: 0.0161\n",
      "Training - Epoch [10/60], Step [60/100], Loss: 0.0701\n",
      "Training - Epoch [10/60], Step [70/100], Loss: 0.0699\n",
      "Training - Epoch [10/60], Step [80/100], Loss: 0.0402\n",
      "Training - Epoch [10/60], Step [90/100], Loss: 0.0479\n",
      "Training - Epoch [10/60], Step [100/100], Loss: 0.0510\n",
      "Validation - Epoch [10/60], Loss: 0.2885, Accuracy: 0.9316\n",
      "Epoch 11\n",
      "-------------------------------\n",
      "Training - Epoch [11/60], Step [10/100], Loss: 0.0357\n",
      "Training - Epoch [11/60], Step [20/100], Loss: 0.0752\n",
      "Training - Epoch [11/60], Step [30/100], Loss: 0.0306\n",
      "Training - Epoch [11/60], Step [40/100], Loss: 0.0027\n",
      "Training - Epoch [11/60], Step [50/100], Loss: 0.0183\n",
      "Training - Epoch [11/60], Step [60/100], Loss: 0.0499\n",
      "Training - Epoch [11/60], Step [70/100], Loss: 0.0062\n",
      "Training - Epoch [11/60], Step [80/100], Loss: 0.0922\n",
      "Training - Epoch [11/60], Step [90/100], Loss: 0.0459\n",
      "Training - Epoch [11/60], Step [100/100], Loss: 0.2058\n",
      "Validation - Epoch [11/60], Loss: 0.0857, Accuracy: 0.9716\n",
      "Model saved as mobilenet_v3_small_font_classifier_1000.pth\n",
      "Epoch 12\n",
      "-------------------------------\n",
      "Training - Epoch [12/60], Step [10/100], Loss: 0.1224\n",
      "Training - Epoch [12/60], Step [20/100], Loss: 0.0239\n",
      "Training - Epoch [12/60], Step [30/100], Loss: 0.0631\n",
      "Training - Epoch [12/60], Step [40/100], Loss: 0.0126\n",
      "Training - Epoch [12/60], Step [50/100], Loss: 0.0225\n",
      "Training - Epoch [12/60], Step [60/100], Loss: 0.0211\n",
      "Training - Epoch [12/60], Step [70/100], Loss: 0.0504\n",
      "Training - Epoch [12/60], Step [80/100], Loss: 0.0816\n",
      "Training - Epoch [12/60], Step [90/100], Loss: 0.1042\n",
      "Training - Epoch [12/60], Step [100/100], Loss: 0.1031\n",
      "Validation - Epoch [12/60], Loss: 0.1323, Accuracy: 0.9644\n",
      "Epoch 13\n",
      "-------------------------------\n",
      "Training - Epoch [13/60], Step [10/100], Loss: 0.0731\n",
      "Training - Epoch [13/60], Step [20/100], Loss: 0.0856\n",
      "Training - Epoch [13/60], Step [30/100], Loss: 0.0640\n",
      "Training - Epoch [13/60], Step [40/100], Loss: 0.0713\n",
      "Training - Epoch [13/60], Step [50/100], Loss: 0.0528\n",
      "Training - Epoch [13/60], Step [60/100], Loss: 0.2300\n",
      "Training - Epoch [13/60], Step [70/100], Loss: 0.0390\n",
      "Training - Epoch [13/60], Step [80/100], Loss: 0.1077\n",
      "Training - Epoch [13/60], Step [90/100], Loss: 0.0235\n",
      "Training - Epoch [13/60], Step [100/100], Loss: 0.1377\n",
      "Validation - Epoch [13/60], Loss: 0.2282, Accuracy: 0.9471\n",
      "Epoch 14\n",
      "-------------------------------\n",
      "Training - Epoch [14/60], Step [10/100], Loss: 0.0348\n",
      "Training - Epoch [14/60], Step [20/100], Loss: 0.1086\n",
      "Training - Epoch [14/60], Step [30/100], Loss: 0.0156\n",
      "Training - Epoch [14/60], Step [40/100], Loss: 0.0774\n",
      "Training - Epoch [14/60], Step [50/100], Loss: 0.0141\n",
      "Training - Epoch [14/60], Step [60/100], Loss: 0.0474\n",
      "Training - Epoch [14/60], Step [70/100], Loss: 0.0814\n",
      "Training - Epoch [14/60], Step [80/100], Loss: 0.0721\n",
      "Training - Epoch [14/60], Step [90/100], Loss: 0.0097\n",
      "Training - Epoch [14/60], Step [100/100], Loss: 0.0398\n",
      "Validation - Epoch [14/60], Loss: 0.1807, Accuracy: 0.9524\n",
      "Epoch 15\n",
      "-------------------------------\n",
      "Training - Epoch [15/60], Step [10/100], Loss: 0.0196\n",
      "Training - Epoch [15/60], Step [20/100], Loss: 0.1357\n",
      "Training - Epoch [15/60], Step [30/100], Loss: 0.0544\n",
      "Training - Epoch [15/60], Step [40/100], Loss: 0.1054\n",
      "Training - Epoch [15/60], Step [50/100], Loss: 0.0219\n",
      "Training - Epoch [15/60], Step [60/100], Loss: 0.0553\n",
      "Training - Epoch [15/60], Step [70/100], Loss: 0.0422\n",
      "Training - Epoch [15/60], Step [80/100], Loss: 0.0113\n",
      "Training - Epoch [15/60], Step [90/100], Loss: 0.3541\n",
      "Training - Epoch [15/60], Step [100/100], Loss: 0.0364\n",
      "Validation - Epoch [15/60], Loss: 0.1557, Accuracy: 0.9609\n",
      "Epoch 16\n",
      "-------------------------------\n",
      "Training - Epoch [16/60], Step [10/100], Loss: 0.0929\n",
      "Training - Epoch [16/60], Step [20/100], Loss: 0.0157\n",
      "Training - Epoch [16/60], Step [30/100], Loss: 0.0232\n",
      "Training - Epoch [16/60], Step [40/100], Loss: 0.0244\n",
      "Training - Epoch [16/60], Step [50/100], Loss: 0.0845\n",
      "Training - Epoch [16/60], Step [60/100], Loss: 0.0868\n",
      "Training - Epoch [16/60], Step [70/100], Loss: 0.0793\n",
      "Training - Epoch [16/60], Step [80/100], Loss: 0.0063\n",
      "Training - Epoch [16/60], Step [90/100], Loss: 0.0041\n",
      "Training - Epoch [16/60], Step [100/100], Loss: 0.0591\n",
      "Validation - Epoch [16/60], Loss: 0.2948, Accuracy: 0.9342\n",
      "Epoch 17\n",
      "-------------------------------\n",
      "Training - Epoch [17/60], Step [10/100], Loss: 0.0429\n",
      "Training - Epoch [17/60], Step [20/100], Loss: 0.0239\n",
      "Training - Epoch [17/60], Step [30/100], Loss: 0.0073\n",
      "Training - Epoch [17/60], Step [40/100], Loss: 0.0325\n",
      "Training - Epoch [17/60], Step [50/100], Loss: 0.0351\n",
      "Training - Epoch [17/60], Step [60/100], Loss: 0.1217\n",
      "Training - Epoch [17/60], Step [70/100], Loss: 0.0442\n",
      "Training - Epoch [17/60], Step [80/100], Loss: 0.0037\n",
      "Training - Epoch [17/60], Step [90/100], Loss: 0.0613\n",
      "Training - Epoch [17/60], Step [100/100], Loss: 0.0179\n",
      "Validation - Epoch [17/60], Loss: 0.1746, Accuracy: 0.9582\n",
      "Epoch 18\n",
      "-------------------------------\n",
      "Training - Epoch [18/60], Step [10/100], Loss: 0.0043\n",
      "Training - Epoch [18/60], Step [20/100], Loss: 0.0443\n",
      "Training - Epoch [18/60], Step [30/100], Loss: 0.0073\n",
      "Training - Epoch [18/60], Step [40/100], Loss: 0.0802\n",
      "Training - Epoch [18/60], Step [50/100], Loss: 0.0216\n",
      "Training - Epoch [18/60], Step [60/100], Loss: 0.0065\n",
      "Training - Epoch [18/60], Step [70/100], Loss: 0.1376\n",
      "Training - Epoch [18/60], Step [80/100], Loss: 0.0646\n",
      "Training - Epoch [18/60], Step [90/100], Loss: 0.0338\n",
      "Training - Epoch [18/60], Step [100/100], Loss: 0.0191\n",
      "Validation - Epoch [18/60], Loss: 0.3801, Accuracy: 0.9062\n",
      "Epoch 19\n",
      "-------------------------------\n",
      "Training - Epoch [19/60], Step [10/100], Loss: 0.0547\n",
      "Training - Epoch [19/60], Step [20/100], Loss: 0.1399\n",
      "Training - Epoch [19/60], Step [30/100], Loss: 0.0055\n",
      "Training - Epoch [19/60], Step [40/100], Loss: 0.0225\n",
      "Training - Epoch [19/60], Step [50/100], Loss: 0.0421\n",
      "Training - Epoch [19/60], Step [60/100], Loss: 0.0239\n",
      "Training - Epoch [19/60], Step [70/100], Loss: 0.1169\n",
      "Training - Epoch [19/60], Step [80/100], Loss: 0.0445\n",
      "Training - Epoch [19/60], Step [90/100], Loss: 0.0789\n",
      "Training - Epoch [19/60], Step [100/100], Loss: 0.0861\n",
      "Validation - Epoch [19/60], Loss: 0.1990, Accuracy: 0.9471\n",
      "Epoch 20\n",
      "-------------------------------\n",
      "Training - Epoch [20/60], Step [10/100], Loss: 0.0824\n",
      "Training - Epoch [20/60], Step [20/100], Loss: 0.0546\n",
      "Training - Epoch [20/60], Step [30/100], Loss: 0.0485\n",
      "Training - Epoch [20/60], Step [40/100], Loss: 0.0257\n",
      "Training - Epoch [20/60], Step [50/100], Loss: 0.0029\n",
      "Training - Epoch [20/60], Step [60/100], Loss: 0.0218\n",
      "Training - Epoch [20/60], Step [70/100], Loss: 0.0116\n",
      "Training - Epoch [20/60], Step [80/100], Loss: 0.0172\n",
      "Training - Epoch [20/60], Step [90/100], Loss: 0.0683\n",
      "Training - Epoch [20/60], Step [100/100], Loss: 0.1016\n",
      "Validation - Epoch [20/60], Loss: 0.2185, Accuracy: 0.9484\n",
      "Epoch 21\n",
      "-------------------------------\n",
      "Training - Epoch [21/60], Step [10/100], Loss: 0.0295\n",
      "Training - Epoch [21/60], Step [20/100], Loss: 0.0534\n",
      "Training - Epoch [21/60], Step [30/100], Loss: 0.0553\n",
      "Training - Epoch [21/60], Step [40/100], Loss: 0.0125\n",
      "Training - Epoch [21/60], Step [50/100], Loss: 0.0619\n",
      "Training - Epoch [21/60], Step [60/100], Loss: 0.0104\n",
      "Training - Epoch [21/60], Step [70/100], Loss: 0.0749\n",
      "Training - Epoch [21/60], Step [80/100], Loss: 0.0651\n",
      "Training - Epoch [21/60], Step [90/100], Loss: 0.0249\n",
      "Training - Epoch [21/60], Step [100/100], Loss: 0.0040\n",
      "Validation - Epoch [21/60], Loss: 0.1629, Accuracy: 0.9667\n",
      "Epoch 22\n",
      "-------------------------------\n",
      "Training - Epoch [22/60], Step [10/100], Loss: 0.0706\n",
      "Training - Epoch [22/60], Step [20/100], Loss: 0.0478\n",
      "Training - Epoch [22/60], Step [30/100], Loss: 0.0351\n",
      "Training - Epoch [22/60], Step [40/100], Loss: 0.0552\n",
      "Training - Epoch [22/60], Step [50/100], Loss: 0.0359\n",
      "Training - Epoch [22/60], Step [60/100], Loss: 0.0187\n",
      "Training - Epoch [22/60], Step [70/100], Loss: 0.0044\n",
      "Training - Epoch [22/60], Step [80/100], Loss: 0.0546\n",
      "Training - Epoch [22/60], Step [90/100], Loss: 0.0263\n",
      "Training - Epoch [22/60], Step [100/100], Loss: 0.0069\n",
      "Validation - Epoch [22/60], Loss: 0.1964, Accuracy: 0.9493\n",
      "Epoch 23\n",
      "-------------------------------\n",
      "Training - Epoch [23/60], Step [10/100], Loss: 0.0012\n",
      "Training - Epoch [23/60], Step [20/100], Loss: 0.0278\n",
      "Training - Epoch [23/60], Step [30/100], Loss: 0.0167\n",
      "Training - Epoch [23/60], Step [40/100], Loss: 0.0198\n",
      "Training - Epoch [23/60], Step [50/100], Loss: 0.0108\n",
      "Training - Epoch [23/60], Step [60/100], Loss: 0.0664\n",
      "Training - Epoch [23/60], Step [70/100], Loss: 0.0341\n",
      "Training - Epoch [23/60], Step [80/100], Loss: 0.0278\n",
      "Training - Epoch [23/60], Step [90/100], Loss: 0.0579\n",
      "Training - Epoch [23/60], Step [100/100], Loss: 0.0166\n",
      "Validation - Epoch [23/60], Loss: 0.1356, Accuracy: 0.9720\n",
      "Epoch 24\n",
      "-------------------------------\n",
      "Training - Epoch [24/60], Step [10/100], Loss: 0.0318\n",
      "Training - Epoch [24/60], Step [20/100], Loss: 0.1658\n",
      "Training - Epoch [24/60], Step [30/100], Loss: 0.2352\n",
      "Training - Epoch [24/60], Step [40/100], Loss: 0.1908\n",
      "Training - Epoch [24/60], Step [50/100], Loss: 0.0088\n",
      "Training - Epoch [24/60], Step [60/100], Loss: 0.0127\n",
      "Training - Epoch [24/60], Step [70/100], Loss: 0.0573\n",
      "Training - Epoch [24/60], Step [80/100], Loss: 0.0230\n",
      "Training - Epoch [24/60], Step [90/100], Loss: 0.0121\n",
      "Training - Epoch [24/60], Step [100/100], Loss: 0.0188\n",
      "Validation - Epoch [24/60], Loss: 0.1055, Accuracy: 0.9773\n",
      "Epoch 25\n",
      "-------------------------------\n",
      "Training - Epoch [25/60], Step [10/100], Loss: 0.0015\n",
      "Training - Epoch [25/60], Step [20/100], Loss: 0.0076\n",
      "Training - Epoch [25/60], Step [30/100], Loss: 0.0010\n",
      "Training - Epoch [25/60], Step [40/100], Loss: 0.0123\n",
      "Training - Epoch [25/60], Step [50/100], Loss: 0.0259\n",
      "Training - Epoch [25/60], Step [60/100], Loss: 0.0052\n",
      "Training - Epoch [25/60], Step [70/100], Loss: 0.0151\n",
      "Training - Epoch [25/60], Step [80/100], Loss: 0.0096\n",
      "Training - Epoch [25/60], Step [90/100], Loss: 0.0038\n",
      "Training - Epoch [25/60], Step [100/100], Loss: 0.0090\n",
      "Validation - Epoch [25/60], Loss: 0.1097, Accuracy: 0.9716\n",
      "Epoch 26\n",
      "-------------------------------\n",
      "Training - Epoch [26/60], Step [10/100], Loss: 0.0086\n",
      "Training - Epoch [26/60], Step [20/100], Loss: 0.0004\n",
      "Training - Epoch [26/60], Step [30/100], Loss: 0.0055\n",
      "Training - Epoch [26/60], Step [40/100], Loss: 0.0035\n",
      "Training - Epoch [26/60], Step [50/100], Loss: 0.0475\n",
      "Training - Epoch [26/60], Step [60/100], Loss: 0.0019\n",
      "Training - Epoch [26/60], Step [70/100], Loss: 0.0936\n",
      "Training - Epoch [26/60], Step [80/100], Loss: 0.0038\n",
      "Training - Epoch [26/60], Step [90/100], Loss: 0.0063\n",
      "Training - Epoch [26/60], Step [100/100], Loss: 0.0044\n",
      "Validation - Epoch [26/60], Loss: 0.4262, Accuracy: 0.9076\n",
      "Epoch 27\n",
      "-------------------------------\n",
      "Training - Epoch [27/60], Step [10/100], Loss: 0.0189\n",
      "Training - Epoch [27/60], Step [20/100], Loss: 0.0250\n",
      "Training - Epoch [27/60], Step [30/100], Loss: 0.0021\n",
      "Training - Epoch [27/60], Step [40/100], Loss: 0.0121\n",
      "Training - Epoch [27/60], Step [50/100], Loss: 0.0444\n",
      "Training - Epoch [27/60], Step [60/100], Loss: 0.0161\n",
      "Training - Epoch [27/60], Step [70/100], Loss: 0.0027\n",
      "Training - Epoch [27/60], Step [80/100], Loss: 0.0696\n",
      "Training - Epoch [27/60], Step [90/100], Loss: 0.0071\n",
      "Training - Epoch [27/60], Step [100/100], Loss: 0.0315\n",
      "Validation - Epoch [27/60], Loss: 0.0813, Accuracy: 0.9800\n",
      "Model saved as mobilenet_v3_small_font_classifier_1000.pth\n",
      "Epoch 28\n",
      "-------------------------------\n",
      "Training - Epoch [28/60], Step [10/100], Loss: 0.0036\n",
      "Training - Epoch [28/60], Step [20/100], Loss: 0.0381\n",
      "Training - Epoch [28/60], Step [30/100], Loss: 0.0015\n",
      "Training - Epoch [28/60], Step [40/100], Loss: 0.0021\n",
      "Training - Epoch [28/60], Step [50/100], Loss: 0.0172\n",
      "Training - Epoch [28/60], Step [60/100], Loss: 0.0648\n",
      "Training - Epoch [28/60], Step [70/100], Loss: 0.0337\n",
      "Training - Epoch [28/60], Step [80/100], Loss: 0.1416\n",
      "Training - Epoch [28/60], Step [90/100], Loss: 0.0274\n",
      "Training - Epoch [28/60], Step [100/100], Loss: 0.0813\n",
      "Validation - Epoch [28/60], Loss: 0.0866, Accuracy: 0.9778\n",
      "Epoch 29\n",
      "-------------------------------\n",
      "Training - Epoch [29/60], Step [10/100], Loss: 0.0474\n",
      "Training - Epoch [29/60], Step [20/100], Loss: 0.0024\n",
      "Training - Epoch [29/60], Step [30/100], Loss: 0.0087\n",
      "Training - Epoch [29/60], Step [40/100], Loss: 0.0174\n",
      "Training - Epoch [29/60], Step [50/100], Loss: 0.0703\n",
      "Training - Epoch [29/60], Step [60/100], Loss: 0.0016\n",
      "Training - Epoch [29/60], Step [70/100], Loss: 0.0520\n",
      "Training - Epoch [29/60], Step [80/100], Loss: 0.0070\n",
      "Training - Epoch [29/60], Step [90/100], Loss: 0.0170\n",
      "Training - Epoch [29/60], Step [100/100], Loss: 0.0233\n",
      "Validation - Epoch [29/60], Loss: 0.1032, Accuracy: 0.9716\n",
      "Epoch 30\n",
      "-------------------------------\n",
      "Training - Epoch [30/60], Step [10/100], Loss: 0.0157\n",
      "Training - Epoch [30/60], Step [20/100], Loss: 0.0054\n",
      "Training - Epoch [30/60], Step [30/100], Loss: 0.0342\n",
      "Training - Epoch [30/60], Step [40/100], Loss: 0.0002\n",
      "Training - Epoch [30/60], Step [50/100], Loss: 0.0104\n",
      "Training - Epoch [30/60], Step [60/100], Loss: 0.0053\n",
      "Training - Epoch [30/60], Step [70/100], Loss: 0.0225\n",
      "Training - Epoch [30/60], Step [80/100], Loss: 0.0226\n",
      "Training - Epoch [30/60], Step [90/100], Loss: 0.0482\n",
      "Training - Epoch [30/60], Step [100/100], Loss: 0.0530\n",
      "Validation - Epoch [30/60], Loss: 0.0703, Accuracy: 0.9822\n",
      "Model saved as mobilenet_v3_small_font_classifier_1000.pth\n",
      "Epoch 31\n",
      "-------------------------------\n",
      "Training - Epoch [31/60], Step [10/100], Loss: 0.0603\n",
      "Training - Epoch [31/60], Step [20/100], Loss: 0.0227\n",
      "Training - Epoch [31/60], Step [30/100], Loss: 0.0238\n",
      "Training - Epoch [31/60], Step [40/100], Loss: 0.0281\n",
      "Training - Epoch [31/60], Step [50/100], Loss: 0.0552\n",
      "Training - Epoch [31/60], Step [60/100], Loss: 0.0279\n",
      "Training - Epoch [31/60], Step [70/100], Loss: 0.0041\n",
      "Training - Epoch [31/60], Step [80/100], Loss: 0.0219\n",
      "Training - Epoch [31/60], Step [90/100], Loss: 0.0990\n",
      "Training - Epoch [31/60], Step [100/100], Loss: 0.0065\n",
      "Validation - Epoch [31/60], Loss: 0.1834, Accuracy: 0.9644\n",
      "Epoch 32\n",
      "-------------------------------\n",
      "Training - Epoch [32/60], Step [10/100], Loss: 0.0044\n",
      "Training - Epoch [32/60], Step [20/100], Loss: 0.0116\n",
      "Training - Epoch [32/60], Step [30/100], Loss: 0.0466\n",
      "Training - Epoch [32/60], Step [40/100], Loss: 0.0016\n",
      "Training - Epoch [32/60], Step [50/100], Loss: 0.0024\n",
      "Training - Epoch [32/60], Step [60/100], Loss: 0.0676\n",
      "Training - Epoch [32/60], Step [70/100], Loss: 0.1248\n",
      "Training - Epoch [32/60], Step [80/100], Loss: 0.1268\n",
      "Training - Epoch [32/60], Step [90/100], Loss: 0.0802\n",
      "Training - Epoch [32/60], Step [100/100], Loss: 0.1033\n",
      "Validation - Epoch [32/60], Loss: 1.4125, Accuracy: 0.8707\n",
      "Epoch 33\n",
      "-------------------------------\n",
      "Training - Epoch [33/60], Step [10/100], Loss: 0.0156\n",
      "Training - Epoch [33/60], Step [20/100], Loss: 0.0579\n",
      "Training - Epoch [33/60], Step [30/100], Loss: 0.0380\n",
      "Training - Epoch [33/60], Step [40/100], Loss: 0.0024\n",
      "Training - Epoch [33/60], Step [50/100], Loss: 0.0193\n",
      "Training - Epoch [33/60], Step [60/100], Loss: 0.0070\n",
      "Training - Epoch [33/60], Step [70/100], Loss: 0.0460\n",
      "Training - Epoch [33/60], Step [80/100], Loss: 0.0049\n",
      "Training - Epoch [33/60], Step [90/100], Loss: 0.0595\n",
      "Training - Epoch [33/60], Step [100/100], Loss: 0.0163\n",
      "Validation - Epoch [33/60], Loss: 0.1036, Accuracy: 0.9773\n",
      "Epoch 34\n",
      "-------------------------------\n",
      "Training - Epoch [34/60], Step [10/100], Loss: 0.0016\n",
      "Training - Epoch [34/60], Step [20/100], Loss: 0.0172\n",
      "Training - Epoch [34/60], Step [30/100], Loss: 0.0214\n",
      "Training - Epoch [34/60], Step [40/100], Loss: 0.0305\n",
      "Training - Epoch [34/60], Step [50/100], Loss: 0.0229\n",
      "Training - Epoch [34/60], Step [60/100], Loss: 0.0019\n",
      "Training - Epoch [34/60], Step [70/100], Loss: 0.0045\n",
      "Training - Epoch [34/60], Step [80/100], Loss: 0.0021\n",
      "Training - Epoch [34/60], Step [90/100], Loss: 0.0006\n",
      "Training - Epoch [34/60], Step [100/100], Loss: 0.0066\n",
      "Validation - Epoch [34/60], Loss: 0.0773, Accuracy: 0.9800\n",
      "Epoch 35\n",
      "-------------------------------\n",
      "Training - Epoch [35/60], Step [10/100], Loss: 0.0252\n",
      "Training - Epoch [35/60], Step [20/100], Loss: 0.0333\n",
      "Training - Epoch [35/60], Step [30/100], Loss: 0.0310\n",
      "Training - Epoch [35/60], Step [40/100], Loss: 0.0125\n",
      "Training - Epoch [35/60], Step [50/100], Loss: 0.1211\n",
      "Training - Epoch [35/60], Step [60/100], Loss: 0.0957\n",
      "Training - Epoch [35/60], Step [70/100], Loss: 0.1134\n",
      "Training - Epoch [35/60], Step [80/100], Loss: 0.0528\n",
      "Training - Epoch [35/60], Step [90/100], Loss: 0.0138\n",
      "Training - Epoch [35/60], Step [100/100], Loss: 0.0425\n",
      "Validation - Epoch [35/60], Loss: 0.1643, Accuracy: 0.9720\n",
      "Epoch 36\n",
      "-------------------------------\n",
      "Training - Epoch [36/60], Step [10/100], Loss: 0.0023\n",
      "Training - Epoch [36/60], Step [20/100], Loss: 0.0053\n",
      "Training - Epoch [36/60], Step [30/100], Loss: 0.0041\n",
      "Training - Epoch [36/60], Step [40/100], Loss: 0.0468\n",
      "Training - Epoch [36/60], Step [50/100], Loss: 0.0048\n",
      "Training - Epoch [36/60], Step [60/100], Loss: 0.0232\n",
      "Training - Epoch [36/60], Step [70/100], Loss: 0.0140\n",
      "Training - Epoch [36/60], Step [80/100], Loss: 0.0127\n",
      "Training - Epoch [36/60], Step [90/100], Loss: 0.0011\n",
      "Training - Epoch [36/60], Step [100/100], Loss: 0.0060\n",
      "Validation - Epoch [36/60], Loss: 0.0523, Accuracy: 0.9880\n",
      "Model saved as mobilenet_v3_small_font_classifier_1000.pth\n",
      "Epoch 37\n",
      "-------------------------------\n",
      "Training - Epoch [37/60], Step [10/100], Loss: 0.0007\n",
      "Training - Epoch [37/60], Step [20/100], Loss: 0.0013\n",
      "Training - Epoch [37/60], Step [30/100], Loss: 0.0050\n",
      "Training - Epoch [37/60], Step [40/100], Loss: 0.0013\n",
      "Training - Epoch [37/60], Step [50/100], Loss: 0.0022\n",
      "Training - Epoch [37/60], Step [60/100], Loss: 0.0241\n",
      "Training - Epoch [37/60], Step [70/100], Loss: 0.0030\n",
      "Training - Epoch [37/60], Step [80/100], Loss: 0.0010\n",
      "Training - Epoch [37/60], Step [90/100], Loss: 0.0171\n",
      "Training - Epoch [37/60], Step [100/100], Loss: 0.0003\n",
      "Validation - Epoch [37/60], Loss: 0.2480, Accuracy: 0.9560\n",
      "Epoch 38\n",
      "-------------------------------\n",
      "Training - Epoch [38/60], Step [10/100], Loss: 0.0134\n",
      "Training - Epoch [38/60], Step [20/100], Loss: 0.0135\n",
      "Training - Epoch [38/60], Step [30/100], Loss: 0.0558\n",
      "Training - Epoch [38/60], Step [40/100], Loss: 0.0334\n",
      "Training - Epoch [38/60], Step [50/100], Loss: 0.0575\n",
      "Training - Epoch [38/60], Step [60/100], Loss: 0.0052\n",
      "Training - Epoch [38/60], Step [70/100], Loss: 0.0054\n",
      "Training - Epoch [38/60], Step [80/100], Loss: 0.0049\n",
      "Training - Epoch [38/60], Step [90/100], Loss: 0.0466\n",
      "Training - Epoch [38/60], Step [100/100], Loss: 0.0136\n",
      "Validation - Epoch [38/60], Loss: 0.0589, Accuracy: 0.9871\n",
      "Epoch 39\n",
      "-------------------------------\n",
      "Training - Epoch [39/60], Step [10/100], Loss: 0.0074\n",
      "Training - Epoch [39/60], Step [20/100], Loss: 0.0024\n",
      "Training - Epoch [39/60], Step [30/100], Loss: 0.0005\n",
      "Training - Epoch [39/60], Step [40/100], Loss: 0.0059\n",
      "Training - Epoch [39/60], Step [50/100], Loss: 0.0012\n",
      "Training - Epoch [39/60], Step [60/100], Loss: 0.0147\n",
      "Training - Epoch [39/60], Step [70/100], Loss: 0.0596\n",
      "Training - Epoch [39/60], Step [80/100], Loss: 0.0364\n",
      "Training - Epoch [39/60], Step [90/100], Loss: 0.0036\n",
      "Training - Epoch [39/60], Step [100/100], Loss: 0.0017\n",
      "Validation - Epoch [39/60], Loss: 0.2167, Accuracy: 0.9596\n",
      "Epoch 40\n",
      "-------------------------------\n",
      "Training - Epoch [40/60], Step [10/100], Loss: 0.0178\n",
      "Training - Epoch [40/60], Step [20/100], Loss: 0.0905\n",
      "Training - Epoch [40/60], Step [30/100], Loss: 0.0456\n",
      "Training - Epoch [40/60], Step [40/100], Loss: 0.0032\n",
      "Training - Epoch [40/60], Step [50/100], Loss: 0.0275\n",
      "Training - Epoch [40/60], Step [60/100], Loss: 0.0067\n",
      "Training - Epoch [40/60], Step [70/100], Loss: 0.0029\n",
      "Training - Epoch [40/60], Step [80/100], Loss: 0.0075\n",
      "Training - Epoch [40/60], Step [90/100], Loss: 0.0774\n",
      "Training - Epoch [40/60], Step [100/100], Loss: 0.0039\n",
      "Validation - Epoch [40/60], Loss: 0.1505, Accuracy: 0.9747\n",
      "Epoch 41\n",
      "-------------------------------\n",
      "Training - Epoch [41/60], Step [10/100], Loss: 0.0022\n",
      "Training - Epoch [41/60], Step [20/100], Loss: 0.0060\n",
      "Training - Epoch [41/60], Step [30/100], Loss: 0.0004\n",
      "Training - Epoch [41/60], Step [40/100], Loss: 0.0165\n",
      "Training - Epoch [41/60], Step [50/100], Loss: 0.0968\n",
      "Training - Epoch [41/60], Step [60/100], Loss: 0.0023\n",
      "Training - Epoch [41/60], Step [70/100], Loss: 0.0515\n",
      "Training - Epoch [41/60], Step [80/100], Loss: 0.0126\n",
      "Training - Epoch [41/60], Step [90/100], Loss: 0.0650\n",
      "Training - Epoch [41/60], Step [100/100], Loss: 0.0999\n",
      "Validation - Epoch [41/60], Loss: 0.1636, Accuracy: 0.9618\n",
      "Epoch 42\n",
      "-------------------------------\n",
      "Training - Epoch [42/60], Step [10/100], Loss: 0.0463\n",
      "Training - Epoch [42/60], Step [20/100], Loss: 0.0005\n",
      "Training - Epoch [42/60], Step [30/100], Loss: 0.0655\n",
      "Training - Epoch [42/60], Step [40/100], Loss: 0.0029\n",
      "Training - Epoch [42/60], Step [50/100], Loss: 0.0051\n",
      "Training - Epoch [42/60], Step [60/100], Loss: 0.0055\n",
      "Training - Epoch [42/60], Step [70/100], Loss: 0.0019\n",
      "Training - Epoch [42/60], Step [80/100], Loss: 0.0009\n",
      "Training - Epoch [42/60], Step [90/100], Loss: 0.0008\n",
      "Training - Epoch [42/60], Step [100/100], Loss: 0.0007\n",
      "Validation - Epoch [42/60], Loss: 0.0664, Accuracy: 0.9809\n",
      "Epoch 43\n",
      "-------------------------------\n",
      "Training - Epoch [43/60], Step [10/100], Loss: 0.0038\n",
      "Training - Epoch [43/60], Step [20/100], Loss: 0.0015\n",
      "Training - Epoch [43/60], Step [30/100], Loss: 0.0341\n",
      "Training - Epoch [43/60], Step [40/100], Loss: 0.0018\n",
      "Training - Epoch [43/60], Step [50/100], Loss: 0.0004\n",
      "Training - Epoch [43/60], Step [60/100], Loss: 0.0010\n",
      "Training - Epoch [43/60], Step [70/100], Loss: 0.0003\n",
      "Training - Epoch [43/60], Step [80/100], Loss: 0.0112\n",
      "Training - Epoch [43/60], Step [90/100], Loss: 0.0017\n",
      "Training - Epoch [43/60], Step [100/100], Loss: 0.0343\n",
      "Validation - Epoch [43/60], Loss: 0.1557, Accuracy: 0.9613\n",
      "Epoch 44\n",
      "-------------------------------\n",
      "Training - Epoch [44/60], Step [10/100], Loss: 0.0120\n",
      "Training - Epoch [44/60], Step [20/100], Loss: 0.1044\n",
      "Training - Epoch [44/60], Step [30/100], Loss: 0.0059\n",
      "Training - Epoch [44/60], Step [40/100], Loss: 0.0031\n",
      "Training - Epoch [44/60], Step [50/100], Loss: 0.4155\n",
      "Training - Epoch [44/60], Step [60/100], Loss: 0.0774\n",
      "Training - Epoch [44/60], Step [70/100], Loss: 0.0151\n",
      "Training - Epoch [44/60], Step [80/100], Loss: 0.0105\n",
      "Training - Epoch [44/60], Step [90/100], Loss: 0.0017\n",
      "Training - Epoch [44/60], Step [100/100], Loss: 0.0006\n",
      "Validation - Epoch [44/60], Loss: 0.1678, Accuracy: 0.9693\n",
      "Epoch 45\n",
      "-------------------------------\n",
      "Training - Epoch [45/60], Step [10/100], Loss: 0.1188\n",
      "Training - Epoch [45/60], Step [20/100], Loss: 0.6963\n",
      "Training - Epoch [45/60], Step [30/100], Loss: 0.0305\n",
      "Training - Epoch [45/60], Step [40/100], Loss: 0.0768\n",
      "Training - Epoch [45/60], Step [50/100], Loss: 0.1358\n",
      "Training - Epoch [45/60], Step [60/100], Loss: 0.1164\n",
      "Training - Epoch [45/60], Step [70/100], Loss: 0.0876\n",
      "Training - Epoch [45/60], Step [80/100], Loss: 0.1351\n",
      "Training - Epoch [45/60], Step [90/100], Loss: 0.0311\n",
      "Training - Epoch [45/60], Step [100/100], Loss: 0.0414\n",
      "Validation - Epoch [45/60], Loss: 1.5681, Accuracy: 0.8253\n",
      "Epoch 46\n",
      "-------------------------------\n",
      "Training - Epoch [46/60], Step [10/100], Loss: 0.0305\n",
      "Training - Epoch [46/60], Step [20/100], Loss: 0.0068\n",
      "Training - Epoch [46/60], Step [30/100], Loss: 0.0732\n",
      "Training - Epoch [46/60], Step [40/100], Loss: 0.0242\n",
      "Training - Epoch [46/60], Step [50/100], Loss: 0.1043\n",
      "Training - Epoch [46/60], Step [60/100], Loss: 0.0409\n",
      "Training - Epoch [46/60], Step [70/100], Loss: 0.0262\n",
      "Training - Epoch [46/60], Step [80/100], Loss: 0.0086\n",
      "Training - Epoch [46/60], Step [90/100], Loss: 0.0136\n",
      "Training - Epoch [46/60], Step [100/100], Loss: 0.0486\n",
      "Validation - Epoch [46/60], Loss: 0.2959, Accuracy: 0.9524\n",
      "Epoch 47\n",
      "-------------------------------\n",
      "Training - Epoch [47/60], Step [10/100], Loss: 0.0099\n",
      "Training - Epoch [47/60], Step [20/100], Loss: 0.0120\n",
      "Training - Epoch [47/60], Step [30/100], Loss: 0.0601\n",
      "Training - Epoch [47/60], Step [40/100], Loss: 0.0402\n",
      "Training - Epoch [47/60], Step [50/100], Loss: 0.0041\n",
      "Training - Epoch [47/60], Step [60/100], Loss: 0.2654\n",
      "Training - Epoch [47/60], Step [70/100], Loss: 0.1112\n",
      "Training - Epoch [47/60], Step [80/100], Loss: 0.0014\n",
      "Training - Epoch [47/60], Step [90/100], Loss: 0.0124\n",
      "Training - Epoch [47/60], Step [100/100], Loss: 0.0092\n",
      "Validation - Epoch [47/60], Loss: 0.0900, Accuracy: 0.9769\n",
      "Epoch 48\n",
      "-------------------------------\n",
      "Training - Epoch [48/60], Step [10/100], Loss: 0.0173\n",
      "Training - Epoch [48/60], Step [20/100], Loss: 0.0022\n",
      "Training - Epoch [48/60], Step [30/100], Loss: 0.0420\n",
      "Training - Epoch [48/60], Step [40/100], Loss: 0.0015\n",
      "Training - Epoch [48/60], Step [50/100], Loss: 0.0010\n",
      "Training - Epoch [48/60], Step [60/100], Loss: 0.0993\n",
      "Training - Epoch [48/60], Step [70/100], Loss: 0.0101\n",
      "Training - Epoch [48/60], Step [80/100], Loss: 0.0024\n",
      "Training - Epoch [48/60], Step [90/100], Loss: 0.0017\n",
      "Training - Epoch [48/60], Step [100/100], Loss: 0.0113\n",
      "Validation - Epoch [48/60], Loss: 0.0698, Accuracy: 0.9822\n",
      "Epoch 49\n",
      "-------------------------------\n",
      "Training - Epoch [49/60], Step [10/100], Loss: 0.0027\n",
      "Training - Epoch [49/60], Step [20/100], Loss: 0.0030\n",
      "Training - Epoch [49/60], Step [30/100], Loss: 0.0060\n",
      "Training - Epoch [49/60], Step [40/100], Loss: 0.0001\n",
      "Training - Epoch [49/60], Step [50/100], Loss: 0.0066\n",
      "Training - Epoch [49/60], Step [60/100], Loss: 0.0007\n",
      "Training - Epoch [49/60], Step [70/100], Loss: 0.0271\n",
      "Training - Epoch [49/60], Step [80/100], Loss: 0.0047\n",
      "Training - Epoch [49/60], Step [90/100], Loss: 0.0021\n",
      "Training - Epoch [49/60], Step [100/100], Loss: 0.0003\n",
      "Validation - Epoch [49/60], Loss: 0.0503, Accuracy: 0.9867\n",
      "Model saved as mobilenet_v3_small_font_classifier_1000.pth\n",
      "Epoch 50\n",
      "-------------------------------\n",
      "Training - Epoch [50/60], Step [10/100], Loss: 0.0003\n",
      "Training - Epoch [50/60], Step [20/100], Loss: 0.0077\n",
      "Training - Epoch [50/60], Step [30/100], Loss: 0.0018\n",
      "Training - Epoch [50/60], Step [40/100], Loss: 0.0018\n",
      "Training - Epoch [50/60], Step [50/100], Loss: 0.0003\n",
      "Training - Epoch [50/60], Step [60/100], Loss: 0.0561\n",
      "Training - Epoch [50/60], Step [70/100], Loss: 0.0114\n",
      "Training - Epoch [50/60], Step [80/100], Loss: 0.0012\n",
      "Training - Epoch [50/60], Step [90/100], Loss: 0.0561\n",
      "Training - Epoch [50/60], Step [100/100], Loss: 0.1136\n",
      "Validation - Epoch [50/60], Loss: 0.1094, Accuracy: 0.9796\n",
      "Epoch 51\n",
      "-------------------------------\n",
      "Training - Epoch [51/60], Step [10/100], Loss: 0.0005\n",
      "Training - Epoch [51/60], Step [20/100], Loss: 0.0177\n",
      "Training - Epoch [51/60], Step [30/100], Loss: 0.0008\n",
      "Training - Epoch [51/60], Step [40/100], Loss: 0.1060\n",
      "Training - Epoch [51/60], Step [50/100], Loss: 0.0365\n",
      "Training - Epoch [51/60], Step [60/100], Loss: 0.0006\n",
      "Training - Epoch [51/60], Step [70/100], Loss: 0.0089\n",
      "Training - Epoch [51/60], Step [80/100], Loss: 0.0051\n",
      "Training - Epoch [51/60], Step [90/100], Loss: 0.0013\n",
      "Training - Epoch [51/60], Step [100/100], Loss: 0.0186\n",
      "Validation - Epoch [51/60], Loss: 0.0605, Accuracy: 0.9871\n",
      "Epoch 52\n",
      "-------------------------------\n",
      "Training - Epoch [52/60], Step [10/100], Loss: 0.0103\n",
      "Training - Epoch [52/60], Step [20/100], Loss: 0.0011\n",
      "Training - Epoch [52/60], Step [30/100], Loss: 0.0081\n",
      "Training - Epoch [52/60], Step [40/100], Loss: 0.0012\n",
      "Training - Epoch [52/60], Step [50/100], Loss: 0.0207\n",
      "Training - Epoch [52/60], Step [60/100], Loss: 0.0004\n",
      "Training - Epoch [52/60], Step [70/100], Loss: 0.0386\n",
      "Training - Epoch [52/60], Step [80/100], Loss: 0.0008\n",
      "Training - Epoch [52/60], Step [90/100], Loss: 0.0021\n",
      "Training - Epoch [52/60], Step [100/100], Loss: 0.0010\n",
      "Validation - Epoch [52/60], Loss: 0.0767, Accuracy: 0.9876\n",
      "Epoch 53\n",
      "-------------------------------\n",
      "Training - Epoch [53/60], Step [10/100], Loss: 0.0021\n",
      "Training - Epoch [53/60], Step [20/100], Loss: 0.0004\n",
      "Training - Epoch [53/60], Step [30/100], Loss: 0.0009\n",
      "Training - Epoch [53/60], Step [40/100], Loss: 0.0080\n",
      "Training - Epoch [53/60], Step [50/100], Loss: 0.0011\n",
      "Training - Epoch [53/60], Step [60/100], Loss: 0.0005\n",
      "Training - Epoch [53/60], Step [70/100], Loss: 0.0193\n",
      "Training - Epoch [53/60], Step [80/100], Loss: 0.0021\n",
      "Training - Epoch [53/60], Step [90/100], Loss: 0.0017\n",
      "Training - Epoch [53/60], Step [100/100], Loss: 0.0258\n",
      "Validation - Epoch [53/60], Loss: 0.0759, Accuracy: 0.9804\n",
      "Epoch 54\n",
      "-------------------------------\n",
      "Training - Epoch [54/60], Step [10/100], Loss: 0.0459\n",
      "Training - Epoch [54/60], Step [20/100], Loss: 0.0092\n",
      "Training - Epoch [54/60], Step [30/100], Loss: 0.0054\n",
      "Training - Epoch [54/60], Step [40/100], Loss: 0.0001\n",
      "Training - Epoch [54/60], Step [50/100], Loss: 0.0422\n",
      "Training - Epoch [54/60], Step [60/100], Loss: 0.0056\n",
      "Training - Epoch [54/60], Step [70/100], Loss: 0.0169\n",
      "Training - Epoch [54/60], Step [80/100], Loss: 0.0083\n",
      "Training - Epoch [54/60], Step [90/100], Loss: 0.0002\n",
      "Training - Epoch [54/60], Step [100/100], Loss: 0.0007\n",
      "Validation - Epoch [54/60], Loss: 0.0794, Accuracy: 0.9862\n",
      "Epoch 55\n",
      "-------------------------------\n",
      "Training - Epoch [55/60], Step [10/100], Loss: 0.0011\n",
      "Training - Epoch [55/60], Step [20/100], Loss: 0.0007\n",
      "Training - Epoch [55/60], Step [30/100], Loss: 0.0002\n",
      "Training - Epoch [55/60], Step [40/100], Loss: 0.0010\n",
      "Training - Epoch [55/60], Step [50/100], Loss: 0.0006\n",
      "Training - Epoch [55/60], Step [60/100], Loss: 0.0001\n",
      "Training - Epoch [55/60], Step [70/100], Loss: 0.0033\n",
      "Training - Epoch [55/60], Step [80/100], Loss: 0.0020\n",
      "Training - Epoch [55/60], Step [90/100], Loss: 0.0057\n",
      "Training - Epoch [55/60], Step [100/100], Loss: 0.0025\n",
      "Validation - Epoch [55/60], Loss: 0.0738, Accuracy: 0.9862\n",
      "Epoch 56\n",
      "-------------------------------\n",
      "Training - Epoch [56/60], Step [10/100], Loss: 0.0018\n",
      "Training - Epoch [56/60], Step [20/100], Loss: 0.0130\n",
      "Training - Epoch [56/60], Step [30/100], Loss: 0.0442\n",
      "Training - Epoch [56/60], Step [40/100], Loss: 0.0017\n",
      "Training - Epoch [56/60], Step [50/100], Loss: 0.0178\n",
      "Training - Epoch [56/60], Step [60/100], Loss: 0.0044\n",
      "Training - Epoch [56/60], Step [70/100], Loss: 0.0021\n",
      "Training - Epoch [56/60], Step [80/100], Loss: 0.1366\n",
      "Training - Epoch [56/60], Step [90/100], Loss: 0.0206\n",
      "Training - Epoch [56/60], Step [100/100], Loss: 0.0016\n",
      "Validation - Epoch [56/60], Loss: 0.1585, Accuracy: 0.9698\n",
      "Epoch 57\n",
      "-------------------------------\n",
      "Training - Epoch [57/60], Step [10/100], Loss: 0.0002\n",
      "Training - Epoch [57/60], Step [20/100], Loss: 0.0103\n",
      "Training - Epoch [57/60], Step [30/100], Loss: 0.0835\n",
      "Training - Epoch [57/60], Step [40/100], Loss: 0.0064\n",
      "Training - Epoch [57/60], Step [50/100], Loss: 0.0055\n",
      "Training - Epoch [57/60], Step [60/100], Loss: 0.0051\n",
      "Training - Epoch [57/60], Step [70/100], Loss: 0.0167\n",
      "Training - Epoch [57/60], Step [80/100], Loss: 0.0658\n",
      "Training - Epoch [57/60], Step [90/100], Loss: 0.0111\n",
      "Training - Epoch [57/60], Step [100/100], Loss: 0.0088\n",
      "Validation - Epoch [57/60], Loss: 0.1112, Accuracy: 0.9742\n",
      "Epoch 58\n",
      "-------------------------------\n",
      "Training - Epoch [58/60], Step [10/100], Loss: 0.0021\n",
      "Training - Epoch [58/60], Step [20/100], Loss: 0.0021\n",
      "Training - Epoch [58/60], Step [30/100], Loss: 0.0061\n",
      "Training - Epoch [58/60], Step [40/100], Loss: 0.0532\n",
      "Training - Epoch [58/60], Step [50/100], Loss: 0.0032\n",
      "Training - Epoch [58/60], Step [60/100], Loss: 0.0532\n",
      "Training - Epoch [58/60], Step [70/100], Loss: 0.0261\n",
      "Training - Epoch [58/60], Step [80/100], Loss: 0.0049\n",
      "Training - Epoch [58/60], Step [90/100], Loss: 0.0036\n",
      "Training - Epoch [58/60], Step [100/100], Loss: 0.0050\n",
      "Validation - Epoch [58/60], Loss: 0.1390, Accuracy: 0.9707\n",
      "Epoch 59\n",
      "-------------------------------\n",
      "Training - Epoch [59/60], Step [10/100], Loss: 0.0131\n",
      "Training - Epoch [59/60], Step [20/100], Loss: 0.0481\n",
      "Training - Epoch [59/60], Step [30/100], Loss: 0.0099\n",
      "Training - Epoch [59/60], Step [40/100], Loss: 0.0027\n",
      "Training - Epoch [59/60], Step [50/100], Loss: 0.0411\n",
      "Training - Epoch [59/60], Step [60/100], Loss: 0.0053\n",
      "Training - Epoch [59/60], Step [70/100], Loss: 0.0015\n",
      "Training - Epoch [59/60], Step [80/100], Loss: 0.0021\n",
      "Training - Epoch [59/60], Step [90/100], Loss: 0.0012\n",
      "Training - Epoch [59/60], Step [100/100], Loss: 0.0027\n",
      "Validation - Epoch [59/60], Loss: 0.1366, Accuracy: 0.9760\n",
      "Epoch 60\n",
      "-------------------------------\n",
      "Training - Epoch [60/60], Step [10/100], Loss: 0.0040\n",
      "Training - Epoch [60/60], Step [20/100], Loss: 0.0006\n",
      "Training - Epoch [60/60], Step [30/100], Loss: 0.0133\n",
      "Training - Epoch [60/60], Step [40/100], Loss: 0.0016\n",
      "Training - Epoch [60/60], Step [50/100], Loss: 0.0258\n",
      "Training - Epoch [60/60], Step [60/100], Loss: 0.0038\n",
      "Training - Epoch [60/60], Step [70/100], Loss: 0.0049\n",
      "Training - Epoch [60/60], Step [80/100], Loss: 0.0431\n",
      "Training - Epoch [60/60], Step [90/100], Loss: 0.0186\n",
      "Training - Epoch [60/60], Step [100/100], Loss: 0.0223\n",
      "Validation - Epoch [60/60], Loss: 0.2135, Accuracy: 0.9538\n"
     ]
    }
   ],
   "source": [
    "# Define the loss function\n",
    "criterion = torch.nn.CrossEntropyLoss()\n",
    "\n",
    "# Define the optimizer\n",
    "optimizer = torch.optim.Adam(model.parameters(), lr=0.001)\n",
    "\n",
    "# Training loop\n",
    "num_epochs = 60\n",
    "best_val_loss = float('inf')\n",
    "\n",
    "# Lists to store training and validation metrics for plotting\n",
    "train_losses = []\n",
    "train_accuracies = []\n",
    "val_losses = []\n",
    "val_accuracies = []\n",
    "\n",
    "# Set the model to training mode\n",
    "model.train()\n",
    "\n",
    "# Start the training loop\n",
    "start_time = time.time()\n",
    "for epoch in range(num_epochs):\n",
    "    print(f'Epoch {epoch + 1}\\n-------------------------------')\n",
    "    # Training phase\n",
    "    model.train()\n",
    "    train_loss = 0.0\n",
    "    correct_train = 0\n",
    "    total_train = 0\n",
    "    for i, (inputs, labels) in enumerate(train_loader):\n",
    "        inputs = inputs.to(device)\n",
    "        labels = labels.to(device)\n",
    "\n",
    "        # Forward pass\n",
    "        outputs = model(inputs)\n",
    "        loss = criterion(outputs, labels)\n",
    "\n",
    "        # Backward pass\n",
    "        optimizer.zero_grad()\n",
    "        loss.backward()\n",
    "        optimizer.step()\n",
    "\n",
    "        train_loss += loss.item() * inputs.size(0)\n",
    "        \n",
    "        # Calculate accuracy\n",
    "        _, predicted = torch.max(outputs, 1)\n",
    "        total_train += labels.size(0)\n",
    "        correct_train += (predicted == labels).sum().item()\n",
    "\n",
    "        # Print training statistics\n",
    "        if (i + 1) % 10 == 0:\n",
    "            print(f'Training - Epoch [{epoch + 1}/{num_epochs}], Step [{i + 1}/{len(train_loader)}], Loss: {loss.item():.4f}')\n",
    "\n",
    "    # Calculate average training loss and accuracy\n",
    "    train_loss /= len(train_loader.dataset)\n",
    "    train_accuracy = correct_train / total_train\n",
    "    train_losses.append(train_loss)\n",
    "    train_accuracies.append(train_accuracy)\n",
    "    \n",
    "    # Validation phase\n",
    "    model.eval()\n",
    "    val_loss = 0.0\n",
    "    correct_val = 0\n",
    "    total_val = 0\n",
    "    with torch.no_grad():\n",
    "        for i, (inputs, labels) in enumerate(val_loader):\n",
    "            inputs = inputs.to(device)\n",
    "            labels = labels.to(device)\n",
    "\n",
    "            # Forward pass\n",
    "            outputs = model(inputs)\n",
    "            loss = criterion(outputs, labels)\n",
    "\n",
    "            val_loss += loss.item() * inputs.size(0)\n",
    "\n",
    "            # Calculate accuracy\n",
    "            _, predicted = torch.max(outputs, 1)\n",
    "            total_val += labels.size(0)\n",
    "            correct_val += (predicted == labels).sum().item()\n",
    "\n",
    "    # Print validation statistics\n",
    "    val_loss /= len(val_loader.dataset)\n",
    "    val_accuracy = correct_val / total_val\n",
    "    val_losses.append(val_loss)\n",
    "    val_accuracies.append(val_accuracy)\n",
    "    print(f'Validation - Epoch [{epoch + 1}/{num_epochs}], Loss: {val_loss:.4f}, Accuracy: {val_accuracy:.4f}')\n",
    "\n",
    "    # Save the model if validation loss decreases\n",
    "    if val_loss < best_val_loss:\n",
    "        best_val_loss = val_loss\n",
    "        torch.save(model.state_dict(), f'../../models/{scope}/{model_name}_font_classifier_{type}.pth')\n",
    "        print(f'Model saved as {model_name}_font_classifier_{type}.pth')\n",
    "\n",
    "end_time = time.time()"
   ],
   "metadata": {
    "collapsed": false,
    "ExecuteTime": {
     "end_time": "2024-04-29T12:28:37.028352Z",
     "start_time": "2024-04-29T11:48:19.250454Z"
    }
   },
   "id": "126f35f98051a02a",
   "execution_count": 7
  },
  {
   "cell_type": "markdown",
   "source": [
    "# Plot the training and validation metrics"
   ],
   "metadata": {
    "collapsed": false
   },
   "id": "2f8d840ac9117197"
  },
  {
   "cell_type": "code",
   "outputs": [
    {
     "data": {
      "text/plain": "<Figure size 1200x500 with 2 Axes>",
      "image/png": "[encoded data removed]"
     },
     "metadata": {},
     "output_type": "display_data"
    },
    {
     "name": "stdout",
     "output_type": "stream",
     "text": [
      "Finished Training\n",
      "Time taken for training: 2417.76 seconds\n",
      "Medium time per epoch: 40.30 seconds\n"
     ]
    }
   ],
   "source": [
    "# Plotting\n",
    "plt.figure(figsize=(12, 5))\n",
    "plt.subplot(1, 2, 1)\n",
    "plt.plot(range(1, num_epochs + 1), train_losses, label='Training Loss')\n",
    "plt.plot(range(1, num_epochs + 1), val_losses, label='Validation Loss')\n",
    "plt.xlabel('Epochs')\n",
    "plt.ylabel('Loss')\n",
    "plt.title('Training and Validation Loss')\n",
    "plt.legend()\n",
    "\n",
    "plt.subplot(1, 2, 2)\n",
    "plt.plot(range(1, num_epochs + 1), train_accuracies, label='Training Accuracy')\n",
    "plt.plot(range(1, num_epochs + 1), val_accuracies, label='Validation Accuracy')\n",
    "plt.xlabel('Epochs')\n",
    "plt.ylabel('Accuracy')\n",
    "plt.title('Training and Validation Accuracy')\n",
    "plt.legend()\n",
    "\n",
    "plt.tight_layout()\n",
    "plt.show()\n",
    "\n",
    "print('Finished Training')\n",
    "\n",
    "# Print the time taken for training\n",
    "print(f'Time taken for training: {end_time - start_time:.2f} seconds')\n",
    "## Print medium time per epoch\n",
    "print(f'Medium time per epoch: {(end_time - start_time)/num_epochs:.2f} seconds')"
   ],
   "metadata": {
    "collapsed": false,
    "ExecuteTime": {
     "end_time": "2024-04-29T12:28:37.397352Z",
     "start_time": "2024-04-29T12:28:37.029351Z"
    }
   },
   "id": "2fb4051fe48bcb0f",
   "execution_count": 8
  },
  {
   "cell_type": "markdown",
   "source": [
    "# Evaluate the model"
   ],
   "metadata": {
    "collapsed": false
   },
   "id": "5d1120839a43965"
  },
  {
   "cell_type": "markdown",
   "source": [
    "## Load the model"
   ],
   "metadata": {
    "collapsed": false
   },
   "id": "f38ec7e7c9fc2bd2"
  },
  {
   "cell_type": "code",
   "outputs": [
    {
     "name": "stdout",
     "output_type": "stream",
     "text": [
      "Model loaded from ../../models/DatasetSize/mobilenet_v3_small_font_classifier_1000.pth\n"
     ]
    }
   ],
   "source": [
    "# Load the model\n",
    "model_path = f'../../models/{scope}/{model_name}_font_classifier_{type}.pth'\n",
    "model = models.__dict__[model_name](weights=None)\n",
    "model.load_state_dict(torch.load(model_path))\n",
    "model = model.to(device)\n",
    "print(f'Model loaded from {model_path}')"
   ],
   "metadata": {
    "collapsed": false,
    "ExecuteTime": {
     "end_time": "2024-04-29T12:28:37.473351Z",
     "start_time": "2024-04-29T12:28:37.398352Z"
    }
   },
   "id": "2d59abb3cc4d4ab1",
   "execution_count": 9
  },
  {
   "cell_type": "markdown",
   "source": [
    "## Evaluate the model\n",
    "Evaluate the model using the test set. We will compute the accuracy, precision, recall, F1-score, confusion matrix, and ROC curve."
   ],
   "metadata": {
    "collapsed": false
   },
   "id": "c4fb0a8cc4c7aaaf"
  },
  {
   "cell_type": "code",
   "outputs": [],
   "source": [
    "# Set the model to evaluation mode\n",
    "model.eval()\n",
    "\n",
    "# Initialize lists for true labels and predicted labels\n",
    "true_labels = []\n",
    "predicted_labels = []\n",
    "\n",
    "# Disable gradient computation for evaluation\n",
    "with torch.no_grad():\n",
    "    for images, labels in test_loader:\n",
    "        images = images.to(device)\n",
    "        labels = labels.to(device)\n",
    "\n",
    "        # Perform inference\n",
    "        outputs = model(images)\n",
    "        \n",
    "        # Compute predicted labels\n",
    "        _, predicted = torch.max(outputs.data, 1)\n",
    "        \n",
    "        # Append true and predicted labels to lists\n",
    "        true_labels.extend(labels.cpu().numpy())\n",
    "        predicted_labels.extend(predicted.cpu().numpy())\n",
    "\n",
    "# Convert lists to numpy arrays\n",
    "true_labels = np.array(true_labels)\n",
    "predicted_labels = np.array(predicted_labels)"
   ],
   "metadata": {
    "collapsed": false,
    "ExecuteTime": {
     "end_time": "2024-04-29T12:28:46.756275Z",
     "start_time": "2024-04-29T12:28:37.474352Z"
    }
   },
   "id": "d94dccfec1ca328d",
   "execution_count": 10
  },
  {
   "cell_type": "markdown",
   "source": [
    "## Compute metrics\n",
    "### Accuracy"
   ],
   "metadata": {
    "collapsed": false
   },
   "id": "7fc2137e6729efa2"
  },
  {
   "cell_type": "code",
   "outputs": [
    {
     "name": "stdout",
     "output_type": "stream",
     "text": [
      "Accuracy: 99.11%\n"
     ]
    }
   ],
   "source": [
    "accuracy = accuracy_score(true_labels, predicted_labels)\n",
    "print('Accuracy: {:.2f}%'.format(100 * accuracy))"
   ],
   "metadata": {
    "collapsed": false,
    "ExecuteTime": {
     "end_time": "2024-04-29T12:28:46.772275Z",
     "start_time": "2024-04-29T12:28:46.757276Z"
    }
   },
   "id": "101581d76f4e9326",
   "execution_count": 11
  },
  {
   "cell_type": "markdown",
   "source": [
    "### Precision"
   ],
   "metadata": {
    "collapsed": false
   },
   "id": "8c872a168687bbb9"
  },
  {
   "cell_type": "code",
   "outputs": [
    {
     "name": "stdout",
     "output_type": "stream",
     "text": [
      "Precision: 0.99\n"
     ]
    }
   ],
   "source": [
    "precision = precision_score(true_labels, predicted_labels, average='weighted')\n",
    "print('Precision: {:.2f}'.format(precision))"
   ],
   "metadata": {
    "collapsed": false,
    "ExecuteTime": {
     "end_time": "2024-04-29T12:28:46.788277Z",
     "start_time": "2024-04-29T12:28:46.774275Z"
    }
   },
   "id": "c0a1514893d52da3",
   "execution_count": 12
  },
  {
   "cell_type": "markdown",
   "source": [
    "### Recall"
   ],
   "metadata": {
    "collapsed": false
   },
   "id": "2d6709ac0ed49e7d"
  },
  {
   "cell_type": "code",
   "outputs": [
    {
     "name": "stdout",
     "output_type": "stream",
     "text": [
      "Recall: 0.99\n"
     ]
    }
   ],
   "source": [
    "recall = recall_score(true_labels, predicted_labels, average='weighted')\n",
    "print('Recall: {:.2f}'.format(recall))"
   ],
   "metadata": {
    "collapsed": false,
    "ExecuteTime": {
     "end_time": "2024-04-29T12:28:46.803277Z",
     "start_time": "2024-04-29T12:28:46.789277Z"
    }
   },
   "id": "cbe9cce2d6d4b849",
   "execution_count": 13
  },
  {
   "cell_type": "markdown",
   "source": [
    "### F1-score"
   ],
   "metadata": {
    "collapsed": false
   },
   "id": "a6a9ab8eaf4a00c9"
  },
  {
   "cell_type": "code",
   "outputs": [
    {
     "name": "stdout",
     "output_type": "stream",
     "text": [
      "F1-score: 0.99\n"
     ]
    }
   ],
   "source": [
    "f1 = f1_score(true_labels, predicted_labels, average='weighted')\n",
    "print('F1-score: {:.2f}'.format(f1))"
   ],
   "metadata": {
    "collapsed": false,
    "ExecuteTime": {
     "end_time": "2024-04-29T12:28:46.818275Z",
     "start_time": "2024-04-29T12:28:46.804276Z"
    }
   },
   "id": "2a87268c3e7e9e88",
   "execution_count": 14
  },
  {
   "cell_type": "markdown",
   "source": [
    "### Confusion matrix"
   ],
   "metadata": {
    "collapsed": false
   },
   "id": "3687c7ed9e290b52"
  },
  {
   "cell_type": "code",
   "outputs": [
    {
     "name": "stdout",
     "output_type": "stream",
     "text": [
      "Confusion Matrix:\n"
     ]
    },
    {
     "data": {
      "text/plain": "<Figure size 640x480 with 1 Axes>",
      "image/png": "[encoded data removed]"
     },
     "metadata": {},
     "output_type": "display_data"
    }
   ],
   "source": [
    "conf_matrix = confusion_matrix(true_labels, predicted_labels)\n",
    "print(f'Confusion Matrix:')\n",
    "sns.heatmap(conf_matrix, annot=True, cmap='Blues', fmt='g', cbar=False, xticklabels=class_names, yticklabels=class_names)\n",
    "plt.title('Confusion Matrix')\n",
    "plt.xlabel('Predicted Label')\n",
    "plt.ylabel('True Label')\n",
    "plt.show()"
   ],
   "metadata": {
    "collapsed": false,
    "ExecuteTime": {
     "end_time": "2024-04-29T12:28:47.359584Z",
     "start_time": "2024-04-29T12:28:46.819275Z"
    }
   },
   "id": "6a06849bad215169",
   "execution_count": 15
  },
  {
   "cell_type": "markdown",
   "source": [
    "### ROC curve"
   ],
   "metadata": {
    "collapsed": false
   },
   "id": "8f7a1268072e6e09"
  },
  {
   "cell_type": "code",
   "outputs": [
    {
     "data": {
      "text/plain": "[<matplotlib.lines.Line2D at 0x1e0946e42b0>]"
     },
     "execution_count": 16,
     "metadata": {},
     "output_type": "execute_result"
    },
    {
     "data": {
      "text/plain": "<Figure size 640x480 with 1 Axes>",
      "image/png": "[encoded data removed]"
     },
     "metadata": {},
     "output_type": "display_data"
    }
   ],
   "source": [
    "# Binarize the true labels\n",
    "true_labels_binarized = label_binarize(true_labels, classes=range(len(class_names)))\n",
    "\n",
    "# Binarize the predicted labels\n",
    "predicted_labels_binarized = label_binarize(predicted_labels, classes=range(len(class_names)))\n",
    "\n",
    "# Compute the ROC curve\n",
    "fpr = dict()\n",
    "tpr = dict()\n",
    "roc_auc = dict()\n",
    "for i in range(len(class_names)):\n",
    "    fpr[i], tpr[i], _ = roc_curve(true_labels_binarized[:, i], predicted_labels_binarized[:, i])\n",
    "    roc_auc[i] = auc(fpr[i], tpr[i])\n",
    "    \n",
    "# Plot the ROC curve\n",
    "plt.figure()\n",
    "for i in range(len(class_names)):\n",
    "    plt.plot(fpr[i], tpr[i], lw=2, label=f'ROC curve for class {class_names[i]} (area = {roc_auc[i]:0.2f})')\n",
    "plt.plot([0, 1], [0, 1], 'k--', lw=2)"
   ],
   "metadata": {
    "collapsed": false,
    "ExecuteTime": {
     "end_time": "2024-04-29T12:28:47.527585Z",
     "start_time": "2024-04-29T12:28:47.360585Z"
    }
   },
   "id": "6c7b4767f613c314",
   "execution_count": 16
  },
  {
   "cell_type": "markdown",
   "source": [],
   "metadata": {
    "collapsed": false
   },
   "id": "c4d8c6f85ef0d72c"
  }
 ],
 "metadata": {
  "kernelspec": {
   "display_name": "Python 3",
   "language": "python",
   "name": "python3"
  },
  "language_info": {
   "codemirror_mode": {
    "name": "ipython",
    "version": 2
   },
   "file_extension": ".py",
   "mimetype": "text/x-python",
   "name": "python",
   "nbconvert_exporter": "python",
   "pygments_lexer": "ipython2",
   "version": "2.7.6"
  }
 },
 "nbformat": 4,
 "nbformat_minor": 5
}
