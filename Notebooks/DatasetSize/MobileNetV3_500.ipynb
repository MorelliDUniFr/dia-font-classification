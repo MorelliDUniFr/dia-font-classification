{
 "cells": [
  {
   "cell_type": "markdown",
   "source": [
    "# Font Classification with PyTorch and MobileNetV3\n",
    "In this notebook, we will use the PyTorch deep learning framework to train a MobileNetV3 model to classify fonts. We will use the `torchvision` library to load the dataset and the `sklearn` library to evaluate the model using accuracy, precision, recall, F1-score, and the ROC curve. We will also visualize the confusion matrix to understand the model's performance on each class."
   ],
   "metadata": {
    "collapsed": false
   },
   "id": "4ac20b28058858bd"
  },
  {
   "cell_type": "markdown",
   "source": [
    "# Imports\n",
    "Import of the necessary libraries"
   ],
   "metadata": {
    "collapsed": false
   },
   "id": "705740ac830b5b02"
  },
  {
   "cell_type": "code",
   "outputs": [],
   "source": [
    "import numpy as np\n",
    "from torchvision import datasets, transforms\n",
    "from sklearn.metrics import accuracy_score, precision_score, recall_score, f1_score, confusion_matrix\n",
    "import seaborn as sns\n",
    "import matplotlib.pyplot as plt\n",
    "import torch\n",
    "from torchvision import models\n",
    "from torch.utils.data import DataLoader\n",
    "from sklearn.metrics import roc_curve, auc\n",
    "from sklearn.preprocessing import label_binarize\n",
    "import time\n",
    "from sys import platform"
   ],
   "metadata": {
    "collapsed": false,
    "ExecuteTime": {
     "end_time": "2024-04-29T14:13:35.388760Z",
     "start_time": "2024-04-29T14:13:32.422362Z"
    }
   },
   "id": "cd70965188811652",
   "execution_count": 1
  },
  {
   "cell_type": "markdown",
   "source": [
    "# Model choice\n",
    "Choose the model to use for training. In this case, we will use the MobileNetV3 model."
   ],
   "metadata": {
    "collapsed": false
   },
   "id": "89723516c4abb2e6"
  },
  {
   "cell_type": "code",
   "outputs": [
    {
     "name": "stdout",
     "output_type": "stream",
     "text": [
      "Using model: mobilenet_v3_small\n"
     ]
    }
   ],
   "source": [
    "model_name = 'mobilenet_v3_small'\n",
    "print(f'Using model: {model_name}')"
   ],
   "metadata": {
    "collapsed": false,
    "ExecuteTime": {
     "end_time": "2024-04-29T14:13:35.403759Z",
     "start_time": "2024-04-29T14:13:35.389762Z"
    }
   },
   "id": "ef4e56728f9785b4",
   "execution_count": 2
  },
  {
   "cell_type": "markdown",
   "source": [
    "# Loading and preparing the dataset\n",
    "Load the dataset and prepare it for training. We will resize the images to a fixed size, convert them to tensors, and normalize the pixel values.\n",
    "\n",
    "## Preprocessing\n",
    "1. Resize the images to a fixed size\n",
    "2. Convert the images to tensors\n",
    "3. Normalize the pixel values"
   ],
   "metadata": {
    "collapsed": false
   },
   "id": "b2dabad339631e94"
  },
  {
   "cell_type": "code",
   "outputs": [],
   "source": [
    "# From the dataset, we know that the images have a height of 32 pixels and a width (on average) of 150 pixels\n",
    "image_height = 32\n",
    "image_width = 150\n",
    "\n",
    "# Define the percentage of the dataset to use for training\n",
    "train_size_perc = 0.7\n",
    "\n",
    "# Set the seed for reproducibility\n",
    "torch.manual_seed(0)\n",
    "\n",
    "# Define transformations for preprocessing\n",
    "transform = transforms.Compose([\n",
    "    transforms.Resize((image_height, image_width)),  # Resize images to a fixed size\n",
    "    transforms.ToTensor(),                           # Convert images to tensors\n",
    "    transforms.Normalize(mean=[0.25, 0.25, 0.25],      # Normalize pixel values\n",
    "                         std=[0.25, 0.25, 0.25])])"
   ],
   "metadata": {
    "collapsed": false,
    "ExecuteTime": {
     "end_time": "2024-04-29T14:13:35.450761Z",
     "start_time": "2024-04-29T14:13:35.404761Z"
    }
   },
   "id": "cdc44275b7dbe9ba",
   "execution_count": 3
  },
  {
   "cell_type": "markdown",
   "source": [
    "## Load the dataset\n",
    "Load the dataset using the `ImageFolder` class from `torchvision`. We will split the dataset into training, validation, and test sets. We will use 70% of the dataset for training, 15% for validation, and 15% for testing."
   ],
   "metadata": {
    "collapsed": false
   },
   "id": "8906c87c81b7569c"
  },
  {
   "cell_type": "code",
   "outputs": [
    {
     "name": "stdout",
     "output_type": "stream",
     "text": [
      "Loaded 7500 images\n",
      "Class names: ['Algerian', 'Arial', 'Baskerville', 'Calibry', 'Calligraphy', 'Cambria', 'Comic Sans MS', 'Courier', 'Elephant', 'Fascinate', 'Georgia', 'Helvetica', 'Lucida Bright', 'Nasalization', 'Times New Roman']\n"
     ]
    }
   ],
   "source": [
    "from collections import defaultdict\n",
    "from torchvision.datasets import ImageFolder\n",
    "\n",
    "# Path to the dataset\n",
    "data_dir = '../../fonts'\n",
    "\n",
    "# Notebook scope and type\n",
    "scope = 'DatasetSize'\n",
    "type = '500'\n",
    "\n",
    "# Load the dataset using ImageFolder\n",
    "dataset = datasets.ImageFolder(root=data_dir, transform=transform)\n",
    "\n",
    "# Load only 50% of the dataset\n",
    "# Collect indices of samples for each class\n",
    "indices_by_class = defaultdict(list)\n",
    "for i, (_, label) in enumerate(dataset.samples):\n",
    "    indices_by_class[label].append(i)\n",
    "\n",
    "# Choose 500 samples for each class\n",
    "selected_indices = []\n",
    "for indices in indices_by_class.values():\n",
    "    selected_indices.extend(np.random.choice(indices, min(500, len(indices)), replace=False))\n",
    "\n",
    "# Overwrite dataset.samples with the selected samples\n",
    "dataset.samples = [dataset.samples[i] for i in selected_indices]\n",
    "\n",
    "print(f'Loaded {len(dataset)} images')\n",
    "\n",
    "# Display the class names\n",
    "print(f'Class names: {dataset.classes}')\n",
    "\n",
    "# Define the sizes of the training, validation, and test sets\n",
    "train_size = int(train_size_perc * len(dataset))  # 70% of the dataset for training\n",
    "val_size = int(((1.0 - train_size_perc)/2) * len(dataset))    # 15% for validation\n",
    "test_size = len(dataset) - train_size - val_size  # Remaining for test\n",
    "\n",
    "# Split the dataset into training, validation, and test sets\n",
    "train_dataset, val_dataset, test_dataset = torch.utils.data.random_split(\n",
    "    dataset, [train_size, val_size, test_size])\n",
    "\n",
    "# Define the batch size as a percentage of the training set, in this case 1%\n",
    "batch_size = int(train_size * 0.01)\n",
    "\n",
    "# Create data loaders for training, validation, and test sets\n",
    "train_loader = torch.utils.data.DataLoader(train_dataset, batch_size=batch_size, shuffle=True)\n",
    "val_loader = torch.utils.data.DataLoader(val_dataset, batch_size=batch_size, shuffle=True)\n",
    "test_loader = torch.utils.data.DataLoader(test_dataset, batch_size=batch_size, shuffle=False)"
   ],
   "metadata": {
    "collapsed": false,
    "ExecuteTime": {
     "end_time": "2024-04-29T14:13:35.525760Z",
     "start_time": "2024-04-29T14:13:35.451760Z"
    }
   },
   "id": "9d9c8c978a1ebdbd",
   "execution_count": 4
  },
  {
   "cell_type": "markdown",
   "source": [
    "## Dataset information"
   ],
   "metadata": {
    "collapsed": false
   },
   "id": "afdcf3568e6bb0e6"
  },
  {
   "cell_type": "code",
   "outputs": [
    {
     "name": "stdout",
     "output_type": "stream",
     "text": [
      "Number of images: 7500\n",
      "Number of batches: 101\n",
      "Batch size: 52\n",
      "Number of training images: 5250\n",
      "Number of validation images: 1125\n",
      "Number of test images: 1125\n",
      "Class names: ['Algerian', 'Arial', 'Baskerville', 'Calibry', 'Calligraphy', 'Cambria', 'Comic Sans MS', 'Courier', 'Elephant', 'Fascinate', 'Georgia', 'Helvetica', 'Lucida Bright', 'Nasalization', 'Times New Roman']\n"
     ]
    }
   ],
   "source": [
    "num_images = len(dataset)\n",
    "num_batches = len(train_loader)\n",
    "print(f'Number of images: {num_images}')\n",
    "print(f'Number of batches: {num_batches}')\n",
    "print(f'Batch size: {batch_size}')\n",
    "print(f'Number of training images: {len(train_dataset)}')\n",
    "print(f'Number of validation images: {len(val_dataset)}')\n",
    "print(f'Number of test images: {len(test_dataset)}')\n",
    "\n",
    "# Get the class names\n",
    "class_names = dataset.classes\n",
    "print(f'Class names: {class_names}')"
   ],
   "metadata": {
    "collapsed": false,
    "ExecuteTime": {
     "end_time": "2024-04-29T14:13:35.541760Z",
     "start_time": "2024-04-29T14:13:35.526760Z"
    }
   },
   "id": "1975b1b1848ca2ac",
   "execution_count": 5
  },
  {
   "cell_type": "markdown",
   "source": [
    "# Loading the model\n",
    "Load the MobileNetV3 model and move it to the device (CPU or GPU)."
   ],
   "metadata": {
    "collapsed": false
   },
   "id": "bd836b0d47a237ba"
  },
  {
   "cell_type": "code",
   "outputs": [
    {
     "name": "stdout",
     "output_type": "stream",
     "text": [
      "Model moved to cpu\n"
     ]
    }
   ],
   "source": [
    "# Load the model and replace the fully connected layer\n",
    "model = models.__dict__[model_name](weights=None)\n",
    "\n",
    "# Move model to the device (CPU or GPU)\n",
    "if platform != \"win32\":\n",
    "    device = torch.device('mps' if torch.backends.mps.is_available() else 'cpu')\n",
    "else:\n",
    "    device = torch.device('gpu' if torch.cuda.is_available() else 'cpu')\n",
    "model = model.to(device)\n",
    "print(f'Model moved to {device}')"
   ],
   "metadata": {
    "collapsed": false,
    "ExecuteTime": {
     "end_time": "2024-04-29T14:13:35.587760Z",
     "start_time": "2024-04-29T14:13:35.542762Z"
    }
   },
   "id": "8e9ad926f379fab5",
   "execution_count": 6
  },
  {
   "cell_type": "markdown",
   "source": [
    "# Training the model\n",
    "Train the model using the training set and validate it using the validation set. We will use the Adam optimizer and the CrossEntropy loss function. We will save the model with the lowest validation loss."
   ],
   "metadata": {
    "collapsed": false
   },
   "id": "eebc3e7a492ce85"
  },
  {
   "cell_type": "code",
   "outputs": [
    {
     "name": "stdout",
     "output_type": "stream",
     "text": [
      "Epoch 1\n",
      "-------------------------------\n",
      "Training - Epoch [1/60], Step [10/101], Loss: 4.2476\n",
      "Training - Epoch [1/60], Step [20/101], Loss: 2.7686\n",
      "Training - Epoch [1/60], Step [30/101], Loss: 2.6517\n",
      "Training - Epoch [1/60], Step [40/101], Loss: 2.2326\n",
      "Training - Epoch [1/60], Step [50/101], Loss: 2.1122\n",
      "Training - Epoch [1/60], Step [60/101], Loss: 1.5828\n",
      "Training - Epoch [1/60], Step [70/101], Loss: 1.6067\n",
      "Training - Epoch [1/60], Step [80/101], Loss: 1.5048\n",
      "Training - Epoch [1/60], Step [90/101], Loss: 1.2425\n",
      "Training - Epoch [1/60], Step [100/101], Loss: 0.9986\n",
      "Validation - Epoch [1/60], Loss: 3.4243, Accuracy: 0.0773\n",
      "Model saved as mobilenet_v3_small_font_classifier_500.pth\n",
      "Epoch 2\n",
      "-------------------------------\n",
      "Training - Epoch [2/60], Step [10/101], Loss: 0.9950\n",
      "Training - Epoch [2/60], Step [20/101], Loss: 0.6182\n",
      "Training - Epoch [2/60], Step [30/101], Loss: 0.9206\n",
      "Training - Epoch [2/60], Step [40/101], Loss: 0.7412\n",
      "Training - Epoch [2/60], Step [50/101], Loss: 0.7831\n",
      "Training - Epoch [2/60], Step [60/101], Loss: 0.9399\n",
      "Training - Epoch [2/60], Step [70/101], Loss: 0.7103\n",
      "Training - Epoch [2/60], Step [80/101], Loss: 0.6162\n",
      "Training - Epoch [2/60], Step [90/101], Loss: 0.5127\n",
      "Training - Epoch [2/60], Step [100/101], Loss: 0.5416\n",
      "Validation - Epoch [2/60], Loss: 3.2507, Accuracy: 0.0773\n",
      "Model saved as mobilenet_v3_small_font_classifier_500.pth\n",
      "Epoch 3\n",
      "-------------------------------\n",
      "Training - Epoch [3/60], Step [10/101], Loss: 0.4851\n",
      "Training - Epoch [3/60], Step [20/101], Loss: 0.5111\n",
      "Training - Epoch [3/60], Step [30/101], Loss: 0.7367\n",
      "Training - Epoch [3/60], Step [40/101], Loss: 0.9780\n",
      "Training - Epoch [3/60], Step [50/101], Loss: 0.5086\n",
      "Training - Epoch [3/60], Step [60/101], Loss: 0.6858\n",
      "Training - Epoch [3/60], Step [70/101], Loss: 0.6012\n",
      "Training - Epoch [3/60], Step [80/101], Loss: 0.3566\n",
      "Training - Epoch [3/60], Step [90/101], Loss: 0.2454\n",
      "Training - Epoch [3/60], Step [100/101], Loss: 0.3770\n",
      "Validation - Epoch [3/60], Loss: 3.1047, Accuracy: 0.0773\n",
      "Model saved as mobilenet_v3_small_font_classifier_500.pth\n",
      "Epoch 4\n",
      "-------------------------------\n",
      "Training - Epoch [4/60], Step [10/101], Loss: 0.6382\n",
      "Training - Epoch [4/60], Step [20/101], Loss: 0.4040\n",
      "Training - Epoch [4/60], Step [30/101], Loss: 0.3599\n",
      "Training - Epoch [4/60], Step [40/101], Loss: 0.3426\n",
      "Training - Epoch [4/60], Step [50/101], Loss: 0.5190\n",
      "Training - Epoch [4/60], Step [60/101], Loss: 0.6373\n",
      "Training - Epoch [4/60], Step [70/101], Loss: 0.5432\n",
      "Training - Epoch [4/60], Step [80/101], Loss: 0.3031\n",
      "Training - Epoch [4/60], Step [90/101], Loss: 0.2030\n",
      "Training - Epoch [4/60], Step [100/101], Loss: 0.3441\n",
      "Validation - Epoch [4/60], Loss: 2.9076, Accuracy: 0.0933\n",
      "Model saved as mobilenet_v3_small_font_classifier_500.pth\n",
      "Epoch 5\n",
      "-------------------------------\n",
      "Training - Epoch [5/60], Step [10/101], Loss: 0.4210\n",
      "Training - Epoch [5/60], Step [20/101], Loss: 0.3793\n",
      "Training - Epoch [5/60], Step [30/101], Loss: 0.1608\n",
      "Training - Epoch [5/60], Step [40/101], Loss: 0.7988\n",
      "Training - Epoch [5/60], Step [50/101], Loss: 0.2424\n",
      "Training - Epoch [5/60], Step [60/101], Loss: 0.4692\n",
      "Training - Epoch [5/60], Step [70/101], Loss: 0.4614\n",
      "Training - Epoch [5/60], Step [80/101], Loss: 0.2655\n",
      "Training - Epoch [5/60], Step [90/101], Loss: 0.3081\n",
      "Training - Epoch [5/60], Step [100/101], Loss: 0.3182\n",
      "Validation - Epoch [5/60], Loss: 1.9963, Accuracy: 0.1760\n",
      "Model saved as mobilenet_v3_small_font_classifier_500.pth\n",
      "Epoch 6\n",
      "-------------------------------\n",
      "Training - Epoch [6/60], Step [10/101], Loss: 0.1534\n",
      "Training - Epoch [6/60], Step [20/101], Loss: 0.2437\n",
      "Training - Epoch [6/60], Step [30/101], Loss: 0.2072\n",
      "Training - Epoch [6/60], Step [40/101], Loss: 0.1988\n",
      "Training - Epoch [6/60], Step [50/101], Loss: 0.1497\n",
      "Training - Epoch [6/60], Step [60/101], Loss: 0.2200\n",
      "Training - Epoch [6/60], Step [70/101], Loss: 0.1120\n",
      "Training - Epoch [6/60], Step [80/101], Loss: 0.2420\n",
      "Training - Epoch [6/60], Step [90/101], Loss: 0.4566\n",
      "Training - Epoch [6/60], Step [100/101], Loss: 0.1235\n",
      "Validation - Epoch [6/60], Loss: 0.4559, Accuracy: 0.8631\n",
      "Model saved as mobilenet_v3_small_font_classifier_500.pth\n",
      "Epoch 7\n",
      "-------------------------------\n",
      "Training - Epoch [7/60], Step [10/101], Loss: 0.1374\n",
      "Training - Epoch [7/60], Step [20/101], Loss: 0.1479\n",
      "Training - Epoch [7/60], Step [30/101], Loss: 0.1064\n",
      "Training - Epoch [7/60], Step [40/101], Loss: 0.0840\n",
      "Training - Epoch [7/60], Step [50/101], Loss: 0.1659\n",
      "Training - Epoch [7/60], Step [60/101], Loss: 0.1727\n",
      "Training - Epoch [7/60], Step [70/101], Loss: 0.4744\n",
      "Training - Epoch [7/60], Step [80/101], Loss: 0.2157\n",
      "Training - Epoch [7/60], Step [90/101], Loss: 0.3915\n",
      "Training - Epoch [7/60], Step [100/101], Loss: 0.3468\n",
      "Validation - Epoch [7/60], Loss: 0.7719, Accuracy: 0.8178\n",
      "Epoch 8\n",
      "-------------------------------\n",
      "Training - Epoch [8/60], Step [10/101], Loss: 0.1519\n",
      "Training - Epoch [8/60], Step [20/101], Loss: 0.1013\n",
      "Training - Epoch [8/60], Step [30/101], Loss: 0.3584\n",
      "Training - Epoch [8/60], Step [40/101], Loss: 0.0481\n",
      "Training - Epoch [8/60], Step [50/101], Loss: 0.2312\n",
      "Training - Epoch [8/60], Step [60/101], Loss: 0.1779\n",
      "Training - Epoch [8/60], Step [70/101], Loss: 0.0807\n",
      "Training - Epoch [8/60], Step [80/101], Loss: 0.0630\n",
      "Training - Epoch [8/60], Step [90/101], Loss: 0.1177\n",
      "Training - Epoch [8/60], Step [100/101], Loss: 0.1761\n",
      "Validation - Epoch [8/60], Loss: 0.2443, Accuracy: 0.9396\n",
      "Model saved as mobilenet_v3_small_font_classifier_500.pth\n",
      "Epoch 9\n",
      "-------------------------------\n",
      "Training - Epoch [9/60], Step [10/101], Loss: 0.1291\n",
      "Training - Epoch [9/60], Step [20/101], Loss: 0.0655\n",
      "Training - Epoch [9/60], Step [30/101], Loss: 0.0768\n",
      "Training - Epoch [9/60], Step [40/101], Loss: 0.1641\n",
      "Training - Epoch [9/60], Step [50/101], Loss: 0.0811\n",
      "Training - Epoch [9/60], Step [60/101], Loss: 0.0742\n",
      "Training - Epoch [9/60], Step [70/101], Loss: 0.0844\n",
      "Training - Epoch [9/60], Step [80/101], Loss: 0.1076\n",
      "Training - Epoch [9/60], Step [90/101], Loss: 0.1389\n",
      "Training - Epoch [9/60], Step [100/101], Loss: 0.1202\n",
      "Validation - Epoch [9/60], Loss: 0.7852, Accuracy: 0.8196\n",
      "Epoch 10\n",
      "-------------------------------\n",
      "Training - Epoch [10/60], Step [10/101], Loss: 0.0843\n",
      "Training - Epoch [10/60], Step [20/101], Loss: 0.0768\n",
      "Training - Epoch [10/60], Step [30/101], Loss: 0.1061\n",
      "Training - Epoch [10/60], Step [40/101], Loss: 0.0605\n",
      "Training - Epoch [10/60], Step [50/101], Loss: 0.0440\n",
      "Training - Epoch [10/60], Step [60/101], Loss: 0.1604\n",
      "Training - Epoch [10/60], Step [70/101], Loss: 0.0941\n",
      "Training - Epoch [10/60], Step [80/101], Loss: 0.0892\n",
      "Training - Epoch [10/60], Step [90/101], Loss: 0.2052\n",
      "Training - Epoch [10/60], Step [100/101], Loss: 0.0147\n",
      "Validation - Epoch [10/60], Loss: 0.6041, Accuracy: 0.8569\n",
      "Epoch 11\n",
      "-------------------------------\n",
      "Training - Epoch [11/60], Step [10/101], Loss: 0.2580\n",
      "Training - Epoch [11/60], Step [20/101], Loss: 0.4416\n",
      "Training - Epoch [11/60], Step [30/101], Loss: 0.0552\n",
      "Training - Epoch [11/60], Step [40/101], Loss: 0.0507\n",
      "Training - Epoch [11/60], Step [50/101], Loss: 0.0627\n",
      "Training - Epoch [11/60], Step [60/101], Loss: 0.0309\n",
      "Training - Epoch [11/60], Step [70/101], Loss: 0.0660\n",
      "Training - Epoch [11/60], Step [80/101], Loss: 0.0429\n",
      "Training - Epoch [11/60], Step [90/101], Loss: 0.1022\n",
      "Training - Epoch [11/60], Step [100/101], Loss: 0.2101\n",
      "Validation - Epoch [11/60], Loss: 0.4076, Accuracy: 0.8987\n",
      "Epoch 12\n",
      "-------------------------------\n",
      "Training - Epoch [12/60], Step [10/101], Loss: 0.1166\n",
      "Training - Epoch [12/60], Step [20/101], Loss: 0.1769\n",
      "Training - Epoch [12/60], Step [30/101], Loss: 0.0413\n",
      "Training - Epoch [12/60], Step [40/101], Loss: 0.0631\n",
      "Training - Epoch [12/60], Step [50/101], Loss: 0.0663\n",
      "Training - Epoch [12/60], Step [60/101], Loss: 0.1705\n",
      "Training - Epoch [12/60], Step [70/101], Loss: 0.3237\n",
      "Training - Epoch [12/60], Step [80/101], Loss: 0.0735\n",
      "Training - Epoch [12/60], Step [90/101], Loss: 0.1821\n",
      "Training - Epoch [12/60], Step [100/101], Loss: 0.0697\n",
      "Validation - Epoch [12/60], Loss: 0.4745, Accuracy: 0.8969\n",
      "Epoch 13\n",
      "-------------------------------\n",
      "Training - Epoch [13/60], Step [10/101], Loss: 0.0061\n",
      "Training - Epoch [13/60], Step [20/101], Loss: 0.0892\n",
      "Training - Epoch [13/60], Step [30/101], Loss: 0.0370\n",
      "Training - Epoch [13/60], Step [40/101], Loss: 0.0773\n",
      "Training - Epoch [13/60], Step [50/101], Loss: 0.0944\n",
      "Training - Epoch [13/60], Step [60/101], Loss: 0.0504\n",
      "Training - Epoch [13/60], Step [70/101], Loss: 0.0913\n",
      "Training - Epoch [13/60], Step [80/101], Loss: 0.0354\n",
      "Training - Epoch [13/60], Step [90/101], Loss: 0.4696\n",
      "Training - Epoch [13/60], Step [100/101], Loss: 0.1843\n",
      "Validation - Epoch [13/60], Loss: 0.4255, Accuracy: 0.8996\n",
      "Epoch 14\n",
      "-------------------------------\n",
      "Training - Epoch [14/60], Step [10/101], Loss: 0.0493\n",
      "Training - Epoch [14/60], Step [20/101], Loss: 0.0312\n",
      "Training - Epoch [14/60], Step [30/101], Loss: 0.1015\n",
      "Training - Epoch [14/60], Step [40/101], Loss: 0.0413\n",
      "Training - Epoch [14/60], Step [50/101], Loss: 0.0784\n",
      "Training - Epoch [14/60], Step [60/101], Loss: 0.1895\n",
      "Training - Epoch [14/60], Step [70/101], Loss: 0.6667\n",
      "Training - Epoch [14/60], Step [80/101], Loss: 0.2271\n",
      "Training - Epoch [14/60], Step [90/101], Loss: 0.1055\n",
      "Training - Epoch [14/60], Step [100/101], Loss: 0.1094\n",
      "Validation - Epoch [14/60], Loss: 0.3239, Accuracy: 0.9262\n",
      "Epoch 15\n",
      "-------------------------------\n",
      "Training - Epoch [15/60], Step [10/101], Loss: 0.0066\n",
      "Training - Epoch [15/60], Step [20/101], Loss: 0.1548\n",
      "Training - Epoch [15/60], Step [30/101], Loss: 0.0972\n",
      "Training - Epoch [15/60], Step [40/101], Loss: 0.0458\n",
      "Training - Epoch [15/60], Step [50/101], Loss: 0.0741\n",
      "Training - Epoch [15/60], Step [60/101], Loss: 0.1811\n",
      "Training - Epoch [15/60], Step [70/101], Loss: 0.0327\n",
      "Training - Epoch [15/60], Step [80/101], Loss: 0.0644\n",
      "Training - Epoch [15/60], Step [90/101], Loss: 0.1277\n",
      "Training - Epoch [15/60], Step [100/101], Loss: 0.0051\n",
      "Validation - Epoch [15/60], Loss: 0.4802, Accuracy: 0.9164\n",
      "Epoch 16\n",
      "-------------------------------\n",
      "Training - Epoch [16/60], Step [10/101], Loss: 0.0270\n",
      "Training - Epoch [16/60], Step [20/101], Loss: 0.1845\n",
      "Training - Epoch [16/60], Step [30/101], Loss: 0.3950\n",
      "Training - Epoch [16/60], Step [40/101], Loss: 0.1175\n",
      "Training - Epoch [16/60], Step [50/101], Loss: 0.0075\n",
      "Training - Epoch [16/60], Step [60/101], Loss: 0.0906\n",
      "Training - Epoch [16/60], Step [70/101], Loss: 0.0119\n",
      "Training - Epoch [16/60], Step [80/101], Loss: 0.0737\n",
      "Training - Epoch [16/60], Step [90/101], Loss: 0.0307\n",
      "Training - Epoch [16/60], Step [100/101], Loss: 0.2868\n",
      "Validation - Epoch [16/60], Loss: 0.2444, Accuracy: 0.9458\n",
      "Epoch 17\n",
      "-------------------------------\n",
      "Training - Epoch [17/60], Step [10/101], Loss: 0.1127\n",
      "Training - Epoch [17/60], Step [20/101], Loss: 0.0156\n",
      "Training - Epoch [17/60], Step [30/101], Loss: 0.2149\n",
      "Training - Epoch [17/60], Step [40/101], Loss: 0.0266\n",
      "Training - Epoch [17/60], Step [50/101], Loss: 0.0460\n",
      "Training - Epoch [17/60], Step [60/101], Loss: 0.1705\n",
      "Training - Epoch [17/60], Step [70/101], Loss: 0.0236\n",
      "Training - Epoch [17/60], Step [80/101], Loss: 0.0888\n",
      "Training - Epoch [17/60], Step [90/101], Loss: 0.0374\n",
      "Training - Epoch [17/60], Step [100/101], Loss: 0.0175\n",
      "Validation - Epoch [17/60], Loss: 0.2165, Accuracy: 0.9511\n",
      "Model saved as mobilenet_v3_small_font_classifier_500.pth\n",
      "Epoch 18\n",
      "-------------------------------\n",
      "Training - Epoch [18/60], Step [10/101], Loss: 0.0304\n",
      "Training - Epoch [18/60], Step [20/101], Loss: 0.1660\n",
      "Training - Epoch [18/60], Step [30/101], Loss: 0.0403\n",
      "Training - Epoch [18/60], Step [40/101], Loss: 0.1364\n",
      "Training - Epoch [18/60], Step [50/101], Loss: 0.1269\n",
      "Training - Epoch [18/60], Step [60/101], Loss: 0.1016\n",
      "Training - Epoch [18/60], Step [70/101], Loss: 0.1021\n",
      "Training - Epoch [18/60], Step [80/101], Loss: 0.0450\n",
      "Training - Epoch [18/60], Step [90/101], Loss: 0.1681\n",
      "Training - Epoch [18/60], Step [100/101], Loss: 0.0060\n",
      "Validation - Epoch [18/60], Loss: 0.2016, Accuracy: 0.9431\n",
      "Model saved as mobilenet_v3_small_font_classifier_500.pth\n",
      "Epoch 19\n",
      "-------------------------------\n",
      "Training - Epoch [19/60], Step [10/101], Loss: 0.0753\n",
      "Training - Epoch [19/60], Step [20/101], Loss: 0.1433\n",
      "Training - Epoch [19/60], Step [30/101], Loss: 0.0511\n",
      "Training - Epoch [19/60], Step [40/101], Loss: 0.0341\n",
      "Training - Epoch [19/60], Step [50/101], Loss: 0.3751\n",
      "Training - Epoch [19/60], Step [60/101], Loss: 0.0080\n",
      "Training - Epoch [19/60], Step [70/101], Loss: 0.0285\n",
      "Training - Epoch [19/60], Step [80/101], Loss: 0.1407\n",
      "Training - Epoch [19/60], Step [90/101], Loss: 0.0869\n",
      "Training - Epoch [19/60], Step [100/101], Loss: 0.2668\n",
      "Validation - Epoch [19/60], Loss: 0.2600, Accuracy: 0.9396\n",
      "Epoch 20\n",
      "-------------------------------\n",
      "Training - Epoch [20/60], Step [10/101], Loss: 0.1578\n",
      "Training - Epoch [20/60], Step [20/101], Loss: 0.0078\n",
      "Training - Epoch [20/60], Step [30/101], Loss: 0.0212\n",
      "Training - Epoch [20/60], Step [40/101], Loss: 0.0419\n",
      "Training - Epoch [20/60], Step [50/101], Loss: 0.1039\n",
      "Training - Epoch [20/60], Step [60/101], Loss: 0.0184\n",
      "Training - Epoch [20/60], Step [70/101], Loss: 0.1294\n",
      "Training - Epoch [20/60], Step [80/101], Loss: 0.0604\n",
      "Training - Epoch [20/60], Step [90/101], Loss: 0.0522\n",
      "Training - Epoch [20/60], Step [100/101], Loss: 0.1158\n",
      "Validation - Epoch [20/60], Loss: 0.6941, Accuracy: 0.8907\n",
      "Epoch 21\n",
      "-------------------------------\n",
      "Training - Epoch [21/60], Step [10/101], Loss: 0.0636\n",
      "Training - Epoch [21/60], Step [20/101], Loss: 0.0537\n",
      "Training - Epoch [21/60], Step [30/101], Loss: 0.0220\n",
      "Training - Epoch [21/60], Step [40/101], Loss: 0.0077\n",
      "Training - Epoch [21/60], Step [50/101], Loss: 0.0173\n",
      "Training - Epoch [21/60], Step [60/101], Loss: 0.0180\n",
      "Training - Epoch [21/60], Step [70/101], Loss: 0.2103\n",
      "Training - Epoch [21/60], Step [80/101], Loss: 0.0344\n",
      "Training - Epoch [21/60], Step [90/101], Loss: 0.0982\n",
      "Training - Epoch [21/60], Step [100/101], Loss: 0.0282\n",
      "Validation - Epoch [21/60], Loss: 0.2889, Accuracy: 0.9298\n",
      "Epoch 22\n",
      "-------------------------------\n",
      "Training - Epoch [22/60], Step [10/101], Loss: 0.0081\n",
      "Training - Epoch [22/60], Step [20/101], Loss: 0.0250\n",
      "Training - Epoch [22/60], Step [30/101], Loss: 0.0780\n",
      "Training - Epoch [22/60], Step [40/101], Loss: 0.1127\n",
      "Training - Epoch [22/60], Step [50/101], Loss: 0.0220\n",
      "Training - Epoch [22/60], Step [60/101], Loss: 0.0361\n",
      "Training - Epoch [22/60], Step [70/101], Loss: 0.0341\n",
      "Training - Epoch [22/60], Step [80/101], Loss: 0.0799\n",
      "Training - Epoch [22/60], Step [90/101], Loss: 0.0328\n",
      "Training - Epoch [22/60], Step [100/101], Loss: 0.0026\n",
      "Validation - Epoch [22/60], Loss: 0.1949, Accuracy: 0.9467\n",
      "Model saved as mobilenet_v3_small_font_classifier_500.pth\n",
      "Epoch 23\n",
      "-------------------------------\n",
      "Training - Epoch [23/60], Step [10/101], Loss: 0.0047\n",
      "Training - Epoch [23/60], Step [20/101], Loss: 0.0577\n",
      "Training - Epoch [23/60], Step [30/101], Loss: 0.0027\n",
      "Training - Epoch [23/60], Step [40/101], Loss: 0.0097\n",
      "Training - Epoch [23/60], Step [50/101], Loss: 0.0664\n",
      "Training - Epoch [23/60], Step [60/101], Loss: 0.0335\n",
      "Training - Epoch [23/60], Step [70/101], Loss: 0.0223\n",
      "Training - Epoch [23/60], Step [80/101], Loss: 0.1552\n",
      "Training - Epoch [23/60], Step [90/101], Loss: 0.0951\n",
      "Training - Epoch [23/60], Step [100/101], Loss: 0.0111\n",
      "Validation - Epoch [23/60], Loss: 0.1853, Accuracy: 0.9511\n",
      "Model saved as mobilenet_v3_small_font_classifier_500.pth\n",
      "Epoch 24\n",
      "-------------------------------\n",
      "Training - Epoch [24/60], Step [10/101], Loss: 0.0066\n",
      "Training - Epoch [24/60], Step [20/101], Loss: 0.0465\n",
      "Training - Epoch [24/60], Step [30/101], Loss: 0.0031\n",
      "Training - Epoch [24/60], Step [40/101], Loss: 0.0108\n",
      "Training - Epoch [24/60], Step [50/101], Loss: 0.0034\n",
      "Training - Epoch [24/60], Step [60/101], Loss: 0.0418\n",
      "Training - Epoch [24/60], Step [70/101], Loss: 0.0470\n",
      "Training - Epoch [24/60], Step [80/101], Loss: 0.0024\n",
      "Training - Epoch [24/60], Step [90/101], Loss: 0.1615\n",
      "Training - Epoch [24/60], Step [100/101], Loss: 0.0017\n",
      "Validation - Epoch [24/60], Loss: 0.1634, Accuracy: 0.9609\n",
      "Model saved as mobilenet_v3_small_font_classifier_500.pth\n",
      "Epoch 25\n",
      "-------------------------------\n",
      "Training - Epoch [25/60], Step [10/101], Loss: 0.1517\n",
      "Training - Epoch [25/60], Step [20/101], Loss: 0.1128\n",
      "Training - Epoch [25/60], Step [30/101], Loss: 0.0191\n",
      "Training - Epoch [25/60], Step [40/101], Loss: 0.1372\n",
      "Training - Epoch [25/60], Step [50/101], Loss: 0.1148\n",
      "Training - Epoch [25/60], Step [60/101], Loss: 0.0113\n",
      "Training - Epoch [25/60], Step [70/101], Loss: 0.0358\n",
      "Training - Epoch [25/60], Step [80/101], Loss: 0.0633\n",
      "Training - Epoch [25/60], Step [90/101], Loss: 0.1105\n",
      "Training - Epoch [25/60], Step [100/101], Loss: 0.0512\n",
      "Validation - Epoch [25/60], Loss: 0.1956, Accuracy: 0.9538\n",
      "Epoch 26\n",
      "-------------------------------\n",
      "Training - Epoch [26/60], Step [10/101], Loss: 0.7617\n",
      "Training - Epoch [26/60], Step [20/101], Loss: 0.0072\n",
      "Training - Epoch [26/60], Step [30/101], Loss: 0.0536\n",
      "Training - Epoch [26/60], Step [40/101], Loss: 0.0160\n",
      "Training - Epoch [26/60], Step [50/101], Loss: 0.0059\n",
      "Training - Epoch [26/60], Step [60/101], Loss: 0.0210\n",
      "Training - Epoch [26/60], Step [70/101], Loss: 0.2137\n",
      "Training - Epoch [26/60], Step [80/101], Loss: 0.0176\n",
      "Training - Epoch [26/60], Step [90/101], Loss: 0.0627\n",
      "Training - Epoch [26/60], Step [100/101], Loss: 0.0126\n",
      "Validation - Epoch [26/60], Loss: 0.2723, Accuracy: 0.9289\n",
      "Epoch 27\n",
      "-------------------------------\n",
      "Training - Epoch [27/60], Step [10/101], Loss: 0.0176\n",
      "Training - Epoch [27/60], Step [20/101], Loss: 0.0401\n",
      "Training - Epoch [27/60], Step [30/101], Loss: 0.1785\n",
      "Training - Epoch [27/60], Step [40/101], Loss: 0.0584\n",
      "Training - Epoch [27/60], Step [50/101], Loss: 0.0032\n",
      "Training - Epoch [27/60], Step [60/101], Loss: 0.0222\n",
      "Training - Epoch [27/60], Step [70/101], Loss: 0.0922\n",
      "Training - Epoch [27/60], Step [80/101], Loss: 0.2749\n",
      "Training - Epoch [27/60], Step [90/101], Loss: 0.0036\n",
      "Training - Epoch [27/60], Step [100/101], Loss: 0.0422\n",
      "Validation - Epoch [27/60], Loss: 0.1285, Accuracy: 0.9671\n",
      "Model saved as mobilenet_v3_small_font_classifier_500.pth\n",
      "Epoch 28\n",
      "-------------------------------\n",
      "Training - Epoch [28/60], Step [10/101], Loss: 0.1429\n",
      "Training - Epoch [28/60], Step [20/101], Loss: 0.1608\n",
      "Training - Epoch [28/60], Step [30/101], Loss: 0.0111\n",
      "Training - Epoch [28/60], Step [40/101], Loss: 0.0034\n",
      "Training - Epoch [28/60], Step [50/101], Loss: 0.0720\n",
      "Training - Epoch [28/60], Step [60/101], Loss: 0.0074\n",
      "Training - Epoch [28/60], Step [70/101], Loss: 0.0190\n",
      "Training - Epoch [28/60], Step [80/101], Loss: 0.0290\n",
      "Training - Epoch [28/60], Step [90/101], Loss: 0.0813\n",
      "Training - Epoch [28/60], Step [100/101], Loss: 0.0575\n",
      "Validation - Epoch [28/60], Loss: 0.2440, Accuracy: 0.9467\n",
      "Epoch 29\n",
      "-------------------------------\n",
      "Training - Epoch [29/60], Step [10/101], Loss: 0.2681\n",
      "Training - Epoch [29/60], Step [20/101], Loss: 0.0450\n",
      "Training - Epoch [29/60], Step [30/101], Loss: 0.1678\n",
      "Training - Epoch [29/60], Step [40/101], Loss: 0.0632\n",
      "Training - Epoch [29/60], Step [50/101], Loss: 0.0426\n",
      "Training - Epoch [29/60], Step [60/101], Loss: 0.2343\n",
      "Training - Epoch [29/60], Step [70/101], Loss: 0.0097\n",
      "Training - Epoch [29/60], Step [80/101], Loss: 0.0039\n",
      "Training - Epoch [29/60], Step [90/101], Loss: 0.0385\n",
      "Training - Epoch [29/60], Step [100/101], Loss: 0.2007\n",
      "Validation - Epoch [29/60], Loss: 0.2025, Accuracy: 0.9431\n",
      "Epoch 30\n",
      "-------------------------------\n",
      "Training - Epoch [30/60], Step [10/101], Loss: 0.2282\n",
      "Training - Epoch [30/60], Step [20/101], Loss: 0.0768\n",
      "Training - Epoch [30/60], Step [30/101], Loss: 0.0842\n",
      "Training - Epoch [30/60], Step [40/101], Loss: 0.0124\n",
      "Training - Epoch [30/60], Step [50/101], Loss: 0.0332\n",
      "Training - Epoch [30/60], Step [60/101], Loss: 0.0487\n",
      "Training - Epoch [30/60], Step [70/101], Loss: 0.1788\n",
      "Training - Epoch [30/60], Step [80/101], Loss: 0.2685\n",
      "Training - Epoch [30/60], Step [90/101], Loss: 0.1223\n",
      "Training - Epoch [30/60], Step [100/101], Loss: 0.0038\n",
      "Validation - Epoch [30/60], Loss: 0.1650, Accuracy: 0.9609\n",
      "Epoch 31\n",
      "-------------------------------\n",
      "Training - Epoch [31/60], Step [10/101], Loss: 0.1057\n",
      "Training - Epoch [31/60], Step [20/101], Loss: 0.0252\n",
      "Training - Epoch [31/60], Step [30/101], Loss: 0.1826\n",
      "Training - Epoch [31/60], Step [40/101], Loss: 0.0130\n",
      "Training - Epoch [31/60], Step [50/101], Loss: 0.0231\n",
      "Training - Epoch [31/60], Step [60/101], Loss: 0.0050\n",
      "Training - Epoch [31/60], Step [70/101], Loss: 0.1961\n",
      "Training - Epoch [31/60], Step [80/101], Loss: 0.0394\n",
      "Training - Epoch [31/60], Step [90/101], Loss: 0.0051\n",
      "Training - Epoch [31/60], Step [100/101], Loss: 0.0100\n",
      "Validation - Epoch [31/60], Loss: 0.1534, Accuracy: 0.9547\n",
      "Epoch 32\n",
      "-------------------------------\n",
      "Training - Epoch [32/60], Step [10/101], Loss: 0.0074\n",
      "Training - Epoch [32/60], Step [20/101], Loss: 0.0061\n",
      "Training - Epoch [32/60], Step [30/101], Loss: 0.0069\n",
      "Training - Epoch [32/60], Step [40/101], Loss: 0.0061\n",
      "Training - Epoch [32/60], Step [50/101], Loss: 0.0117\n",
      "Training - Epoch [32/60], Step [60/101], Loss: 0.0011\n",
      "Training - Epoch [32/60], Step [70/101], Loss: 0.0317\n",
      "Training - Epoch [32/60], Step [80/101], Loss: 0.0013\n",
      "Training - Epoch [32/60], Step [90/101], Loss: 0.0040\n",
      "Training - Epoch [32/60], Step [100/101], Loss: 0.0206\n",
      "Validation - Epoch [32/60], Loss: 0.1248, Accuracy: 0.9724\n",
      "Model saved as mobilenet_v3_small_font_classifier_500.pth\n",
      "Epoch 33\n",
      "-------------------------------\n",
      "Training - Epoch [33/60], Step [10/101], Loss: 0.0021\n",
      "Training - Epoch [33/60], Step [20/101], Loss: 0.0927\n",
      "Training - Epoch [33/60], Step [30/101], Loss: 0.0057\n",
      "Training - Epoch [33/60], Step [40/101], Loss: 0.1267\n",
      "Training - Epoch [33/60], Step [50/101], Loss: 0.0562\n",
      "Training - Epoch [33/60], Step [60/101], Loss: 0.0020\n",
      "Training - Epoch [33/60], Step [70/101], Loss: 0.0291\n",
      "Training - Epoch [33/60], Step [80/101], Loss: 0.0191\n",
      "Training - Epoch [33/60], Step [90/101], Loss: 0.0402\n",
      "Training - Epoch [33/60], Step [100/101], Loss: 0.0071\n",
      "Validation - Epoch [33/60], Loss: 0.1037, Accuracy: 0.9733\n",
      "Model saved as mobilenet_v3_small_font_classifier_500.pth\n",
      "Epoch 34\n",
      "-------------------------------\n",
      "Training - Epoch [34/60], Step [10/101], Loss: 0.1087\n",
      "Training - Epoch [34/60], Step [20/101], Loss: 0.0038\n",
      "Training - Epoch [34/60], Step [30/101], Loss: 0.0115\n",
      "Training - Epoch [34/60], Step [40/101], Loss: 0.0003\n",
      "Training - Epoch [34/60], Step [50/101], Loss: 0.0603\n",
      "Training - Epoch [34/60], Step [60/101], Loss: 0.1237\n",
      "Training - Epoch [34/60], Step [70/101], Loss: 0.0523\n",
      "Training - Epoch [34/60], Step [80/101], Loss: 0.0041\n",
      "Training - Epoch [34/60], Step [90/101], Loss: 0.0535\n",
      "Training - Epoch [34/60], Step [100/101], Loss: 0.0047\n",
      "Validation - Epoch [34/60], Loss: 0.2013, Accuracy: 0.9476\n",
      "Epoch 35\n",
      "-------------------------------\n",
      "Training - Epoch [35/60], Step [10/101], Loss: 0.0020\n",
      "Training - Epoch [35/60], Step [20/101], Loss: 0.0020\n",
      "Training - Epoch [35/60], Step [30/101], Loss: 0.0006\n",
      "Training - Epoch [35/60], Step [40/101], Loss: 0.0810\n",
      "Training - Epoch [35/60], Step [50/101], Loss: 0.0036\n",
      "Training - Epoch [35/60], Step [60/101], Loss: 0.0162\n",
      "Training - Epoch [35/60], Step [70/101], Loss: 0.0012\n",
      "Training - Epoch [35/60], Step [80/101], Loss: 0.0071\n",
      "Training - Epoch [35/60], Step [90/101], Loss: 0.0021\n",
      "Training - Epoch [35/60], Step [100/101], Loss: 0.0004\n",
      "Validation - Epoch [35/60], Loss: 0.1331, Accuracy: 0.9671\n",
      "Epoch 36\n",
      "-------------------------------\n",
      "Training - Epoch [36/60], Step [10/101], Loss: 0.0619\n",
      "Training - Epoch [36/60], Step [20/101], Loss: 0.0014\n",
      "Training - Epoch [36/60], Step [30/101], Loss: 0.0102\n",
      "Training - Epoch [36/60], Step [40/101], Loss: 0.0002\n",
      "Training - Epoch [36/60], Step [50/101], Loss: 0.0002\n",
      "Training - Epoch [36/60], Step [60/101], Loss: 0.0021\n",
      "Training - Epoch [36/60], Step [70/101], Loss: 0.0417\n",
      "Training - Epoch [36/60], Step [80/101], Loss: 0.0032\n",
      "Training - Epoch [36/60], Step [90/101], Loss: 0.0182\n",
      "Training - Epoch [36/60], Step [100/101], Loss: 0.0369\n",
      "Validation - Epoch [36/60], Loss: 0.1556, Accuracy: 0.9556\n",
      "Epoch 37\n",
      "-------------------------------\n",
      "Training - Epoch [37/60], Step [10/101], Loss: 0.0285\n",
      "Training - Epoch [37/60], Step [20/101], Loss: 0.0037\n",
      "Training - Epoch [37/60], Step [30/101], Loss: 0.0042\n",
      "Training - Epoch [37/60], Step [40/101], Loss: 0.0079\n",
      "Training - Epoch [37/60], Step [50/101], Loss: 0.3031\n",
      "Training - Epoch [37/60], Step [60/101], Loss: 0.0573\n",
      "Training - Epoch [37/60], Step [70/101], Loss: 0.0982\n",
      "Training - Epoch [37/60], Step [80/101], Loss: 0.1217\n",
      "Training - Epoch [37/60], Step [90/101], Loss: 0.0080\n",
      "Training - Epoch [37/60], Step [100/101], Loss: 0.0555\n",
      "Validation - Epoch [37/60], Loss: 0.2827, Accuracy: 0.9360\n",
      "Epoch 38\n",
      "-------------------------------\n",
      "Training - Epoch [38/60], Step [10/101], Loss: 0.1362\n",
      "Training - Epoch [38/60], Step [20/101], Loss: 0.0907\n",
      "Training - Epoch [38/60], Step [30/101], Loss: 0.2135\n",
      "Training - Epoch [38/60], Step [40/101], Loss: 0.1016\n",
      "Training - Epoch [38/60], Step [50/101], Loss: 0.0276\n",
      "Training - Epoch [38/60], Step [60/101], Loss: 0.0346\n",
      "Training - Epoch [38/60], Step [70/101], Loss: 0.3306\n",
      "Training - Epoch [38/60], Step [80/101], Loss: 0.2114\n",
      "Training - Epoch [38/60], Step [90/101], Loss: 0.2402\n",
      "Training - Epoch [38/60], Step [100/101], Loss: 0.0299\n",
      "Validation - Epoch [38/60], Loss: 0.4055, Accuracy: 0.9164\n",
      "Epoch 39\n",
      "-------------------------------\n",
      "Training - Epoch [39/60], Step [10/101], Loss: 0.3780\n",
      "Training - Epoch [39/60], Step [20/101], Loss: 0.0361\n",
      "Training - Epoch [39/60], Step [30/101], Loss: 0.0757\n",
      "Training - Epoch [39/60], Step [40/101], Loss: 0.0362\n",
      "Training - Epoch [39/60], Step [50/101], Loss: 0.0256\n",
      "Training - Epoch [39/60], Step [60/101], Loss: 0.0048\n",
      "Training - Epoch [39/60], Step [70/101], Loss: 0.0072\n",
      "Training - Epoch [39/60], Step [80/101], Loss: 0.0872\n",
      "Training - Epoch [39/60], Step [90/101], Loss: 0.0371\n",
      "Training - Epoch [39/60], Step [100/101], Loss: 0.0896\n",
      "Validation - Epoch [39/60], Loss: 0.5240, Accuracy: 0.9040\n",
      "Epoch 40\n",
      "-------------------------------\n",
      "Training - Epoch [40/60], Step [10/101], Loss: 0.0071\n",
      "Training - Epoch [40/60], Step [20/101], Loss: 0.0567\n",
      "Training - Epoch [40/60], Step [30/101], Loss: 0.0324\n",
      "Training - Epoch [40/60], Step [40/101], Loss: 0.0062\n",
      "Training - Epoch [40/60], Step [50/101], Loss: 0.0570\n",
      "Training - Epoch [40/60], Step [60/101], Loss: 0.0043\n",
      "Training - Epoch [40/60], Step [70/101], Loss: 0.0068\n",
      "Training - Epoch [40/60], Step [80/101], Loss: 0.1661\n",
      "Training - Epoch [40/60], Step [90/101], Loss: 0.0897\n",
      "Training - Epoch [40/60], Step [100/101], Loss: 0.0237\n",
      "Validation - Epoch [40/60], Loss: 0.1311, Accuracy: 0.9742\n",
      "Epoch 41\n",
      "-------------------------------\n",
      "Training - Epoch [41/60], Step [10/101], Loss: 0.0015\n",
      "Training - Epoch [41/60], Step [20/101], Loss: 0.0805\n",
      "Training - Epoch [41/60], Step [30/101], Loss: 0.0012\n",
      "Training - Epoch [41/60], Step [40/101], Loss: 0.0013\n",
      "Training - Epoch [41/60], Step [50/101], Loss: 0.0212\n",
      "Training - Epoch [41/60], Step [60/101], Loss: 0.0004\n",
      "Training - Epoch [41/60], Step [70/101], Loss: 0.0533\n",
      "Training - Epoch [41/60], Step [80/101], Loss: 0.0315\n",
      "Training - Epoch [41/60], Step [90/101], Loss: 0.0326\n",
      "Training - Epoch [41/60], Step [100/101], Loss: 0.0035\n",
      "Validation - Epoch [41/60], Loss: 0.2378, Accuracy: 0.9511\n",
      "Epoch 42\n",
      "-------------------------------\n",
      "Training - Epoch [42/60], Step [10/101], Loss: 0.0178\n",
      "Training - Epoch [42/60], Step [20/101], Loss: 0.0162\n",
      "Training - Epoch [42/60], Step [30/101], Loss: 0.0162\n",
      "Training - Epoch [42/60], Step [40/101], Loss: 0.0069\n",
      "Training - Epoch [42/60], Step [50/101], Loss: 0.0337\n",
      "Training - Epoch [42/60], Step [60/101], Loss: 0.0902\n",
      "Training - Epoch [42/60], Step [70/101], Loss: 0.0016\n",
      "Training - Epoch [42/60], Step [80/101], Loss: 0.0017\n",
      "Training - Epoch [42/60], Step [90/101], Loss: 0.0765\n",
      "Training - Epoch [42/60], Step [100/101], Loss: 0.1025\n",
      "Validation - Epoch [42/60], Loss: 0.4084, Accuracy: 0.9173\n",
      "Epoch 43\n",
      "-------------------------------\n",
      "Training - Epoch [43/60], Step [10/101], Loss: 0.0061\n",
      "Training - Epoch [43/60], Step [20/101], Loss: 0.0341\n",
      "Training - Epoch [43/60], Step [30/101], Loss: 0.0013\n",
      "Training - Epoch [43/60], Step [40/101], Loss: 0.0004\n",
      "Training - Epoch [43/60], Step [50/101], Loss: 0.0034\n",
      "Training - Epoch [43/60], Step [60/101], Loss: 0.1015\n",
      "Training - Epoch [43/60], Step [70/101], Loss: 0.0032\n",
      "Training - Epoch [43/60], Step [80/101], Loss: 0.0104\n",
      "Training - Epoch [43/60], Step [90/101], Loss: 0.0127\n",
      "Training - Epoch [43/60], Step [100/101], Loss: 0.1468\n",
      "Validation - Epoch [43/60], Loss: 0.2338, Accuracy: 0.9458\n",
      "Epoch 44\n",
      "-------------------------------\n",
      "Training - Epoch [44/60], Step [10/101], Loss: 0.0168\n",
      "Training - Epoch [44/60], Step [20/101], Loss: 0.0048\n",
      "Training - Epoch [44/60], Step [30/101], Loss: 0.0044\n",
      "Training - Epoch [44/60], Step [40/101], Loss: 0.1506\n",
      "Training - Epoch [44/60], Step [50/101], Loss: 0.1613\n",
      "Training - Epoch [44/60], Step [60/101], Loss: 0.0362\n",
      "Training - Epoch [44/60], Step [70/101], Loss: 0.1369\n",
      "Training - Epoch [44/60], Step [80/101], Loss: 0.2171\n",
      "Training - Epoch [44/60], Step [90/101], Loss: 0.0120\n",
      "Training - Epoch [44/60], Step [100/101], Loss: 0.0368\n",
      "Validation - Epoch [44/60], Loss: 0.4228, Accuracy: 0.9076\n",
      "Epoch 45\n",
      "-------------------------------\n",
      "Training - Epoch [45/60], Step [10/101], Loss: 0.0052\n",
      "Training - Epoch [45/60], Step [20/101], Loss: 0.0232\n",
      "Training - Epoch [45/60], Step [30/101], Loss: 0.0009\n",
      "Training - Epoch [45/60], Step [40/101], Loss: 0.1363\n",
      "Training - Epoch [45/60], Step [50/101], Loss: 0.1488\n",
      "Training - Epoch [45/60], Step [60/101], Loss: 0.0405\n",
      "Training - Epoch [45/60], Step [70/101], Loss: 0.2120\n",
      "Training - Epoch [45/60], Step [80/101], Loss: 0.0382\n",
      "Training - Epoch [45/60], Step [90/101], Loss: 0.0843\n",
      "Training - Epoch [45/60], Step [100/101], Loss: 0.0868\n",
      "Validation - Epoch [45/60], Loss: 0.2678, Accuracy: 0.9502\n",
      "Epoch 46\n",
      "-------------------------------\n",
      "Training - Epoch [46/60], Step [10/101], Loss: 0.0097\n",
      "Training - Epoch [46/60], Step [20/101], Loss: 0.0436\n",
      "Training - Epoch [46/60], Step [30/101], Loss: 0.0049\n",
      "Training - Epoch [46/60], Step [40/101], Loss: 0.0399\n",
      "Training - Epoch [46/60], Step [50/101], Loss: 0.1046\n",
      "Training - Epoch [46/60], Step [60/101], Loss: 0.0116\n",
      "Training - Epoch [46/60], Step [70/101], Loss: 0.0002\n",
      "Training - Epoch [46/60], Step [80/101], Loss: 0.0336\n",
      "Training - Epoch [46/60], Step [90/101], Loss: 0.3522\n",
      "Training - Epoch [46/60], Step [100/101], Loss: 0.0125\n",
      "Validation - Epoch [46/60], Loss: 0.1207, Accuracy: 0.9698\n",
      "Epoch 47\n",
      "-------------------------------\n",
      "Training - Epoch [47/60], Step [10/101], Loss: 0.0138\n",
      "Training - Epoch [47/60], Step [20/101], Loss: 0.0011\n",
      "Training - Epoch [47/60], Step [30/101], Loss: 0.0310\n",
      "Training - Epoch [47/60], Step [40/101], Loss: 0.0548\n",
      "Training - Epoch [47/60], Step [50/101], Loss: 0.0164\n",
      "Training - Epoch [47/60], Step [60/101], Loss: 0.0081\n",
      "Training - Epoch [47/60], Step [70/101], Loss: 0.0096\n",
      "Training - Epoch [47/60], Step [80/101], Loss: 0.0026\n",
      "Training - Epoch [47/60], Step [90/101], Loss: 0.0008\n",
      "Training - Epoch [47/60], Step [100/101], Loss: 0.0013\n",
      "Validation - Epoch [47/60], Loss: 0.0899, Accuracy: 0.9787\n",
      "Model saved as mobilenet_v3_small_font_classifier_500.pth\n",
      "Epoch 48\n",
      "-------------------------------\n",
      "Training - Epoch [48/60], Step [10/101], Loss: 0.0102\n",
      "Training - Epoch [48/60], Step [20/101], Loss: 0.0001\n",
      "Training - Epoch [48/60], Step [30/101], Loss: 0.1274\n",
      "Training - Epoch [48/60], Step [40/101], Loss: 0.1224\n",
      "Training - Epoch [48/60], Step [50/101], Loss: 0.0002\n",
      "Training - Epoch [48/60], Step [60/101], Loss: 0.0121\n",
      "Training - Epoch [48/60], Step [70/101], Loss: 0.0167\n",
      "Training - Epoch [48/60], Step [80/101], Loss: 0.0018\n",
      "Training - Epoch [48/60], Step [90/101], Loss: 0.1845\n",
      "Training - Epoch [48/60], Step [100/101], Loss: 0.0002\n",
      "Validation - Epoch [48/60], Loss: 0.2064, Accuracy: 0.9476\n",
      "Epoch 49\n",
      "-------------------------------\n",
      "Training - Epoch [49/60], Step [10/101], Loss: 0.1596\n",
      "Training - Epoch [49/60], Step [20/101], Loss: 0.0019\n",
      "Training - Epoch [49/60], Step [30/101], Loss: 0.0099\n",
      "Training - Epoch [49/60], Step [40/101], Loss: 0.0038\n",
      "Training - Epoch [49/60], Step [50/101], Loss: 0.0259\n",
      "Training - Epoch [49/60], Step [60/101], Loss: 0.0715\n",
      "Training - Epoch [49/60], Step [70/101], Loss: 0.0062\n",
      "Training - Epoch [49/60], Step [80/101], Loss: 0.0239\n",
      "Training - Epoch [49/60], Step [90/101], Loss: 0.0021\n",
      "Training - Epoch [49/60], Step [100/101], Loss: 0.0268\n",
      "Validation - Epoch [49/60], Loss: 0.1913, Accuracy: 0.9556\n",
      "Epoch 50\n",
      "-------------------------------\n",
      "Training - Epoch [50/60], Step [10/101], Loss: 0.0497\n",
      "Training - Epoch [50/60], Step [20/101], Loss: 0.0007\n",
      "Training - Epoch [50/60], Step [30/101], Loss: 0.0010\n",
      "Training - Epoch [50/60], Step [40/101], Loss: 0.0104\n",
      "Training - Epoch [50/60], Step [50/101], Loss: 0.0003\n",
      "Training - Epoch [50/60], Step [60/101], Loss: 0.0101\n",
      "Training - Epoch [50/60], Step [70/101], Loss: 0.0516\n",
      "Training - Epoch [50/60], Step [80/101], Loss: 0.0341\n",
      "Training - Epoch [50/60], Step [90/101], Loss: 0.0075\n",
      "Training - Epoch [50/60], Step [100/101], Loss: 0.0134\n",
      "Validation - Epoch [50/60], Loss: 0.1033, Accuracy: 0.9796\n",
      "Epoch 51\n",
      "-------------------------------\n",
      "Training - Epoch [51/60], Step [10/101], Loss: 0.0040\n",
      "Training - Epoch [51/60], Step [20/101], Loss: 0.0491\n",
      "Training - Epoch [51/60], Step [30/101], Loss: 0.0010\n",
      "Training - Epoch [51/60], Step [40/101], Loss: 0.0004\n",
      "Training - Epoch [51/60], Step [50/101], Loss: 0.0008\n",
      "Training - Epoch [51/60], Step [60/101], Loss: 0.0022\n",
      "Training - Epoch [51/60], Step [70/101], Loss: 0.0004\n",
      "Training - Epoch [51/60], Step [80/101], Loss: 0.0021\n",
      "Training - Epoch [51/60], Step [90/101], Loss: 0.0005\n",
      "Training - Epoch [51/60], Step [100/101], Loss: 0.0014\n",
      "Validation - Epoch [51/60], Loss: 0.1414, Accuracy: 0.9707\n",
      "Epoch 52\n",
      "-------------------------------\n",
      "Training - Epoch [52/60], Step [10/101], Loss: 0.0035\n",
      "Training - Epoch [52/60], Step [20/101], Loss: 0.0005\n",
      "Training - Epoch [52/60], Step [30/101], Loss: 0.0018\n",
      "Training - Epoch [52/60], Step [40/101], Loss: 0.0071\n",
      "Training - Epoch [52/60], Step [50/101], Loss: 0.0474\n",
      "Training - Epoch [52/60], Step [60/101], Loss: 0.0003\n",
      "Training - Epoch [52/60], Step [70/101], Loss: 0.0030\n",
      "Training - Epoch [52/60], Step [80/101], Loss: 0.0011\n",
      "Training - Epoch [52/60], Step [90/101], Loss: 0.0001\n",
      "Training - Epoch [52/60], Step [100/101], Loss: 0.0019\n",
      "Validation - Epoch [52/60], Loss: 0.1195, Accuracy: 0.9698\n",
      "Epoch 53\n",
      "-------------------------------\n",
      "Training - Epoch [53/60], Step [10/101], Loss: 0.0090\n",
      "Training - Epoch [53/60], Step [20/101], Loss: 0.0113\n",
      "Training - Epoch [53/60], Step [30/101], Loss: 0.0002\n",
      "Training - Epoch [53/60], Step [40/101], Loss: 0.0001\n",
      "Training - Epoch [53/60], Step [50/101], Loss: 0.0001\n",
      "Training - Epoch [53/60], Step [60/101], Loss: 0.0004\n",
      "Training - Epoch [53/60], Step [70/101], Loss: 0.0216\n",
      "Training - Epoch [53/60], Step [80/101], Loss: 0.0002\n",
      "Training - Epoch [53/60], Step [90/101], Loss: 0.0027\n",
      "Training - Epoch [53/60], Step [100/101], Loss: 0.0592\n",
      "Validation - Epoch [53/60], Loss: 0.3505, Accuracy: 0.9431\n",
      "Epoch 54\n",
      "-------------------------------\n",
      "Training - Epoch [54/60], Step [10/101], Loss: 0.0015\n",
      "Training - Epoch [54/60], Step [20/101], Loss: 0.0006\n",
      "Training - Epoch [54/60], Step [30/101], Loss: 0.0007\n",
      "Training - Epoch [54/60], Step [40/101], Loss: 0.0035\n",
      "Training - Epoch [54/60], Step [50/101], Loss: 0.0064\n",
      "Training - Epoch [54/60], Step [60/101], Loss: 0.0082\n",
      "Training - Epoch [54/60], Step [70/101], Loss: 0.0818\n",
      "Training - Epoch [54/60], Step [80/101], Loss: 0.1315\n",
      "Training - Epoch [54/60], Step [90/101], Loss: 0.0442\n",
      "Training - Epoch [54/60], Step [100/101], Loss: 0.0078\n",
      "Validation - Epoch [54/60], Loss: 0.1707, Accuracy: 0.9627\n",
      "Epoch 55\n",
      "-------------------------------\n",
      "Training - Epoch [55/60], Step [10/101], Loss: 0.4008\n",
      "Training - Epoch [55/60], Step [20/101], Loss: 0.0330\n",
      "Training - Epoch [55/60], Step [30/101], Loss: 0.0252\n",
      "Training - Epoch [55/60], Step [40/101], Loss: 0.0097\n",
      "Training - Epoch [55/60], Step [50/101], Loss: 0.0133\n",
      "Training - Epoch [55/60], Step [60/101], Loss: 0.0283\n",
      "Training - Epoch [55/60], Step [70/101], Loss: 0.1392\n",
      "Training - Epoch [55/60], Step [80/101], Loss: 0.0966\n",
      "Training - Epoch [55/60], Step [90/101], Loss: 0.0244\n",
      "Training - Epoch [55/60], Step [100/101], Loss: 0.0710\n",
      "Validation - Epoch [55/60], Loss: 0.4944, Accuracy: 0.9280\n",
      "Epoch 56\n",
      "-------------------------------\n",
      "Training - Epoch [56/60], Step [10/101], Loss: 0.2036\n",
      "Training - Epoch [56/60], Step [20/101], Loss: 0.1174\n",
      "Training - Epoch [56/60], Step [30/101], Loss: 0.0024\n",
      "Training - Epoch [56/60], Step [40/101], Loss: 0.0469\n",
      "Training - Epoch [56/60], Step [50/101], Loss: 0.0294\n",
      "Training - Epoch [56/60], Step [60/101], Loss: 0.0038\n",
      "Training - Epoch [56/60], Step [70/101], Loss: 0.0182\n",
      "Training - Epoch [56/60], Step [80/101], Loss: 0.0293\n",
      "Training - Epoch [56/60], Step [90/101], Loss: 0.0346\n",
      "Training - Epoch [56/60], Step [100/101], Loss: 0.0093\n",
      "Validation - Epoch [56/60], Loss: 0.2640, Accuracy: 0.9360\n",
      "Epoch 57\n",
      "-------------------------------\n",
      "Training - Epoch [57/60], Step [10/101], Loss: 0.0174\n",
      "Training - Epoch [57/60], Step [20/101], Loss: 0.0590\n",
      "Training - Epoch [57/60], Step [30/101], Loss: 0.0801\n",
      "Training - Epoch [57/60], Step [40/101], Loss: 0.0730\n",
      "Training - Epoch [57/60], Step [50/101], Loss: 0.0347\n",
      "Training - Epoch [57/60], Step [60/101], Loss: 0.0374\n",
      "Training - Epoch [57/60], Step [70/101], Loss: 0.1732\n",
      "Training - Epoch [57/60], Step [80/101], Loss: 0.0192\n",
      "Training - Epoch [57/60], Step [90/101], Loss: 0.0610\n",
      "Training - Epoch [57/60], Step [100/101], Loss: 0.1263\n",
      "Validation - Epoch [57/60], Loss: 2.0548, Accuracy: 0.7449\n",
      "Epoch 58\n",
      "-------------------------------\n",
      "Training - Epoch [58/60], Step [10/101], Loss: 0.0150\n",
      "Training - Epoch [58/60], Step [20/101], Loss: 0.0025\n",
      "Training - Epoch [58/60], Step [30/101], Loss: 0.0694\n",
      "Training - Epoch [58/60], Step [40/101], Loss: 0.0400\n",
      "Training - Epoch [58/60], Step [50/101], Loss: 0.0088\n",
      "Training - Epoch [58/60], Step [60/101], Loss: 0.0024\n",
      "Training - Epoch [58/60], Step [70/101], Loss: 0.1646\n",
      "Training - Epoch [58/60], Step [80/101], Loss: 0.1166\n",
      "Training - Epoch [58/60], Step [90/101], Loss: 0.0237\n",
      "Training - Epoch [58/60], Step [100/101], Loss: 0.0057\n",
      "Validation - Epoch [58/60], Loss: 0.6175, Accuracy: 0.8916\n",
      "Epoch 59\n",
      "-------------------------------\n",
      "Training - Epoch [59/60], Step [10/101], Loss: 0.0558\n",
      "Training - Epoch [59/60], Step [20/101], Loss: 0.0404\n",
      "Training - Epoch [59/60], Step [30/101], Loss: 0.0021\n",
      "Training - Epoch [59/60], Step [40/101], Loss: 0.0175\n",
      "Training - Epoch [59/60], Step [50/101], Loss: 0.0114\n",
      "Training - Epoch [59/60], Step [60/101], Loss: 0.0646\n",
      "Training - Epoch [59/60], Step [70/101], Loss: 0.0483\n",
      "Training - Epoch [59/60], Step [80/101], Loss: 0.0137\n",
      "Training - Epoch [59/60], Step [90/101], Loss: 0.0055\n",
      "Training - Epoch [59/60], Step [100/101], Loss: 0.0045\n",
      "Validation - Epoch [59/60], Loss: 0.1930, Accuracy: 0.9484\n",
      "Epoch 60\n",
      "-------------------------------\n",
      "Training - Epoch [60/60], Step [10/101], Loss: 0.0999\n",
      "Training - Epoch [60/60], Step [20/101], Loss: 0.0049\n",
      "Training - Epoch [60/60], Step [30/101], Loss: 0.0022\n",
      "Training - Epoch [60/60], Step [40/101], Loss: 0.0121\n",
      "Training - Epoch [60/60], Step [50/101], Loss: 0.0915\n",
      "Training - Epoch [60/60], Step [60/101], Loss: 0.0116\n",
      "Training - Epoch [60/60], Step [70/101], Loss: 0.0094\n",
      "Training - Epoch [60/60], Step [80/101], Loss: 0.0003\n",
      "Training - Epoch [60/60], Step [90/101], Loss: 0.0010\n",
      "Training - Epoch [60/60], Step [100/101], Loss: 0.0128\n",
      "Validation - Epoch [60/60], Loss: 0.1335, Accuracy: 0.9671\n"
     ]
    }
   ],
   "source": [
    "# Define the loss function\n",
    "criterion = torch.nn.CrossEntropyLoss()\n",
    "\n",
    "# Define the optimizer\n",
    "optimizer = torch.optim.Adam(model.parameters(), lr=0.001)\n",
    "\n",
    "# Training loop\n",
    "num_epochs = 60\n",
    "best_val_loss = float('inf')\n",
    "\n",
    "# Lists to store training and validation metrics for plotting\n",
    "train_losses = []\n",
    "train_accuracies = []\n",
    "val_losses = []\n",
    "val_accuracies = []\n",
    "\n",
    "# Set the model to training mode\n",
    "model.train()\n",
    "\n",
    "# Start the training loop\n",
    "start_time = time.time()\n",
    "for epoch in range(num_epochs):\n",
    "    print(f'Epoch {epoch + 1}\\n-------------------------------')\n",
    "    # Training phase\n",
    "    model.train()\n",
    "    train_loss = 0.0\n",
    "    correct_train = 0\n",
    "    total_train = 0\n",
    "    for i, (inputs, labels) in enumerate(train_loader):\n",
    "        inputs = inputs.to(device)\n",
    "        labels = labels.to(device)\n",
    "\n",
    "        # Forward pass\n",
    "        outputs = model(inputs)\n",
    "        loss = criterion(outputs, labels)\n",
    "\n",
    "        # Backward pass\n",
    "        optimizer.zero_grad()\n",
    "        loss.backward()\n",
    "        optimizer.step()\n",
    "\n",
    "        train_loss += loss.item() * inputs.size(0)\n",
    "        \n",
    "        # Calculate accuracy\n",
    "        _, predicted = torch.max(outputs, 1)\n",
    "        total_train += labels.size(0)\n",
    "        correct_train += (predicted == labels).sum().item()\n",
    "\n",
    "        # Print training statistics\n",
    "        if (i + 1) % 10 == 0:\n",
    "            print(f'Training - Epoch [{epoch + 1}/{num_epochs}], Step [{i + 1}/{len(train_loader)}], Loss: {loss.item():.4f}')\n",
    "\n",
    "    # Calculate average training loss and accuracy\n",
    "    train_loss /= len(train_loader.dataset)\n",
    "    train_accuracy = correct_train / total_train\n",
    "    train_losses.append(train_loss)\n",
    "    train_accuracies.append(train_accuracy)\n",
    "    \n",
    "    # Validation phase\n",
    "    model.eval()\n",
    "    val_loss = 0.0\n",
    "    correct_val = 0\n",
    "    total_val = 0\n",
    "    with torch.no_grad():\n",
    "        for i, (inputs, labels) in enumerate(val_loader):\n",
    "            inputs = inputs.to(device)\n",
    "            labels = labels.to(device)\n",
    "\n",
    "            # Forward pass\n",
    "            outputs = model(inputs)\n",
    "            loss = criterion(outputs, labels)\n",
    "\n",
    "            val_loss += loss.item() * inputs.size(0)\n",
    "\n",
    "            # Calculate accuracy\n",
    "            _, predicted = torch.max(outputs, 1)\n",
    "            total_val += labels.size(0)\n",
    "            correct_val += (predicted == labels).sum().item()\n",
    "\n",
    "    # Print validation statistics\n",
    "    val_loss /= len(val_loader.dataset)\n",
    "    val_accuracy = correct_val / total_val\n",
    "    val_losses.append(val_loss)\n",
    "    val_accuracies.append(val_accuracy)\n",
    "    print(f'Validation - Epoch [{epoch + 1}/{num_epochs}], Loss: {val_loss:.4f}, Accuracy: {val_accuracy:.4f}')\n",
    "\n",
    "    # Save the model if validation loss decreases\n",
    "    if val_loss < best_val_loss:\n",
    "        best_val_loss = val_loss\n",
    "        torch.save(model.state_dict(), f'../../models/{scope}/{model_name}_font_classifier_{type}.pth')\n",
    "        print(f'Model saved as {model_name}_font_classifier_{type}.pth')\n",
    "\n",
    "end_time = time.time()"
   ],
   "metadata": {
    "collapsed": false,
    "ExecuteTime": {
     "end_time": "2024-04-29T14:37:41.392365Z",
     "start_time": "2024-04-29T14:13:35.588760Z"
    }
   },
   "id": "126f35f98051a02a",
   "execution_count": 7
  },
  {
   "cell_type": "markdown",
   "source": [
    "# Plot the training and validation metrics"
   ],
   "metadata": {
    "collapsed": false
   },
   "id": "2f8d840ac9117197"
  },
  {
   "cell_type": "code",
   "outputs": [
    {
     "data": {
      "text/plain": "<Figure size 1200x500 with 2 Axes>",
      "image/png": "[encoded data removed]"
     },
     "metadata": {},
     "output_type": "display_data"
    },
    {
     "name": "stdout",
     "output_type": "stream",
     "text": [
      "Finished Training\n",
      "Time taken for training: 1445.79 seconds\n",
      "Medium time per epoch: 24.10 seconds\n"
     ]
    }
   ],
   "source": [
    "# Plotting\n",
    "plt.figure(figsize=(12, 5))\n",
    "plt.subplot(1, 2, 1)\n",
    "plt.plot(range(1, num_epochs + 1), train_losses, label='Training Loss')\n",
    "plt.plot(range(1, num_epochs + 1), val_losses, label='Validation Loss')\n",
    "plt.xlabel('Epochs')\n",
    "plt.ylabel('Loss')\n",
    "plt.title('Training and Validation Loss')\n",
    "plt.legend()\n",
    "\n",
    "plt.subplot(1, 2, 2)\n",
    "plt.plot(range(1, num_epochs + 1), train_accuracies, label='Training Accuracy')\n",
    "plt.plot(range(1, num_epochs + 1), val_accuracies, label='Validation Accuracy')\n",
    "plt.xlabel('Epochs')\n",
    "plt.ylabel('Accuracy')\n",
    "plt.title('Training and Validation Accuracy')\n",
    "plt.legend()\n",
    "\n",
    "plt.tight_layout()\n",
    "plt.show()\n",
    "\n",
    "print('Finished Training')\n",
    "\n",
    "# Print the time taken for training\n",
    "print(f'Time taken for training: {end_time - start_time:.2f} seconds')\n",
    "## Print medium time per epoch\n",
    "print(f'Medium time per epoch: {(end_time - start_time)/num_epochs:.2f} seconds')"
   ],
   "metadata": {
    "collapsed": false,
    "ExecuteTime": {
     "end_time": "2024-04-29T14:37:41.777365Z",
     "start_time": "2024-04-29T14:37:41.394365Z"
    }
   },
   "id": "2fb4051fe48bcb0f",
   "execution_count": 8
  },
  {
   "cell_type": "markdown",
   "source": [
    "# Evaluate the model"
   ],
   "metadata": {
    "collapsed": false
   },
   "id": "5d1120839a43965"
  },
  {
   "cell_type": "markdown",
   "source": [
    "## Load the model"
   ],
   "metadata": {
    "collapsed": false
   },
   "id": "f38ec7e7c9fc2bd2"
  },
  {
   "cell_type": "code",
   "outputs": [
    {
     "name": "stdout",
     "output_type": "stream",
     "text": [
      "Model loaded from ../../models/DatasetSize/mobilenet_v3_small_font_classifier_500.pth\n"
     ]
    }
   ],
   "source": [
    "# Load the model\n",
    "model_path = f'../../models/{scope}/{model_name}_font_classifier_{type}.pth'\n",
    "model = models.__dict__[model_name](weights=None)\n",
    "model.load_state_dict(torch.load(model_path))\n",
    "model = model.to(device)\n",
    "print(f'Model loaded from {model_path}')"
   ],
   "metadata": {
    "collapsed": false,
    "ExecuteTime": {
     "end_time": "2024-04-29T14:37:41.854364Z",
     "start_time": "2024-04-29T14:37:41.778364Z"
    }
   },
   "id": "2d59abb3cc4d4ab1",
   "execution_count": 9
  },
  {
   "cell_type": "markdown",
   "source": [
    "## Evaluate the model\n",
    "Evaluate the model using the test set. We will compute the accuracy, precision, recall, F1-score, confusion matrix, and ROC curve."
   ],
   "metadata": {
    "collapsed": false
   },
   "id": "c4fb0a8cc4c7aaaf"
  },
  {
   "cell_type": "code",
   "outputs": [],
   "source": [
    "# Set the model to evaluation mode\n",
    "model.eval()\n",
    "\n",
    "# Initialize lists for true labels and predicted labels\n",
    "true_labels = []\n",
    "predicted_labels = []\n",
    "\n",
    "# Disable gradient computation for evaluation\n",
    "with torch.no_grad():\n",
    "    for images, labels in test_loader:\n",
    "        images = images.to(device)\n",
    "        labels = labels.to(device)\n",
    "\n",
    "        # Perform inference\n",
    "        outputs = model(images)\n",
    "        \n",
    "        # Compute predicted labels\n",
    "        _, predicted = torch.max(outputs.data, 1)\n",
    "        \n",
    "        # Append true and predicted labels to lists\n",
    "        true_labels.extend(labels.cpu().numpy())\n",
    "        predicted_labels.extend(predicted.cpu().numpy())\n",
    "\n",
    "# Convert lists to numpy arrays\n",
    "true_labels = np.array(true_labels)\n",
    "predicted_labels = np.array(predicted_labels)"
   ],
   "metadata": {
    "collapsed": false,
    "ExecuteTime": {
     "end_time": "2024-04-29T14:37:45.674287Z",
     "start_time": "2024-04-29T14:37:41.855365Z"
    }
   },
   "id": "d94dccfec1ca328d",
   "execution_count": 10
  },
  {
   "cell_type": "markdown",
   "source": [
    "## Compute metrics\n",
    "### Accuracy"
   ],
   "metadata": {
    "collapsed": false
   },
   "id": "7fc2137e6729efa2"
  },
  {
   "cell_type": "code",
   "outputs": [
    {
     "name": "stdout",
     "output_type": "stream",
     "text": [
      "Accuracy: 97.60%\n"
     ]
    }
   ],
   "source": [
    "accuracy = accuracy_score(true_labels, predicted_labels)\n",
    "print('Accuracy: {:.2f}%'.format(100 * accuracy))"
   ],
   "metadata": {
    "collapsed": false,
    "ExecuteTime": {
     "end_time": "2024-04-29T14:37:45.689288Z",
     "start_time": "2024-04-29T14:37:45.675288Z"
    }
   },
   "id": "101581d76f4e9326",
   "execution_count": 11
  },
  {
   "cell_type": "markdown",
   "source": [
    "### Precision"
   ],
   "metadata": {
    "collapsed": false
   },
   "id": "8c872a168687bbb9"
  },
  {
   "cell_type": "code",
   "outputs": [
    {
     "name": "stdout",
     "output_type": "stream",
     "text": [
      "Precision: 0.98\n"
     ]
    }
   ],
   "source": [
    "precision = precision_score(true_labels, predicted_labels, average='weighted')\n",
    "print('Precision: {:.2f}'.format(precision))"
   ],
   "metadata": {
    "collapsed": false,
    "ExecuteTime": {
     "end_time": "2024-04-29T14:37:45.705287Z",
     "start_time": "2024-04-29T14:37:45.690288Z"
    }
   },
   "id": "c0a1514893d52da3",
   "execution_count": 12
  },
  {
   "cell_type": "markdown",
   "source": [
    "### Recall"
   ],
   "metadata": {
    "collapsed": false
   },
   "id": "2d6709ac0ed49e7d"
  },
  {
   "cell_type": "code",
   "outputs": [
    {
     "name": "stdout",
     "output_type": "stream",
     "text": [
      "Recall: 0.98\n"
     ]
    }
   ],
   "source": [
    "recall = recall_score(true_labels, predicted_labels, average='weighted')\n",
    "print('Recall: {:.2f}'.format(recall))"
   ],
   "metadata": {
    "collapsed": false,
    "ExecuteTime": {
     "end_time": "2024-04-29T14:37:45.720287Z",
     "start_time": "2024-04-29T14:37:45.706288Z"
    }
   },
   "id": "cbe9cce2d6d4b849",
   "execution_count": 13
  },
  {
   "cell_type": "markdown",
   "source": [
    "### F1-score"
   ],
   "metadata": {
    "collapsed": false
   },
   "id": "a6a9ab8eaf4a00c9"
  },
  {
   "cell_type": "code",
   "outputs": [
    {
     "name": "stdout",
     "output_type": "stream",
     "text": [
      "F1-score: 0.98\n"
     ]
    }
   ],
   "source": [
    "f1 = f1_score(true_labels, predicted_labels, average='weighted')\n",
    "print('F1-score: {:.2f}'.format(f1))"
   ],
   "metadata": {
    "collapsed": false,
    "ExecuteTime": {
     "end_time": "2024-04-29T14:37:45.735288Z",
     "start_time": "2024-04-29T14:37:45.721288Z"
    }
   },
   "id": "2a87268c3e7e9e88",
   "execution_count": 14
  },
  {
   "cell_type": "markdown",
   "source": [
    "### Confusion matrix"
   ],
   "metadata": {
    "collapsed": false
   },
   "id": "3687c7ed9e290b52"
  },
  {
   "cell_type": "code",
   "outputs": [
    {
     "name": "stdout",
     "output_type": "stream",
     "text": [
      "Confusion Matrix:\n"
     ]
    },
    {
     "data": {
      "text/plain": "<Figure size 640x480 with 1 Axes>",
      "image/png": "[encoded data removed]"
     },
     "metadata": {},
     "output_type": "display_data"
    }
   ],
   "source": [
    "conf_matrix = confusion_matrix(true_labels, predicted_labels)\n",
    "print(f'Confusion Matrix:')\n",
    "sns.heatmap(conf_matrix, annot=True, cmap='Blues', fmt='g', cbar=False, xticklabels=class_names, yticklabels=class_names)\n",
    "plt.title('Confusion Matrix')\n",
    "plt.xlabel('Predicted Label')\n",
    "plt.ylabel('True Label')\n",
    "plt.show()"
   ],
   "metadata": {
    "collapsed": false,
    "ExecuteTime": {
     "end_time": "2024-04-29T14:37:46.274287Z",
     "start_time": "2024-04-29T14:37:45.736287Z"
    }
   },
   "id": "6a06849bad215169",
   "execution_count": 15
  },
  {
   "cell_type": "markdown",
   "source": [
    "### ROC curve"
   ],
   "metadata": {
    "collapsed": false
   },
   "id": "8f7a1268072e6e09"
  },
  {
   "cell_type": "code",
   "outputs": [
    {
     "data": {
      "text/plain": "[<matplotlib.lines.Line2D at 0x1e6f0d3f250>]"
     },
     "execution_count": 16,
     "metadata": {},
     "output_type": "execute_result"
    },
    {
     "data": {
      "text/plain": "<Figure size 640x480 with 1 Axes>",
      "image/png": "[encoded data removed]"
     },
     "metadata": {},
     "output_type": "display_data"
    }
   ],
   "source": [
    "# Binarize the true labels\n",
    "true_labels_binarized = label_binarize(true_labels, classes=range(len(class_names)))\n",
    "\n",
    "# Binarize the predicted labels\n",
    "predicted_labels_binarized = label_binarize(predicted_labels, classes=range(len(class_names)))\n",
    "\n",
    "# Compute the ROC curve\n",
    "fpr = dict()\n",
    "tpr = dict()\n",
    "roc_auc = dict()\n",
    "for i in range(len(class_names)):\n",
    "    fpr[i], tpr[i], _ = roc_curve(true_labels_binarized[:, i], predicted_labels_binarized[:, i])\n",
    "    roc_auc[i] = auc(fpr[i], tpr[i])\n",
    "    \n",
    "# Plot the ROC curve\n",
    "plt.figure()\n",
    "for i in range(len(class_names)):\n",
    "    plt.plot(fpr[i], tpr[i], lw=2, label=f'ROC curve for class {class_names[i]} (area = {roc_auc[i]:0.2f})')\n",
    "plt.plot([0, 1], [0, 1], 'k--', lw=2)"
   ],
   "metadata": {
    "collapsed": false,
    "ExecuteTime": {
     "end_time": "2024-04-29T14:37:46.427286Z",
     "start_time": "2024-04-29T14:37:46.275288Z"
    }
   },
   "id": "6c7b4767f613c314",
   "execution_count": 16
  },
  {
   "cell_type": "markdown",
   "source": [],
   "metadata": {
    "collapsed": false
   },
   "id": "c4d8c6f85ef0d72c"
  }
 ],
 "metadata": {
  "kernelspec": {
   "display_name": "Python 3",
   "language": "python",
   "name": "python3"
  },
  "language_info": {
   "codemirror_mode": {
    "name": "ipython",
    "version": 2
   },
   "file_extension": ".py",
   "mimetype": "text/x-python",
   "name": "python",
   "nbconvert_exporter": "python",
   "pygments_lexer": "ipython2",
   "version": "2.7.6"
  }
 },
 "nbformat": 4,
 "nbformat_minor": 5
}
